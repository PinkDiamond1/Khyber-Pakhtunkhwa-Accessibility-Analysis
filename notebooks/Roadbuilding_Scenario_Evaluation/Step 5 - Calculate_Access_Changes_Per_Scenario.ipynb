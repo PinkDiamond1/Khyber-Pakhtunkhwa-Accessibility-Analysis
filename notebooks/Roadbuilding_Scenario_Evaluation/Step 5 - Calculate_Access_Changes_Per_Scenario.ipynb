{
 "cells": [
  {
   "cell_type": "markdown",
   "metadata": {},
   "source": [
    "# Calculating differences between accessibility scenarios"
   ]
  },
  {
   "cell_type": "markdown",
   "metadata": {},
   "source": [
    "This notebook outlines a process to loop through a collection of accessibility rasters for each investment scenario and quantify the difference in accessibility associated with each relative to a comparison set of accessibility rasters."
   ]
  },
  {
   "cell_type": "markdown",
   "metadata": {
    "tags": []
   },
   "source": [
    "## Imports"
   ]
  },
  {
   "cell_type": "code",
   "execution_count": 4,
   "metadata": {},
   "outputs": [],
   "source": [
    "import os, sys, glob\n",
    "import re\n",
    "from datetime import date\n",
    "\n",
    "from datetime import datetime\n",
    "\n",
    "import pprint\n",
    "from pprint import pprint\n",
    "from itertools import islice\n",
    "\n",
    "import common_rasterio_ops as rast_ops\n",
    "\n",
    "import rasterio\n",
    "from rasterio import features, transform\n",
    "from rasterio.mask import mask\n",
    "from rasterio.transform import Affine\n",
    "from rasterio.io import MemoryFile\n",
    "\n",
    "import numpy as np\n",
    "from numpy import ma\n",
    "import pandas as pd\n",
    "import geopandas as gpd\n",
    "\n",
    "import shapely\n",
    "from shapely.geometry import shape, box, Polygon\n",
    "\n",
    "sys.path.append('../../src/')\n",
    "from gostrocks.src.GOSTRocks.misc import tPrint"
   ]
  },
  {
   "cell_type": "markdown",
   "metadata": {
    "tags": []
   },
   "source": [
    "## Setup"
   ]
  },
  {
   "cell_type": "markdown",
   "metadata": {},
   "source": [
    "File paths"
   ]
  },
  {
   "cell_type": "code",
   "execution_count": 5,
   "metadata": {},
   "outputs": [],
   "source": [
    "geo_pth = r'P:\\PAK\\GEO'\n",
    "data_dir = r'../../data'\n",
    "\n",
    "rds_dir = r'roads'\n",
    "acc_dir = r'access'\n",
    "tab_dir = r'tabular'\n",
    "\n",
    "dif_dir = r'access//difs'\n",
    "ph_dir = r'access//personhours'"
   ]
  },
  {
   "cell_type": "markdown",
   "metadata": {},
   "source": [
    "Dates"
   ]
  },
  {
   "cell_type": "code",
   "execution_count": 6,
   "metadata": {},
   "outputs": [],
   "source": [
    "today = date.today().strftime(\"%d%m%y\")"
   ]
  },
  {
   "cell_type": "code",
   "execution_count": 7,
   "metadata": {},
   "outputs": [],
   "source": [
    "data_date = '211028'"
   ]
  },
  {
   "cell_type": "markdown",
   "metadata": {},
   "source": [
    "Projections"
   ]
  },
  {
   "cell_type": "code",
   "execution_count": 8,
   "metadata": {},
   "outputs": [],
   "source": [
    "dest_crs = 'EPSG:32642'"
   ]
  },
  {
   "cell_type": "markdown",
   "metadata": {},
   "source": [
    "Resolution of rasters"
   ]
  },
  {
   "cell_type": "code",
   "execution_count": 9,
   "metadata": {},
   "outputs": [],
   "source": [
    "res = '31m'"
   ]
  },
  {
   "cell_type": "markdown",
   "metadata": {
    "tags": []
   },
   "source": [
    "## Load in files"
   ]
  },
  {
   "cell_type": "code",
   "execution_count": 18,
   "metadata": {},
   "outputs": [],
   "source": [
    "# populate lists\n",
    "\n",
    "proposed_road_list = sorted([os.path.join(data_dir,acc_dir, f'upgrade//{res}', f) \n",
    "               for f in os.listdir(os.path.join(data_dir,acc_dir,f'upgrade//{res}')) \\\n",
    "#                if 'dry' in f]) # example filtering code\n",
    "               if f.endswith(\".tif\")])\n",
    "\n",
    "status_quo_road_list = sorted([os.path.join(data_dir,acc_dir, f'current//master', f) \n",
    "               for f in os.listdir(os.path.join(data_dir,acc_dir,f'current//master')) \n",
    "#                if 'dry' in f and 'walk' not in f]) # example filtering code\n",
    "               if f.endswith(\".tif\") and 'walk' not in f])\n",
    "\n",
    "# remove any extraneous files\n",
    "status_quo_road_list.remove('../../data\\\\access\\\\current//master\\\\DEM_KPK_UTM.tif')"
   ]
  },
  {
   "cell_type": "code",
   "execution_count": 19,
   "metadata": {},
   "outputs": [
    {
     "data": {
      "text/plain": [
       "5688"
      ]
     },
     "execution_count": 19,
     "metadata": {},
     "output_type": "execute_result"
    }
   ],
   "source": [
    "len(proposed_road_list)"
   ]
  },
  {
   "cell_type": "code",
   "execution_count": 20,
   "metadata": {},
   "outputs": [],
   "source": [
    "# # Remove roads already evaluated, if doing this in stages. If doing this all at once, ignore\n",
    "# # make a list of roads IDs for roads already evaluated/processed, captured in an outside CSV\n",
    "\n",
    "# processed_rds = pd.read_csv(os.path.join(data_dir,tab_dir,f'final//roads_evaluation_data_combined_211208.csv'))\n",
    "# exclusion_lst = list(processed_rds.Road_ID.astype(str))\n",
    "\n",
    "# # filter down proposed_roads_list using exclusion_lst\n",
    "# proposed_road_list = [file for file in proposed_road_list \\\n",
    "#                         if re.search('^[0-9]+',os.path.basename(file))[0] not in exclusion_lst]\n",
    "\n",
    "# print(len(exclusion_lst))"
   ]
  },
  {
   "cell_type": "code",
   "execution_count": 21,
   "metadata": {},
   "outputs": [
    {
     "data": {
      "text/plain": [
       "5688"
      ]
     },
     "execution_count": 21,
     "metadata": {},
     "output_type": "execute_result"
    }
   ],
   "source": [
    "len(proposed_road_list)"
   ]
  },
  {
   "cell_type": "code",
   "execution_count": 22,
   "metadata": {},
   "outputs": [
    {
     "data": {
      "text/plain": [
       "['../../data\\\\access\\\\upgrade//31m\\\\10_LowerChitral_upgrade_dry_District_HQs_access.tif',\n",
       " '../../data\\\\access\\\\upgrade//31m\\\\12_Kohistan_upgrade_dry_education_boys_middle_access.tif',\n",
       " '../../data\\\\access\\\\upgrade//31m\\\\14_Kohistan_upgrade_dry_education_high_access.tif',\n",
       " '../../data\\\\access\\\\upgrade//31m\\\\17_Torghar_upgrade_dry_health_private_access.tif',\n",
       " '../../data\\\\access\\\\upgrade//31m\\\\19_Hangu_upgrade_msn_District_HQs_access.tif',\n",
       " '../../data\\\\access\\\\upgrade//31m\\\\20_Hangu_upgrade_msn_education_boys_middle_access.tif',\n",
       " '../../data\\\\access\\\\upgrade//31m\\\\22_Hangu_upgrade_msn_education_high_access.tif',\n",
       " '../../data\\\\access\\\\upgrade//31m\\\\24_Karak_upgrade_msn_health_private_access.tif',\n",
       " '../../data\\\\access\\\\upgrade//31m\\\\26_Karak_upgrade_winter_District_HQs_access.tif',\n",
       " '../../data\\\\access\\\\upgrade//31m\\\\28_Karak_upgrade_winter_education_boys_middle_access.tif',\n",
       " '../../data\\\\access\\\\upgrade//31m\\\\30_Karak_upgrade_winter_education_high_access.tif',\n",
       " '../../data\\\\access\\\\upgrade//31m\\\\32_Karak_upgrade_winter_health_private_access.tif',\n",
       " '../../data\\\\access\\\\upgrade//31m\\\\35_Karak_upgrade_dry_District_HQs_access.tif',\n",
       " '../../data\\\\access\\\\upgrade//31m\\\\37_Karak_upgrade_dry_education_boys_middle_access.tif',\n",
       " '../../data\\\\access\\\\upgrade//31m\\\\39_Karak_upgrade_dry_education_high_access.tif',\n",
       " '../../data\\\\access\\\\upgrade//31m\\\\40_Karak_upgrade_dry_health_private_access.tif',\n",
       " '../../data\\\\access\\\\upgrade//31m\\\\42_Karak_upgrade_msn_District_HQs_access.tif',\n",
       " '../../data\\\\access\\\\upgrade//31m\\\\44_Karak_upgrade_msn_education_boys_middle_access.tif',\n",
       " '../../data\\\\access\\\\upgrade//31m\\\\46_Bannu_upgrade_msn_education_high_access.tif',\n",
       " '../../data\\\\access\\\\upgrade//31m\\\\48_Bannu_upgrade_msn_health_private_access.tif',\n",
       " '../../data\\\\access\\\\upgrade//31m\\\\4_UpperChitral_upgrade_winter_District_HQs_access.tif',\n",
       " '../../data\\\\access\\\\upgrade//31m\\\\52_Laki_upgrade_winter_education_boys_middle_access.tif',\n",
       " '../../data\\\\access\\\\upgrade//31m\\\\55_Laki_upgrade_winter_education_high_access.tif',\n",
       " '../../data\\\\access\\\\upgrade//31m\\\\57_D.I.Khan_upgrade_winter_health_private_access.tif',\n",
       " '../../data\\\\access\\\\upgrade//31m\\\\5_UpperChitral_upgrade_dry_District_HQs_access.tif',\n",
       " '../../data\\\\access\\\\upgrade//31m\\\\61_Tank_upgrade_dry_education_boys_middle_access.tif',\n",
       " '../../data\\\\access\\\\upgrade//31m\\\\63_Tank_upgrade_dry_education_high_access.tif',\n",
       " '../../data\\\\access\\\\upgrade//31m\\\\65_UpperDir_upgrade_dry_health_private_access.tif',\n",
       " '../../data\\\\access\\\\upgrade//31m\\\\67_UpperDir_upgrade_msn_District_HQs_access.tif',\n",
       " '../../data\\\\access\\\\upgrade//31m\\\\70_Bajaur_upgrade_msn_education_boys_middle_access.tif',\n",
       " '../../data\\\\access\\\\upgrade//31m\\\\72_Bajaur_upgrade_msn_education_high_access.tif',\n",
       " '../../data\\\\access\\\\upgrade//31m\\\\74_Bajaur_upgrade_msn_health_private_access.tif',\n",
       " '../../data\\\\access\\\\upgrade//31m\\\\77_Khuber_upgrade_winter_District_HQs_access.tif',\n",
       " '../../data\\\\access\\\\upgrade//31m\\\\7_LowerChitral_upgrade_winter_education_boys_middle_access.tif',\n",
       " '../../data\\\\access\\\\upgrade//31m\\\\81_Khuber_upgrade_winter_education_high_access.tif',\n",
       " '../../data\\\\access\\\\upgrade//31m\\\\83_Kurram_upgrade_winter_health_private_access.tif',\n",
       " '../../data\\\\access\\\\upgrade//31m\\\\86_NorthWaziristan_upgrade_dry_District_HQs_access.tif',\n",
       " '../../data\\\\access\\\\upgrade//31m\\\\8_LowerChitral_upgrade_dry_education_boys_middle_access.tif']"
      ]
     },
     "execution_count": 22,
     "metadata": {},
     "output_type": "execute_result"
    }
   ],
   "source": [
    "proposed_road_list[::150]"
   ]
  },
  {
   "cell_type": "code",
   "execution_count": 23,
   "metadata": {},
   "outputs": [
    {
     "data": {
      "text/plain": [
       "['../../data\\\\access\\\\current//master\\\\Current_dry_District_HQs.tif',\n",
       " '../../data\\\\access\\\\current//master\\\\Current_dry_education_girls_middle.tif',\n",
       " '../../data\\\\access\\\\current//master\\\\Current_dry_health_secondary.tif',\n",
       " '../../data\\\\access\\\\current//master\\\\Current_msn_education_boys_middle.tif',\n",
       " '../../data\\\\access\\\\current//master\\\\Current_msn_health_pharmacies.tif',\n",
       " '../../data\\\\access\\\\current//master\\\\Current_winter_education_allboys.tif',\n",
       " '../../data\\\\access\\\\current//master\\\\Current_winter_education_high.tif',\n",
       " '../../data\\\\access\\\\current//master\\\\Current_winter_markets_All.tif']"
      ]
     },
     "execution_count": 23,
     "metadata": {},
     "output_type": "execute_result"
    }
   ],
   "source": [
    "status_quo_road_list[::10]"
   ]
  },
  {
   "cell_type": "markdown",
   "metadata": {},
   "source": [
    "## Populate dictionaries for processing"
   ]
  },
  {
   "cell_type": "markdown",
   "metadata": {},
   "source": [
    "Most of the pertinent information for roads is included in their file names: e.g., `dry_hospitals_rd23_210701` indicates access to hospitals in the dry season for Road 23 <br> We want to create dictionaries from this information that we can later populate with access improvement statistics per road/season/service"
   ]
  },
  {
   "cell_type": "code",
   "execution_count": 25,
   "metadata": {},
   "outputs": [],
   "source": [
    "proposed_tifs = {}\n",
    "status_quo_tifs = {}\n",
    "\n",
    "for i in proposed_road_list:\n",
    "    \n",
    "    elements = re.search(r'([0-9]+)_(.*?)_upgrade_(.*?)_(.*?)_access',os.path.basename(i))\n",
    "    sn = int(elements[1])\n",
    "    district = elements[2]\n",
    "    season = elements[3]\n",
    "    service = elements[4]\n",
    "    full_id = str(sn) + '_' + season + '_' + service\n",
    "    \n",
    "    proposed_tifs[full_id] = {'acc_file': i,\\\n",
    "                           'season': season, 'service': service, 'road_id': sn, \\\n",
    "                           'status_quo' : '', 'absolute_improvement': '', 'relative_gain' : '',\\\n",
    "                           'clip_coords' : '', 'clip_gdf' : '',\\\n",
    "                           'SQ_acc_file' : '', 'dif_acc_file' : '', 'status_quo_file' : '', 'pop_dif_file' : ''}  \n",
    "\n",
    "    \n",
    "for i in status_quo_road_list:\n",
    "    \n",
    "    elements = re.search(r'Current_(.*?)_(.*?).tif',os.path.basename(i))\n",
    "    season = elements[1]\n",
    "    service = elements[2]\n",
    "    road_id = 'current'\n",
    "    full_id = season + '_' + service\n",
    "\n",
    "    status_quo_tifs[full_id] = {'acc_file': i,\\\n",
    "                           'season': season, 'service': service,\\\n",
    "                           'road_id': road_id, 'absolute_improvement': ''}"
   ]
  },
  {
   "cell_type": "code",
   "execution_count": 26,
   "metadata": {},
   "outputs": [
    {
     "name": "stdout",
     "output_type": "stream",
     "text": [
      "{'10_dry_District_HQs': {'SQ_acc_file': '',\n",
      "                         'absolute_improvement': '',\n",
      "                         'acc_file': '../../data\\\\access\\\\upgrade//31m\\\\10_LowerChitral_upgrade_dry_District_HQs_access.tif',\n",
      "                         'clip_coords': '',\n",
      "                         'clip_gdf': '',\n",
      "                         'dif_acc_file': '',\n",
      "                         'pop_dif_file': '',\n",
      "                         'relative_gain': '',\n",
      "                         'road_id': 10,\n",
      "                         'season': 'dry',\n",
      "                         'service': 'District_HQs',\n",
      "                         'status_quo': '',\n",
      "                         'status_quo_file': ''},\n",
      " '10_dry_Provincial_HQ': {'SQ_acc_file': '',\n",
      "                          'absolute_improvement': '',\n",
      "                          'acc_file': '../../data\\\\access\\\\upgrade//31m\\\\10_LowerChitral_upgrade_dry_Provincial_HQ_access.tif',\n",
      "                          'clip_coords': '',\n",
      "                          'clip_gdf': '',\n",
      "                          'dif_acc_file': '',\n",
      "                          'pop_dif_file': '',\n",
      "                          'relative_gain': '',\n",
      "                          'road_id': 10,\n",
      "                          'season': 'dry',\n",
      "                          'service': 'Provincial_HQ',\n",
      "                          'status_quo': '',\n",
      "                          'status_quo_file': ''}}\n"
     ]
    }
   ],
   "source": [
    "pprint(dict(islice(proposed_tifs.items(),2)))"
   ]
  },
  {
   "cell_type": "code",
   "execution_count": 27,
   "metadata": {},
   "outputs": [
    {
     "name": "stdout",
     "output_type": "stream",
     "text": [
      "{'dry_District_HQs': {'absolute_improvement': '',\n",
      "                      'acc_file': '../../data\\\\access\\\\current//master\\\\Current_dry_District_HQs.tif',\n",
      "                      'road_id': 'current',\n",
      "                      'season': 'dry',\n",
      "                      'service': 'District_HQs'},\n",
      " 'dry_Provincial_HQ': {'absolute_improvement': '',\n",
      "                       'acc_file': '../../data\\\\access\\\\current//master\\\\Current_dry_Provincial_HQ.tif',\n",
      "                       'road_id': 'current',\n",
      "                       'season': 'dry',\n",
      "                       'service': 'Provincial_HQ'}}\n"
     ]
    }
   ],
   "source": [
    "pprint(dict(islice(status_quo_tifs.items(),2)))"
   ]
  },
  {
   "cell_type": "markdown",
   "metadata": {
    "tags": []
   },
   "source": [
    "## Difference calculation"
   ]
  },
  {
   "cell_type": "markdown",
   "metadata": {},
   "source": [
    "This routine compares each proposed road sequence's accessibility surface to the status_quo accessibility surface and outputs a difference surface (in units of hours of travel)"
   ]
  },
  {
   "cell_type": "markdown",
   "metadata": {},
   "source": [
    "Activate a loop that calculates the difference in travel time to each service/season category between the post- and pre-investment states."
   ]
  },
  {
   "cell_type": "code",
   "execution_count": null,
   "metadata": {
    "tags": []
   },
   "outputs": [],
   "source": [
    "for SQ_idx, (key_e, value_e )in enumerate(status_quo_tifs.items()):\n",
    "\n",
    "    idx = 1 \n",
    "    \n",
    "    with rasterio.open(value_e['acc_file'], 'r') as SQ_src:\n",
    "        SQ_raw = SQ_src.read(1)\n",
    "        SQ_raw = np.where(SQ_raw > 72, 72, SQ_raw) # cap artificially high values, artifacts of modeling process\n",
    "        SQ_meta = SQ_src.profile\n",
    "        \n",
    "    # countdown\n",
    "    tPrint(f'{SQ_idx+1} of {len(status_quo_tifs)}, {key_e}')\n",
    "    \n",
    "    for prop_idx, (key_p, value_p) in enumerate(proposed_tifs.items()):\n",
    "\n",
    "        sn = value_p['road_id']\n",
    "        \n",
    "        # calculate difference when the season and service are same for status_quo and purposed rasters\n",
    "        if not value_p['clip_coords'] and value_e['season'] == value_p['season'] and value_e['service'] == value_p['service']:\n",
    "\n",
    "            with rasterio.open(value_p['acc_file']) as proposed_rd:\n",
    "                proposed_raw = proposed_rd.read(1)\n",
    "                proposed_raw = np.where(proposed_raw > 72, 72, proposed_raw)\n",
    "                proposed_meta = proposed_rd.profile\n",
    "                \n",
    "                # create a bbox for clipping\n",
    "                bds = proposed_rd.bounds\n",
    "                proposed_bbox = box(bds[0],bds[1],bds[2],bds[3])\n",
    "                \n",
    "            # clip the SQ_raw in memory to the extent of the proposed road's analysis area, to speed up processing\n",
    "            # trying to turn this into a function\n",
    "\n",
    "            SQ_mask, SQ_mask_tform = rast_ops.clip_in_memory(SQ_raw,SQ_meta,[proposed_bbox],reference_img=proposed_raw)\n",
    "            \n",
    "            # our friction surface clipping means that values at the edges of the fric surface are HIGHER b/c roads beyond the clip boundary are missing\n",
    "            # we assume that higher access values (times) for upgraded roads are always incorrect and remove them (so only equal and lower values are preserved)\n",
    "\n",
    "            proposed_raw = np.where((proposed_raw > SQ_mask), SQ_mask, proposed_raw)\n",
    "            \n",
    "            if np.nansum(np.subtract(SQ_mask,proposed_raw)) > 0:\n",
    "\n",
    "                dif, value_p['clip_coords'], value_p['clip_gdf'] = rast_ops.dif_clip_calc(SQ_mask, proposed_raw, SQ_mask_tform,dest_crs)\n",
    "\n",
    "                # Clip the difference array by the extent of the actual differences in the rasters\n",
    "                # use a MemoryFile to avoid lots of IO -- otherwise have to save down, then load back up.\n",
    "        \n",
    "                dif_clip_meta = proposed_meta.copy()\n",
    "                dif_clip_meta.update({\n",
    "                    \"height\" : dif.shape[0],\n",
    "                    \"width\" : dif.shape[1],\n",
    "                    \"transform\" : SQ_mask_tform\n",
    "                })\n",
    "            \n",
    "                # clip the status_quo and dif layers down to the actual extent of differences, to save on file space and I/O\n",
    "                dif_clip, dif_clip_tform = rast_ops.clip_in_memory(dif,dif_clip_meta,[value_p['clip_coords']],reference_img=None)\n",
    "                SQ_export, SQ_export_tform = rast_ops.clip_in_memory(SQ_raw,SQ_meta,[value_p['clip_coords']],reference_img=dif_clip)\n",
    "\n",
    "                # prepare clipped parameters for export\n",
    "                export_meta = proposed_meta.copy()\n",
    "                export_meta.update({\n",
    "                    \"blockxsize\": '16',\n",
    "                    \"blockxsize\": '16',\n",
    "                    \"height\": dif_clip.shape[0],\n",
    "                    \"width\": dif_clip.shape[1],\n",
    "                    \"transform\": dif_clip_tform\n",
    "                })\n",
    "\n",
    "                # Prepare file names and save them to the dict for use in the next step, multiplying by a population raster\n",
    "                \n",
    "                status_quo_acc_path = os.path.abspath(os.path.join(data_dir,dif_dir) + '/' + key_p + '_status_quo_access.tif')\n",
    "                dif_path = os.path.abspath(os.path.join(data_dir,dif_dir) + '/' + key_p + '_post_upgrade_access.tif')\n",
    "                \n",
    "                value_p['SQ_acc_file'] = status_quo_acc_path\n",
    "                value_p['dif_acc_file'] = dif_path\n",
    "\n",
    "                # write out clipped status_quo and proposed -- using proposed_meta for both\n",
    "    \n",
    "                with rasterio.open(status_quo_acc_path, \"w\", **export_meta) as out_status_quo_acc:\n",
    "                    out_status_quo_acc.write(SQ_export,indexes=1)  \n",
    "                \n",
    "                with rasterio.open(dif_path, \"w\", **export_meta) as out_dif:\n",
    "                    out_dif.write(dif_clip,indexes=1)   # ,indexes=1\n",
    "\n",
    "                # count up\n",
    "                idx += 1    \n",
    "\n",
    "            else:\n",
    "                None"
   ]
  },
  {
   "cell_type": "markdown",
   "metadata": {
    "tags": []
   },
   "source": [
    "## Calculate access improvement (person-hours) for each dif layer"
   ]
  },
  {
   "cell_type": "code",
   "execution_count": 91,
   "metadata": {},
   "outputs": [],
   "source": [
    "pop_fil_path = os.path.join(data_dir,r'rast_inputs//kp_general_v15_32642_aligned.tif')"
   ]
  },
  {
   "cell_type": "code",
   "execution_count": 92,
   "metadata": {
    "tags": []
   },
   "outputs": [
    {
     "name": "stdout",
     "output_type": "stream",
     "text": [
      "07:49:19\t1 of 24, dry_District_HQs\n",
      "07:49:19\t2 of 24, dry_Provincial_HQ\n",
      "07:49:19\t3 of 24, dry_education_allboys\n",
      "07:49:21\t4 of 24, dry_education_allgirls\n",
      "07:49:22\t5 of 24, dry_education_boys\n",
      "07:49:23\t6 of 24, dry_education_boys_high\n",
      "07:49:24\t7 of 24, dry_education_boys_middle\n",
      "07:49:26\t8 of 24, dry_education_boys_primary\n",
      "07:49:27\t9 of 24, dry_education_girls\n",
      "07:49:28\t10 of 24, dry_education_girls_high\n",
      "07:49:29\t11 of 24, dry_education_girls_middle\n",
      "07:49:31\t12 of 24, dry_education_girls_primary\n",
      "07:49:32\t13 of 24, dry_education_high\n",
      "07:49:32\t14 of 24, dry_education_middle\n",
      "07:49:33\t15 of 24, dry_education_primary\n",
      "07:49:35\t16 of 24, dry_health_family\n",
      "07:49:35\t17 of 24, dry_health_pharmacies\n",
      "07:49:36\t18 of 24, dry_health_primary\n",
      "07:49:37\t19 of 24, dry_health_private\n",
      "07:49:38\t20 of 24, dry_health_public\n",
      "07:49:40\t21 of 24, dry_health_secondary\n",
      "07:49:41\t22 of 24, dry_health_tertiary\n",
      "07:49:41\t23 of 24, dry_markets_All\n",
      "07:49:41\t24 of 24, dry_markets_Central\n"
     ]
    }
   ],
   "source": [
    "for SQ_idx, (key_e, value_e )in enumerate(status_quo_tifs.items()):\n",
    "\n",
    "    idx = 1 \n",
    "\n",
    "    # countdown\n",
    "    tPrint(f'{SQ_idx+1} of {len(status_quo_tifs)}, {key_e}')\n",
    "    \n",
    "    # opening pop file one time to avoid repeat IO\n",
    "    \n",
    "    with rasterio.open(pop_fil_path) as pop:\n",
    "\n",
    "        for prop_idx, (key_p, value_p) in enumerate(proposed_tifs.items()):\n",
    "\n",
    "            sn = value_p['road_id']\n",
    "        \n",
    "            # calculate difference when the season and service are same for status_quo and purposed rasters\n",
    "\n",
    "            if not value_p['absolute_improvement'] and value_e['season'] == value_p['season'] and value_e['service'] == value_p['service'] and value_p['dif_acc_file'] != '':\n",
    "\n",
    "            # Read in clipped status_quo and proposed layers\n",
    "\n",
    "                with rasterio.open(value_p['SQ_acc_file']) as SQ_acc_surf:\n",
    "                    SQ_acc = SQ_acc_surf.read()\n",
    "                    SQ_acc_meta = SQ_acc_surf.profile\n",
    "\n",
    "                with rasterio.open(value_p['dif_acc_file']) as proposed_rd:\n",
    "                    proposed_dif = proposed_rd.read()\n",
    "                    proposed_meta = proposed_rd.profile\n",
    "\n",
    "                # Read in population layer, clip by dif layer\n",
    "                    pop_clip, pop_clip_transform = mask(pop,[value_p['clip_coords']],crop=True)\n",
    "                    \n",
    "                    mask_meta = pop.profile\n",
    "                    mask_meta.update({\"driver\": \"GTiff\",\n",
    "                      \"height\": proposed_dif.shape[1],\n",
    "                      \"width\": proposed_dif.shape[2],\n",
    "                      \"transform\": pop_clip_transform})\n",
    "                    \n",
    "                    # sometimes the mask is padded with a null value, despite effort not to pad. Manually cut it down to the correct size\n",
    "                    pop_clip = rast_ops.reference_slicer(pop_clip,proposed_dif)\n",
    "\n",
    "                # Multiply the results by the underlying population, record the sums as the current and post-upgrade change in person_hours\n",
    "                # VERY IMPORTANT: This assumes the pop_clip is of the same resolution and shape as the proposed_dif.\n",
    "                # You must run the \"Align_Rasts\" notebook on the population data beforehand to ensure the resolution is aligned. The reference slicer will correct any padding issues\n",
    "                \n",
    "                if SQ_acc.shape != pop_clip.shape:\n",
    "                    SQ_acc = rast_ops.reference_slicer(SQ_acc,pop_clip)\n",
    "                    \n",
    "                if proposed_dif.shape != pop_clip.shape:\n",
    "                    proposed_dif = rast_ops.reference_slicer(proposed_dif,pop_clip)\n",
    "                    \n",
    "                ## current\n",
    "                SQ_acc = np.where(SQ_acc > 10000, 10, SQ_acc) # correct absurd values, artifacts of modeling process\n",
    "                current_person_hours = np.multiply(SQ_acc,pop_clip)\n",
    "                current_person_hours = current_person_hours.astype('float64')\n",
    "                current_person_hours[current_person_hours < 0] = 0 # change tiny negatives or null -99999 to 0 to avoid problems with calculations\n",
    "                value_p['status_quo'] = np.nansum(current_person_hours)\n",
    "                \n",
    "                ## change\n",
    "                proposed_dif = np.where(proposed_dif > 100, 10, proposed_dif) # correct absurd values, artifacts of modeling process\n",
    "                change_person_hours = np.multiply(proposed_dif,pop_clip)\n",
    "                change_person_hours = change_person_hours.astype('float64')\n",
    "                change_person_hours[change_person_hours < 0] = 0 # change tiny negatives or null -99999 to 0 to avoid problems with calculations\n",
    "                value_p['absolute_improvement'] = np.nansum(change_person_hours)\n",
    "\n",
    "                # Export final products\n",
    "\n",
    "                status_quo_ph_path = os.path.abspath(os.path.join(data_dir,ph_dir) + '/' + key_p + '_personhour_statusquo.tif')\n",
    "                change_ph_path = os.path.abspath(os.path.join(data_dir,ph_dir) + '/' + key_p + '_personhour_dif.tif')\n",
    "\n",
    "                value_p['status_quo_file'] = status_quo_ph_path # populating the paths makes it easier to trace back results to files for troubleshooting purposes\n",
    "                value_p['pop_dif_file'] = change_ph_path\n",
    "\n",
    "                with rasterio.open(status_quo_ph_path, \"w\", **mask_meta) as out_ph_SQ:\n",
    "                    out_ph_SQ.write(current_person_hours)\n",
    "                    \n",
    "                with rasterio.open(change_ph_path, \"w\", **mask_meta) as out_ph_dif:\n",
    "                    out_ph_dif.write(change_person_hours)\n",
    "\n",
    "                # count up\n",
    "                idx += 1\n",
    "                \n",
    "            else:\n",
    "                None"
   ]
  },
  {
   "cell_type": "markdown",
   "metadata": {},
   "source": [
    "Export the final dict as a pickle, just in case!"
   ]
  },
  {
   "cell_type": "code",
   "execution_count": 93,
   "metadata": {},
   "outputs": [],
   "source": [
    "today = datetime.today().strftime('%y%m%d')"
   ]
  },
  {
   "cell_type": "code",
   "execution_count": 94,
   "metadata": {},
   "outputs": [],
   "source": [
    "import pickle\n",
    "\n",
    "pickle.dump(proposed_tifs,open(os.path.join(data_dir,tab_dir,f'processed//proposed_tifs_{today}.pickle'),\"wb\"))"
   ]
  },
  {
   "cell_type": "markdown",
   "metadata": {
    "tags": []
   },
   "source": [
    "## Prepare and export final, tabular figures"
   ]
  },
  {
   "cell_type": "markdown",
   "metadata": {},
   "source": [
    "Generate sums from the dictionary"
   ]
  },
  {
   "cell_type": "code",
   "execution_count": 208,
   "metadata": {},
   "outputs": [
    {
     "name": "stderr",
     "output_type": "stream",
     "text": [
      "C:\\Users\\wb467985\\Anaconda3\\envs\\geo\\lib\\site-packages\\pyproj\\crs\\crs.py:292: FutureWarning: '+init=<authority>:<code>' syntax is deprecated. '<authority>:<code>' is the preferred initialization method. When making the change, be mindful of axis order changes: https://pyproj4.github.io/pyproj/stable/gotchas.html#axis-order-changes-in-proj-6\n",
      "  projstring = _prepare_from_string(projparams)\n"
     ]
    }
   ],
   "source": [
    "# prop_tifs_final = proposed_tifs.copy() # if skipping the pickling step\n",
    "prop_tifs_final = pickle.load(open(os.path.join(data_dir,tab_dir,f'processed//proposed_tifs_{today}.pickle'),'rb'))"
   ]
  },
  {
   "cell_type": "code",
   "execution_count": 209,
   "metadata": {},
   "outputs": [],
   "source": [
    "# rework dict to a dataframe and export a backup copy\n",
    "df = pd.DataFrame(prop_tifs_final)\n",
    "df = df.transpose()\n",
    "df.to_csv(os.path.join(data_dir,tab_dir,f'raw//raw_roads_data_{today}.csv'))"
   ]
  },
  {
   "cell_type": "code",
   "execution_count": 210,
   "metadata": {},
   "outputs": [
    {
     "data": {
      "text/plain": [
       "acc_file           object\n",
       "season             object\n",
       "service            object\n",
       "road_id            object\n",
       "status_quo         object\n",
       "person_hours       object\n",
       "relative_gain      object\n",
       "clip_coords        object\n",
       "clip_gdf           object\n",
       "exist_acc_file     object\n",
       "dif_acc_file       object\n",
       "status_quo_file    object\n",
       "pop_dif_file       object\n",
       "dtype: object"
      ]
     },
     "execution_count": 210,
     "metadata": {},
     "output_type": "execute_result"
    }
   ],
   "source": [
    "df.dtypes"
   ]
  },
  {
   "cell_type": "code",
   "execution_count": 219,
   "metadata": {},
   "outputs": [],
   "source": [
    "# clean up and calculate final improvement / status quo stats\n",
    "df['absolute_improvement'] = np.where(df.absolute_improvement == '', 0, df.absolute_improvement).astype(np.float32)\n",
    "df['status_quo'] = np.where(df.status_quo == '', 0, df.status_quo).astype(np.float32)\n",
    "df['relative_access_improvement'] = df['absolute_improvement'] / df['status_quo']"
   ]
  },
  {
   "cell_type": "markdown",
   "metadata": {},
   "source": [
    "Create wide datasets and join them to the proposed roads data"
   ]
  },
  {
   "cell_type": "code",
   "execution_count": 221,
   "metadata": {},
   "outputs": [],
   "source": [
    "# Prepare wide datasets\n",
    "# status quo\n",
    "\n",
    "sq = df[['season','service','road_id','status_quo']].reset_index()\n",
    "sq.rename({'status_quo':'access_status_quo','index':'full_string'},axis=1,inplace=True)\n",
    "sq.access_status_quo = sq.access_status_quo.replace({'':0}).astype(np.float32)\n",
    "\n",
    "sq_wide = sq.pivot_table(index = 'road_id',\\\n",
    "               columns=['season','service'],\\\n",
    "               values = 'access_status_quo')\n",
    "\n",
    "# relative access improvement\n",
    "\n",
    "rai = df[['season','service','road_id','absolute_improvement']].reset_index()\n",
    "rai.rename({'relative_improvement':'relative_access_improvement','index':'full_string'},axis=1,inplace=True)\n",
    "rai.access_improvement = rai.access_improvement.replace({'':0}).astype(np.float32)\n",
    "\n",
    "rai_wide = rai.pivot_table(index = 'road_id',\\\n",
    "               columns=['season','service'],\\\n",
    "               values = 'relative_access_improvement')\n",
    "\n",
    "# absolute access improvement\n",
    "\n",
    "aai = df[['season','service','road_id','absolute_improvement']].reset_index()\n",
    "aai.rename({'absolute_improvement':'absolute_access_improvement','index':'full_string'},axis=1,inplace=True)\n",
    "aai.access_improvement = aai.access_improvement.replace({'':0}).astype(np.float32)\n",
    "\n",
    "aai_wide = aai.pivot_table(index = 'road_id',\\\n",
    "               columns=['season','service'],\\\n",
    "               values = 'absolute_access_improvement')"
   ]
  },
  {
   "cell_type": "code",
   "execution_count": 222,
   "metadata": {},
   "outputs": [
    {
     "data": {
      "text/plain": [
       "full_string            object\n",
       "season                 object\n",
       "service                object\n",
       "road_id                object\n",
       "access_improvement    float32\n",
       "dtype: object"
      ]
     },
     "execution_count": 222,
     "metadata": {},
     "output_type": "execute_result"
    }
   ],
   "source": [
    "ai.dtypes"
   ]
  },
  {
   "cell_type": "code",
   "execution_count": 223,
   "metadata": {},
   "outputs": [
    {
     "data": {
      "text/html": [
       "<div>\n",
       "<style scoped>\n",
       "    .dataframe tbody tr th:only-of-type {\n",
       "        vertical-align: middle;\n",
       "    }\n",
       "\n",
       "    .dataframe tbody tr th {\n",
       "        vertical-align: top;\n",
       "    }\n",
       "\n",
       "    .dataframe thead tr th {\n",
       "        text-align: left;\n",
       "    }\n",
       "\n",
       "    .dataframe thead tr:last-of-type th {\n",
       "        text-align: right;\n",
       "    }\n",
       "</style>\n",
       "<table border=\"1\" class=\"dataframe\">\n",
       "  <thead>\n",
       "    <tr>\n",
       "      <th>season</th>\n",
       "      <th colspan=\"21\" halign=\"left\">dry</th>\n",
       "    </tr>\n",
       "    <tr>\n",
       "      <th>service</th>\n",
       "      <th>District_HQs</th>\n",
       "      <th>Provincial_HQ</th>\n",
       "      <th>education_allboys</th>\n",
       "      <th>education_allgirls</th>\n",
       "      <th>education_boys</th>\n",
       "      <th>education_boys_high</th>\n",
       "      <th>education_boys_middle</th>\n",
       "      <th>education_boys_primary</th>\n",
       "      <th>education_girls</th>\n",
       "      <th>education_girls_high</th>\n",
       "      <th>...</th>\n",
       "      <th>education_primary</th>\n",
       "      <th>health_family</th>\n",
       "      <th>health_pharmacies</th>\n",
       "      <th>health_primary</th>\n",
       "      <th>health_private</th>\n",
       "      <th>health_public</th>\n",
       "      <th>health_secondary</th>\n",
       "      <th>health_tertiary</th>\n",
       "      <th>markets_All</th>\n",
       "      <th>markets_Central</th>\n",
       "    </tr>\n",
       "    <tr>\n",
       "      <th>road_id</th>\n",
       "      <th></th>\n",
       "      <th></th>\n",
       "      <th></th>\n",
       "      <th></th>\n",
       "      <th></th>\n",
       "      <th></th>\n",
       "      <th></th>\n",
       "      <th></th>\n",
       "      <th></th>\n",
       "      <th></th>\n",
       "      <th></th>\n",
       "      <th></th>\n",
       "      <th></th>\n",
       "      <th></th>\n",
       "      <th></th>\n",
       "      <th></th>\n",
       "      <th></th>\n",
       "      <th></th>\n",
       "      <th></th>\n",
       "      <th></th>\n",
       "      <th></th>\n",
       "    </tr>\n",
       "  </thead>\n",
       "  <tbody>\n",
       "    <tr>\n",
       "      <th>1</th>\n",
       "      <td>1.035284e+06</td>\n",
       "      <td>5494312.5</td>\n",
       "      <td>168.504105</td>\n",
       "      <td>775.723999</td>\n",
       "      <td>168.504105</td>\n",
       "      <td>1807.461182</td>\n",
       "      <td>43734.132812</td>\n",
       "      <td>3678.591797</td>\n",
       "      <td>775.723999</td>\n",
       "      <td>13015.161133</td>\n",
       "      <td>...</td>\n",
       "      <td>157.388062</td>\n",
       "      <td>14916.991211</td>\n",
       "      <td>8443.415039</td>\n",
       "      <td>6787.449219</td>\n",
       "      <td>16224.124023</td>\n",
       "      <td>35514.628906</td>\n",
       "      <td>15710.167969</td>\n",
       "      <td>14888693.0</td>\n",
       "      <td>1.627323e+04</td>\n",
       "      <td>11211585.0</td>\n",
       "    </tr>\n",
       "    <tr>\n",
       "      <th>2</th>\n",
       "      <td>1.689520e+06</td>\n",
       "      <td>6939172.5</td>\n",
       "      <td>10629.712891</td>\n",
       "      <td>12685.552734</td>\n",
       "      <td>10629.712891</td>\n",
       "      <td>19078.341797</td>\n",
       "      <td>101762.195312</td>\n",
       "      <td>11217.901367</td>\n",
       "      <td>12685.552734</td>\n",
       "      <td>54482.664062</td>\n",
       "      <td>...</td>\n",
       "      <td>8610.329102</td>\n",
       "      <td>56340.351562</td>\n",
       "      <td>54930.535156</td>\n",
       "      <td>57795.226562</td>\n",
       "      <td>68734.031250</td>\n",
       "      <td>37670.597656</td>\n",
       "      <td>66571.718750</td>\n",
       "      <td>16611544.0</td>\n",
       "      <td>2.635565e+06</td>\n",
       "      <td>28946200.0</td>\n",
       "    </tr>\n",
       "    <tr>\n",
       "      <th>3</th>\n",
       "      <td>1.550664e+06</td>\n",
       "      <td>12034742.0</td>\n",
       "      <td>1891.750488</td>\n",
       "      <td>3259.136963</td>\n",
       "      <td>1891.750488</td>\n",
       "      <td>6823.868652</td>\n",
       "      <td>5461.372559</td>\n",
       "      <td>2050.009277</td>\n",
       "      <td>3259.136963</td>\n",
       "      <td>113598.429688</td>\n",
       "      <td>...</td>\n",
       "      <td>2006.568970</td>\n",
       "      <td>92196.734375</td>\n",
       "      <td>27986.630859</td>\n",
       "      <td>8784.625977</td>\n",
       "      <td>117987.484375</td>\n",
       "      <td>5512.084961</td>\n",
       "      <td>880414.750000</td>\n",
       "      <td>9974145.0</td>\n",
       "      <td>1.175497e+05</td>\n",
       "      <td>11211585.0</td>\n",
       "    </tr>\n",
       "    <tr>\n",
       "      <th>4</th>\n",
       "      <td>2.535394e+06</td>\n",
       "      <td>4773613.0</td>\n",
       "      <td>3324.003906</td>\n",
       "      <td>7857.154785</td>\n",
       "      <td>3324.003906</td>\n",
       "      <td>28965.160156</td>\n",
       "      <td>16418.210938</td>\n",
       "      <td>3617.860107</td>\n",
       "      <td>7857.154785</td>\n",
       "      <td>16715.947266</td>\n",
       "      <td>...</td>\n",
       "      <td>3569.731445</td>\n",
       "      <td>20431.742188</td>\n",
       "      <td>15053.243164</td>\n",
       "      <td>16317.101562</td>\n",
       "      <td>19534.412109</td>\n",
       "      <td>27829.070312</td>\n",
       "      <td>18302.658203</td>\n",
       "      <td>9965408.0</td>\n",
       "      <td>1.826460e+04</td>\n",
       "      <td>11211585.0</td>\n",
       "    </tr>\n",
       "    <tr>\n",
       "      <th>5</th>\n",
       "      <td>5.007174e+05</td>\n",
       "      <td>4201633.0</td>\n",
       "      <td>566.588928</td>\n",
       "      <td>622.045471</td>\n",
       "      <td>566.588928</td>\n",
       "      <td>29570.373047</td>\n",
       "      <td>2634.598389</td>\n",
       "      <td>570.408691</td>\n",
       "      <td>622.045471</td>\n",
       "      <td>1749.673462</td>\n",
       "      <td>...</td>\n",
       "      <td>548.164551</td>\n",
       "      <td>321780.156250</td>\n",
       "      <td>2031.076172</td>\n",
       "      <td>1783.548462</td>\n",
       "      <td>1818.155762</td>\n",
       "      <td>1546.508057</td>\n",
       "      <td>1625.170532</td>\n",
       "      <td>9969713.0</td>\n",
       "      <td>1.636591e+03</td>\n",
       "      <td>25922172.0</td>\n",
       "    </tr>\n",
       "  </tbody>\n",
       "</table>\n",
       "<p>5 rows × 24 columns</p>\n",
       "</div>"
      ],
      "text/plain": [
       "season            dry                                                     \\\n",
       "service  District_HQs Provincial_HQ education_allboys education_allgirls   \n",
       "road_id                                                                    \n",
       "1        1.035284e+06     5494312.5        168.504105         775.723999   \n",
       "2        1.689520e+06     6939172.5      10629.712891       12685.552734   \n",
       "3        1.550664e+06    12034742.0       1891.750488        3259.136963   \n",
       "4        2.535394e+06     4773613.0       3324.003906        7857.154785   \n",
       "5        5.007174e+05     4201633.0        566.588928         622.045471   \n",
       "\n",
       "season                                                            \\\n",
       "service education_boys education_boys_high education_boys_middle   \n",
       "road_id                                                            \n",
       "1           168.504105         1807.461182          43734.132812   \n",
       "2         10629.712891        19078.341797         101762.195312   \n",
       "3          1891.750488         6823.868652           5461.372559   \n",
       "4          3324.003906        28965.160156          16418.210938   \n",
       "5           566.588928        29570.373047           2634.598389   \n",
       "\n",
       "season                                                               ...  \\\n",
       "service education_boys_primary education_girls education_girls_high  ...   \n",
       "road_id                                                              ...   \n",
       "1                  3678.591797      775.723999         13015.161133  ...   \n",
       "2                 11217.901367    12685.552734         54482.664062  ...   \n",
       "3                  2050.009277     3259.136963        113598.429688  ...   \n",
       "4                  3617.860107     7857.154785         16715.947266  ...   \n",
       "5                   570.408691      622.045471          1749.673462  ...   \n",
       "\n",
       "season                                                                     \\\n",
       "service education_primary  health_family health_pharmacies health_primary   \n",
       "road_id                                                                     \n",
       "1              157.388062   14916.991211       8443.415039    6787.449219   \n",
       "2             8610.329102   56340.351562      54930.535156   57795.226562   \n",
       "3             2006.568970   92196.734375      27986.630859    8784.625977   \n",
       "4             3569.731445   20431.742188      15053.243164   16317.101562   \n",
       "5              548.164551  321780.156250       2031.076172    1783.548462   \n",
       "\n",
       "season                                                                 \\\n",
       "service health_private health_public health_secondary health_tertiary   \n",
       "road_id                                                                 \n",
       "1         16224.124023  35514.628906     15710.167969      14888693.0   \n",
       "2         68734.031250  37670.597656     66571.718750      16611544.0   \n",
       "3        117987.484375   5512.084961    880414.750000       9974145.0   \n",
       "4         19534.412109  27829.070312     18302.658203       9965408.0   \n",
       "5          1818.155762   1546.508057      1625.170532       9969713.0   \n",
       "\n",
       "season                                 \n",
       "service   markets_All markets_Central  \n",
       "road_id                                \n",
       "1        1.627323e+04      11211585.0  \n",
       "2        2.635565e+06      28946200.0  \n",
       "3        1.175497e+05      11211585.0  \n",
       "4        1.826460e+04      11211585.0  \n",
       "5        1.636591e+03      25922172.0  \n",
       "\n",
       "[5 rows x 24 columns]"
      ]
     },
     "execution_count": 223,
     "metadata": {},
     "output_type": "execute_result"
    }
   ],
   "source": [
    "sq_wide.head()"
   ]
  },
  {
   "cell_type": "code",
   "execution_count": 224,
   "metadata": {},
   "outputs": [
    {
     "data": {
      "text/html": [
       "<div>\n",
       "<style scoped>\n",
       "    .dataframe tbody tr th:only-of-type {\n",
       "        vertical-align: middle;\n",
       "    }\n",
       "\n",
       "    .dataframe tbody tr th {\n",
       "        vertical-align: top;\n",
       "    }\n",
       "\n",
       "    .dataframe thead tr th {\n",
       "        text-align: left;\n",
       "    }\n",
       "\n",
       "    .dataframe thead tr:last-of-type th {\n",
       "        text-align: right;\n",
       "    }\n",
       "</style>\n",
       "<table border=\"1\" class=\"dataframe\">\n",
       "  <thead>\n",
       "    <tr>\n",
       "      <th>season</th>\n",
       "      <th colspan=\"21\" halign=\"left\">dry</th>\n",
       "    </tr>\n",
       "    <tr>\n",
       "      <th>service</th>\n",
       "      <th>District_HQs</th>\n",
       "      <th>Provincial_HQ</th>\n",
       "      <th>education_allboys</th>\n",
       "      <th>education_allgirls</th>\n",
       "      <th>education_boys</th>\n",
       "      <th>education_boys_high</th>\n",
       "      <th>education_boys_middle</th>\n",
       "      <th>education_boys_primary</th>\n",
       "      <th>education_girls</th>\n",
       "      <th>education_girls_high</th>\n",
       "      <th>...</th>\n",
       "      <th>education_primary</th>\n",
       "      <th>health_family</th>\n",
       "      <th>health_pharmacies</th>\n",
       "      <th>health_primary</th>\n",
       "      <th>health_private</th>\n",
       "      <th>health_public</th>\n",
       "      <th>health_secondary</th>\n",
       "      <th>health_tertiary</th>\n",
       "      <th>markets_All</th>\n",
       "      <th>markets_Central</th>\n",
       "    </tr>\n",
       "    <tr>\n",
       "      <th>road_id</th>\n",
       "      <th></th>\n",
       "      <th></th>\n",
       "      <th></th>\n",
       "      <th></th>\n",
       "      <th></th>\n",
       "      <th></th>\n",
       "      <th></th>\n",
       "      <th></th>\n",
       "      <th></th>\n",
       "      <th></th>\n",
       "      <th></th>\n",
       "      <th></th>\n",
       "      <th></th>\n",
       "      <th></th>\n",
       "      <th></th>\n",
       "      <th></th>\n",
       "      <th></th>\n",
       "      <th></th>\n",
       "      <th></th>\n",
       "      <th></th>\n",
       "      <th></th>\n",
       "    </tr>\n",
       "  </thead>\n",
       "  <tbody>\n",
       "    <tr>\n",
       "      <th>1</th>\n",
       "      <td>31276.365234</td>\n",
       "      <td>145493.156250</td>\n",
       "      <td>0.574245</td>\n",
       "      <td>5.970305</td>\n",
       "      <td>0.574245</td>\n",
       "      <td>10.605741</td>\n",
       "      <td>46.245304</td>\n",
       "      <td>334.003143</td>\n",
       "      <td>5.970305</td>\n",
       "      <td>1204.316772</td>\n",
       "      <td>...</td>\n",
       "      <td>0.719626</td>\n",
       "      <td>1188.181274</td>\n",
       "      <td>1177.813599</td>\n",
       "      <td>191.406784</td>\n",
       "      <td>1116.981934</td>\n",
       "      <td>1572.746948</td>\n",
       "      <td>1194.135742</td>\n",
       "      <td>598539.0000</td>\n",
       "      <td>1208.493042</td>\n",
       "      <td>283109.25000</td>\n",
       "    </tr>\n",
       "    <tr>\n",
       "      <th>2</th>\n",
       "      <td>125080.671875</td>\n",
       "      <td>153855.703125</td>\n",
       "      <td>540.868286</td>\n",
       "      <td>1044.523193</td>\n",
       "      <td>540.868286</td>\n",
       "      <td>2996.606689</td>\n",
       "      <td>9186.515625</td>\n",
       "      <td>617.977539</td>\n",
       "      <td>1044.523193</td>\n",
       "      <td>9448.099609</td>\n",
       "      <td>...</td>\n",
       "      <td>548.838501</td>\n",
       "      <td>9039.630859</td>\n",
       "      <td>13391.520508</td>\n",
       "      <td>7940.701660</td>\n",
       "      <td>8828.002930</td>\n",
       "      <td>6384.974609</td>\n",
       "      <td>8828.002930</td>\n",
       "      <td>630214.5625</td>\n",
       "      <td>25351.650391</td>\n",
       "      <td>595592.81250</td>\n",
       "    </tr>\n",
       "    <tr>\n",
       "      <th>3</th>\n",
       "      <td>40349.496094</td>\n",
       "      <td>162369.125000</td>\n",
       "      <td>186.048492</td>\n",
       "      <td>333.995056</td>\n",
       "      <td>186.048492</td>\n",
       "      <td>1646.107178</td>\n",
       "      <td>583.048279</td>\n",
       "      <td>224.035660</td>\n",
       "      <td>333.995056</td>\n",
       "      <td>12786.723633</td>\n",
       "      <td>...</td>\n",
       "      <td>224.035660</td>\n",
       "      <td>17015.691406</td>\n",
       "      <td>2493.569580</td>\n",
       "      <td>2361.935303</td>\n",
       "      <td>17515.343750</td>\n",
       "      <td>806.663330</td>\n",
       "      <td>54271.730469</td>\n",
       "      <td>529921.1875</td>\n",
       "      <td>17742.789062</td>\n",
       "      <td>299985.21875</td>\n",
       "    </tr>\n",
       "    <tr>\n",
       "      <th>4</th>\n",
       "      <td>54962.996094</td>\n",
       "      <td>145702.906250</td>\n",
       "      <td>238.853745</td>\n",
       "      <td>1665.343750</td>\n",
       "      <td>238.853745</td>\n",
       "      <td>2308.705322</td>\n",
       "      <td>1745.625122</td>\n",
       "      <td>254.401276</td>\n",
       "      <td>1665.343750</td>\n",
       "      <td>1054.746094</td>\n",
       "      <td>...</td>\n",
       "      <td>167.643402</td>\n",
       "      <td>1161.656372</td>\n",
       "      <td>957.084167</td>\n",
       "      <td>1030.416748</td>\n",
       "      <td>1161.656372</td>\n",
       "      <td>2260.821045</td>\n",
       "      <td>1161.656372</td>\n",
       "      <td>513254.9375</td>\n",
       "      <td>1161.656372</td>\n",
       "      <td>283319.00000</td>\n",
       "    </tr>\n",
       "    <tr>\n",
       "      <th>5</th>\n",
       "      <td>26672.503906</td>\n",
       "      <td>144784.968750</td>\n",
       "      <td>10.569116</td>\n",
       "      <td>7.493680</td>\n",
       "      <td>10.569116</td>\n",
       "      <td>2595.798584</td>\n",
       "      <td>36.170605</td>\n",
       "      <td>10.835896</td>\n",
       "      <td>7.493680</td>\n",
       "      <td>16.750071</td>\n",
       "      <td>...</td>\n",
       "      <td>10.782003</td>\n",
       "      <td>8543.295898</td>\n",
       "      <td>203.559586</td>\n",
       "      <td>41.686119</td>\n",
       "      <td>17.080681</td>\n",
       "      <td>16.288937</td>\n",
       "      <td>16.386080</td>\n",
       "      <td>512337.0000</td>\n",
       "      <td>17.080683</td>\n",
       "      <td>506645.40625</td>\n",
       "    </tr>\n",
       "  </tbody>\n",
       "</table>\n",
       "<p>5 rows × 24 columns</p>\n",
       "</div>"
      ],
      "text/plain": [
       "season             dry                                                      \\\n",
       "service   District_HQs  Provincial_HQ education_allboys education_allgirls   \n",
       "road_id                                                                      \n",
       "1         31276.365234  145493.156250          0.574245           5.970305   \n",
       "2        125080.671875  153855.703125        540.868286        1044.523193   \n",
       "3         40349.496094  162369.125000        186.048492         333.995056   \n",
       "4         54962.996094  145702.906250        238.853745        1665.343750   \n",
       "5         26672.503906  144784.968750         10.569116           7.493680   \n",
       "\n",
       "season                                                            \\\n",
       "service education_boys education_boys_high education_boys_middle   \n",
       "road_id                                                            \n",
       "1             0.574245           10.605741             46.245304   \n",
       "2           540.868286         2996.606689           9186.515625   \n",
       "3           186.048492         1646.107178            583.048279   \n",
       "4           238.853745         2308.705322           1745.625122   \n",
       "5            10.569116         2595.798584             36.170605   \n",
       "\n",
       "season                                                               ...  \\\n",
       "service education_boys_primary education_girls education_girls_high  ...   \n",
       "road_id                                                              ...   \n",
       "1                   334.003143        5.970305          1204.316772  ...   \n",
       "2                   617.977539     1044.523193          9448.099609  ...   \n",
       "3                   224.035660      333.995056         12786.723633  ...   \n",
       "4                   254.401276     1665.343750          1054.746094  ...   \n",
       "5                    10.835896        7.493680            16.750071  ...   \n",
       "\n",
       "season                                                                    \\\n",
       "service education_primary health_family health_pharmacies health_primary   \n",
       "road_id                                                                    \n",
       "1                0.719626   1188.181274       1177.813599     191.406784   \n",
       "2              548.838501   9039.630859      13391.520508    7940.701660   \n",
       "3              224.035660  17015.691406       2493.569580    2361.935303   \n",
       "4              167.643402   1161.656372        957.084167    1030.416748   \n",
       "5               10.782003   8543.295898        203.559586      41.686119   \n",
       "\n",
       "season                                                                 \\\n",
       "service health_private health_public health_secondary health_tertiary   \n",
       "road_id                                                                 \n",
       "1          1116.981934   1572.746948      1194.135742     598539.0000   \n",
       "2          8828.002930   6384.974609      8828.002930     630214.5625   \n",
       "3         17515.343750    806.663330     54271.730469     529921.1875   \n",
       "4          1161.656372   2260.821045      1161.656372     513254.9375   \n",
       "5            17.080681     16.288937        16.386080     512337.0000   \n",
       "\n",
       "season                                 \n",
       "service   markets_All markets_Central  \n",
       "road_id                                \n",
       "1         1208.493042    283109.25000  \n",
       "2        25351.650391    595592.81250  \n",
       "3        17742.789062    299985.21875  \n",
       "4         1161.656372    283319.00000  \n",
       "5           17.080683    506645.40625  \n",
       "\n",
       "[5 rows x 24 columns]"
      ]
     },
     "execution_count": 224,
     "metadata": {},
     "output_type": "execute_result"
    }
   ],
   "source": [
    "aai_wide.head()"
   ]
  },
  {
   "cell_type": "markdown",
   "metadata": {},
   "source": [
    "Join the dataframe to the proposed roads DF"
   ]
  },
  {
   "cell_type": "code",
   "execution_count": 225,
   "metadata": {},
   "outputs": [],
   "source": [
    "# Load proposed roads data -- make sure to insert correct date for final proposed roads file\n",
    "prop_rds_gdf_pth = f'Proposed_final//Proposed_roads_processed_{data_date}.gpkg'"
   ]
  },
  {
   "cell_type": "code",
   "execution_count": 226,
   "metadata": {},
   "outputs": [],
   "source": [
    "proposed_rds = pd.DataFrame(gpd.read_file(os.path.join(data_dir,rds_dir,prop_rds_gdf_pth),driver=\"GPKG\"))"
   ]
  },
  {
   "cell_type": "code",
   "execution_count": 227,
   "metadata": {},
   "outputs": [],
   "source": [
    "# minor cleanup in preparation for joining\n",
    "proposed_rds.drop('geometry',axis=1,inplace=True)\n",
    "proposed_rds['Road_ID'] = proposed_rds.SN.astype(int)\n",
    "proposed_rds = proposed_rds.set_index('Road_ID')"
   ]
  },
  {
   "cell_type": "code",
   "execution_count": 228,
   "metadata": {},
   "outputs": [],
   "source": [
    "# filter out unnecessary columns, if relevant\n",
    "proposed_rds = proposed_rds.iloc[:,6:32]"
   ]
  },
  {
   "cell_type": "code",
   "execution_count": 229,
   "metadata": {},
   "outputs": [
    {
     "data": {
      "text/plain": [
       "Int64Index([ 1,  2,  3,  4,  5,  6,  7,  8,  9, 10, 11, 12, 13, 14, 15, 17, 18,\n",
       "            19, 20, 21, 22, 23, 24, 25, 26, 27, 28, 30, 31, 32, 33, 34, 35, 36,\n",
       "            37, 38, 39, 40, 41, 42, 43, 44, 45, 46, 47, 48, 49, 50, 52, 53, 55,\n",
       "            56, 57, 58, 59, 60, 61, 62, 63, 64, 65, 66, 67, 70, 71, 72, 73, 74,\n",
       "            75, 77, 78, 80, 81, 82, 83, 84, 85, 86, 87],\n",
       "           dtype='int64', name='Road_ID')"
      ]
     },
     "execution_count": 229,
     "metadata": {},
     "output_type": "execute_result"
    }
   ],
   "source": [
    "proposed_rds.index"
   ]
  },
  {
   "cell_type": "code",
   "execution_count": 230,
   "metadata": {},
   "outputs": [
    {
     "data": {
      "text/plain": [
       "Int64Index([ 1,  2,  3,  4,  5,  6,  7,  8,  9, 10, 11, 12, 13, 14, 15, 17, 18,\n",
       "            19, 20, 21, 22, 23, 24, 25, 26, 27, 28, 30, 31, 32, 33, 34, 35, 36,\n",
       "            37, 38, 39, 40, 41, 42, 43, 44, 45, 46, 47, 48, 49, 50, 52, 53, 55,\n",
       "            56, 57, 58, 59, 60, 61, 62, 63, 64, 65, 66, 67, 70, 71, 72, 73, 74,\n",
       "            75, 77, 78, 80, 81, 82, 83, 84, 85, 86, 87],\n",
       "           dtype='int64', name='road_id')"
      ]
     },
     "execution_count": 230,
     "metadata": {},
     "output_type": "execute_result"
    }
   ],
   "source": [
    "aai_wide.index"
   ]
  },
  {
   "cell_type": "code",
   "execution_count": 231,
   "metadata": {},
   "outputs": [
    {
     "name": "stderr",
     "output_type": "stream",
     "text": [
      "C:\\Users\\wb467985\\AppData\\Local\\Temp/ipykernel_51668/2217510834.py:2: FutureWarning: merging between different levels is deprecated and will be removed in a future version. (1 levels on the left,2 on the right)\n",
      "  prop_rds_sq_final = pd.merge(proposed_rds,sq_wide,how='left',left_index=True,right_index=True)\n",
      "C:\\Users\\wb467985\\AppData\\Local\\Temp/ipykernel_51668/2217510834.py:3: FutureWarning: merging between different levels is deprecated and will be removed in a future version. (1 levels on the left,2 on the right)\n",
      "  prop_rds_rel_acc_imp_final = pd.merge(proposed_rds,rai_wide,how='left',left_index=True,right_index=True)\n",
      "C:\\Users\\wb467985\\AppData\\Local\\Temp/ipykernel_51668/2217510834.py:4: FutureWarning: merging between different levels is deprecated and will be removed in a future version. (1 levels on the left,2 on the right)\n",
      "  prop_rds_abs_acc_imp_final = pd.merge(proposed_rds,ai_wide,how='left',left_index=True,right_index=True)\n"
     ]
    }
   ],
   "source": [
    "# Join proposed roads dataset to access statistics\n",
    "prop_rds_sq_final = pd.merge(proposed_rds,sq_wide,how='left',left_index=True,right_index=True)\n",
    "prop_rds_rel_acc_imp_final = pd.merge(proposed_rds,rai_wide,how='left',left_index=True,right_index=True)\n",
    "prop_rds_abs_acc_imp_final = pd.merge(proposed_rds,aai_wide,how='left',left_index=True,right_index=True)"
   ]
  },
  {
   "cell_type": "markdown",
   "metadata": {},
   "source": [
    "Check out data"
   ]
  },
  {
   "cell_type": "code",
   "execution_count": 233,
   "metadata": {},
   "outputs": [
    {
     "data": {
      "text/html": [
       "<div>\n",
       "<style scoped>\n",
       "    .dataframe tbody tr th:only-of-type {\n",
       "        vertical-align: middle;\n",
       "    }\n",
       "\n",
       "    .dataframe tbody tr th {\n",
       "        vertical-align: top;\n",
       "    }\n",
       "\n",
       "    .dataframe thead th {\n",
       "        text-align: right;\n",
       "    }\n",
       "</style>\n",
       "<table border=\"1\" class=\"dataframe\">\n",
       "  <thead>\n",
       "    <tr style=\"text-align: right;\">\n",
       "      <th></th>\n",
       "      <th>District</th>\n",
       "      <th>Current_Road_Cond</th>\n",
       "      <th>Current_Surface</th>\n",
       "      <th>Current_Road_Class</th>\n",
       "      <th>Upgrade_Road_Cond</th>\n",
       "      <th>Upgrade_Surface</th>\n",
       "      <th>Upgrade_Road_Class</th>\n",
       "      <th>Terrain</th>\n",
       "      <th>Cost_PKR</th>\n",
       "      <th>current_base_speed</th>\n",
       "      <th>...</th>\n",
       "      <th>(dry, education_primary)</th>\n",
       "      <th>(dry, health_family)</th>\n",
       "      <th>(dry, health_pharmacies)</th>\n",
       "      <th>(dry, health_primary)</th>\n",
       "      <th>(dry, health_private)</th>\n",
       "      <th>(dry, health_public)</th>\n",
       "      <th>(dry, health_secondary)</th>\n",
       "      <th>(dry, health_tertiary)</th>\n",
       "      <th>(dry, markets_All)</th>\n",
       "      <th>(dry, markets_Central)</th>\n",
       "    </tr>\n",
       "    <tr>\n",
       "      <th>Road_ID</th>\n",
       "      <th></th>\n",
       "      <th></th>\n",
       "      <th></th>\n",
       "      <th></th>\n",
       "      <th></th>\n",
       "      <th></th>\n",
       "      <th></th>\n",
       "      <th></th>\n",
       "      <th></th>\n",
       "      <th></th>\n",
       "      <th></th>\n",
       "      <th></th>\n",
       "      <th></th>\n",
       "      <th></th>\n",
       "      <th></th>\n",
       "      <th></th>\n",
       "      <th></th>\n",
       "      <th></th>\n",
       "      <th></th>\n",
       "      <th></th>\n",
       "      <th></th>\n",
       "    </tr>\n",
       "  </thead>\n",
       "  <tbody>\n",
       "    <tr>\n",
       "      <th>86</th>\n",
       "      <td>North Waziristan</td>\n",
       "      <td>Poor</td>\n",
       "      <td>Gravel</td>\n",
       "      <td>District Road</td>\n",
       "      <td>Very Good</td>\n",
       "      <td>Asphaltic</td>\n",
       "      <td>District Road</td>\n",
       "      <td>Plains</td>\n",
       "      <td>4.480068e+08</td>\n",
       "      <td>50.0</td>\n",
       "      <td>...</td>\n",
       "      <td>1.645315e+02</td>\n",
       "      <td>120952.578125</td>\n",
       "      <td>12565.527344</td>\n",
       "      <td>13666.895508</td>\n",
       "      <td>22189.933594</td>\n",
       "      <td>12380.724609</td>\n",
       "      <td>20563.966797</td>\n",
       "      <td>150361.78125</td>\n",
       "      <td>22603.787109</td>\n",
       "      <td>175664.56250</td>\n",
       "    </tr>\n",
       "    <tr>\n",
       "      <th>87</th>\n",
       "      <td>North Waziristan</td>\n",
       "      <td>Poor</td>\n",
       "      <td>Gravel</td>\n",
       "      <td>District Road</td>\n",
       "      <td>Very Good</td>\n",
       "      <td>Asphaltic</td>\n",
       "      <td>District Road</td>\n",
       "      <td>Plains</td>\n",
       "      <td>4.766536e+08</td>\n",
       "      <td>50.0</td>\n",
       "      <td>...</td>\n",
       "      <td>1.385636e+06</td>\n",
       "      <td>115366.250000</td>\n",
       "      <td>10776.630859</td>\n",
       "      <td>11762.242188</td>\n",
       "      <td>20249.955078</td>\n",
       "      <td>10027.534180</td>\n",
       "      <td>8887.242188</td>\n",
       "      <td>148315.96875</td>\n",
       "      <td>21894.519531</td>\n",
       "      <td>173078.96875</td>\n",
       "    </tr>\n",
       "  </tbody>\n",
       "</table>\n",
       "<p>2 rows × 50 columns</p>\n",
       "</div>"
      ],
      "text/plain": [
       "                 District Current_Road_Cond Current_Surface  \\\n",
       "Road_ID                                                       \n",
       "86       North Waziristan              Poor          Gravel   \n",
       "87       North Waziristan              Poor          Gravel   \n",
       "\n",
       "        Current_Road_Class Upgrade_Road_Cond Upgrade_Surface  \\\n",
       "Road_ID                                                        \n",
       "86           District Road         Very Good      Asphaltic    \n",
       "87           District Road         Very Good      Asphaltic    \n",
       "\n",
       "        Upgrade_Road_Class Terrain      Cost_PKR  current_base_speed  ...  \\\n",
       "Road_ID                                                               ...   \n",
       "86           District Road  Plains  4.480068e+08                50.0  ...   \n",
       "87           District Road  Plains  4.766536e+08                50.0  ...   \n",
       "\n",
       "         (dry, education_primary)  (dry, health_family)  \\\n",
       "Road_ID                                                   \n",
       "86                   1.645315e+02         120952.578125   \n",
       "87                   1.385636e+06         115366.250000   \n",
       "\n",
       "         (dry, health_pharmacies)  (dry, health_primary)  \\\n",
       "Road_ID                                                    \n",
       "86                   12565.527344           13666.895508   \n",
       "87                   10776.630859           11762.242188   \n",
       "\n",
       "         (dry, health_private)  (dry, health_public)  (dry, health_secondary)  \\\n",
       "Road_ID                                                                         \n",
       "86                22189.933594          12380.724609             20563.966797   \n",
       "87                20249.955078          10027.534180              8887.242188   \n",
       "\n",
       "         (dry, health_tertiary)  (dry, markets_All)  (dry, markets_Central)  \n",
       "Road_ID                                                                      \n",
       "86                 150361.78125        22603.787109            175664.56250  \n",
       "87                 148315.96875        21894.519531            173078.96875  \n",
       "\n",
       "[2 rows x 50 columns]"
      ]
     },
     "execution_count": 233,
     "metadata": {},
     "output_type": "execute_result"
    }
   ],
   "source": [
    "prop_rds_abs_acc_imp_final.tail(2)"
   ]
  },
  {
   "cell_type": "code",
   "execution_count": 234,
   "metadata": {},
   "outputs": [
    {
     "data": {
      "text/html": [
       "<div>\n",
       "<style scoped>\n",
       "    .dataframe tbody tr th:only-of-type {\n",
       "        vertical-align: middle;\n",
       "    }\n",
       "\n",
       "    .dataframe tbody tr th {\n",
       "        vertical-align: top;\n",
       "    }\n",
       "\n",
       "    .dataframe thead th {\n",
       "        text-align: right;\n",
       "    }\n",
       "</style>\n",
       "<table border=\"1\" class=\"dataframe\">\n",
       "  <thead>\n",
       "    <tr style=\"text-align: right;\">\n",
       "      <th></th>\n",
       "      <th>District</th>\n",
       "      <th>Current_Road_Cond</th>\n",
       "      <th>Current_Surface</th>\n",
       "      <th>Current_Road_Class</th>\n",
       "      <th>Upgrade_Road_Cond</th>\n",
       "      <th>Upgrade_Surface</th>\n",
       "      <th>Upgrade_Road_Class</th>\n",
       "      <th>Terrain</th>\n",
       "      <th>Cost_PKR</th>\n",
       "      <th>current_base_speed</th>\n",
       "      <th>...</th>\n",
       "      <th>(dry, education_primary)</th>\n",
       "      <th>(dry, health_family)</th>\n",
       "      <th>(dry, health_pharmacies)</th>\n",
       "      <th>(dry, health_primary)</th>\n",
       "      <th>(dry, health_private)</th>\n",
       "      <th>(dry, health_public)</th>\n",
       "      <th>(dry, health_secondary)</th>\n",
       "      <th>(dry, health_tertiary)</th>\n",
       "      <th>(dry, markets_All)</th>\n",
       "      <th>(dry, markets_Central)</th>\n",
       "    </tr>\n",
       "    <tr>\n",
       "      <th>Road_ID</th>\n",
       "      <th></th>\n",
       "      <th></th>\n",
       "      <th></th>\n",
       "      <th></th>\n",
       "      <th></th>\n",
       "      <th></th>\n",
       "      <th></th>\n",
       "      <th></th>\n",
       "      <th></th>\n",
       "      <th></th>\n",
       "      <th></th>\n",
       "      <th></th>\n",
       "      <th></th>\n",
       "      <th></th>\n",
       "      <th></th>\n",
       "      <th></th>\n",
       "      <th></th>\n",
       "      <th></th>\n",
       "      <th></th>\n",
       "      <th></th>\n",
       "      <th></th>\n",
       "    </tr>\n",
       "  </thead>\n",
       "  <tbody>\n",
       "    <tr>\n",
       "      <th>86</th>\n",
       "      <td>North Waziristan</td>\n",
       "      <td>Poor</td>\n",
       "      <td>Gravel</td>\n",
       "      <td>District Road</td>\n",
       "      <td>Very Good</td>\n",
       "      <td>Asphaltic</td>\n",
       "      <td>District Road</td>\n",
       "      <td>Plains</td>\n",
       "      <td>4.480068e+08</td>\n",
       "      <td>50.0</td>\n",
       "      <td>...</td>\n",
       "      <td>4442.694336</td>\n",
       "      <td>3119017.75</td>\n",
       "      <td>1103780.125</td>\n",
       "      <td>1280328.500</td>\n",
       "      <td>1608397.500</td>\n",
       "      <td>524412.25</td>\n",
       "      <td>1.189860e+06</td>\n",
       "      <td>11487173.0</td>\n",
       "      <td>1940999.25</td>\n",
       "      <td>10433678.0</td>\n",
       "    </tr>\n",
       "    <tr>\n",
       "      <th>87</th>\n",
       "      <td>North Waziristan</td>\n",
       "      <td>Poor</td>\n",
       "      <td>Gravel</td>\n",
       "      <td>District Road</td>\n",
       "      <td>Very Good</td>\n",
       "      <td>Asphaltic</td>\n",
       "      <td>District Road</td>\n",
       "      <td>Plains</td>\n",
       "      <td>4.766536e+08</td>\n",
       "      <td>50.0</td>\n",
       "      <td>...</td>\n",
       "      <td>58550.738281</td>\n",
       "      <td>3118443.50</td>\n",
       "      <td>1219092.375</td>\n",
       "      <td>1324451.625</td>\n",
       "      <td>1635802.125</td>\n",
       "      <td>647083.50</td>\n",
       "      <td>8.722957e+05</td>\n",
       "      <td>11487173.0</td>\n",
       "      <td>2154267.00</td>\n",
       "      <td>10433678.0</td>\n",
       "    </tr>\n",
       "  </tbody>\n",
       "</table>\n",
       "<p>2 rows × 50 columns</p>\n",
       "</div>"
      ],
      "text/plain": [
       "                 District Current_Road_Cond Current_Surface  \\\n",
       "Road_ID                                                       \n",
       "86       North Waziristan              Poor          Gravel   \n",
       "87       North Waziristan              Poor          Gravel   \n",
       "\n",
       "        Current_Road_Class Upgrade_Road_Cond Upgrade_Surface  \\\n",
       "Road_ID                                                        \n",
       "86           District Road         Very Good      Asphaltic    \n",
       "87           District Road         Very Good      Asphaltic    \n",
       "\n",
       "        Upgrade_Road_Class Terrain      Cost_PKR  current_base_speed  ...  \\\n",
       "Road_ID                                                               ...   \n",
       "86           District Road  Plains  4.480068e+08                50.0  ...   \n",
       "87           District Road  Plains  4.766536e+08                50.0  ...   \n",
       "\n",
       "         (dry, education_primary)  (dry, health_family)  \\\n",
       "Road_ID                                                   \n",
       "86                    4442.694336            3119017.75   \n",
       "87                   58550.738281            3118443.50   \n",
       "\n",
       "         (dry, health_pharmacies)  (dry, health_primary)  \\\n",
       "Road_ID                                                    \n",
       "86                    1103780.125            1280328.500   \n",
       "87                    1219092.375            1324451.625   \n",
       "\n",
       "         (dry, health_private)  (dry, health_public)  (dry, health_secondary)  \\\n",
       "Road_ID                                                                         \n",
       "86                 1608397.500             524412.25             1.189860e+06   \n",
       "87                 1635802.125             647083.50             8.722957e+05   \n",
       "\n",
       "         (dry, health_tertiary)  (dry, markets_All)  (dry, markets_Central)  \n",
       "Road_ID                                                                      \n",
       "86                   11487173.0          1940999.25              10433678.0  \n",
       "87                   11487173.0          2154267.00              10433678.0  \n",
       "\n",
       "[2 rows x 50 columns]"
      ]
     },
     "execution_count": 234,
     "metadata": {},
     "output_type": "execute_result"
    }
   ],
   "source": [
    "prop_rds_sq_final.tail(2)"
   ]
  },
  {
   "cell_type": "code",
   "execution_count": 232,
   "metadata": {},
   "outputs": [
    {
     "data": {
      "text/plain": [
       "79"
      ]
     },
     "execution_count": 232,
     "metadata": {},
     "output_type": "execute_result"
    }
   ],
   "source": [
    "len(prop_rds_abs_acc_imp_final)"
   ]
  },
  {
   "cell_type": "markdown",
   "metadata": {},
   "source": [
    "**Export the final DataFrames to CSVs**"
   ]
  },
  {
   "cell_type": "code",
   "execution_count": 2,
   "metadata": {},
   "outputs": [],
   "source": [
    "# file names\n",
    "out_sq_tab_name = f'processed//roads_acc_status_quo_{today}.csv'\n",
    "out_rel_acc_imp_tab_name = f'processed//roads_relative_acc_improvements_{today}.csv'\n",
    "out_abs_acc_imp_tab_name = f'processed//roads_absolute_acc_improvements_{today}.csv'"
   ]
  },
  {
   "cell_type": "code",
   "execution_count": 240,
   "metadata": {},
   "outputs": [],
   "source": [
    "# export\n",
    "prop_rds_sq_final.to_csv(os.path.join(data_dir,tab_dir,out_sq_tab_name))\n",
    "prop_rds_rel_acc_imp_final.to_csv(os.path.join(data_dir,tab_dir,out_rel_acc_imp_tab_name))\n",
    "prop_rds_abs_acc_imp_final.to_csv(os.path.join(data_dir,tab_dir,out_abs_acc_imp_tab_name))"
   ]
  },
  {
   "cell_type": "markdown",
   "metadata": {},
   "source": [
    "You are done with spatial analysis, congrats! Move on to processing the tabular data however you need for your use case."
   ]
  }
 ],
 "metadata": {
  "kernelspec": {
   "display_name": "Python 3 (ipykernel)",
   "language": "python",
   "name": "python3"
  },
  "language_info": {
   "codemirror_mode": {
    "name": "ipython",
    "version": 3
   },
   "file_extension": ".py",
   "mimetype": "text/x-python",
   "name": "python",
   "nbconvert_exporter": "python",
   "pygments_lexer": "ipython3",
   "version": "3.8.10"
  }
 },
 "nbformat": 4,
 "nbformat_minor": 4
}
