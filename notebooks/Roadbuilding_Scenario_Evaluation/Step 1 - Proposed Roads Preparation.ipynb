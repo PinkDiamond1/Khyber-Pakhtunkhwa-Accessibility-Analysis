{
 "cells": [
  {
   "cell_type": "markdown",
   "id": "composed-brass",
   "metadata": {},
   "source": [
    "# Proposed Roads Processing and Raster Export"
   ]
  },
  {
   "cell_type": "markdown",
   "id": "ruled-smile",
   "metadata": {},
   "source": [
    "This notebook processes a collection of line vectors into raster files with the 'speed' attribute used as the raster pixel value."
   ]
  },
  {
   "cell_type": "code",
   "execution_count": 68,
   "id": "structural-india",
   "metadata": {},
   "outputs": [],
   "source": [
    "import os, sys\n",
    "from datetime import date\n",
    "\n",
    "import common_rasterio_ops as rast_ops\n",
    "\n",
    "import re\n",
    "import numpy as np\n",
    "from numpy import random\n",
    "\n",
    "import rasterio\n",
    "from rasterio import features, transform\n",
    "from rasterio.transform import Affine\n",
    "from rasterio.warp import calculate_default_transform, reproject, Resampling\n",
    "from rasterio.io import MemoryFile\n",
    "\n",
    "import pandas as pd\n",
    "import geopandas as gpd\n",
    "\n",
    "import shapely\n",
    "from shapely.geometry import shape, Point, LineString, MultiLineString\n",
    "\n",
    "sys.path.append('../../src/')\n",
    "\n",
    "from gostrocks.src.GOSTRocks.misc import tPrint"
   ]
  },
  {
   "cell_type": "markdown",
   "id": "combined-playlist",
   "metadata": {},
   "source": [
    "### Setup"
   ]
  },
  {
   "cell_type": "markdown",
   "id": "coordinate-parade",
   "metadata": {},
   "source": [
    "File paths"
   ]
  },
  {
   "cell_type": "code",
   "execution_count": 6,
   "id": "80ab202f-b1e5-4464-abb4-b7787d855e1f",
   "metadata": {},
   "outputs": [],
   "source": [
    "geo_pth = r'P:\\PAK\\GEO'\n",
    "data_dir = r'../../data'\n",
    "\n",
    "rast_dir = r'rast_inputs'\n",
    "vect_in_dir = r'vect_inputs'\n",
    "vect_out_dir = r'vect_out'\n",
    "\n",
    "rd_dir = r'roads'\n",
    "dest_dir = r'destinations'\n",
    "speed_dir = r'speed'\n",
    "fric_dir = r'friction'\n",
    "acc_dir = r'access'"
   ]
  },
  {
   "cell_type": "markdown",
   "id": "e31300fe-817a-4f84-a19e-c3d79fb4be5b",
   "metadata": {},
   "source": [
    "Date"
   ]
  },
  {
   "cell_type": "code",
   "execution_count": 71,
   "id": "d7beb5b6-d620-42c2-9574-9edbe48137c8",
   "metadata": {},
   "outputs": [],
   "source": [
    "today = date.today().strftime(\"%y%m%d\")"
   ]
  },
  {
   "cell_type": "markdown",
   "id": "hairy-melissa",
   "metadata": {},
   "source": [
    "Projections"
   ]
  },
  {
   "cell_type": "code",
   "execution_count": 7,
   "id": "directed-yeast",
   "metadata": {},
   "outputs": [],
   "source": [
    "# change this to whatever the desired metric output projection is -- this notebook assumes you want outputs in meters\n",
    "dest_crs = 'EPSG:32642'"
   ]
  },
  {
   "cell_type": "markdown",
   "id": "excess-ceiling",
   "metadata": {},
   "source": [
    "Load in KP as clipping object"
   ]
  },
  {
   "cell_type": "code",
   "execution_count": 8,
   "id": "contrary-cameroon",
   "metadata": {
    "tags": []
   },
   "outputs": [],
   "source": [
    "kp = gpd.read_file(os.path.join(geo_pth,r'Boundaries/OCHA/pak_admbnda_adm1_ocha_pco_gaul_20181218.shp'))\n",
    "kp = kp[kp['ADM1_EN'] == 'Khyber Pakhtunkhwa']\n",
    "kp = kp.to_crs(dest_crs)\n",
    "\n",
    "# Buffer the polygon by 20km so we take in nearby markets and roads that may be used\n",
    "kp.geometry = kp.buffer(20000)"
   ]
  },
  {
   "cell_type": "markdown",
   "id": "8847d04f-df7f-430c-b5f5-dd9602766c2b",
   "metadata": {},
   "source": [
    "### Important file names"
   ]
  },
  {
   "cell_type": "code",
   "execution_count": 11,
   "id": "025af496-ed33-496e-9d35-51a918e1538f",
   "metadata": {},
   "outputs": [],
   "source": [
    "prop_tab_raw = r'Proposed_raw//needed_proposed_roads_data_211017.csv'\n",
    "pgr = r'Proposed_raw//KP_RoadforUpgrade_Correct_211014'\n",
    "prop_geo_raw = pgr +'.gpkg'"
   ]
  },
  {
   "cell_type": "code",
   "execution_count": 12,
   "id": "f994310c-3e17-42eb-bbcb-e73eaa09a3b3",
   "metadata": {},
   "outputs": [],
   "source": [
    "prop_geo_clean = pgr + '_clean.shp'"
   ]
  },
  {
   "cell_type": "markdown",
   "id": "509eddbd-a538-49c6-8b5b-a46278f6a8ed",
   "metadata": {
    "tags": []
   },
   "source": [
    "### Pre-processing"
   ]
  },
  {
   "cell_type": "markdown",
   "id": "7a5e4d30-0ddc-4534-961a-197c99aa293e",
   "metadata": {},
   "source": [
    "Tabular"
   ]
  },
  {
   "cell_type": "code",
   "execution_count": 13,
   "id": "b65fcc0f-5e31-4f27-968a-d5d9353c3e45",
   "metadata": {},
   "outputs": [],
   "source": [
    "prop_tab = pd.read_csv(os.path.join(data_dir,rd_dir,prop_tab_raw),na_values='')"
   ]
  },
  {
   "cell_type": "code",
   "execution_count": 14,
   "id": "652ea605-212b-4b74-80eb-d23903ae204f",
   "metadata": {},
   "outputs": [
    {
     "data": {
      "text/html": [
       "<div>\n",
       "<style scoped>\n",
       "    .dataframe tbody tr th:only-of-type {\n",
       "        vertical-align: middle;\n",
       "    }\n",
       "\n",
       "    .dataframe tbody tr th {\n",
       "        vertical-align: top;\n",
       "    }\n",
       "\n",
       "    .dataframe thead th {\n",
       "        text-align: right;\n",
       "    }\n",
       "</style>\n",
       "<table border=\"1\" class=\"dataframe\">\n",
       "  <thead>\n",
       "    <tr style=\"text-align: right;\">\n",
       "      <th></th>\n",
       "      <th>Unnamed: 0</th>\n",
       "      <th>Road_ID</th>\n",
       "      <th>Road_Name</th>\n",
       "      <th>Improvement Description</th>\n",
       "      <th>Spatial data missing?</th>\n",
       "      <th>Krishna Comments</th>\n",
       "      <th>District</th>\n",
       "      <th>Lat_Start</th>\n",
       "      <th>Lon_Start</th>\n",
       "      <th>Lat_End</th>\n",
       "      <th>...</th>\n",
       "      <th>Avg_Altitude</th>\n",
       "      <th>Avg_Slope</th>\n",
       "      <th>Terrain</th>\n",
       "      <th>Pavement_Type</th>\n",
       "      <th>Current_Road_Cond</th>\n",
       "      <th>Current_Surface</th>\n",
       "      <th>Current_Road_Class</th>\n",
       "      <th>Upgrade_Road_Cond</th>\n",
       "      <th>Upgrade_Surface</th>\n",
       "      <th>Upgrade_Road_Class</th>\n",
       "    </tr>\n",
       "  </thead>\n",
       "  <tbody>\n",
       "    <tr>\n",
       "      <th>0</th>\n",
       "      <td>0</td>\n",
       "      <td>1</td>\n",
       "      <td>Green Lasht - Lot Oweer Road (via Barum-Shahbr...</td>\n",
       "      <td>NaN</td>\n",
       "      <td>NaN</td>\n",
       "      <td>NaN</td>\n",
       "      <td>Upper Chitral</td>\n",
       "      <td>NaN</td>\n",
       "      <td>NaN</td>\n",
       "      <td>NaN</td>\n",
       "      <td>...</td>\n",
       "      <td>2478.186498</td>\n",
       "      <td>21.519165</td>\n",
       "      <td>Hills</td>\n",
       "      <td>Shingle</td>\n",
       "      <td>Poor</td>\n",
       "      <td>Earthen</td>\n",
       "      <td>Collector Road</td>\n",
       "      <td>Very Good</td>\n",
       "      <td>Asphaltic</td>\n",
       "      <td>Collector Road</td>\n",
       "    </tr>\n",
       "    <tr>\n",
       "      <th>20</th>\n",
       "      <td>20</td>\n",
       "      <td>21</td>\n",
       "      <td>Hangu Shahukhel Raisan Road</td>\n",
       "      <td>NaN</td>\n",
       "      <td>NaN</td>\n",
       "      <td>NaN</td>\n",
       "      <td>Hangu</td>\n",
       "      <td>NaN</td>\n",
       "      <td>NaN</td>\n",
       "      <td>NaN</td>\n",
       "      <td>...</td>\n",
       "      <td>781.454841</td>\n",
       "      <td>4.910391</td>\n",
       "      <td>Plains</td>\n",
       "      <td>TST</td>\n",
       "      <td>Poor</td>\n",
       "      <td>Paved</td>\n",
       "      <td>District Road</td>\n",
       "      <td>Very Good</td>\n",
       "      <td>Asphaltic</td>\n",
       "      <td>District Road</td>\n",
       "    </tr>\n",
       "    <tr>\n",
       "      <th>40</th>\n",
       "      <td>40</td>\n",
       "      <td>41</td>\n",
       "      <td>Palosa Sar to Ghundi Mirkhan khel UC Ghundi Mi...</td>\n",
       "      <td>NaN</td>\n",
       "      <td>Coordinates submitted, reviewing</td>\n",
       "      <td>Need to check the road (Coordinates are not in...</td>\n",
       "      <td>Karak</td>\n",
       "      <td>NaN</td>\n",
       "      <td>NaN</td>\n",
       "      <td>NaN</td>\n",
       "      <td>...</td>\n",
       "      <td>NaN</td>\n",
       "      <td>NaN</td>\n",
       "      <td>NaN</td>\n",
       "      <td>NaN</td>\n",
       "      <td>Poor</td>\n",
       "      <td>Gravel</td>\n",
       "      <td>NaN</td>\n",
       "      <td>Very Good</td>\n",
       "      <td>Asphaltic</td>\n",
       "      <td>District Road</td>\n",
       "    </tr>\n",
       "    <tr>\n",
       "      <th>60</th>\n",
       "      <td>60</td>\n",
       "      <td>61</td>\n",
       "      <td>Ama Khel to Darra Bain Road</td>\n",
       "      <td>NaN</td>\n",
       "      <td>Coordinates submitted, reviewing</td>\n",
       "      <td>Need to check the road</td>\n",
       "      <td>Tank</td>\n",
       "      <td>32.3066</td>\n",
       "      <td>70.50648</td>\n",
       "      <td>NaN</td>\n",
       "      <td>...</td>\n",
       "      <td>NaN</td>\n",
       "      <td>NaN</td>\n",
       "      <td>Plains</td>\n",
       "      <td>TST</td>\n",
       "      <td>Poor</td>\n",
       "      <td>Gravel</td>\n",
       "      <td>NaN</td>\n",
       "      <td>Very Good</td>\n",
       "      <td>Asphaltic</td>\n",
       "      <td>District Road</td>\n",
       "    </tr>\n",
       "    <tr>\n",
       "      <th>80</th>\n",
       "      <td>80</td>\n",
       "      <td>81</td>\n",
       "      <td>Sirajudin Madrassa to Bar Kambarkhel</td>\n",
       "      <td>NaN</td>\n",
       "      <td>NaN</td>\n",
       "      <td>NaN</td>\n",
       "      <td>Khuber</td>\n",
       "      <td>NaN</td>\n",
       "      <td>NaN</td>\n",
       "      <td>NaN</td>\n",
       "      <td>...</td>\n",
       "      <td>683.422647</td>\n",
       "      <td>5.233356</td>\n",
       "      <td>Plains</td>\n",
       "      <td>NaN</td>\n",
       "      <td>Poor</td>\n",
       "      <td>Paved</td>\n",
       "      <td>District Road</td>\n",
       "      <td>Very Good</td>\n",
       "      <td>Asphaltic</td>\n",
       "      <td>District Road</td>\n",
       "    </tr>\n",
       "  </tbody>\n",
       "</table>\n",
       "<p>5 rows × 23 columns</p>\n",
       "</div>"
      ],
      "text/plain": [
       "    Unnamed: 0  Road_ID                                          Road_Name  \\\n",
       "0            0        1  Green Lasht - Lot Oweer Road (via Barum-Shahbr...   \n",
       "20          20       21                        Hangu Shahukhel Raisan Road   \n",
       "40          40       41  Palosa Sar to Ghundi Mirkhan khel UC Ghundi Mi...   \n",
       "60          60       61                        Ama Khel to Darra Bain Road   \n",
       "80          80       81               Sirajudin Madrassa to Bar Kambarkhel   \n",
       "\n",
       "   Improvement Description             Spatial data missing?  \\\n",
       "0                      NaN                               NaN   \n",
       "20                     NaN                               NaN   \n",
       "40                     NaN  Coordinates submitted, reviewing   \n",
       "60                     NaN  Coordinates submitted, reviewing   \n",
       "80                     NaN                               NaN   \n",
       "\n",
       "                                     Krishna Comments       District  \\\n",
       "0                                                 NaN  Upper Chitral   \n",
       "20                                                NaN          Hangu   \n",
       "40  Need to check the road (Coordinates are not in...          Karak   \n",
       "60                             Need to check the road           Tank   \n",
       "80                                                NaN         Khuber   \n",
       "\n",
       "    Lat_Start  Lon_Start  Lat_End  ...  Avg_Altitude  Avg_Slope  Terrain  \\\n",
       "0         NaN        NaN      NaN  ...   2478.186498  21.519165    Hills   \n",
       "20        NaN        NaN      NaN  ...    781.454841   4.910391   Plains   \n",
       "40        NaN        NaN      NaN  ...           NaN        NaN      NaN   \n",
       "60    32.3066   70.50648      NaN  ...           NaN        NaN   Plains   \n",
       "80        NaN        NaN      NaN  ...    683.422647   5.233356   Plains   \n",
       "\n",
       "    Pavement_Type  Current_Road_Cond Current_Surface Current_Road_Class  \\\n",
       "0         Shingle               Poor         Earthen     Collector Road   \n",
       "20            TST               Poor           Paved      District Road   \n",
       "40            NaN               Poor          Gravel                NaN   \n",
       "60            TST               Poor          Gravel                NaN   \n",
       "80            NaN               Poor           Paved      District Road   \n",
       "\n",
       "   Upgrade_Road_Cond Upgrade_Surface Upgrade_Road_Class  \n",
       "0          Very Good      Asphaltic      Collector Road  \n",
       "20         Very Good      Asphaltic       District Road  \n",
       "40         Very Good      Asphaltic       District Road  \n",
       "60         Very Good      Asphaltic       District Road  \n",
       "80         Very Good      Asphaltic       District Road  \n",
       "\n",
       "[5 rows x 23 columns]"
      ]
     },
     "execution_count": 14,
     "metadata": {},
     "output_type": "execute_result"
    }
   ],
   "source": [
    "prop_tab[::20]"
   ]
  },
  {
   "cell_type": "code",
   "execution_count": 15,
   "id": "6e854df6-2bbe-4603-8472-8603a6ce77d9",
   "metadata": {
    "tags": []
   },
   "outputs": [],
   "source": [
    "na_fill_dict = {\n",
    "    'Current_Road_Cond' : 'Poor',\n",
    "    'Current_Surface' : 'Unpaved',\n",
    "    'Current_Road_Class' : 'Access Road',\n",
    "    'Upgrade_Road_Cond' : 'Very Good',\n",
    "    'Upgrade_Surface' : 'Asphaltic',\n",
    "    'Upgrade_Road_Class' : 'District Road'\n",
    "}"
   ]
  },
  {
   "cell_type": "code",
   "execution_count": 16,
   "id": "8fc5bf68-2785-4489-af72-53a4798fa442",
   "metadata": {},
   "outputs": [],
   "source": [
    "prop_tab = prop_tab.fillna(na_fill_dict)"
   ]
  },
  {
   "cell_type": "code",
   "execution_count": 17,
   "id": "01f20c56-5588-408a-83c2-9c2b7cfaff11",
   "metadata": {},
   "outputs": [],
   "source": [
    "prop_tab.to_csv(os.path.join(data_dir,rd_dir,r'Proposed_raw//needed_proposed_roads_data_211004_nafill.csv'))"
   ]
  },
  {
   "cell_type": "code",
   "execution_count": 18,
   "id": "c1d1086d-9dd7-486f-851e-8c89fd43a46d",
   "metadata": {},
   "outputs": [
    {
     "data": {
      "text/plain": [
       "Index(['Unnamed: 0', 'Road_ID', 'Road_Name', 'Improvement Description',\n",
       "       'Spatial data missing?', 'Krishna Comments', 'District', 'Lat_Start',\n",
       "       'Lon_Start', 'Lat_End', 'Lon_End', 'Current_Road_Class_Raw',\n",
       "       'Road_Actual_Length_km', 'Avg_Altitude', 'Avg_Slope', 'Terrain',\n",
       "       'Pavement_Type', 'Current_Road_Cond', 'Current_Surface',\n",
       "       'Current_Road_Class', 'Upgrade_Road_Cond', 'Upgrade_Surface',\n",
       "       'Upgrade_Road_Class'],\n",
       "      dtype='object')"
      ]
     },
     "execution_count": 18,
     "metadata": {},
     "output_type": "execute_result"
    }
   ],
   "source": [
    "prop_tab.columns"
   ]
  },
  {
   "cell_type": "code",
   "execution_count": 19,
   "id": "3348fcfc-f56f-44cd-8380-d93b8a8c9ffa",
   "metadata": {},
   "outputs": [],
   "source": [
    "prop_tab = prop_tab[['Road_ID','Road_Name','District','Current_Road_Cond','Current_Surface','Current_Road_Class','Upgrade_Road_Cond','Upgrade_Surface','Upgrade_Road_Class']]\n",
    "prop_tab.rename({'Road_ID' : 'SN'},axis=1,inplace=True)"
   ]
  },
  {
   "cell_type": "code",
   "execution_count": 20,
   "id": "1c0256ce-4ffd-4b9d-b71b-039ee3e7e8d1",
   "metadata": {},
   "outputs": [],
   "source": [
    "# prop_tab.to_csv(os.path.join(data_dir,rd_dir,r'Proposed_raw//Clean_proposed_roads_attributes_211017.csv'))"
   ]
  },
  {
   "cell_type": "markdown",
   "id": "d9f2fb4f-d84e-42d3-8962-5b842b28369b",
   "metadata": {},
   "source": [
    "Geo"
   ]
  },
  {
   "cell_type": "code",
   "execution_count": 21,
   "id": "ae9f505b-e91e-4747-9569-82d4bfcc9067",
   "metadata": {},
   "outputs": [],
   "source": [
    "pre_prop = gpd.read_file(os.path.join(data_dir,rd_dir,prop_geo_raw),driver=\"GPKG\").to_crs(dest_crs)"
   ]
  },
  {
   "cell_type": "code",
   "execution_count": 22,
   "id": "f1d3c601-4955-4256-83f9-a831935d0234",
   "metadata": {},
   "outputs": [],
   "source": [
    "pre_prop = pre_prop[pre_prop['SN'].isna() == False]"
   ]
  },
  {
   "cell_type": "code",
   "execution_count": 23,
   "id": "6e0626c1-68e2-481a-b8e7-200ebdc6bd72",
   "metadata": {},
   "outputs": [],
   "source": [
    "pre_prop = pre_prop[['SN','geometry']]"
   ]
  },
  {
   "cell_type": "code",
   "execution_count": 24,
   "id": "e47acd30-6c21-48ba-81b9-9366c7348112",
   "metadata": {},
   "outputs": [],
   "source": [
    "# pre_prop.to_file(os.path.join(data_dir,rd_dir,prop_geo_clean))"
   ]
  },
  {
   "cell_type": "markdown",
   "id": "a1fa65a6-6741-454f-b90d-5828c27e76a0",
   "metadata": {},
   "source": [
    "**Stop**</br>At this stage go to ArcGIS Pro and \"Add Surface Information\" from a DEM to the cleaned roads. Add Z_Mean, S_Length, and Avg_Slope to the road lines.\n",
    "Hacky yes, but this is very painful to do in Python and very simple to do there. Load the data back in below.\n",
    "</br> Once you are done continue on in this notebook."
   ]
  },
  {
   "cell_type": "markdown",
   "id": "8d17f3ce-d6d5-4d25-b1cd-20f53d1901aa",
   "metadata": {
    "tags": []
   },
   "source": [
    "## Load in and process roads vectors"
   ]
  },
  {
   "cell_type": "markdown",
   "id": "a98fe105-bad3-4a68-a064-0550c7a77d18",
   "metadata": {},
   "source": [
    "Note: need to add elevation data and slope to proposed roads prior to this step using ArcGIS's Add Surface Info"
   ]
  },
  {
   "cell_type": "code",
   "execution_count": 25,
   "id": "ceaa5cd7-112e-4882-9036-6637d44eed00",
   "metadata": {},
   "outputs": [],
   "source": [
    "prop_tab = pd.read_csv(os.path.join(data_dir,rd_dir,r'Proposed_raw//Clean_proposed_roads_attributes_211017.csv'))"
   ]
  },
  {
   "cell_type": "code",
   "execution_count": 26,
   "id": "ec370304-1ab0-4c0b-8295-d6667c16a856",
   "metadata": {},
   "outputs": [],
   "source": [
    "# load back in your roads data after joining surface information in ArcGIS\n",
    "prop_raw = gpd.read_file(os.path.join(data_dir,rd_dir,prop_geo_clean)).to_crs(dest_crs)"
   ]
  },
  {
   "cell_type": "code",
   "execution_count": 27,
   "id": "5fc29799-3ad9-4333-bd40-8f185c5da431",
   "metadata": {},
   "outputs": [
    {
     "data": {
      "text/html": [
       "<div>\n",
       "<style scoped>\n",
       "    .dataframe tbody tr th:only-of-type {\n",
       "        vertical-align: middle;\n",
       "    }\n",
       "\n",
       "    .dataframe tbody tr th {\n",
       "        vertical-align: top;\n",
       "    }\n",
       "\n",
       "    .dataframe thead th {\n",
       "        text-align: right;\n",
       "    }\n",
       "</style>\n",
       "<table border=\"1\" class=\"dataframe\">\n",
       "  <thead>\n",
       "    <tr style=\"text-align: right;\">\n",
       "      <th></th>\n",
       "      <th>SN</th>\n",
       "      <th>Z_Mean</th>\n",
       "      <th>SLength</th>\n",
       "      <th>Avg_Slope</th>\n",
       "      <th>geometry</th>\n",
       "    </tr>\n",
       "  </thead>\n",
       "  <tbody>\n",
       "    <tr>\n",
       "      <th>0</th>\n",
       "      <td>7</td>\n",
       "      <td>1394.454701</td>\n",
       "      <td>24512.928300</td>\n",
       "      <td>16.396382</td>\n",
       "      <td>LINESTRING (754400.310 3941840.318, 754400.683...</td>\n",
       "    </tr>\n",
       "    <tr>\n",
       "      <th>1</th>\n",
       "      <td>7</td>\n",
       "      <td>1460.468933</td>\n",
       "      <td>338.217335</td>\n",
       "      <td>6.488805</td>\n",
       "      <td>LINESTRING (752244.146 3969417.479, 752227.927...</td>\n",
       "    </tr>\n",
       "  </tbody>\n",
       "</table>\n",
       "</div>"
      ],
      "text/plain": [
       "   SN       Z_Mean       SLength  Avg_Slope  \\\n",
       "0   7  1394.454701  24512.928300  16.396382   \n",
       "1   7  1460.468933    338.217335   6.488805   \n",
       "\n",
       "                                            geometry  \n",
       "0  LINESTRING (754400.310 3941840.318, 754400.683...  \n",
       "1  LINESTRING (752244.146 3969417.479, 752227.927...  "
      ]
     },
     "execution_count": 27,
     "metadata": {},
     "output_type": "execute_result"
    }
   ],
   "source": [
    "prop_raw.head(2)"
   ]
  },
  {
   "cell_type": "markdown",
   "id": "f25c6d4f-77e3-41e8-aca7-72d3550964b8",
   "metadata": {},
   "source": [
    "Each road has multiple segments which are of different lengths and slopes. To get the most accurate value for each road we must weight segment's values by their length when combining"
   ]
  },
  {
   "cell_type": "markdown",
   "id": "2aef368f-7264-4577-8eb4-087e20edb7db",
   "metadata": {},
   "source": [
    "Calculate length-weighted slope and elevation by road"
   ]
  },
  {
   "cell_type": "code",
   "execution_count": 28,
   "id": "dd14150c-403c-43e8-9694-50b3c28ac06b",
   "metadata": {},
   "outputs": [],
   "source": [
    "# calculate road segment weight (based on length as part of road's total length\n",
    "\n",
    "rds_length = prop_raw.groupby('SN')['SLength'].sum().rename('total_length',axis=1)\n",
    "prop_raw = pd.merge(prop_raw,rds_length,how='left',on='SN')\n",
    "prop_raw['length_wt'] = prop_raw['SLength'] / prop_raw['total_length']"
   ]
  },
  {
   "cell_type": "code",
   "execution_count": 29,
   "id": "3b24c7ba-306f-4a35-9887-385b81105b62",
   "metadata": {},
   "outputs": [],
   "source": [
    "# calculate weighted elev and slope per road segment\n",
    "\n",
    "prop_raw['Z_Mean'] = prop_raw.Z_Mean * prop_raw.length_wt\n",
    "prop_raw['Avg_Slope'] = prop_raw.Avg_Slope * prop_raw.length_wt"
   ]
  },
  {
   "cell_type": "code",
   "execution_count": 30,
   "id": "c7e51c93-62d9-49f4-85b0-a09f779bf51a",
   "metadata": {},
   "outputs": [],
   "source": [
    "# calculate weighted average elevation and slope per road, slim down to one data frame, join in other tabular info\n",
    "\n",
    "prop_slim = prop_raw.groupby('SN')[['Z_Mean','Avg_Slope']].sum()\n",
    "prop_slim = pd.merge(prop_slim,prop_tab,how='left',on='SN')\n",
    "prop_slim.SN = prop_slim.SN.astype(int)"
   ]
  },
  {
   "cell_type": "markdown",
   "id": "02bd5086-c64d-41a9-8bf7-778d823a8b13",
   "metadata": {},
   "source": [
    "Dissolve the results by SN"
   ]
  },
  {
   "cell_type": "code",
   "execution_count": 31,
   "id": "f24cedd1-00d2-4efe-bf64-ab6ba4fbff7e",
   "metadata": {},
   "outputs": [],
   "source": [
    "# the agg function just works on the road lengths\n",
    "prop_d = prop_raw.dissolve(by='SN',aggfunc='sum').reset_index()"
   ]
  },
  {
   "cell_type": "markdown",
   "id": "fe20194b-8f04-4cab-8d4d-9849c5eab914",
   "metadata": {},
   "source": [
    "Consolidate the road lines on their common IDs and then join the resulting geometries to the slimmed down proposed roads DF"
   ]
  },
  {
   "cell_type": "code",
   "execution_count": 32,
   "id": "c9ecc3ac-281d-4930-bd05-21e50aee6ebd",
   "metadata": {},
   "outputs": [],
   "source": [
    "prop_raw = gpd.GeoDataFrame(pd.merge(prop_slim,prop_d[['SN','geometry']],how='left',on='SN'))"
   ]
  },
  {
   "cell_type": "code",
   "execution_count": 33,
   "id": "80d37311-e51b-4a6b-9977-5971c5466df6",
   "metadata": {},
   "outputs": [
    {
     "data": {
      "text/html": [
       "<div>\n",
       "<style scoped>\n",
       "    .dataframe tbody tr th:only-of-type {\n",
       "        vertical-align: middle;\n",
       "    }\n",
       "\n",
       "    .dataframe tbody tr th {\n",
       "        vertical-align: top;\n",
       "    }\n",
       "\n",
       "    .dataframe thead th {\n",
       "        text-align: right;\n",
       "    }\n",
       "</style>\n",
       "<table border=\"1\" class=\"dataframe\">\n",
       "  <thead>\n",
       "    <tr style=\"text-align: right;\">\n",
       "      <th></th>\n",
       "      <th>SN</th>\n",
       "      <th>Z_Mean</th>\n",
       "      <th>Avg_Slope</th>\n",
       "      <th>Road_Name</th>\n",
       "      <th>District</th>\n",
       "      <th>Current_Road_Cond</th>\n",
       "      <th>Current_Surface</th>\n",
       "      <th>Current_Road_Class</th>\n",
       "      <th>Upgrade_Road_Cond</th>\n",
       "      <th>Upgrade_Surface</th>\n",
       "      <th>Upgrade_Road_Class</th>\n",
       "      <th>geometry</th>\n",
       "    </tr>\n",
       "  </thead>\n",
       "  <tbody>\n",
       "    <tr>\n",
       "      <th>0</th>\n",
       "      <td>1</td>\n",
       "      <td>2276.075397</td>\n",
       "      <td>25.214012</td>\n",
       "      <td>Green Lasht - Lot Oweer Road (via Barum-Shahbr...</td>\n",
       "      <td>Upper Chitral</td>\n",
       "      <td>Poor</td>\n",
       "      <td>Earthen</td>\n",
       "      <td>Collector Road</td>\n",
       "      <td>Very Good</td>\n",
       "      <td>Asphaltic</td>\n",
       "      <td>Collector Road</td>\n",
       "      <td>MULTILINESTRING ((772711.858 4003961.232, 7727...</td>\n",
       "    </tr>\n",
       "    <tr>\n",
       "      <th>15</th>\n",
       "      <td>17</td>\n",
       "      <td>937.098895</td>\n",
       "      <td>26.903658</td>\n",
       "      <td>Khanano Dheri to Dadam Road</td>\n",
       "      <td>Torghar</td>\n",
       "      <td>Poor</td>\n",
       "      <td>Gravel</td>\n",
       "      <td>District Road</td>\n",
       "      <td>Very Good</td>\n",
       "      <td>Asphaltic</td>\n",
       "      <td>District Road</td>\n",
       "      <td>MULTILINESTRING ((842269.655 3817473.455, 8422...</td>\n",
       "    </tr>\n",
       "    <tr>\n",
       "      <th>30</th>\n",
       "      <td>41</td>\n",
       "      <td>837.345029</td>\n",
       "      <td>3.534070</td>\n",
       "      <td>Palosa Sar to Ghundi Mirkhan khel UC Ghundi Mi...</td>\n",
       "      <td>Karak</td>\n",
       "      <td>Poor</td>\n",
       "      <td>Gravel</td>\n",
       "      <td>Access Road</td>\n",
       "      <td>Very Good</td>\n",
       "      <td>Asphaltic</td>\n",
       "      <td>District Road</td>\n",
       "      <td>MULTILINESTRING ((710636.516 3670889.511, 7106...</td>\n",
       "    </tr>\n",
       "    <tr>\n",
       "      <th>45</th>\n",
       "      <td>72</td>\n",
       "      <td>896.729189</td>\n",
       "      <td>7.154232</td>\n",
       "      <td>Jar Mula Kalay Naraza Road</td>\n",
       "      <td>Bajaur</td>\n",
       "      <td>Poor</td>\n",
       "      <td>Gravel</td>\n",
       "      <td>Access Road</td>\n",
       "      <td>Very Good</td>\n",
       "      <td>Asphaltic</td>\n",
       "      <td>Access Road</td>\n",
       "      <td>MULTILINESTRING ((738975.433 3851825.310, 7389...</td>\n",
       "    </tr>\n",
       "  </tbody>\n",
       "</table>\n",
       "</div>"
      ],
      "text/plain": [
       "    SN       Z_Mean  Avg_Slope  \\\n",
       "0    1  2276.075397  25.214012   \n",
       "15  17   937.098895  26.903658   \n",
       "30  41   837.345029   3.534070   \n",
       "45  72   896.729189   7.154232   \n",
       "\n",
       "                                            Road_Name       District  \\\n",
       "0   Green Lasht - Lot Oweer Road (via Barum-Shahbr...  Upper Chitral   \n",
       "15                        Khanano Dheri to Dadam Road        Torghar   \n",
       "30  Palosa Sar to Ghundi Mirkhan khel UC Ghundi Mi...          Karak   \n",
       "45                         Jar Mula Kalay Naraza Road         Bajaur   \n",
       "\n",
       "   Current_Road_Cond Current_Surface Current_Road_Class Upgrade_Road_Cond  \\\n",
       "0               Poor         Earthen     Collector Road         Very Good   \n",
       "15              Poor          Gravel      District Road         Very Good   \n",
       "30              Poor          Gravel        Access Road         Very Good   \n",
       "45              Poor          Gravel        Access Road         Very Good   \n",
       "\n",
       "   Upgrade_Surface Upgrade_Road_Class  \\\n",
       "0       Asphaltic      Collector Road   \n",
       "15      Asphaltic       District Road   \n",
       "30      Asphaltic       District Road   \n",
       "45      Asphaltic         Access Road   \n",
       "\n",
       "                                             geometry  \n",
       "0   MULTILINESTRING ((772711.858 4003961.232, 7727...  \n",
       "15  MULTILINESTRING ((842269.655 3817473.455, 8422...  \n",
       "30  MULTILINESTRING ((710636.516 3670889.511, 7106...  \n",
       "45  MULTILINESTRING ((738975.433 3851825.310, 7389...  "
      ]
     },
     "execution_count": 33,
     "metadata": {},
     "output_type": "execute_result"
    }
   ],
   "source": [
    "prop_raw[::15]"
   ]
  },
  {
   "cell_type": "markdown",
   "id": "c44583db-a971-4a74-9f10-43384489c606",
   "metadata": {
    "tags": []
   },
   "source": [
    "## Populate speeds for the roads based on their type, status, pavement, and location\n",
    "First align the data model with the existing roads data model"
   ]
  },
  {
   "cell_type": "code",
   "execution_count": 34,
   "id": "06e5fcab-fe58-4020-b09e-b9c2ab76883d",
   "metadata": {},
   "outputs": [],
   "source": [
    "# create a temporary copy to iterate over\n",
    "prop_rds = prop_raw.copy()"
   ]
  },
  {
   "cell_type": "code",
   "execution_count": 35,
   "id": "8849fd00-37dc-4ee4-82a1-091fb42d7239",
   "metadata": {},
   "outputs": [
    {
     "data": {
      "text/plain": [
       "SN                       int32\n",
       "Z_Mean                 float64\n",
       "Avg_Slope              float64\n",
       "Road_Name               object\n",
       "District                object\n",
       "Current_Road_Cond       object\n",
       "Current_Surface         object\n",
       "Current_Road_Class      object\n",
       "Upgrade_Road_Cond       object\n",
       "Upgrade_Surface         object\n",
       "Upgrade_Road_Class      object\n",
       "geometry              geometry\n",
       "dtype: object"
      ]
     },
     "execution_count": 35,
     "metadata": {},
     "output_type": "execute_result"
    }
   ],
   "source": [
    "prop_rds.dtypes"
   ]
  },
  {
   "cell_type": "markdown",
   "id": "c40aa56f-3312-4729-8735-afc4a507aa2c",
   "metadata": {},
   "source": [
    "Terrain"
   ]
  },
  {
   "cell_type": "code",
   "execution_count": 36,
   "id": "b48128df-103e-406f-954b-13d0dfe33338",
   "metadata": {},
   "outputs": [],
   "source": [
    "# narrowing range to 8/16 based on satellite imagery observation\n",
    "prop_rds['Terrain'] = pd.cut(prop_rds['Avg_Slope'], [-np.inf, 8, 16, np.inf], \n",
    "                           labels = ['Plains', 'Hills', 'Mountains']) # change labels here"
   ]
  },
  {
   "cell_type": "markdown",
   "id": "2d821a35-ee26-477e-a723-52d07fc83b57",
   "metadata": {},
   "source": [
    "Conditions -- leftover"
   ]
  },
  {
   "cell_type": "code",
   "execution_count": 37,
   "id": "80199ca5-2c7a-4977-b9a2-9234a947aea2",
   "metadata": {},
   "outputs": [],
   "source": [
    "prop_rds.Current_Road_Class = prop_rds.Current_Road_Class.replace('Village road','Collector Road')\n",
    "prop_rds.Current_Road_Class = prop_rds.Current_Road_Class.fillna('Collector Road')"
   ]
  },
  {
   "cell_type": "code",
   "execution_count": 38,
   "id": "f564b28b-e12a-4286-8542-ea483945db52",
   "metadata": {},
   "outputs": [],
   "source": [
    "road_condition_filter = [prop_rds['Terrain'].str.contains('Plains') & prop_rds['Current_Road_Class'].str.contains('Provincial'),    \n",
    "    prop_rds['Terrain'].str.contains('Plains') & prop_rds['Current_Road_Class'].str.contains('District'),    \n",
    "    prop_rds['Terrain'].str.contains('Plains') & prop_rds['Current_Road_Class'].str.contains('Access'),    \n",
    "    prop_rds['Terrain'].str.contains('Plains') & prop_rds['Current_Road_Class'].str.contains('Collector'),\n",
    "    prop_rds['Terrain'].str.contains('Hills') & prop_rds['Current_Road_Class'].str.contains('Provincial'),    \n",
    "    prop_rds['Terrain'].str.contains('Hills') & prop_rds['Current_Road_Class'].str.contains('District'),    \n",
    "    prop_rds['Terrain'].str.contains('Hills') & prop_rds['Current_Road_Class'].str.contains('Access'),    \n",
    "    prop_rds['Terrain'].str.contains('Hills') & prop_rds['Current_Road_Class'].str.contains('Collector'),\n",
    "    prop_rds['Terrain'].str.contains('Mountains') & prop_rds['Current_Road_Class'].str.contains('Provincial'),    \n",
    "    prop_rds['Terrain'].str.contains('Mountains') & prop_rds['Current_Road_Class'].str.contains('District'),    \n",
    "    prop_rds['Terrain'].str.contains('Mountains') & prop_rds['Current_Road_Class'].str.contains('Access'),    \n",
    "    prop_rds['Terrain'].str.contains('Mountains') & prop_rds['Current_Road_Class'].str.contains('Collector')]"
   ]
  },
  {
   "cell_type": "code",
   "execution_count": 39,
   "id": "f7123cb0-59d1-478c-82ea-cd937684b9c4",
   "metadata": {},
   "outputs": [
    {
     "data": {
      "text/plain": [
       "Index(['SN', 'Z_Mean', 'Avg_Slope', 'Road_Name', 'District',\n",
       "       'Current_Road_Cond', 'Current_Surface', 'Current_Road_Class',\n",
       "       'Upgrade_Road_Cond', 'Upgrade_Surface', 'Upgrade_Road_Class',\n",
       "       'geometry', 'Terrain'],\n",
       "      dtype='object')"
      ]
     },
     "execution_count": 39,
     "metadata": {},
     "output_type": "execute_result"
    }
   ],
   "source": [
    "prop_rds.columns"
   ]
  },
  {
   "cell_type": "markdown",
   "id": "aae7e72c-8afd-41f7-95a0-38cf7cc1f4db",
   "metadata": {},
   "source": [
    "### Calculate Speeds"
   ]
  },
  {
   "cell_type": "markdown",
   "id": "f81cecad-6098-416a-8718-9fab6a4e3933",
   "metadata": {},
   "source": [
    "Base speeds from road type and terrain"
   ]
  },
  {
   "cell_type": "code",
   "execution_count": 40,
   "id": "5dd13723-8703-4273-893c-0146a851fb35",
   "metadata": {},
   "outputs": [],
   "source": [
    "terrain_current_class_filter = [prop_rds['Terrain'].str.contains('Plains') & prop_rds['Current_Road_Class'].str.contains('Provincial'),    \n",
    "    prop_rds['Terrain'].str.contains('Plains') & prop_rds['Current_Road_Class'].str.contains('District'),    \n",
    "    prop_rds['Terrain'].str.contains('Plains') & prop_rds['Current_Road_Class'].str.contains('Access'),    \n",
    "    prop_rds['Terrain'].str.contains('Plains') & prop_rds['Current_Road_Class'].str.contains('Collector'),\n",
    "    prop_rds['Terrain'].str.contains('Hills') & prop_rds['Current_Road_Class'].str.contains('Provincial'),    \n",
    "    prop_rds['Terrain'].str.contains('Hills') & prop_rds['Current_Road_Class'].str.contains('District'),    \n",
    "    prop_rds['Terrain'].str.contains('Hills') & prop_rds['Current_Road_Class'].str.contains('Access'),    \n",
    "    prop_rds['Terrain'].str.contains('Hills') & prop_rds['Current_Road_Class'].str.contains('Collector'),\n",
    "    prop_rds['Terrain'].str.contains('Mountains') & prop_rds['Current_Road_Class'].str.contains('Provincial'),    \n",
    "    prop_rds['Terrain'].str.contains('Mountains') & prop_rds['Current_Road_Class'].str.contains('District'),    \n",
    "    prop_rds['Terrain'].str.contains('Mountains') & prop_rds['Current_Road_Class'].str.contains('Access'),    \n",
    "    prop_rds['Terrain'].str.contains('Mountains') & prop_rds['Current_Road_Class'].str.contains('Collector')]\n",
    "                        \n",
    "terrain_upgrade_class_filter = [prop_rds['Terrain'].str.contains('Plains') & prop_rds['Upgrade_Road_Class'].str.contains('Provincial'),    \n",
    "    prop_rds['Terrain'].str.contains('Plains') & prop_rds['Upgrade_Road_Class'].str.contains('District'),    \n",
    "    prop_rds['Terrain'].str.contains('Plains') & prop_rds['Upgrade_Road_Class'].str.contains('Access'),    \n",
    "    prop_rds['Terrain'].str.contains('Plains') & prop_rds['Upgrade_Road_Class'].str.contains('Collector'),\n",
    "    prop_rds['Terrain'].str.contains('Hills') & prop_rds['Upgrade_Road_Class'].str.contains('Provincial'),    \n",
    "    prop_rds['Terrain'].str.contains('Hills') & prop_rds['Upgrade_Road_Class'].str.contains('District'),    \n",
    "    prop_rds['Terrain'].str.contains('Hills') & prop_rds['Upgrade_Road_Class'].str.contains('Access'),    \n",
    "    prop_rds['Terrain'].str.contains('Hills') & prop_rds['Upgrade_Road_Class'].str.contains('Collector'),\n",
    "    prop_rds['Terrain'].str.contains('Mountains') & prop_rds['Upgrade_Road_Class'].str.contains('Provincial'),    \n",
    "    prop_rds['Terrain'].str.contains('Mountains') & prop_rds['Upgrade_Road_Class'].str.contains('District'),    \n",
    "    prop_rds['Terrain'].str.contains('Mountains') & prop_rds['Upgrade_Road_Class'].str.contains('Access'),    \n",
    "    prop_rds['Terrain'].str.contains('Mountains') & prop_rds['Upgrade_Road_Class'].str.contains('Collector')]\n",
    "                        "
   ]
  },
  {
   "cell_type": "code",
   "execution_count": 41,
   "id": "84440dd9-14b1-4754-b78d-27fb536c2127",
   "metadata": {},
   "outputs": [],
   "source": [
    "# Corresponding list of speeds, with line breaks by terrain type for editing and readability\n",
    "speeds_lst = [80,50,40,20,\\\n",
    "              60,40,30,15,\\\n",
    "              40,30,20,10]"
   ]
  },
  {
   "cell_type": "code",
   "execution_count": 42,
   "id": "75a0cf3d-a889-4581-8151-d18d8ea02970",
   "metadata": {},
   "outputs": [],
   "source": [
    "# initial dry speeds to calculate msn speeds\n",
    "prop_rds['current_base_speed'] = np.select(terrain_current_class_filter,speeds_lst,default=0.5) # very low default as path speeds will be re-calculated separately using terrain down the road\n",
    "prop_rds['upgrade_base_speed'] = np.select(terrain_upgrade_class_filter,speeds_lst,default=0.5)"
   ]
  },
  {
   "cell_type": "markdown",
   "id": "f47df482-093d-4fac-a922-e5927847e408",
   "metadata": {},
   "source": [
    "**Modify based on condition + season**"
   ]
  },
  {
   "cell_type": "markdown",
   "id": "0a57c2eb-5e1d-4137-a6b1-31ddc2c00e45",
   "metadata": {},
   "source": [
    "Define a filter based on surface + condition that we'll use to assign speed modifiers in each season. Note that we add an `Asphaltic` surface type unique to proposed roads because this was specified by the client. We assume it's very good and has minimal speed reductions even under difficult conditions"
   ]
  },
  {
   "cell_type": "code",
   "execution_count": 43,
   "id": "56d01dac-58a2-4bad-8a87-7a2f4fc56cc0",
   "metadata": {},
   "outputs": [],
   "source": [
    "current_class_filter = [prop_rds['Current_Surface'].str.contains('Earthen') & prop_rds['Current_Road_Cond'].str.contains('Good'),    \n",
    "                        prop_rds['Current_Surface'].str.contains('Earthen') & prop_rds['Current_Road_Cond'].str.contains('Fair'),    \n",
    "                        prop_rds['Current_Surface'].str.contains('Earthen') & prop_rds['Current_Road_Cond'].str.contains('Poor'),\n",
    "                        prop_rds['Current_Surface'].str.contains('Gravel') & prop_rds['Current_Road_Cond'].str.contains('Good'),    \n",
    "                        prop_rds['Current_Surface'].str.contains('Gravel') & prop_rds['Current_Road_Cond'].str.contains('Fair'),    \n",
    "                        prop_rds['Current_Surface'].str.contains('Gravel') & prop_rds['Current_Road_Cond'].str.contains('Poor'),\n",
    "                        prop_rds['Current_Surface'].str.contains('Paved') & prop_rds['Current_Road_Cond'].str.contains('Good'),    \n",
    "                        prop_rds['Current_Surface'].str.contains('Paved') & prop_rds['Current_Road_Cond'].str.contains('Fair'),    \n",
    "                        prop_rds['Current_Surface'].str.contains('Paved') & prop_rds['Current_Road_Cond'].str.contains('Poor'),\n",
    "                        prop_rds['Current_Surface'].str.contains('Asphaltic') & prop_rds['Current_Road_Cond'].str.contains('Good'),    \n",
    "                        prop_rds['Current_Surface'].str.contains('Asphaltic') & prop_rds['Current_Road_Cond'].str.contains('Fair'),    \n",
    "                        prop_rds['Current_Surface'].str.contains('Asphaltic') & prop_rds['Current_Road_Cond'].str.contains('Poor')]\n",
    "\n",
    "upgrade_class_filter = [prop_rds['Upgrade_Surface'].str.contains('Earthen') & prop_rds['Upgrade_Road_Cond'].str.contains('Good'),    \n",
    "                        prop_rds['Upgrade_Surface'].str.contains('Earthen') & prop_rds['Upgrade_Road_Cond'].str.contains('Fair'),    \n",
    "                        prop_rds['Upgrade_Surface'].str.contains('Earthen') & prop_rds['Upgrade_Road_Cond'].str.contains('Poor'),\n",
    "                        prop_rds['Upgrade_Surface'].str.contains('Gravel') & prop_rds['Upgrade_Road_Cond'].str.contains('Good'),    \n",
    "                        prop_rds['Upgrade_Surface'].str.contains('Gravel') & prop_rds['Upgrade_Road_Cond'].str.contains('Fair'),    \n",
    "                        prop_rds['Upgrade_Surface'].str.contains('Gravel') & prop_rds['Upgrade_Road_Cond'].str.contains('Poor'),\n",
    "                        prop_rds['Upgrade_Surface'].str.contains('Paved') & prop_rds['Upgrade_Road_Cond'].str.contains('Good'),    \n",
    "                        prop_rds['Upgrade_Surface'].str.contains('Paved') & prop_rds['Upgrade_Road_Cond'].str.contains('Fair'),    \n",
    "                        prop_rds['Upgrade_Surface'].str.contains('Paved') & prop_rds['Upgrade_Road_Cond'].str.contains('Poor'),\n",
    "                        prop_rds['Upgrade_Surface'].str.contains('Asphaltic') & prop_rds['Upgrade_Road_Cond'].str.contains('Good'),    \n",
    "                        prop_rds['Upgrade_Surface'].str.contains('Asphaltic') & prop_rds['Upgrade_Road_Cond'].str.contains('Fair'),    \n",
    "                        prop_rds['Upgrade_Surface'].str.contains('Asphaltic') & prop_rds['Upgrade_Road_Cond'].str.contains('Poor')]"
   ]
  },
  {
   "cell_type": "markdown",
   "id": "3511d505-7fcf-4ef3-8e75-7c06448b689c",
   "metadata": {},
   "source": [
    "Dry season"
   ]
  },
  {
   "cell_type": "code",
   "execution_count": 44,
   "id": "d43972ac-4e14-47c6-bd44-3b56a1087db9",
   "metadata": {
    "tags": []
   },
   "outputs": [],
   "source": [
    "# Corresponding list of dry season speed modifiers, with line breaks by terrain type for editing and readability\n",
    "\n",
    "dry_mods_lst = [ 0.6, 0.5, 0.4,\\\n",
    "                 0.75, 0.6, 0.5,\\\n",
    "                 1, 0.8, 0.6, \n",
    "                 1, 1, 0.8]\n",
    "\n",
    "prop_rds['current_dry_mod'] = np.select(current_class_filter,dry_mods_lst,default=0.5) # very low default as path speeds will be re-calculated separately using terrain down the road\n",
    "prop_rds['upgrade_dry_mod'] = np.select(upgrade_class_filter,dry_mods_lst,default=0.5) # very low default as path speeds will be re-calculated separately using terrain down the road\n",
    "\n",
    "prop_rds['current_dry_speed'] = prop_rds.current_dry_mod * prop_rds.current_base_speed\n",
    "prop_rds['upgrade_dry_speed'] = prop_rds.upgrade_dry_mod * prop_rds.upgrade_base_speed"
   ]
  },
  {
   "cell_type": "code",
   "execution_count": 45,
   "id": "b4b04fc2-8f44-492a-ad77-5b9017307e9e",
   "metadata": {},
   "outputs": [
    {
     "data": {
      "text/plain": [
       "26    30.0\n",
       "51    30.0\n",
       "52    30.0\n",
       "53    30.0\n",
       "23    30.0\n",
       "Name: current_dry_speed, dtype: float64"
      ]
     },
     "execution_count": 45,
     "metadata": {},
     "output_type": "execute_result"
    }
   ],
   "source": [
    "# check that the last values are not null (indicating all speeds were successfully calculated)\n",
    "prop_rds.sort_values('current_dry_speed').current_dry_speed.tail()"
   ]
  },
  {
   "cell_type": "code",
   "execution_count": 46,
   "id": "1e93702e-f8cd-4cfa-8fd8-7b71ea6d4edf",
   "metadata": {},
   "outputs": [
    {
     "data": {
      "text/plain": [
       "32    50.0\n",
       "36    50.0\n",
       "37    50.0\n",
       "39    50.0\n",
       "58    50.0\n",
       "Name: upgrade_dry_speed, dtype: float64"
      ]
     },
     "execution_count": 46,
     "metadata": {},
     "output_type": "execute_result"
    }
   ],
   "source": [
    "# check that the last values are not null (indicating all speeds were successfully calculated)\n",
    "prop_rds.sort_values('upgrade_dry_speed').upgrade_dry_speed.tail()"
   ]
  },
  {
   "cell_type": "markdown",
   "id": "3686d7da-d2ee-46a1-9b76-e6b731462d44",
   "metadata": {},
   "source": [
    "Monsoon"
   ]
  },
  {
   "cell_type": "code",
   "execution_count": 47,
   "id": "5b22bf3a-3956-4f1b-83bb-47afa3798dfd",
   "metadata": {},
   "outputs": [],
   "source": [
    "# Corresponding list of monsoon speed modifiers, with line breaks by terrain type for editing and readability\n",
    "\n",
    "msn_mods_lst = [ 0.4, 0.3, 0.2,\\\n",
    "                 0.7, 0.5, 0.4,\\\n",
    "                 0.9, 0.75, 0.5,\n",
    "                 1, 0.9, 0.75]\n",
    "\n",
    "prop_rds['current_msn_mod'] = np.select(current_class_filter,msn_mods_lst,default=0.5) # very low default as path speeds will be re-calculated separately using terrain down the road\n",
    "prop_rds['upgrade_msn_mod'] = np.select(upgrade_class_filter,msn_mods_lst,default=0.5) # very low default as path speeds will be re-calculated separately using terrain down the road\n",
    "\n",
    "prop_rds['current_msn_speed'] = prop_rds.current_msn_mod * prop_rds.current_base_speed\n",
    "prop_rds['upgrade_msn_speed'] = prop_rds.upgrade_msn_mod * prop_rds.upgrade_base_speed"
   ]
  },
  {
   "cell_type": "markdown",
   "id": "05457c44-23d1-4208-b295-de6246ad90ac",
   "metadata": {},
   "source": [
    "Winter"
   ]
  },
  {
   "cell_type": "code",
   "execution_count": 48,
   "id": "933e67d6-1714-4078-8b2f-53a886d406c0",
   "metadata": {},
   "outputs": [],
   "source": [
    "# Corresponding list of monsoon speed modifiers, with line breaks by terrain type for editing and readability\n",
    "\n",
    "winter_mods_lst = [ 0.4, 0.3, 0.2,\\\n",
    "                    0.7, 0.5, 0.4,\\\n",
    "                    1, 0.75, 0.5,\n",
    "                    1, 0.9, 0.75]\n",
    "\n",
    "prop_rds['current_winter_mod'] = np.select(current_class_filter,winter_mods_lst,default=0.5) # very low default as path speeds will be re-calculated separately using terrain down the road\n",
    "prop_rds['upgrade_winter_mod'] = np.select(upgrade_class_filter,winter_mods_lst,default=0.5) # very low default as path speeds will be re-calculated separately using terrain down the road"
   ]
  },
  {
   "cell_type": "code",
   "execution_count": 49,
   "id": "0edccaeb-36ae-48b7-8d29-c5181a207e80",
   "metadata": {},
   "outputs": [],
   "source": [
    "# Define which winter mods to apply to which road based on their terrain\n",
    "\n",
    "winter_cutoff_lst = [prop_rds['Terrain'] == 'Plains', \\\n",
    "                     prop_rds['Terrain'] == 'Hills', \\\n",
    "                     prop_rds['Terrain'] == 'Mountains']"
   ]
  },
  {
   "cell_type": "code",
   "execution_count": 50,
   "id": "60b44e93-2b60-4b91-8875-e04ad3300d18",
   "metadata": {},
   "outputs": [],
   "source": [
    "winter_current_mod_revised =  [ prop_rds['current_dry_speed'], \\\n",
    "                       (prop_rds['current_dry_speed'] * (prop_rds['current_winter_mod'] + (1 - prop_rds['current_winter_mod']) /2) ), \\\n",
    "                       (prop_rds['current_base_speed'] * prop_rds['current_winter_mod'])]\n",
    "\n",
    "winter_upgrade_mod_revised =  [ prop_rds['upgrade_dry_speed'], \\\n",
    "                       (prop_rds['upgrade_dry_speed'] * (prop_rds['upgrade_winter_mod'] + (1 - prop_rds['upgrade_winter_mod']) /2) ), \\\n",
    "                       (prop_rds['upgrade_base_speed'] * prop_rds['upgrade_winter_mod'])]"
   ]
  },
  {
   "cell_type": "code",
   "execution_count": 51,
   "id": "4c59734f-f8c4-48f7-b807-366ae85a9a3b",
   "metadata": {},
   "outputs": [],
   "source": [
    "prop_rds['current_winter_speed'] = np.select(winter_cutoff_lst, winter_current_mod_revised, default=prop_rds['current_dry_speed'])\n",
    "prop_rds['upgrade_winter_speed'] = np.select(winter_cutoff_lst, winter_upgrade_mod_revised, default=prop_rds['upgrade_dry_speed'])"
   ]
  },
  {
   "cell_type": "code",
   "execution_count": 52,
   "id": "4f5a1f2e-49d4-44d4-a8cb-66c1b9a5588d",
   "metadata": {},
   "outputs": [
    {
     "data": {
      "text/plain": [
       "53    30.0\n",
       "25    30.0\n",
       "26    30.0\n",
       "22    30.0\n",
       "23    30.0\n",
       "Name: current_winter_speed, dtype: float64"
      ]
     },
     "execution_count": 52,
     "metadata": {},
     "output_type": "execute_result"
    }
   ],
   "source": [
    "# check that the last values are not null (indicating all speeds were successfully calculated)\n",
    "prop_rds.sort_values('current_winter_speed').current_winter_speed.tail()"
   ]
  },
  {
   "cell_type": "code",
   "execution_count": 53,
   "id": "4513dcc2-463c-4b6b-afba-707644d2d8f0",
   "metadata": {},
   "outputs": [
    {
     "data": {
      "text/plain": [
       "32    50.0\n",
       "36    50.0\n",
       "37    50.0\n",
       "39    50.0\n",
       "58    50.0\n",
       "Name: upgrade_dry_speed, dtype: float64"
      ]
     },
     "execution_count": 53,
     "metadata": {},
     "output_type": "execute_result"
    }
   ],
   "source": [
    "# check that the last values are not null (indicating all speeds were successfully calculated)\n",
    "prop_rds.sort_values('upgrade_dry_speed').upgrade_dry_speed.tail()"
   ]
  },
  {
   "cell_type": "markdown",
   "id": "843f7ff6-10d8-4dac-a5d1-afc071e60930",
   "metadata": {},
   "source": [
    "Check"
   ]
  },
  {
   "cell_type": "code",
   "execution_count": 54,
   "id": "bfb04465-d1f4-4d58-824e-7315abefd6ae",
   "metadata": {},
   "outputs": [],
   "source": [
    "test = prop_rds[['SN','Current_Road_Cond','Current_Surface','Current_Road_Class',\\\n",
    "              'Upgrade_Road_Cond','Upgrade_Surface','Upgrade_Road_Class',\\\n",
    "              'Terrain',\n",
    "              'current_dry_mod','current_msn_mod','current_winter_mod',\n",
    "              'current_base_speed','current_dry_speed','current_msn_speed','current_winter_speed',\\\n",
    "              'upgrade_base_speed','upgrade_dry_speed','upgrade_msn_speed','upgrade_winter_speed']]"
   ]
  },
  {
   "cell_type": "code",
   "execution_count": 55,
   "id": "ae5a3b29-45ea-4104-9b62-9746f5e30251",
   "metadata": {},
   "outputs": [
    {
     "name": "stderr",
     "output_type": "stream",
     "text": [
      "C:\\Users\\wb467985\\AppData\\Local\\Temp/ipykernel_17920/1935561870.py:2: SettingWithCopyWarning: \n",
      "A value is trying to be set on a copy of a slice from a DataFrame.\n",
      "Try using .loc[row_indexer,col_indexer] = value instead\n",
      "\n",
      "See the caveats in the documentation: https://pandas.pydata.org/pandas-docs/stable/user_guide/indexing.html#returning-a-view-versus-a-copy\n",
      "  test['spd_dif'] = test['current_dry_speed'] - test['current_winter_speed']\n"
     ]
    }
   ],
   "source": [
    "# if all results are 0 or positive this means dry speeds are >= than winter speeds, as they should be\n",
    "test['spd_dif'] = test['current_dry_speed'] - test['current_winter_speed']"
   ]
  },
  {
   "cell_type": "markdown",
   "id": "3174bf57-a790-4ebf-8e0e-db8403dc7cc3",
   "metadata": {
    "tags": []
   },
   "source": [
    "### Calculate the distance to the Nth nearest destination of each type from the end point of the line"
   ]
  },
  {
   "cell_type": "markdown",
   "id": "modified-tucson",
   "metadata": {},
   "source": [
    "This is necessary to clip the later friction and access surface outputs -- otherwise they will be enormous and difficult to work with"
   ]
  },
  {
   "cell_type": "code",
   "execution_count": 56,
   "id": "earned-coordinator",
   "metadata": {},
   "outputs": [],
   "source": [
    "# adapted from: https://automating-gis-processes.github.io/site/notebooks/L3/nearest-neighbor-faster.html\n",
    "# more info here https://towardsdatascience.com/using-scikit-learns-binary-trees-to-efficiently-find-latitude-and-longitude-neighbors-909979bd929b\n",
    "\n",
    "from sklearn.neighbors import BallTree\n",
    "\n",
    "def get_nth_nearest(src_points, candidates, k_neighbors=5):\n",
    "    \"\"\"Find nearest K neighbors for all source points from a set of candidate points, return Kth neighbor. If smaller than K, return nearest.\"\"\"\n",
    "\n",
    "    # Create tree from the candidate points\n",
    "    tree = BallTree(candidates, leaf_size=15, metric='haversine')\n",
    "\n",
    "    # Find closest points and distances\n",
    "    \n",
    "    if len(candidates) < k_neighbors:\n",
    "        distances, indices = tree.query(src_points, k=1)\n",
    "    else:\n",
    "        distances, indices = tree.query(src_points, k=k_neighbors)\n",
    "\n",
    "    # Transpose to get distances and indices into arrays\n",
    "    distances = distances.transpose()\n",
    "    indices = indices.transpose()\n",
    "\n",
    "    # Get closest indices and distances (i.e. array at index 0)\n",
    "    # note: for the second closest points, you would take index 1, etc.\n",
    "    # Robert -- setting to the 5th nearest feature as an arbitrary cutoff\n",
    "    \n",
    "    if len(candidates) < k_neighbors:\n",
    "        closest = indices[0]\n",
    "        closest_dist = distances[0]\n",
    "    else:\n",
    "        closest = indices[(k_neighbors - 1)]\n",
    "        closest_dist = distances[(k_neighbors - 1)]\n",
    "\n",
    "    # Return indices and distances\n",
    "    return (closest, closest_dist)\n",
    "\n",
    "def nearest_neighbors(left_gdf, right_gdf, return_dist=False, k_neighbors=5):\n",
    "    \"\"\"\n",
    "    For each point in left_gdf, find closest point in right GeoDataFrame and return them.\n",
    "\n",
    "    NOTICE: Assumes that the input Points are in WGS84 projection (lat/lon).\n",
    "    \"\"\"\n",
    "\n",
    "    left_geom_col = left_gdf.geometry.name\n",
    "    right_geom_col = right_gdf.geometry.name\n",
    "\n",
    "    # Ensure that index in right gdf is formed of sequential numbers\n",
    "    right = right_gdf.copy().reset_index(drop=True)\n",
    "\n",
    "    # Parse coordinates from points and insert them into a numpy array as RADIANS\n",
    "    left_radians = np.array(left_gdf[left_geom_col].apply(lambda geom: (geom.y * np.pi / 180, geom.x * np.pi / 180)).to_list())\n",
    "    right_radians = np.array(right[right_geom_col].apply(lambda geom: (geom.y * np.pi / 180, geom.x * np.pi / 180)).to_list())\n",
    "\n",
    "    # Find the nearest points\n",
    "    # -----------------------\n",
    "    # closest ==> index in right_gdf that corresponds to the closest point\n",
    "    # dist ==> distance between the nearest neighbors (in meters)\n",
    "\n",
    "    closest, dist = get_nth_nearest(src_points=left_radians, candidates=right_radians, k_neighbors=k_neighbors)\n",
    "\n",
    "    # Return points from right GeoDataFrame that are closest to points in left GeoDataFrame\n",
    "    closest_points = right.loc[closest]\n",
    "\n",
    "    # Ensure that the index corresponds the one in left_gdf\n",
    "    closest_points = closest_points.reset_index(drop=True)\n",
    "\n",
    "    # Add distance if requested\n",
    "    if return_dist:\n",
    "        # Convert to meters from radians\n",
    "        earth_radius = 6371000  # meters\n",
    "        closest_points['distance'] = dist * earth_radius\n",
    "\n",
    "    return closest_points\n",
    "\n",
    "# from https://gis.stackexchange.com/questions/378806/multi-part-geometries-do-not-provide-a-coordinate-sequence-error-when-extracti\n",
    "# only works on LineStrings, not MultiLineStrings\n",
    "\n",
    "def add_start_end_nodes_to_gdf(gdf):\n",
    "    \n",
    "# This function adds start and end nodes to geodataframe\n",
    "\n",
    "    gdf['start_node'] = None\n",
    "    gdf['end_node'] = None\n",
    "\n",
    "    for index, row in gdf.iterrows():\n",
    "        coords = [(coords) for coords in list(row['geometry'].coords)]\n",
    "        start_node, end_node = [coords[i] for i in (0, -1)]\n",
    "        gdf.at[index, 'start_node'] = start_node\n",
    "        gdf.at[index, 'end_node'] = end_node\n"
   ]
  },
  {
   "cell_type": "markdown",
   "id": "julian-elephant",
   "metadata": {},
   "source": [
    "Set up a dict of destinations we can loop over"
   ]
  },
  {
   "cell_type": "code",
   "execution_count": 58,
   "id": "exact-daniel",
   "metadata": {},
   "outputs": [],
   "source": [
    "dest_fils = {\n",
    "    re.findall(r'KP_(.*?).gpkg',fil)[0]: gpd.clip(gpd.read_file(os.path.join(data_dir,dest_dir,'reference',fil))\\\n",
    "                                                      .reset_index(drop=True)\\\n",
    "                                                      .set_crs(4326).to_crs(dest_crs),\\\n",
    "                                                  kp) \\\n",
    "    for fil in os.listdir(os.path.join(data_dir,dest_dir,'reference')) if fil.endswith(\".gpkg\")\n",
    "}"
   ]
  },
  {
   "cell_type": "code",
   "execution_count": 59,
   "id": "dd6e7d37-aaae-42e5-8486-d75f5f760eae",
   "metadata": {},
   "outputs": [
    {
     "data": {
      "text/plain": [
       "dict_keys(['District_HQs', 'education_allboys', 'education_allgirls', 'education_boys', 'education_boys_high', 'education_boys_middle', 'education_boys_primary', 'education_girls', 'education_girls_high', 'education_girls_middle', 'education_girls_primary', 'education_high', 'education_middle', 'education_primary', 'health_family', 'health_pharmacies', 'health_primary', 'health_private', 'health_public', 'health_secondary', 'health_tertiary', 'markets_All', 'markets_Central', 'Provincial_HQ'])"
      ]
     },
     "execution_count": 59,
     "metadata": {},
     "output_type": "execute_result"
    }
   ],
   "source": [
    "dest_fils.keys()"
   ]
  },
  {
   "cell_type": "markdown",
   "id": "young-contractor",
   "metadata": {},
   "source": [
    "Calculate distance from each line segment to the Nth destination point (or nearest if < N features)"
   ]
  },
  {
   "cell_type": "code",
   "execution_count": 60,
   "id": "treated-tiger",
   "metadata": {
    "tags": []
   },
   "outputs": [
    {
     "name": "stderr",
     "output_type": "stream",
     "text": [
      "C:\\Users\\wb467985\\Anaconda3\\envs\\geo\\lib\\site-packages\\geopandas\\geodataframe.py:182: UserWarning: Pandas doesn't allow columns to be created via a new attribute name - see https://pandas.pydata.org/pandas-docs/stable/indexing.html#attribute-access\n",
      "  super(GeoDataFrame, self).__setattr__(attr, val)\n"
     ]
    }
   ],
   "source": [
    "# sort notebook\n",
    "\n",
    "prop_rds = prop_rds.sort_values('SN').reset_index(drop=True)\n",
    "\n",
    "# create a temporary df we'll use to perform calculations\n",
    "\n",
    "prop_rds_pts = prop_rds.copy()\n",
    "\n",
    "# create single LineString objects so we can calculate their endpoints and measure from those\n",
    "# NOTE this is hacky and problematic if the multilinestrings are really long\n",
    "# TO DO: find the center point of the Linestring instead\n",
    "\n",
    "prop_rds_pts.geometry = pd.Series([i[0]  if i.type == 'MultiLineString' else i for i in prop_rds_pts.geometry])\n",
    "prop_rds_pts = prop_rds_pts.set_geometry('geometry')\n",
    "\n",
    "# calculate their start / end points\n",
    "\n",
    "add_start_end_nodes_to_gdf(prop_rds_pts)\n",
    "\n",
    "# make the end point the geometry\n",
    "\n",
    "prop_rds_pts['pt_geometry'] = pd.Series([Point(i) for i in prop_rds_pts.end_node])\n",
    "prop_rds_pts = prop_rds_pts.set_geometry('pt_geometry')\n",
    "\n",
    "# calculate the distance to the Nth feature on the prop_rds GDF using this pts GDF. \n",
    "# N =5 for most features, 2 for very dispersed features like markets and HQs. You may wish to vary these parameters based on your context\n",
    "\n",
    "for key, gdf in dest_fils.items():\n",
    "    \n",
    "    if key in ['District_HQs','markets_All','markets_Central']:\n",
    "    # pad the distance calculated by the road's length and an extra half kilometer to ensure no part of the road is ever excluded\n",
    "    \n",
    "        prop_rds[f'{key}_nth_nearest_distance'] = (nearest_neighbors(prop_rds_pts.to_crs(4326),\\\n",
    "                                                                     gdf.to_crs(4326),\\\n",
    "                                                                     return_dist=True,\n",
    "                                                                      k_neighbors=2)['distance'] + prop_rds_pts['geometry'].length + 500).astype(int)\n",
    "    else: \n",
    "    # pad the distance calculated by the road's length and an extra half kilometer to ensure no part of the road is ever excluded\n",
    "    \n",
    "        prop_rds[f'{key}_nth_nearest_distance'] = (nearest_neighbors(prop_rds_pts.to_crs(4326),\\\n",
    "                                                                     gdf.to_crs(4326),\\\n",
    "                                                                     return_dist=True,\n",
    "                                                                      k_neighbors=5)['distance'] + prop_rds_pts['geometry'].length + 500).astype(int)\n",
    "\n",
    "# add start and end nodes in case they're useful later\n",
    "\n",
    "prop_rds.start_node = prop_rds_pts.start_node.astype(str)\n",
    "prop_rds.end_node = prop_rds_pts.end_node.astype(str)\n"
   ]
  },
  {
   "cell_type": "code",
   "execution_count": 61,
   "id": "c6849445-15aa-4c5a-aee5-4dafc5f38844",
   "metadata": {},
   "outputs": [
    {
     "data": {
      "text/plain": [
       "Index(['SN', 'Z_Mean', 'Avg_Slope', 'Road_Name', 'District',\n",
       "       'Current_Road_Cond', 'Current_Surface', 'Current_Road_Class',\n",
       "       'Upgrade_Road_Cond', 'Upgrade_Surface', 'Upgrade_Road_Class',\n",
       "       'geometry', 'Terrain', 'current_base_speed', 'upgrade_base_speed',\n",
       "       'current_dry_mod', 'upgrade_dry_mod', 'current_dry_speed',\n",
       "       'upgrade_dry_speed', 'current_msn_mod', 'upgrade_msn_mod',\n",
       "       'current_msn_speed', 'upgrade_msn_speed', 'current_winter_mod',\n",
       "       'upgrade_winter_mod', 'current_winter_speed', 'upgrade_winter_speed',\n",
       "       'District_HQs_nth_nearest_distance',\n",
       "       'education_allboys_nth_nearest_distance',\n",
       "       'education_allgirls_nth_nearest_distance',\n",
       "       'education_boys_nth_nearest_distance',\n",
       "       'education_boys_high_nth_nearest_distance',\n",
       "       'education_boys_middle_nth_nearest_distance',\n",
       "       'education_boys_primary_nth_nearest_distance',\n",
       "       'education_girls_nth_nearest_distance',\n",
       "       'education_girls_high_nth_nearest_distance',\n",
       "       'education_girls_middle_nth_nearest_distance',\n",
       "       'education_girls_primary_nth_nearest_distance',\n",
       "       'education_high_nth_nearest_distance',\n",
       "       'education_middle_nth_nearest_distance',\n",
       "       'education_primary_nth_nearest_distance',\n",
       "       'health_family_nth_nearest_distance',\n",
       "       'health_pharmacies_nth_nearest_distance',\n",
       "       'health_primary_nth_nearest_distance',\n",
       "       'health_private_nth_nearest_distance',\n",
       "       'health_public_nth_nearest_distance',\n",
       "       'health_secondary_nth_nearest_distance',\n",
       "       'health_tertiary_nth_nearest_distance',\n",
       "       'markets_All_nth_nearest_distance',\n",
       "       'markets_Central_nth_nearest_distance',\n",
       "       'Provincial_HQ_nth_nearest_distance'],\n",
       "      dtype='object')"
      ]
     },
     "execution_count": 61,
     "metadata": {},
     "output_type": "execute_result"
    }
   ],
   "source": [
    "prop_rds.columns"
   ]
  },
  {
   "cell_type": "code",
   "execution_count": 63,
   "id": "olympic-heart",
   "metadata": {},
   "outputs": [
    {
     "data": {
      "text/plain": [
       "38    46582\n",
       "Name: health_secondary_nth_nearest_distance, dtype: int32"
      ]
     },
     "execution_count": 63,
     "metadata": {},
     "output_type": "execute_result"
    }
   ],
   "source": [
    "prop_rds[prop_rds['SN'] == 60]['health_secondary_nth_nearest_distance']"
   ]
  },
  {
   "cell_type": "markdown",
   "id": "isolated-montana",
   "metadata": {},
   "source": [
    "#### Export"
   ]
  },
  {
   "cell_type": "code",
   "execution_count": 66,
   "id": "taken-obligation",
   "metadata": {},
   "outputs": [],
   "source": [
    "prop_rds.Terrain = prop_rds.Terrain.astype(str)"
   ]
  },
  {
   "cell_type": "code",
   "execution_count": 67,
   "id": "lucky-leeds",
   "metadata": {},
   "outputs": [],
   "source": [
    "# prop_rds.to_file(os.path.join(data_dir,rd_dir,r'Proposed_final//Proposed_roads_processed_211021_second_dist.gpkg'),driver=\"GPKG\")"
   ]
  },
  {
   "cell_type": "code",
   "execution_count": 72,
   "id": "e71d4f33-707a-4c13-987b-24d7b0275941",
   "metadata": {},
   "outputs": [],
   "source": [
    "prop_rds.to_file(os.path.join(data_dir,rd_dir,f'Proposed_final//Proposed_roads_processed_{today}_test.gpkg'),driver=\"GPKG\")"
   ]
  },
  {
   "cell_type": "markdown",
   "id": "019b9c92-e008-407a-b680-a45c57321fbe",
   "metadata": {},
   "source": [
    "#### Manually merge fifth and second nearest distance columns"
   ]
  },
  {
   "cell_type": "markdown",
   "id": "47fb49dc-7957-4e53-93a2-31a30c1b132b",
   "metadata": {},
   "source": [
    "Hacky solution to the problem that the 5th nearest distance is way too far for a few features -- Distritc HQs and all types of markets. This pointlessly extends processing time. TO DO make this flexibility part of the core code above."
   ]
  },
  {
   "cell_type": "code",
   "execution_count": 142,
   "id": "3bc9ce64-27fc-40ec-8ce4-538cf02ee1e1",
   "metadata": {},
   "outputs": [],
   "source": [
    "pr_second = gpd.read_file(os.path.join(data_dir,rd_dir,r'Proposed_final//Proposed_roads_processed_211021_second_dist.gpkg'),driver=\"GPKG\")\n",
    "pr_fifth = gpd.read_file(os.path.join(data_dir,rd_dir,r'Proposed_final//Proposed_roads_processed_211014.gpkg'),driver=\"GPKG\")"
   ]
  },
  {
   "cell_type": "code",
   "execution_count": 126,
   "id": "a63a1858-417d-4090-b256-e404c7295e06",
   "metadata": {},
   "outputs": [],
   "source": [
    "dif_cols = ['District_HQs_fifth_nearest_distance','markets_All_fifth_nearest_distance','markets_Central_fifth_nearest_distance']"
   ]
  },
  {
   "cell_type": "code",
   "execution_count": 139,
   "id": "2ed6a20a-fe53-4335-b854-6400c254dcb1",
   "metadata": {},
   "outputs": [],
   "source": [
    "# pr_second.columns"
   ]
  },
  {
   "cell_type": "code",
   "execution_count": 140,
   "id": "12ae16f4-f082-4e61-bee6-5fc36dc25544",
   "metadata": {},
   "outputs": [],
   "source": [
    "pr_fifth.drop(dif_cols,axis=1,inplace=True)"
   ]
  },
  {
   "cell_type": "code",
   "execution_count": 134,
   "id": "db127fa0-7e4c-40b5-836d-b52801fab1d3",
   "metadata": {},
   "outputs": [],
   "source": [
    "pr_final = pd.merge(pr_fifth,pr_second[['SN','District_HQs_fifth_nearest_distance','markets_All_fifth_nearest_distance','markets_Central_fifth_nearest_distance']],how='left',on='SN')"
   ]
  },
  {
   "cell_type": "code",
   "execution_count": 141,
   "id": "4e742abd-d348-4f5f-b8b8-145978bd35a4",
   "metadata": {},
   "outputs": [],
   "source": [
    "pr_final.to_file(os.path.join(data_dir,rd_dir,r'Proposed_final//Proposed_roads_processed_211021.gpkg'),driver=\"GPKG\")"
   ]
  },
  {
   "cell_type": "code",
   "execution_count": null,
   "id": "1ede9953-72ff-437b-8f21-12d16e8121bb",
   "metadata": {},
   "outputs": [],
   "source": []
  }
 ],
 "metadata": {
  "kernelspec": {
   "display_name": "Python 3 (ipykernel)",
   "language": "python",
   "name": "python3"
  },
  "language_info": {
   "codemirror_mode": {
    "name": "ipython",
    "version": 3
   },
   "file_extension": ".py",
   "mimetype": "text/x-python",
   "name": "python",
   "nbconvert_exporter": "python",
   "pygments_lexer": "ipython3",
   "version": "3.8.10"
  }
 },
 "nbformat": 4,
 "nbformat_minor": 5
}
