{
 "cells": [
  {
   "cell_type": "markdown",
   "id": "beautiful-wheel",
   "metadata": {
    "tags": []
   },
   "source": [
    "# Convert friction surfaces to access surfaces"
   ]
  },
  {
   "cell_type": "markdown",
   "id": "systematic-living",
   "metadata": {},
   "source": [
    "This notebook merges each of the new speed rasters to the \"main\" friction surface for the analysis extent area, generating a new friction surface specific to that road. We use that friction surface to generate accessibility surfaces specific to that road"
   ]
  },
  {
   "cell_type": "code",
   "execution_count": 1,
   "id": "chronic-piece",
   "metadata": {},
   "outputs": [],
   "source": [
    "import os, sys\n",
    "from datetime import date\n",
    "\n",
    "import common_rasterio_ops as rast_ops\n",
    "\n",
    "import numpy as np\n",
    "import re\n",
    "\n",
    "import rasterio\n",
    "from rasterio import features, transform\n",
    "from rasterio.merge import merge as merge\n",
    "from rasterio.transform import Affine\n",
    "\n",
    "import rio_cogeo\n",
    "from rio_cogeo.cogeo import cog_translate\n",
    "\n",
    "import pandas as pd\n",
    "import geopandas as gpd\n",
    "\n",
    "import shapely\n",
    "from shapely.geometry import shape, box, MultiPoint, Point, Polygon\n",
    "\n",
    "import skimage.graph as graph\n",
    "sys.path.append('../../src/')\n",
    "import GOSTnets.GOSTNets as gn\n",
    "import GOSTNets_Raster.src.GOSTNets_Raster.market_access as ma\n",
    "from gostrocks.src.GOSTRocks.misc import tPrint"
   ]
  },
  {
   "cell_type": "markdown",
   "id": "prescription-rover",
   "metadata": {},
   "source": [
    "## Setup"
   ]
  },
  {
   "cell_type": "markdown",
   "id": "5790f52e-e576-4dad-aed1-ba66c884d613",
   "metadata": {},
   "source": [
    "Today's date"
   ]
  },
  {
   "cell_type": "code",
   "execution_count": 2,
   "id": "4b4d8cfd-d1a9-4984-b2b2-10b89ecb1be9",
   "metadata": {},
   "outputs": [],
   "source": [
    "today = date.today().strftime(\"%d%m%y\")"
   ]
  },
  {
   "cell_type": "markdown",
   "id": "9017c35a-225e-4a76-9a06-bb46561677da",
   "metadata": {},
   "source": [
    "Desired resolution of input and output rasters"
   ]
  },
  {
   "cell_type": "code",
   "execution_count": 9,
   "id": "2fbb6707-232f-4758-b7bc-9e37b10f780f",
   "metadata": {},
   "outputs": [],
   "source": [
    "res = '31m'"
   ]
  },
  {
   "cell_type": "markdown",
   "id": "intelligent-sheep",
   "metadata": {},
   "source": [
    "Directories"
   ]
  },
  {
   "cell_type": "code",
   "execution_count": 11,
   "id": "thorough-french",
   "metadata": {},
   "outputs": [],
   "source": [
    "geo_dir = r'P:\\PAK\\GEO'\n",
    "data_dir = r'../../data'\n",
    "\n",
    "dest_dir = r'destinations'\n",
    "fric_dir = f'friction//{res}'\n",
    "acc_dir = r'access'"
   ]
  },
  {
   "cell_type": "markdown",
   "id": "surface-reasoning",
   "metadata": {},
   "source": [
    "Projections"
   ]
  },
  {
   "cell_type": "code",
   "execution_count": 4,
   "id": "changed-field",
   "metadata": {},
   "outputs": [],
   "source": [
    "# change this to whatever the desired output projection is\n",
    "dest_crs = 'EPSG:32642'"
   ]
  },
  {
   "cell_type": "markdown",
   "id": "romantic-necklace",
   "metadata": {},
   "source": [
    "Load in KP as clipping object"
   ]
  },
  {
   "cell_type": "code",
   "execution_count": 5,
   "id": "sudden-thesis",
   "metadata": {
    "tags": []
   },
   "outputs": [],
   "source": [
    "aoi = gpd.read_file(os.path.join(geo_dir,'Boundaries/OCHA/pak_admbnda_adm1_ocha_pco_gaul_20181218.shp'))\n",
    "aoi = aoi[aoi['ADM1_EN'] == 'Khyber Pakhtunkhwa']\n",
    "aoi = aoi.to_crs(dest_crs)\n",
    "\n",
    "# Buffer the polygon by 20km so we take in nearby markets and roads that may be used\n",
    "aoi.geometry = aoi.buffer(20000)"
   ]
  },
  {
   "cell_type": "markdown",
   "id": "precious-salmon",
   "metadata": {},
   "source": [
    "Destination files"
   ]
  },
  {
   "cell_type": "code",
   "execution_count": 6,
   "id": "comic-paintball",
   "metadata": {},
   "outputs": [],
   "source": [
    "# Use destinations prepared previously. This assumes they are in WGS84 and need to be reprojected to the project's metric CRS\n",
    "\n",
    "dest_fils = {\n",
    "    re.findall(r'KP_(.*?).gpkg',fil)[0]: gpd.clip(gpd.read_file(os.path.join(data_dir,dest_dir,fil))\\\n",
    "                                                  .set_crs(4326).to_crs(dest_crs),aoi) \\\n",
    "    for fil in os.listdir(os.path.join(data_dir,dest_dir)) if fil.endswith(\".gpkg\")\n",
    "}"
   ]
  },
  {
   "cell_type": "code",
   "execution_count": 7,
   "id": "447abc77-d472-4539-a503-d4ad8248fde8",
   "metadata": {},
   "outputs": [
    {
     "data": {
      "text/plain": [
       "24"
      ]
     },
     "execution_count": 7,
     "metadata": {},
     "output_type": "execute_result"
    }
   ],
   "source": [
    "len(dest_fils)"
   ]
  },
  {
   "cell_type": "markdown",
   "id": "5f38ff7f-a59d-4778-8d3d-bb2335a27d1e",
   "metadata": {},
   "source": [
    "Slight adjustment to GOST's TT code: export rasters as Float32 to reduce file sizes"
   ]
  },
  {
   "cell_type": "code",
   "execution_count": 8,
   "id": "7d4ad140-cf8b-4a40-b861-503b49a6bfc9",
   "metadata": {},
   "outputs": [],
   "source": [
    "# adjust GOST's code to always export float32 rasters, as a space saving measure\n",
    "\n",
    "def calculate_travel_time_slim(inH, mcp, destinations, out_raster = ''):\n",
    "    ''' Calculate travel time raster\n",
    "    \n",
    "    INPUTS\n",
    "        inH [rasterio object] - template raster used to identify locations of destinations\n",
    "        mcp [skimage.graph.MCP_Geometric] - input graph\n",
    "        destinations [geopandas df] - destinations for nearest calculations\n",
    "        \n",
    "    LINKS\n",
    "        https://scikit-image.org/docs/0.7.0/api/skimage.graph.mcp.html#skimage.graph.mcp.MCP.find_costs\n",
    "    '''\n",
    "    # create skimage graph, force costs to float32 to save on space\n",
    "    cities = ma.get_mcp_dests(inH, destinations)\n",
    "    costs, traceback = mcp.find_costs(cities)\n",
    "    costs = costs.astype(np.float32)\n",
    "    if not out_raster == '':\n",
    "        meta = inH.meta.copy()\n",
    "        meta.update(dtype=costs.dtype)\n",
    "        with rasterio.open(out_raster, 'w', **meta) as out:\n",
    "            out.write_band(1, costs)\n",
    "            \n",
    "    return((costs, traceback))"
   ]
  },
  {
   "cell_type": "markdown",
   "id": "fcd8f496-76d5-4666-88cb-cf0e46162839",
   "metadata": {
    "tags": []
   },
   "source": [
    "## Generate access surfaces"
   ]
  },
  {
   "cell_type": "markdown",
   "id": "a87acd3e-d934-488c-beed-9ef1ab2ab42f",
   "metadata": {},
   "source": [
    "Loop over all friction surfaces, for all destinations, to generate access surfaces for each friction surface + each destination using cost distance methods. Note this may take a while!"
   ]
  },
  {
   "cell_type": "code",
   "execution_count": 32,
   "id": "15090450-d5ec-4ab0-901c-06e18a0ea2fe",
   "metadata": {},
   "outputs": [],
   "source": [
    "fric_tifs = sorted([os.path.join(data_dir,fric_dir,file) \\\n",
    "            for file \\\n",
    "            in os.listdir(os.path.join(data_dir,fric_dir)) \\\n",
    "            if file.endswith(\".tif\")]) # can filter more aggressively here if useful"
   ]
  },
  {
   "cell_type": "code",
   "execution_count": 33,
   "id": "9909783f-e9a1-47b3-8b6e-b329ce72124f",
   "metadata": {},
   "outputs": [
    {
     "data": {
      "text/plain": [
       "['../../data\\\\friction//31m\\\\KP_friction_dry_211020_31m_masked_final.tif',\n",
       " '../../data\\\\friction//31m\\\\KP_friction_msn_211020_31m_masked_final.tif',\n",
       " '../../data\\\\friction//31m\\\\KP_friction_winter_211020_31m_masked_final.tif']"
      ]
     },
     "execution_count": 33,
     "metadata": {},
     "output_type": "execute_result"
    }
   ],
   "source": [
    "fric_tifs"
   ]
  },
  {
   "cell_type": "code",
   "execution_count": null,
   "id": "29ea0dcf-3861-4498-98d9-025ad3eb05f9",
   "metadata": {},
   "outputs": [],
   "source": [
    "# create export dir if missing\n",
    "if os.path.exists(os.path.join(data_dir,acc_dir,f'current/{today}')) == False:\n",
    "    os.mkdir(os.path.join(data_dir,acc_dir,f'current/{today}'))\n",
    "else:\n",
    "    None"
   ]
  },
  {
   "cell_type": "code",
   "execution_count": 34,
   "id": "b0c4149a-60db-4f38-bb2e-2cdc177e2b00",
   "metadata": {},
   "outputs": [
    {
     "name": "stdout",
     "output_type": "stream",
     "text": [
      "08:21:33\tKP_friction_dry_211020_31m_masked_final.tif: 1 of 24, District_HQs\n",
      "08:46:41\tKP_friction_dry_211020_31m_masked_final.tif: 2 of 24, education_allboys\n",
      "09:11:24\tKP_friction_dry_211020_31m_masked_final.tif: 3 of 24, education_allgirls\n",
      "09:35:31\tKP_friction_dry_211020_31m_masked_final.tif: 4 of 24, education_boys\n",
      "10:00:16\tKP_friction_dry_211020_31m_masked_final.tif: 5 of 24, education_boys_high\n",
      "10:24:34\tKP_friction_dry_211020_31m_masked_final.tif: 6 of 24, education_boys_middle\n",
      "10:49:02\tKP_friction_dry_211020_31m_masked_final.tif: 7 of 24, education_boys_primary\n",
      "11:13:49\tKP_friction_dry_211020_31m_masked_final.tif: 8 of 24, education_girls\n",
      "11:38:49\tKP_friction_dry_211020_31m_masked_final.tif: 9 of 24, education_girls_high\n",
      "12:04:21\tKP_friction_dry_211020_31m_masked_final.tif: 10 of 24, education_girls_middle\n",
      "12:30:41\tKP_friction_dry_211020_31m_masked_final.tif: 11 of 24, education_girls_primary\n",
      "12:57:02\tKP_friction_dry_211020_31m_masked_final.tif: 12 of 24, education_high\n",
      "13:22:48\tKP_friction_dry_211020_31m_masked_final.tif: 13 of 24, education_middle\n",
      "13:47:18\tKP_friction_dry_211020_31m_masked_final.tif: 14 of 24, education_primary\n",
      "14:11:30\tKP_friction_dry_211020_31m_masked_final.tif: 15 of 24, health_family\n",
      "14:34:14\tKP_friction_dry_211020_31m_masked_final.tif: 16 of 24, health_pharmacies\n",
      "14:58:01\tKP_friction_dry_211020_31m_masked_final.tif: 17 of 24, health_primary\n",
      "15:23:28\tKP_friction_dry_211020_31m_masked_final.tif: 18 of 24, health_private\n",
      "15:47:21\tKP_friction_dry_211020_31m_masked_final.tif: 19 of 24, health_public\n",
      "16:11:09\tKP_friction_dry_211020_31m_masked_final.tif: 20 of 24, health_secondary\n",
      "16:33:38\tKP_friction_dry_211020_31m_masked_final.tif: 21 of 24, health_tertiary\n",
      "16:54:30\tKP_friction_dry_211020_31m_masked_final.tif: 22 of 24, markets_All\n",
      "17:16:15\tKP_friction_dry_211020_31m_masked_final.tif: 23 of 24, markets_Central\n",
      "17:37:01\tKP_friction_dry_211020_31m_masked_final.tif: 24 of 24, Provincial_HQ\n",
      "17:56:32\tKP_friction_msn_211020_31m_masked_final.tif: 1 of 24, District_HQs\n",
      "18:18:22\tKP_friction_msn_211020_31m_masked_final.tif: 2 of 24, education_allboys\n",
      "18:37:48\tKP_friction_msn_211020_31m_masked_final.tif: 3 of 24, education_allgirls\n",
      "18:58:31\tKP_friction_msn_211020_31m_masked_final.tif: 4 of 24, education_boys\n",
      "19:17:58\tKP_friction_msn_211020_31m_masked_final.tif: 5 of 24, education_boys_high\n",
      "19:36:31\tKP_friction_msn_211020_31m_masked_final.tif: 6 of 24, education_boys_middle\n",
      "19:56:28\tKP_friction_msn_211020_31m_masked_final.tif: 7 of 24, education_boys_primary\n",
      "20:22:23\tKP_friction_msn_211020_31m_masked_final.tif: 8 of 24, education_girls\n",
      "20:45:20\tKP_friction_msn_211020_31m_masked_final.tif: 9 of 24, education_girls_high\n",
      "21:03:14\tKP_friction_msn_211020_31m_masked_final.tif: 10 of 24, education_girls_middle\n",
      "21:25:46\tKP_friction_msn_211020_31m_masked_final.tif: 11 of 24, education_girls_primary\n",
      "21:44:11\tKP_friction_msn_211020_31m_masked_final.tif: 12 of 24, education_high\n",
      "22:01:46\tKP_friction_msn_211020_31m_masked_final.tif: 13 of 24, education_middle\n",
      "22:20:13\tKP_friction_msn_211020_31m_masked_final.tif: 14 of 24, education_primary\n",
      "22:39:46\tKP_friction_msn_211020_31m_masked_final.tif: 15 of 24, health_family\n",
      "22:57:37\tKP_friction_msn_211020_31m_masked_final.tif: 16 of 24, health_pharmacies\n",
      "23:15:53\tKP_friction_msn_211020_31m_masked_final.tif: 17 of 24, health_primary\n",
      "23:34:23\tKP_friction_msn_211020_31m_masked_final.tif: 18 of 24, health_private\n",
      "23:52:15\tKP_friction_msn_211020_31m_masked_final.tif: 19 of 24, health_public\n",
      "00:11:14\tKP_friction_msn_211020_31m_masked_final.tif: 20 of 24, health_secondary\n",
      "00:29:18\tKP_friction_msn_211020_31m_masked_final.tif: 21 of 24, health_tertiary\n",
      "00:46:28\tKP_friction_msn_211020_31m_masked_final.tif: 22 of 24, markets_All\n",
      "01:03:25\tKP_friction_msn_211020_31m_masked_final.tif: 23 of 24, markets_Central\n",
      "01:19:46\tKP_friction_msn_211020_31m_masked_final.tif: 24 of 24, Provincial_HQ\n",
      "01:34:53\tKP_friction_winter_211020_31m_masked_final.tif: 1 of 24, District_HQs\n",
      "01:50:59\tKP_friction_winter_211020_31m_masked_final.tif: 2 of 24, education_allboys\n",
      "02:08:23\tKP_friction_winter_211020_31m_masked_final.tif: 3 of 24, education_allgirls\n",
      "02:25:31\tKP_friction_winter_211020_31m_masked_final.tif: 4 of 24, education_boys\n",
      "02:42:54\tKP_friction_winter_211020_31m_masked_final.tif: 5 of 24, education_boys_high\n",
      "03:00:25\tKP_friction_winter_211020_31m_masked_final.tif: 6 of 24, education_boys_middle\n",
      "03:17:23\tKP_friction_winter_211020_31m_masked_final.tif: 7 of 24, education_boys_primary\n",
      "03:36:28\tKP_friction_winter_211020_31m_masked_final.tif: 8 of 24, education_girls\n",
      "03:54:32\tKP_friction_winter_211020_31m_masked_final.tif: 9 of 24, education_girls_high\n",
      "04:11:28\tKP_friction_winter_211020_31m_masked_final.tif: 10 of 24, education_girls_middle\n",
      "04:29:17\tKP_friction_winter_211020_31m_masked_final.tif: 11 of 24, education_girls_primary\n",
      "04:46:51\tKP_friction_winter_211020_31m_masked_final.tif: 12 of 24, education_high\n",
      "05:03:41\tKP_friction_winter_211020_31m_masked_final.tif: 13 of 24, education_middle\n",
      "05:20:46\tKP_friction_winter_211020_31m_masked_final.tif: 14 of 24, education_primary\n",
      "05:41:08\tKP_friction_winter_211020_31m_masked_final.tif: 15 of 24, health_family\n",
      "05:57:53\tKP_friction_winter_211020_31m_masked_final.tif: 16 of 24, health_pharmacies\n",
      "06:14:05\tKP_friction_winter_211020_31m_masked_final.tif: 17 of 24, health_primary\n",
      "06:32:55\tKP_friction_winter_211020_31m_masked_final.tif: 18 of 24, health_private\n",
      "06:50:55\tKP_friction_winter_211020_31m_masked_final.tif: 19 of 24, health_public\n",
      "07:08:51\tKP_friction_winter_211020_31m_masked_final.tif: 20 of 24, health_secondary\n",
      "07:27:06\tKP_friction_winter_211020_31m_masked_final.tif: 21 of 24, health_tertiary\n",
      "07:44:34\tKP_friction_winter_211020_31m_masked_final.tif: 22 of 24, markets_All\n",
      "08:02:16\tKP_friction_winter_211020_31m_masked_final.tif: 23 of 24, markets_Central\n",
      "08:19:14\tKP_friction_winter_211020_31m_masked_final.tif: 24 of 24, Provincial_HQ\n"
     ]
    }
   ],
   "source": [
    "for fric_idx, fric in enumerate(fric_tifs):\n",
    "    \n",
    "    fric_name = os.path.basename(fric)\n",
    "    \n",
    "    for idx, (key, gdf) in enumerate(dest_fils.items()):\n",
    "\n",
    "        # countdown\n",
    "        tPrint(f'{fric_name}: {idx + 1} of {len(dest_fils)}, {key}')\n",
    "\n",
    "        # define labels\n",
    "        \n",
    "        modality = re.split(r'_',fric)[1].replace('_friction_','_')\n",
    "        season = re.split(r'_',fric)[2]\n",
    "\n",
    "        # previously had to multiply step2 by * inR.transform.a -- but now not necessary?\n",
    "\n",
    "        inR = rasterio.open(fric)\n",
    "        inD = inR.read()[0,:,:] \n",
    "        inD = np.nan_to_num(inD,nan=10,posinf=10).astype(np.float32)\n",
    "        mcp = graph.MCP_Geometric(inD)\n",
    "\n",
    "        # create travel time raster describing travel time from all cells to destinations\n",
    "        costs, traceback = calculate_travel_time_slim(inR, mcp, gdf, \\\n",
    "                                                os.path.join(data_dir,acc_dir,f\"current/{today}/Current_{modality}_{season}_{key}.tif\"))"
   ]
  },
  {
   "cell_type": "markdown",
   "id": "acc173f4-a099-4a9e-a5a8-e992735ed90c",
   "metadata": {
    "tags": []
   },
   "source": [
    "### Convert all access GeoTIFFs to Cloud Optimized GeoTIFFs"
   ]
  },
  {
   "cell_type": "markdown",
   "id": "6ddcaeb7-975e-4fb6-844a-ba397eca0675",
   "metadata": {},
   "source": [
    "Optionally convert all GeoTIFFs to COG GeoTIFFs. COGs are more efficiently tiled and compressed GeoTIFFs optimized to be served out of cloud storage environments. They are notably slimmer than the GeoTIFFs generated by MCP and necessary for our Dask aggregation operations (which leverage XArray)"
   ]
  },
  {
   "cell_type": "code",
   "execution_count": 38,
   "id": "74976ae6-504c-4488-8aa1-0bdb6467c1e5",
   "metadata": {},
   "outputs": [],
   "source": [
    "acc_tifs = sorted([os.path.join(data_dir,acc_dir,f'current/{today}',file) \\\n",
    "            for file \\\n",
    "            in os.listdir(os.path.join(data_dir,acc_dir,f'current/{today}')) \\\n",
    "            if file.endswith(\".tif\")])"
   ]
  },
  {
   "cell_type": "code",
   "execution_count": 39,
   "id": "6479e8c7-fce0-4238-8701-014a2271c129",
   "metadata": {},
   "outputs": [
    {
     "data": {
      "text/plain": [
       "['../../data\\\\access\\\\current/211021\\\\Current_dry_District_HQs.tif',\n",
       " '../../data\\\\access\\\\current/211021\\\\Current_dry_education_allboys.tif',\n",
       " '../../data\\\\access\\\\current/211021\\\\Current_dry_education_allgirls.tif']"
      ]
     },
     "execution_count": 39,
     "metadata": {},
     "output_type": "execute_result"
    }
   ],
   "source": [
    "acc_tifs[:3]"
   ]
  },
  {
   "cell_type": "code",
   "execution_count": 40,
   "id": "70a54166-f41a-48f8-8079-dab31745e815",
   "metadata": {},
   "outputs": [
    {
     "name": "stdout",
     "output_type": "stream",
     "text": [
      "../../data\\access\\current/211021\\Current_dry_District_HQs.tif\n",
      "../../data\\access\\current/211021\\Current_dry_education_allboys.tif\n"
     ]
    },
    {
     "name": "stderr",
     "output_type": "stream",
     "text": [
      "Reading input: P:/PAK/Code/kpgit_robert/data/access/current/211021/Current_dry_District_HQs.tif\n",
      "Adding overviews...\n",
      "Updating dataset tags...\n",
      "Writing output to: \\\\sarpov\\sarpov\\PAK\\Code\\kpgit_robert\\data\\access\\current\\211021\\Current_dry_District_HQs_COG.tif\n"
     ]
    },
    {
     "name": "stdout",
     "output_type": "stream",
     "text": [
      "../../data\\access\\current/211021\\Current_dry_education_allgirls.tif\n"
     ]
    },
    {
     "name": "stderr",
     "output_type": "stream",
     "text": [
      "Reading input: P:/PAK/Code/kpgit_robert/data/access/current/211021/Current_dry_education_allboys.tif\n",
      "Adding overviews...\n",
      "Updating dataset tags...\n",
      "Writing output to: \\\\sarpov\\sarpov\\PAK\\Code\\kpgit_robert\\data\\access\\current\\211021\\Current_dry_education_allboys_COG.tif\n"
     ]
    },
    {
     "name": "stdout",
     "output_type": "stream",
     "text": [
      "../../data\\access\\current/211021\\Current_dry_education_boys.tif\n"
     ]
    },
    {
     "name": "stderr",
     "output_type": "stream",
     "text": [
      "Reading input: P:/PAK/Code/kpgit_robert/data/access/current/211021/Current_dry_education_allgirls.tif\n",
      "Adding overviews...\n",
      "Updating dataset tags...\n",
      "Writing output to: \\\\sarpov\\sarpov\\PAK\\Code\\kpgit_robert\\data\\access\\current\\211021\\Current_dry_education_allgirls_COG.tif\n"
     ]
    },
    {
     "name": "stdout",
     "output_type": "stream",
     "text": [
      "../../data\\access\\current/211021\\Current_dry_education_boys_high.tif\n"
     ]
    },
    {
     "name": "stderr",
     "output_type": "stream",
     "text": [
      "Reading input: P:/PAK/Code/kpgit_robert/data/access/current/211021/Current_dry_education_boys.tif\n",
      "Adding overviews...\n",
      "Updating dataset tags...\n",
      "Writing output to: \\\\sarpov\\sarpov\\PAK\\Code\\kpgit_robert\\data\\access\\current\\211021\\Current_dry_education_boys_COG.tif\n"
     ]
    },
    {
     "name": "stdout",
     "output_type": "stream",
     "text": [
      "../../data\\access\\current/211021\\Current_dry_education_boys_middle.tif\n"
     ]
    },
    {
     "name": "stderr",
     "output_type": "stream",
     "text": [
      "Reading input: P:/PAK/Code/kpgit_robert/data/access/current/211021/Current_dry_education_boys_high.tif\n",
      "Adding overviews...\n",
      "Updating dataset tags...\n",
      "Writing output to: \\\\sarpov\\sarpov\\PAK\\Code\\kpgit_robert\\data\\access\\current\\211021\\Current_dry_education_boys_high_COG.tif\n"
     ]
    },
    {
     "name": "stdout",
     "output_type": "stream",
     "text": [
      "../../data\\access\\current/211021\\Current_dry_education_boys_primary.tif\n"
     ]
    },
    {
     "name": "stderr",
     "output_type": "stream",
     "text": [
      "Reading input: P:/PAK/Code/kpgit_robert/data/access/current/211021/Current_dry_education_boys_middle.tif\n",
      "Adding overviews...\n",
      "Updating dataset tags...\n",
      "Writing output to: \\\\sarpov\\sarpov\\PAK\\Code\\kpgit_robert\\data\\access\\current\\211021\\Current_dry_education_boys_middle_COG.tif\n"
     ]
    },
    {
     "name": "stdout",
     "output_type": "stream",
     "text": [
      "../../data\\access\\current/211021\\Current_friction_dry_Provincial_HQ.tif\n"
     ]
    },
    {
     "name": "stderr",
     "output_type": "stream",
     "text": [
      "Reading input: P:/PAK/Code/kpgit_robert/data/access/current/211021/Current_dry_education_boys_primary.tif\n",
      "Adding overviews...\n",
      "Updating dataset tags...\n",
      "Writing output to: \\\\sarpov\\sarpov\\PAK\\Code\\kpgit_robert\\data\\access\\current\\211021\\Current_dry_education_boys_primary_COG.tif\n"
     ]
    },
    {
     "name": "stdout",
     "output_type": "stream",
     "text": [
      "../../data\\access\\current/211021\\Current_friction_dry_education_girls.tif\n"
     ]
    },
    {
     "name": "stderr",
     "output_type": "stream",
     "text": [
      "Reading input: P:/PAK/Code/kpgit_robert/data/access/current/211021/Current_friction_dry_Provincial_HQ.tif\n",
      "Adding overviews...\n",
      "Updating dataset tags...\n",
      "Writing output to: \\\\sarpov\\sarpov\\PAK\\Code\\kpgit_robert\\data\\access\\current\\211021\\Current_friction_dry_Provincial_HQ_COG.tif\n"
     ]
    },
    {
     "name": "stdout",
     "output_type": "stream",
     "text": [
      "../../data\\access\\current/211021\\Current_friction_dry_education_girls_high.tif\n"
     ]
    },
    {
     "name": "stderr",
     "output_type": "stream",
     "text": [
      "Reading input: P:/PAK/Code/kpgit_robert/data/access/current/211021/Current_friction_dry_education_girls.tif\n",
      "Adding overviews...\n",
      "Updating dataset tags...\n",
      "Writing output to: \\\\sarpov\\sarpov\\PAK\\Code\\kpgit_robert\\data\\access\\current\\211021\\Current_friction_dry_education_girls_COG.tif\n"
     ]
    },
    {
     "name": "stdout",
     "output_type": "stream",
     "text": [
      "../../data\\access\\current/211021\\Current_friction_dry_education_girls_middle.tif\n"
     ]
    },
    {
     "name": "stderr",
     "output_type": "stream",
     "text": [
      "Reading input: P:/PAK/Code/kpgit_robert/data/access/current/211021/Current_friction_dry_education_girls_high.tif\n",
      "Adding overviews...\n",
      "Updating dataset tags...\n",
      "Writing output to: \\\\sarpov\\sarpov\\PAK\\Code\\kpgit_robert\\data\\access\\current\\211021\\Current_friction_dry_education_girls_high_COG.tif\n"
     ]
    },
    {
     "name": "stdout",
     "output_type": "stream",
     "text": [
      "../../data\\access\\current/211021\\Current_friction_dry_education_girls_primary.tif\n"
     ]
    },
    {
     "name": "stderr",
     "output_type": "stream",
     "text": [
      "Reading input: P:/PAK/Code/kpgit_robert/data/access/current/211021/Current_friction_dry_education_girls_middle.tif\n",
      "Adding overviews...\n",
      "Updating dataset tags...\n",
      "Writing output to: \\\\sarpov\\sarpov\\PAK\\Code\\kpgit_robert\\data\\access\\current\\211021\\Current_friction_dry_education_girls_middle_COG.tif\n"
     ]
    },
    {
     "name": "stdout",
     "output_type": "stream",
     "text": [
      "../../data\\access\\current/211021\\Current_friction_dry_education_high.tif\n"
     ]
    },
    {
     "name": "stderr",
     "output_type": "stream",
     "text": [
      "Reading input: P:/PAK/Code/kpgit_robert/data/access/current/211021/Current_friction_dry_education_girls_primary.tif\n",
      "Adding overviews...\n",
      "Updating dataset tags...\n",
      "Writing output to: \\\\sarpov\\sarpov\\PAK\\Code\\kpgit_robert\\data\\access\\current\\211021\\Current_friction_dry_education_girls_primary_COG.tif\n"
     ]
    },
    {
     "name": "stdout",
     "output_type": "stream",
     "text": [
      "../../data\\access\\current/211021\\Current_friction_dry_education_middle.tif\n"
     ]
    },
    {
     "name": "stderr",
     "output_type": "stream",
     "text": [
      "Reading input: P:/PAK/Code/kpgit_robert/data/access/current/211021/Current_friction_dry_education_high.tif\n",
      "Adding overviews...\n",
      "Updating dataset tags...\n",
      "Writing output to: \\\\sarpov\\sarpov\\PAK\\Code\\kpgit_robert\\data\\access\\current\\211021\\Current_friction_dry_education_high_COG.tif\n"
     ]
    },
    {
     "name": "stdout",
     "output_type": "stream",
     "text": [
      "../../data\\access\\current/211021\\Current_friction_dry_education_primary.tif\n"
     ]
    },
    {
     "name": "stderr",
     "output_type": "stream",
     "text": [
      "Reading input: P:/PAK/Code/kpgit_robert/data/access/current/211021/Current_friction_dry_education_middle.tif\n",
      "Adding overviews...\n",
      "Updating dataset tags...\n",
      "Writing output to: \\\\sarpov\\sarpov\\PAK\\Code\\kpgit_robert\\data\\access\\current\\211021\\Current_friction_dry_education_middle_COG.tif\n"
     ]
    },
    {
     "name": "stdout",
     "output_type": "stream",
     "text": [
      "../../data\\access\\current/211021\\Current_friction_dry_health_family.tif\n"
     ]
    },
    {
     "name": "stderr",
     "output_type": "stream",
     "text": [
      "Reading input: P:/PAK/Code/kpgit_robert/data/access/current/211021/Current_friction_dry_education_primary.tif\n",
      "Adding overviews...\n",
      "Updating dataset tags...\n",
      "Writing output to: \\\\sarpov\\sarpov\\PAK\\Code\\kpgit_robert\\data\\access\\current\\211021\\Current_friction_dry_education_primary_COG.tif\n"
     ]
    },
    {
     "name": "stdout",
     "output_type": "stream",
     "text": [
      "../../data\\access\\current/211021\\Current_friction_dry_health_pharmacies.tif\n"
     ]
    },
    {
     "name": "stderr",
     "output_type": "stream",
     "text": [
      "Reading input: P:/PAK/Code/kpgit_robert/data/access/current/211021/Current_friction_dry_health_family.tif\n",
      "Adding overviews...\n",
      "Updating dataset tags...\n",
      "Writing output to: \\\\sarpov\\sarpov\\PAK\\Code\\kpgit_robert\\data\\access\\current\\211021\\Current_friction_dry_health_family_COG.tif\n"
     ]
    },
    {
     "name": "stdout",
     "output_type": "stream",
     "text": [
      "../../data\\access\\current/211021\\Current_friction_dry_health_primary.tif\n"
     ]
    },
    {
     "name": "stderr",
     "output_type": "stream",
     "text": [
      "Reading input: P:/PAK/Code/kpgit_robert/data/access/current/211021/Current_friction_dry_health_pharmacies.tif\n",
      "Adding overviews...\n",
      "Updating dataset tags...\n",
      "Writing output to: \\\\sarpov\\sarpov\\PAK\\Code\\kpgit_robert\\data\\access\\current\\211021\\Current_friction_dry_health_pharmacies_COG.tif\n"
     ]
    },
    {
     "name": "stdout",
     "output_type": "stream",
     "text": [
      "../../data\\access\\current/211021\\Current_friction_dry_health_private.tif\n"
     ]
    },
    {
     "name": "stderr",
     "output_type": "stream",
     "text": [
      "Reading input: P:/PAK/Code/kpgit_robert/data/access/current/211021/Current_friction_dry_health_primary.tif\n",
      "Adding overviews...\n",
      "Updating dataset tags...\n",
      "Writing output to: \\\\sarpov\\sarpov\\PAK\\Code\\kpgit_robert\\data\\access\\current\\211021\\Current_friction_dry_health_primary_COG.tif\n"
     ]
    },
    {
     "name": "stdout",
     "output_type": "stream",
     "text": [
      "../../data\\access\\current/211021\\Current_friction_dry_health_public.tif\n"
     ]
    },
    {
     "name": "stderr",
     "output_type": "stream",
     "text": [
      "Reading input: P:/PAK/Code/kpgit_robert/data/access/current/211021/Current_friction_dry_health_private.tif\n",
      "Adding overviews...\n",
      "Updating dataset tags...\n",
      "Writing output to: \\\\sarpov\\sarpov\\PAK\\Code\\kpgit_robert\\data\\access\\current\\211021\\Current_friction_dry_health_private_COG.tif\n"
     ]
    },
    {
     "name": "stdout",
     "output_type": "stream",
     "text": [
      "../../data\\access\\current/211021\\Current_friction_dry_health_secondary.tif\n"
     ]
    },
    {
     "name": "stderr",
     "output_type": "stream",
     "text": [
      "Reading input: P:/PAK/Code/kpgit_robert/data/access/current/211021/Current_friction_dry_health_public.tif\n",
      "Adding overviews...\n",
      "Updating dataset tags...\n",
      "Writing output to: \\\\sarpov\\sarpov\\PAK\\Code\\kpgit_robert\\data\\access\\current\\211021\\Current_friction_dry_health_public_COG.tif\n"
     ]
    },
    {
     "name": "stdout",
     "output_type": "stream",
     "text": [
      "../../data\\access\\current/211021\\Current_friction_dry_health_tertiary.tif\n"
     ]
    },
    {
     "name": "stderr",
     "output_type": "stream",
     "text": [
      "Reading input: P:/PAK/Code/kpgit_robert/data/access/current/211021/Current_friction_dry_health_secondary.tif\n",
      "Adding overviews...\n",
      "Updating dataset tags...\n",
      "Writing output to: \\\\sarpov\\sarpov\\PAK\\Code\\kpgit_robert\\data\\access\\current\\211021\\Current_friction_dry_health_secondary_COG.tif\n"
     ]
    },
    {
     "name": "stdout",
     "output_type": "stream",
     "text": [
      "../../data\\access\\current/211021\\Current_friction_dry_markets_All.tif\n"
     ]
    },
    {
     "name": "stderr",
     "output_type": "stream",
     "text": [
      "Reading input: P:/PAK/Code/kpgit_robert/data/access/current/211021/Current_friction_dry_health_tertiary.tif\n",
      "Adding overviews...\n",
      "Updating dataset tags...\n",
      "Writing output to: \\\\sarpov\\sarpov\\PAK\\Code\\kpgit_robert\\data\\access\\current\\211021\\Current_friction_dry_health_tertiary_COG.tif\n"
     ]
    },
    {
     "name": "stdout",
     "output_type": "stream",
     "text": [
      "../../data\\access\\current/211021\\Current_friction_dry_markets_Central.tif\n"
     ]
    },
    {
     "name": "stderr",
     "output_type": "stream",
     "text": [
      "Reading input: P:/PAK/Code/kpgit_robert/data/access/current/211021/Current_friction_dry_markets_All.tif\n",
      "Adding overviews...\n",
      "Updating dataset tags...\n",
      "Writing output to: \\\\sarpov\\sarpov\\PAK\\Code\\kpgit_robert\\data\\access\\current\\211021\\Current_friction_dry_markets_All_COG.tif\n"
     ]
    },
    {
     "name": "stdout",
     "output_type": "stream",
     "text": [
      "../../data\\access\\current/211021\\Current_friction_msn_District_HQs.tif\n"
     ]
    },
    {
     "name": "stderr",
     "output_type": "stream",
     "text": [
      "Reading input: P:/PAK/Code/kpgit_robert/data/access/current/211021/Current_friction_dry_markets_Central.tif\n",
      "Adding overviews...\n",
      "Updating dataset tags...\n",
      "Writing output to: \\\\sarpov\\sarpov\\PAK\\Code\\kpgit_robert\\data\\access\\current\\211021\\Current_friction_dry_markets_Central_COG.tif\n"
     ]
    },
    {
     "name": "stdout",
     "output_type": "stream",
     "text": [
      "../../data\\access\\current/211021\\Current_friction_msn_Provincial_HQ.tif\n"
     ]
    },
    {
     "name": "stderr",
     "output_type": "stream",
     "text": [
      "Reading input: P:/PAK/Code/kpgit_robert/data/access/current/211021/Current_friction_msn_District_HQs.tif\n",
      "Adding overviews...\n",
      "Updating dataset tags...\n",
      "Writing output to: \\\\sarpov\\sarpov\\PAK\\Code\\kpgit_robert\\data\\access\\current\\211021\\Current_friction_msn_District_HQs_COG.tif\n"
     ]
    },
    {
     "name": "stdout",
     "output_type": "stream",
     "text": [
      "../../data\\access\\current/211021\\Current_friction_msn_education_allboys.tif\n"
     ]
    },
    {
     "name": "stderr",
     "output_type": "stream",
     "text": [
      "Reading input: P:/PAK/Code/kpgit_robert/data/access/current/211021/Current_friction_msn_Provincial_HQ.tif\n",
      "Adding overviews...\n",
      "Updating dataset tags...\n",
      "Writing output to: \\\\sarpov\\sarpov\\PAK\\Code\\kpgit_robert\\data\\access\\current\\211021\\Current_friction_msn_Provincial_HQ_COG.tif\n"
     ]
    },
    {
     "name": "stdout",
     "output_type": "stream",
     "text": [
      "../../data\\access\\current/211021\\Current_friction_msn_education_allgirls.tif\n"
     ]
    },
    {
     "name": "stderr",
     "output_type": "stream",
     "text": [
      "Reading input: P:/PAK/Code/kpgit_robert/data/access/current/211021/Current_friction_msn_education_allboys.tif\n",
      "Adding overviews...\n",
      "Updating dataset tags...\n",
      "Writing output to: \\\\sarpov\\sarpov\\PAK\\Code\\kpgit_robert\\data\\access\\current\\211021\\Current_friction_msn_education_allboys_COG.tif\n"
     ]
    },
    {
     "name": "stdout",
     "output_type": "stream",
     "text": [
      "../../data\\access\\current/211021\\Current_friction_msn_education_boys.tif\n"
     ]
    },
    {
     "name": "stderr",
     "output_type": "stream",
     "text": [
      "Reading input: P:/PAK/Code/kpgit_robert/data/access/current/211021/Current_friction_msn_education_allgirls.tif\n",
      "Adding overviews...\n",
      "Updating dataset tags...\n",
      "Writing output to: \\\\sarpov\\sarpov\\PAK\\Code\\kpgit_robert\\data\\access\\current\\211021\\Current_friction_msn_education_allgirls_COG.tif\n"
     ]
    },
    {
     "name": "stdout",
     "output_type": "stream",
     "text": [
      "../../data\\access\\current/211021\\Current_friction_msn_education_boys_high.tif\n"
     ]
    },
    {
     "name": "stderr",
     "output_type": "stream",
     "text": [
      "Reading input: P:/PAK/Code/kpgit_robert/data/access/current/211021/Current_friction_msn_education_boys.tif\n",
      "Adding overviews...\n",
      "Updating dataset tags...\n",
      "Writing output to: \\\\sarpov\\sarpov\\PAK\\Code\\kpgit_robert\\data\\access\\current\\211021\\Current_friction_msn_education_boys_COG.tif\n"
     ]
    },
    {
     "name": "stdout",
     "output_type": "stream",
     "text": [
      "../../data\\access\\current/211021\\Current_friction_msn_education_boys_middle.tif\n"
     ]
    },
    {
     "name": "stderr",
     "output_type": "stream",
     "text": [
      "Reading input: P:/PAK/Code/kpgit_robert/data/access/current/211021/Current_friction_msn_education_boys_high.tif\n",
      "Adding overviews...\n",
      "Updating dataset tags...\n",
      "Writing output to: \\\\sarpov\\sarpov\\PAK\\Code\\kpgit_robert\\data\\access\\current\\211021\\Current_friction_msn_education_boys_high_COG.tif\n"
     ]
    },
    {
     "name": "stdout",
     "output_type": "stream",
     "text": [
      "../../data\\access\\current/211021\\Current_friction_msn_education_boys_primary.tif\n"
     ]
    },
    {
     "name": "stderr",
     "output_type": "stream",
     "text": [
      "Reading input: P:/PAK/Code/kpgit_robert/data/access/current/211021/Current_friction_msn_education_boys_middle.tif\n",
      "Adding overviews...\n",
      "Updating dataset tags...\n",
      "Writing output to: \\\\sarpov\\sarpov\\PAK\\Code\\kpgit_robert\\data\\access\\current\\211021\\Current_friction_msn_education_boys_middle_COG.tif\n"
     ]
    },
    {
     "name": "stdout",
     "output_type": "stream",
     "text": [
      "../../data\\access\\current/211021\\Current_friction_msn_education_girls.tif\n"
     ]
    },
    {
     "name": "stderr",
     "output_type": "stream",
     "text": [
      "Reading input: P:/PAK/Code/kpgit_robert/data/access/current/211021/Current_friction_msn_education_boys_primary.tif\n",
      "Adding overviews...\n",
      "Updating dataset tags...\n",
      "Writing output to: \\\\sarpov\\sarpov\\PAK\\Code\\kpgit_robert\\data\\access\\current\\211021\\Current_friction_msn_education_boys_primary_COG.tif\n"
     ]
    },
    {
     "name": "stdout",
     "output_type": "stream",
     "text": [
      "../../data\\access\\current/211021\\Current_friction_msn_education_girls_high.tif\n"
     ]
    },
    {
     "name": "stderr",
     "output_type": "stream",
     "text": [
      "Reading input: P:/PAK/Code/kpgit_robert/data/access/current/211021/Current_friction_msn_education_girls.tif\n",
      "Adding overviews...\n",
      "Updating dataset tags...\n",
      "Writing output to: \\\\sarpov\\sarpov\\PAK\\Code\\kpgit_robert\\data\\access\\current\\211021\\Current_friction_msn_education_girls_COG.tif\n"
     ]
    },
    {
     "name": "stdout",
     "output_type": "stream",
     "text": [
      "../../data\\access\\current/211021\\Current_friction_msn_education_girls_middle.tif\n"
     ]
    },
    {
     "name": "stderr",
     "output_type": "stream",
     "text": [
      "Reading input: P:/PAK/Code/kpgit_robert/data/access/current/211021/Current_friction_msn_education_girls_high.tif\n",
      "Adding overviews...\n",
      "Updating dataset tags...\n",
      "Writing output to: \\\\sarpov\\sarpov\\PAK\\Code\\kpgit_robert\\data\\access\\current\\211021\\Current_friction_msn_education_girls_high_COG.tif\n"
     ]
    },
    {
     "name": "stdout",
     "output_type": "stream",
     "text": [
      "../../data\\access\\current/211021\\Current_friction_msn_education_girls_primary.tif\n"
     ]
    },
    {
     "name": "stderr",
     "output_type": "stream",
     "text": [
      "Reading input: P:/PAK/Code/kpgit_robert/data/access/current/211021/Current_friction_msn_education_girls_middle.tif\n",
      "Adding overviews...\n",
      "Updating dataset tags...\n",
      "Writing output to: \\\\sarpov\\sarpov\\PAK\\Code\\kpgit_robert\\data\\access\\current\\211021\\Current_friction_msn_education_girls_middle_COG.tif\n"
     ]
    },
    {
     "name": "stdout",
     "output_type": "stream",
     "text": [
      "../../data\\access\\current/211021\\Current_friction_msn_education_high.tif\n"
     ]
    },
    {
     "name": "stderr",
     "output_type": "stream",
     "text": [
      "Reading input: P:/PAK/Code/kpgit_robert/data/access/current/211021/Current_friction_msn_education_girls_primary.tif\n",
      "Adding overviews...\n",
      "Updating dataset tags...\n",
      "Writing output to: \\\\sarpov\\sarpov\\PAK\\Code\\kpgit_robert\\data\\access\\current\\211021\\Current_friction_msn_education_girls_primary_COG.tif\n"
     ]
    },
    {
     "name": "stdout",
     "output_type": "stream",
     "text": [
      "../../data\\access\\current/211021\\Current_friction_msn_education_middle.tif\n"
     ]
    },
    {
     "name": "stderr",
     "output_type": "stream",
     "text": [
      "Reading input: P:/PAK/Code/kpgit_robert/data/access/current/211021/Current_friction_msn_education_high.tif\n",
      "Adding overviews...\n",
      "Updating dataset tags...\n",
      "Writing output to: \\\\sarpov\\sarpov\\PAK\\Code\\kpgit_robert\\data\\access\\current\\211021\\Current_friction_msn_education_high_COG.tif\n"
     ]
    },
    {
     "name": "stdout",
     "output_type": "stream",
     "text": [
      "../../data\\access\\current/211021\\Current_friction_msn_education_primary.tif\n"
     ]
    },
    {
     "name": "stderr",
     "output_type": "stream",
     "text": [
      "Reading input: P:/PAK/Code/kpgit_robert/data/access/current/211021/Current_friction_msn_education_middle.tif\n",
      "Adding overviews...\n",
      "Updating dataset tags...\n",
      "Writing output to: \\\\sarpov\\sarpov\\PAK\\Code\\kpgit_robert\\data\\access\\current\\211021\\Current_friction_msn_education_middle_COG.tif\n"
     ]
    },
    {
     "name": "stdout",
     "output_type": "stream",
     "text": [
      "../../data\\access\\current/211021\\Current_friction_msn_health_family.tif\n"
     ]
    },
    {
     "name": "stderr",
     "output_type": "stream",
     "text": [
      "Reading input: P:/PAK/Code/kpgit_robert/data/access/current/211021/Current_friction_msn_education_primary.tif\n",
      "Adding overviews...\n",
      "Updating dataset tags...\n",
      "Writing output to: \\\\sarpov\\sarpov\\PAK\\Code\\kpgit_robert\\data\\access\\current\\211021\\Current_friction_msn_education_primary_COG.tif\n"
     ]
    },
    {
     "name": "stdout",
     "output_type": "stream",
     "text": [
      "../../data\\access\\current/211021\\Current_friction_msn_health_pharmacies.tif\n"
     ]
    },
    {
     "name": "stderr",
     "output_type": "stream",
     "text": [
      "Reading input: P:/PAK/Code/kpgit_robert/data/access/current/211021/Current_friction_msn_health_family.tif\n",
      "Adding overviews...\n",
      "Updating dataset tags...\n",
      "Writing output to: \\\\sarpov\\sarpov\\PAK\\Code\\kpgit_robert\\data\\access\\current\\211021\\Current_friction_msn_health_family_COG.tif\n"
     ]
    },
    {
     "name": "stdout",
     "output_type": "stream",
     "text": [
      "../../data\\access\\current/211021\\Current_friction_msn_health_primary.tif\n"
     ]
    },
    {
     "name": "stderr",
     "output_type": "stream",
     "text": [
      "Reading input: P:/PAK/Code/kpgit_robert/data/access/current/211021/Current_friction_msn_health_pharmacies.tif\n",
      "Adding overviews...\n",
      "Updating dataset tags...\n",
      "Writing output to: \\\\sarpov\\sarpov\\PAK\\Code\\kpgit_robert\\data\\access\\current\\211021\\Current_friction_msn_health_pharmacies_COG.tif\n"
     ]
    },
    {
     "name": "stdout",
     "output_type": "stream",
     "text": [
      "../../data\\access\\current/211021\\Current_friction_msn_health_private.tif\n"
     ]
    },
    {
     "name": "stderr",
     "output_type": "stream",
     "text": [
      "Reading input: P:/PAK/Code/kpgit_robert/data/access/current/211021/Current_friction_msn_health_primary.tif\n",
      "Adding overviews...\n",
      "Updating dataset tags...\n",
      "Writing output to: \\\\sarpov\\sarpov\\PAK\\Code\\kpgit_robert\\data\\access\\current\\211021\\Current_friction_msn_health_primary_COG.tif\n"
     ]
    },
    {
     "name": "stdout",
     "output_type": "stream",
     "text": [
      "../../data\\access\\current/211021\\Current_friction_msn_health_public.tif\n"
     ]
    },
    {
     "name": "stderr",
     "output_type": "stream",
     "text": [
      "Reading input: P:/PAK/Code/kpgit_robert/data/access/current/211021/Current_friction_msn_health_private.tif\n",
      "Adding overviews...\n",
      "Updating dataset tags...\n",
      "Writing output to: \\\\sarpov\\sarpov\\PAK\\Code\\kpgit_robert\\data\\access\\current\\211021\\Current_friction_msn_health_private_COG.tif\n"
     ]
    },
    {
     "name": "stdout",
     "output_type": "stream",
     "text": [
      "../../data\\access\\current/211021\\Current_friction_msn_health_secondary.tif\n"
     ]
    },
    {
     "name": "stderr",
     "output_type": "stream",
     "text": [
      "Reading input: P:/PAK/Code/kpgit_robert/data/access/current/211021/Current_friction_msn_health_public.tif\n",
      "Adding overviews...\n",
      "Updating dataset tags...\n",
      "Writing output to: \\\\sarpov\\sarpov\\PAK\\Code\\kpgit_robert\\data\\access\\current\\211021\\Current_friction_msn_health_public_COG.tif\n"
     ]
    },
    {
     "name": "stdout",
     "output_type": "stream",
     "text": [
      "../../data\\access\\current/211021\\Current_friction_msn_health_tertiary.tif\n"
     ]
    },
    {
     "name": "stderr",
     "output_type": "stream",
     "text": [
      "Reading input: P:/PAK/Code/kpgit_robert/data/access/current/211021/Current_friction_msn_health_secondary.tif\n",
      "Adding overviews...\n",
      "Updating dataset tags...\n",
      "Writing output to: \\\\sarpov\\sarpov\\PAK\\Code\\kpgit_robert\\data\\access\\current\\211021\\Current_friction_msn_health_secondary_COG.tif\n"
     ]
    },
    {
     "name": "stdout",
     "output_type": "stream",
     "text": [
      "../../data\\access\\current/211021\\Current_friction_msn_markets_All.tif\n"
     ]
    },
    {
     "name": "stderr",
     "output_type": "stream",
     "text": [
      "Reading input: P:/PAK/Code/kpgit_robert/data/access/current/211021/Current_friction_msn_health_tertiary.tif\n",
      "Adding overviews...\n",
      "Updating dataset tags...\n",
      "Writing output to: \\\\sarpov\\sarpov\\PAK\\Code\\kpgit_robert\\data\\access\\current\\211021\\Current_friction_msn_health_tertiary_COG.tif\n"
     ]
    },
    {
     "name": "stdout",
     "output_type": "stream",
     "text": [
      "../../data\\access\\current/211021\\Current_friction_msn_markets_Central.tif\n"
     ]
    },
    {
     "name": "stderr",
     "output_type": "stream",
     "text": [
      "Reading input: P:/PAK/Code/kpgit_robert/data/access/current/211021/Current_friction_msn_markets_All.tif\n",
      "Adding overviews...\n",
      "Updating dataset tags...\n",
      "Writing output to: \\\\sarpov\\sarpov\\PAK\\Code\\kpgit_robert\\data\\access\\current\\211021\\Current_friction_msn_markets_All_COG.tif\n"
     ]
    },
    {
     "name": "stdout",
     "output_type": "stream",
     "text": [
      "../../data\\access\\current/211021\\Current_friction_winter_District_HQs.tif\n"
     ]
    },
    {
     "name": "stderr",
     "output_type": "stream",
     "text": [
      "Reading input: P:/PAK/Code/kpgit_robert/data/access/current/211021/Current_friction_msn_markets_Central.tif\n",
      "Adding overviews...\n",
      "Updating dataset tags...\n",
      "Writing output to: \\\\sarpov\\sarpov\\PAK\\Code\\kpgit_robert\\data\\access\\current\\211021\\Current_friction_msn_markets_Central_COG.tif\n"
     ]
    },
    {
     "name": "stdout",
     "output_type": "stream",
     "text": [
      "../../data\\access\\current/211021\\Current_friction_winter_Provincial_HQ.tif\n"
     ]
    },
    {
     "name": "stderr",
     "output_type": "stream",
     "text": [
      "Reading input: P:/PAK/Code/kpgit_robert/data/access/current/211021/Current_friction_winter_District_HQs.tif\n",
      "Adding overviews...\n",
      "Updating dataset tags...\n",
      "Writing output to: \\\\sarpov\\sarpov\\PAK\\Code\\kpgit_robert\\data\\access\\current\\211021\\Current_friction_winter_District_HQs_COG.tif\n"
     ]
    },
    {
     "name": "stdout",
     "output_type": "stream",
     "text": [
      "../../data\\access\\current/211021\\Current_friction_winter_education_allboys.tif\n"
     ]
    },
    {
     "name": "stderr",
     "output_type": "stream",
     "text": [
      "Reading input: P:/PAK/Code/kpgit_robert/data/access/current/211021/Current_friction_winter_Provincial_HQ.tif\n",
      "Adding overviews...\n",
      "Updating dataset tags...\n",
      "Writing output to: \\\\sarpov\\sarpov\\PAK\\Code\\kpgit_robert\\data\\access\\current\\211021\\Current_friction_winter_Provincial_HQ_COG.tif\n"
     ]
    },
    {
     "name": "stdout",
     "output_type": "stream",
     "text": [
      "../../data\\access\\current/211021\\Current_friction_winter_education_allgirls.tif\n"
     ]
    },
    {
     "name": "stderr",
     "output_type": "stream",
     "text": [
      "Reading input: P:/PAK/Code/kpgit_robert/data/access/current/211021/Current_friction_winter_education_allboys.tif\n",
      "Adding overviews...\n",
      "Updating dataset tags...\n",
      "Writing output to: \\\\sarpov\\sarpov\\PAK\\Code\\kpgit_robert\\data\\access\\current\\211021\\Current_friction_winter_education_allboys_COG.tif\n"
     ]
    },
    {
     "name": "stdout",
     "output_type": "stream",
     "text": [
      "../../data\\access\\current/211021\\Current_friction_winter_education_boys.tif\n"
     ]
    },
    {
     "name": "stderr",
     "output_type": "stream",
     "text": [
      "Reading input: P:/PAK/Code/kpgit_robert/data/access/current/211021/Current_friction_winter_education_allgirls.tif\n",
      "Adding overviews...\n",
      "Updating dataset tags...\n",
      "Writing output to: \\\\sarpov\\sarpov\\PAK\\Code\\kpgit_robert\\data\\access\\current\\211021\\Current_friction_winter_education_allgirls_COG.tif\n"
     ]
    },
    {
     "name": "stdout",
     "output_type": "stream",
     "text": [
      "../../data\\access\\current/211021\\Current_friction_winter_education_boys_high.tif\n"
     ]
    },
    {
     "name": "stderr",
     "output_type": "stream",
     "text": [
      "Reading input: P:/PAK/Code/kpgit_robert/data/access/current/211021/Current_friction_winter_education_boys.tif\n",
      "Adding overviews...\n",
      "Updating dataset tags...\n",
      "Writing output to: \\\\sarpov\\sarpov\\PAK\\Code\\kpgit_robert\\data\\access\\current\\211021\\Current_friction_winter_education_boys_COG.tif\n"
     ]
    },
    {
     "name": "stdout",
     "output_type": "stream",
     "text": [
      "../../data\\access\\current/211021\\Current_friction_winter_education_boys_middle.tif\n"
     ]
    },
    {
     "name": "stderr",
     "output_type": "stream",
     "text": [
      "Reading input: P:/PAK/Code/kpgit_robert/data/access/current/211021/Current_friction_winter_education_boys_high.tif\n",
      "Adding overviews...\n",
      "Updating dataset tags...\n",
      "Writing output to: \\\\sarpov\\sarpov\\PAK\\Code\\kpgit_robert\\data\\access\\current\\211021\\Current_friction_winter_education_boys_high_COG.tif\n"
     ]
    },
    {
     "name": "stdout",
     "output_type": "stream",
     "text": [
      "../../data\\access\\current/211021\\Current_friction_winter_education_boys_primary.tif\n"
     ]
    },
    {
     "name": "stderr",
     "output_type": "stream",
     "text": [
      "Reading input: P:/PAK/Code/kpgit_robert/data/access/current/211021/Current_friction_winter_education_boys_middle.tif\n",
      "Adding overviews...\n",
      "Updating dataset tags...\n",
      "Writing output to: \\\\sarpov\\sarpov\\PAK\\Code\\kpgit_robert\\data\\access\\current\\211021\\Current_friction_winter_education_boys_middle_COG.tif\n"
     ]
    },
    {
     "name": "stdout",
     "output_type": "stream",
     "text": [
      "../../data\\access\\current/211021\\Current_friction_winter_education_girls.tif\n"
     ]
    },
    {
     "name": "stderr",
     "output_type": "stream",
     "text": [
      "Reading input: P:/PAK/Code/kpgit_robert/data/access/current/211021/Current_friction_winter_education_boys_primary.tif\n",
      "Adding overviews...\n",
      "Updating dataset tags...\n",
      "Writing output to: \\\\sarpov\\sarpov\\PAK\\Code\\kpgit_robert\\data\\access\\current\\211021\\Current_friction_winter_education_boys_primary_COG.tif\n"
     ]
    },
    {
     "name": "stdout",
     "output_type": "stream",
     "text": [
      "../../data\\access\\current/211021\\Current_friction_winter_education_girls_high.tif\n"
     ]
    },
    {
     "name": "stderr",
     "output_type": "stream",
     "text": [
      "Reading input: P:/PAK/Code/kpgit_robert/data/access/current/211021/Current_friction_winter_education_girls.tif\n",
      "Adding overviews...\n",
      "Updating dataset tags...\n",
      "Writing output to: \\\\sarpov\\sarpov\\PAK\\Code\\kpgit_robert\\data\\access\\current\\211021\\Current_friction_winter_education_girls_COG.tif\n"
     ]
    },
    {
     "name": "stdout",
     "output_type": "stream",
     "text": [
      "../../data\\access\\current/211021\\Current_friction_winter_education_girls_middle.tif\n"
     ]
    },
    {
     "name": "stderr",
     "output_type": "stream",
     "text": [
      "Reading input: P:/PAK/Code/kpgit_robert/data/access/current/211021/Current_friction_winter_education_girls_high.tif\n",
      "Adding overviews...\n",
      "Updating dataset tags...\n",
      "Writing output to: \\\\sarpov\\sarpov\\PAK\\Code\\kpgit_robert\\data\\access\\current\\211021\\Current_friction_winter_education_girls_high_COG.tif\n"
     ]
    },
    {
     "name": "stdout",
     "output_type": "stream",
     "text": [
      "../../data\\access\\current/211021\\Current_friction_winter_education_girls_primary.tif\n"
     ]
    },
    {
     "name": "stderr",
     "output_type": "stream",
     "text": [
      "Reading input: P:/PAK/Code/kpgit_robert/data/access/current/211021/Current_friction_winter_education_girls_middle.tif\n",
      "Adding overviews...\n",
      "Updating dataset tags...\n",
      "Writing output to: \\\\sarpov\\sarpov\\PAK\\Code\\kpgit_robert\\data\\access\\current\\211021\\Current_friction_winter_education_girls_middle_COG.tif\n"
     ]
    },
    {
     "name": "stdout",
     "output_type": "stream",
     "text": [
      "../../data\\access\\current/211021\\Current_friction_winter_education_high.tif\n"
     ]
    },
    {
     "name": "stderr",
     "output_type": "stream",
     "text": [
      "Reading input: P:/PAK/Code/kpgit_robert/data/access/current/211021/Current_friction_winter_education_girls_primary.tif\n",
      "Adding overviews...\n",
      "Updating dataset tags...\n",
      "Writing output to: \\\\sarpov\\sarpov\\PAK\\Code\\kpgit_robert\\data\\access\\current\\211021\\Current_friction_winter_education_girls_primary_COG.tif\n"
     ]
    },
    {
     "name": "stdout",
     "output_type": "stream",
     "text": [
      "../../data\\access\\current/211021\\Current_friction_winter_education_middle.tif\n"
     ]
    },
    {
     "name": "stderr",
     "output_type": "stream",
     "text": [
      "Reading input: P:/PAK/Code/kpgit_robert/data/access/current/211021/Current_friction_winter_education_high.tif\n",
      "Adding overviews...\n",
      "Updating dataset tags...\n",
      "Writing output to: \\\\sarpov\\sarpov\\PAK\\Code\\kpgit_robert\\data\\access\\current\\211021\\Current_friction_winter_education_high_COG.tif\n"
     ]
    },
    {
     "name": "stdout",
     "output_type": "stream",
     "text": [
      "../../data\\access\\current/211021\\Current_friction_winter_education_primary.tif\n"
     ]
    },
    {
     "name": "stderr",
     "output_type": "stream",
     "text": [
      "Reading input: P:/PAK/Code/kpgit_robert/data/access/current/211021/Current_friction_winter_education_middle.tif\n",
      "Adding overviews...\n",
      "Updating dataset tags...\n",
      "Writing output to: \\\\sarpov\\sarpov\\PAK\\Code\\kpgit_robert\\data\\access\\current\\211021\\Current_friction_winter_education_middle_COG.tif\n"
     ]
    },
    {
     "name": "stdout",
     "output_type": "stream",
     "text": [
      "../../data\\access\\current/211021\\Current_friction_winter_health_family.tif\n"
     ]
    },
    {
     "name": "stderr",
     "output_type": "stream",
     "text": [
      "Reading input: P:/PAK/Code/kpgit_robert/data/access/current/211021/Current_friction_winter_education_primary.tif\n",
      "Adding overviews...\n",
      "Updating dataset tags...\n",
      "Writing output to: \\\\sarpov\\sarpov\\PAK\\Code\\kpgit_robert\\data\\access\\current\\211021\\Current_friction_winter_education_primary_COG.tif\n"
     ]
    },
    {
     "name": "stdout",
     "output_type": "stream",
     "text": [
      "../../data\\access\\current/211021\\Current_friction_winter_health_pharmacies.tif\n"
     ]
    },
    {
     "name": "stderr",
     "output_type": "stream",
     "text": [
      "Reading input: P:/PAK/Code/kpgit_robert/data/access/current/211021/Current_friction_winter_health_family.tif\n",
      "Adding overviews...\n",
      "Updating dataset tags...\n",
      "Writing output to: \\\\sarpov\\sarpov\\PAK\\Code\\kpgit_robert\\data\\access\\current\\211021\\Current_friction_winter_health_family_COG.tif\n"
     ]
    },
    {
     "name": "stdout",
     "output_type": "stream",
     "text": [
      "../../data\\access\\current/211021\\Current_friction_winter_health_primary.tif\n"
     ]
    },
    {
     "name": "stderr",
     "output_type": "stream",
     "text": [
      "Reading input: P:/PAK/Code/kpgit_robert/data/access/current/211021/Current_friction_winter_health_pharmacies.tif\n",
      "Adding overviews...\n",
      "Updating dataset tags...\n",
      "Writing output to: \\\\sarpov\\sarpov\\PAK\\Code\\kpgit_robert\\data\\access\\current\\211021\\Current_friction_winter_health_pharmacies_COG.tif\n"
     ]
    },
    {
     "name": "stdout",
     "output_type": "stream",
     "text": [
      "../../data\\access\\current/211021\\Current_friction_winter_health_private.tif\n"
     ]
    },
    {
     "name": "stderr",
     "output_type": "stream",
     "text": [
      "Reading input: P:/PAK/Code/kpgit_robert/data/access/current/211021/Current_friction_winter_health_primary.tif\n",
      "Adding overviews...\n",
      "Updating dataset tags...\n",
      "Writing output to: \\\\sarpov\\sarpov\\PAK\\Code\\kpgit_robert\\data\\access\\current\\211021\\Current_friction_winter_health_primary_COG.tif\n"
     ]
    },
    {
     "name": "stdout",
     "output_type": "stream",
     "text": [
      "../../data\\access\\current/211021\\Current_friction_winter_health_public.tif\n"
     ]
    },
    {
     "name": "stderr",
     "output_type": "stream",
     "text": [
      "Reading input: P:/PAK/Code/kpgit_robert/data/access/current/211021/Current_friction_winter_health_private.tif\n",
      "Adding overviews...\n",
      "Updating dataset tags...\n",
      "Writing output to: \\\\sarpov\\sarpov\\PAK\\Code\\kpgit_robert\\data\\access\\current\\211021\\Current_friction_winter_health_private_COG.tif\n"
     ]
    },
    {
     "name": "stdout",
     "output_type": "stream",
     "text": [
      "../../data\\access\\current/211021\\Current_friction_winter_health_secondary.tif\n"
     ]
    },
    {
     "name": "stderr",
     "output_type": "stream",
     "text": [
      "Reading input: P:/PAK/Code/kpgit_robert/data/access/current/211021/Current_friction_winter_health_public.tif\n",
      "Adding overviews...\n",
      "Updating dataset tags...\n",
      "Writing output to: \\\\sarpov\\sarpov\\PAK\\Code\\kpgit_robert\\data\\access\\current\\211021\\Current_friction_winter_health_public_COG.tif\n"
     ]
    },
    {
     "name": "stdout",
     "output_type": "stream",
     "text": [
      "../../data\\access\\current/211021\\Current_friction_winter_health_tertiary.tif\n"
     ]
    },
    {
     "name": "stderr",
     "output_type": "stream",
     "text": [
      "Reading input: P:/PAK/Code/kpgit_robert/data/access/current/211021/Current_friction_winter_health_secondary.tif\n",
      "Adding overviews...\n",
      "Updating dataset tags...\n",
      "Writing output to: \\\\sarpov\\sarpov\\PAK\\Code\\kpgit_robert\\data\\access\\current\\211021\\Current_friction_winter_health_secondary_COG.tif\n"
     ]
    },
    {
     "name": "stdout",
     "output_type": "stream",
     "text": [
      "../../data\\access\\current/211021\\Current_friction_winter_markets_All.tif\n"
     ]
    },
    {
     "name": "stderr",
     "output_type": "stream",
     "text": [
      "Reading input: P:/PAK/Code/kpgit_robert/data/access/current/211021/Current_friction_winter_health_tertiary.tif\n",
      "Adding overviews...\n",
      "Updating dataset tags...\n",
      "Writing output to: \\\\sarpov\\sarpov\\PAK\\Code\\kpgit_robert\\data\\access\\current\\211021\\Current_friction_winter_health_tertiary_COG.tif\n"
     ]
    },
    {
     "name": "stdout",
     "output_type": "stream",
     "text": [
      "../../data\\access\\current/211021\\Current_friction_winter_markets_Central.tif\n"
     ]
    },
    {
     "name": "stderr",
     "output_type": "stream",
     "text": [
      "Reading input: P:/PAK/Code/kpgit_robert/data/access/current/211021/Current_friction_winter_markets_All.tif\n",
      "Adding overviews...\n",
      "Updating dataset tags...\n",
      "Writing output to: \\\\sarpov\\sarpov\\PAK\\Code\\kpgit_robert\\data\\access\\current\\211021\\Current_friction_winter_markets_All_COG.tif\n",
      "Reading input: P:/PAK/Code/kpgit_robert/data/access/current/211021/Current_friction_winter_markets_Central.tif\n",
      "Adding overviews...\n",
      "Updating dataset tags...\n",
      "Writing output to: \\\\sarpov\\sarpov\\PAK\\Code\\kpgit_robert\\data\\access\\current\\211021\\Current_friction_winter_markets_Central_COG.tif\n"
     ]
    }
   ],
   "source": [
    "for acc_lyr in acc_tifs:\n",
    "    acc_lyr_cog = str.replace(acc_lyr,'.tif','_COG.tif')\n",
    "    \n",
    "    print(acc_lyr)\n",
    "    !rio cogeo create {acc_lyr} {acc_lyr_cog}"
   ]
  },
  {
   "cell_type": "markdown",
   "id": "27fa1e6b-dead-419a-8efd-72b7d96d49d5",
   "metadata": {
    "tags": []
   },
   "source": [
    "## Alternatives\n",
    "Sometimes you only want to generate a surface for one friction surface or group of destinations. The below code does that."
   ]
  },
  {
   "cell_type": "markdown",
   "id": "split-botswana",
   "metadata": {},
   "source": [
    "Loop over one friction surface for all destinations"
   ]
  },
  {
   "cell_type": "code",
   "execution_count": null,
   "id": "89744a3f-8569-4805-8b8b-8d6f195136b9",
   "metadata": {},
   "outputs": [],
   "source": [
    "# specify your season\n",
    "seas = 'winter'"
   ]
  },
  {
   "cell_type": "code",
   "execution_count": null,
   "id": "88e61dbd-c99a-420a-9f3b-11a43730f335",
   "metadata": {},
   "outputs": [],
   "source": [
    "#specify your friction surface\n",
    "prop_fric_pth = f'KP_friction_{seas}_210923_31m_masked.tif'"
   ]
  },
  {
   "cell_type": "code",
   "execution_count": null,
   "id": "recent-porter",
   "metadata": {},
   "outputs": [],
   "source": [
    "for idx, (key, gdf) in enumerate(dest_fils.items()):\n",
    "    \n",
    "    # countdown\n",
    "    tPrint(f'{idx + 1} of {len(dest_fils)}, {key}')\n",
    "    \n",
    "    # define desired friction surface\n",
    "    \n",
    "    single_fric_fil = os.path.join(data_dir,fric_dir,prop_fric_pth)\n",
    "    season = re.split(r'_',single_fric_fil)[2]\n",
    "\n",
    "    # previously had to multiply step2 by * inR.transform.a -- but now not necessary?\n",
    "\n",
    "    inR = rasterio.open(single_fric_fil)\n",
    "    inD = inR.read()[0,:,:] \n",
    "    inD = np.nan_to_num(inD,nan=10,posinf=10).astype(np.float32)\n",
    "    mcp = graph.MCP_Geometric(inD)\n",
    "    \n",
    "    # create travel time raster describing travel time from all cells to destinations\n",
    "    costs, traceback = calculate_travel_time_slim(inR, mcp, gdf, \\\n",
    "                                            os.path.join(data_dir,acc_dir,f\"current/{today}/Current_{season}_{key}.tif\"))"
   ]
  },
  {
   "cell_type": "markdown",
   "id": "naval-sector",
   "metadata": {},
   "source": [
    "Loop over one destination for all friction surfaces"
   ]
  },
  {
   "cell_type": "code",
   "execution_count": null,
   "id": "65a39a9e-afae-4392-8290-ad2a1dc021c5",
   "metadata": {},
   "outputs": [],
   "source": [
    "# define your single dest\n",
    "\n",
    "dest = dest_fils[0].values()\n",
    "\n",
    "# # or a full dict\n",
    "# single_dest_dict = {key:dest_fils[key] for key in dest_fils.keys() if key == 'health_secondary'}"
   ]
  },
  {
   "cell_type": "code",
   "execution_count": null,
   "id": "0aee2204-2595-4404-8ac6-c1d00d9d955f",
   "metadata": {},
   "outputs": [],
   "source": [
    "prop_fric_pth = f'KP_friction_{seas}_210902_31m_masked_final.tif'"
   ]
  },
  {
   "cell_type": "code",
   "execution_count": null,
   "id": "52ec2738-d1d4-4995-b787-525519002dd0",
   "metadata": {},
   "outputs": [],
   "source": [
    "prop_fric_pth"
   ]
  },
  {
   "cell_type": "code",
   "execution_count": null,
   "id": "ignored-reverse",
   "metadata": {
    "tags": []
   },
   "outputs": [],
   "source": [
    "# for a single destination\n",
    "\n",
    "for idx, fric in enumerate(fric_tifs):\n",
    "    \n",
    "    # name var for naming output file\n",
    "    feat_name = os.path.splitext(os.path.basename(fric_tifs[idx]))[0].split('_friction')[0]\n",
    "    out_acc_name = f'{feat_name}_access.tif'\n",
    "    \n",
    "    # countdown\n",
    "    tPrint(f'{idx + 1} of {len(fric_tifs)}, {feat_name}')\n",
    "    \n",
    "    # generate access parameters\n",
    "\n",
    "    fric = rasterio.open(fric)\n",
    "    inD = fric.read()[0,:,:]\n",
    "    inD = np.nan_to_num(inD,nan=10,posinf=10)\n",
    "    mcp = graph.MCP_Geometric(inD)\n",
    "    \n",
    "    # create and export travel time raster describing travel time from all cells to destinations\n",
    "    \n",
    "    costs, traceback = calculate_travel_time_slim(fric, mcp, dest, \\\n",
    "                                                os.path.join(data_dir,acc_dir,out_acc_name))"
   ]
  }
 ],
 "metadata": {
  "kernelspec": {
   "display_name": "Python 3 (ipykernel)",
   "language": "python",
   "name": "python3"
  },
  "language_info": {
   "codemirror_mode": {
    "name": "ipython",
    "version": 3
   },
   "file_extension": ".py",
   "mimetype": "text/x-python",
   "name": "python",
   "nbconvert_exporter": "python",
   "pygments_lexer": "ipython3",
   "version": "3.8.10"
  }
 },
 "nbformat": 4,
 "nbformat_minor": 5
}
