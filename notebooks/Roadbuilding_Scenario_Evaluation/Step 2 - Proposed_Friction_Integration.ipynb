{
 "cells": [
  {
   "cell_type": "markdown",
   "id": "beautiful-wheel",
   "metadata": {
    "tags": []
   },
   "source": [
    "# Incorporate proposed roads into current roads surface"
   ]
  },
  {
   "cell_type": "markdown",
   "id": "systematic-living",
   "metadata": {},
   "source": [
    "This notebook merges each of the new speed rasters to the \"main\" friction surface for the analysis extent area, generating a new friction surface specific to that road. We use that friction surface to generate accessibility surfaces specific to that road"
   ]
  },
  {
   "cell_type": "code",
   "execution_count": 1,
   "id": "chronic-piece",
   "metadata": {},
   "outputs": [],
   "source": [
    "import os, sys\n",
    "from datetime import date\n",
    "\n",
    "import numpy as np\n",
    "import re\n",
    "\n",
    "import rasterio\n",
    "from rasterio import features, transform\n",
    "from rasterio.merge import merge as merge\n",
    "from rasterio.transform import Affine\n",
    "from rasterio.io import MemoryFile\n",
    "\n",
    "import common_rasterio_ops as rast_ops\n",
    "\n",
    "import rio_cogeo\n",
    "from rio_cogeo.cogeo import cog_translate\n",
    "\n",
    "import pandas as pd\n",
    "import geopandas as gpd\n",
    "\n",
    "import shapely\n",
    "from shapely.geometry import shape, box, MultiPoint, Point, Polygon\n",
    "\n",
    "import skimage.graph as graph\n",
    "sys.path.append('../../src/')\n",
    "import GOSTnets.GOSTNets as gn\n",
    "import GOSTNets_Raster.src.GOSTNets_Raster.market_access as ma\n",
    "from gostrocks.src.GOSTRocks.misc import tPrint"
   ]
  },
  {
   "cell_type": "markdown",
   "id": "prescription-rover",
   "metadata": {},
   "source": [
    "## Setup"
   ]
  },
  {
   "cell_type": "markdown",
   "id": "5790f52e-e576-4dad-aed1-ba66c884d613",
   "metadata": {},
   "source": [
    "Today's date"
   ]
  },
  {
   "cell_type": "code",
   "execution_count": 2,
   "id": "4b4d8cfd-d1a9-4984-b2b2-10b89ecb1be9",
   "metadata": {},
   "outputs": [],
   "source": [
    "today = date.today().strftime(\"%y%m%d\")"
   ]
  },
  {
   "cell_type": "code",
   "execution_count": 3,
   "id": "e72f59f5-0efb-4496-818c-48ef87f14efd",
   "metadata": {},
   "outputs": [],
   "source": [
    "data_date = '220118'"
   ]
  },
  {
   "cell_type": "markdown",
   "id": "ed56c025-101a-411a-8c33-d8c43e52fb2b",
   "metadata": {},
   "source": [
    "Desired resolution of rasters"
   ]
  },
  {
   "cell_type": "code",
   "execution_count": 4,
   "id": "9389148b-d0fb-466b-8561-e2be52c4d48a",
   "metadata": {},
   "outputs": [],
   "source": [
    "res = '31m'"
   ]
  },
  {
   "cell_type": "markdown",
   "id": "intelligent-sheep",
   "metadata": {},
   "source": [
    "Directories"
   ]
  },
  {
   "cell_type": "code",
   "execution_count": 5,
   "id": "thorough-french",
   "metadata": {},
   "outputs": [],
   "source": [
    "geo_dir = r'P:\\PAK\\GEO'\n",
    "data_dir = r'../../data'\n",
    "\n",
    "rd_dir = r'roads'\n",
    "dest_dir = r'destinations'\n",
    "fric_dir = r'friction'\n",
    "acc_dir = r'access'"
   ]
  },
  {
   "cell_type": "markdown",
   "id": "surface-reasoning",
   "metadata": {},
   "source": [
    "Projections"
   ]
  },
  {
   "cell_type": "code",
   "execution_count": 6,
   "id": "changed-field",
   "metadata": {},
   "outputs": [],
   "source": [
    "# change this to whatever the desired output projection is\n",
    "dest_crs = 'EPSG:32642'"
   ]
  },
  {
   "cell_type": "markdown",
   "id": "romantic-necklace",
   "metadata": {},
   "source": [
    "Load in KP as clipping object"
   ]
  },
  {
   "cell_type": "code",
   "execution_count": 7,
   "id": "sudden-thesis",
   "metadata": {
    "tags": []
   },
   "outputs": [],
   "source": [
    "aoi = gpd.read_file(os.path.join(geo_dir,'Boundaries/OCHA/pak_admbnda_adm1_ocha_pco_gaul_20181218.shp'))\n",
    "aoi = aoi[aoi['ADM1_EN'] == 'Khyber Pakhtunkhwa']\n",
    "aoi = aoi.to_crs(dest_crs)\n",
    "\n",
    "# Buffer the polygon by 20km so we take in nearby markets and roads that may be used\n",
    "aoi.geometry = aoi.buffer(20000)"
   ]
  },
  {
   "cell_type": "markdown",
   "id": "precious-salmon",
   "metadata": {},
   "source": [
    "Destination file"
   ]
  },
  {
   "cell_type": "code",
   "execution_count": null,
   "id": "comic-paintball",
   "metadata": {},
   "outputs": [],
   "source": [
    "# Use destinations prepared previously. This assumes they are in WGS84 and need to be reprojected to the project's metric CRS\n",
    "\n",
    "dest_fils = {\n",
    "    re.findall(r'KP_(.*?).gpkg',fil)[0]: gpd.clip(gpd.read_file(os.path.join(data_dir,dest_dir,fil))\\\n",
    "                                                  .set_crs(4326).to_crs(dest_crs),aoi) \\\n",
    "    for fil in os.listdir(os.path.join(data_dir,dest_dir)) if fil.endswith(\".gpkg\")\n",
    "}"
   ]
  },
  {
   "cell_type": "code",
   "execution_count": null,
   "id": "447abc77-d472-4539-a503-d4ad8248fde8",
   "metadata": {},
   "outputs": [
    {
     "data": {
      "text/plain": [
       "24"
      ]
     },
     "execution_count": 9,
     "metadata": {},
     "output_type": "execute_result"
    }
   ],
   "source": [
    "len(dest_fils)"
   ]
  },
  {
   "cell_type": "markdown",
   "id": "7241d961-d2b7-4049-bda1-465fe0554393",
   "metadata": {
    "tags": []
   },
   "source": [
    "**Functions to process roads vectors into rasters**"
   ]
  },
  {
   "cell_type": "code",
   "execution_count": null,
   "id": "641b9d55-8d10-4c60-91bf-0215e25e7953",
   "metadata": {
    "tags": []
   },
   "outputs": [],
   "source": [
    "# Define a function to turn the prepared vector into an appropriately sized numpy array using the generator from `get_raster_params`\n",
    "\n",
    "def rasterize_vector(vector,base_rast_raw,speed_column):\n",
    "\n",
    "    # Run the above function to get all the necessary inputs for rasterization: parameters + the vector generator\n",
    "    \n",
    "    bds, ht, wth, src_tform, dst_tform, shapes, scale_factor_x, scale_factor_y = rast_ops.get_raster_params(vector,base_rast_raw,speed_column)\n",
    "    \n",
    "    # Downsample while rasterizing, saving us expensive resampling in memory.\n",
    "    \n",
    "    road_rast = features.rasterize(shapes,\\\n",
    "                  out_shape = (int(ht / scale_factor_y),\\\n",
    "                               int(wth / scale_factor_x)),\\\n",
    "                  transform=dst_tform,\n",
    "                  all_touched=True,\n",
    "                  dtype = np.float64)\n",
    "    \n",
    "    return road_rast\n",
    "\n",
    "# Define a function to export a road's numpy array to a GeoTIFF for spatial analysis / visualization purposes\n",
    "\n",
    "def export_rast(vector, fin_rast):\n",
    "\n",
    "    # calculate naming variables\n",
    "    \n",
    "    sn = vector.SN.item()\n",
    "    district = vector.District.item()\n",
    "    season = re.findall(r'(.*?)_speed',speed_column)[0]\n",
    "    \n",
    "    fric_out_name = os.path.basename(f'{sn}_{district}_{season}_friction.tif')\n",
    "    \n",
    "    # Must re-run this to get correct parameters for the profile creation\n",
    "    bds, ht, wth, src_tform, dst_tform, shapes, scale_factor_x, scale_factor_y = rast_ops.get_raster_params(vector,base_rast_raw,speed_column)\n",
    "\n",
    "    # Create metadata, including transformation, for the export\n",
    "    fin_profile = {\n",
    "        \"driver\": \"GTiff\",\n",
    "        \"dtype\": \"float32\",\n",
    "        \"crs\": {'init': dest_crs},\n",
    "        \"height\": int(ht / scale_factor_y),\n",
    "        \"width\": int(wth / scale_factor_x),\n",
    "        \"count\": 1,\n",
    "        \"nodata\": 0,\n",
    "        \"transform\": dst_tform,\n",
    "        \"compress\": 'LZW'\n",
    "    }\n",
    "    \n",
    "    # compute friction surface\n",
    "    fric_fin_rast = (1 / fin_rast) / (1000 / dst_tform.a)\n",
    "    fric_fin_rast = np.where(fric_fin_rast > 1, 1, fric_fin_rast)\n",
    "    fric_fin_rast = fric_fin_rast.astype(np.float32)\n",
    "    \n",
    "    # Export friction raster\n",
    "    with rasterio.open(\n",
    "        os.path.join(data_dir,fric_dir,f'proposed_roads//{res}//raw',fric_out_name), 'w',**fin_profile) as dst:\n",
    "        dst.write(fric_fin_rast, indexes=1)\n",
    "        \n",
    "# batch these into one function\n",
    "\n",
    "def rasterization_routine(vector,base_rast_raw,speed_column):\n",
    "    \n",
    "    fin_rast = rasterize_vector(vector,base_rast_raw,speed_column)\n",
    "    \n",
    "    export_rast(vector, fin_rast)"
   ]
  },
  {
   "cell_type": "markdown",
   "id": "01a76f42-cd6d-42bf-a164-46413e50cfe9",
   "metadata": {
    "tags": []
   },
   "source": [
    "## Processing roads vectors into friction rasters"
   ]
  },
  {
   "cell_type": "markdown",
   "id": "185eb55a-94ff-4397-8f10-adb8885c30c8",
   "metadata": {
    "tags": []
   },
   "source": [
    "### Generate and export small area friction rasters for each proposed road "
   ]
  },
  {
   "cell_type": "markdown",
   "id": "413f4cff-ff8c-4aed-bb1f-7cb13d5e691c",
   "metadata": {},
   "source": [
    "Desired output resolution"
   ]
  },
  {
   "cell_type": "code",
   "execution_count": null,
   "id": "35cc6cfa-db7e-41b3-b4ee-1e3223daf8a5",
   "metadata": {},
   "outputs": [],
   "source": [
    "res = '31m'\n",
    "# res = '100m'"
   ]
  },
  {
   "cell_type": "markdown",
   "id": "9426fb0d-c2dc-4978-aecf-989279a29d61",
   "metadata": {},
   "source": [
    "Roads"
   ]
  },
  {
   "cell_type": "code",
   "execution_count": null,
   "id": "c39983cf-cca0-481a-841b-1bd611e102a3",
   "metadata": {},
   "outputs": [],
   "source": [
    "prop_rds = gpd.read_file(os.path.join(data_dir,rd_dir,f'Proposed_final//Proposed_roads_processed_{data_date}.gpkg'),driver=\"GPKG\")"
   ]
  },
  {
   "cell_type": "markdown",
   "id": "92054dfa-da5e-4493-8802-c776884a21d1",
   "metadata": {},
   "source": [
    "Populate lists to loop over"
   ]
  },
  {
   "cell_type": "code",
   "execution_count": 14,
   "id": "c93ea8ec-5b03-4fba-9be5-83d40e3c33c1",
   "metadata": {},
   "outputs": [],
   "source": [
    "speed_cols = ['upgrade_dry_speed', 'upgrade_msn_speed', 'upgrade_winter_speed']"
   ]
  },
  {
   "cell_type": "code",
   "execution_count": 15,
   "id": "61aa71b1-b704-40d3-9c29-397539a752b2",
   "metadata": {},
   "outputs": [],
   "source": [
    "fric_tifs = sorted([os.path.join(data_dir,fric_dir,f'{res}//driving_only',file) \\\n",
    "            for file \\\n",
    "            in os.listdir(os.path.join(data_dir,fric_dir,f'{res}//driving_only')) \\\n",
    "            if file.endswith(\".tif\")]) # currently set up for walking rasters, change to whatever you need"
   ]
  },
  {
   "cell_type": "code",
   "execution_count": 16,
   "id": "dfd5aa46-a3d7-41b6-983b-6707bb96dd04",
   "metadata": {},
   "outputs": [
    {
     "data": {
      "text/plain": [
       "['../../data\\\\friction\\\\31m//driving_only\\\\KP_friction_dry_211020_31m_masked.tif',\n",
       " '../../data\\\\friction\\\\31m//driving_only\\\\KP_friction_msn_211020_31m_masked.tif',\n",
       " '../../data\\\\friction\\\\31m//driving_only\\\\KP_friction_winter_211020_31m_masked.tif']"
      ]
     },
     "execution_count": 16,
     "metadata": {},
     "output_type": "execute_result"
    }
   ],
   "source": [
    "fric_tifs"
   ]
  },
  {
   "cell_type": "markdown",
   "id": "3703869e-1986-4bfa-bc3d-d87f4964c0a2",
   "metadata": {},
   "source": [
    "Loop"
   ]
  },
  {
   "cell_type": "code",
   "execution_count": 17,
   "id": "eafbff74-b30c-4172-90b1-f287dbf51543",
   "metadata": {},
   "outputs": [
    {
     "name": "stdout",
     "output_type": "stream",
     "text": [
      "12:01:02\tKP_friction_dry_211020_31m_masked, upgrade_dry_speed\n"
     ]
    },
    {
     "name": "stderr",
     "output_type": "stream",
     "text": [
      "C:\\Users\\wb467985\\AppData\\Local\\Temp/ipykernel_36760/3940569224.py:49: RuntimeWarning: divide by zero encountered in true_divide\n",
      "  fric_fin_rast = (1 / fin_rast) / (1000 / dst_tform.a)\n"
     ]
    },
    {
     "name": "stdout",
     "output_type": "stream",
     "text": [
      "12:01:24\tKP_friction_dry_211020_31m_masked, upgrade_msn_speed\n",
      "12:01:45\tKP_friction_dry_211020_31m_masked, upgrade_winter_speed\n",
      "12:02:07\tKP_friction_msn_211020_31m_masked, upgrade_dry_speed\n",
      "12:02:29\tKP_friction_msn_211020_31m_masked, upgrade_msn_speed\n",
      "12:02:50\tKP_friction_msn_211020_31m_masked, upgrade_winter_speed\n",
      "12:03:10\tKP_friction_winter_211020_31m_masked, upgrade_dry_speed\n",
      "12:03:30\tKP_friction_winter_211020_31m_masked, upgrade_msn_speed\n",
      "12:03:51\tKP_friction_winter_211020_31m_masked, upgrade_winter_speed\n"
     ]
    }
   ],
   "source": [
    "# Loop over every speed_col for every friction tif and export a small-scale friction raster\n",
    "\n",
    "for fric in fric_tifs:   \n",
    "    \n",
    "    # fric_variable\n",
    "    \n",
    "    fric_name = os.path.basename(fric).replace('.tif','')\n",
    "    \n",
    "    # Load in the base speed raster we are merging unto so we can match up exactly to its grid and cell size\n",
    "\n",
    "    with rasterio.open(\n",
    "            os.path.join(data_dir,fric_dir,fric), 'r') as base_rast_raw:\n",
    "        base_idx = base_rast_raw.index\n",
    "        base_profile = base_rast_raw.meta.copy()\n",
    "        base_tform = base_rast_raw.transform\n",
    "        \n",
    "    # Specify speed value being burned into the raster\n",
    "    \n",
    "    for speed_column in speed_cols:\n",
    "\n",
    "        tPrint(f'{fric_name}, {speed_column}')\n",
    "        \n",
    "        # Need to reorder the datafram least to highest, so that the generator and therefore speed values are written similarly, \n",
    "        # This has the ultimate consequence that higher values overwrite lower values where they overlap\n",
    "        prop_rds = prop_rds.sort_values(by=speed_column)\n",
    "        \n",
    "        # rd-lst = [file for file in os.listdir(os.path.join(data_dir,rd_dir)) if file.endswith(\".shp\")]\n",
    "        rds_lst = [gpd.GeoDataFrame(road).T for idx, road in prop_rds.iterrows()]\n",
    "        \n",
    "        for idx, rd in enumerate(rds_lst):\n",
    "\n",
    "            rasterization_routine(rd,base_rast_raw,speed_column)\n",
    "        "
   ]
  },
  {
   "cell_type": "markdown",
   "id": "310d1796-db5a-4e68-b265-6115f3e87f12",
   "metadata": {
    "tags": []
   },
   "source": [
    "## Incorporate existing proposed roads into friction surface"
   ]
  },
  {
   "cell_type": "markdown",
   "id": "52595d15-2010-44fb-ae3a-e633a7ee621d",
   "metadata": {},
   "source": [
    "Populate lists to loop over"
   ]
  },
  {
   "cell_type": "code",
   "execution_count": 13,
   "id": "bcff2e3d-3a25-4497-89ff-1bcfe218f03d",
   "metadata": {},
   "outputs": [],
   "source": [
    "seasons = ['dry','msn','winter']"
   ]
  },
  {
   "cell_type": "markdown",
   "id": "57d89d03-5f5a-404f-b33a-36072cfe9b2c",
   "metadata": {},
   "source": [
    "Assumes that master friction surfaces have been stored in a \"{res}\\\\current\" folder"
   ]
  },
  {
   "cell_type": "code",
   "execution_count": 14,
   "id": "7d576992-1157-4f24-ab85-36782863ebf8",
   "metadata": {},
   "outputs": [],
   "source": [
    "fric_tifs = sorted([os.path.join(data_dir,fric_dir,f'{res}//current',file) \\\n",
    "            for file \\\n",
    "            in os.listdir(os.path.join(data_dir,fric_dir,f'{res}//current')) \\\n",
    "            if file.endswith(\".tif\")]) # currently set up for walking rasters, change to whatever you need"
   ]
  },
  {
   "cell_type": "markdown",
   "id": "e11e9258-18ea-4ecf-86c0-364f9ef5c550",
   "metadata": {
    "tags": []
   },
   "source": [
    "#### Incorporation loop"
   ]
  },
  {
   "cell_type": "code",
   "execution_count": null,
   "id": "1a614097-55d9-4bf9-bda2-2750f74525ec",
   "metadata": {},
   "outputs": [],
   "source": [
    "# create export dir if missing\n",
    "if os.path.exists(os.path.join(data_dir,fric_dir,f'{res}//current_w_proposed')) == False:\n",
    "    os.mkdir(os.path.join(data_dir,fric_dir,f'{res}//current_w_proposed'))\n",
    "else:\n",
    "    None"
   ]
  },
  {
   "cell_type": "code",
   "execution_count": 19,
   "id": "cf95fd33-3a8b-41ef-9d77-cfab125b1eb8",
   "metadata": {},
   "outputs": [],
   "source": [
    "for seas in seasons:\n",
    "    \n",
    "    # name variables\n",
    "    speed_column = f'current_{seas}_speed'\n",
    "    \n",
    "    base_rast_name = f'KP_friction_{seas}_{data_date}_{res}_masked'\n",
    "    base_rast_pth = base_rast_name + '.tif'\n",
    "    prop_rast_pth = base_rast_name + '_final.tif'\n",
    "    \n",
    "    # load in base raster\n",
    "    base_rast = rasterio.open(os.path.join(data_dir,fric_dir,f'{res}//current',base_rast_pth),'r')\n",
    "    base_profile = base_rast.profile\n",
    "    base_tform = base_rast.transform\n",
    "    base_profile.update({'dtype':'float32'})\n",
    "    \n",
    "    # create a generator containing geometry, value pairs for prop_rds\n",
    "    prop_rds_shapes = ((geom,speed) for geom, speed in zip(prop_rds.geometry,prop_rds[speed_column]))\n",
    "\n",
    "    # This will give the raster the size and dimensions of the base friction raster\n",
    "    prop_rast_fin = features.rasterize(prop_rds_shapes,\\\n",
    "                      out_shape = (base_profile['height'],\\\n",
    "                                   base_profile['width']),\\\n",
    "                      transform=base_profile['transform'],\n",
    "                      all_touched=True,\n",
    "                      fill=-1,\n",
    "                      dtype = np.float32)\n",
    "    \n",
    "    # transform into friction values\n",
    "    prop_rast_fin = (1 / prop_rast_fin) / (1000 / base_tform.a)\n",
    "    \n",
    "    # merge with existing friction surface\n",
    "    prop_rast_fin = np.where(prop_rast_fin > 0, prop_rast_fin, base_rast.read(1))\n",
    "    prop_rast_fin = prop_rast_fin.astype(np.float32)\n",
    "        \n",
    "    # export\n",
    "    \n",
    "    with rasterio.open(os.path.join(data_dir,fric_dir,f'{res}//current_w_proposed',prop_rast_pth),'w',**base_profile) as dst:\n",
    "        dst.write(prop_rast_fin,indexes=1)"
   ]
  },
  {
   "cell_type": "markdown",
   "id": "d9704e4a-501b-49b5-ac22-abb5eff8a54d",
   "metadata": {
    "tags": []
   },
   "source": [
    "### Convert all friction GeoTIFFs to Cloud Optimized GeoTIFFs"
   ]
  },
  {
   "cell_type": "markdown",
   "id": "71b83027-4084-49b9-ba07-8dfe6dfd54b4",
   "metadata": {
    "tags": []
   },
   "source": [
    "Convert all GeoTIFFs to COG GeoTIFFs. COGs are more efficiently tiled and compressed GeoTIFFs optimized to be served out of cloud storage environments. They are notably slimmer than the GeoTIFFs generated by MCP and necessary for later Dask operations"
   ]
  },
  {
   "cell_type": "code",
   "execution_count": 58,
   "id": "c43848ed",
   "metadata": {},
   "outputs": [],
   "source": [
    "# import glob\n",
    "# # cleanup code if anything is misnamed\n",
    "\n",
    "# for f in glob.glob(os.path.join(data_dir,fric_dir,f'{res}//current_w_proposed','*')):\n",
    "#     os.rename(f, f.replace('walkchild', 'childwalk'))"
   ]
  },
  {
   "cell_type": "code",
   "execution_count": 59,
   "id": "9ea49609-fb28-4aa2-a8cc-76bd2578abf8",
   "metadata": {},
   "outputs": [],
   "source": [
    "noncog_tifs = sorted([os.path.join(data_dir,fric_dir,f'{res}//current_w_proposed',file) \\\n",
    "            for file \\\n",
    "            in os.listdir(os.path.join(data_dir,fric_dir,f'{res}//current_w_proposed')) \\\n",
    "            if file.endswith(\".tif\")])"
   ]
  },
  {
   "cell_type": "code",
   "execution_count": 60,
   "id": "c5d8a546-1866-4935-b1a3-33e6733c957a",
   "metadata": {
    "scrolled": true
   },
   "outputs": [
    {
     "data": {
      "text/plain": [
       "['../../data\\\\friction\\\\31m//current_w_proposed\\\\KP_friction_dry_211019_31m_masked_final.tif',\n",
       " '../../data\\\\friction\\\\31m//current_w_proposed\\\\KP_friction_msn_211019_31m_masked_final.tif',\n",
       " '../../data\\\\friction\\\\31m//current_w_proposed\\\\KP_friction_winter_211019_31m_masked_final.tif']"
      ]
     },
     "execution_count": 60,
     "metadata": {},
     "output_type": "execute_result"
    }
   ],
   "source": [
    "noncog_tifs[:3]"
   ]
  },
  {
   "cell_type": "code",
   "execution_count": 61,
   "id": "ba5baaba-30b3-4f60-9c0e-c1f81b7e2bb6",
   "metadata": {},
   "outputs": [
    {
     "name": "stdout",
     "output_type": "stream",
     "text": [
      "../../data\\friction\\31m//current_w_proposed\\KP_friction_dry_211019_31m_masked_final_COG.tif\n",
      "../../data\\friction\\31m//current_w_proposed\\KP_friction_msn_211019_31m_masked_final_COG.tif\n"
     ]
    },
    {
     "name": "stderr",
     "output_type": "stream",
     "text": [
      "Reading input: P:/PAK/Code/kpgit_robert/data/friction/31m/current_w_proposed/KP_friction_dry_211019_31m_masked_final.tif\n",
      "Adding overviews...\n",
      "Updating dataset tags...\n",
      "Writing output to: \\\\sarpov\\sarpov\\PAK\\Code\\kpgit_robert\\data\\friction\\31m\\current_w_proposed\\KP_friction_dry_211019_31m_masked_final_COG.tif\n"
     ]
    },
    {
     "name": "stdout",
     "output_type": "stream",
     "text": [
      "../../data\\friction\\31m//current_w_proposed\\KP_friction_winter_211019_31m_masked_final_COG.tif\n"
     ]
    },
    {
     "name": "stderr",
     "output_type": "stream",
     "text": [
      "Reading input: P:/PAK/Code/kpgit_robert/data/friction/31m/current_w_proposed/KP_friction_msn_211019_31m_masked_final.tif\n",
      "Adding overviews...\n",
      "Updating dataset tags...\n",
      "Writing output to: \\\\sarpov\\sarpov\\PAK\\Code\\kpgit_robert\\data\\friction\\31m\\current_w_proposed\\KP_friction_msn_211019_31m_masked_final_COG.tif\n",
      "Reading input: P:/PAK/Code/kpgit_robert/data/friction/31m/current_w_proposed/KP_friction_winter_211019_31m_masked_final.tif\n",
      "Adding overviews...\n",
      "Updating dataset tags...\n",
      "Writing output to: \\\\sarpov\\sarpov\\PAK\\Code\\kpgit_robert\\data\\friction\\31m\\current_w_proposed\\KP_friction_winter_211019_31m_masked_final_COG.tif\n"
     ]
    }
   ],
   "source": [
    "for noncog_lyr in noncog_tifs:\n",
    "    cog_lyr = str.replace(noncog_lyr,'.tif','') + '_COG.tif'\n",
    "    \n",
    "    print(cog_lyr)\n",
    "    !rio cogeo create {noncog_lyr} {cog_lyr}"
   ]
  },
  {
   "cell_type": "code",
   "execution_count": null,
   "id": "5e34636a-6107-46c3-9ed4-5bdddd1025a8",
   "metadata": {},
   "outputs": [],
   "source": []
  }
 ],
 "metadata": {
  "kernelspec": {
   "display_name": "Python 3 (ipykernel)",
   "language": "python",
   "name": "python3"
  },
  "language_info": {
   "codemirror_mode": {
    "name": "ipython",
    "version": 3
   },
   "file_extension": ".py",
   "mimetype": "text/x-python",
   "name": "python",
   "nbconvert_exporter": "python",
   "pygments_lexer": "ipython3",
   "version": "3.8.10"
  }
 },
 "nbformat": 4,
 "nbformat_minor": 5
}
