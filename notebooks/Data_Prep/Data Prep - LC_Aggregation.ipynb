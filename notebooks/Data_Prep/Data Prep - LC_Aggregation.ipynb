{
 "cells": [
  {
   "cell_type": "markdown",
   "metadata": {},
   "source": [
    "# Agggregate landcover classes by admin unit"
   ]
  },
  {
   "cell_type": "markdown",
   "metadata": {},
   "source": [
    "Aggregating landcover by administrative unit isn't simple with desktop tools - each class needs to be aggregated separately and then calculated as a percentage of the total area. Better to do it in python."
   ]
  },
  {
   "cell_type": "code",
   "execution_count": 1,
   "metadata": {},
   "outputs": [],
   "source": [
    "import os, sys\n",
    "import pandas as pd\n",
    "import geopandas as gpd\n",
    "import shapely\n",
    "from shapely.geometry import shape, JOIN_STYLE\n",
    "\n",
    "import re\n",
    "import numpy as np\n",
    "import rasterio\n",
    "from rasterio.mask import mask\n",
    "import rasterstats\n",
    "from rasterstats import zonal_stats"
   ]
  },
  {
   "cell_type": "markdown",
   "metadata": {},
   "source": [
    "#### Set directories"
   ]
  },
  {
   "cell_type": "code",
   "execution_count": 18,
   "metadata": {},
   "outputs": [],
   "source": [
    "geo_dir = r'P:\\PAK\\GEO'\n",
    "data_dir = r'../../data'\n",
    "vect_in_dir = r'vect_inputs'\n",
    "vect_out_dir = r'vect_out'\n",
    "tabular_dir = r'tabular'"
   ]
  },
  {
   "cell_type": "markdown",
   "metadata": {},
   "source": [
    "Projections"
   ]
  },
  {
   "cell_type": "code",
   "execution_count": 3,
   "metadata": {},
   "outputs": [],
   "source": [
    "dest_crs = 32642"
   ]
  },
  {
   "cell_type": "markdown",
   "metadata": {},
   "source": [
    "#### Read in files"
   ]
  },
  {
   "cell_type": "markdown",
   "metadata": {},
   "source": [
    "KP boundaries"
   ]
  },
  {
   "cell_type": "code",
   "execution_count": 4,
   "metadata": {},
   "outputs": [],
   "source": [
    "kp = gpd.read_file(r'P:\\PAK\\GEO\\Boundaries\\OCHA\\pak_admbnda_adm1_ocha_pco_gaul_20181218.shp')"
   ]
  },
  {
   "cell_type": "code",
   "execution_count": 5,
   "metadata": {},
   "outputs": [],
   "source": [
    "kp = kp[kp['ADM1_EN'] == 'Khyber Pakhtunkhwa']\n",
    "kp = kp.to_crs(dest_crs)"
   ]
  },
  {
   "cell_type": "code",
   "execution_count": 6,
   "metadata": {},
   "outputs": [],
   "source": [
    "# Buffer the polygon by 20km so we take in nearby markets and roads that may be used\n",
    "kp.geometry = kp.buffer(20000)\n",
    "# kp = kp.to_crs(4326) # change back for clipping of 4326 rasters"
   ]
  },
  {
   "cell_type": "code",
   "execution_count": 7,
   "metadata": {},
   "outputs": [
    {
     "data": {
      "text/html": [
       "<div>\n",
       "<style scoped>\n",
       "    .dataframe tbody tr th:only-of-type {\n",
       "        vertical-align: middle;\n",
       "    }\n",
       "\n",
       "    .dataframe tbody tr th {\n",
       "        vertical-align: top;\n",
       "    }\n",
       "\n",
       "    .dataframe thead th {\n",
       "        text-align: right;\n",
       "    }\n",
       "</style>\n",
       "<table border=\"1\" class=\"dataframe\">\n",
       "  <thead>\n",
       "    <tr style=\"text-align: right;\">\n",
       "      <th></th>\n",
       "      <th>Shape_Leng</th>\n",
       "      <th>Shape_Area</th>\n",
       "      <th>ADM1_EN</th>\n",
       "      <th>ADM1_PCODE</th>\n",
       "      <th>ADM1_REF</th>\n",
       "      <th>ADM1ALT1EN</th>\n",
       "      <th>ADM1ALT2EN</th>\n",
       "      <th>ADM0_EN</th>\n",
       "      <th>ADM0_PCODE</th>\n",
       "      <th>date</th>\n",
       "      <th>validOn</th>\n",
       "      <th>validTo</th>\n",
       "      <th>geometry</th>\n",
       "    </tr>\n",
       "  </thead>\n",
       "  <tbody>\n",
       "    <tr>\n",
       "      <th>2</th>\n",
       "      <td>27.479368</td>\n",
       "      <td>9.901186</td>\n",
       "      <td>Khyber Pakhtunkhwa</td>\n",
       "      <td>PK2</td>\n",
       "      <td>None</td>\n",
       "      <td>None</td>\n",
       "      <td>None</td>\n",
       "      <td>Pakistan</td>\n",
       "      <td>PK</td>\n",
       "      <td>2018-11-30</td>\n",
       "      <td>2018-12-18</td>\n",
       "      <td>None</td>\n",
       "      <td>POLYGON ((505910.537 3561734.747, 505840.700 3...</td>\n",
       "    </tr>\n",
       "  </tbody>\n",
       "</table>\n",
       "</div>"
      ],
      "text/plain": [
       "   Shape_Leng  Shape_Area             ADM1_EN ADM1_PCODE ADM1_REF ADM1ALT1EN  \\\n",
       "2   27.479368    9.901186  Khyber Pakhtunkhwa        PK2     None       None   \n",
       "\n",
       "  ADM1ALT2EN   ADM0_EN ADM0_PCODE        date     validOn validTo  \\\n",
       "2       None  Pakistan         PK  2018-11-30  2018-12-18    None   \n",
       "\n",
       "                                            geometry  \n",
       "2  POLYGON ((505910.537 3561734.747, 505840.700 3...  "
      ]
     },
     "execution_count": 7,
     "metadata": {},
     "output_type": "execute_result"
    }
   ],
   "source": [
    "kp.head()"
   ]
  },
  {
   "cell_type": "markdown",
   "metadata": {},
   "source": [
    "Admin areas"
   ]
  },
  {
   "cell_type": "code",
   "execution_count": 12,
   "metadata": {},
   "outputs": [],
   "source": [
    "shp_list = [os.path.join(geo_dir,'Boundaries/KP_Analysis/KP_Analysis_Focus_Tehsils.gpkg')]"
   ]
  },
  {
   "cell_type": "code",
   "execution_count": 13,
   "metadata": {},
   "outputs": [
    {
     "data": {
      "text/plain": [
       "['P:\\\\PAK\\\\GEO\\\\Boundaries/KP_Analysis/KP_Analysis_Focus_Tehsils.gpkg']"
      ]
     },
     "execution_count": 13,
     "metadata": {},
     "output_type": "execute_result"
    }
   ],
   "source": [
    "shp_list"
   ]
  },
  {
   "cell_type": "markdown",
   "metadata": {},
   "source": [
    "FAO Landcover layers"
   ]
  },
  {
   "cell_type": "code",
   "execution_count": 9,
   "metadata": {},
   "outputs": [],
   "source": [
    "with rasterio.open(os.path.join(geo_dir,r'Landcover/FAO/kp_lc_v1_AG_cl_32642.tif'),'r') as fao_raw:\n",
    "    fao_mast, fao_tform = mask(fao_raw, kp.geometry, crop=True, indexes=1)\n",
    "    fao_mast = fao_mast.astype(np.uint8)\n",
    "    \n",
    "    # load and update meta\n",
    "    fao_prof = fao_raw.profile\n",
    "    fao_prof['transform'] = fao_tform\n",
    "    \n",
    "    # calculate the pixel area in square kilometers\n",
    "    pix_area = (fao_tform.a * fao_tform.e) / 1000000"
   ]
  },
  {
   "cell_type": "code",
   "execution_count": 10,
   "metadata": {},
   "outputs": [],
   "source": [
    "# create separate binary arrays for each cropping type\n",
    "orchard = np.where(fao_mast == 3, 1, 0).astype(np.uint8)\n",
    "irrig = np.where(fao_mast == 4, 1, 0).astype(np.uint8)\n",
    "non_irrig = np.where(fao_mast == 5, 1, 0).astype(np.uint8)"
   ]
  },
  {
   "cell_type": "code",
   "execution_count": 11,
   "metadata": {},
   "outputs": [],
   "source": [
    "pix_area = (fao_tform.a * fao_tform.e) / 1000000"
   ]
  },
  {
   "cell_type": "markdown",
   "metadata": {
    "tags": []
   },
   "source": [
    "### Aggregate landcover and export"
   ]
  },
  {
   "cell_type": "markdown",
   "metadata": {},
   "source": [
    "Load in the admin areas and aggregate population + agricultural areas within them. Then export to spatial and tabular formats"
   ]
  },
  {
   "cell_type": "code",
   "execution_count": 20,
   "metadata": {},
   "outputs": [],
   "source": [
    "for shp in shp_list:\n",
    "    \n",
    "    # read in, slim down\n",
    "    layer = gpd.read_file(shp)\n",
    "    layer = layer[['ADM3_EN','ADM3_PCODE','ADM2_EN','ADM2_PCODE','ADM1_EN','ADM1_PCODE','geometry']]\n",
    "    layer = layer.to_crs(dest_crs)\n",
    "    \n",
    "    # summarize square kilometers of agricultural land of each type within catchment\n",
    "    orch_zs = zonal_stats(layer, orchard, affine=fao_tform, nodata=np.nan,stats=['sum'])\n",
    "    irrig_zs = zonal_stats(layer, irrig, affine=fao_tform, nodata=np.nan,stats=['sum'])\n",
    "    non_irrig_zs = zonal_stats(layer, non_irrig, affine=fao_tform, nodata=np.nan,stats=['sum'])\n",
    "    \n",
    "    # add pixel sum column to layer and multiply it by pixel area factored in terms of square kilometers\n",
    "    \n",
    "    layer['area_sqkm'] = (layer.geometry.area / 1000000) \n",
    "    \n",
    "    layer['orch_sqkm'] = np.abs(pd.DataFrame(orch_zs)['sum'] * pix_area)\n",
    "    layer['irrig_sqkm'] = np.abs(pd.DataFrame(irrig_zs)['sum'] * pix_area)\n",
    "    layer['non_irrig_sqkm'] = np.abs(pd.DataFrame(non_irrig_zs)['sum'] * pix_area)\n",
    "\n",
    "    layer['orch_pct'] = (layer['orch_sqkm'] / layer['area_sqkm']) * 100\n",
    "    layer['irrig_pct'] = (layer['irrig_sqkm'] / layer['area_sqkm']) * 100\n",
    "    layer['non_irrig_pct'] = (layer['non_irrig_sqkm'] / layer['area_sqkm']) * 100\n",
    "    \n",
    "    # export\n",
    "    layer.to_file(os.path.join(data_dir,vect_out_dir,f'KP_Admins_Agricultural.gpkg'),layer=f'Tehsils_Agricultural_{dest_crs}',driver=\"GPKG\")\n",
    "    layer.to_crs(4326).to_file(os.path.join(data_dir,vect_out_dir,f'KP_Admins_Agricultural.gpkg'),layer=f'Tehsils_Agricultural_4326',driver=\"GPKG\")\n",
    "    layer.drop('geometry',axis=1).to_csv(os.path.join(data_dir,tabular,f'KP_Tehsil_Agricultural_Areas.csv'))"
   ]
  },
  {
   "cell_type": "code",
   "execution_count": null,
   "metadata": {},
   "outputs": [],
   "source": []
  }
 ],
 "metadata": {
  "kernelspec": {
   "display_name": "Python 3 (ipykernel)",
   "language": "python",
   "name": "python3"
  },
  "language_info": {
   "codemirror_mode": {
    "name": "ipython",
    "version": 3
   },
   "file_extension": ".py",
   "mimetype": "text/x-python",
   "name": "python",
   "nbconvert_exporter": "python",
   "pygments_lexer": "ipython3",
   "version": "3.8.10"
  }
 },
 "nbformat": 4,
 "nbformat_minor": 4
}
