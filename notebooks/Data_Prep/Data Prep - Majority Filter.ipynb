{
 "cells": [
  {
   "cell_type": "markdown",
   "id": "caroline-enterprise",
   "metadata": {},
   "source": [
    "# Majority Filter WSF data"
   ]
  },
  {
   "cell_type": "markdown",
   "id": "unauthorized-blair",
   "metadata": {},
   "source": [
    "This notebook processes WSF data with modal majority filters of various sizes. This was used to help identify and visualize large settlements.</br>This is a small data processing step and could probably be rolled up into a larger notebook -- saving as a standalone process for now so the code is shareable."
   ]
  },
  {
   "cell_type": "markdown",
   "id": "incomplete-chicken",
   "metadata": {},
   "source": [
    "This notebook assumes you've pre-processed your input data into a binary dataset (0 = no settlement, 1 = settlement)"
   ]
  },
  {
   "cell_type": "code",
   "execution_count": 16,
   "id": "qualified-customs",
   "metadata": {},
   "outputs": [],
   "source": [
    "import os, sys\n",
    "\n",
    "from shapely.geometry import shape\n",
    "import geopandas as gpd\n",
    "\n",
    "import rasterio\n",
    "import numpy as np\n",
    "from skimage.morphology import rectangle   # for Structuring Elements (e.g. disk, rectangle)\n",
    "from skimage.filters.rank import modal     # the filter function we use\n"
   ]
  },
  {
   "cell_type": "markdown",
   "id": "seventh-mother",
   "metadata": {},
   "source": [
    "Great quick breakdown here: https://stackoverflow.com/questions/52049865/copy-the-center-pixel-value-to-the-majority-value-in-the-block/52277954#52277954"
   ]
  },
  {
   "cell_type": "code",
   "execution_count": 2,
   "id": "blind-stationery",
   "metadata": {},
   "outputs": [],
   "source": [
    "with rasterio.open('KP_WSF2019_binary.tif') as wsf_raw:\n",
    "    wsf = wsf_raw.read(1)\n",
    "    wsf_profile = wsf_raw.profile"
   ]
  },
  {
   "cell_type": "code",
   "execution_count": 3,
   "id": "unique-regular",
   "metadata": {},
   "outputs": [
    {
     "data": {
      "text/plain": [
       "array([[0, 0, 0, ..., 0, 0, 0],\n",
       "       [0, 0, 0, ..., 0, 0, 0],\n",
       "       [0, 0, 0, ..., 0, 0, 0],\n",
       "       ...,\n",
       "       [0, 0, 0, ..., 0, 0, 0],\n",
       "       [0, 0, 0, ..., 0, 0, 0],\n",
       "       [0, 0, 0, ..., 0, 0, 0]], dtype=uint8)"
      ]
     },
     "execution_count": 3,
     "metadata": {},
     "output_type": "execute_result"
    }
   ],
   "source": [
    "wsf"
   ]
  },
  {
   "cell_type": "code",
   "execution_count": null,
   "id": "arbitrary-wonder",
   "metadata": {},
   "outputs": [],
   "source": [
    "wsf_profile"
   ]
  },
  {
   "cell_type": "markdown",
   "id": "strategic-prediction",
   "metadata": {},
   "source": [
    "### 3-by-3 modal filter"
   ]
  },
  {
   "cell_type": "code",
   "execution_count": 20,
   "id": "crazy-isolation",
   "metadata": {},
   "outputs": [],
   "source": [
    "# Run the filter with a 3x3 rectangular Structuring Element\n",
    "result_3by3 = modal(wsf,rectangle(3,3))\n"
   ]
  },
  {
   "cell_type": "code",
   "execution_count": 22,
   "id": "funded-cyprus",
   "metadata": {
    "tags": []
   },
   "outputs": [],
   "source": [
    "# Export as polygons\n",
    "\n",
    "from rasterio.features import shapes\n",
    "mask = None\n",
    "with rasterio.Env():\\\n",
    "        results = (\n",
    "        {'properties': {'raster_val': v}, 'geometry': s}\n",
    "        for i, (s, v) \n",
    "        in enumerate(\n",
    "            shapes(result_3by3, mask=mask, transform=wsf_raw.transform)))\n",
    "    \n",
    "geoms = list(results)\n",
    "poly_3by3 = gpd.GeoDataFrame.from_features(geoms)\n",
    "poly_3by3 = poly_3by3[poly_3by3['raster_val'] != 0]\n",
    "poly_3by3 = poly_3by3.set_crs(4326)\n",
    "poly_3by3.to_file('poly_out/wsf_3by3_majfilter.gpkg',driver=\"GPKG\")"
   ]
  },
  {
   "cell_type": "code",
   "execution_count": 26,
   "id": "instant-newton",
   "metadata": {},
   "outputs": [],
   "source": [
    "poly_3by3 = poly_3by3.set_crs(4326)\n",
    "poly_3by3.to_file('poly_out/wsf_3by3_majfilter.gpkg',driver=\"GPKG\")"
   ]
  },
  {
   "cell_type": "code",
   "execution_count": 24,
   "id": "dressed-publication",
   "metadata": {},
   "outputs": [
    {
     "data": {
      "text/html": [
       "<div>\n",
       "<style scoped>\n",
       "    .dataframe tbody tr th:only-of-type {\n",
       "        vertical-align: middle;\n",
       "    }\n",
       "\n",
       "    .dataframe tbody tr th {\n",
       "        vertical-align: top;\n",
       "    }\n",
       "\n",
       "    .dataframe thead th {\n",
       "        text-align: right;\n",
       "    }\n",
       "</style>\n",
       "<table border=\"1\" class=\"dataframe\">\n",
       "  <thead>\n",
       "    <tr style=\"text-align: right;\">\n",
       "      <th></th>\n",
       "      <th>geometry</th>\n",
       "      <th>raster_val</th>\n",
       "    </tr>\n",
       "  </thead>\n",
       "  <tbody>\n",
       "    <tr>\n",
       "      <th>0</th>\n",
       "      <td>POLYGON ((73.43296 36.89722, 73.43296 36.89704...</td>\n",
       "      <td>1.0</td>\n",
       "    </tr>\n",
       "    <tr>\n",
       "      <th>1</th>\n",
       "      <td>POLYGON ((73.48713 36.87342, 73.48713 36.87333...</td>\n",
       "      <td>1.0</td>\n",
       "    </tr>\n",
       "    <tr>\n",
       "      <th>2</th>\n",
       "      <td>POLYGON ((73.37619 36.86919, 73.37619 36.86902...</td>\n",
       "      <td>1.0</td>\n",
       "    </tr>\n",
       "    <tr>\n",
       "      <th>3</th>\n",
       "      <td>POLYGON ((73.37691 36.86812, 73.37691 36.86794...</td>\n",
       "      <td>1.0</td>\n",
       "    </tr>\n",
       "    <tr>\n",
       "      <th>4</th>\n",
       "      <td>POLYGON ((73.37143 36.86659, 73.37143 36.86650...</td>\n",
       "      <td>1.0</td>\n",
       "    </tr>\n",
       "    <tr>\n",
       "      <th>...</th>\n",
       "      <td>...</td>\n",
       "      <td>...</td>\n",
       "    </tr>\n",
       "    <tr>\n",
       "      <th>200342</th>\n",
       "      <td>POLYGON ((70.41337 31.22571, 70.41337 31.22562...</td>\n",
       "      <td>1.0</td>\n",
       "    </tr>\n",
       "    <tr>\n",
       "      <th>200343</th>\n",
       "      <td>POLYGON ((70.41435 31.22544, 70.41435 31.22535...</td>\n",
       "      <td>1.0</td>\n",
       "    </tr>\n",
       "    <tr>\n",
       "      <th>200344</th>\n",
       "      <td>POLYGON ((70.40330 31.21951, 70.40330 31.21933...</td>\n",
       "      <td>1.0</td>\n",
       "    </tr>\n",
       "    <tr>\n",
       "      <th>200345</th>\n",
       "      <td>POLYGON ((70.40357 31.21906, 70.40357 31.21897...</td>\n",
       "      <td>1.0</td>\n",
       "    </tr>\n",
       "    <tr>\n",
       "      <th>200346</th>\n",
       "      <td>POLYGON ((70.29119 31.18214, 70.29119 31.18205...</td>\n",
       "      <td>1.0</td>\n",
       "    </tr>\n",
       "  </tbody>\n",
       "</table>\n",
       "<p>180468 rows × 2 columns</p>\n",
       "</div>"
      ],
      "text/plain": [
       "                                                 geometry  raster_val\n",
       "0       POLYGON ((73.43296 36.89722, 73.43296 36.89704...         1.0\n",
       "1       POLYGON ((73.48713 36.87342, 73.48713 36.87333...         1.0\n",
       "2       POLYGON ((73.37619 36.86919, 73.37619 36.86902...         1.0\n",
       "3       POLYGON ((73.37691 36.86812, 73.37691 36.86794...         1.0\n",
       "4       POLYGON ((73.37143 36.86659, 73.37143 36.86650...         1.0\n",
       "...                                                   ...         ...\n",
       "200342  POLYGON ((70.41337 31.22571, 70.41337 31.22562...         1.0\n",
       "200343  POLYGON ((70.41435 31.22544, 70.41435 31.22535...         1.0\n",
       "200344  POLYGON ((70.40330 31.21951, 70.40330 31.21933...         1.0\n",
       "200345  POLYGON ((70.40357 31.21906, 70.40357 31.21897...         1.0\n",
       "200346  POLYGON ((70.29119 31.18214, 70.29119 31.18205...         1.0\n",
       "\n",
       "[180468 rows x 2 columns]"
      ]
     },
     "execution_count": 24,
     "metadata": {},
     "output_type": "execute_result"
    }
   ],
   "source": [
    "poly_3by3"
   ]
  },
  {
   "cell_type": "code",
   "execution_count": 9,
   "id": "partial-teddy",
   "metadata": {},
   "outputs": [],
   "source": [
    "with rasterio.open('KP_WSF2019_binary_skimage_modal_3by3.tif','w',**wsf_profile) as wsf_out:\n",
    "    wsf_out.write(result_3by3,1)"
   ]
  },
  {
   "cell_type": "markdown",
   "id": "minute-encoding",
   "metadata": {},
   "source": [
    "### 5-by-5 modal filter"
   ]
  },
  {
   "cell_type": "code",
   "execution_count": 18,
   "id": "prescribed-tyler",
   "metadata": {},
   "outputs": [],
   "source": [
    "# Run the filter with a 5x5 rectangular Structuring Element\n",
    "result_5by5 = modal(wsf,rectangle(5,5))\n"
   ]
  },
  {
   "cell_type": "code",
   "execution_count": 19,
   "id": "documented-mistress",
   "metadata": {
    "tags": []
   },
   "outputs": [],
   "source": [
    "# Export as polygons\n",
    "\n",
    "from rasterio.features import shapes\n",
    "mask = None\n",
    "with rasterio.Env():\\\n",
    "        results = (\n",
    "        {'properties': {'raster_val': v}, 'geometry': s}\n",
    "        for i, (s, v) \n",
    "        in enumerate(\n",
    "            shapes(result_5by5, mask=mask, transform=wsf_raw.transform)))\n",
    "    \n",
    "geoms = list(results)\n",
    "poly_5by5 = gpd.GeoDataFrame.from_features(geoms)\n",
    "poly_5by5 = poly_5by5[poly_5by5['raster_val'] != 0]\n",
    "poly_5by5 = poly_5by5.set_crs(4326)\n",
    "poly_5by5.to_file('poly_out/wsf_5by5_majfilter.gpkg',driver=\"GPKG\")"
   ]
  },
  {
   "cell_type": "code",
   "execution_count": 27,
   "id": "hairy-organizer",
   "metadata": {},
   "outputs": [],
   "source": [
    "poly_5by5 = poly_5by5.set_crs(4326)\n",
    "poly_5by5.to_file('poly_out/wsf_5by5_majfilter.gpkg',driver=\"GPKG\")"
   ]
  },
  {
   "cell_type": "code",
   "execution_count": 11,
   "id": "passing-airfare",
   "metadata": {},
   "outputs": [],
   "source": [
    "with rasterio.open('KP_WSF2019_binary_skimage_modal_5by5.tif','w',**wsf_profile) as wsf_out:\n",
    "    wsf_out.write(result_5by5,1)"
   ]
  },
  {
   "cell_type": "markdown",
   "id": "regional-correction",
   "metadata": {},
   "source": [
    "### 7-by-7 modal filter"
   ]
  },
  {
   "cell_type": "code",
   "execution_count": 4,
   "id": "regional-setting",
   "metadata": {},
   "outputs": [],
   "source": [
    "# Run the filter with a 7x7 rectangular Structuring Element\n",
    "result_7by7 = modal(wsf,rectangle(7,7))\n"
   ]
  },
  {
   "cell_type": "code",
   "execution_count": 7,
   "id": "latin-niger",
   "metadata": {},
   "outputs": [
    {
     "data": {
      "text/plain": [
       "array([[0, 0, 0, ..., 0, 0, 0],\n",
       "       [0, 0, 0, ..., 0, 0, 0],\n",
       "       [0, 0, 0, ..., 0, 0, 0],\n",
       "       ...,\n",
       "       [0, 0, 0, ..., 0, 0, 0],\n",
       "       [0, 0, 0, ..., 0, 0, 0],\n",
       "       [0, 0, 0, ..., 0, 0, 0]], dtype=uint8)"
      ]
     },
     "execution_count": 7,
     "metadata": {},
     "output_type": "execute_result"
    }
   ],
   "source": [
    "result_7by7"
   ]
  },
  {
   "cell_type": "code",
   "execution_count": 23,
   "id": "trained-diameter",
   "metadata": {},
   "outputs": [],
   "source": [
    "# Export as polygons\n",
    "\n",
    "from rasterio.features import shapes\n",
    "mask = None\n",
    "with rasterio.Env():\\\n",
    "        results = (\n",
    "        {'properties': {'raster_val': v}, 'geometry': s}\n",
    "        for i, (s, v) \n",
    "        in enumerate(\n",
    "            shapes(result_7by7, mask=mask, transform=wsf_raw.transform)))\n",
    "    \n",
    "geoms = list(results)\n",
    "poly_7by7 = gpd.GeoDataFrame.from_features(geoms)\n",
    "poly_7by7 = poly_7by7[poly_7by7['raster_val'] != 0]\n",
    "poly_7by7 = poly_7by7.set_crs(4326)\n",
    "poly_7by7.to_file('poly_out/wsf_7by7_majfilter.gpkg',driver=\"GPKG\")"
   ]
  },
  {
   "cell_type": "code",
   "execution_count": 28,
   "id": "norman-grace",
   "metadata": {},
   "outputs": [],
   "source": [
    "poly_7by7 = poly_7by7.set_crs(4326)\n",
    "poly_7by7.to_file('poly_out/wsf_7by7_majfilter.gpkg',driver=\"GPKG\")"
   ]
  },
  {
   "cell_type": "markdown",
   "id": "cloudy-suspect",
   "metadata": {},
   "source": [
    "Export as tif"
   ]
  },
  {
   "cell_type": "code",
   "execution_count": 5,
   "id": "acquired-galaxy",
   "metadata": {},
   "outputs": [],
   "source": [
    "with rasterio.open('KP_WSF2019_binary_skimage_modal_7by7.tif','w',**wsf_profile) as wsf_out:\n",
    "    wsf_out.write(result_7by7,1)"
   ]
  }
 ],
 "metadata": {
  "kernelspec": {
   "display_name": "Python 3 (ipykernel)",
   "language": "python",
   "name": "python3"
  },
  "language_info": {
   "codemirror_mode": {
    "name": "ipython",
    "version": 3
   },
   "file_extension": ".py",
   "mimetype": "text/x-python",
   "name": "python",
   "nbconvert_exporter": "python",
   "pygments_lexer": "ipython3",
   "version": "3.8.10"
  }
 },
 "nbformat": 4,
 "nbformat_minor": 5
}
