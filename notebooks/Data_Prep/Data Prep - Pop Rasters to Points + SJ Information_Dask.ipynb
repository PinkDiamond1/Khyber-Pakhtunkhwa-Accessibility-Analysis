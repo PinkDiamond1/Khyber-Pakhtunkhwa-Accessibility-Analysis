{
 "cells": [
  {
   "cell_type": "markdown",
   "id": "opened-authorization",
   "metadata": {},
   "source": [
    "## Process a raster into a large collection of points, then process those points using Dask to clip and spatial join key information from the study's focus area"
   ]
  },
  {
   "cell_type": "code",
   "execution_count": 1,
   "id": "awful-binary",
   "metadata": {
    "tags": []
   },
   "outputs": [],
   "source": [
    "import os, sys\n",
    "import re\n",
    "import pprint\n",
    "# from pprint import pprint\n",
    "\n",
    "import numpy as np\n",
    "\n",
    "import rasterio\n",
    "from rasterio import features, transform\n",
    "from rasterio.mask import mask\n",
    "from rasterio.transform import Affine\n",
    "from rasterio.warp import calculate_default_transform, reproject, Resampling\n",
    "\n",
    "import pandas as pd\n",
    "import geopandas as gpd\n",
    "\n",
    "import shapely\n",
    "from shapely.geometry import shape, box, Polygon"
   ]
  },
  {
   "cell_type": "markdown",
   "id": "9bb1ba0e-f68a-41bd-8174-f31f07d1c794",
   "metadata": {},
   "source": [
    "### Setup"
   ]
  },
  {
   "cell_type": "markdown",
   "id": "56d56258-f2ca-4a6a-bc30-ec08e21c0415",
   "metadata": {},
   "source": [
    "Directories"
   ]
  },
  {
   "cell_type": "code",
   "execution_count": 2,
   "id": "75b18651-5a6a-4baa-af74-7f505255fc11",
   "metadata": {},
   "outputs": [],
   "source": [
    "geo_dir = r'P:\\PAK\\GEO'\n",
    "data_dir = r'../../data'\n",
    "\n",
    "rast_dir = r'rast_inputs'\n",
    "vect_in_dir = r'vect_inputs'\n",
    "vect_out_dir = r'vect_out'\n",
    "\n",
    "rds_dir = r'roads'\n",
    "dest_dir = r'destinations'\n",
    "speed_dir = r'speed'\n",
    "fric_dir = r'friction'\n",
    "acc_dir = r'access'\n",
    "tab_dir = r'tabular'"
   ]
  },
  {
   "cell_type": "markdown",
   "id": "386f4ba1-c556-4eb9-ba15-8f320c0aac09",
   "metadata": {},
   "source": [
    "Projections"
   ]
  },
  {
   "cell_type": "code",
   "execution_count": 3,
   "id": "dbd38929-02e3-45c0-821e-a2692236aa2f",
   "metadata": {},
   "outputs": [],
   "source": [
    "dest_crs = 'EPSG:32642'\n",
    "dcrs_int = int(re.findall('[0-9]+',dest_crs)[0])"
   ]
  },
  {
   "cell_type": "markdown",
   "id": "59279012-f943-4f15-aef5-a86012fb7cb4",
   "metadata": {
    "tags": []
   },
   "source": [
    "### Set up dask cluster (if this is/will be a lot points)"
   ]
  },
  {
   "cell_type": "code",
   "execution_count": 4,
   "id": "e427c133-457a-43d4-8acc-66d720100345",
   "metadata": {},
   "outputs": [],
   "source": [
    "\n",
    "import dask\n",
    "import coiled\n",
    "from dask.distributed import Client, LocalCluster, Lock\n",
    "from dask.utils import SerializableLock\n",
    "import dask.dataframe as dd\n",
    "\n",
    "from dask_control import *"
   ]
  },
  {
   "cell_type": "code",
   "execution_count": 6,
   "id": "df64a6e4-8fb8-4524-88ef-96f7c8ba15cc",
   "metadata": {},
   "outputs": [
    {
     "data": {
      "text/html": [
       "<div>\n",
       "    <div style=\"width: 24px; height: 24px; background-color: #e1e1e1; border: 3px solid #9D9D9D; border-radius: 5px; position: absolute;\"> </div>\n",
       "    <div style=\"margin-left: 48px;\">\n",
       "        <h3 style=\"margin-bottom: 0px;\">Client</h3>\n",
       "        <p style=\"color: #9D9D9D; margin-bottom: 0px;\">Client-88d1c9bb-3152-11ec-b8f8-4e53ac7c6080</p>\n",
       "        <table style=\"width: 100%; text-align: left;\">\n",
       "\n",
       "        <tr>\n",
       "        \n",
       "            <td style=\"text-align: left;\"><strong>Connection method:</strong> Direct</td>\n",
       "            <td style=\"text-align: left;\"></td>\n",
       "        \n",
       "        </tr>\n",
       "\n",
       "        \n",
       "            <tr>\n",
       "                <td style=\"text-align: left;\">\n",
       "                    <strong>Dashboard: </strong> <a href=\"http://127.0.0.1:8787/status\" target=\"_blank\">http://127.0.0.1:8787/status</a>\n",
       "                </td>\n",
       "                <td style=\"text-align: left;\"></td>\n",
       "            </tr>\n",
       "        \n",
       "\n",
       "        </table>\n",
       "\n",
       "        \n",
       "            <details>\n",
       "            <summary style=\"margin-bottom: 20px;\"><h3 style=\"display: inline;\">Scheduler Info</h3></summary>\n",
       "            <div style=\"\">\n",
       "    <div>\n",
       "        <div style=\"width: 24px; height: 24px; background-color: #FFF7E5; border: 3px solid #FF6132; border-radius: 5px; position: absolute;\"> </div>\n",
       "        <div style=\"margin-left: 48px;\">\n",
       "            <h3 style=\"margin-bottom: 0px;\">Scheduler</h3>\n",
       "            <p style=\"color: #9D9D9D; margin-bottom: 0px;\">Scheduler-ae4fc9ea-f0c6-49e2-a20f-49ed07e1df47</p>\n",
       "            <table style=\"width: 100%; text-align: left;\">\n",
       "                <tr>\n",
       "                    <td style=\"text-align: left;\">\n",
       "                        <strong>Comm:</strong> tcp://127.0.0.1:8786\n",
       "                    </td>\n",
       "                    <td style=\"text-align: left;\">\n",
       "                        <strong>Workers:</strong> 2\n",
       "                    </td>\n",
       "                </tr>\n",
       "                <tr>\n",
       "                    <td style=\"text-align: left;\">\n",
       "                        <strong>Dashboard:</strong> <a href=\"http://127.0.0.1:8787/status\" target=\"_blank\">http://127.0.0.1:8787/status</a>\n",
       "                    </td>\n",
       "                    <td style=\"text-align: left;\">\n",
       "                        <strong>Total threads:</strong> 8\n",
       "                    </td>\n",
       "                </tr>\n",
       "                <tr>\n",
       "                    <td style=\"text-align: left;\">\n",
       "                        <strong>Started:</strong> 4 minutes ago\n",
       "                    </td>\n",
       "                    <td style=\"text-align: left;\">\n",
       "                        <strong>Total memory:</strong> 63.98 GiB\n",
       "                    </td>\n",
       "                </tr>\n",
       "            </table>\n",
       "        </div>\n",
       "    </div>\n",
       "\n",
       "    <details style=\"margin-left: 48px;\">\n",
       "        <summary style=\"margin-bottom: 20px;\">\n",
       "            <h3 style=\"display: inline;\">Workers</h3>\n",
       "        </summary>\n",
       "\n",
       "        \n",
       "        <div style=\"margin-bottom: 20px;\">\n",
       "            <div style=\"width: 24px; height: 24px; background-color: #DBF5FF; border: 3px solid #4CC9FF; border-radius: 5px; position: absolute;\"> </div>\n",
       "            <div style=\"margin-left: 48px;\">\n",
       "            <details>\n",
       "                <summary>\n",
       "                    <h4 style=\"margin-bottom: 0px; display: inline;\">Worker: 0</h4>\n",
       "                </summary>\n",
       "                <table style=\"width: 100%; text-align: left;\">\n",
       "                    <tr>\n",
       "                        <td style=\"text-align: left;\">\n",
       "                            <strong>Comm: </strong> tcp://10.175.66.81:63232\n",
       "                        </td>\n",
       "                        <td style=\"text-align: left;\">\n",
       "                            <strong>Total threads: </strong> 4\n",
       "                        </td>\n",
       "                    </tr>\n",
       "                    <tr>\n",
       "                        <td style=\"text-align: left;\">\n",
       "                            <strong>Dashboard: </strong> <a href=\"http://10.175.66.81:63233/status\" target=\"_blank\">http://10.175.66.81:63233/status</a>\n",
       "                        </td>\n",
       "                        <td style=\"text-align: left;\">\n",
       "                            <strong>Memory: </strong> 31.99 GiB\n",
       "                        </td>\n",
       "                    </tr>\n",
       "                    <tr>\n",
       "                        <td style=\"text-align: left;\">\n",
       "                            <strong>Nanny: </strong> tcp://127.0.0.1:61983\n",
       "                        </td>\n",
       "                        <td style=\"text-align: left;\"></td>\n",
       "                    </tr>\n",
       "                    <tr>\n",
       "                        <td colspan=\"2\" style=\"text-align: left;\">\n",
       "                            <strong>Local directory: </strong> P:\\PAK\\Code\\kpgit_robert\\notebooks\\RB\\dask-worker-space\\worker-sny__hm8\n",
       "                        </td>\n",
       "                    </tr>\n",
       "\n",
       "                    \n",
       "\n",
       "                    \n",
       "                    <tr>\n",
       "                        <td style=\"text-align: left;\">\n",
       "                            <strong>Tasks executing: </strong> 0\n",
       "                        </td>\n",
       "                        <td style=\"text-align: left;\">\n",
       "                            <strong>Tasks in memory: </strong> 0\n",
       "                        </td>\n",
       "                    </tr>\n",
       "                    <tr>\n",
       "                        <td style=\"text-align: left;\">\n",
       "                            <strong>Tasks ready: </strong> 0\n",
       "                        </td>\n",
       "                        <td style=\"text-align: left;\">\n",
       "                            <strong>Tasks in flight: </strong>0\n",
       "                        </td>\n",
       "                    </tr>\n",
       "                    <tr>\n",
       "                        <td style=\"text-align: left;\">\n",
       "                            <strong>CPU usage:</strong> 0.0%\n",
       "                        </td>\n",
       "                        <td style=\"text-align: left;\">\n",
       "                            <strong>Last seen: </strong> Just now\n",
       "                        </td>\n",
       "                    </tr>\n",
       "                    <tr>\n",
       "                        <td style=\"text-align: left;\">\n",
       "                            <strong>Memory usage: </strong> 42.56 MiB\n",
       "                        </td>\n",
       "                        <td style=\"text-align: left;\">\n",
       "                            <strong>Spilled bytes: </strong> 0 B\n",
       "                        </td>\n",
       "                    </tr>\n",
       "                    <tr>\n",
       "                        <td style=\"text-align: left;\">\n",
       "                            <strong>Read bytes: </strong> 0.0 B\n",
       "                        </td>\n",
       "                        <td style=\"text-align: left;\">\n",
       "                            <strong>Write bytes: </strong> 59.70 kiB\n",
       "                        </td>\n",
       "                    </tr>\n",
       "                    \n",
       "\n",
       "                </table>\n",
       "            </details>\n",
       "            </div>\n",
       "        </div>\n",
       "        \n",
       "        <div style=\"margin-bottom: 20px;\">\n",
       "            <div style=\"width: 24px; height: 24px; background-color: #DBF5FF; border: 3px solid #4CC9FF; border-radius: 5px; position: absolute;\"> </div>\n",
       "            <div style=\"margin-left: 48px;\">\n",
       "            <details>\n",
       "                <summary>\n",
       "                    <h4 style=\"margin-bottom: 0px; display: inline;\">Worker: 1</h4>\n",
       "                </summary>\n",
       "                <table style=\"width: 100%; text-align: left;\">\n",
       "                    <tr>\n",
       "                        <td style=\"text-align: left;\">\n",
       "                            <strong>Comm: </strong> tcp://10.175.66.81:63229\n",
       "                        </td>\n",
       "                        <td style=\"text-align: left;\">\n",
       "                            <strong>Total threads: </strong> 4\n",
       "                        </td>\n",
       "                    </tr>\n",
       "                    <tr>\n",
       "                        <td style=\"text-align: left;\">\n",
       "                            <strong>Dashboard: </strong> <a href=\"http://10.175.66.81:63230/status\" target=\"_blank\">http://10.175.66.81:63230/status</a>\n",
       "                        </td>\n",
       "                        <td style=\"text-align: left;\">\n",
       "                            <strong>Memory: </strong> 31.99 GiB\n",
       "                        </td>\n",
       "                    </tr>\n",
       "                    <tr>\n",
       "                        <td style=\"text-align: left;\">\n",
       "                            <strong>Nanny: </strong> tcp://127.0.0.1:61984\n",
       "                        </td>\n",
       "                        <td style=\"text-align: left;\"></td>\n",
       "                    </tr>\n",
       "                    <tr>\n",
       "                        <td colspan=\"2\" style=\"text-align: left;\">\n",
       "                            <strong>Local directory: </strong> P:\\PAK\\Code\\kpgit_robert\\notebooks\\RB\\dask-worker-space\\worker-ep2od3c1\n",
       "                        </td>\n",
       "                    </tr>\n",
       "\n",
       "                    \n",
       "\n",
       "                    \n",
       "                    <tr>\n",
       "                        <td style=\"text-align: left;\">\n",
       "                            <strong>Tasks executing: </strong> 0\n",
       "                        </td>\n",
       "                        <td style=\"text-align: left;\">\n",
       "                            <strong>Tasks in memory: </strong> 0\n",
       "                        </td>\n",
       "                    </tr>\n",
       "                    <tr>\n",
       "                        <td style=\"text-align: left;\">\n",
       "                            <strong>Tasks ready: </strong> 0\n",
       "                        </td>\n",
       "                        <td style=\"text-align: left;\">\n",
       "                            <strong>Tasks in flight: </strong>0\n",
       "                        </td>\n",
       "                    </tr>\n",
       "                    <tr>\n",
       "                        <td style=\"text-align: left;\">\n",
       "                            <strong>CPU usage:</strong> 0.0%\n",
       "                        </td>\n",
       "                        <td style=\"text-align: left;\">\n",
       "                            <strong>Last seen: </strong> Just now\n",
       "                        </td>\n",
       "                    </tr>\n",
       "                    <tr>\n",
       "                        <td style=\"text-align: left;\">\n",
       "                            <strong>Memory usage: </strong> 42.52 MiB\n",
       "                        </td>\n",
       "                        <td style=\"text-align: left;\">\n",
       "                            <strong>Spilled bytes: </strong> 0 B\n",
       "                        </td>\n",
       "                    </tr>\n",
       "                    <tr>\n",
       "                        <td style=\"text-align: left;\">\n",
       "                            <strong>Read bytes: </strong> 0.95 MiB\n",
       "                        </td>\n",
       "                        <td style=\"text-align: left;\">\n",
       "                            <strong>Write bytes: </strong> 1.02 MiB\n",
       "                        </td>\n",
       "                    </tr>\n",
       "                    \n",
       "\n",
       "                </table>\n",
       "            </details>\n",
       "            </div>\n",
       "        </div>\n",
       "        \n",
       "\n",
       "    </details>\n",
       "</div>\n",
       "            </details>\n",
       "        \n",
       "\n",
       "    </div>\n",
       "</div>"
      ],
      "text/plain": [
       "<Client: 'tcp://127.0.0.1:8786' processes=0 threads=0, memory=0 B>"
      ]
     },
     "execution_count": 6,
     "metadata": {},
     "output_type": "execute_result"
    }
   ],
   "source": [
    "client=get_dask_client(cluster_type='local',n_workers=4,processes=True,threads_per_worker=4)\n",
    "client"
   ]
  },
  {
   "cell_type": "markdown",
   "id": "comic-mozambique",
   "metadata": {
    "tags": []
   },
   "source": [
    "### Load and process raster to points"
   ]
  },
  {
   "cell_type": "markdown",
   "id": "strange-termination",
   "metadata": {},
   "source": [
    "Load in the base raster we are using as a template so we can match up exactly to its grid and cell size"
   ]
  },
  {
   "cell_type": "code",
   "execution_count": null,
   "id": "aboriginal-fever",
   "metadata": {},
   "outputs": [],
   "source": [
    "rast_pth = os.path.join(geo_dir,r'Population/Settlements/KPK_WSF2019.tif')"
   ]
  },
  {
   "cell_type": "code",
   "execution_count": null,
   "id": "covered-costs",
   "metadata": {},
   "outputs": [],
   "source": [
    "with rasterio.open(rast_pth, 'r') as src1:\n",
    "    \n",
    "    rast = src1.read(1).astype(np.float32)\n",
    "    \n",
    "    # populate geoms list\n",
    "\n",
    "    results = (\n",
    "        {'properties': {'VALUE': v}, 'geometry': s}\n",
    "        for i, (s, v) \n",
    "        in enumerate(\n",
    "            rasterio.features.shapes(rast, transform=src1.transform)))\n",
    "\n",
    "    geoms = list(results)\n",
    "\n",
    "    # convert to GDF, clean up, and dissolve\n",
    "\n",
    "    poly = gpd.GeoDataFrame.from_features(geoms)\n",
    "    pts = poly.copy()\n",
    "    pts.geometry = pts.geometry.centroid\n",
    "    "
   ]
  },
  {
   "cell_type": "code",
   "execution_count": null,
   "id": "01dabd1f-37ff-4fa6-9205-276a74d5d43b",
   "metadata": {},
   "outputs": [],
   "source": [
    "pts = pts.set_crs(4326)\n",
    "pts['lon_4326'] = pts.geometry.x\n",
    "pts['lat_4326'] = pts.geometry.y"
   ]
  },
  {
   "cell_type": "code",
   "execution_count": null,
   "id": "33d05868-b56b-44ae-93a3-c875f9997506",
   "metadata": {},
   "outputs": [],
   "source": [
    "pts = pts.to_crs(32642)\n",
    "pts['lon_32642'] = pts.geometry.x\n",
    "pts['lat_32642'] = pts.geometry.y"
   ]
  },
  {
   "cell_type": "code",
   "execution_count": null,
   "id": "9c36e5de-6d6e-4d47-b99c-8d15036bb5a5",
   "metadata": {},
   "outputs": [],
   "source": [
    "pts.dtypes"
   ]
  },
  {
   "cell_type": "code",
   "execution_count": null,
   "id": "e0edca03-5903-4a8a-b439-b8beb3014465",
   "metadata": {},
   "outputs": [],
   "source": [
    "len(pts)"
   ]
  },
  {
   "cell_type": "code",
   "execution_count": null,
   "id": "ba2b8b1e-9cc9-476b-8244-b158372e532f",
   "metadata": {},
   "outputs": [],
   "source": [
    "import dask.dataframe as dd\n",
    "# pts_dd = dd.from_pandas(pts,chunksize=100000)\n",
    "# pts_dd.to_csv(os.path.join(geo_dir,'Population/Settlements/KPK_WSF2019_pts.csv'), header=True, index=True, single_file=True)"
   ]
  },
  {
   "cell_type": "markdown",
   "id": "f139a0f4-baa3-4589-8683-fc1b7ca8a3b0",
   "metadata": {},
   "source": [
    "#### (Re-)Load in points data"
   ]
  },
  {
   "cell_type": "code",
   "execution_count": 7,
   "id": "fbe6ee0b-a8a6-4d87-b023-663e23df7bf3",
   "metadata": {},
   "outputs": [],
   "source": [
    "# pts_loc = r'Population/HRSL/kp_general_v15_pts.csv'\n",
    "pts_loc = r'Population/Settlements/KPK_WSF2019_pts.csv'"
   ]
  },
  {
   "cell_type": "code",
   "execution_count": 8,
   "id": "0cc66abc-7337-4711-adbc-97639137d34d",
   "metadata": {},
   "outputs": [],
   "source": [
    "# # Load in points if needing to redo for some reason\n",
    "pts = dd.read_csv(os.path.join(geo_dir,pts_loc),\n",
    "                     na_values = ' ',\n",
    "                     blocksize='100mb'\n",
    "                )\n",
    "\n",
    "# pts = pts_dd"
   ]
  },
  {
   "cell_type": "code",
   "execution_count": null,
   "id": "4701ee09-1e2e-43e9-946c-248e42eadf2b",
   "metadata": {},
   "outputs": [],
   "source": [
    "# pts = gpd.GeoDataFrame(pts, geometry = gpd.points_from_xy(x=pts.lon_4326,y=pts.lat_4326)).set_crs(\"EPSG:4326\")"
   ]
  },
  {
   "cell_type": "markdown",
   "id": "c863f069-33d8-4b03-877a-b4819a52701f",
   "metadata": {
    "tags": []
   },
   "source": [
    "#### Clip to desired extent"
   ]
  },
  {
   "cell_type": "markdown",
   "id": "c91ca46a-a504-42d7-84e4-282f85abc24b",
   "metadata": {},
   "source": [
    "Load in KP as clipping object"
   ]
  },
  {
   "cell_type": "code",
   "execution_count": null,
   "id": "607df33d-ca88-473b-ab8e-4d904103141e",
   "metadata": {
    "tags": []
   },
   "outputs": [],
   "source": [
    "kp = gpd.read_file(os.path.join(geo_dir,'Boundaries/OCHA/pak_admbnda_adm1_ocha_pco_gaul_20181218.shp'))\n",
    "kp = kp[kp['ADM1_EN'] == 'Khyber Pakhtunkhwa']\n",
    "kp = kp.to_crs(dest_crs)\n",
    "\n",
    "# Buffer the polygon by 20km so we take in nearby markets and roads that may be used\n",
    "# kp.geometry = kp.buffer(20000)"
   ]
  },
  {
   "cell_type": "code",
   "execution_count": null,
   "id": "ad964baf-b2a4-45db-b79c-204d5aa03d65",
   "metadata": {},
   "outputs": [],
   "source": [
    "kp = kp.to_crs(4326)"
   ]
  },
  {
   "cell_type": "code",
   "execution_count": null,
   "id": "92fc5618-4c94-4302-8227-706362e1ed65",
   "metadata": {},
   "outputs": [],
   "source": [
    "# kp_pts = gpd.clip(pts,kp)"
   ]
  },
  {
   "cell_type": "code",
   "execution_count": null,
   "id": "df3fc761-ce83-45aa-9abf-032447003d4e",
   "metadata": {},
   "outputs": [],
   "source": [
    "# len(gpd.points_from_xy(pts.lon_4326, y = pts.lat_4326))"
   ]
  },
  {
   "cell_type": "code",
   "execution_count": null,
   "id": "097106be-349f-420d-8342-83123e7a7e7b",
   "metadata": {},
   "outputs": [],
   "source": [
    "# pts = gpd.GeoDataFrame(\n",
    "#     pts, geometry = gpd.points_from_xy(pts.lon_4326, pts.lat_4326, crs = \"EPSG:4326\"))"
   ]
  },
  {
   "cell_type": "code",
   "execution_count": null,
   "id": "65998284-2ac7-456e-895a-066c71dc3397",
   "metadata": {},
   "outputs": [],
   "source": [
    "def clip_pts(df, polys):\n",
    "    \n",
    "    # ensure that broadcast polys are compiled before running the clip\n",
    "    if isinstance(polys, gpd.GeoDataFrame) == False:\n",
    "        polys = polys.result()\n",
    "    \n",
    "    # convert to gdf\n",
    "    gdf = gpd.GeoDataFrame(\n",
    "        df, \n",
    "        geometry=gpd.points_from_xy(df.lon_4326, df.lat_4326)\n",
    "    ).set_crs(\"EPSG:4326\")\n",
    "    \n",
    "    # Clip by extent\n",
    "    gdf = gpd.clip(gdf, polys)\n",
    "    \n",
    "    # Drop the geometry column as it confuses Dask (which doesn't understand geometry metadata) and isn't needed\n",
    "    df = pd.DataFrame(gdf.drop('geometry', axis=1))\n",
    "    \n",
    "    return df\n",
    "    "
   ]
  },
  {
   "cell_type": "code",
   "execution_count": null,
   "id": "24324b61-0ab4-468d-80e9-455929dcf326",
   "metadata": {
    "tags": []
   },
   "outputs": [],
   "source": [
    "# Broadcast adm3\n",
    "kp_dist = client.scatter(kp, broadcast=True)"
   ]
  },
  {
   "cell_type": "code",
   "execution_count": null,
   "id": "ddde7238-e449-41a3-baab-4342067c5ed6",
   "metadata": {},
   "outputs": [],
   "source": [
    "# Distributed clip\n",
    "kp_pts = pts.map_partitions(clip_pts, kp_dist)"
   ]
  },
  {
   "cell_type": "markdown",
   "id": "cd9d0fcf-ab64-4263-a77f-0346478a550c",
   "metadata": {
    "tags": []
   },
   "source": [
    "#### Spatial join information from a large collection of polygons to a large collection of points"
   ]
  },
  {
   "cell_type": "code",
   "execution_count": 23,
   "id": "0865fbf1-d1e3-4447-9333-bdf63f0e0a84",
   "metadata": {},
   "outputs": [
    {
     "data": {
      "text/html": [
       "<div>\n",
       "<style scoped>\n",
       "    .dataframe tbody tr th:only-of-type {\n",
       "        vertical-align: middle;\n",
       "    }\n",
       "\n",
       "    .dataframe tbody tr th {\n",
       "        vertical-align: top;\n",
       "    }\n",
       "\n",
       "    .dataframe thead th {\n",
       "        text-align: right;\n",
       "    }\n",
       "</style>\n",
       "<table border=\"1\" class=\"dataframe\">\n",
       "  <thead>\n",
       "    <tr style=\"text-align: right;\">\n",
       "      <th></th>\n",
       "      <th>FID_Settle</th>\n",
       "      <th>RC</th>\n",
       "      <th>UFI</th>\n",
       "      <th>UNI</th>\n",
       "      <th>LAT</th>\n",
       "      <th>LONG</th>\n",
       "      <th>DMS_LAT</th>\n",
       "      <th>DMS_LONG</th>\n",
       "      <th>MGRS</th>\n",
       "      <th>JOG</th>\n",
       "      <th>...</th>\n",
       "      <th>PROVINCE</th>\n",
       "      <th>PROVINCE_C</th>\n",
       "      <th>DISTRICT</th>\n",
       "      <th>DISTRICT_C</th>\n",
       "      <th>TEHSIL</th>\n",
       "      <th>TEHSIL_C</th>\n",
       "      <th>Remarks</th>\n",
       "      <th>hfs</th>\n",
       "      <th>sum</th>\n",
       "      <th>geometry</th>\n",
       "    </tr>\n",
       "  </thead>\n",
       "  <tbody>\n",
       "    <tr>\n",
       "      <th>0</th>\n",
       "      <td>105912</td>\n",
       "      <td>5</td>\n",
       "      <td>6048637.0</td>\n",
       "      <td>15681640.0</td>\n",
       "      <td>31.304456</td>\n",
       "      <td>70.340982</td>\n",
       "      <td>31:18:16N</td>\n",
       "      <td>70:20:28E</td>\n",
       "      <td>42RXV2761564120</td>\n",
       "      <td>NH42-03</td>\n",
       "      <td>...</td>\n",
       "      <td>Khyber Pakhtunkhwa</td>\n",
       "      <td>4.0</td>\n",
       "      <td>FR Dera Ismail Khan</td>\n",
       "      <td>409</td>\n",
       "      <td>FR Dera Ismail Khan</td>\n",
       "      <td>40901.0</td>\n",
       "      <td>Pcode change</td>\n",
       "      <td>0</td>\n",
       "      <td>NaN</td>\n",
       "      <td>POLYGON ((627940.770 3464116.408, 627939.807 3...</td>\n",
       "    </tr>\n",
       "  </tbody>\n",
       "</table>\n",
       "<p>1 rows × 48 columns</p>\n",
       "</div>"
      ],
      "text/plain": [
       "   FID_Settle RC        UFI         UNI        LAT       LONG    DMS_LAT  \\\n",
       "0      105912  5  6048637.0  15681640.0  31.304456  70.340982  31:18:16N   \n",
       "\n",
       "    DMS_LONG             MGRS      JOG  ...            PROVINCE PROVINCE_C  \\\n",
       "0  70:20:28E  42RXV2761564120  NH42-03  ...  Khyber Pakhtunkhwa        4.0   \n",
       "\n",
       "              DISTRICT DISTRICT_C               TEHSIL TEHSIL_C       Remarks  \\\n",
       "0  FR Dera Ismail Khan        409  FR Dera Ismail Khan  40901.0  Pcode change   \n",
       "\n",
       "  hfs sum                                           geometry  \n",
       "0   0 NaN  POLYGON ((627940.770 3464116.408, 627939.807 3...  \n",
       "\n",
       "[1 rows x 48 columns]"
      ]
     },
     "execution_count": 23,
     "metadata": {},
     "output_type": "execute_result"
    }
   ],
   "source": [
    "settle_buff = gpd.read_file(os.path.join(data_dir,vect_in_dir,\"KP_Settlements_NGA_2017_200mBuff.gpkg\"),driver=\"GPKG\")\n",
    "settle_buff.head(1)"
   ]
  },
  {
   "cell_type": "code",
   "execution_count": 29,
   "id": "8c1eb072-574d-40b8-aa1a-6798dcb48396",
   "metadata": {},
   "outputs": [],
   "source": [
    "settle_buff = settle_buff.to_crs(4326)"
   ]
  },
  {
   "cell_type": "code",
   "execution_count": 12,
   "id": "35b62ec5-1ec9-4712-bcc9-cb54bb86e027",
   "metadata": {},
   "outputs": [],
   "source": [
    "# adm3 = gpd.read_file(os.path.join(geo_dir,'Boundaries/KP_Analysis/KP_Analysis_All_Tehsils.gpkg'),driver=\"GPKG\")\n",
    "# adm3 = adm3[['geometry','ADM1_EN','ADM2_EN','ADM3_EN','ADM1_PCODE','ADM2_PCODE','ADM3_PCODE']]\n",
    "# adm3 = adm3.rename({'ADM1_PCODE':'Adm1_Code','ADM2_PCODE':'Adm2_Code','ADM3_PCODE':'Adm3_Code'},axis=1)\n",
    "# adm3 = adm3.to_crs(4326)\n",
    "# adm3.head()"
   ]
  },
  {
   "cell_type": "code",
   "execution_count": 30,
   "id": "6e5be319-5464-4b17-a80f-cb04e0677c29",
   "metadata": {},
   "outputs": [],
   "source": [
    "# Broadcast polygons\n",
    "# adm3_dist = client.scatter(adm3, broadcast=True)\n",
    "settle_dist = client.scatter(settle_buff[['geometry','FID_Settle']],broadcast=True)"
   ]
  },
  {
   "cell_type": "code",
   "execution_count": 31,
   "id": "b692f7b9-6d43-49a3-bb0d-e3850cb5bbe0",
   "metadata": {},
   "outputs": [],
   "source": [
    "def get_sj(df, polys):\n",
    "    # Join using 4326\n",
    "    # Convert to GDF\n",
    "    if isinstance(polys, gpd.GeoDataFrame) == False:\n",
    "        polys = polys.result()\n",
    "    gdf = gpd.GeoDataFrame(\n",
    "        df, \n",
    "        geometry=gpd.points_from_xy(df.lon_4326, df.lat_4326)\n",
    "    ).set_crs(\"EPSG:4326\")\n",
    "    \n",
    "    # Join Admin 3\n",
    "    gdf = gpd.sjoin(gdf, polys, how='left', op='within')\n",
    "    \n",
    "    df = pd.DataFrame(gdf.drop('geometry', axis=1))\n",
    "    \n",
    "    \n",
    "    return df\n",
    "    "
   ]
  },
  {
   "cell_type": "code",
   "execution_count": 32,
   "id": "0ae279b3-d231-427c-8bab-769bbd8e3deb",
   "metadata": {},
   "outputs": [],
   "source": [
    "# kp_pts_adm = kp_pts.map_partitions(get_sj, adm3_dist)\n",
    "# len(kp_pts_adm.Adm3_Code.unique())"
   ]
  },
  {
   "cell_type": "code",
   "execution_count": 33,
   "id": "b7393b04-eef9-4882-b3ac-402ec1358323",
   "metadata": {},
   "outputs": [],
   "source": [
    "# Distributed spatial join\n",
    "settle_pts = pts.map_partitions(get_sj, settle_dist)"
   ]
  },
  {
   "cell_type": "code",
   "execution_count": 34,
   "id": "cfdcf556-ee23-4056-8869-05e0b9cf88ad",
   "metadata": {},
   "outputs": [],
   "source": [
    "settle_pts['const'] = 1\n",
    "\n",
    "# group by ID\n",
    "settle_wsf_count = settle_pts.groupby(['FID_Settle'])['const'].sum()"
   ]
  },
  {
   "cell_type": "markdown",
   "id": "db59e2d5-1b1f-4845-b192-ae2d5208683b",
   "metadata": {
    "tags": []
   },
   "source": [
    "#### Export"
   ]
  },
  {
   "cell_type": "markdown",
   "id": "f7c2424b-6edb-4f80-ac10-d670e5f3484f",
   "metadata": {},
   "source": [
    "Export dask outputs"
   ]
  },
  {
   "cell_type": "code",
   "execution_count": null,
   "id": "473cbfa4-9e4a-4219-be22-6cd0d9ada5c7",
   "metadata": {},
   "outputs": [],
   "source": [
    "# pts.drop('geometry',axis=1).to_csv(os.path.join(geo_dir,'Population/HRSL/pak_general_v15_pts.csv'))\n",
    "kp_pts_adm.to_csv(os.path.join(geo_dir,'Population/HRSL/kp_general_v15_pts.csv'), header=True, index=True, single_file=True)"
   ]
  },
  {
   "cell_type": "markdown",
   "id": "007d660c-27e2-4cf0-8976-e08cfb2d2129",
   "metadata": {},
   "source": [
    "Export normal routine spatial outputs"
   ]
  },
  {
   "cell_type": "code",
   "execution_count": null,
   "id": "e4f3e13b-a11a-48bb-94d1-626643d6871c",
   "metadata": {},
   "outputs": [],
   "source": [
    "pts.to_crs(4326).to_file(os.path.join(geo_dir,'Population/HRSL/pak_general_v15_pts.gpkg'),layer=\"pak_general_v15_4326\",driver='GPKG')\n",
    "pts.to_crs(dcrs_int).to_file(os.path.join(geo_dir,'Population/HRSL/pak_general_v15_pts.gpkg'),layer=f\"pak_general_v15_{dcrs_int}\",driver='GPKG')"
   ]
  },
  {
   "cell_type": "code",
   "execution_count": null,
   "id": "c31dc9e6-83c3-4221-ab7b-7b79d06ae296",
   "metadata": {},
   "outputs": [],
   "source": [
    "kp_pts.to_crs(4326).to_file(os.path.join(geo_dir,'Population/HRSL/kp_hrsl_v15_pts.gpkg'),layer=\"kp_general_v15_4326\",driver='GPKG')\n",
    "kp_pts.to_crs(dcrs_int).to_file(os.path.join(geo_dir,'Population/HRSL/kp_hrsl_v15_pts.gpkg'),layer=f\"kp_general_v15_{dcrs_int}\",driver='GPKG')"
   ]
  },
  {
   "cell_type": "markdown",
   "id": "c853752d-dd28-4c28-8e0c-734c17539b9d",
   "metadata": {},
   "source": [
    "Export any custom object created by the SJ"
   ]
  },
  {
   "cell_type": "code",
   "execution_count": 39,
   "id": "614d7d8f-540c-410f-bddc-e4dbf141a62f",
   "metadata": {},
   "outputs": [
    {
     "data": {
      "text/plain": [
       "['P:/PAK/Code/kpgit_robert/data/vect_out/settle_wsf_count.csv']"
      ]
     },
     "execution_count": 39,
     "metadata": {},
     "output_type": "execute_result"
    }
   ],
   "source": [
    "settle_wsf_count.to_csv(os.path.join(data_dir,vect_out_dir,r'settle_wsf_count.csv'),header=True,index=True,single_file=True)"
   ]
  },
  {
   "cell_type": "code",
   "execution_count": null,
   "id": "86870f6c-75bc-476f-be2b-74c54d2e76ef",
   "metadata": {},
   "outputs": [],
   "source": []
  }
 ],
 "metadata": {
  "kernelspec": {
   "display_name": "Python 3 (ipykernel)",
   "language": "python",
   "name": "python3"
  },
  "language_info": {
   "codemirror_mode": {
    "name": "ipython",
    "version": 3
   },
   "file_extension": ".py",
   "mimetype": "text/x-python",
   "name": "python",
   "nbconvert_exporter": "python",
   "pygments_lexer": "ipython3",
   "version": "3.8.10"
  }
 },
 "nbformat": 4,
 "nbformat_minor": 5
}
