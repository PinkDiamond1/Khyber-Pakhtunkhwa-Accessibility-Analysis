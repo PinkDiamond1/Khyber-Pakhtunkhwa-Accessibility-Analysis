{
 "cells": [
  {
   "cell_type": "markdown",
   "id": "sporting-violin",
   "metadata": {},
   "source": [
    "# Data Prep - Destinations and Districts\n",
    "Organizing destinations for the Pakistan spatial accessibility work and cleaning up district shapefiles"
   ]
  },
  {
   "cell_type": "code",
   "execution_count": 1,
   "id": "faced-fourth",
   "metadata": {},
   "outputs": [
    {
     "name": "stderr",
     "output_type": "stream",
     "text": [
      "/Users/robert/.pyenv/versions/geo/lib/python3.9/site-packages/geopandas/_compat.py:106: UserWarning: The Shapely GEOS version (3.8.0-CAPI-1.13.1 ) is incompatible with the GEOS version PyGEOS was compiled with (3.9.0-CAPI-1.16.2). Conversions between both will be slow.\n",
      "  warnings.warn(\n"
     ]
    }
   ],
   "source": [
    "import os, sys, time\n",
    "\n",
    "import pandas as pd\n",
    "import geopandas as gpd\n",
    "import numpy as np\n",
    "import rasterio\n",
    "\n",
    "import shapely\n",
    "from shapely.geometry import Point"
   ]
  },
  {
   "cell_type": "markdown",
   "id": "shaped-thing",
   "metadata": {},
   "source": [
    "### Setup"
   ]
  },
  {
   "cell_type": "code",
   "execution_count": 2,
   "id": "satisfactory-flashing",
   "metadata": {},
   "outputs": [],
   "source": [
    "geo_pth = r\"/Users/robert/Documents/Jobs/WB/Pakistan/Data\"\n",
    "pop_pth = r\"/Users/robert/Documents/Jobs/WB/Pakistan/Data/Population\"\n",
    "data_pth = r'../../data/vect_out'"
   ]
  },
  {
   "cell_type": "code",
   "execution_count": 3,
   "id": "demanding-minneapolis",
   "metadata": {},
   "outputs": [],
   "source": [
    "health = 'Health/Pakistan_Health_Facilities.shp'\n",
    "educ = 'Education/KP_Schools_Merge_Final.gpkg'\n",
    "educ_fata = 'Education/FATA_Schools.gpkg'\n",
    "mkts = 'Markets/210817_markets.csv'"
   ]
  },
  {
   "cell_type": "code",
   "execution_count": 4,
   "id": "educated-grain",
   "metadata": {},
   "outputs": [
    {
     "name": "stderr",
     "output_type": "stream",
     "text": [
      "/Users/robert/.pyenv/versions/geo/lib/python3.9/site-packages/geopandas/geodataframe.py:577: RuntimeWarning: Sequential read of iterator was interrupted. Resetting iterator. This can negatively impact the performance.\n",
      "  for feature in features_lst:\n"
     ]
    }
   ],
   "source": [
    "health = gpd.read_file(os.path.join(geo_pth,health))\n",
    "educ = gpd.read_file(os.path.join(geo_pth,educ),driver=\"GPKG\")\n",
    "educ_fata = gpd.read_file(os.path.join(geo_pth,educ_fata),driver=\"GPKG\")\n",
    "mkts = gpd.GeoDataFrame(pd.read_csv(os.path.join(geo_pth,mkts)))"
   ]
  },
  {
   "cell_type": "code",
   "execution_count": 5,
   "id": "architectural-reputation",
   "metadata": {},
   "outputs": [],
   "source": [
    "dest_crs = 32642"
   ]
  },
  {
   "cell_type": "markdown",
   "id": "alone-variation",
   "metadata": {},
   "source": [
    "Load in OCHA admin data"
   ]
  },
  {
   "cell_type": "code",
   "execution_count": 6,
   "id": "velvet-converter",
   "metadata": {},
   "outputs": [],
   "source": [
    "adm3 = gpd.read_file(os.path.join(geo_pth,r'Boundaries/OCHA/pak_admbnda_adm3_ocha_pco_gaul_20181218.shp'))"
   ]
  },
  {
   "cell_type": "markdown",
   "id": "compatible-essay",
   "metadata": {
    "tags": []
   },
   "source": [
    "## Education"
   ]
  },
  {
   "cell_type": "markdown",
   "id": "worst-relationship",
   "metadata": {},
   "source": [
    "Cleanup"
   ]
  },
  {
   "cell_type": "code",
   "execution_count": 7,
   "id": "grateful-trademark",
   "metadata": {},
   "outputs": [],
   "source": [
    "# align column names\n",
    "educ.rename({'SchoolLeve' : 'School_Level','SchoolGend':'Gender'},axis=1,inplace=True)\n",
    "educ_fata.rename({'Level' : 'FATA_Level','CmpID':'FATA_SCode','Institutio':'Institution_Code','Institut_1':'Name'},axis=1,inplace=True)"
   ]
  },
  {
   "cell_type": "code",
   "execution_count": 8,
   "id": "gothic-theta",
   "metadata": {},
   "outputs": [
    {
     "data": {
      "text/plain": [
       "array(['Boys', 'Girls'], dtype=object)"
      ]
     },
     "execution_count": 8,
     "metadata": {},
     "output_type": "execute_result"
    }
   ],
   "source": [
    "educ.Gender.unique()"
   ]
  },
  {
   "cell_type": "code",
   "execution_count": 9,
   "id": "spatial-northeast",
   "metadata": {},
   "outputs": [
    {
     "data": {
      "text/plain": [
       "array(['Primary', 'High', 'Middle', 'Higher Secondary'], dtype=object)"
      ]
     },
     "execution_count": 9,
     "metadata": {},
     "output_type": "execute_result"
    }
   ],
   "source": [
    "educ.School_Level.unique()"
   ]
  },
  {
   "cell_type": "code",
   "execution_count": 10,
   "id": "continental-polish",
   "metadata": {},
   "outputs": [],
   "source": [
    "from shapely.ops import transform\n",
    "\n",
    "def _to_2d(x, y, z):\n",
    "    return tuple(filter(None, [x, y]))\n",
    "\n",
    "educ['geometry'] = educ['geometry'].apply(lambda x: shapely.ops.transform(_to_2d, x))"
   ]
  },
  {
   "cell_type": "markdown",
   "id": "mounted-wheat",
   "metadata": {},
   "source": [
    "Look at data"
   ]
  },
  {
   "cell_type": "code",
   "execution_count": 11,
   "id": "static-fountain",
   "metadata": {},
   "outputs": [
    {
     "data": {
      "text/html": [
       "<div>\n",
       "<style scoped>\n",
       "    .dataframe tbody tr th:only-of-type {\n",
       "        vertical-align: middle;\n",
       "    }\n",
       "\n",
       "    .dataframe tbody tr th {\n",
       "        vertical-align: top;\n",
       "    }\n",
       "\n",
       "    .dataframe thead th {\n",
       "        text-align: right;\n",
       "    }\n",
       "</style>\n",
       "<table border=\"1\" class=\"dataframe\">\n",
       "  <thead>\n",
       "    <tr style=\"text-align: right;\">\n",
       "      <th></th>\n",
       "      <th>Name</th>\n",
       "      <th>Scode</th>\n",
       "      <th>SchoolName</th>\n",
       "      <th>PresentSta</th>\n",
       "      <th>Gender</th>\n",
       "      <th>School_Level</th>\n",
       "      <th>GeoLocatio</th>\n",
       "      <th>Village</th>\n",
       "      <th>PostOffice</th>\n",
       "      <th>UnionCounc</th>\n",
       "      <th>...</th>\n",
       "      <th>OtherRooms</th>\n",
       "      <th>Water</th>\n",
       "      <th>Electicity</th>\n",
       "      <th>LatrineUsa</th>\n",
       "      <th>BoudaryWal</th>\n",
       "      <th>X</th>\n",
       "      <th>Y</th>\n",
       "      <th>layer</th>\n",
       "      <th>path</th>\n",
       "      <th>geometry</th>\n",
       "    </tr>\n",
       "  </thead>\n",
       "  <tbody>\n",
       "    <tr>\n",
       "      <th>0</th>\n",
       "      <td>GPS AMBER BANDA</td>\n",
       "      <td>16371</td>\n",
       "      <td>GPS AMBER BANDA</td>\n",
       "      <td>Functional</td>\n",
       "      <td>Boys</td>\n",
       "      <td>Primary</td>\n",
       "      <td>Urban</td>\n",
       "      <td>AMBAR BANDA</td>\n",
       "      <td>NASRAT KHEL</td>\n",
       "      <td>NASRAT KHEL</td>\n",
       "      <td>...</td>\n",
       "      <td>0</td>\n",
       "      <td>Yes</td>\n",
       "      <td>No</td>\n",
       "      <td>2</td>\n",
       "      <td>Yes</td>\n",
       "      <td>71.380217</td>\n",
       "      <td>33.582918</td>\n",
       "      <td>None</td>\n",
       "      <td>None</td>\n",
       "      <td>POINT (71.38022 33.58292)</td>\n",
       "    </tr>\n",
       "    <tr>\n",
       "      <th>1</th>\n",
       "      <td>GPS BEHZADI RAILWAY KOHAT</td>\n",
       "      <td>16372</td>\n",
       "      <td>GPS BEHZADI RAILWAY KOHAT</td>\n",
       "      <td>Functional</td>\n",
       "      <td>Boys</td>\n",
       "      <td>Primary</td>\n",
       "      <td>Urban</td>\n",
       "      <td>BEHZADI RAILWAY KOHAT</td>\n",
       "      <td>BEHZADI</td>\n",
       "      <td>URBAN -I</td>\n",
       "      <td>...</td>\n",
       "      <td>1</td>\n",
       "      <td>Yes</td>\n",
       "      <td>Yes</td>\n",
       "      <td>6</td>\n",
       "      <td>Yes</td>\n",
       "      <td>71.4509</td>\n",
       "      <td>33.5725</td>\n",
       "      <td>None</td>\n",
       "      <td>None</td>\n",
       "      <td>POINT (71.45090 33.57250)</td>\n",
       "    </tr>\n",
       "    <tr>\n",
       "      <th>2</th>\n",
       "      <td>GPS CITY CENTRE</td>\n",
       "      <td>16373</td>\n",
       "      <td>GPS CITY CENTRE</td>\n",
       "      <td>Functional</td>\n",
       "      <td>Boys</td>\n",
       "      <td>Primary</td>\n",
       "      <td>Urban</td>\n",
       "      <td>CITY CENTRE KOHAT</td>\n",
       "      <td>KOHAT</td>\n",
       "      <td>URBAN -I</td>\n",
       "      <td>...</td>\n",
       "      <td>3</td>\n",
       "      <td>Yes</td>\n",
       "      <td>Yes</td>\n",
       "      <td>2</td>\n",
       "      <td>Yes</td>\n",
       "      <td>71.4355</td>\n",
       "      <td>33.5866</td>\n",
       "      <td>None</td>\n",
       "      <td>None</td>\n",
       "      <td>POINT (71.43550 33.58660)</td>\n",
       "    </tr>\n",
       "  </tbody>\n",
       "</table>\n",
       "<p>3 rows × 37 columns</p>\n",
       "</div>"
      ],
      "text/plain": [
       "                        Name  Scode                 SchoolName  PresentSta  \\\n",
       "0            GPS AMBER BANDA  16371            GPS AMBER BANDA  Functional   \n",
       "1  GPS BEHZADI RAILWAY KOHAT  16372  GPS BEHZADI RAILWAY KOHAT  Functional   \n",
       "2            GPS CITY CENTRE  16373            GPS CITY CENTRE  Functional   \n",
       "\n",
       "  Gender School_Level GeoLocatio                Village   PostOffice  \\\n",
       "0   Boys      Primary      Urban            AMBAR BANDA  NASRAT KHEL   \n",
       "1   Boys      Primary      Urban  BEHZADI RAILWAY KOHAT      BEHZADI   \n",
       "2   Boys      Primary      Urban      CITY CENTRE KOHAT        KOHAT   \n",
       "\n",
       "    UnionCounc  ... OtherRooms Water Electicity LatrineUsa BoudaryWal  \\\n",
       "0  NASRAT KHEL  ...          0   Yes         No          2        Yes   \n",
       "1     URBAN -I  ...          1   Yes        Yes          6        Yes   \n",
       "2     URBAN -I  ...          3   Yes        Yes          2        Yes   \n",
       "\n",
       "           X          Y layer  path                   geometry  \n",
       "0  71.380217  33.582918  None  None  POINT (71.38022 33.58292)  \n",
       "1    71.4509    33.5725  None  None  POINT (71.45090 33.57250)  \n",
       "2    71.4355    33.5866  None  None  POINT (71.43550 33.58660)  \n",
       "\n",
       "[3 rows x 37 columns]"
      ]
     },
     "execution_count": 11,
     "metadata": {},
     "output_type": "execute_result"
    }
   ],
   "source": [
    "educ.head(3)"
   ]
  },
  {
   "cell_type": "code",
   "execution_count": 12,
   "id": "external-friendly",
   "metadata": {},
   "outputs": [
    {
     "data": {
      "text/html": [
       "<div>\n",
       "<style scoped>\n",
       "    .dataframe tbody tr th:only-of-type {\n",
       "        vertical-align: middle;\n",
       "    }\n",
       "\n",
       "    .dataframe tbody tr th {\n",
       "        vertical-align: top;\n",
       "    }\n",
       "\n",
       "    .dataframe thead th {\n",
       "        text-align: right;\n",
       "    }\n",
       "</style>\n",
       "<table border=\"1\" class=\"dataframe\">\n",
       "  <thead>\n",
       "    <tr style=\"text-align: right;\">\n",
       "      <th></th>\n",
       "      <th>FATA_SCode</th>\n",
       "      <th>Agency_Nam</th>\n",
       "      <th>Institution_Code</th>\n",
       "      <th>Name</th>\n",
       "      <th>Tehsil</th>\n",
       "      <th>Gender</th>\n",
       "      <th>FATA_Level</th>\n",
       "      <th>Altitude</th>\n",
       "      <th>Altitude_S</th>\n",
       "      <th>x</th>\n",
       "      <th>y</th>\n",
       "      <th>geometry</th>\n",
       "    </tr>\n",
       "  </thead>\n",
       "  <tbody>\n",
       "    <tr>\n",
       "      <th>0</th>\n",
       "      <td>1</td>\n",
       "      <td>Bajaur Agency</td>\n",
       "      <td>592</td>\n",
       "      <td>GDC Khar</td>\n",
       "      <td>Khar</td>\n",
       "      <td>Boys</td>\n",
       "      <td>College</td>\n",
       "      <td>835.0</td>\n",
       "      <td>M</td>\n",
       "      <td>71.5438</td>\n",
       "      <td>34.7547</td>\n",
       "      <td>POINT (71.54380 34.75470)</td>\n",
       "    </tr>\n",
       "    <tr>\n",
       "      <th>1</th>\n",
       "      <td>2</td>\n",
       "      <td>Bajaur Agency</td>\n",
       "      <td>594</td>\n",
       "      <td>GDC Barkhalozo</td>\n",
       "      <td>Mamund</td>\n",
       "      <td>Boys</td>\n",
       "      <td>College</td>\n",
       "      <td>1023.0</td>\n",
       "      <td>M</td>\n",
       "      <td>71.4051</td>\n",
       "      <td>34.7905</td>\n",
       "      <td>POINT (71.40510 34.79050)</td>\n",
       "    </tr>\n",
       "    <tr>\n",
       "      <th>2</th>\n",
       "      <td>3</td>\n",
       "      <td>Bajaur Agency</td>\n",
       "      <td>595</td>\n",
       "      <td>GDC Nawagai</td>\n",
       "      <td>Nawagai</td>\n",
       "      <td>Boys</td>\n",
       "      <td>College</td>\n",
       "      <td>996.0</td>\n",
       "      <td>M</td>\n",
       "      <td>71.3084</td>\n",
       "      <td>34.6695</td>\n",
       "      <td>POINT (71.30840 34.66950)</td>\n",
       "    </tr>\n",
       "  </tbody>\n",
       "</table>\n",
       "</div>"
      ],
      "text/plain": [
       "   FATA_SCode     Agency_Nam Institution_Code            Name   Tehsil Gender  \\\n",
       "0           1  Bajaur Agency              592        GDC Khar     Khar   Boys   \n",
       "1           2  Bajaur Agency              594  GDC Barkhalozo   Mamund   Boys   \n",
       "2           3  Bajaur Agency              595     GDC Nawagai  Nawagai   Boys   \n",
       "\n",
       "  FATA_Level  Altitude Altitude_S        x        y                   geometry  \n",
       "0    College     835.0          M  71.5438  34.7547  POINT (71.54380 34.75470)  \n",
       "1    College    1023.0          M  71.4051  34.7905  POINT (71.40510 34.79050)  \n",
       "2    College     996.0          M  71.3084  34.6695  POINT (71.30840 34.66950)  "
      ]
     },
     "execution_count": 12,
     "metadata": {},
     "output_type": "execute_result"
    }
   ],
   "source": [
    "educ_fata.head(3)"
   ]
  },
  {
   "cell_type": "markdown",
   "id": "signal-oklahoma",
   "metadata": {},
   "source": [
    "Re-arrange FATA data to match main data model"
   ]
  },
  {
   "cell_type": "code",
   "execution_count": 13,
   "id": "ready-grenada",
   "metadata": {},
   "outputs": [
    {
     "data": {
      "text/plain": [
       "array(['College', 'Community', 'High', 'Higher Secondary', 'Middle',\n",
       "       'Mosque', 'Primary', 'Industrial Home Centre', 'Office',\n",
       "       'VOCATIONAL INSTITUTE'], dtype=object)"
      ]
     },
     "execution_count": 13,
     "metadata": {},
     "output_type": "execute_result"
    }
   ],
   "source": [
    "educ_fata.FATA_Level.unique()"
   ]
  },
  {
   "cell_type": "code",
   "execution_count": 14,
   "id": "focused-people",
   "metadata": {},
   "outputs": [],
   "source": [
    "prim_dct = dict.fromkeys(['Primary','Mosque','Community'],'Primary')\n",
    "sec_dct = dict.fromkeys(['Middle'],'Middle')\n",
    "high_dct = dict.fromkeys(['High','Higher Secondary'],'High')\n",
    "voc_dct = dict.fromkeys(['VOCATIONAL CENTRE','Industrial Home Centre'],'Vocational')\n",
    "tert_dct = dict.fromkeys(['College'],'Tertiary')"
   ]
  },
  {
   "cell_type": "code",
   "execution_count": 15,
   "id": "golden-knife",
   "metadata": {},
   "outputs": [],
   "source": [
    "level_dct = {}\n",
    "\n",
    "level_dct.update(prim_dct)\n",
    "level_dct.update(sec_dct)\n",
    "level_dct.update(high_dct)\n",
    "level_dct.update(voc_dct)\n",
    "level_dct.update(tert_dct)"
   ]
  },
  {
   "cell_type": "code",
   "execution_count": 16,
   "id": "controlling-egyptian",
   "metadata": {},
   "outputs": [],
   "source": [
    "educ_fata['School_Level'] = educ_fata.FATA_Level.map(level_dct).fillna('Other')"
   ]
  },
  {
   "cell_type": "code",
   "execution_count": 17,
   "id": "organic-masters",
   "metadata": {},
   "outputs": [
    {
     "data": {
      "text/plain": [
       "array(['Tertiary', 'Primary', 'High', 'Middle', 'Vocational', 'Other'],\n",
       "      dtype=object)"
      ]
     },
     "execution_count": 17,
     "metadata": {},
     "output_type": "execute_result"
    }
   ],
   "source": [
    "educ_fata.School_Level.unique()"
   ]
  },
  {
   "cell_type": "markdown",
   "id": "opposed-fiction",
   "metadata": {},
   "source": [
    "#### Tabular analysis of educational facilities"
   ]
  },
  {
   "cell_type": "code",
   "execution_count": 223,
   "id": "peaceful-concept",
   "metadata": {},
   "outputs": [
    {
     "data": {
      "text/html": [
       "<div>\n",
       "<style scoped>\n",
       "    .dataframe tbody tr th:only-of-type {\n",
       "        vertical-align: middle;\n",
       "    }\n",
       "\n",
       "    .dataframe tbody tr th {\n",
       "        vertical-align: top;\n",
       "    }\n",
       "\n",
       "    .dataframe thead th {\n",
       "        text-align: right;\n",
       "    }\n",
       "</style>\n",
       "<table border=\"1\" class=\"dataframe\">\n",
       "  <thead>\n",
       "    <tr style=\"text-align: right;\">\n",
       "      <th></th>\n",
       "      <th>Name</th>\n",
       "      <th>Scode</th>\n",
       "      <th>SchoolName</th>\n",
       "      <th>PresentSta</th>\n",
       "      <th>Gender</th>\n",
       "      <th>School_Level</th>\n",
       "      <th>GeoLocatio</th>\n",
       "      <th>Village</th>\n",
       "      <th>PostOffice</th>\n",
       "      <th>UnionCounc</th>\n",
       "      <th>...</th>\n",
       "      <th>Adm3_En</th>\n",
       "      <th>Adm2_Code</th>\n",
       "      <th>Adm3_Code</th>\n",
       "      <th>BG_Ratio</th>\n",
       "      <th>Boys_total</th>\n",
       "      <th>Girls_total</th>\n",
       "      <th>Total_students</th>\n",
       "      <th>Adm3_total_students</th>\n",
       "      <th>student_wt</th>\n",
       "      <th>Gender_Ratio</th>\n",
       "    </tr>\n",
       "  </thead>\n",
       "  <tbody>\n",
       "    <tr>\n",
       "      <th>0</th>\n",
       "      <td>GPS AMBER BANDA</td>\n",
       "      <td>16371</td>\n",
       "      <td>GPS AMBER BANDA</td>\n",
       "      <td>Functional</td>\n",
       "      <td>Boys</td>\n",
       "      <td>Primary</td>\n",
       "      <td>Urban</td>\n",
       "      <td>AMBAR BANDA</td>\n",
       "      <td>NASRAT KHEL</td>\n",
       "      <td>NASRAT KHEL</td>\n",
       "      <td>...</td>\n",
       "      <td>Kohat</td>\n",
       "      <td>PK211</td>\n",
       "      <td>PK21101</td>\n",
       "      <td>0.003253</td>\n",
       "      <td>69509.0</td>\n",
       "      <td>45868.0</td>\n",
       "      <td>115377.0</td>\n",
       "      <td>115377.0</td>\n",
       "      <td>0.001118</td>\n",
       "      <td>0.003253</td>\n",
       "    </tr>\n",
       "    <tr>\n",
       "      <th>1</th>\n",
       "      <td>GPS BEHZADI RAILWAY KOHAT</td>\n",
       "      <td>16372</td>\n",
       "      <td>GPS BEHZADI RAILWAY KOHAT</td>\n",
       "      <td>Functional</td>\n",
       "      <td>Boys</td>\n",
       "      <td>Primary</td>\n",
       "      <td>Urban</td>\n",
       "      <td>BEHZADI RAILWAY KOHAT</td>\n",
       "      <td>BEHZADI</td>\n",
       "      <td>URBAN -I</td>\n",
       "      <td>...</td>\n",
       "      <td>Kohat</td>\n",
       "      <td>PK211</td>\n",
       "      <td>PK21101</td>\n",
       "      <td>0.010362</td>\n",
       "      <td>69509.0</td>\n",
       "      <td>45868.0</td>\n",
       "      <td>115377.0</td>\n",
       "      <td>115377.0</td>\n",
       "      <td>0.004412</td>\n",
       "      <td>0.010362</td>\n",
       "    </tr>\n",
       "  </tbody>\n",
       "</table>\n",
       "<p>2 rows × 49 columns</p>\n",
       "</div>"
      ],
      "text/plain": [
       "                        Name  Scode                 SchoolName  PresentSta  \\\n",
       "0            GPS AMBER BANDA  16371            GPS AMBER BANDA  Functional   \n",
       "1  GPS BEHZADI RAILWAY KOHAT  16372  GPS BEHZADI RAILWAY KOHAT  Functional   \n",
       "\n",
       "  Gender School_Level GeoLocatio                Village   PostOffice  \\\n",
       "0   Boys      Primary      Urban            AMBAR BANDA  NASRAT KHEL   \n",
       "1   Boys      Primary      Urban  BEHZADI RAILWAY KOHAT      BEHZADI   \n",
       "\n",
       "    UnionCounc  ... Adm3_En Adm2_Code Adm3_Code  BG_Ratio Boys_total  \\\n",
       "0  NASRAT KHEL  ...   Kohat     PK211   PK21101  0.003253    69509.0   \n",
       "1     URBAN -I  ...   Kohat     PK211   PK21101  0.010362    69509.0   \n",
       "\n",
       "  Girls_total Total_students  Adm3_total_students student_wt  Gender_Ratio  \n",
       "0     45868.0       115377.0             115377.0   0.001118      0.003253  \n",
       "1     45868.0       115377.0             115377.0   0.004412      0.010362  \n",
       "\n",
       "[2 rows x 49 columns]"
      ]
     },
     "execution_count": 223,
     "metadata": {},
     "output_type": "execute_result"
    }
   ],
   "source": [
    "educ.head(2)"
   ]
  },
  {
   "cell_type": "markdown",
   "id": "maritime-traffic",
   "metadata": {},
   "source": [
    "Join in admin info, clean up "
   ]
  },
  {
   "cell_type": "code",
   "execution_count": 165,
   "id": "finnish-prisoner",
   "metadata": {},
   "outputs": [],
   "source": [
    "educ = gpd.sjoin(educ,adm3[['geometry','ADM2_EN','ADM3_EN','ADM2_PCODE','ADM3_PCODE']],\\\n",
    "                 op='within',how='left')"
   ]
  },
  {
   "cell_type": "code",
   "execution_count": 166,
   "id": "loved-science",
   "metadata": {},
   "outputs": [],
   "source": [
    "educ.rename({'ADM2_EN':'Adm2_En','ADM3_EN':'Adm3_En','ADM2_PCODE':'Adm2_Code','ADM3_PCODE':'Adm3_Code'},axis=1,inplace=True)"
   ]
  },
  {
   "cell_type": "code",
   "execution_count": 168,
   "id": "offshore-mapping",
   "metadata": {},
   "outputs": [],
   "source": [
    "educ.Boys = educ.Boys.astype(int).fillna(0)\n",
    "educ.Girls = educ.Girls.astype(int).fillna(0)"
   ]
  },
  {
   "cell_type": "markdown",
   "id": "serious-venture",
   "metadata": {},
   "source": [
    "Create a weighting scheme based on total students for each gender classification vs. total in the tehsil"
   ]
  },
  {
   "cell_type": "code",
   "execution_count": 224,
   "id": "consistent-australia",
   "metadata": {},
   "outputs": [],
   "source": [
    "educ['total_students'] = educ['Boys'] + educ['Girls']"
   ]
  },
  {
   "cell_type": "code",
   "execution_count": 235,
   "id": "animated-gathering",
   "metadata": {},
   "outputs": [
    {
     "data": {
      "text/html": [
       "<div>\n",
       "<style scoped>\n",
       "    .dataframe tbody tr th:only-of-type {\n",
       "        vertical-align: middle;\n",
       "    }\n",
       "\n",
       "    .dataframe tbody tr th {\n",
       "        vertical-align: top;\n",
       "    }\n",
       "\n",
       "    .dataframe thead th {\n",
       "        text-align: right;\n",
       "    }\n",
       "</style>\n",
       "<table border=\"1\" class=\"dataframe\">\n",
       "  <thead>\n",
       "    <tr style=\"text-align: right;\">\n",
       "      <th>Gender</th>\n",
       "      <th>Boys</th>\n",
       "      <th>Girls</th>\n",
       "    </tr>\n",
       "    <tr>\n",
       "      <th>Adm3_Code</th>\n",
       "      <th></th>\n",
       "      <th></th>\n",
       "    </tr>\n",
       "  </thead>\n",
       "  <tbody>\n",
       "    <tr>\n",
       "      <th>PK20101</th>\n",
       "      <td>112489.0</td>\n",
       "      <td>71103.0</td>\n",
       "    </tr>\n",
       "    <tr>\n",
       "      <th>PK20201</th>\n",
       "      <td>59350.0</td>\n",
       "      <td>37637.0</td>\n",
       "    </tr>\n",
       "    <tr>\n",
       "      <th>PK20202</th>\n",
       "      <td>19356.0</td>\n",
       "      <td>9114.0</td>\n",
       "    </tr>\n",
       "    <tr>\n",
       "      <th>PK20301</th>\n",
       "      <td>18709.0</td>\n",
       "      <td>4519.0</td>\n",
       "    </tr>\n",
       "    <tr>\n",
       "      <th>PK20302</th>\n",
       "      <td>28523.0</td>\n",
       "      <td>13674.0</td>\n",
       "    </tr>\n",
       "    <tr>\n",
       "      <th>...</th>\n",
       "      <td>...</td>\n",
       "      <td>...</td>\n",
       "    </tr>\n",
       "    <tr>\n",
       "      <th>PK61802</th>\n",
       "      <td>63.0</td>\n",
       "      <td>NaN</td>\n",
       "    </tr>\n",
       "    <tr>\n",
       "      <th>PK62101</th>\n",
       "      <td>239.0</td>\n",
       "      <td>117.0</td>\n",
       "    </tr>\n",
       "    <tr>\n",
       "      <th>PK62103</th>\n",
       "      <td>104.0</td>\n",
       "      <td>NaN</td>\n",
       "    </tr>\n",
       "    <tr>\n",
       "      <th>PK63005</th>\n",
       "      <td>130.0</td>\n",
       "      <td>NaN</td>\n",
       "    </tr>\n",
       "    <tr>\n",
       "      <th>PK63007</th>\n",
       "      <td>145.0</td>\n",
       "      <td>NaN</td>\n",
       "    </tr>\n",
       "  </tbody>\n",
       "</table>\n",
       "<p>85 rows × 2 columns</p>\n",
       "</div>"
      ],
      "text/plain": [
       "Gender         Boys    Girls\n",
       "Adm3_Code                   \n",
       "PK20101    112489.0  71103.0\n",
       "PK20201     59350.0  37637.0\n",
       "PK20202     19356.0   9114.0\n",
       "PK20301     18709.0   4519.0\n",
       "PK20302     28523.0  13674.0\n",
       "...             ...      ...\n",
       "PK61802        63.0      NaN\n",
       "PK62101       239.0    117.0\n",
       "PK62103       104.0      NaN\n",
       "PK63005       130.0      NaN\n",
       "PK63007       145.0      NaN\n",
       "\n",
       "[85 rows x 2 columns]"
      ]
     },
     "execution_count": 235,
     "metadata": {},
     "output_type": "execute_result"
    }
   ],
   "source": [
    "educ.groupby(['Adm3_Code','Gender'])['total_students'].sum().unstack()"
   ]
  },
  {
   "cell_type": "code",
   "execution_count": 242,
   "id": "proof-vegetarian",
   "metadata": {},
   "outputs": [],
   "source": [
    "student_totals_by_school_gender = educ.groupby(['Adm3_Code','Gender'])['total_students'].sum().unstack().rename({'Boys':'Adm3_boys_school_total','Girls':'Adm3_girls_school_total'},axis=1)"
   ]
  },
  {
   "cell_type": "code",
   "execution_count": 243,
   "id": "charged-partner",
   "metadata": {},
   "outputs": [
    {
     "data": {
      "text/html": [
       "<div>\n",
       "<style scoped>\n",
       "    .dataframe tbody tr th:only-of-type {\n",
       "        vertical-align: middle;\n",
       "    }\n",
       "\n",
       "    .dataframe tbody tr th {\n",
       "        vertical-align: top;\n",
       "    }\n",
       "\n",
       "    .dataframe thead th {\n",
       "        text-align: right;\n",
       "    }\n",
       "</style>\n",
       "<table border=\"1\" class=\"dataframe\">\n",
       "  <thead>\n",
       "    <tr style=\"text-align: right;\">\n",
       "      <th>Gender</th>\n",
       "      <th>Adm3_boys_school_total</th>\n",
       "      <th>Adm3_girls_school_total</th>\n",
       "    </tr>\n",
       "    <tr>\n",
       "      <th>Adm3_Code</th>\n",
       "      <th></th>\n",
       "      <th></th>\n",
       "    </tr>\n",
       "  </thead>\n",
       "  <tbody>\n",
       "    <tr>\n",
       "      <th>PK20101</th>\n",
       "      <td>112489.0</td>\n",
       "      <td>71103.0</td>\n",
       "    </tr>\n",
       "    <tr>\n",
       "      <th>PK20201</th>\n",
       "      <td>59350.0</td>\n",
       "      <td>37637.0</td>\n",
       "    </tr>\n",
       "    <tr>\n",
       "      <th>PK20202</th>\n",
       "      <td>19356.0</td>\n",
       "      <td>9114.0</td>\n",
       "    </tr>\n",
       "    <tr>\n",
       "      <th>PK20301</th>\n",
       "      <td>18709.0</td>\n",
       "      <td>4519.0</td>\n",
       "    </tr>\n",
       "    <tr>\n",
       "      <th>PK20302</th>\n",
       "      <td>28523.0</td>\n",
       "      <td>13674.0</td>\n",
       "    </tr>\n",
       "    <tr>\n",
       "      <th>...</th>\n",
       "      <td>...</td>\n",
       "      <td>...</td>\n",
       "    </tr>\n",
       "    <tr>\n",
       "      <th>PK61802</th>\n",
       "      <td>63.0</td>\n",
       "      <td>NaN</td>\n",
       "    </tr>\n",
       "    <tr>\n",
       "      <th>PK62101</th>\n",
       "      <td>239.0</td>\n",
       "      <td>117.0</td>\n",
       "    </tr>\n",
       "    <tr>\n",
       "      <th>PK62103</th>\n",
       "      <td>104.0</td>\n",
       "      <td>NaN</td>\n",
       "    </tr>\n",
       "    <tr>\n",
       "      <th>PK63005</th>\n",
       "      <td>130.0</td>\n",
       "      <td>NaN</td>\n",
       "    </tr>\n",
       "    <tr>\n",
       "      <th>PK63007</th>\n",
       "      <td>145.0</td>\n",
       "      <td>NaN</td>\n",
       "    </tr>\n",
       "  </tbody>\n",
       "</table>\n",
       "<p>85 rows × 2 columns</p>\n",
       "</div>"
      ],
      "text/plain": [
       "Gender     Adm3_boys_school_total  Adm3_girls_school_total\n",
       "Adm3_Code                                                 \n",
       "PK20101                  112489.0                  71103.0\n",
       "PK20201                   59350.0                  37637.0\n",
       "PK20202                   19356.0                   9114.0\n",
       "PK20301                   18709.0                   4519.0\n",
       "PK20302                   28523.0                  13674.0\n",
       "...                           ...                      ...\n",
       "PK61802                      63.0                      NaN\n",
       "PK62101                     239.0                    117.0\n",
       "PK62103                     104.0                      NaN\n",
       "PK63005                     130.0                      NaN\n",
       "PK63007                     145.0                      NaN\n",
       "\n",
       "[85 rows x 2 columns]"
      ]
     },
     "execution_count": 243,
     "metadata": {},
     "output_type": "execute_result"
    }
   ],
   "source": [
    "student_totals_by_school_gender"
   ]
  },
  {
   "cell_type": "code",
   "execution_count": 210,
   "id": "disciplinary-edition",
   "metadata": {},
   "outputs": [],
   "source": [
    "# boys_adm3_tot = educ.groupby(['Adm3_Code'])['Boys'].sum().rename('Boys_total')\n",
    "# girls_adm3_tot = educ.groupby(['Adm3_Code'])['Girls'].sum().rename('Girls_total')\n",
    "# students_adm3_tot = (boys_adm3_tot + girls_adm3_tot).rename('Adm3_total_students')"
   ]
  },
  {
   "cell_type": "code",
   "execution_count": 244,
   "id": "criminal-formula",
   "metadata": {},
   "outputs": [],
   "source": [
    "# educ = pd.merge(educ,boys_adm3_tot,on='Adm3_Code',how='left')\n",
    "# educ = pd.merge(educ,girls_adm3_tot,on='Adm3_Code',how='left')\n",
    "# educ = pd.merge(educ,students_adm3_tot,on='Adm3_Code',how='left')\n",
    "educ = pd.merge(educ,student_totals_by_school_gender,on='Adm3_Code',how='left')"
   ]
  },
  {
   "cell_type": "code",
   "execution_count": 249,
   "id": "generous-condition",
   "metadata": {},
   "outputs": [
    {
     "data": {
      "text/plain": [
       "0        True\n",
       "1        True\n",
       "2        True\n",
       "3        True\n",
       "4        True\n",
       "         ... \n",
       "27894    True\n",
       "27895    True\n",
       "27896    True\n",
       "27897    True\n",
       "27898    True\n",
       "Name: Gender, Length: 27899, dtype: bool"
      ]
     },
     "execution_count": 249,
     "metadata": {},
     "output_type": "execute_result"
    }
   ],
   "source": [
    "educ['Gender'] == 'Boys'"
   ]
  },
  {
   "cell_type": "code",
   "execution_count": 264,
   "id": "reflected-capture",
   "metadata": {},
   "outputs": [],
   "source": [
    "educ['student_wt'] = np.where(educ.Gender == 'Boys',\\\n",
    "         ((educ['Boys'] + educ['Girls']) / educ['Adm3_boys_school_total']),\n",
    "        ((educ['Boys'] + educ['Girls']) / educ['Adm3_girls_school_total']))"
   ]
  },
  {
   "cell_type": "markdown",
   "id": "spread-mouse",
   "metadata": {},
   "source": [
    "Now calculate the ratio and weight it by the size of the school within that gender category"
   ]
  },
  {
   "cell_type": "code",
   "execution_count": 265,
   "id": "spoken-therapy",
   "metadata": {},
   "outputs": [],
   "source": [
    "educ['Gender_Ratio'] = (educ['Boys'] / educ['Girls']) * educ['student_wt']"
   ]
  },
  {
   "cell_type": "markdown",
   "id": "desperate-correlation",
   "metadata": {},
   "source": [
    "Group by tehsil and calculate the student populated-weighted mean ratio. Invert for Girls"
   ]
  },
  {
   "cell_type": "code",
   "execution_count": 267,
   "id": "painted-acceptance",
   "metadata": {},
   "outputs": [],
   "source": [
    "educ_gender_ratio = educ[educ['Gender_Ratio'] != np.inf].dropna(axis=0,subset=['BG_Ratio']).groupby(['Adm2_Code','Adm3_En','Adm3_Code','Gender'])['Gender_Ratio'].sum().unstack().reset_index()"
   ]
  },
  {
   "cell_type": "code",
   "execution_count": 268,
   "id": "diagnostic-texas",
   "metadata": {},
   "outputs": [],
   "source": [
    "educ_gender_ratio.rename({'Boys':'Boys_schools','Girls':'Girls_schools'},axis=1,inplace=True)"
   ]
  },
  {
   "cell_type": "code",
   "execution_count": 270,
   "id": "engaged-adams",
   "metadata": {},
   "outputs": [],
   "source": [
    "educ_gender_ratio['Girls_schools'] = 1 / educ_gender_ratio['Girls_schools']"
   ]
  },
  {
   "cell_type": "code",
   "execution_count": 272,
   "id": "sapphire-hepatitis",
   "metadata": {},
   "outputs": [
    {
     "data": {
      "text/html": [
       "<div>\n",
       "<style scoped>\n",
       "    .dataframe tbody tr th:only-of-type {\n",
       "        vertical-align: middle;\n",
       "    }\n",
       "\n",
       "    .dataframe tbody tr th {\n",
       "        vertical-align: top;\n",
       "    }\n",
       "\n",
       "    .dataframe thead th {\n",
       "        text-align: right;\n",
       "    }\n",
       "</style>\n",
       "<table border=\"1\" class=\"dataframe\">\n",
       "  <thead>\n",
       "    <tr style=\"text-align: right;\">\n",
       "      <th>Gender</th>\n",
       "      <th>Adm2_Code</th>\n",
       "      <th>Adm3_En</th>\n",
       "      <th>Adm3_Code</th>\n",
       "      <th>Boys_schools</th>\n",
       "      <th>Girls_schools</th>\n",
       "    </tr>\n",
       "  </thead>\n",
       "  <tbody>\n",
       "    <tr>\n",
       "      <th>0</th>\n",
       "      <td>PK201</td>\n",
       "      <td>Abbottabad</td>\n",
       "      <td>PK20101</td>\n",
       "      <td>2.466532</td>\n",
       "      <td>3.349532</td>\n",
       "    </tr>\n",
       "    <tr>\n",
       "      <th>1</th>\n",
       "      <td>PK202</td>\n",
       "      <td>Bannu</td>\n",
       "      <td>PK20201</td>\n",
       "      <td>10.995825</td>\n",
       "      <td>61.717757</td>\n",
       "    </tr>\n",
       "    <tr>\n",
       "      <th>2</th>\n",
       "      <td>PK202</td>\n",
       "      <td>Domel</td>\n",
       "      <td>PK20202</td>\n",
       "      <td>7.208704</td>\n",
       "      <td>29.551511</td>\n",
       "    </tr>\n",
       "    <tr>\n",
       "      <th>3</th>\n",
       "      <td>PK203</td>\n",
       "      <td>Alai</td>\n",
       "      <td>PK20301</td>\n",
       "      <td>5.600795</td>\n",
       "      <td>3.711220</td>\n",
       "    </tr>\n",
       "    <tr>\n",
       "      <th>4</th>\n",
       "      <td>PK203</td>\n",
       "      <td>Batagram</td>\n",
       "      <td>PK20302</td>\n",
       "      <td>3.483107</td>\n",
       "      <td>9.983963</td>\n",
       "    </tr>\n",
       "    <tr>\n",
       "      <th>...</th>\n",
       "      <td>...</td>\n",
       "      <td>...</td>\n",
       "      <td>...</td>\n",
       "      <td>...</td>\n",
       "      <td>...</td>\n",
       "    </tr>\n",
       "    <tr>\n",
       "      <th>78</th>\n",
       "      <td>PK618</td>\n",
       "      <td>Karor Lal Esan</td>\n",
       "      <td>PK61802</td>\n",
       "      <td>1.423077</td>\n",
       "      <td>NaN</td>\n",
       "    </tr>\n",
       "    <tr>\n",
       "      <th>79</th>\n",
       "      <td>PK621</td>\n",
       "      <td>Isakhel</td>\n",
       "      <td>PK62101</td>\n",
       "      <td>4.511737</td>\n",
       "      <td>11.079545</td>\n",
       "    </tr>\n",
       "    <tr>\n",
       "      <th>80</th>\n",
       "      <td>PK621</td>\n",
       "      <td>Piplan</td>\n",
       "      <td>PK62103</td>\n",
       "      <td>2.586207</td>\n",
       "      <td>NaN</td>\n",
       "    </tr>\n",
       "    <tr>\n",
       "      <th>81</th>\n",
       "      <td>PK630</td>\n",
       "      <td>Murree</td>\n",
       "      <td>PK63005</td>\n",
       "      <td>5.617483</td>\n",
       "      <td>NaN</td>\n",
       "    </tr>\n",
       "    <tr>\n",
       "      <th>82</th>\n",
       "      <td>PK630</td>\n",
       "      <td>Taxila</td>\n",
       "      <td>PK63007</td>\n",
       "      <td>1.496365</td>\n",
       "      <td>NaN</td>\n",
       "    </tr>\n",
       "  </tbody>\n",
       "</table>\n",
       "<p>83 rows × 5 columns</p>\n",
       "</div>"
      ],
      "text/plain": [
       "Gender Adm2_Code         Adm3_En Adm3_Code  Boys_schools  Girls_schools\n",
       "0          PK201      Abbottabad   PK20101      2.466532       3.349532\n",
       "1          PK202           Bannu   PK20201     10.995825      61.717757\n",
       "2          PK202           Domel   PK20202      7.208704      29.551511\n",
       "3          PK203            Alai   PK20301      5.600795       3.711220\n",
       "4          PK203        Batagram   PK20302      3.483107       9.983963\n",
       "..           ...             ...       ...           ...            ...\n",
       "78         PK618  Karor Lal Esan   PK61802      1.423077            NaN\n",
       "79         PK621         Isakhel   PK62101      4.511737      11.079545\n",
       "80         PK621          Piplan   PK62103      2.586207            NaN\n",
       "81         PK630          Murree   PK63005      5.617483            NaN\n",
       "82         PK630          Taxila   PK63007      1.496365            NaN\n",
       "\n",
       "[83 rows x 5 columns]"
      ]
     },
     "execution_count": 272,
     "metadata": {},
     "output_type": "execute_result"
    }
   ],
   "source": [
    "educ_gender_ratio"
   ]
  },
  {
   "cell_type": "markdown",
   "id": "veterinary-syntax",
   "metadata": {},
   "source": [
    "Export"
   ]
  },
  {
   "cell_type": "code",
   "execution_count": 271,
   "id": "violent-category",
   "metadata": {},
   "outputs": [],
   "source": [
    "educ_gender_ratio.to_csv(os.path.join(data_pth,'educ_gender_ratio.csv'))"
   ]
  },
  {
   "cell_type": "markdown",
   "id": "quiet-worth",
   "metadata": {},
   "source": [
    "#### Merge"
   ]
  },
  {
   "cell_type": "code",
   "execution_count": 18,
   "id": "animal-issue",
   "metadata": {},
   "outputs": [],
   "source": [
    "educ_final = gpd.GeoDataFrame(pd.concat([educ,educ_fata],ignore_index=True))"
   ]
  },
  {
   "cell_type": "code",
   "execution_count": 19,
   "id": "behind-savings",
   "metadata": {},
   "outputs": [],
   "source": [
    "educ_final.reset_index(drop=True,inplace=True)"
   ]
  },
  {
   "cell_type": "code",
   "execution_count": 20,
   "id": "initial-guinea",
   "metadata": {},
   "outputs": [
    {
     "name": "stderr",
     "output_type": "stream",
     "text": [
      "/Users/robert/.pyenv/versions/geo/lib/python3.9/site-packages/geopandas/geodataframe.py:1321: UserWarning: Geometry column does not contain geometry.\n",
      "  warnings.warn(\"Geometry column does not contain geometry.\")\n"
     ]
    }
   ],
   "source": [
    "# convert everything to title case so it's nice and readable\n",
    "\n",
    "# vectorized version\n",
    "for column in educ_final.columns:\n",
    "    if type(column) == str:\n",
    "        educ_final[column] = educ_final[column].astype(str).str.title()\n",
    "    else:\n",
    "        None\n",
    "\n",
    "# # non-vector version\n",
    "# educ_final = educ_final.applymap(lambda x: str(x).title() if type(x) == str else x)"
   ]
  },
  {
   "cell_type": "code",
   "execution_count": 21,
   "id": "rolled-think",
   "metadata": {},
   "outputs": [
    {
     "data": {
      "text/html": [
       "<div>\n",
       "<style scoped>\n",
       "    .dataframe tbody tr th:only-of-type {\n",
       "        vertical-align: middle;\n",
       "    }\n",
       "\n",
       "    .dataframe tbody tr th {\n",
       "        vertical-align: top;\n",
       "    }\n",
       "\n",
       "    .dataframe thead th {\n",
       "        text-align: right;\n",
       "    }\n",
       "</style>\n",
       "<table border=\"1\" class=\"dataframe\">\n",
       "  <thead>\n",
       "    <tr style=\"text-align: right;\">\n",
       "      <th></th>\n",
       "      <th>Name</th>\n",
       "      <th>Scode</th>\n",
       "      <th>SchoolName</th>\n",
       "      <th>PresentSta</th>\n",
       "      <th>Gender</th>\n",
       "      <th>School_Level</th>\n",
       "      <th>GeoLocatio</th>\n",
       "      <th>Village</th>\n",
       "      <th>PostOffice</th>\n",
       "      <th>UnionCounc</th>\n",
       "      <th>...</th>\n",
       "      <th>path</th>\n",
       "      <th>geometry</th>\n",
       "      <th>FATA_SCode</th>\n",
       "      <th>Agency_Nam</th>\n",
       "      <th>Institution_Code</th>\n",
       "      <th>FATA_Level</th>\n",
       "      <th>Altitude</th>\n",
       "      <th>Altitude_S</th>\n",
       "      <th>x</th>\n",
       "      <th>y</th>\n",
       "    </tr>\n",
       "  </thead>\n",
       "  <tbody>\n",
       "    <tr>\n",
       "      <th>0</th>\n",
       "      <td>Gps Amber Banda</td>\n",
       "      <td>16371</td>\n",
       "      <td>Gps Amber Banda</td>\n",
       "      <td>Functional</td>\n",
       "      <td>Boys</td>\n",
       "      <td>Primary</td>\n",
       "      <td>Urban</td>\n",
       "      <td>Ambar Banda</td>\n",
       "      <td>Nasrat Khel</td>\n",
       "      <td>Nasrat Khel</td>\n",
       "      <td>...</td>\n",
       "      <td>None</td>\n",
       "      <td>Point (71.3802 33.5829)</td>\n",
       "      <td>Nan</td>\n",
       "      <td>Nan</td>\n",
       "      <td>Nan</td>\n",
       "      <td>Nan</td>\n",
       "      <td>Nan</td>\n",
       "      <td>Nan</td>\n",
       "      <td>Nan</td>\n",
       "      <td>Nan</td>\n",
       "    </tr>\n",
       "    <tr>\n",
       "      <th>1</th>\n",
       "      <td>Gps Behzadi Railway Kohat</td>\n",
       "      <td>16372</td>\n",
       "      <td>Gps Behzadi Railway Kohat</td>\n",
       "      <td>Functional</td>\n",
       "      <td>Boys</td>\n",
       "      <td>Primary</td>\n",
       "      <td>Urban</td>\n",
       "      <td>Behzadi Railway Kohat</td>\n",
       "      <td>Behzadi</td>\n",
       "      <td>Urban -I</td>\n",
       "      <td>...</td>\n",
       "      <td>None</td>\n",
       "      <td>Point (71.4509 33.5725)</td>\n",
       "      <td>Nan</td>\n",
       "      <td>Nan</td>\n",
       "      <td>Nan</td>\n",
       "      <td>Nan</td>\n",
       "      <td>Nan</td>\n",
       "      <td>Nan</td>\n",
       "      <td>Nan</td>\n",
       "      <td>Nan</td>\n",
       "    </tr>\n",
       "    <tr>\n",
       "      <th>2</th>\n",
       "      <td>Gps City Centre</td>\n",
       "      <td>16373</td>\n",
       "      <td>Gps City Centre</td>\n",
       "      <td>Functional</td>\n",
       "      <td>Boys</td>\n",
       "      <td>Primary</td>\n",
       "      <td>Urban</td>\n",
       "      <td>City Centre Kohat</td>\n",
       "      <td>Kohat</td>\n",
       "      <td>Urban -I</td>\n",
       "      <td>...</td>\n",
       "      <td>None</td>\n",
       "      <td>Point (71.4355 33.5866)</td>\n",
       "      <td>Nan</td>\n",
       "      <td>Nan</td>\n",
       "      <td>Nan</td>\n",
       "      <td>Nan</td>\n",
       "      <td>Nan</td>\n",
       "      <td>Nan</td>\n",
       "      <td>Nan</td>\n",
       "      <td>Nan</td>\n",
       "    </tr>\n",
       "    <tr>\n",
       "      <th>3</th>\n",
       "      <td>Gps Dheri Banda No.2</td>\n",
       "      <td>16374</td>\n",
       "      <td>Gps Dheri Banda No.2</td>\n",
       "      <td>Functional</td>\n",
       "      <td>Boys</td>\n",
       "      <td>Primary</td>\n",
       "      <td>Rural</td>\n",
       "      <td>Dheri Banda</td>\n",
       "      <td>Dhoda</td>\n",
       "      <td>Kharmatoo</td>\n",
       "      <td>...</td>\n",
       "      <td>None</td>\n",
       "      <td>Point (71.4951 33.5007)</td>\n",
       "      <td>Nan</td>\n",
       "      <td>Nan</td>\n",
       "      <td>Nan</td>\n",
       "      <td>Nan</td>\n",
       "      <td>Nan</td>\n",
       "      <td>Nan</td>\n",
       "      <td>Nan</td>\n",
       "      <td>Nan</td>\n",
       "    </tr>\n",
       "    <tr>\n",
       "      <th>4</th>\n",
       "      <td>Gps Gul Abad Chorlaki</td>\n",
       "      <td>16375</td>\n",
       "      <td>Gps Gul Abad Chorlaki</td>\n",
       "      <td>Functional</td>\n",
       "      <td>Boys</td>\n",
       "      <td>Primary</td>\n",
       "      <td>Urban</td>\n",
       "      <td>Chorlaki</td>\n",
       "      <td>Chorlaki</td>\n",
       "      <td>Chorlaki</td>\n",
       "      <td>...</td>\n",
       "      <td>None</td>\n",
       "      <td>Point (71.9107 33.5818)</td>\n",
       "      <td>Nan</td>\n",
       "      <td>Nan</td>\n",
       "      <td>Nan</td>\n",
       "      <td>Nan</td>\n",
       "      <td>Nan</td>\n",
       "      <td>Nan</td>\n",
       "      <td>Nan</td>\n",
       "      <td>Nan</td>\n",
       "    </tr>\n",
       "  </tbody>\n",
       "</table>\n",
       "<p>5 rows × 45 columns</p>\n",
       "</div>"
      ],
      "text/plain": [
       "                        Name  Scode                 SchoolName  PresentSta  \\\n",
       "0            Gps Amber Banda  16371            Gps Amber Banda  Functional   \n",
       "1  Gps Behzadi Railway Kohat  16372  Gps Behzadi Railway Kohat  Functional   \n",
       "2            Gps City Centre  16373            Gps City Centre  Functional   \n",
       "3       Gps Dheri Banda No.2  16374       Gps Dheri Banda No.2  Functional   \n",
       "4      Gps Gul Abad Chorlaki  16375      Gps Gul Abad Chorlaki  Functional   \n",
       "\n",
       "  Gender School_Level GeoLocatio                Village   PostOffice  \\\n",
       "0   Boys      Primary      Urban            Ambar Banda  Nasrat Khel   \n",
       "1   Boys      Primary      Urban  Behzadi Railway Kohat      Behzadi   \n",
       "2   Boys      Primary      Urban      City Centre Kohat        Kohat   \n",
       "3   Boys      Primary      Rural            Dheri Banda        Dhoda   \n",
       "4   Boys      Primary      Urban               Chorlaki     Chorlaki   \n",
       "\n",
       "    UnionCounc  ...  path                 geometry FATA_SCode Agency_Nam  \\\n",
       "0  Nasrat Khel  ...  None  Point (71.3802 33.5829)        Nan        Nan   \n",
       "1     Urban -I  ...  None  Point (71.4509 33.5725)        Nan        Nan   \n",
       "2     Urban -I  ...  None  Point (71.4355 33.5866)        Nan        Nan   \n",
       "3    Kharmatoo  ...  None  Point (71.4951 33.5007)        Nan        Nan   \n",
       "4     Chorlaki  ...  None  Point (71.9107 33.5818)        Nan        Nan   \n",
       "\n",
       "  Institution_Code FATA_Level Altitude Altitude_S    x    y  \n",
       "0              Nan        Nan      Nan        Nan  Nan  Nan  \n",
       "1              Nan        Nan      Nan        Nan  Nan  Nan  \n",
       "2              Nan        Nan      Nan        Nan  Nan  Nan  \n",
       "3              Nan        Nan      Nan        Nan  Nan  Nan  \n",
       "4              Nan        Nan      Nan        Nan  Nan  Nan  \n",
       "\n",
       "[5 rows x 45 columns]"
      ]
     },
     "execution_count": 21,
     "metadata": {},
     "output_type": "execute_result"
    }
   ],
   "source": [
    "educ_final.head()"
   ]
  },
  {
   "cell_type": "markdown",
   "id": "labeled-boutique",
   "metadata": {},
   "source": [
    "Fixing some issues with the geometry column"
   ]
  },
  {
   "cell_type": "code",
   "execution_count": 22,
   "id": "specialized-demand",
   "metadata": {},
   "outputs": [],
   "source": [
    "# define a function to only return validly loaded geometries\n",
    "\n",
    "def wkt_loads(x):\n",
    "    try:\n",
    "        return shapely.wkt.loads(x)\n",
    "    except Exception:\n",
    "        return None\n",
    "    \n",
    "# run the function, in the process removing crap geometries\n",
    "educ_final['geometry'] = educ_final.geometry.apply(wkt_loads)\n",
    "educ_final = educ_final.dropna(subset=['geometry'])\n",
    "\n",
    "# # set the geometry column back and calculate new WGS84 Lat/Longs\n",
    "educ_final = educ_final.set_geometry('geometry')\n",
    "educ_final['Latitude'] = educ_final.geometry.y\n",
    "educ_final['Longitude'] = educ_final.geometry.x\n",
    "\n",
    "# # drop the old lat / longs, which are duplicate column names and thus throw GPKG errors\n",
    "educ_final.drop(['X','Y','x','y'],axis=1,inplace=True)"
   ]
  },
  {
   "cell_type": "markdown",
   "id": "earlier-medicare",
   "metadata": {},
   "source": [
    "#### Dividing up"
   ]
  },
  {
   "cell_type": "markdown",
   "id": "specified-proportion",
   "metadata": {},
   "source": [
    "Some schools are marked as `Boys` or `Girls` but contain populations of both. We are marked these as mixed, then excluding them from the Boys/Girls files"
   ]
  },
  {
   "cell_type": "code",
   "execution_count": 25,
   "id": "alternative-change",
   "metadata": {},
   "outputs": [],
   "source": [
    "educ_final.Boys = educ_final.Boys.astype(float)\n",
    "educ_final.Girls = educ_final.Girls.astype(float)"
   ]
  },
  {
   "cell_type": "code",
   "execution_count": 26,
   "id": "interesting-reasoning",
   "metadata": {},
   "outputs": [
    {
     "name": "stderr",
     "output_type": "stream",
     "text": [
      "/Users/robert/.pyenv/versions/geo/lib/python3.9/site-packages/geopandas/geodataframe.py:182: UserWarning: Pandas doesn't allow columns to be created via a new attribute name - see https://pandas.pydata.org/pandas-docs/stable/indexing.html#attribute-access\n",
      "  super(GeoDataFrame, self).__setattr__(attr, val)\n"
     ]
    }
   ],
   "source": [
    "# more flexible definitions of Gender to reflect reality of mixed attendance\n",
    "# educ_final.GenderAlt = np.where((educ_final.Boys > 0) & (educ_final.Gender == 'Girls'),'Girls_with_boys',educ_final.Gender)\n",
    "# educ_final.GenderAlt = np.where((educ_final.Girls > 0) & (educ_final.Gender == 'Boys'),'Boys_with_girls',educ_final.Gender)\n",
    "\n",
    "# for now using the marked gender for a simpler analysis\n",
    "educ_final.GenderAlt = educ_final.Gender"
   ]
  },
  {
   "cell_type": "code",
   "execution_count": 27,
   "id": "eastern-surgeon",
   "metadata": {},
   "outputs": [],
   "source": [
    "mixed_educ = educ_final[educ_final.GenderAlt == 'Mixed']\n",
    "boys_educ = educ_final[educ_final.GenderAlt == 'Boys']\n",
    "girls_educ = educ_final[educ_final.GenderAlt == 'Girls']"
   ]
  },
  {
   "cell_type": "code",
   "execution_count": 28,
   "id": "bacterial-ordinary",
   "metadata": {},
   "outputs": [],
   "source": [
    "# # all\n",
    "# prim_educ = educ_final[educ_final.School_Level == 'Primary']\n",
    "# mid_educ = educ_final[educ_final.School_Level == 'Middle']\n",
    "# high_educ = educ_final[educ_final.School_Level.isin(['High','Higher Secondary'])]\n",
    "\n",
    "# by boys\n",
    "prim_educ_boys = boys_educ[boys_educ.School_Level == 'Primary']\n",
    "mid_educ_boys = boys_educ[boys_educ.School_Level == 'Middle']\n",
    "high_educ_boys = boys_educ[boys_educ.School_Level.isin(['High','Higher Secondary'])]\n",
    "\n",
    "# by girls\n",
    "prim_educ_girls = girls_educ[girls_educ.School_Level == 'Primary']\n",
    "mid_educ_girls = girls_educ[girls_educ.School_Level == 'Middle']\n",
    "high_educ_girls = girls_educ[girls_educ.School_Level.isin(['High','Higher Secondary'])]"
   ]
  },
  {
   "cell_type": "code",
   "execution_count": 29,
   "id": "thick-elite",
   "metadata": {},
   "outputs": [
    {
     "name": "stdout",
     "output_type": "stream",
     "text": [
      "21111\n",
      "12431\n",
      "0\n"
     ]
    }
   ],
   "source": [
    "print(len(boys_educ))\n",
    "print(len(girls_educ))\n",
    "print(len(mixed_educ))"
   ]
  },
  {
   "cell_type": "code",
   "execution_count": 31,
   "id": "moved-engineer",
   "metadata": {},
   "outputs": [
    {
     "name": "stdout",
     "output_type": "stream",
     "text": [
      "17462\n",
      "1785\n",
      "1822\n",
      "10381\n",
      "1156\n",
      "835\n"
     ]
    }
   ],
   "source": [
    "print(len(prim_educ_boys))\n",
    "print(len(mid_educ_boys))\n",
    "print(len(high_educ_boys))\n",
    "\n",
    "print(len(prim_educ_girls))\n",
    "print(len(mid_educ_girls))\n",
    "print(len(high_educ_girls))"
   ]
  },
  {
   "cell_type": "markdown",
   "id": "becoming-malpractice",
   "metadata": {},
   "source": [
    "#### Export"
   ]
  },
  {
   "cell_type": "code",
   "execution_count": 30,
   "id": "future-cross",
   "metadata": {},
   "outputs": [],
   "source": [
    "# # all\n",
    "\n",
    "# prim_educ.to_file(os.path.join(geo_pth,'Education/Destinations/KP_education_primary.gpkg'),driver='GPKG')\n",
    "# mid_educ.to_file(os.path.join(geo_pth,'Education/Destinations/KP_education_middle.gpkg'),driver='GPKG')\n",
    "# high_educ.to_file(os.path.join(geo_pth,'Education/Destinations/KP_education_high.gpkg'),driver='GPKG')\n",
    "\n",
    "# boys\n",
    "\n",
    "prim_educ_boys.to_file(os.path.join(geo_pth,'Education/Destinations/KP_education_boys_primary.gpkg'),driver='GPKG')\n",
    "mid_educ_boys.to_file(os.path.join(geo_pth,'Education/Destinations/KP_education_boys_middle.gpkg'),driver='GPKG')\n",
    "high_educ_boys.to_file(os.path.join(geo_pth,'Education/Destinations/KP_education_boys_high.gpkg'),driver='GPKG')\n",
    "\n",
    "# girls\n",
    "\n",
    "prim_educ_girls.to_file(os.path.join(geo_pth,'Education/Destinations/KP_education_girls_primary.gpkg'),driver='GPKG')\n",
    "mid_educ_girls.to_file(os.path.join(geo_pth,'Education/Destinations/KP_education_girls_middle.gpkg'),driver='GPKG')\n",
    "high_educ_girls.to_file(os.path.join(geo_pth,'Education/Destinations/KP_education_girls_high.gpkg'),driver='GPKG')"
   ]
  },
  {
   "cell_type": "code",
   "execution_count": 62,
   "id": "statistical-breach",
   "metadata": {},
   "outputs": [],
   "source": [
    "boys_educ.to_file(os.path.join(geo_pth,'Education/Destinations/KP_education_boys.gpkg'),driver='GPKG')\n",
    "girls_educ.to_file(os.path.join(geo_pth,'Education/Destinations/KP_education_girls.gpkg'),driver='GPKG')\n",
    "# mixed_educ.to_file(os.path.join(geo_pth,'Education/Destinations/KP_education_mixed.gpkg'),driver='GPKG')"
   ]
  },
  {
   "cell_type": "code",
   "execution_count": 63,
   "id": "every-advertiser",
   "metadata": {},
   "outputs": [],
   "source": [
    "educ_final.to_file(os.path.join(geo_pth,'Education/Destinations/KP_education_clean.gpkg'),driver='GPKG')"
   ]
  },
  {
   "cell_type": "markdown",
   "id": "tamil-budget",
   "metadata": {},
   "source": [
    "## Health"
   ]
  },
  {
   "cell_type": "code",
   "execution_count": 5,
   "id": "inner-modem",
   "metadata": {},
   "outputs": [
    {
     "data": {
      "text/html": [
       "<div>\n",
       "<style scoped>\n",
       "    .dataframe tbody tr th:only-of-type {\n",
       "        vertical-align: middle;\n",
       "    }\n",
       "\n",
       "    .dataframe tbody tr th {\n",
       "        vertical-align: top;\n",
       "    }\n",
       "\n",
       "    .dataframe thead th {\n",
       "        text-align: right;\n",
       "    }\n",
       "</style>\n",
       "<table border=\"1\" class=\"dataframe\">\n",
       "  <thead>\n",
       "    <tr style=\"text-align: right;\">\n",
       "      <th></th>\n",
       "      <th>OBJECTID</th>\n",
       "      <th>Id</th>\n",
       "      <th>Category</th>\n",
       "      <th>Sub_Cat</th>\n",
       "      <th>Gov_Pvt</th>\n",
       "      <th>Name</th>\n",
       "      <th>Id_No</th>\n",
       "      <th>Class</th>\n",
       "      <th>Beds</th>\n",
       "      <th>Locality</th>\n",
       "      <th>...</th>\n",
       "      <th>Province</th>\n",
       "      <th>Phone</th>\n",
       "      <th>Mobile</th>\n",
       "      <th>Email</th>\n",
       "      <th>Url</th>\n",
       "      <th>Address</th>\n",
       "      <th>Latitude</th>\n",
       "      <th>Longitude</th>\n",
       "      <th>WEBSITE</th>\n",
       "      <th>geometry</th>\n",
       "    </tr>\n",
       "  </thead>\n",
       "  <tbody>\n",
       "    <tr>\n",
       "      <th>0</th>\n",
       "      <td>1</td>\n",
       "      <td>0.0</td>\n",
       "      <td>GENERAL PHYSICIAN</td>\n",
       "      <td>CLINIC</td>\n",
       "      <td>PRIVATE</td>\n",
       "      <td>SHAEEN CLINIC</td>\n",
       "      <td>None</td>\n",
       "      <td>None</td>\n",
       "      <td>-</td>\n",
       "      <td>None</td>\n",
       "      <td>...</td>\n",
       "      <td>KHYBER PAKHTUNKHWA</td>\n",
       "      <td>None</td>\n",
       "      <td>None</td>\n",
       "      <td>None</td>\n",
       "      <td>None</td>\n",
       "      <td>None</td>\n",
       "      <td>34.170730</td>\n",
       "      <td>73.258978</td>\n",
       "      <td>http://www.alhasan.com/</td>\n",
       "      <td>POINT (73.25898 34.17073)</td>\n",
       "    </tr>\n",
       "    <tr>\n",
       "      <th>1</th>\n",
       "      <td>2</td>\n",
       "      <td>0.0</td>\n",
       "      <td>GENERAL PHYSICIAN</td>\n",
       "      <td>CLINIC</td>\n",
       "      <td>PRIVATE</td>\n",
       "      <td>BANO CLINIC</td>\n",
       "      <td>None</td>\n",
       "      <td>None</td>\n",
       "      <td>-</td>\n",
       "      <td>None</td>\n",
       "      <td>...</td>\n",
       "      <td>KHYBER PAKHTUNKHWA</td>\n",
       "      <td>None</td>\n",
       "      <td>None</td>\n",
       "      <td>None</td>\n",
       "      <td>None</td>\n",
       "      <td>None</td>\n",
       "      <td>34.169540</td>\n",
       "      <td>73.259008</td>\n",
       "      <td>http://www.alhasan.com/</td>\n",
       "      <td>POINT (73.25901 34.16954)</td>\n",
       "    </tr>\n",
       "    <tr>\n",
       "      <th>2</th>\n",
       "      <td>3</td>\n",
       "      <td>0.0</td>\n",
       "      <td>GENERAL PHYSICIAN</td>\n",
       "      <td>CLINIC</td>\n",
       "      <td>PRIVATE</td>\n",
       "      <td>MANGAL POLY CLINIC</td>\n",
       "      <td>None</td>\n",
       "      <td>None</td>\n",
       "      <td>-</td>\n",
       "      <td>None</td>\n",
       "      <td>...</td>\n",
       "      <td>KHYBER PAKHTUNKHWA</td>\n",
       "      <td>None</td>\n",
       "      <td>None</td>\n",
       "      <td>None</td>\n",
       "      <td>None</td>\n",
       "      <td>None</td>\n",
       "      <td>34.157437</td>\n",
       "      <td>73.263336</td>\n",
       "      <td>http://www.alhasan.com/</td>\n",
       "      <td>POINT (73.26334 34.15744)</td>\n",
       "    </tr>\n",
       "    <tr>\n",
       "      <th>3</th>\n",
       "      <td>4</td>\n",
       "      <td>0.0</td>\n",
       "      <td>GENERAL PHYSICIAN</td>\n",
       "      <td>CLINIC</td>\n",
       "      <td>PRIVATE</td>\n",
       "      <td>NUSRAT MEHMOOD CLINIC</td>\n",
       "      <td>None</td>\n",
       "      <td>None</td>\n",
       "      <td>-</td>\n",
       "      <td>None</td>\n",
       "      <td>...</td>\n",
       "      <td>KHYBER PAKHTUNKHWA</td>\n",
       "      <td>None</td>\n",
       "      <td>None</td>\n",
       "      <td>None</td>\n",
       "      <td>None</td>\n",
       "      <td>None</td>\n",
       "      <td>34.147857</td>\n",
       "      <td>73.262899</td>\n",
       "      <td>http://www.alhasan.com/</td>\n",
       "      <td>POINT (73.26290 34.14786)</td>\n",
       "    </tr>\n",
       "    <tr>\n",
       "      <th>4</th>\n",
       "      <td>5</td>\n",
       "      <td>0.0</td>\n",
       "      <td>GENERAL HOSPITALS</td>\n",
       "      <td>MEDICAL FACILITIES</td>\n",
       "      <td>PRIVATE</td>\n",
       "      <td>ALTAF HOSPITAL</td>\n",
       "      <td>None</td>\n",
       "      <td>None</td>\n",
       "      <td>-</td>\n",
       "      <td>None</td>\n",
       "      <td>...</td>\n",
       "      <td>KHYBER PAKHTUNKHWA</td>\n",
       "      <td>None</td>\n",
       "      <td>None</td>\n",
       "      <td>None</td>\n",
       "      <td>None</td>\n",
       "      <td>None</td>\n",
       "      <td>34.145415</td>\n",
       "      <td>73.218434</td>\n",
       "      <td>http://www.alhasan.com/</td>\n",
       "      <td>POINT (73.21843 34.14542)</td>\n",
       "    </tr>\n",
       "  </tbody>\n",
       "</table>\n",
       "<p>5 rows × 26 columns</p>\n",
       "</div>"
      ],
      "text/plain": [
       "   OBJECTID   Id           Category             Sub_Cat  Gov_Pvt  \\\n",
       "0         1  0.0  GENERAL PHYSICIAN              CLINIC  PRIVATE   \n",
       "1         2  0.0  GENERAL PHYSICIAN              CLINIC  PRIVATE   \n",
       "2         3  0.0  GENERAL PHYSICIAN              CLINIC  PRIVATE   \n",
       "3         4  0.0  GENERAL PHYSICIAN              CLINIC  PRIVATE   \n",
       "4         5  0.0  GENERAL HOSPITALS  MEDICAL FACILITIES  PRIVATE   \n",
       "\n",
       "                    Name Id_No Class Beds Locality  ...            Province  \\\n",
       "0          SHAEEN CLINIC  None  None    -     None  ...  KHYBER PAKHTUNKHWA   \n",
       "1            BANO CLINIC  None  None    -     None  ...  KHYBER PAKHTUNKHWA   \n",
       "2     MANGAL POLY CLINIC  None  None    -     None  ...  KHYBER PAKHTUNKHWA   \n",
       "3  NUSRAT MEHMOOD CLINIC  None  None    -     None  ...  KHYBER PAKHTUNKHWA   \n",
       "4         ALTAF HOSPITAL  None  None    -     None  ...  KHYBER PAKHTUNKHWA   \n",
       "\n",
       "  Phone Mobile Email   Url Address   Latitude  Longitude  \\\n",
       "0  None   None  None  None    None  34.170730  73.258978   \n",
       "1  None   None  None  None    None  34.169540  73.259008   \n",
       "2  None   None  None  None    None  34.157437  73.263336   \n",
       "3  None   None  None  None    None  34.147857  73.262899   \n",
       "4  None   None  None  None    None  34.145415  73.218434   \n",
       "\n",
       "                   WEBSITE                   geometry  \n",
       "0  http://www.alhasan.com/  POINT (73.25898 34.17073)  \n",
       "1  http://www.alhasan.com/  POINT (73.25901 34.16954)  \n",
       "2  http://www.alhasan.com/  POINT (73.26334 34.15744)  \n",
       "3  http://www.alhasan.com/  POINT (73.26290 34.14786)  \n",
       "4  http://www.alhasan.com/  POINT (73.21843 34.14542)  \n",
       "\n",
       "[5 rows x 26 columns]"
      ]
     },
     "execution_count": 5,
     "metadata": {},
     "output_type": "execute_result"
    }
   ],
   "source": [
    "health.head()"
   ]
  },
  {
   "cell_type": "markdown",
   "id": "statewide-patrick",
   "metadata": {},
   "source": [
    "See unedited categories lists"
   ]
  },
  {
   "cell_type": "code",
   "execution_count": 92,
   "id": "swedish-reputation",
   "metadata": {},
   "outputs": [
    {
     "data": {
      "text/plain": [
       "array(['GENERAL PHYSICIAN', 'GENERAL HOSPITALS', 'DENTAL CLINIC',\n",
       "       'MEDICAL STORES', 'HOMEOPATHIC', 'MATERNITY HOME',\n",
       "       'ROUTINE TEST LABORATORIES', 'VETERINARY', 'SPECIALIST',\n",
       "       'DIAGNOSTIC CENTRE', 'OPTICS', 'CLINICAL LABORATORIES',\n",
       "       'BASIC HEALTH UNIT', 'DISTRICT HEADQUARTER HOSPITAL',\n",
       "       'CHILDREN HOSPITAL', 'DISPENSARY', 'SUB-HEALTH CENTER',\n",
       "       'MCH CENTRE', 'LEPROSY CENTRE', 'RURAL HEALTH CENTER', 'TB',\n",
       "       'TEHSIL HEADQUARTER HOSPITAL', 'DAWAKHANA',\n",
       "       'AGENCY HEADQUARTER HOSPITAL', 'BLOOD BANK', 'AMBULANCE SERVICE',\n",
       "       'FAMILY WELFARE CENTER', 'URBAN HEALTH CENTRE', 'MORGUE'],\n",
       "      dtype=object)"
      ]
     },
     "execution_count": 92,
     "metadata": {},
     "output_type": "execute_result"
    }
   ],
   "source": [
    "health.Category.unique()"
   ]
  },
  {
   "cell_type": "code",
   "execution_count": 93,
   "id": "funky-joining",
   "metadata": {},
   "outputs": [
    {
     "data": {
      "text/plain": [
       "array(['CLINIC', 'MEDICAL FACILITIES', 'MEDICAL SERVICES', 'BHU', 'DHQ',\n",
       "       'SHC', 'MCH', 'RHC', 'THQ', 'AHQ', 'FWC', 'UHC'], dtype=object)"
      ]
     },
     "execution_count": 93,
     "metadata": {},
     "output_type": "execute_result"
    }
   ],
   "source": [
    "health.Sub_Cat.unique()"
   ]
  },
  {
   "cell_type": "markdown",
   "id": "better-weather",
   "metadata": {},
   "source": [
    "Filter down"
   ]
  },
  {
   "cell_type": "code",
   "execution_count": 94,
   "id": "acknowledged-night",
   "metadata": {},
   "outputs": [],
   "source": [
    "drop_filter = ['HOMEOPATHIC','DAWAKHANA','MORGUE','AMBULANCE SERVICE','MEDICAL STORES','MATERNITY HOME',\\\n",
    "               'ROUTINE TEST LABORATORIES','CLINICAL LABORATORIES','DENTAL CLINIC','OPTICS','VETERINARY','MORGUE','BLOOD BANK']"
   ]
  },
  {
   "cell_type": "code",
   "execution_count": 95,
   "id": "fatty-wildlife",
   "metadata": {},
   "outputs": [],
   "source": [
    "health = health[~health.Category.isin(drop_filter)]"
   ]
  },
  {
   "cell_type": "code",
   "execution_count": 96,
   "id": "processed-corrections",
   "metadata": {},
   "outputs": [
    {
     "data": {
      "text/plain": [
       "array(['GENERAL PHYSICIAN', 'GENERAL HOSPITALS', 'SPECIALIST',\n",
       "       'DIAGNOSTIC CENTRE', 'BASIC HEALTH UNIT',\n",
       "       'DISTRICT HEADQUARTER HOSPITAL', 'CHILDREN HOSPITAL', 'DISPENSARY',\n",
       "       'SUB-HEALTH CENTER', 'MCH CENTRE', 'LEPROSY CENTRE',\n",
       "       'RURAL HEALTH CENTER', 'TB', 'TEHSIL HEADQUARTER HOSPITAL',\n",
       "       'AGENCY HEADQUARTER HOSPITAL', 'FAMILY WELFARE CENTER',\n",
       "       'URBAN HEALTH CENTRE'], dtype=object)"
      ]
     },
     "execution_count": 96,
     "metadata": {},
     "output_type": "execute_result"
    }
   ],
   "source": [
    "health.Category.unique()"
   ]
  },
  {
   "cell_type": "code",
   "execution_count": 97,
   "id": "clean-integrity",
   "metadata": {},
   "outputs": [
    {
     "data": {
      "text/plain": [
       "array(['CLINIC', 'MEDICAL FACILITIES', 'MEDICAL SERVICES', 'BHU', 'DHQ',\n",
       "       'SHC', 'MCH', 'RHC', 'THQ', 'AHQ', 'FWC', 'UHC'], dtype=object)"
      ]
     },
     "execution_count": 97,
     "metadata": {},
     "output_type": "execute_result"
    }
   ],
   "source": [
    "health.Sub_Cat.unique()"
   ]
  },
  {
   "cell_type": "code",
   "execution_count": 88,
   "id": "soviet-friendly",
   "metadata": {},
   "outputs": [
    {
     "data": {
      "text/plain": [
       "array(['GENERAL HOSPITALS', 'CHILDREN HOSPITAL', 'LEPROSY CENTRE', 'TB'],\n",
       "      dtype=object)"
      ]
     },
     "execution_count": 88,
     "metadata": {},
     "output_type": "execute_result"
    }
   ],
   "source": [
    "health[health.Sub_Cat == 'MEDICAL FACILITIES'].Category.unique()"
   ]
  },
  {
   "cell_type": "markdown",
   "id": "featured-surname",
   "metadata": {},
   "source": [
    "#### Primary / Secondary / Tertiary"
   ]
  },
  {
   "cell_type": "markdown",
   "id": "spiritual-profession",
   "metadata": {},
   "source": [
    "Rural Health Centers - RHC, Basic Health Units - BHU, Maternal and Child Health Centers – MCHC, and Dispensaries, Private General Physician clinics, Private Maternal and Child Health Hospitals, Family welfare centers, vertical program centers (if there is any separate center)"
   ]
  },
  {
   "cell_type": "code",
   "execution_count": 77,
   "id": "decent-comedy",
   "metadata": {},
   "outputs": [],
   "source": [
    "# prim_health_filter = ['RHC','BHU',',CH','FWC',]\n",
    "prim_health_filter = ['GENERAL PHYSICIAN','FAMILY WELFARE CENTER','MCH CENTRE','CHILDREN HOSPITAL',\\\n",
    "                      'BASIC HEALTH UNIT','URBAN HEALTH CENTRE','RURAL HEALTH CENTER','SUB-HEALTH CENTER']"
   ]
  },
  {
   "cell_type": "code",
   "execution_count": 78,
   "id": "eligible-movement",
   "metadata": {},
   "outputs": [],
   "source": [
    "prim_health = health[health.Category.isin(prim_health_filter) == True]"
   ]
  },
  {
   "cell_type": "code",
   "execution_count": 79,
   "id": "engaged-puppy",
   "metadata": {},
   "outputs": [
    {
     "data": {
      "text/plain": [
       "10892"
      ]
     },
     "execution_count": 79,
     "metadata": {},
     "output_type": "execute_result"
    }
   ],
   "source": [
    "len(prim_health)"
   ]
  },
  {
   "cell_type": "markdown",
   "id": "banned-growing",
   "metadata": {},
   "source": [
    "Tehsil Headquarter Hospital – THQ, and District Headquarter Hospital - DHQ, Private Multi-specialty Hospitals, Public/Private Diagnostic Centers,"
   ]
  },
  {
   "cell_type": "code",
   "execution_count": 42,
   "id": "excited-patch",
   "metadata": {},
   "outputs": [],
   "source": [
    "sec_health_filter = ['DIAGNOSTIC CENTRE',\\\n",
    "                     'TEHSIL HEADQUARTER HOSPITAL','DISTRICT HEADQAURTER HOSPITAL','GENERAL HOSPITALS']"
   ]
  },
  {
   "cell_type": "code",
   "execution_count": 71,
   "id": "welsh-tattoo",
   "metadata": {},
   "outputs": [],
   "source": [
    "sec_health = health[health.Category.isin(sec_health_filter) == True]"
   ]
  },
  {
   "cell_type": "code",
   "execution_count": 72,
   "id": "typical-adventure",
   "metadata": {},
   "outputs": [
    {
     "data": {
      "text/plain": [
       "4073"
      ]
     },
     "execution_count": 72,
     "metadata": {},
     "output_type": "execute_result"
    }
   ],
   "source": [
    "len(sec_health)"
   ]
  },
  {
   "cell_type": "markdown",
   "id": "rising-waters",
   "metadata": {},
   "source": [
    "Teaching Hospitals, Specialized Hospital and any Private Teaching Hospital  "
   ]
  },
  {
   "cell_type": "code",
   "execution_count": 80,
   "id": "increased-allowance",
   "metadata": {},
   "outputs": [],
   "source": [
    "tert_health_filter = ['SPECIALIST','AGENCY HEADQUARTER HOSPITAL']"
   ]
  },
  {
   "cell_type": "code",
   "execution_count": 81,
   "id": "ethical-michael",
   "metadata": {},
   "outputs": [],
   "source": [
    "tert_health = health[health.Category.isin(tert_health_filter) == True]"
   ]
  },
  {
   "cell_type": "code",
   "execution_count": 82,
   "id": "damaged-theory",
   "metadata": {},
   "outputs": [
    {
     "data": {
      "text/plain": [
       "465"
      ]
     },
     "execution_count": 82,
     "metadata": {},
     "output_type": "execute_result"
    }
   ],
   "source": [
    "len(tert_health)"
   ]
  },
  {
   "cell_type": "markdown",
   "id": "electronic-garlic",
   "metadata": {},
   "source": [
    "#### Private vs. public"
   ]
  },
  {
   "cell_type": "code",
   "execution_count": 47,
   "id": "suburban-exclusive",
   "metadata": {},
   "outputs": [
    {
     "data": {
      "text/plain": [
       "array(['PRIVATE', 'GOVERNMENT'], dtype=object)"
      ]
     },
     "execution_count": 47,
     "metadata": {},
     "output_type": "execute_result"
    }
   ],
   "source": [
    "health.Gov_Pvt.unique()"
   ]
  },
  {
   "cell_type": "code",
   "execution_count": 105,
   "id": "comic-reply",
   "metadata": {},
   "outputs": [],
   "source": [
    "private_health = health[health['Gov_Pvt'] == 'PRIVATE']\n",
    "public_health = health[health['Gov_Pvt'] == 'GOVERNMENT']"
   ]
  },
  {
   "cell_type": "code",
   "execution_count": 106,
   "id": "promising-smart",
   "metadata": {},
   "outputs": [
    {
     "name": "stdout",
     "output_type": "stream",
     "text": [
      "9745\n",
      "5881\n"
     ]
    }
   ],
   "source": [
    "print(len(private))\n",
    "print(len(public))"
   ]
  },
  {
   "cell_type": "markdown",
   "id": "constant-contribution",
   "metadata": {},
   "source": [
    "#### Pharamcies / Diagnostic Services"
   ]
  },
  {
   "cell_type": "code",
   "execution_count": 98,
   "id": "built-consumption",
   "metadata": {},
   "outputs": [],
   "source": [
    "pharms = health[health.Category.isin(['DIAGNOSTIC CENTRE','DISPENSARY'])]"
   ]
  },
  {
   "cell_type": "code",
   "execution_count": 126,
   "id": "irish-garage",
   "metadata": {},
   "outputs": [
    {
     "data": {
      "text/plain": [
       "1616"
      ]
     },
     "execution_count": 126,
     "metadata": {},
     "output_type": "execute_result"
    }
   ],
   "source": [
    "len(pharms)"
   ]
  },
  {
   "cell_type": "markdown",
   "id": "conscious-lottery",
   "metadata": {},
   "source": [
    "#### Family centers"
   ]
  },
  {
   "cell_type": "code",
   "execution_count": 100,
   "id": "enhanced-palace",
   "metadata": {},
   "outputs": [],
   "source": [
    "family_health = health[health.Category.isin(['MCH CENTRE','FAMILY WELFARE CENTER'])]"
   ]
  },
  {
   "cell_type": "code",
   "execution_count": 101,
   "id": "undefined-frame",
   "metadata": {},
   "outputs": [
    {
     "data": {
      "text/plain": [
       "174"
      ]
     },
     "execution_count": 101,
     "metadata": {},
     "output_type": "execute_result"
    }
   ],
   "source": [
    "len(family_health)"
   ]
  },
  {
   "cell_type": "markdown",
   "id": "greatest-nebraska",
   "metadata": {},
   "source": [
    "#### Tertiary health\n",
    "This data was prepared separately"
   ]
  },
  {
   "cell_type": "code",
   "execution_count": 31,
   "id": "funded-breed",
   "metadata": {},
   "outputs": [],
   "source": [
    "tert_health = 'Health/KP_health_tertiary.csv'"
   ]
  },
  {
   "cell_type": "code",
   "execution_count": 32,
   "id": "colonial-broad",
   "metadata": {},
   "outputs": [],
   "source": [
    "tert_health = pd.read_csv(os.path.join(geo_pth,tert_health))\n",
    "tert_health = gpd.GeoDataFrame(tert_health,geometry=gpd.points_from_xy(tert_health.Longitude, tert_health.Latitude))\n",
    "tert_health = tert_health.set_crs(4326).dropna()"
   ]
  },
  {
   "cell_type": "code",
   "execution_count": 33,
   "id": "concrete-baseball",
   "metadata": {},
   "outputs": [
    {
     "data": {
      "text/plain": [
       "<AxesSubplot:>"
      ]
     },
     "execution_count": 33,
     "metadata": {},
     "output_type": "execute_result"
    },
    {
     "data": {
      "image/png": "[encoded data removed]",
      "text/plain": [
       "<Figure size 432x288 with 1 Axes>"
      ]
     },
     "metadata": {
      "needs_background": "light"
     },
     "output_type": "display_data"
    }
   ],
   "source": [
    "tert_health.plot()"
   ]
  },
  {
   "cell_type": "markdown",
   "id": "cathedral-magazine",
   "metadata": {},
   "source": [
    "#### Export"
   ]
  },
  {
   "cell_type": "code",
   "execution_count": 34,
   "id": "medieval-alabama",
   "metadata": {},
   "outputs": [],
   "source": [
    "# prim_health.to_crs(dest_crs).to_file(os.path.join(geo_pth,'Health/Destinations/KP_health_primary.gpkg'),driver='GPKG')\n",
    "# sec_health.to_crs(dest_crs).to_file(os.path.join(geo_pth,'Health/Destinations/KP_health_secondary.gpkg'),driver='GPKG')\n",
    "tert_health.to_crs(dest_crs).to_file(os.path.join(geo_pth,'Health/Destinations/KP_health_tertiary.gpkg'),driver='GPKG')"
   ]
  },
  {
   "cell_type": "code",
   "execution_count": 332,
   "id": "aware-pacific",
   "metadata": {},
   "outputs": [],
   "source": [
    "public_health.to_crs(dest_crs).to_file(os.path.join(geo_pth,'Health/Destinations/KP_health_public.gpkg'),driver='GPKG')\n",
    "private_health.to_crs(dest_crs).to_file(os.path.join(geo_pth,'Health/Destinations/KP_health_private.gpkg'),driver='GPKG')\n",
    "pharms.to_crs(dest_crs).to_file(os.path.join(geo_pth,'Health/Destinations/KP_health_pharmacies.gpkg'),driver='GPKG')\n",
    "family_health.to_crs(dest_crs).to_file(os.path.join(geo_pth,'Health/Destinations/KP_health_family.gpkg'),driver='GPKG')"
   ]
  },
  {
   "cell_type": "markdown",
   "id": "trained-stuart",
   "metadata": {},
   "source": [
    "### Markets"
   ]
  },
  {
   "cell_type": "code",
   "execution_count": 417,
   "id": "entitled-voltage",
   "metadata": {},
   "outputs": [],
   "source": [
    "mkts.geometry = gpd.points_from_xy(mkts.Longitude,mkts.Latitude)"
   ]
  },
  {
   "cell_type": "code",
   "execution_count": 422,
   "id": "entitled-actress",
   "metadata": {},
   "outputs": [],
   "source": [
    "mkts = mkts.set_crs(dest_crs)"
   ]
  },
  {
   "cell_type": "code",
   "execution_count": 423,
   "id": "yellow-terrace",
   "metadata": {},
   "outputs": [
    {
     "data": {
      "text/html": [
       "<div>\n",
       "<style scoped>\n",
       "    .dataframe tbody tr th:only-of-type {\n",
       "        vertical-align: middle;\n",
       "    }\n",
       "\n",
       "    .dataframe tbody tr th {\n",
       "        vertical-align: top;\n",
       "    }\n",
       "\n",
       "    .dataframe thead th {\n",
       "        text-align: right;\n",
       "    }\n",
       "</style>\n",
       "<table border=\"1\" class=\"dataframe\">\n",
       "  <thead>\n",
       "    <tr style=\"text-align: right;\">\n",
       "      <th></th>\n",
       "      <th>Sl_no</th>\n",
       "      <th>Province</th>\n",
       "      <th>Divison</th>\n",
       "      <th>District</th>\n",
       "      <th>City/town</th>\n",
       "      <th>Address (road)</th>\n",
       "      <th>Markets</th>\n",
       "      <th>Type</th>\n",
       "      <th>Weight</th>\n",
       "      <th>Latitude</th>\n",
       "      <th>Longitude</th>\n",
       "      <th>geometry</th>\n",
       "    </tr>\n",
       "  </thead>\n",
       "  <tbody>\n",
       "    <tr>\n",
       "      <th>0</th>\n",
       "      <td>1</td>\n",
       "      <td>Khyber Pakhtunkhwa</td>\n",
       "      <td>Dera Ismail Khan</td>\n",
       "      <td>D I Khan</td>\n",
       "      <td>Dera Ismail Khan</td>\n",
       "      <td>Mustafa Lakhra Road</td>\n",
       "      <td>Nayi Sabzi Mandi Dikhan</td>\n",
       "      <td>NaN</td>\n",
       "      <td>1</td>\n",
       "      <td>31.866451</td>\n",
       "      <td>70.891419</td>\n",
       "      <td>POINT (70.89142 31.86645)</td>\n",
       "    </tr>\n",
       "    <tr>\n",
       "      <th>1</th>\n",
       "      <td>2</td>\n",
       "      <td>Khyber Pakhtunkhwa</td>\n",
       "      <td>Hazara</td>\n",
       "      <td>Abbottabad</td>\n",
       "      <td>Abbottabad</td>\n",
       "      <td>N-35 Road</td>\n",
       "      <td>Fruit &amp; Vegetable Market</td>\n",
       "      <td>Central market</td>\n",
       "      <td>3</td>\n",
       "      <td>34.136189</td>\n",
       "      <td>73.207415</td>\n",
       "      <td>POINT (73.20741 34.13619)</td>\n",
       "    </tr>\n",
       "    <tr>\n",
       "      <th>2</th>\n",
       "      <td>3</td>\n",
       "      <td>Khyber Pakhtunkhwa</td>\n",
       "      <td>Kohat</td>\n",
       "      <td>Kohat</td>\n",
       "      <td>Kohat</td>\n",
       "      <td>Kohat Road</td>\n",
       "      <td>Kohat Sabzi Mandi</td>\n",
       "      <td>Central market</td>\n",
       "      <td>3</td>\n",
       "      <td>33.587978</td>\n",
       "      <td>71.436807</td>\n",
       "      <td>POINT (71.43681 33.58798)</td>\n",
       "    </tr>\n",
       "    <tr>\n",
       "      <th>3</th>\n",
       "      <td>4</td>\n",
       "      <td>Khyber Pakhtunkhwa</td>\n",
       "      <td>Malakand</td>\n",
       "      <td>Swat</td>\n",
       "      <td>Mingora</td>\n",
       "      <td>Madyan Road</td>\n",
       "      <td>Swat Sabzi Mandi</td>\n",
       "      <td>Central market</td>\n",
       "      <td>3</td>\n",
       "      <td>34.781120</td>\n",
       "      <td>72.360524</td>\n",
       "      <td>POINT (72.36052 34.78112)</td>\n",
       "    </tr>\n",
       "    <tr>\n",
       "      <th>4</th>\n",
       "      <td>5</td>\n",
       "      <td>Khyber Pakhtunkhwa</td>\n",
       "      <td>Mardan</td>\n",
       "      <td>Mardan</td>\n",
       "      <td>Mardan</td>\n",
       "      <td>Charsadda Road</td>\n",
       "      <td>Sabzi Mandi</td>\n",
       "      <td>Central market</td>\n",
       "      <td>4</td>\n",
       "      <td>34.200557</td>\n",
       "      <td>72.047222</td>\n",
       "      <td>POINT (72.04722 34.20056)</td>\n",
       "    </tr>\n",
       "  </tbody>\n",
       "</table>\n",
       "</div>"
      ],
      "text/plain": [
       "   Sl_no            Province           Divison    District         City/town  \\\n",
       "0      1  Khyber Pakhtunkhwa  Dera Ismail Khan    D I Khan  Dera Ismail Khan   \n",
       "1      2  Khyber Pakhtunkhwa            Hazara  Abbottabad        Abbottabad   \n",
       "2      3  Khyber Pakhtunkhwa             Kohat       Kohat             Kohat   \n",
       "3      4  Khyber Pakhtunkhwa          Malakand        Swat           Mingora   \n",
       "4      5  Khyber Pakhtunkhwa            Mardan      Mardan            Mardan   \n",
       "\n",
       "        Address (road)                   Markets            Type  Weight  \\\n",
       "0  Mustafa Lakhra Road   Nayi Sabzi Mandi Dikhan             NaN       1   \n",
       "1            N-35 Road  Fruit & Vegetable Market  Central market       3   \n",
       "2           Kohat Road         Kohat Sabzi Mandi  Central market       3   \n",
       "3          Madyan Road          Swat Sabzi Mandi  Central market       3   \n",
       "4       Charsadda Road               Sabzi Mandi  Central market       4   \n",
       "\n",
       "    Latitude  Longitude                   geometry  \n",
       "0  31.866451  70.891419  POINT (70.89142 31.86645)  \n",
       "1  34.136189  73.207415  POINT (73.20741 34.13619)  \n",
       "2  33.587978  71.436807  POINT (71.43681 33.58798)  \n",
       "3  34.781120  72.360524  POINT (72.36052 34.78112)  \n",
       "4  34.200557  72.047222  POINT (72.04722 34.20056)  "
      ]
     },
     "execution_count": 423,
     "metadata": {},
     "output_type": "execute_result"
    }
   ],
   "source": [
    "mkts.head()"
   ]
  },
  {
   "cell_type": "code",
   "execution_count": 424,
   "id": "peripheral-carry",
   "metadata": {},
   "outputs": [],
   "source": [
    "central_mkts = mkts[mkts.Type == 'Central market']"
   ]
  },
  {
   "cell_type": "markdown",
   "id": "unexpected-description",
   "metadata": {},
   "source": [
    "#### Export"
   ]
  },
  {
   "cell_type": "code",
   "execution_count": 425,
   "id": "level-bedroom",
   "metadata": {},
   "outputs": [],
   "source": [
    "mkts.to_crs(dest_crs).to_file(os.path.join(geo_pth,'Markets/Destinations/KP_markets_Agr_All.gpkg'),driver='GPKG')\n",
    "central_mkts.to_crs(dest_crs).to_file(os.path.join(geo_pth,'Markets/Destinations/KP_markets_Agr_Central.gpkg'),driver='GPKG')"
   ]
  },
  {
   "cell_type": "markdown",
   "id": "integral-entrepreneur",
   "metadata": {},
   "source": [
    "### District centers"
   ]
  },
  {
   "cell_type": "markdown",
   "id": "fleet-marijuana",
   "metadata": {},
   "source": [
    "Load in and filter down political capitols from the US NGA's GeoNames database"
   ]
  },
  {
   "cell_type": "code",
   "execution_count": 6,
   "id": "electric-webmaster",
   "metadata": {},
   "outputs": [
    {
     "name": "stderr",
     "output_type": "stream",
     "text": [
      "/Users/robert/.pyenv/versions/geo/lib/python3.9/site-packages/geopandas/geodataframe.py:577: RuntimeWarning: Sequential read of iterator was interrupted. Resetting iterator. This can negatively impact the performance.\n",
      "  for feature in features_lst:\n"
     ]
    }
   ],
   "source": [
    "settle = gpd.read_file(os.path.join(geo_pth,'Settlements/KP_Settlements_NGA_2017.gpkg'),driver='GPKG')"
   ]
  },
  {
   "cell_type": "code",
   "execution_count": 7,
   "id": "modified-macintosh",
   "metadata": {},
   "outputs": [
    {
     "data": {
      "text/plain": [
       "FID_Settle     float64\n",
       "RC              object\n",
       "UFI            float64\n",
       "UNI            float64\n",
       "LAT            float64\n",
       "LONG           float64\n",
       "DMS_LAT         object\n",
       "DMS_LONG        object\n",
       "MGRS            object\n",
       "JOG             object\n",
       "FC              object\n",
       "DSG             object\n",
       "PC              object\n",
       "CC1             object\n",
       "ADM1            object\n",
       "POP             object\n",
       "ELEV            object\n",
       "CC2             object\n",
       "NT              object\n",
       "LC              object\n",
       "SHORT_FORM      object\n",
       "GENERIC         object\n",
       "SORT_NAME_      object\n",
       "FULL_NAME_      object\n",
       "FULL_NAME1      object\n",
       "SORT_NAME1      object\n",
       "FULL_NAM_1      object\n",
       "FULL_NAM_2      object\n",
       "NOTE            object\n",
       "MODIFY_DAT      object\n",
       "DISPLAY         object\n",
       "NAME_RANK      float64\n",
       "NAME_LINK      float64\n",
       "TRANSL_CD       object\n",
       "NM_MODIFY_      object\n",
       "F_EFCTV_DT      object\n",
       "F_TERM_DT       object\n",
       "FID_Pak_ad     float64\n",
       "PROVINCE        object\n",
       "PROVINCE_C     float64\n",
       "DISTRICT        object\n",
       "DISTRICT_C     float64\n",
       "TEHSIL          object\n",
       "TEHSIL_C       float64\n",
       "Remarks         object\n",
       "hfs            float64\n",
       "geometry      geometry\n",
       "dtype: object"
      ]
     },
     "execution_count": 7,
     "metadata": {},
     "output_type": "execute_result"
    }
   ],
   "source": [
    "settle.dtypes"
   ]
  },
  {
   "cell_type": "code",
   "execution_count": 8,
   "id": "enormous-blowing",
   "metadata": {},
   "outputs": [
    {
     "data": {
      "text/plain": [
       "array(['STMI', 'CULT', 'LCTY', 'PK', 'STM', 'TRB', 'TRIG', 'MT', 'PPL',\n",
       "       'AREA', 'FY', 'PASS', 'PPLQ', 'RESF', 'FRST', 'PP', 'MTS', 'RDGE',\n",
       "       'SHRN', 'RSVT', 'LEV', 'HLL', 'ADM2', 'SPNG', 'FRM', 'RUIN', 'WLL',\n",
       "       'SCHC', 'FT', 'STMX', 'CNL', 'PPLX', 'CMP', 'HSP', 'PPLA2', 'CMTY',\n",
       "       'PPLL', 'MSQE', 'STMIX', 'AIRP', 'HLLS', 'AIRF', 'GRVE', 'STMC',\n",
       "       'BDG', 'RD', 'PLN', 'GROVE', 'SBED', 'GRGE', 'AIRQ', 'PSTP',\n",
       "       'RSTN', 'RR', 'RHSE', 'MKT', 'SCRP', 'PROM', 'SPUR', 'INSM', 'SLP',\n",
       "       'LK', 'PSTB', 'TOWR', 'MFG', 'BLDG', 'PNDI', 'GHSE', 'PND', 'CAVE',\n",
       "       'TMB', 'RSTNQ', 'PPQ', 'STMH', 'LKI', 'STMQ', 'FLLS', 'ML', 'ADM1',\n",
       "       'PRK', 'MNC', 'RSV', 'CMPQ', 'STMA', 'CLF', 'DAM', 'RVN', 'MNN',\n",
       "       'BRKS', 'HUT', 'RDIN', 'CMPRF', 'AIRH', 'ADM4', 'VAL', 'ANS',\n",
       "       'GDN', 'CTRR', 'SCH', 'STDM', 'BLDO', 'HTL', 'RDJCT', 'GATE',\n",
       "       'SQR', 'ISL', 'CTRB', 'MND', 'STMD', 'FIN', 'SWT', 'PPLA', 'TMPL',\n",
       "       'COMC', 'PPLW', 'ITTR', 'INDS', 'MLSG', 'CTRM', 'DEVH', 'CNLQ',\n",
       "       'STMM', 'RGN', 'CSTM', 'SCHM', 'CNLX', 'GLCR', 'GAP', 'HSPC',\n",
       "       'ADMF', 'RK', 'TNLRD', 'PS'], dtype=object)"
      ]
     },
     "execution_count": 8,
     "metadata": {},
     "output_type": "execute_result"
    }
   ],
   "source": [
    "settle.DSG.unique()"
   ]
  },
  {
   "cell_type": "code",
   "execution_count": 9,
   "id": "developed-relation",
   "metadata": {},
   "outputs": [],
   "source": [
    "dist_hq = settle[settle.DSG == 'PPLA2']"
   ]
  },
  {
   "cell_type": "code",
   "execution_count": 10,
   "id": "artificial-niger",
   "metadata": {},
   "outputs": [],
   "source": [
    "# GeoNames contains duplicate values for places with alternate names (curiously). We need to drop them\n",
    "dist_hq = dist_hq[dist_hq.NT == 'N']"
   ]
  },
  {
   "cell_type": "code",
   "execution_count": 11,
   "id": "competent-consultation",
   "metadata": {
    "tags": []
   },
   "outputs": [
    {
     "data": {
      "text/plain": [
       "25"
      ]
     },
     "execution_count": 11,
     "metadata": {},
     "output_type": "execute_result"
    }
   ],
   "source": [
    "len(dist_hq)"
   ]
  },
  {
   "cell_type": "markdown",
   "id": "corporate-mounting",
   "metadata": {},
   "source": [
    "Some FATA districts + Peshawar are missing from the NGA's list. Let's add them in"
   ]
  },
  {
   "cell_type": "code",
   "execution_count": 12,
   "id": "handmade-conditioning",
   "metadata": {},
   "outputs": [],
   "source": [
    "missing_district_hqs = [\n",
    "    \n",
    "    {'geometry' : Point(69.57223155097161,32.29853374808377),\n",
    "    'FULL_NAME_' : 'Wanna',\n",
    "    'DISTRICT' : 'South Waziristan',\n",
    "    'PROVINCE' : 'Khyber Pakhtunkhwa'\n",
    "    },\n",
    "    \n",
    "    {'geometry' : Point(70.07056927600753,33.00243871750853),\n",
    "    'FULL_NAME_' : 'Miranshah',\n",
    "    'DISTRICT' : 'North Waziristan',\n",
    "    'PROVINCE' : 'Khyber Pakhtunkhwa'\n",
    "    },\n",
    "    \n",
    "    {'geometry' : Point(70.10099866695828,33.901175487256516),\n",
    "    'FULL_NAME_' : 'Parinchar',\n",
    "    'DISTRICT' : 'Kurram',\n",
    "    'PROVINCE' : 'Khyber Pakhtunkhwa'\n",
    "    },\n",
    "    \n",
    "    {'geometry' : Point(70.8539759768257,33.63398814323602),\n",
    "    'FULL_NAME_' : 'Ghiljo Bazar',\n",
    "    'DISTRICT' : 'Orakzai',\n",
    "    'PROVINCE' : 'Khyber Pakhtunkhwa'\n",
    "    },\n",
    "    \n",
    "    {'geometry' : Point(71.40106914331716, 34.323695406621205),\n",
    "    'FULL_NAME_' : 'Ghalanai',\n",
    "    'DISTRICT' : 'Mohamand',\n",
    "    'PROVINCE' : 'Khyber Pakhtunkhwa'\n",
    "    },\n",
    "    \n",
    "    {'geometry' : Point(71.52177558074068,34.73030440088783),\n",
    "    'FULL_NAME_' : 'Khar',\n",
    "    'DISTRICT' : 'Bajaur',\n",
    "    'PROVINCE' : 'Khyber Pakhtunkhwa'\n",
    "    },\n",
    "       \n",
    "    {'geometry' : Point(72.78903960595989,34.613849535640995),\n",
    "    'FULL_NAME_' : 'Judba',\n",
    "    'DISTRICT' : 'Tor Ghar',\n",
    "    'PROVINCE' : 'Khyber Pakhtunkhwa'\n",
    "    },\n",
    "    \n",
    "    {'geometry' : Point(71.54201534829933, 34.013973849282046),\n",
    "    'FULL_NAME_' : 'Peshawar',\n",
    "    'DISTRICT' : 'Peshawar',\n",
    "    'PROVINCE' : 'Khyber Pakhtunkhwa'\n",
    "    }\n",
    "]"
   ]
  },
  {
   "cell_type": "code",
   "execution_count": 13,
   "id": "dated-atmosphere",
   "metadata": {},
   "outputs": [],
   "source": [
    "missing_hqs = gpd.GeoDataFrame(missing_district_hqs)"
   ]
  },
  {
   "cell_type": "code",
   "execution_count": 14,
   "id": "unnecessary-clear",
   "metadata": {},
   "outputs": [],
   "source": [
    "dist_hq = gpd.GeoDataFrame(pd.concat([dist_hq,missing_hqs],ignore_index=True))"
   ]
  },
  {
   "cell_type": "code",
   "execution_count": 15,
   "id": "czech-salmon",
   "metadata": {
    "tags": []
   },
   "outputs": [
    {
     "data": {
      "text/plain": [
       "33"
      ]
     },
     "execution_count": 15,
     "metadata": {},
     "output_type": "execute_result"
    }
   ],
   "source": [
    "len(dist_hq)"
   ]
  },
  {
   "cell_type": "markdown",
   "id": "planned-array",
   "metadata": {},
   "source": [
    "#### Export"
   ]
  },
  {
   "cell_type": "code",
   "execution_count": 16,
   "id": "shaped-stack",
   "metadata": {},
   "outputs": [],
   "source": [
    "dist_hq.to_crs(dest_crs).to_file(os.path.join(geo_pth,'Settlements/District_HQs_v2.gpkg'),driver='GPKG')"
   ]
  },
  {
   "cell_type": "markdown",
   "id": "relative-father",
   "metadata": {},
   "source": [
    "## Reorganizing admin units"
   ]
  },
  {
   "cell_type": "markdown",
   "id": "unknown-liberia",
   "metadata": {},
   "source": [
    "### Preparing districts"
   ]
  },
  {
   "cell_type": "markdown",
   "id": "greatest-finland",
   "metadata": {},
   "source": [
    "The reorganization of KP to include FATA involved merging / splitting quite a few areas. As a result none of the existing shapefiles appear to be 100% accurate. Therefore we need to fix them up"
   ]
  },
  {
   "cell_type": "code",
   "execution_count": 276,
   "id": "brown-immunology",
   "metadata": {},
   "outputs": [
    {
     "name": "stderr",
     "output_type": "stream",
     "text": [
      "/Users/robert/.pyenv/versions/geo/lib/python3.9/site-packages/geopandas/geodataframe.py:577: RuntimeWarning: Sequential read of iterator was interrupted. Resetting iterator. This can negatively impact the performance.\n",
      "  for feature in features_lst:\n"
     ]
    }
   ],
   "source": [
    "dist_raw = gpd.read_file(os.path.join(geo_pth,'Boundaries/KP_Analysis_Focus_Districts.gpkg'),layer='KP_Analysis_Focus_Districts_4326',driver='GPKG')"
   ]
  },
  {
   "cell_type": "code",
   "execution_count": 277,
   "id": "physical-region",
   "metadata": {},
   "outputs": [
    {
     "data": {
      "text/html": [
       "<div>\n",
       "<style scoped>\n",
       "    .dataframe tbody tr th:only-of-type {\n",
       "        vertical-align: middle;\n",
       "    }\n",
       "\n",
       "    .dataframe tbody tr th {\n",
       "        vertical-align: top;\n",
       "    }\n",
       "\n",
       "    .dataframe thead th {\n",
       "        text-align: right;\n",
       "    }\n",
       "</style>\n",
       "<table border=\"1\" class=\"dataframe\">\n",
       "  <thead>\n",
       "    <tr style=\"text-align: right;\">\n",
       "      <th></th>\n",
       "      <th>OBJECTID</th>\n",
       "      <th>PROVINCE</th>\n",
       "      <th>DISTRICT</th>\n",
       "      <th>Shape_Leng</th>\n",
       "      <th>ADMIN_UNIT</th>\n",
       "      <th>Shape_Le_1</th>\n",
       "      <th>Shape_Le_2</th>\n",
       "      <th>Shape_Area</th>\n",
       "      <th>_sum</th>\n",
       "      <th>area_sqkm</th>\n",
       "      <th>pop_density</th>\n",
       "      <th>Revised_District</th>\n",
       "      <th>geometry</th>\n",
       "    </tr>\n",
       "  </thead>\n",
       "  <tbody>\n",
       "    <tr>\n",
       "      <th>0</th>\n",
       "      <td>42</td>\n",
       "      <td>FATA</td>\n",
       "      <td>BAJAUR</td>\n",
       "      <td>1.988338</td>\n",
       "      <td>AGENCY</td>\n",
       "      <td>1.988338</td>\n",
       "      <td>1.988338</td>\n",
       "      <td>0.133810</td>\n",
       "      <td>866640.845123</td>\n",
       "      <td>1359.848834</td>\n",
       "      <td>637.306753</td>\n",
       "      <td>BAJAUR</td>\n",
       "      <td>MULTIPOLYGON (((71.55699 34.94197, 71.56958 34...</td>\n",
       "    </tr>\n",
       "    <tr>\n",
       "      <th>1</th>\n",
       "      <td>43</td>\n",
       "      <td>FATA</td>\n",
       "      <td>FR BANNU</td>\n",
       "      <td>1.995785</td>\n",
       "      <td>DISTRICT</td>\n",
       "      <td>1.995785</td>\n",
       "      <td>1.995785</td>\n",
       "      <td>0.079323</td>\n",
       "      <td>44720.968910</td>\n",
       "      <td>821.193521</td>\n",
       "      <td>54.458502</td>\n",
       "      <td>BANNU</td>\n",
       "      <td>MULTIPOLYGON (((70.62797 33.26112, 70.62797 33...</td>\n",
       "    </tr>\n",
       "    <tr>\n",
       "      <th>2</th>\n",
       "      <td>44</td>\n",
       "      <td>FATA</td>\n",
       "      <td>FR D.I.KHAN</td>\n",
       "      <td>2.398188</td>\n",
       "      <td>DISTRICT</td>\n",
       "      <td>2.398188</td>\n",
       "      <td>2.398188</td>\n",
       "      <td>0.158011</td>\n",
       "      <td>55211.743419</td>\n",
       "      <td>1662.258696</td>\n",
       "      <td>33.214892</td>\n",
       "      <td>D I KHAN</td>\n",
       "      <td>MULTIPOLYGON (((69.97663 31.89880, 69.97699 31...</td>\n",
       "    </tr>\n",
       "    <tr>\n",
       "      <th>3</th>\n",
       "      <td>46</td>\n",
       "      <td>FATA</td>\n",
       "      <td>FR LAKKI MARWAT</td>\n",
       "      <td>0.597855</td>\n",
       "      <td>DISTRICT</td>\n",
       "      <td>0.597855</td>\n",
       "      <td>0.597855</td>\n",
       "      <td>0.017582</td>\n",
       "      <td>12707.589885</td>\n",
       "      <td>182.884176</td>\n",
       "      <td>69.484360</td>\n",
       "      <td>LAKKI MARWAT</td>\n",
       "      <td>MULTIPOLYGON (((70.40426 32.70648, 70.40447 32...</td>\n",
       "    </tr>\n",
       "    <tr>\n",
       "      <th>4</th>\n",
       "      <td>48</td>\n",
       "      <td>FATA</td>\n",
       "      <td>FR TANK</td>\n",
       "      <td>1.804023</td>\n",
       "      <td>DISTRICT</td>\n",
       "      <td>1.804023</td>\n",
       "      <td>1.804023</td>\n",
       "      <td>0.109871</td>\n",
       "      <td>37077.108184</td>\n",
       "      <td>1145.098977</td>\n",
       "      <td>32.378955</td>\n",
       "      <td>TANK</td>\n",
       "      <td>MULTIPOLYGON (((70.28373 32.63942, 70.28384 32...</td>\n",
       "    </tr>\n",
       "  </tbody>\n",
       "</table>\n",
       "</div>"
      ],
      "text/plain": [
       "   OBJECTID PROVINCE         DISTRICT  Shape_Leng ADMIN_UNIT  Shape_Le_1  \\\n",
       "0        42     FATA           BAJAUR    1.988338     AGENCY    1.988338   \n",
       "1        43     FATA         FR BANNU    1.995785   DISTRICT    1.995785   \n",
       "2        44     FATA      FR D.I.KHAN    2.398188   DISTRICT    2.398188   \n",
       "3        46     FATA  FR LAKKI MARWAT    0.597855   DISTRICT    0.597855   \n",
       "4        48     FATA          FR TANK    1.804023   DISTRICT    1.804023   \n",
       "\n",
       "   Shape_Le_2  Shape_Area           _sum    area_sqkm  pop_density  \\\n",
       "0    1.988338    0.133810  866640.845123  1359.848834   637.306753   \n",
       "1    1.995785    0.079323   44720.968910   821.193521    54.458502   \n",
       "2    2.398188    0.158011   55211.743419  1662.258696    33.214892   \n",
       "3    0.597855    0.017582   12707.589885   182.884176    69.484360   \n",
       "4    1.804023    0.109871   37077.108184  1145.098977    32.378955   \n",
       "\n",
       "  Revised_District                                           geometry  \n",
       "0           BAJAUR  MULTIPOLYGON (((71.55699 34.94197, 71.56958 34...  \n",
       "1            BANNU  MULTIPOLYGON (((70.62797 33.26112, 70.62797 33...  \n",
       "2         D I KHAN  MULTIPOLYGON (((69.97663 31.89880, 69.97699 31...  \n",
       "3     LAKKI MARWAT  MULTIPOLYGON (((70.40426 32.70648, 70.40447 32...  \n",
       "4             TANK  MULTIPOLYGON (((70.28373 32.63942, 70.28384 32...  "
      ]
     },
     "execution_count": 277,
     "metadata": {},
     "output_type": "execute_result"
    }
   ],
   "source": [
    "dist_raw.head()"
   ]
  },
  {
   "cell_type": "code",
   "execution_count": 278,
   "id": "increased-growth",
   "metadata": {},
   "outputs": [],
   "source": [
    "dist_clean = dist_raw.dissolve(by='Revised_District')"
   ]
  },
  {
   "cell_type": "code",
   "execution_count": 279,
   "id": "applicable-learning",
   "metadata": {},
   "outputs": [],
   "source": [
    "dist_clean = dist_clean.reset_index()"
   ]
  },
  {
   "cell_type": "code",
   "execution_count": 280,
   "id": "forbidden-representation",
   "metadata": {},
   "outputs": [],
   "source": [
    "dist_clean = dist_clean.rename({'DISTRICT':'Old_District','Revised_District':'District','PROVINCE':'Province'},axis=1)"
   ]
  },
  {
   "cell_type": "code",
   "execution_count": 281,
   "id": "wound-china",
   "metadata": {},
   "outputs": [],
   "source": [
    "# Sloppy capitalized names will catch up with us eventually in visualization\n",
    "dist_clean.Old_District = dist_clean.Old_District.str.title()\n",
    "dist_clean.District = dist_clean.District.str.title()\n",
    "dist_clean.Province = dist_clean.Province.str.title()"
   ]
  },
  {
   "cell_type": "code",
   "execution_count": 282,
   "id": "processed-waterproof",
   "metadata": {},
   "outputs": [
    {
     "data": {
      "text/html": [
       "<div>\n",
       "<style scoped>\n",
       "    .dataframe tbody tr th:only-of-type {\n",
       "        vertical-align: middle;\n",
       "    }\n",
       "\n",
       "    .dataframe tbody tr th {\n",
       "        vertical-align: top;\n",
       "    }\n",
       "\n",
       "    .dataframe thead th {\n",
       "        text-align: right;\n",
       "    }\n",
       "</style>\n",
       "<table border=\"1\" class=\"dataframe\">\n",
       "  <thead>\n",
       "    <tr style=\"text-align: right;\">\n",
       "      <th></th>\n",
       "      <th>District</th>\n",
       "      <th>geometry</th>\n",
       "      <th>OBJECTID</th>\n",
       "      <th>Province</th>\n",
       "      <th>Old_District</th>\n",
       "      <th>Shape_Leng</th>\n",
       "      <th>ADMIN_UNIT</th>\n",
       "      <th>Shape_Le_1</th>\n",
       "      <th>Shape_Le_2</th>\n",
       "      <th>Shape_Area</th>\n",
       "      <th>_sum</th>\n",
       "      <th>area_sqkm</th>\n",
       "      <th>pop_density</th>\n",
       "    </tr>\n",
       "  </thead>\n",
       "  <tbody>\n",
       "    <tr>\n",
       "      <th>0</th>\n",
       "      <td>Bajaur</td>\n",
       "      <td>POLYGON ((71.55699 34.94197, 71.56958 34.92076...</td>\n",
       "      <td>42</td>\n",
       "      <td>Fata</td>\n",
       "      <td>Bajaur</td>\n",
       "      <td>1.988338</td>\n",
       "      <td>AGENCY</td>\n",
       "      <td>1.988338</td>\n",
       "      <td>1.988338</td>\n",
       "      <td>0.133810</td>\n",
       "      <td>866640.845123</td>\n",
       "      <td>1359.848834</td>\n",
       "      <td>637.306753</td>\n",
       "    </tr>\n",
       "    <tr>\n",
       "      <th>1</th>\n",
       "      <td>Bannu</td>\n",
       "      <td>POLYGON ((70.38124 32.76709, 70.37976 32.76729...</td>\n",
       "      <td>43</td>\n",
       "      <td>Fata</td>\n",
       "      <td>Fr Bannu</td>\n",
       "      <td>1.995785</td>\n",
       "      <td>DISTRICT</td>\n",
       "      <td>1.995785</td>\n",
       "      <td>1.995785</td>\n",
       "      <td>0.079323</td>\n",
       "      <td>44720.968910</td>\n",
       "      <td>821.193521</td>\n",
       "      <td>54.458502</td>\n",
       "    </tr>\n",
       "    <tr>\n",
       "      <th>2</th>\n",
       "      <td>Batagram</td>\n",
       "      <td>POLYGON ((73.02344 34.58355, 73.02326 34.58358...</td>\n",
       "      <td>65</td>\n",
       "      <td>Khyber Pakhtunkhwa</td>\n",
       "      <td>Batagram</td>\n",
       "      <td>2.051353</td>\n",
       "      <td>DISTRICT</td>\n",
       "      <td>2.051353</td>\n",
       "      <td>2.051353</td>\n",
       "      <td>0.133527</td>\n",
       "      <td>567177.809627</td>\n",
       "      <td>1359.359017</td>\n",
       "      <td>417.239157</td>\n",
       "    </tr>\n",
       "    <tr>\n",
       "      <th>3</th>\n",
       "      <td>Chitral</td>\n",
       "      <td>POLYGON ((73.59401 36.91602, 73.63848 36.91157...</td>\n",
       "      <td>68</td>\n",
       "      <td>Khyber Pakhtunkhwa</td>\n",
       "      <td>Chitral</td>\n",
       "      <td>8.229430</td>\n",
       "      <td>DISTRICT</td>\n",
       "      <td>8.229430</td>\n",
       "      <td>8.229430</td>\n",
       "      <td>1.479200</td>\n",
       "      <td>583789.053115</td>\n",
       "      <td>14775.087759</td>\n",
       "      <td>39.511715</td>\n",
       "    </tr>\n",
       "    <tr>\n",
       "      <th>4</th>\n",
       "      <td>D I Khan</td>\n",
       "      <td>POLYGON ((70.42480 31.24216, 70.42356 31.23983...</td>\n",
       "      <td>44</td>\n",
       "      <td>Fata</td>\n",
       "      <td>Fr D.I.Khan</td>\n",
       "      <td>2.398188</td>\n",
       "      <td>DISTRICT</td>\n",
       "      <td>2.398188</td>\n",
       "      <td>2.398188</td>\n",
       "      <td>0.158011</td>\n",
       "      <td>55211.743419</td>\n",
       "      <td>1662.258696</td>\n",
       "      <td>33.214892</td>\n",
       "    </tr>\n",
       "  </tbody>\n",
       "</table>\n",
       "</div>"
      ],
      "text/plain": [
       "   District                                           geometry  OBJECTID  \\\n",
       "0    Bajaur  POLYGON ((71.55699 34.94197, 71.56958 34.92076...        42   \n",
       "1     Bannu  POLYGON ((70.38124 32.76709, 70.37976 32.76729...        43   \n",
       "2  Batagram  POLYGON ((73.02344 34.58355, 73.02326 34.58358...        65   \n",
       "3   Chitral  POLYGON ((73.59401 36.91602, 73.63848 36.91157...        68   \n",
       "4  D I Khan  POLYGON ((70.42480 31.24216, 70.42356 31.23983...        44   \n",
       "\n",
       "             Province Old_District  Shape_Leng ADMIN_UNIT  Shape_Le_1  \\\n",
       "0                Fata       Bajaur    1.988338     AGENCY    1.988338   \n",
       "1                Fata     Fr Bannu    1.995785   DISTRICT    1.995785   \n",
       "2  Khyber Pakhtunkhwa     Batagram    2.051353   DISTRICT    2.051353   \n",
       "3  Khyber Pakhtunkhwa      Chitral    8.229430   DISTRICT    8.229430   \n",
       "4                Fata  Fr D.I.Khan    2.398188   DISTRICT    2.398188   \n",
       "\n",
       "   Shape_Le_2  Shape_Area           _sum     area_sqkm  pop_density  \n",
       "0    1.988338    0.133810  866640.845123   1359.848834   637.306753  \n",
       "1    1.995785    0.079323   44720.968910    821.193521    54.458502  \n",
       "2    2.051353    0.133527  567177.809627   1359.359017   417.239157  \n",
       "3    8.229430    1.479200  583789.053115  14775.087759    39.511715  \n",
       "4    2.398188    0.158011   55211.743419   1662.258696    33.214892  "
      ]
     },
     "execution_count": 282,
     "metadata": {},
     "output_type": "execute_result"
    }
   ],
   "source": [
    "dist_clean.head()"
   ]
  },
  {
   "cell_type": "markdown",
   "id": "voluntary-packaging",
   "metadata": {},
   "source": [
    "Let's go ahead and calculate the Area (in square KM) in case it's useful later"
   ]
  },
  {
   "cell_type": "code",
   "execution_count": 283,
   "id": "progressive-cooperative",
   "metadata": {},
   "outputs": [],
   "source": [
    "dist_clean = dist_clean.to_crs(32642)"
   ]
  },
  {
   "cell_type": "code",
   "execution_count": 284,
   "id": "executed-objective",
   "metadata": {},
   "outputs": [],
   "source": [
    "dist_clean.area_sqkm = round(dist_clean.geometry.area / 1000000,3)"
   ]
  },
  {
   "cell_type": "markdown",
   "id": "armed-designer",
   "metadata": {},
   "source": [
    "Drop some old columns that are no longer reliable"
   ]
  },
  {
   "cell_type": "code",
   "execution_count": 285,
   "id": "maritime-mexican",
   "metadata": {},
   "outputs": [],
   "source": [
    "dist_clean = dist_clean.drop(['OBJECTID','Shape_Leng','Shape_Le_1','Shape_Le_2','Shape_Area','_sum','pop_density'],axis=1)"
   ]
  },
  {
   "cell_type": "markdown",
   "id": "personalized-history",
   "metadata": {},
   "source": [
    "#### Export"
   ]
  },
  {
   "cell_type": "code",
   "execution_count": 286,
   "id": "naughty-faculty",
   "metadata": {
    "tags": []
   },
   "outputs": [],
   "source": [
    "dist_clean.to_crs(32642).to_file(os.path.join(geo_pth,'Boundaries/KP_Analysis_Focus_Districts_Final.gpkg'),layer='Focus_Districts_32642',driver='GPKG')\n",
    "dist_clean.to_crs(32642).to_file(os.path.join(geo_pth,'Boundaries/KP_Analysis_Focus_Districts_Final.gpkg'),layer='Focus_Districts_32642',driver='GPKG')"
   ]
  },
  {
   "cell_type": "markdown",
   "id": "sacred-vienna",
   "metadata": {},
   "source": [
    "### Reorganizing Tehsil data"
   ]
  },
  {
   "cell_type": "markdown",
   "id": "lasting-cartridge",
   "metadata": {},
   "source": [
    "OCHA seems to have the best tehsil data -- but then also has some inherited data problems from older administrative structures, like Kohistan still being one district"
   ]
  },
  {
   "cell_type": "code",
   "execution_count": 334,
   "id": "accepted-cheese",
   "metadata": {},
   "outputs": [],
   "source": [
    "dist_clean = dist_clean.to_crs(4326)"
   ]
  },
  {
   "cell_type": "code",
   "execution_count": 335,
   "id": "catholic-johnson",
   "metadata": {},
   "outputs": [],
   "source": [
    "teh_raw = gpd.read_file(os.path.join(geo_pth,'Boundaries/OCHA/pak_admbnda_adm3_ocha_pco_gaul_20181218.shp'))"
   ]
  },
  {
   "cell_type": "code",
   "execution_count": 336,
   "id": "viral-expense",
   "metadata": {},
   "outputs": [],
   "source": [
    "# Drop some extraneous OCHA columns\n",
    "teh_raw = teh_raw.drop(['Shape_Leng','Shape_Area','validTo','validOn'],axis=1)"
   ]
  },
  {
   "cell_type": "code",
   "execution_count": 337,
   "id": "fourth-township",
   "metadata": {},
   "outputs": [
    {
     "data": {
      "text/html": [
       "<div>\n",
       "<style scoped>\n",
       "    .dataframe tbody tr th:only-of-type {\n",
       "        vertical-align: middle;\n",
       "    }\n",
       "\n",
       "    .dataframe tbody tr th {\n",
       "        vertical-align: top;\n",
       "    }\n",
       "\n",
       "    .dataframe thead th {\n",
       "        text-align: right;\n",
       "    }\n",
       "</style>\n",
       "<table border=\"1\" class=\"dataframe\">\n",
       "  <thead>\n",
       "    <tr style=\"text-align: right;\">\n",
       "      <th></th>\n",
       "      <th>ADM3_EN</th>\n",
       "      <th>ADM3_PCODE</th>\n",
       "      <th>ADM3_REF</th>\n",
       "      <th>ADM3ALT1EN</th>\n",
       "      <th>ADM3ALT2EN</th>\n",
       "      <th>ADM2_EN</th>\n",
       "      <th>ADM2_PCODE</th>\n",
       "      <th>ADM1_EN</th>\n",
       "      <th>ADM1_PCODE</th>\n",
       "      <th>ADM0_EN</th>\n",
       "      <th>ADM0_PCODE</th>\n",
       "      <th>date</th>\n",
       "      <th>geometry</th>\n",
       "    </tr>\n",
       "  </thead>\n",
       "  <tbody>\n",
       "    <tr>\n",
       "      <th>0</th>\n",
       "      <td>Abbottabad</td>\n",
       "      <td>PK20101</td>\n",
       "      <td>None</td>\n",
       "      <td>None</td>\n",
       "      <td>None</td>\n",
       "      <td>Abbottabad</td>\n",
       "      <td>PK201</td>\n",
       "      <td>Khyber Pakhtunkhwa</td>\n",
       "      <td>PK2</td>\n",
       "      <td>Pakistan</td>\n",
       "      <td>PK</td>\n",
       "      <td>2018-11-30</td>\n",
       "      <td>POLYGON ((73.46271 34.28738, 73.46965 34.27991...</td>\n",
       "    </tr>\n",
       "    <tr>\n",
       "      <th>1</th>\n",
       "      <td>Ahmadupr East</td>\n",
       "      <td>PK60305</td>\n",
       "      <td>None</td>\n",
       "      <td>None</td>\n",
       "      <td>None</td>\n",
       "      <td>Bahawalpur</td>\n",
       "      <td>PK603</td>\n",
       "      <td>Punjab</td>\n",
       "      <td>PK6</td>\n",
       "      <td>Pakistan</td>\n",
       "      <td>PK</td>\n",
       "      <td>2018-11-30</td>\n",
       "      <td>POLYGON ((71.23461 29.45480, 71.24380 29.44706...</td>\n",
       "    </tr>\n",
       "    <tr>\n",
       "      <th>2</th>\n",
       "      <td>Ahmedpur Sial</td>\n",
       "      <td>PK61201</td>\n",
       "      <td>None</td>\n",
       "      <td>None</td>\n",
       "      <td>None</td>\n",
       "      <td>Jhang</td>\n",
       "      <td>PK612</td>\n",
       "      <td>Punjab</td>\n",
       "      <td>PK6</td>\n",
       "      <td>Pakistan</td>\n",
       "      <td>PK</td>\n",
       "      <td>2018-11-30</td>\n",
       "      <td>POLYGON ((72.02826 31.03668, 72.04340 31.03000...</td>\n",
       "    </tr>\n",
       "    <tr>\n",
       "      <th>3</th>\n",
       "      <td>Alai</td>\n",
       "      <td>PK20301</td>\n",
       "      <td>None</td>\n",
       "      <td>None</td>\n",
       "      <td>None</td>\n",
       "      <td>Batagram</td>\n",
       "      <td>PK203</td>\n",
       "      <td>Khyber Pakhtunkhwa</td>\n",
       "      <td>PK2</td>\n",
       "      <td>Pakistan</td>\n",
       "      <td>PK</td>\n",
       "      <td>2018-11-30</td>\n",
       "      <td>POLYGON ((73.11362 34.92828, 73.14588 34.92708...</td>\n",
       "    </tr>\n",
       "    <tr>\n",
       "      <th>4</th>\n",
       "      <td>Alipur</td>\n",
       "      <td>PK62301</td>\n",
       "      <td>None</td>\n",
       "      <td>None</td>\n",
       "      <td>None</td>\n",
       "      <td>Muzaffargarh</td>\n",
       "      <td>PK623</td>\n",
       "      <td>Punjab</td>\n",
       "      <td>PK6</td>\n",
       "      <td>Pakistan</td>\n",
       "      <td>PK</td>\n",
       "      <td>2018-11-30</td>\n",
       "      <td>POLYGON ((71.02713 29.48334, 71.02858 29.47463...</td>\n",
       "    </tr>\n",
       "  </tbody>\n",
       "</table>\n",
       "</div>"
      ],
      "text/plain": [
       "         ADM3_EN ADM3_PCODE ADM3_REF ADM3ALT1EN ADM3ALT2EN       ADM2_EN  \\\n",
       "0     Abbottabad    PK20101     None       None       None    Abbottabad   \n",
       "1  Ahmadupr East    PK60305     None       None       None    Bahawalpur   \n",
       "2  Ahmedpur Sial    PK61201     None       None       None         Jhang   \n",
       "3           Alai    PK20301     None       None       None      Batagram   \n",
       "4         Alipur    PK62301     None       None       None  Muzaffargarh   \n",
       "\n",
       "  ADM2_PCODE             ADM1_EN ADM1_PCODE   ADM0_EN ADM0_PCODE        date  \\\n",
       "0      PK201  Khyber Pakhtunkhwa        PK2  Pakistan         PK  2018-11-30   \n",
       "1      PK603              Punjab        PK6  Pakistan         PK  2018-11-30   \n",
       "2      PK612              Punjab        PK6  Pakistan         PK  2018-11-30   \n",
       "3      PK203  Khyber Pakhtunkhwa        PK2  Pakistan         PK  2018-11-30   \n",
       "4      PK623              Punjab        PK6  Pakistan         PK  2018-11-30   \n",
       "\n",
       "                                            geometry  \n",
       "0  POLYGON ((73.46271 34.28738, 73.46965 34.27991...  \n",
       "1  POLYGON ((71.23461 29.45480, 71.24380 29.44706...  \n",
       "2  POLYGON ((72.02826 31.03668, 72.04340 31.03000...  \n",
       "3  POLYGON ((73.11362 34.92828, 73.14588 34.92708...  \n",
       "4  POLYGON ((71.02713 29.48334, 71.02858 29.47463...  "
      ]
     },
     "execution_count": 337,
     "metadata": {},
     "output_type": "execute_result"
    }
   ],
   "source": [
    "teh_raw.head()"
   ]
  },
  {
   "cell_type": "code",
   "execution_count": 338,
   "id": "latin-deposit",
   "metadata": {},
   "outputs": [
    {
     "name": "stderr",
     "output_type": "stream",
     "text": [
      "<ipython-input-338-d5c05c5b77d2>:2: UserWarning: Geometry is in a geographic CRS. Results from 'centroid' are likely incorrect. Use 'GeoSeries.to_crs()' to re-project geometries to a projected CRS before this operation.\n",
      "\n",
      "  teh_raw['geom_pt'] = teh_raw.geometry.centroid\n"
     ]
    }
   ],
   "source": [
    "# temporarily set the tehsil geometry to its centroid so you can do a within spatial join operation on the districts\n",
    "teh_raw['geom_pt'] = teh_raw.geometry.centroid\n",
    "teh_raw = teh_raw.set_geometry('geom_pt')"
   ]
  },
  {
   "cell_type": "code",
   "execution_count": 339,
   "id": "solid-affairs",
   "metadata": {},
   "outputs": [],
   "source": [
    "teh_clean = gpd.sjoin(teh_raw,dist_clean[['District','geometry']],how='left',op='within')"
   ]
  },
  {
   "cell_type": "code",
   "execution_count": 340,
   "id": "still-fusion",
   "metadata": {},
   "outputs": [],
   "source": [
    "# now get rid of the centroids once more\n",
    "teh_clean = teh_clean.set_geometry('geometry').drop('geom_pt',axis=1)"
   ]
  },
  {
   "cell_type": "markdown",
   "id": "selective-longitude",
   "metadata": {},
   "source": [
    "Cut out only the tehsils where District info was joined -- which are our focus area tehsils"
   ]
  },
  {
   "cell_type": "code",
   "execution_count": 341,
   "id": "rolled-salem",
   "metadata": {
    "tags": []
   },
   "outputs": [],
   "source": [
    "teh_clean = teh_clean[teh_clean.District.isnull() == False]"
   ]
  },
  {
   "cell_type": "markdown",
   "id": "personalized-reset",
   "metadata": {},
   "source": [
    "#### Export"
   ]
  },
  {
   "cell_type": "code",
   "execution_count": 343,
   "id": "unlike-clothing",
   "metadata": {},
   "outputs": [],
   "source": [
    "teh_clean.to_file(os.path.join(geo_pth,'Boundaries/New_Tehsils.gpkg'),driver='GPKG')"
   ]
  }
 ],
 "metadata": {
  "kernelspec": {
   "display_name": "Python 3 (ipykernel)",
   "language": "python",
   "name": "python3"
  },
  "language_info": {
   "codemirror_mode": {
    "name": "ipython",
    "version": 3
   },
   "file_extension": ".py",
   "mimetype": "text/x-python",
   "name": "python",
   "nbconvert_exporter": "python",
   "pygments_lexer": "ipython3",
   "version": "3.8.10"
  }
 },
 "nbformat": 4,
 "nbformat_minor": 5
}
