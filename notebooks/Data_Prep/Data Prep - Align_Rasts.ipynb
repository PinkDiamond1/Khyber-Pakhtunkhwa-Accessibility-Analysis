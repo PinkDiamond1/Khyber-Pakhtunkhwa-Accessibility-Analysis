{
 "cells": [
  {
   "cell_type": "markdown",
   "id": "opened-authorization",
   "metadata": {},
   "source": [
    "## Aligning rasters: A step-by-step breakdown"
   ]
  },
  {
   "cell_type": "markdown",
   "id": "geological-worst",
   "metadata": {},
   "source": [
    "This notebook aligns input rasters with a base reference raster. The implict purpose, reflected in the datasets used here, is to align rasters so that raster math operations can be performed between the rasters"
   ]
  },
  {
   "cell_type": "code",
   "execution_count": 3,
   "id": "awful-binary",
   "metadata": {},
   "outputs": [],
   "source": [
    "import os, sys\n",
    "import re\n",
    "import pprint\n",
    "# from pprint import pprint\n",
    "\n",
    "import numpy as np\n",
    "\n",
    "import rasterio\n",
    "from rasterio import features, transform\n",
    "from rasterio.mask import mask\n",
    "from rasterio.transform import Affine\n",
    "from rasterio.warp import calculate_default_transform, reproject, Resampling\n",
    "\n",
    "import pandas as pd\n",
    "import geopandas as gpd\n",
    "\n",
    "import shapely\n",
    "from shapely.geometry import shape, box, Polygon"
   ]
  },
  {
   "cell_type": "markdown",
   "id": "objective-exercise",
   "metadata": {},
   "source": [
    "File paths"
   ]
  },
  {
   "cell_type": "code",
   "execution_count": 4,
   "id": "individual-bulgarian",
   "metadata": {},
   "outputs": [],
   "source": [
    "geo_dir = r'P:\\PAK\\GEO'\n",
    "pop_dir = r'Population\\HRSL'\n",
    "\n",
    "data_dir = r'../../data'\n",
    "acc_dir = r'access'\n",
    "rast_dir = r'rast_inputs'\n"
   ]
  },
  {
   "cell_type": "markdown",
   "id": "disciplinary-creature",
   "metadata": {},
   "source": [
    "Projections"
   ]
  },
  {
   "cell_type": "code",
   "execution_count": 5,
   "id": "chemical-finland",
   "metadata": {},
   "outputs": [],
   "source": [
    "dest_crs = 'EPSG:32642'\n",
    "dcrs_int = re.findall('[0-9]+',dest_crs)[0]"
   ]
  },
  {
   "cell_type": "markdown",
   "id": "invisible-lobby",
   "metadata": {},
   "source": [
    "Useful functions"
   ]
  },
  {
   "cell_type": "code",
   "execution_count": 6,
   "id": "empirical-invention",
   "metadata": {},
   "outputs": [],
   "source": [
    "# Lightly adapted from https://gis.stackexchange.com/questions/290030/what-does-it-mean-to-reproject-a-satellite-image-from-utm-zone-13n-to-wgs84\n",
    "\n",
    "def reproject_tif(source_file, destination_file,dest_crs):\n",
    "    \"\"\"Re-projects tif at source file to destination CRS at destination file.\n",
    "\n",
    "    Args:\n",
    "        source_file: file to re-project\n",
    "        destination_file: file to store re-projection\n",
    "\n",
    "    Returns:\n",
    "        destination_file: where the re-projected file is saved at\n",
    "    \"\"\"\n",
    "\n",
    "    with rasterio.open(source_file) as src:\n",
    "        dst_crs = dest_crs\n",
    "        transform, width, height = calculate_default_transform(\n",
    "            src.crs,\n",
    "            dst_crs,\n",
    "            src.width,\n",
    "            src.height,\n",
    "            *src.bounds\n",
    "        )\n",
    "\n",
    "        kwargs = src.meta.copy()\n",
    "        kwargs.update({\n",
    "            'crs': dst_crs,\n",
    "            'transform': transform,\n",
    "            'width': width,\n",
    "            'height': height,\n",
    "            \"compress\":'LZW'\n",
    "        })\n",
    "\n",
    "        with rasterio.open(destination_file, 'w', **kwargs) as dst:\n",
    "            for i in range(1, src.count + 1):\n",
    "                reproject(\n",
    "                    source=rasterio.band(src, i),\n",
    "                    destination=rasterio.band(dst, i),\n",
    "                    src_transform=src.transform,\n",
    "                    src_crs=src.crs,\n",
    "                    dst_transform=transform,\n",
    "                    dst_crs=dst_crs,\n",
    "                    resampling=Resampling.nearest,\n",
    "                    num_threads=-1\n",
    "                )\n",
    "\n",
    "        return destination_file"
   ]
  },
  {
   "cell_type": "markdown",
   "id": "comic-mozambique",
   "metadata": {},
   "source": [
    "### Load in rasters"
   ]
  },
  {
   "cell_type": "markdown",
   "id": "strange-termination",
   "metadata": {},
   "source": [
    "Load in the base raster we are using as a template so we can match up exactly to its grid and cell size"
   ]
  },
  {
   "cell_type": "code",
   "execution_count": 9,
   "id": "aboriginal-fever",
   "metadata": {},
   "outputs": [],
   "source": [
    "base_rast_pth = os.path.join(data_dir,acc_dir,r'current/211021/Current_dry_District_HQs.tif')"
   ]
  },
  {
   "cell_type": "code",
   "execution_count": 21,
   "id": "covered-costs",
   "metadata": {},
   "outputs": [],
   "source": [
    "with rasterio.open(base_rast_pth, 'r') as base_src:\n",
    "    base_rast = base_src.read(1)\n",
    "    base_idx = base_src.index\n",
    "    base_profile = base_src.meta.copy()\n",
    "    base_tform = base_src.transform   "
   ]
  },
  {
   "cell_type": "code",
   "execution_count": 11,
   "id": "spread-guard",
   "metadata": {},
   "outputs": [],
   "source": [
    "# Generate a bounding box from the extent of the base raster\n",
    "\n",
    "bds = rasterio.warp.array_bounds(base.shape[0],base.shape[1],base_tform)\n",
    "base_bbox = box(bds[0],bds[1],bds[2],bds[3])"
   ]
  },
  {
   "cell_type": "markdown",
   "id": "satisfactory-diving",
   "metadata": {},
   "source": [
    "Load in raster to transform"
   ]
  },
  {
   "cell_type": "code",
   "execution_count": 12,
   "id": "dress-tracy",
   "metadata": {},
   "outputs": [],
   "source": [
    "trast_pth = os.path.join(geo_dir,pop_dir,r'kp_general_v15_32642.tif')"
   ]
  },
  {
   "cell_type": "code",
   "execution_count": 17,
   "id": "5e9fe9f2-da6d-4d5b-bc74-7cd33b250294",
   "metadata": {},
   "outputs": [],
   "source": [
    "with rasterio.open(trast_pth, 'r') as trast_src:\n",
    "    \n",
    "    trast_in = trast_src.read(1)\n",
    "    trast_profile = trast_src.profile"
   ]
  },
  {
   "cell_type": "code",
   "execution_count": 37,
   "id": "6ef168ef-fe21-4c74-96b2-42d9a5d9e25b",
   "metadata": {},
   "outputs": [
    {
     "data": {
      "text/plain": [
       "{'driver': 'GTiff',\n",
       " 'dtype': 'float32',\n",
       " 'nodata': -99999.0,\n",
       " 'width': 17193,\n",
       " 'height': 21136,\n",
       " 'count': 1,\n",
       " 'crs': CRS.from_epsg(32642),\n",
       " 'transform': Affine(28.23254382673943, 0.0, 502425.3974356071,\n",
       "        0.0, -31.766168813716423, 4114847.74964671)}"
      ]
     },
     "execution_count": 37,
     "metadata": {},
     "output_type": "execute_result"
    }
   ],
   "source": [
    "base_profile"
   ]
  },
  {
   "cell_type": "code",
   "execution_count": 19,
   "id": "35b83d74-f965-42cf-9bf2-610d28a30e59",
   "metadata": {},
   "outputs": [
    {
     "data": {
      "text/plain": [
       "{'driver': 'GTiff', 'dtype': 'float64', 'nodata': nan, 'width': 16041, 'height': 23286, 'count': 1, 'crs': CRS.from_epsg(32642), 'transform': Affine(27.765518519322814, 0.0, 522444.34588665137,\n",
       "       0.0, -27.765044582909745, 4094862.6691058525), 'tiled': False, 'compress': 'zstd', 'interleave': 'band'}"
      ]
     },
     "execution_count": 19,
     "metadata": {},
     "output_type": "execute_result"
    }
   ],
   "source": [
    "trast_profile"
   ]
  },
  {
   "cell_type": "markdown",
   "id": "09eb86af-4f01-4c7d-a6f3-2dabbf736648",
   "metadata": {},
   "source": [
    "### Reproject / transform and export"
   ]
  },
  {
   "cell_type": "code",
   "execution_count": 84,
   "id": "d170cc1b-e150-4aec-8163-407d9e0bd9f3",
   "metadata": {},
   "outputs": [],
   "source": [
    "# create a blank array of the correct dimensions to populate while reprojecting\n",
    "trast_transformed = np.zeros(base_rast.shape, np.float32)\n",
    "\n",
    "# reproject + transform\n",
    "\n",
    "with rasterio.Env():\n",
    "    reproject(\n",
    "        trast_in,\n",
    "        trast_transformed,\n",
    "        src_transform=trast_profile['transform'],\n",
    "        src_crs=trast_profile['crs'],\n",
    "        dst_transform=base_profile['transform'],\n",
    "        dst_crs=base_profile['crs'],\n",
    "        resampling=Resampling.med) # change to your preferred resampling methodology\n",
    "    \n",
    "# set to float32 to reduce size\n",
    "trast_transformed = trast_transformed.astype(np.float32)"
   ]
  },
  {
   "cell_type": "markdown",
   "id": "77b5d078-a17b-467e-9b77-195a1e7f900d",
   "metadata": {},
   "source": [
    "Check out resulting data"
   ]
  },
  {
   "cell_type": "code",
   "execution_count": 86,
   "id": "39ee0fa4-37c1-42f7-b2a7-a03ee5134e0b",
   "metadata": {},
   "outputs": [
    {
     "data": {
      "text/plain": [
       "(21136, 17193)"
      ]
     },
     "execution_count": 86,
     "metadata": {},
     "output_type": "execute_result"
    }
   ],
   "source": [
    "trast_transformed.shape"
   ]
  },
  {
   "cell_type": "code",
   "execution_count": 87,
   "id": "4f63f4ad-57ea-40c6-9529-c07e4be9f48b",
   "metadata": {
    "tags": []
   },
   "outputs": [
    {
     "data": {
      "text/plain": [
       "36735331.69212351"
      ]
     },
     "execution_count": 87,
     "metadata": {},
     "output_type": "execute_result"
    }
   ],
   "source": [
    "np.nansum(trast_in)"
   ]
  },
  {
   "cell_type": "code",
   "execution_count": 90,
   "id": "85956cfe-a383-4630-aa61-bd48d9382088",
   "metadata": {},
   "outputs": [],
   "source": [
    "# eliminate 0s -- this is specific to HRSL data\n",
    "trast_transformed = np.where(trast_transformed == 0, np.nan, trast_transformed)"
   ]
  },
  {
   "cell_type": "code",
   "execution_count": 97,
   "id": "60d5e9d6-e5fa-4ced-8dda-6b961c60bf2a",
   "metadata": {
    "tags": []
   },
   "outputs": [
    {
     "data": {
      "text/plain": [
       "32406410.0"
      ]
     },
     "execution_count": 97,
     "metadata": {},
     "output_type": "execute_result"
    }
   ],
   "source": [
    "np.nansum(trast_transformed)"
   ]
  },
  {
   "cell_type": "code",
   "execution_count": 94,
   "id": "d4836b59-c9b6-49b6-bed8-6e4c74b64144",
   "metadata": {},
   "outputs": [
    {
     "data": {
      "text/plain": [
       "array([[nan, nan, nan, ..., nan, nan, nan],\n",
       "       [nan, nan, nan, ..., nan, nan, nan],\n",
       "       [nan, nan, nan, ..., nan, nan, nan],\n",
       "       ...,\n",
       "       [nan, nan, nan, ..., nan, nan, nan],\n",
       "       [nan, nan, nan, ..., nan, nan, nan],\n",
       "       [nan, nan, nan, ..., nan, nan, nan]], dtype=float32)"
      ]
     },
     "execution_count": 94,
     "metadata": {},
     "output_type": "execute_result"
    }
   ],
   "source": [
    "trast_transformed"
   ]
  },
  {
   "cell_type": "markdown",
   "id": "0242045e-9656-4fc5-b0fa-49032789c6be",
   "metadata": {},
   "source": [
    "Export"
   ]
  },
  {
   "cell_type": "code",
   "execution_count": 91,
   "id": "44569429-cc93-4ac3-a451-a76ef81a9004",
   "metadata": {},
   "outputs": [],
   "source": [
    "export_profile = base_profile.copy()\n",
    "export_profile.update({\n",
    "    \"dtype\":'float32',\n",
    "    \"height\": trast_transformed.shape[0],\n",
    "    \"width\": trast_transformed.shape[1],\n",
    "    \"transform\": base_profile['transform'],\n",
    "    \"nodata\" : np.nan,\n",
    "    \"compress\":'ZSTD'})"
   ]
  },
  {
   "cell_type": "code",
   "execution_count": 95,
   "id": "c776a6bf-c34a-48d1-aefc-013cd47fb876",
   "metadata": {},
   "outputs": [],
   "source": [
    "# export aligned raster\n",
    "\n",
    "with rasterio.open(os.path.join(data_dir,f'kp_general_v15_32642_aligned_med.tif'),'w',**export_profile) as dst:\n",
    "    dst.write(trast_transformed,indexes=1)"
   ]
  }
 ],
 "metadata": {
  "kernelspec": {
   "display_name": "Python 3 (ipykernel)",
   "language": "python",
   "name": "python3"
  },
  "language_info": {
   "codemirror_mode": {
    "name": "ipython",
    "version": 3
   },
   "file_extension": ".py",
   "mimetype": "text/x-python",
   "name": "python",
   "nbconvert_exporter": "python",
   "pygments_lexer": "ipython3",
   "version": "3.8.10"
  }
 },
 "nbformat": 4,
 "nbformat_minor": 5
}
