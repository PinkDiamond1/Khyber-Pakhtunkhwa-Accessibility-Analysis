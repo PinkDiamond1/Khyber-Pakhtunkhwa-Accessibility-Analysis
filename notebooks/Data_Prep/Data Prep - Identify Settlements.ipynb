{
 "cells": [
  {
   "cell_type": "markdown",
   "id": "amateur-proceeding",
   "metadata": {},
   "source": [
    "# Identify settlements"
   ]
  },
  {
   "cell_type": "markdown",
   "id": "enormous-recycling",
   "metadata": {},
   "source": [
    "This notebook identifies settlements that can be used as origins in an accessibility analysis for Khbyer Pakhtunkhwa. Several different identification criteria are explored"
   ]
  },
  {
   "cell_type": "code",
   "execution_count": 53,
   "id": "therapeutic-hungarian",
   "metadata": {},
   "outputs": [],
   "source": [
    "import os, sys, time\n",
    "\n",
    "import pandas as pd\n",
    "import geopandas as gpd\n",
    "\n",
    "import shapely\n",
    "from shapely.geometry import shape\n",
    "from shapely.wkt import loads\n",
    "from shapely.errors import TopologicalError\n",
    "\n",
    "import rasterio\n",
    "from rasterio import features, transform\n",
    "from rasterio.mask import mask\n",
    "from rasterio.transform import Affine\n",
    "from rasterio.warp import calculate_default_transform, reproject, Resampling\n",
    "\n",
    "import numpy as np\n",
    "\n",
    "from rasterstats import zonal_stats\n",
    "\n",
    "sys.path.append('../../src/')\n",
    "\n",
    "import skimage.graph as graph\n",
    "import gostrocks.src.GOSTRocks as gr\n",
    "from gostrocks.src.GOSTRocks.misc import tPrint\n",
    "from GOSTNets_Raster.src.GOSTNets_Raster import market_access as ma"
   ]
  },
  {
   "cell_type": "markdown",
   "id": "opening-dispatch",
   "metadata": {},
   "source": [
    "File paths"
   ]
  },
  {
   "cell_type": "code",
   "execution_count": 54,
   "id": "impressed-transcript",
   "metadata": {},
   "outputs": [],
   "source": [
    "geo_pth = r\"/Users/robert/Documents/Jobs/WB/Pakistan/Data\"\n",
    "pop_pth = r\"/Users/robert/Documents/Jobs/WB/Pakistan/Data/Population\""
   ]
  },
  {
   "cell_type": "code",
   "execution_count": 55,
   "id": "median-vulnerability",
   "metadata": {},
   "outputs": [],
   "source": [
    "data_dir = r'../../data'\n",
    "vect_dir = r'vect_inputs'\n",
    "rast_dir = r'rast_inputs'\n",
    "out_pth = r'../../data/vect_out'"
   ]
  },
  {
   "cell_type": "markdown",
   "id": "eastern-elephant",
   "metadata": {},
   "source": [
    "Projections"
   ]
  },
  {
   "cell_type": "code",
   "execution_count": 56,
   "id": "normal-corrections",
   "metadata": {},
   "outputs": [],
   "source": [
    "dest_crs = 'EPSG:32642' # this is a Pakistani UTM projection, assign correct projection for project area"
   ]
  },
  {
   "cell_type": "markdown",
   "id": "minimal-grace",
   "metadata": {},
   "source": [
    "Functions"
   ]
  },
  {
   "cell_type": "code",
   "execution_count": 57,
   "id": "offshore-planning",
   "metadata": {},
   "outputs": [],
   "source": [
    "# Lightly adapted from https://gis.stackexchange.com/questions/290030/what-does-it-mean-to-reproject-a-satellite-image-from-utm-zone-13n-to-wgs84\n",
    "\n",
    "def reproject_tif(source_file, destination_file,dest_crs):\n",
    "    \"\"\"Re-projects tif at source file to destination CRS at destination file.\n",
    "\n",
    "    Args:\n",
    "        source_file: file to re-project\n",
    "        destination_file: file to store re-projection\n",
    "\n",
    "    Returns:\n",
    "        destination_file: where the re-projected file is saved at\n",
    "    \"\"\"\n",
    "\n",
    "    with rasterio.open(source_file) as src:\n",
    "        dst_crs = dest_crs\n",
    "        transform, width, height = calculate_default_transform(\n",
    "            src.crs,\n",
    "            dst_crs,\n",
    "            src.width,\n",
    "            src.height,\n",
    "            *src.bounds\n",
    "        )\n",
    "\n",
    "        kwargs = src.meta.copy()\n",
    "        kwargs.update({\n",
    "            'crs': dst_crs,\n",
    "            'transform': transform,\n",
    "            'width': width,\n",
    "            'height': height,\n",
    "            \"compress\":'LZW'\n",
    "        })\n",
    "\n",
    "        with rasterio.open(destination_file, 'w', **kwargs) as dst:\n",
    "            for i in range(1, src.count + 1):\n",
    "                reproject(\n",
    "                    source=rasterio.band(src, i),\n",
    "                    destination=rasterio.band(dst, i),\n",
    "                    src_transform=src.transform,\n",
    "                    src_crs=src.crs,\n",
    "                    dst_transform=transform,\n",
    "                    dst_crs=dst_crs,\n",
    "                    resampling=Resampling.nearest,\n",
    "                    num_threads=-1\n",
    "                )\n",
    "\n",
    "        return destination_file"
   ]
  },
  {
   "cell_type": "markdown",
   "id": "under-turkish",
   "metadata": {},
   "source": [
    "## Load in raster data"
   ]
  },
  {
   "cell_type": "markdown",
   "id": "figured-combine",
   "metadata": {},
   "source": [
    "WSF Files"
   ]
  },
  {
   "cell_type": "code",
   "execution_count": 58,
   "id": "commercial-terminology",
   "metadata": {},
   "outputs": [],
   "source": [
    "wsf_raw_fil = 'KP_WSF2019_binary.tif'\n",
    "wsf_3x3_fil = 'KP_WSF2019_binary_skimage_modal_3by3.tif'\n",
    "wsf_5x5_fil = 'KP_WSF2019_binary_skimage_modal_5by5.tif'\n",
    "wsf_7x7_fil = 'KP_WSF2019_binary_skimage_modal_7by7.tif'"
   ]
  },
  {
   "cell_type": "code",
   "execution_count": 59,
   "id": "early-concord",
   "metadata": {},
   "outputs": [
    {
     "data": {
      "text/plain": [
       "'../../data/rast_inputs/KP_WSF2019_binary_32642.tif'"
      ]
     },
     "execution_count": 59,
     "metadata": {},
     "output_type": "execute_result"
    }
   ],
   "source": [
    "reproject_tif(os.path.join(data_dir,rast_dir,wsf_raw_fil),\n",
    "             os.path.join(data_dir,rast_dir,'KP_WSF2019_binary_32642.tif'),\n",
    "             'EPSG:32642')"
   ]
  },
  {
   "cell_type": "code",
   "execution_count": 60,
   "id": "stuffed-purse",
   "metadata": {},
   "outputs": [],
   "source": [
    "with rasterio.open(os.path.join(data_dir,rast_dir,'KP_WSF2019_binary_32642.tif'),'r') as wsf_raw_raw:\n",
    "    wsf_raw = wsf_raw_raw.read(1)\n",
    "    wsf_raw_prof = wsf_raw_raw.profile"
   ]
  },
  {
   "cell_type": "markdown",
   "id": "suited-volume",
   "metadata": {},
   "source": [
    "Now WorldPop"
   ]
  },
  {
   "cell_type": "code",
   "execution_count": 61,
   "id": "generic-velvet",
   "metadata": {},
   "outputs": [],
   "source": [
    "wp_kp_fil = 'Population/WorldPop/KP_Analysis_WorldPop_2020.tif'"
   ]
  },
  {
   "cell_type": "code",
   "execution_count": 62,
   "id": "ignored-arthritis",
   "metadata": {},
   "outputs": [],
   "source": [
    "with rasterio.open(os.path.join(geo_pth,wp_kp_fil),'r') as wp_kp_raw:\n",
    "    wp_kp = wp_kp_raw.read(1)\n",
    "    wk_kp_prof = wp_kp_raw.profile"
   ]
  },
  {
   "cell_type": "markdown",
   "id": "logical-horizon",
   "metadata": {},
   "source": [
    "#### Settlements"
   ]
  },
  {
   "cell_type": "code",
   "execution_count": 63,
   "id": "embedded-appraisal",
   "metadata": {},
   "outputs": [
    {
     "name": "stderr",
     "output_type": "stream",
     "text": [
      "/Users/robert/.pyenv/versions/geo/lib/python3.9/site-packages/geopandas/geodataframe.py:577: RuntimeWarning: Sequential read of iterator was interrupted. Resetting iterator. This can negatively impact the performance.\n",
      "  for feature in features_lst:\n"
     ]
    }
   ],
   "source": [
    "settle = gpd.read_file(os.path.join(data_dir,vect_dir,'KP_Settlements_NGA_2017.gpkg'),driver=\"GPKG\")\n",
    "settle = settle.set_crs(4326).to_crs(dest_crs)"
   ]
  },
  {
   "cell_type": "code",
   "execution_count": 64,
   "id": "appointed-hawaiian",
   "metadata": {},
   "outputs": [],
   "source": [
    "# GeoNames contains duplicate values for places with alternate names (curiously). We need to drop them\n",
    "settle = settle[settle.NT == 'N']"
   ]
  },
  {
   "cell_type": "code",
   "execution_count": 65,
   "id": "twenty-gasoline",
   "metadata": {},
   "outputs": [],
   "source": [
    "filter_list = ['PPL', 'PPLA', 'PPLA2']"
   ]
  },
  {
   "cell_type": "code",
   "execution_count": 66,
   "id": "processed-romantic",
   "metadata": {},
   "outputs": [],
   "source": [
    "settle = settle[settle['DSG'].isin(filter_list) == True]"
   ]
  },
  {
   "cell_type": "code",
   "execution_count": 67,
   "id": "domestic-turkish",
   "metadata": {},
   "outputs": [
    {
     "data": {
      "text/plain": [
       "24625"
      ]
     },
     "execution_count": 67,
     "metadata": {},
     "output_type": "execute_result"
    }
   ],
   "source": [
    "len(settle)"
   ]
  },
  {
   "cell_type": "code",
   "execution_count": 68,
   "id": "amateur-authorization",
   "metadata": {},
   "outputs": [],
   "source": [
    "settle = settle.reset_index().drop('index',axis=1)"
   ]
  },
  {
   "cell_type": "code",
   "execution_count": 69,
   "id": "front-navigator",
   "metadata": {},
   "outputs": [
    {
     "data": {
      "text/html": [
       "<div>\n",
       "<style scoped>\n",
       "    .dataframe tbody tr th:only-of-type {\n",
       "        vertical-align: middle;\n",
       "    }\n",
       "\n",
       "    .dataframe tbody tr th {\n",
       "        vertical-align: top;\n",
       "    }\n",
       "\n",
       "    .dataframe thead th {\n",
       "        text-align: right;\n",
       "    }\n",
       "</style>\n",
       "<table border=\"1\" class=\"dataframe\">\n",
       "  <thead>\n",
       "    <tr style=\"text-align: right;\">\n",
       "      <th></th>\n",
       "      <th>FID_Settle</th>\n",
       "      <th>RC</th>\n",
       "      <th>UFI</th>\n",
       "      <th>UNI</th>\n",
       "      <th>LAT</th>\n",
       "      <th>LONG</th>\n",
       "      <th>DMS_LAT</th>\n",
       "      <th>DMS_LONG</th>\n",
       "      <th>MGRS</th>\n",
       "      <th>JOG</th>\n",
       "      <th>...</th>\n",
       "      <th>FID_Pak_ad</th>\n",
       "      <th>PROVINCE</th>\n",
       "      <th>PROVINCE_C</th>\n",
       "      <th>DISTRICT</th>\n",
       "      <th>DISTRICT_C</th>\n",
       "      <th>TEHSIL</th>\n",
       "      <th>TEHSIL_C</th>\n",
       "      <th>Remarks</th>\n",
       "      <th>hfs</th>\n",
       "      <th>geometry</th>\n",
       "    </tr>\n",
       "  </thead>\n",
       "  <tbody>\n",
       "    <tr>\n",
       "      <th>0</th>\n",
       "      <td>105912</td>\n",
       "      <td>5</td>\n",
       "      <td>6048637.0</td>\n",
       "      <td>15681640.0</td>\n",
       "      <td>31.304456</td>\n",
       "      <td>70.340982</td>\n",
       "      <td>31:18:16N</td>\n",
       "      <td>70:20:28E</td>\n",
       "      <td>42RXV2761564120</td>\n",
       "      <td>NH42-03</td>\n",
       "      <td>...</td>\n",
       "      <td>267</td>\n",
       "      <td>Khyber Pakhtunkhwa</td>\n",
       "      <td>4.0</td>\n",
       "      <td>FR Dera Ismail Khan</td>\n",
       "      <td>409</td>\n",
       "      <td>FR Dera Ismail Khan</td>\n",
       "      <td>40901.0</td>\n",
       "      <td>Pcode change</td>\n",
       "      <td>0</td>\n",
       "      <td>POINT (627740.770 3464116.408)</td>\n",
       "    </tr>\n",
       "    <tr>\n",
       "      <th>1</th>\n",
       "      <td>26327</td>\n",
       "      <td>5</td>\n",
       "      <td>6143383.0</td>\n",
       "      <td>6151664.0</td>\n",
       "      <td>31.318889</td>\n",
       "      <td>70.775000</td>\n",
       "      <td>31:19:08N</td>\n",
       "      <td>70:46:30E</td>\n",
       "      <td>42RXV6889866304</td>\n",
       "      <td>NH42-04</td>\n",
       "      <td>...</td>\n",
       "      <td>335</td>\n",
       "      <td>Khyber Pakhtunkhwa</td>\n",
       "      <td>2.0</td>\n",
       "      <td>Dera Ismail Khan</td>\n",
       "      <td>207</td>\n",
       "      <td>Dera Ismail Khan</td>\n",
       "      <td>20702.0</td>\n",
       "      <td>None</td>\n",
       "      <td>0</td>\n",
       "      <td>POINT (668898.353 3466306.068)</td>\n",
       "    </tr>\n",
       "    <tr>\n",
       "      <th>2</th>\n",
       "      <td>44285</td>\n",
       "      <td>5</td>\n",
       "      <td>6352950.0</td>\n",
       "      <td>6574703.0</td>\n",
       "      <td>31.327376</td>\n",
       "      <td>70.598907</td>\n",
       "      <td>31:19:39N</td>\n",
       "      <td>70:35:56E</td>\n",
       "      <td>42RXV5212766988</td>\n",
       "      <td>NH42-04</td>\n",
       "      <td>...</td>\n",
       "      <td>335</td>\n",
       "      <td>Khyber Pakhtunkhwa</td>\n",
       "      <td>2.0</td>\n",
       "      <td>Dera Ismail Khan</td>\n",
       "      <td>207</td>\n",
       "      <td>Dera Ismail Khan</td>\n",
       "      <td>20702.0</td>\n",
       "      <td>None</td>\n",
       "      <td>0</td>\n",
       "      <td>POINT (652125.948 3466991.740)</td>\n",
       "    </tr>\n",
       "    <tr>\n",
       "      <th>3</th>\n",
       "      <td>44274</td>\n",
       "      <td>5</td>\n",
       "      <td>6140344.0</td>\n",
       "      <td>6574679.0</td>\n",
       "      <td>31.330898</td>\n",
       "      <td>70.529831</td>\n",
       "      <td>31:19:51N</td>\n",
       "      <td>70:31:47E</td>\n",
       "      <td>42RXV4554867285</td>\n",
       "      <td>NH42-04</td>\n",
       "      <td>...</td>\n",
       "      <td>333</td>\n",
       "      <td>Khyber Pakhtunkhwa</td>\n",
       "      <td>2.0</td>\n",
       "      <td>Dera Ismail Khan</td>\n",
       "      <td>207</td>\n",
       "      <td>Daraban</td>\n",
       "      <td>20701.0</td>\n",
       "      <td>None</td>\n",
       "      <td>0</td>\n",
       "      <td>POINT (645545.368 3467286.350)</td>\n",
       "    </tr>\n",
       "    <tr>\n",
       "      <th>4</th>\n",
       "      <td>44188</td>\n",
       "      <td>5</td>\n",
       "      <td>6140332.0</td>\n",
       "      <td>6574666.0</td>\n",
       "      <td>31.331360</td>\n",
       "      <td>70.698876</td>\n",
       "      <td>31:19:53N</td>\n",
       "      <td>70:41:56E</td>\n",
       "      <td>42RXV6163267572</td>\n",
       "      <td>NH42-04</td>\n",
       "      <td>...</td>\n",
       "      <td>140</td>\n",
       "      <td>Punjab</td>\n",
       "      <td>6.0</td>\n",
       "      <td>Dera Ghazi Khan</td>\n",
       "      <td>607</td>\n",
       "      <td>Taunsa</td>\n",
       "      <td>60703.0</td>\n",
       "      <td>None</td>\n",
       "      <td>0</td>\n",
       "      <td>POINT (661500.357 3467653.119)</td>\n",
       "    </tr>\n",
       "  </tbody>\n",
       "</table>\n",
       "<p>5 rows × 47 columns</p>\n",
       "</div>"
      ],
      "text/plain": [
       "   FID_Settle RC        UFI         UNI        LAT       LONG    DMS_LAT  \\\n",
       "0      105912  5  6048637.0  15681640.0  31.304456  70.340982  31:18:16N   \n",
       "1       26327  5  6143383.0   6151664.0  31.318889  70.775000  31:19:08N   \n",
       "2       44285  5  6352950.0   6574703.0  31.327376  70.598907  31:19:39N   \n",
       "3       44274  5  6140344.0   6574679.0  31.330898  70.529831  31:19:51N   \n",
       "4       44188  5  6140332.0   6574666.0  31.331360  70.698876  31:19:53N   \n",
       "\n",
       "    DMS_LONG             MGRS      JOG  ... FID_Pak_ad            PROVINCE  \\\n",
       "0  70:20:28E  42RXV2761564120  NH42-03  ...        267  Khyber Pakhtunkhwa   \n",
       "1  70:46:30E  42RXV6889866304  NH42-04  ...        335  Khyber Pakhtunkhwa   \n",
       "2  70:35:56E  42RXV5212766988  NH42-04  ...        335  Khyber Pakhtunkhwa   \n",
       "3  70:31:47E  42RXV4554867285  NH42-04  ...        333  Khyber Pakhtunkhwa   \n",
       "4  70:41:56E  42RXV6163267572  NH42-04  ...        140              Punjab   \n",
       "\n",
       "  PROVINCE_C             DISTRICT DISTRICT_C               TEHSIL TEHSIL_C  \\\n",
       "0        4.0  FR Dera Ismail Khan        409  FR Dera Ismail Khan  40901.0   \n",
       "1        2.0     Dera Ismail Khan        207     Dera Ismail Khan  20702.0   \n",
       "2        2.0     Dera Ismail Khan        207     Dera Ismail Khan  20702.0   \n",
       "3        2.0     Dera Ismail Khan        207              Daraban  20701.0   \n",
       "4        6.0      Dera Ghazi Khan        607               Taunsa  60703.0   \n",
       "\n",
       "        Remarks hfs                        geometry  \n",
       "0  Pcode change   0  POINT (627740.770 3464116.408)  \n",
       "1          None   0  POINT (668898.353 3466306.068)  \n",
       "2          None   0  POINT (652125.948 3466991.740)  \n",
       "3          None   0  POINT (645545.368 3467286.350)  \n",
       "4          None   0  POINT (661500.357 3467653.119)  \n",
       "\n",
       "[5 rows x 47 columns]"
      ]
     },
     "execution_count": 69,
     "metadata": {},
     "output_type": "execute_result"
    }
   ],
   "source": [
    "settle.head()"
   ]
  },
  {
   "cell_type": "markdown",
   "id": "pleased-receiver",
   "metadata": {},
   "source": [
    "Transform settlements"
   ]
  },
  {
   "cell_type": "code",
   "execution_count": 70,
   "id": "interior-tractor",
   "metadata": {},
   "outputs": [],
   "source": [
    "set200buff = settle.copy()\n",
    "set200buff.geometry = set200buff.geometry.buffer(200)"
   ]
  },
  {
   "cell_type": "code",
   "execution_count": 71,
   "id": "egyptian-ivory",
   "metadata": {},
   "outputs": [],
   "source": [
    "set200buff.to_file(os.path.join(data_dir,vect_dir,\"KP_Settlements_NGA_2017_200mBuff_32642.shp\"))"
   ]
  },
  {
   "cell_type": "code",
   "execution_count": 72,
   "id": "common-variety",
   "metadata": {},
   "outputs": [
    {
     "data": {
      "text/html": [
       "<div>\n",
       "<style scoped>\n",
       "    .dataframe tbody tr th:only-of-type {\n",
       "        vertical-align: middle;\n",
       "    }\n",
       "\n",
       "    .dataframe tbody tr th {\n",
       "        vertical-align: top;\n",
       "    }\n",
       "\n",
       "    .dataframe thead th {\n",
       "        text-align: right;\n",
       "    }\n",
       "</style>\n",
       "<table border=\"1\" class=\"dataframe\">\n",
       "  <thead>\n",
       "    <tr style=\"text-align: right;\">\n",
       "      <th></th>\n",
       "      <th>FID_Settle</th>\n",
       "      <th>RC</th>\n",
       "      <th>UFI</th>\n",
       "      <th>UNI</th>\n",
       "      <th>LAT</th>\n",
       "      <th>LONG</th>\n",
       "      <th>DMS_LAT</th>\n",
       "      <th>DMS_LONG</th>\n",
       "      <th>MGRS</th>\n",
       "      <th>JOG</th>\n",
       "      <th>...</th>\n",
       "      <th>FID_Pak_ad</th>\n",
       "      <th>PROVINCE</th>\n",
       "      <th>PROVINCE_C</th>\n",
       "      <th>DISTRICT</th>\n",
       "      <th>DISTRICT_C</th>\n",
       "      <th>TEHSIL</th>\n",
       "      <th>TEHSIL_C</th>\n",
       "      <th>Remarks</th>\n",
       "      <th>hfs</th>\n",
       "      <th>geometry</th>\n",
       "    </tr>\n",
       "  </thead>\n",
       "  <tbody>\n",
       "    <tr>\n",
       "      <th>0</th>\n",
       "      <td>105912</td>\n",
       "      <td>5</td>\n",
       "      <td>6048637.0</td>\n",
       "      <td>15681640.0</td>\n",
       "      <td>31.304456</td>\n",
       "      <td>70.340982</td>\n",
       "      <td>31:18:16N</td>\n",
       "      <td>70:20:28E</td>\n",
       "      <td>42RXV2761564120</td>\n",
       "      <td>NH42-03</td>\n",
       "      <td>...</td>\n",
       "      <td>267</td>\n",
       "      <td>Khyber Pakhtunkhwa</td>\n",
       "      <td>4.0</td>\n",
       "      <td>FR Dera Ismail Khan</td>\n",
       "      <td>409</td>\n",
       "      <td>FR Dera Ismail Khan</td>\n",
       "      <td>40901.0</td>\n",
       "      <td>Pcode change</td>\n",
       "      <td>0</td>\n",
       "      <td>POINT (627740.770 3464116.408)</td>\n",
       "    </tr>\n",
       "    <tr>\n",
       "      <th>1</th>\n",
       "      <td>26327</td>\n",
       "      <td>5</td>\n",
       "      <td>6143383.0</td>\n",
       "      <td>6151664.0</td>\n",
       "      <td>31.318889</td>\n",
       "      <td>70.775000</td>\n",
       "      <td>31:19:08N</td>\n",
       "      <td>70:46:30E</td>\n",
       "      <td>42RXV6889866304</td>\n",
       "      <td>NH42-04</td>\n",
       "      <td>...</td>\n",
       "      <td>335</td>\n",
       "      <td>Khyber Pakhtunkhwa</td>\n",
       "      <td>2.0</td>\n",
       "      <td>Dera Ismail Khan</td>\n",
       "      <td>207</td>\n",
       "      <td>Dera Ismail Khan</td>\n",
       "      <td>20702.0</td>\n",
       "      <td>None</td>\n",
       "      <td>0</td>\n",
       "      <td>POINT (668898.353 3466306.068)</td>\n",
       "    </tr>\n",
       "  </tbody>\n",
       "</table>\n",
       "<p>2 rows × 47 columns</p>\n",
       "</div>"
      ],
      "text/plain": [
       "   FID_Settle RC        UFI         UNI        LAT       LONG    DMS_LAT  \\\n",
       "0      105912  5  6048637.0  15681640.0  31.304456  70.340982  31:18:16N   \n",
       "1       26327  5  6143383.0   6151664.0  31.318889  70.775000  31:19:08N   \n",
       "\n",
       "    DMS_LONG             MGRS      JOG  ... FID_Pak_ad            PROVINCE  \\\n",
       "0  70:20:28E  42RXV2761564120  NH42-03  ...        267  Khyber Pakhtunkhwa   \n",
       "1  70:46:30E  42RXV6889866304  NH42-04  ...        335  Khyber Pakhtunkhwa   \n",
       "\n",
       "  PROVINCE_C             DISTRICT DISTRICT_C               TEHSIL TEHSIL_C  \\\n",
       "0        4.0  FR Dera Ismail Khan        409  FR Dera Ismail Khan  40901.0   \n",
       "1        2.0     Dera Ismail Khan        207     Dera Ismail Khan  20702.0   \n",
       "\n",
       "        Remarks hfs                        geometry  \n",
       "0  Pcode change   0  POINT (627740.770 3464116.408)  \n",
       "1          None   0  POINT (668898.353 3466306.068)  \n",
       "\n",
       "[2 rows x 47 columns]"
      ]
     },
     "execution_count": 72,
     "metadata": {},
     "output_type": "execute_result"
    }
   ],
   "source": [
    "settle.head(2)"
   ]
  },
  {
   "cell_type": "markdown",
   "id": "rational-publication",
   "metadata": {},
   "source": [
    "## Aggregate WSF footprints within settlements"
   ]
  },
  {
   "cell_type": "code",
   "execution_count": 73,
   "id": "ready-shoot",
   "metadata": {
    "tags": []
   },
   "outputs": [
    {
     "name": "stderr",
     "output_type": "stream",
     "text": [
      "/Users/robert/.pyenv/versions/geo/lib/python3.9/site-packages/rasterstats/io.py:302: UserWarning: Setting nodata to -999; specify nodata explicitly\n",
      "  warnings.warn(\"Setting nodata to -999; specify nodata explicitly\")\n"
     ]
    }
   ],
   "source": [
    "# run zonal stats on just the geometry column of set200, then join it back to the original GDF based on common indices\n",
    "\n",
    "set200_zs = set200buff.join(\n",
    "    pd.DataFrame(\n",
    "        zonal_stats(\n",
    "                 vectors = set200buff[['geometry','FID_Settle']],\\\n",
    "                 raster = wsf_raw,\\\n",
    "                 affine = wsf_raw_raw.transform,\\\n",
    "                 stats = 'sum'\n",
    "        )\n",
    "    ),\n",
    "    how='left',on='FID_Settle'\n",
    ")"
   ]
  },
  {
   "cell_type": "code",
   "execution_count": 74,
   "id": "protected-description",
   "metadata": {
    "tags": []
   },
   "outputs": [],
   "source": [
    "# run zonal stats on just the geometry column of set200, then join it back to the original GDF based on common indices\n",
    "\n",
    "settle_pts_zs = settle.join(\n",
    "    pd.DataFrame(\n",
    "        zonal_stats(\n",
    "                 vectors = set200buff['geometry'],\\\n",
    "                 raster = wsf_raw,\\\n",
    "                 affine = wsf_raw_raw.transform,\\\n",
    "                 stats = 'sum'\n",
    "        )\n",
    "    ),\n",
    "    how='left'\n",
    ")"
   ]
  },
  {
   "cell_type": "code",
   "execution_count": 75,
   "id": "waiting-removal",
   "metadata": {},
   "outputs": [
    {
     "data": {
      "text/html": [
       "<div>\n",
       "<style scoped>\n",
       "    .dataframe tbody tr th:only-of-type {\n",
       "        vertical-align: middle;\n",
       "    }\n",
       "\n",
       "    .dataframe tbody tr th {\n",
       "        vertical-align: top;\n",
       "    }\n",
       "\n",
       "    .dataframe thead th {\n",
       "        text-align: right;\n",
       "    }\n",
       "</style>\n",
       "<table border=\"1\" class=\"dataframe\">\n",
       "  <thead>\n",
       "    <tr style=\"text-align: right;\">\n",
       "      <th></th>\n",
       "      <th>FID_Settle</th>\n",
       "      <th>RC</th>\n",
       "      <th>UFI</th>\n",
       "      <th>UNI</th>\n",
       "      <th>LAT</th>\n",
       "      <th>LONG</th>\n",
       "      <th>DMS_LAT</th>\n",
       "      <th>DMS_LONG</th>\n",
       "      <th>MGRS</th>\n",
       "      <th>JOG</th>\n",
       "      <th>...</th>\n",
       "      <th>PROVINCE</th>\n",
       "      <th>PROVINCE_C</th>\n",
       "      <th>DISTRICT</th>\n",
       "      <th>DISTRICT_C</th>\n",
       "      <th>TEHSIL</th>\n",
       "      <th>TEHSIL_C</th>\n",
       "      <th>Remarks</th>\n",
       "      <th>hfs</th>\n",
       "      <th>geometry</th>\n",
       "      <th>sum</th>\n",
       "    </tr>\n",
       "  </thead>\n",
       "  <tbody>\n",
       "    <tr>\n",
       "      <th>24620</th>\n",
       "      <td>141210</td>\n",
       "      <td>5</td>\n",
       "      <td>13547314.0</td>\n",
       "      <td>17144204.0</td>\n",
       "      <td>36.863020</td>\n",
       "      <td>73.469833</td>\n",
       "      <td>36:51:47N</td>\n",
       "      <td>73:28:11E</td>\n",
       "      <td>43SCA6360380770</td>\n",
       "      <td>NJ43-13</td>\n",
       "      <td>...</td>\n",
       "      <td>Khyber Pakhtunkhwa</td>\n",
       "      <td>2.0</td>\n",
       "      <td>Chitral</td>\n",
       "      <td>206</td>\n",
       "      <td>Mastuj</td>\n",
       "      <td>20602.0</td>\n",
       "      <td>None</td>\n",
       "      <td>0</td>\n",
       "      <td>POLYGON ((898731.806 4089012.209, 898730.843 4...</td>\n",
       "      <td>NaN</td>\n",
       "    </tr>\n",
       "    <tr>\n",
       "      <th>24621</th>\n",
       "      <td>142643</td>\n",
       "      <td>5</td>\n",
       "      <td>10782804.0</td>\n",
       "      <td>17147188.0</td>\n",
       "      <td>36.864675</td>\n",
       "      <td>73.618352</td>\n",
       "      <td>36:51:53N</td>\n",
       "      <td>73:37:06E</td>\n",
       "      <td>43SCA7684680751</td>\n",
       "      <td>NJ43-14</td>\n",
       "      <td>...</td>\n",
       "      <td>Khyber Pakhtunkhwa</td>\n",
       "      <td>2.0</td>\n",
       "      <td>Chitral</td>\n",
       "      <td>206</td>\n",
       "      <td>Mastuj</td>\n",
       "      <td>20602.0</td>\n",
       "      <td>None</td>\n",
       "      <td>0</td>\n",
       "      <td>POLYGON ((911979.930 4089833.057, 911978.967 4...</td>\n",
       "      <td>NaN</td>\n",
       "    </tr>\n",
       "    <tr>\n",
       "      <th>24622</th>\n",
       "      <td>141213</td>\n",
       "      <td>5</td>\n",
       "      <td>13547317.0</td>\n",
       "      <td>17144207.0</td>\n",
       "      <td>36.864831</td>\n",
       "      <td>73.398221</td>\n",
       "      <td>36:51:53N</td>\n",
       "      <td>73:23:54E</td>\n",
       "      <td>43SCA5722381075</td>\n",
       "      <td>NJ43-13</td>\n",
       "      <td>...</td>\n",
       "      <td>Khyber Pakhtunkhwa</td>\n",
       "      <td>2.0</td>\n",
       "      <td>Chitral</td>\n",
       "      <td>206</td>\n",
       "      <td>Mastuj</td>\n",
       "      <td>20602.0</td>\n",
       "      <td>None</td>\n",
       "      <td>0</td>\n",
       "      <td>POLYGON ((892335.098 4088914.911, 892334.135 4...</td>\n",
       "      <td>NaN</td>\n",
       "    </tr>\n",
       "    <tr>\n",
       "      <th>24623</th>\n",
       "      <td>150286</td>\n",
       "      <td>5</td>\n",
       "      <td>10782813.0</td>\n",
       "      <td>11604437.0</td>\n",
       "      <td>36.868793</td>\n",
       "      <td>73.377642</td>\n",
       "      <td>36:52:08N</td>\n",
       "      <td>73:22:40E</td>\n",
       "      <td>43SCA5539681546</td>\n",
       "      <td>NJ43-13</td>\n",
       "      <td>...</td>\n",
       "      <td>Khyber Pakhtunkhwa</td>\n",
       "      <td>2.0</td>\n",
       "      <td>Chitral</td>\n",
       "      <td>206</td>\n",
       "      <td>Mastuj</td>\n",
       "      <td>20602.0</td>\n",
       "      <td>None</td>\n",
       "      <td>0</td>\n",
       "      <td>POLYGON ((890477.037 4089274.401, 890476.074 4...</td>\n",
       "      <td>NaN</td>\n",
       "    </tr>\n",
       "    <tr>\n",
       "      <th>24624</th>\n",
       "      <td>135201</td>\n",
       "      <td>5</td>\n",
       "      <td>10782803.0</td>\n",
       "      <td>11604427.0</td>\n",
       "      <td>36.874666</td>\n",
       "      <td>73.651880</td>\n",
       "      <td>36:52:29N</td>\n",
       "      <td>73:39:07E</td>\n",
       "      <td>43SCA7985081817</td>\n",
       "      <td>NJ43-14</td>\n",
       "      <td>...</td>\n",
       "      <td>Khyber Pakhtunkhwa</td>\n",
       "      <td>2.0</td>\n",
       "      <td>Chitral</td>\n",
       "      <td>206</td>\n",
       "      <td>Mastuj</td>\n",
       "      <td>20602.0</td>\n",
       "      <td>None</td>\n",
       "      <td>0</td>\n",
       "      <td>POLYGON ((914914.445 4091088.767, 914913.482 4...</td>\n",
       "      <td>NaN</td>\n",
       "    </tr>\n",
       "  </tbody>\n",
       "</table>\n",
       "<p>5 rows × 48 columns</p>\n",
       "</div>"
      ],
      "text/plain": [
       "       FID_Settle RC         UFI         UNI        LAT       LONG    DMS_LAT  \\\n",
       "24620      141210  5  13547314.0  17144204.0  36.863020  73.469833  36:51:47N   \n",
       "24621      142643  5  10782804.0  17147188.0  36.864675  73.618352  36:51:53N   \n",
       "24622      141213  5  13547317.0  17144207.0  36.864831  73.398221  36:51:53N   \n",
       "24623      150286  5  10782813.0  11604437.0  36.868793  73.377642  36:52:08N   \n",
       "24624      135201  5  10782803.0  11604427.0  36.874666  73.651880  36:52:29N   \n",
       "\n",
       "        DMS_LONG             MGRS      JOG  ...            PROVINCE  \\\n",
       "24620  73:28:11E  43SCA6360380770  NJ43-13  ...  Khyber Pakhtunkhwa   \n",
       "24621  73:37:06E  43SCA7684680751  NJ43-14  ...  Khyber Pakhtunkhwa   \n",
       "24622  73:23:54E  43SCA5722381075  NJ43-13  ...  Khyber Pakhtunkhwa   \n",
       "24623  73:22:40E  43SCA5539681546  NJ43-13  ...  Khyber Pakhtunkhwa   \n",
       "24624  73:39:07E  43SCA7985081817  NJ43-14  ...  Khyber Pakhtunkhwa   \n",
       "\n",
       "      PROVINCE_C DISTRICT DISTRICT_C  TEHSIL TEHSIL_C Remarks hfs  \\\n",
       "24620        2.0  Chitral        206  Mastuj  20602.0    None   0   \n",
       "24621        2.0  Chitral        206  Mastuj  20602.0    None   0   \n",
       "24622        2.0  Chitral        206  Mastuj  20602.0    None   0   \n",
       "24623        2.0  Chitral        206  Mastuj  20602.0    None   0   \n",
       "24624        2.0  Chitral        206  Mastuj  20602.0    None   0   \n",
       "\n",
       "                                                geometry sum  \n",
       "24620  POLYGON ((898731.806 4089012.209, 898730.843 4... NaN  \n",
       "24621  POLYGON ((911979.930 4089833.057, 911978.967 4... NaN  \n",
       "24622  POLYGON ((892335.098 4088914.911, 892334.135 4... NaN  \n",
       "24623  POLYGON ((890477.037 4089274.401, 890476.074 4... NaN  \n",
       "24624  POLYGON ((914914.445 4091088.767, 914913.482 4... NaN  \n",
       "\n",
       "[5 rows x 48 columns]"
      ]
     },
     "execution_count": 75,
     "metadata": {},
     "output_type": "execute_result"
    }
   ],
   "source": [
    "set200_zs.tail()"
   ]
  },
  {
   "cell_type": "code",
   "execution_count": 76,
   "id": "suspended-drinking",
   "metadata": {},
   "outputs": [
    {
     "data": {
      "text/html": [
       "<div>\n",
       "<style scoped>\n",
       "    .dataframe tbody tr th:only-of-type {\n",
       "        vertical-align: middle;\n",
       "    }\n",
       "\n",
       "    .dataframe tbody tr th {\n",
       "        vertical-align: top;\n",
       "    }\n",
       "\n",
       "    .dataframe thead th {\n",
       "        text-align: right;\n",
       "    }\n",
       "</style>\n",
       "<table border=\"1\" class=\"dataframe\">\n",
       "  <thead>\n",
       "    <tr style=\"text-align: right;\">\n",
       "      <th></th>\n",
       "      <th>FID_Settle</th>\n",
       "      <th>RC</th>\n",
       "      <th>UFI</th>\n",
       "      <th>UNI</th>\n",
       "      <th>LAT</th>\n",
       "      <th>LONG</th>\n",
       "      <th>DMS_LAT</th>\n",
       "      <th>DMS_LONG</th>\n",
       "      <th>MGRS</th>\n",
       "      <th>JOG</th>\n",
       "      <th>...</th>\n",
       "      <th>PROVINCE</th>\n",
       "      <th>PROVINCE_C</th>\n",
       "      <th>DISTRICT</th>\n",
       "      <th>DISTRICT_C</th>\n",
       "      <th>TEHSIL</th>\n",
       "      <th>TEHSIL_C</th>\n",
       "      <th>Remarks</th>\n",
       "      <th>hfs</th>\n",
       "      <th>geometry</th>\n",
       "      <th>sum</th>\n",
       "    </tr>\n",
       "  </thead>\n",
       "  <tbody>\n",
       "    <tr>\n",
       "      <th>24620</th>\n",
       "      <td>141210</td>\n",
       "      <td>5</td>\n",
       "      <td>13547314.0</td>\n",
       "      <td>17144204.0</td>\n",
       "      <td>36.863020</td>\n",
       "      <td>73.469833</td>\n",
       "      <td>36:51:47N</td>\n",
       "      <td>73:28:11E</td>\n",
       "      <td>43SCA6360380770</td>\n",
       "      <td>NJ43-13</td>\n",
       "      <td>...</td>\n",
       "      <td>Khyber Pakhtunkhwa</td>\n",
       "      <td>2.0</td>\n",
       "      <td>Chitral</td>\n",
       "      <td>206</td>\n",
       "      <td>Mastuj</td>\n",
       "      <td>20602.0</td>\n",
       "      <td>None</td>\n",
       "      <td>0</td>\n",
       "      <td>POINT (898531.806 4089012.209)</td>\n",
       "      <td>15.0</td>\n",
       "    </tr>\n",
       "    <tr>\n",
       "      <th>24621</th>\n",
       "      <td>142643</td>\n",
       "      <td>5</td>\n",
       "      <td>10782804.0</td>\n",
       "      <td>17147188.0</td>\n",
       "      <td>36.864675</td>\n",
       "      <td>73.618352</td>\n",
       "      <td>36:51:53N</td>\n",
       "      <td>73:37:06E</td>\n",
       "      <td>43SCA7684680751</td>\n",
       "      <td>NJ43-14</td>\n",
       "      <td>...</td>\n",
       "      <td>Khyber Pakhtunkhwa</td>\n",
       "      <td>2.0</td>\n",
       "      <td>Chitral</td>\n",
       "      <td>206</td>\n",
       "      <td>Mastuj</td>\n",
       "      <td>20602.0</td>\n",
       "      <td>None</td>\n",
       "      <td>0</td>\n",
       "      <td>POINT (911779.930 4089833.057)</td>\n",
       "      <td>0.0</td>\n",
       "    </tr>\n",
       "    <tr>\n",
       "      <th>24622</th>\n",
       "      <td>141213</td>\n",
       "      <td>5</td>\n",
       "      <td>13547317.0</td>\n",
       "      <td>17144207.0</td>\n",
       "      <td>36.864831</td>\n",
       "      <td>73.398221</td>\n",
       "      <td>36:51:53N</td>\n",
       "      <td>73:23:54E</td>\n",
       "      <td>43SCA5722381075</td>\n",
       "      <td>NJ43-13</td>\n",
       "      <td>...</td>\n",
       "      <td>Khyber Pakhtunkhwa</td>\n",
       "      <td>2.0</td>\n",
       "      <td>Chitral</td>\n",
       "      <td>206</td>\n",
       "      <td>Mastuj</td>\n",
       "      <td>20602.0</td>\n",
       "      <td>None</td>\n",
       "      <td>0</td>\n",
       "      <td>POINT (892135.098 4088914.911)</td>\n",
       "      <td>0.0</td>\n",
       "    </tr>\n",
       "    <tr>\n",
       "      <th>24623</th>\n",
       "      <td>150286</td>\n",
       "      <td>5</td>\n",
       "      <td>10782813.0</td>\n",
       "      <td>11604437.0</td>\n",
       "      <td>36.868793</td>\n",
       "      <td>73.377642</td>\n",
       "      <td>36:52:08N</td>\n",
       "      <td>73:22:40E</td>\n",
       "      <td>43SCA5539681546</td>\n",
       "      <td>NJ43-13</td>\n",
       "      <td>...</td>\n",
       "      <td>Khyber Pakhtunkhwa</td>\n",
       "      <td>2.0</td>\n",
       "      <td>Chitral</td>\n",
       "      <td>206</td>\n",
       "      <td>Mastuj</td>\n",
       "      <td>20602.0</td>\n",
       "      <td>None</td>\n",
       "      <td>0</td>\n",
       "      <td>POINT (890277.037 4089274.401)</td>\n",
       "      <td>29.0</td>\n",
       "    </tr>\n",
       "    <tr>\n",
       "      <th>24624</th>\n",
       "      <td>135201</td>\n",
       "      <td>5</td>\n",
       "      <td>10782803.0</td>\n",
       "      <td>11604427.0</td>\n",
       "      <td>36.874666</td>\n",
       "      <td>73.651880</td>\n",
       "      <td>36:52:29N</td>\n",
       "      <td>73:39:07E</td>\n",
       "      <td>43SCA7985081817</td>\n",
       "      <td>NJ43-14</td>\n",
       "      <td>...</td>\n",
       "      <td>Khyber Pakhtunkhwa</td>\n",
       "      <td>2.0</td>\n",
       "      <td>Chitral</td>\n",
       "      <td>206</td>\n",
       "      <td>Mastuj</td>\n",
       "      <td>20602.0</td>\n",
       "      <td>None</td>\n",
       "      <td>0</td>\n",
       "      <td>POINT (914714.445 4091088.767)</td>\n",
       "      <td>0.0</td>\n",
       "    </tr>\n",
       "  </tbody>\n",
       "</table>\n",
       "<p>5 rows × 48 columns</p>\n",
       "</div>"
      ],
      "text/plain": [
       "       FID_Settle RC         UFI         UNI        LAT       LONG    DMS_LAT  \\\n",
       "24620      141210  5  13547314.0  17144204.0  36.863020  73.469833  36:51:47N   \n",
       "24621      142643  5  10782804.0  17147188.0  36.864675  73.618352  36:51:53N   \n",
       "24622      141213  5  13547317.0  17144207.0  36.864831  73.398221  36:51:53N   \n",
       "24623      150286  5  10782813.0  11604437.0  36.868793  73.377642  36:52:08N   \n",
       "24624      135201  5  10782803.0  11604427.0  36.874666  73.651880  36:52:29N   \n",
       "\n",
       "        DMS_LONG             MGRS      JOG  ...            PROVINCE  \\\n",
       "24620  73:28:11E  43SCA6360380770  NJ43-13  ...  Khyber Pakhtunkhwa   \n",
       "24621  73:37:06E  43SCA7684680751  NJ43-14  ...  Khyber Pakhtunkhwa   \n",
       "24622  73:23:54E  43SCA5722381075  NJ43-13  ...  Khyber Pakhtunkhwa   \n",
       "24623  73:22:40E  43SCA5539681546  NJ43-13  ...  Khyber Pakhtunkhwa   \n",
       "24624  73:39:07E  43SCA7985081817  NJ43-14  ...  Khyber Pakhtunkhwa   \n",
       "\n",
       "      PROVINCE_C DISTRICT DISTRICT_C  TEHSIL TEHSIL_C Remarks hfs  \\\n",
       "24620        2.0  Chitral        206  Mastuj  20602.0    None   0   \n",
       "24621        2.0  Chitral        206  Mastuj  20602.0    None   0   \n",
       "24622        2.0  Chitral        206  Mastuj  20602.0    None   0   \n",
       "24623        2.0  Chitral        206  Mastuj  20602.0    None   0   \n",
       "24624        2.0  Chitral        206  Mastuj  20602.0    None   0   \n",
       "\n",
       "                             geometry   sum  \n",
       "24620  POINT (898531.806 4089012.209)  15.0  \n",
       "24621  POINT (911779.930 4089833.057)   0.0  \n",
       "24622  POINT (892135.098 4088914.911)   0.0  \n",
       "24623  POINT (890277.037 4089274.401)  29.0  \n",
       "24624  POINT (914714.445 4091088.767)   0.0  \n",
       "\n",
       "[5 rows x 48 columns]"
      ]
     },
     "execution_count": 76,
     "metadata": {},
     "output_type": "execute_result"
    }
   ],
   "source": [
    "settle_pts_zs.tail()"
   ]
  },
  {
   "cell_type": "markdown",
   "id": "reasonable-hampshire",
   "metadata": {},
   "source": [
    "### Filter down settlements"
   ]
  },
  {
   "cell_type": "code",
   "execution_count": 77,
   "id": "sixth-nickel",
   "metadata": {},
   "outputs": [],
   "source": [
    "set_any = settle_pts_zs[settle_pts_zs['sum'] > 0]\n",
    "set100 = settle_pts_zs[settle_pts_zs['sum'] > 100]\n",
    "set200 = settle_pts_zs[settle_pts_zs['sum'] > 200]\n",
    "set500 = settle_pts_zs[settle_pts_zs['sum'] > 500]\n",
    "set1000 = settle_pts_zs[settle_pts_zs['sum'] > 1000]\n",
    "# 1500 and above yield no points"
   ]
  },
  {
   "cell_type": "code",
   "execution_count": 78,
   "id": "noted-casino",
   "metadata": {},
   "outputs": [
    {
     "name": "stdout",
     "output_type": "stream",
     "text": [
      "10196\n",
      "3863\n",
      "2482\n",
      "749\n",
      "66\n"
     ]
    }
   ],
   "source": [
    "print(len(set_any))\n",
    "print(len(set100))\n",
    "print(len(set200))\n",
    "print(len(set500))\n",
    "print(len(set1000))"
   ]
  },
  {
   "cell_type": "markdown",
   "id": "mighty-recruitment",
   "metadata": {},
   "source": [
    "### Export"
   ]
  },
  {
   "cell_type": "code",
   "execution_count": 24,
   "id": "fiscal-partner",
   "metadata": {},
   "outputs": [],
   "source": [
    "set200_zs.to_file(os.path.join(data_dir,vect_dir,\"KP_Settlements_NGA_2017_200mBuff_ZS_Results_v2.gpkg\"),\\\n",
    "                  layer='Buffered_Polygons',driver=\"GPKG\")\n",
    "\n",
    "# settle_pts_zs.to_file(os.path.join(data_dir,vect_dir,\"KP_Settlements_NGA_2017_200mBuff_ZS_Results.gpkg\"),\\\n",
    "#                       layer='Points',driver=\"GPKG\")"
   ]
  },
  {
   "cell_type": "code",
   "execution_count": 25,
   "id": "broad-remedy",
   "metadata": {},
   "outputs": [],
   "source": [
    "set_any.to_file(os.path.join(data_dir,vect_dir,\"KP_NGA_Settlements_200mBuff_Filtered.gpkg\"),layer=\"Any\",driver=\"GPKG\")\n",
    "set100.to_file(os.path.join(data_dir,vect_dir,\"KP_NGA_Settlements_200mBuff_Filtered.gpkg\"),layer=\"100plus\",driver=\"GPKG\")\n",
    "set200.to_file(os.path.join(data_dir,vect_dir,\"KP_NGA_Settlements_200mBuff_Filtered.gpkg\"),layer=\"200plus\",driver=\"GPKG\")\n",
    "set500.to_file(os.path.join(data_dir,vect_dir,\"KP_NGA_Settlements_200mBuff_Filtered.gpkg\"),layer=\"500plus\",driver=\"GPKG\")\n",
    "set1000.to_file(os.path.join(data_dir,vect_dir,\"KP_NGA_Settlements_200mBuff_Filtered.gpkg\"),layer=\"1000plus\",driver=\"GPKG\")"
   ]
  },
  {
   "cell_type": "markdown",
   "id": "interracial-sterling",
   "metadata": {},
   "source": [
    "## Develop settlement catchments and aggregate populations within them"
   ]
  },
  {
   "cell_type": "markdown",
   "id": "disturbed-counter",
   "metadata": {},
   "source": [
    "We need to assign populations to settlements to capture their relative importance in the gravity model. This could be done with some sort of buffer but this is crude and would also create double counting issues when settlements are close, unless tedious and somewhat arbitrary difference calculations are imposed on the buffer polygons.</br></br>A better solution is to generate exclusive catchments for the settlements based on the friction surface itself, then summarize populations of interest within these catchments. This has the double benefit of avoiding double counting and also better reflecting how market structures actually work: farmers bring produce to the local town and sell it to middlemen who transport it onwards to the main markets.\n",
    "</br></br>We use GOST's market catchment code in combination with our friction surface to prepare the catchments"
   ]
  },
  {
   "cell_type": "markdown",
   "id": "coastal-bundle",
   "metadata": {},
   "source": [
    "Look at our settlements layer"
   ]
  },
  {
   "cell_type": "code",
   "execution_count": 79,
   "id": "ambient-utility",
   "metadata": {},
   "outputs": [
    {
     "data": {
      "text/html": [
       "<div>\n",
       "<style scoped>\n",
       "    .dataframe tbody tr th:only-of-type {\n",
       "        vertical-align: middle;\n",
       "    }\n",
       "\n",
       "    .dataframe tbody tr th {\n",
       "        vertical-align: top;\n",
       "    }\n",
       "\n",
       "    .dataframe thead th {\n",
       "        text-align: right;\n",
       "    }\n",
       "</style>\n",
       "<table border=\"1\" class=\"dataframe\">\n",
       "  <thead>\n",
       "    <tr style=\"text-align: right;\">\n",
       "      <th></th>\n",
       "      <th>FID_Settle</th>\n",
       "      <th>RC</th>\n",
       "      <th>UFI</th>\n",
       "      <th>UNI</th>\n",
       "      <th>LAT</th>\n",
       "      <th>LONG</th>\n",
       "      <th>DMS_LAT</th>\n",
       "      <th>DMS_LONG</th>\n",
       "      <th>MGRS</th>\n",
       "      <th>JOG</th>\n",
       "      <th>...</th>\n",
       "      <th>PROVINCE</th>\n",
       "      <th>PROVINCE_C</th>\n",
       "      <th>DISTRICT</th>\n",
       "      <th>DISTRICT_C</th>\n",
       "      <th>TEHSIL</th>\n",
       "      <th>TEHSIL_C</th>\n",
       "      <th>Remarks</th>\n",
       "      <th>hfs</th>\n",
       "      <th>geometry</th>\n",
       "      <th>sum</th>\n",
       "    </tr>\n",
       "  </thead>\n",
       "  <tbody>\n",
       "    <tr>\n",
       "      <th>2</th>\n",
       "      <td>44285</td>\n",
       "      <td>5</td>\n",
       "      <td>6352950.0</td>\n",
       "      <td>6574703.0</td>\n",
       "      <td>31.327376</td>\n",
       "      <td>70.598907</td>\n",
       "      <td>31:19:39N</td>\n",
       "      <td>70:35:56E</td>\n",
       "      <td>42RXV5212766988</td>\n",
       "      <td>NH42-04</td>\n",
       "      <td>...</td>\n",
       "      <td>Khyber Pakhtunkhwa</td>\n",
       "      <td>2.0</td>\n",
       "      <td>Dera Ismail Khan</td>\n",
       "      <td>207</td>\n",
       "      <td>Dera Ismail Khan</td>\n",
       "      <td>20702.0</td>\n",
       "      <td>None</td>\n",
       "      <td>0</td>\n",
       "      <td>POINT (652125.948 3466991.740)</td>\n",
       "      <td>230.0</td>\n",
       "    </tr>\n",
       "    <tr>\n",
       "      <th>6</th>\n",
       "      <td>44199</td>\n",
       "      <td>5</td>\n",
       "      <td>6140333.0</td>\n",
       "      <td>6574667.0</td>\n",
       "      <td>31.333203</td>\n",
       "      <td>70.663098</td>\n",
       "      <td>31:20:00N</td>\n",
       "      <td>70:39:47E</td>\n",
       "      <td>42RXV5822567724</td>\n",
       "      <td>NH42-04</td>\n",
       "      <td>...</td>\n",
       "      <td>Khyber Pakhtunkhwa</td>\n",
       "      <td>2.0</td>\n",
       "      <td>Dera Ismail Khan</td>\n",
       "      <td>207</td>\n",
       "      <td>Dera Ismail Khan</td>\n",
       "      <td>20702.0</td>\n",
       "      <td>None</td>\n",
       "      <td>0</td>\n",
       "      <td>POINT (658225.268 3467725.125)</td>\n",
       "      <td>228.0</td>\n",
       "    </tr>\n",
       "    <tr>\n",
       "      <th>11</th>\n",
       "      <td>117250</td>\n",
       "      <td>5</td>\n",
       "      <td>357608.0</td>\n",
       "      <td>445255.0</td>\n",
       "      <td>31.346554</td>\n",
       "      <td>70.348931</td>\n",
       "      <td>31:20:48N</td>\n",
       "      <td>70:20:56E</td>\n",
       "      <td>42RXV2831568796</td>\n",
       "      <td>NH42-03</td>\n",
       "      <td>...</td>\n",
       "      <td>Khyber Pakhtunkhwa</td>\n",
       "      <td>4.0</td>\n",
       "      <td>FR Dera Ismail Khan</td>\n",
       "      <td>409</td>\n",
       "      <td>FR Dera Ismail Khan</td>\n",
       "      <td>40901.0</td>\n",
       "      <td>Pcode change</td>\n",
       "      <td>0</td>\n",
       "      <td>POINT (628311.787 3468790.647)</td>\n",
       "      <td>465.0</td>\n",
       "    </tr>\n",
       "    <tr>\n",
       "      <th>13</th>\n",
       "      <td>44371</td>\n",
       "      <td>5</td>\n",
       "      <td>-2772314.0</td>\n",
       "      <td>-3849092.0</td>\n",
       "      <td>31.350885</td>\n",
       "      <td>70.687971</td>\n",
       "      <td>31:21:03N</td>\n",
       "      <td>70:41:17E</td>\n",
       "      <td>42RXV6056269721</td>\n",
       "      <td>NH42-04</td>\n",
       "      <td>...</td>\n",
       "      <td>Khyber Pakhtunkhwa</td>\n",
       "      <td>2.0</td>\n",
       "      <td>Dera Ismail Khan</td>\n",
       "      <td>207</td>\n",
       "      <td>Dera Ismail Khan</td>\n",
       "      <td>20702.0</td>\n",
       "      <td>None</td>\n",
       "      <td>0</td>\n",
       "      <td>POINT (660564.460 3469723.268)</td>\n",
       "      <td>828.0</td>\n",
       "    </tr>\n",
       "    <tr>\n",
       "      <th>21</th>\n",
       "      <td>44218</td>\n",
       "      <td>5</td>\n",
       "      <td>6140331.0</td>\n",
       "      <td>6150497.0</td>\n",
       "      <td>31.385802</td>\n",
       "      <td>70.709125</td>\n",
       "      <td>31:23:09N</td>\n",
       "      <td>70:42:33E</td>\n",
       "      <td>42RXV6251473622</td>\n",
       "      <td>NH42-04</td>\n",
       "      <td>...</td>\n",
       "      <td>Khyber Pakhtunkhwa</td>\n",
       "      <td>2.0</td>\n",
       "      <td>Dera Ismail Khan</td>\n",
       "      <td>207</td>\n",
       "      <td>Dera Ismail Khan</td>\n",
       "      <td>20702.0</td>\n",
       "      <td>None</td>\n",
       "      <td>0</td>\n",
       "      <td>POINT (662511.697 3473623.051)</td>\n",
       "      <td>243.0</td>\n",
       "    </tr>\n",
       "  </tbody>\n",
       "</table>\n",
       "<p>5 rows × 48 columns</p>\n",
       "</div>"
      ],
      "text/plain": [
       "    FID_Settle RC        UFI        UNI        LAT       LONG    DMS_LAT  \\\n",
       "2        44285  5  6352950.0  6574703.0  31.327376  70.598907  31:19:39N   \n",
       "6        44199  5  6140333.0  6574667.0  31.333203  70.663098  31:20:00N   \n",
       "11      117250  5   357608.0   445255.0  31.346554  70.348931  31:20:48N   \n",
       "13       44371  5 -2772314.0 -3849092.0  31.350885  70.687971  31:21:03N   \n",
       "21       44218  5  6140331.0  6150497.0  31.385802  70.709125  31:23:09N   \n",
       "\n",
       "     DMS_LONG             MGRS      JOG  ...            PROVINCE PROVINCE_C  \\\n",
       "2   70:35:56E  42RXV5212766988  NH42-04  ...  Khyber Pakhtunkhwa        2.0   \n",
       "6   70:39:47E  42RXV5822567724  NH42-04  ...  Khyber Pakhtunkhwa        2.0   \n",
       "11  70:20:56E  42RXV2831568796  NH42-03  ...  Khyber Pakhtunkhwa        4.0   \n",
       "13  70:41:17E  42RXV6056269721  NH42-04  ...  Khyber Pakhtunkhwa        2.0   \n",
       "21  70:42:33E  42RXV6251473622  NH42-04  ...  Khyber Pakhtunkhwa        2.0   \n",
       "\n",
       "               DISTRICT DISTRICT_C               TEHSIL TEHSIL_C  \\\n",
       "2      Dera Ismail Khan        207     Dera Ismail Khan  20702.0   \n",
       "6      Dera Ismail Khan        207     Dera Ismail Khan  20702.0   \n",
       "11  FR Dera Ismail Khan        409  FR Dera Ismail Khan  40901.0   \n",
       "13     Dera Ismail Khan        207     Dera Ismail Khan  20702.0   \n",
       "21     Dera Ismail Khan        207     Dera Ismail Khan  20702.0   \n",
       "\n",
       "         Remarks hfs                        geometry    sum  \n",
       "2           None   0  POINT (652125.948 3466991.740)  230.0  \n",
       "6           None   0  POINT (658225.268 3467725.125)  228.0  \n",
       "11  Pcode change   0  POINT (628311.787 3468790.647)  465.0  \n",
       "13          None   0  POINT (660564.460 3469723.268)  828.0  \n",
       "21          None   0  POINT (662511.697 3473623.051)  243.0  \n",
       "\n",
       "[5 rows x 48 columns]"
      ]
     },
     "execution_count": 79,
     "metadata": {},
     "output_type": "execute_result"
    }
   ],
   "source": [
    "set200.head()"
   ]
  },
  {
   "cell_type": "code",
   "execution_count": 80,
   "id": "interested-marine",
   "metadata": {},
   "outputs": [
    {
     "data": {
      "text/plain": [
       "Index(['FID_Settle', 'RC', 'UFI', 'UNI', 'LAT', 'LONG', 'DMS_LAT', 'DMS_LONG',\n",
       "       'MGRS', 'JOG', 'FC', 'DSG', 'PC', 'CC1', 'ADM1', 'POP', 'ELEV', 'CC2',\n",
       "       'NT', 'LC', 'SHORT_FORM', 'GENERIC', 'SORT_NAME_', 'FULL_NAME_',\n",
       "       'FULL_NAME1', 'SORT_NAME1', 'FULL_NAM_1', 'FULL_NAM_2', 'NOTE',\n",
       "       'MODIFY_DAT', 'DISPLAY', 'NAME_RANK', 'NAME_LINK', 'TRANSL_CD',\n",
       "       'NM_MODIFY_', 'F_EFCTV_DT', 'F_TERM_DT', 'FID_Pak_ad', 'PROVINCE',\n",
       "       'PROVINCE_C', 'DISTRICT', 'DISTRICT_C', 'TEHSIL', 'TEHSIL_C', 'Remarks',\n",
       "       'hfs', 'geometry', 'sum'],\n",
       "      dtype='object')"
      ]
     },
     "execution_count": 80,
     "metadata": {},
     "output_type": "execute_result"
    }
   ],
   "source": [
    "set100.columns"
   ]
  },
  {
   "cell_type": "code",
   "execution_count": 81,
   "id": "compatible-overall",
   "metadata": {},
   "outputs": [],
   "source": [
    "fric_dry = os.path.join(geo_pth,'Accessibility/KP_dry_friction1_210817.tif')"
   ]
  },
  {
   "cell_type": "markdown",
   "id": "recreational-compound",
   "metadata": {},
   "source": [
    "Create an mcp object from the friction surface raster"
   ]
  },
  {
   "cell_type": "code",
   "execution_count": 82,
   "id": "postal-regard",
   "metadata": {},
   "outputs": [],
   "source": [
    "inR = rasterio.open(fric_dry)\n",
    "inD = inR.read()[0,:,:] * inR.transform.a # important to specify pixel size in meters here in oder to get correct measurements\n",
    "inD = np.nan_to_num(inD)\n",
    "mcp = graph.MCP_Geometric(inD)"
   ]
  },
  {
   "cell_type": "markdown",
   "id": "activated-marking",
   "metadata": {},
   "source": [
    "Find the MCP destination indices on the raster surface and stash them in a list of tuples"
   ]
  },
  {
   "cell_type": "code",
   "execution_count": 83,
   "id": "completed-hamburg",
   "metadata": {},
   "outputs": [],
   "source": [
    "dests = ma.get_mcp_dests(inR, set100, makeset=False)"
   ]
  },
  {
   "cell_type": "markdown",
   "id": "different-yukon",
   "metadata": {},
   "source": [
    "use the dests and mcp object to generate catchment areas around the settlements"
   ]
  },
  {
   "cell_type": "code",
   "execution_count": 84,
   "id": "spanish-clothing",
   "metadata": {},
   "outputs": [
    {
     "data": {
      "text/plain": [
       "\u001b[0;31mSignature:\u001b[0m\n",
       "\u001b[0mma\u001b[0m\u001b[0;34m.\u001b[0m\u001b[0mgenerate_market_sheds\u001b[0m\u001b[0;34m(\u001b[0m\u001b[0;34m\u001b[0m\n",
       "\u001b[0;34m\u001b[0m    \u001b[0minR\u001b[0m\u001b[0;34m,\u001b[0m\u001b[0;34m\u001b[0m\n",
       "\u001b[0;34m\u001b[0m    \u001b[0minH\u001b[0m\u001b[0;34m,\u001b[0m\u001b[0;34m\u001b[0m\n",
       "\u001b[0;34m\u001b[0m    \u001b[0mout_file\u001b[0m\u001b[0;34m=\u001b[0m\u001b[0;34m''\u001b[0m\u001b[0;34m,\u001b[0m\u001b[0;34m\u001b[0m\n",
       "\u001b[0;34m\u001b[0m    \u001b[0mverbose\u001b[0m\u001b[0;34m=\u001b[0m\u001b[0;32mTrue\u001b[0m\u001b[0;34m,\u001b[0m\u001b[0;34m\u001b[0m\n",
       "\u001b[0;34m\u001b[0m    \u001b[0mfactor\u001b[0m\u001b[0;34m=\u001b[0m\u001b[0;36m1000\u001b[0m\u001b[0;34m,\u001b[0m\u001b[0;34m\u001b[0m\n",
       "\u001b[0;34m\u001b[0m    \u001b[0mbandIdx\u001b[0m\u001b[0;34m=\u001b[0m\u001b[0;36m0\u001b[0m\u001b[0;34m,\u001b[0m\u001b[0;34m\u001b[0m\n",
       "\u001b[0;34m\u001b[0m\u001b[0;34m)\u001b[0m\u001b[0;34m\u001b[0m\u001b[0;34m\u001b[0m\u001b[0m\n",
       "\u001b[0;31mDocstring:\u001b[0m\n",
       "identify pixel-level maps of market sheds based on travel time    \n",
       "INPUTS\n",
       "    inR [rasterio] - raster from which to grab index for calculations in MCP\n",
       "    inH [geopandas data frame] - geopandas data frame of destinations\n",
       "    factor [int] - value by which to multiply raster \n",
       "    \n",
       "RETURNS\n",
       "    [numpy array] - marketsheds by index\n",
       "    \n",
       "NOTES:\n",
       "    Incredible help from StackOverflow:\n",
       "    https://stackoverflow.com/questions/62135639/mcp-geometrics-for-calculating-marketsheds\n",
       "    https://gist.github.com/bpstewar/9c15fc0948e82aa9667f1b04fd2c0295\n",
       "\u001b[0;31mSource:\u001b[0m   \n",
       "\u001b[0;32mdef\u001b[0m \u001b[0mgenerate_market_sheds\u001b[0m\u001b[0;34m(\u001b[0m\u001b[0minR\u001b[0m\u001b[0;34m,\u001b[0m \u001b[0minH\u001b[0m\u001b[0;34m,\u001b[0m \u001b[0mout_file\u001b[0m\u001b[0;34m=\u001b[0m\u001b[0;34m''\u001b[0m\u001b[0;34m,\u001b[0m \u001b[0mverbose\u001b[0m\u001b[0;34m=\u001b[0m\u001b[0;32mTrue\u001b[0m\u001b[0;34m,\u001b[0m \u001b[0mfactor\u001b[0m\u001b[0;34m=\u001b[0m\u001b[0;36m1000\u001b[0m\u001b[0;34m,\u001b[0m \u001b[0mbandIdx\u001b[0m\u001b[0;34m=\u001b[0m\u001b[0;36m0\u001b[0m\u001b[0;34m)\u001b[0m\u001b[0;34m:\u001b[0m\u001b[0;34m\u001b[0m\n",
       "\u001b[0;34m\u001b[0m    \u001b[0;34m''' identify pixel-level maps of market sheds based on travel time    \u001b[0m\n",
       "\u001b[0;34m    INPUTS\u001b[0m\n",
       "\u001b[0;34m        inR [rasterio] - raster from which to grab index for calculations in MCP\u001b[0m\n",
       "\u001b[0;34m        inH [geopandas data frame] - geopandas data frame of destinations\u001b[0m\n",
       "\u001b[0;34m        factor [int] - value by which to multiply raster \u001b[0m\n",
       "\u001b[0;34m        \u001b[0m\n",
       "\u001b[0;34m    RETURNS\u001b[0m\n",
       "\u001b[0;34m        [numpy array] - marketsheds by index\u001b[0m\n",
       "\u001b[0;34m        \u001b[0m\n",
       "\u001b[0;34m    NOTES:\u001b[0m\n",
       "\u001b[0;34m        Incredible help from StackOverflow:\u001b[0m\n",
       "\u001b[0;34m        https://stackoverflow.com/questions/62135639/mcp-geometrics-for-calculating-marketsheds\u001b[0m\n",
       "\u001b[0;34m        https://gist.github.com/bpstewar/9c15fc0948e82aa9667f1b04fd2c0295\u001b[0m\n",
       "\u001b[0;34m    '''\u001b[0m\u001b[0;34m\u001b[0m\n",
       "\u001b[0;34m\u001b[0m    \u001b[0mxx\u001b[0m \u001b[0;34m=\u001b[0m \u001b[0minR\u001b[0m\u001b[0;34m.\u001b[0m\u001b[0mread\u001b[0m\u001b[0;34m(\u001b[0m\u001b[0;34m)\u001b[0m\u001b[0;34m[\u001b[0m\u001b[0mbandIdx\u001b[0m\u001b[0;34m,\u001b[0m\u001b[0;34m:\u001b[0m\u001b[0;34m,\u001b[0m\u001b[0;34m:\u001b[0m\u001b[0;34m]\u001b[0m \u001b[0;34m*\u001b[0m \u001b[0mfactor\u001b[0m\u001b[0;34m\u001b[0m\n",
       "\u001b[0;34m\u001b[0m    \u001b[0morig_shape\u001b[0m \u001b[0;34m=\u001b[0m \u001b[0mxx\u001b[0m\u001b[0;34m.\u001b[0m\u001b[0mshape\u001b[0m\u001b[0;34m\u001b[0m\n",
       "\u001b[0;34m\u001b[0m    \u001b[0;31m# In order to calculate the marketsheds, the input array needs to be NxN shape, \u001b[0m\u001b[0;34m\u001b[0m\n",
       "\u001b[0;34m\u001b[0m    \u001b[0;31m#   at the end, we will select out the original shape in order to write to file\u001b[0m\u001b[0;34m\u001b[0m\n",
       "\u001b[0;34m\u001b[0m    \u001b[0mmax_speed\u001b[0m \u001b[0;34m=\u001b[0m \u001b[0mxx\u001b[0m\u001b[0;34m.\u001b[0m\u001b[0mmax\u001b[0m\u001b[0;34m(\u001b[0m\u001b[0;34m)\u001b[0m\u001b[0;34m\u001b[0m\n",
       "\u001b[0;34m\u001b[0m    \u001b[0;32mif\u001b[0m \u001b[0mxx\u001b[0m\u001b[0;34m.\u001b[0m\u001b[0mshape\u001b[0m\u001b[0;34m[\u001b[0m\u001b[0;36m0\u001b[0m\u001b[0;34m]\u001b[0m \u001b[0;34m<\u001b[0m \u001b[0mxx\u001b[0m\u001b[0;34m.\u001b[0m\u001b[0mshape\u001b[0m\u001b[0;34m[\u001b[0m\u001b[0;36m1\u001b[0m\u001b[0;34m]\u001b[0m\u001b[0;34m:\u001b[0m\u001b[0;34m\u001b[0m\n",
       "\u001b[0;34m\u001b[0m        \u001b[0mextra_size\u001b[0m \u001b[0;34m=\u001b[0m \u001b[0mnp\u001b[0m\u001b[0;34m.\u001b[0m\u001b[0mzeros\u001b[0m\u001b[0;34m(\u001b[0m\u001b[0;34m[\u001b[0m\u001b[0;34m(\u001b[0m\u001b[0mxx\u001b[0m\u001b[0;34m.\u001b[0m\u001b[0mshape\u001b[0m\u001b[0;34m[\u001b[0m\u001b[0;36m1\u001b[0m\u001b[0;34m]\u001b[0m \u001b[0;34m-\u001b[0m \u001b[0mxx\u001b[0m\u001b[0;34m.\u001b[0m\u001b[0mshape\u001b[0m\u001b[0;34m[\u001b[0m\u001b[0;36m0\u001b[0m\u001b[0;34m]\u001b[0m\u001b[0;34m)\u001b[0m\u001b[0;34m,\u001b[0m \u001b[0mxx\u001b[0m\u001b[0;34m.\u001b[0m\u001b[0mshape\u001b[0m\u001b[0;34m[\u001b[0m\u001b[0;36m1\u001b[0m\u001b[0;34m]\u001b[0m\u001b[0;34m]\u001b[0m\u001b[0;34m)\u001b[0m \u001b[0;34m+\u001b[0m \u001b[0mmax_speed\u001b[0m\u001b[0;34m\u001b[0m\n",
       "\u001b[0;34m\u001b[0m        \u001b[0mnew_xx\u001b[0m \u001b[0;34m=\u001b[0m \u001b[0mnp\u001b[0m\u001b[0;34m.\u001b[0m\u001b[0mvstack\u001b[0m\u001b[0;34m(\u001b[0m\u001b[0;34m[\u001b[0m\u001b[0mxx\u001b[0m\u001b[0;34m,\u001b[0m \u001b[0mextra_size\u001b[0m\u001b[0;34m]\u001b[0m\u001b[0;34m)\u001b[0m\u001b[0;34m\u001b[0m\n",
       "\u001b[0;34m\u001b[0m        \u001b[0;34m\u001b[0m\n",
       "\u001b[0;34m\u001b[0m    \u001b[0;32mif\u001b[0m \u001b[0mxx\u001b[0m\u001b[0;34m.\u001b[0m\u001b[0mshape\u001b[0m\u001b[0;34m[\u001b[0m\u001b[0;36m1\u001b[0m\u001b[0;34m]\u001b[0m \u001b[0;34m<\u001b[0m \u001b[0mxx\u001b[0m\u001b[0;34m.\u001b[0m\u001b[0mshape\u001b[0m\u001b[0;34m[\u001b[0m\u001b[0;36m0\u001b[0m\u001b[0;34m]\u001b[0m\u001b[0;34m:\u001b[0m\u001b[0;34m\u001b[0m\n",
       "\u001b[0;34m\u001b[0m        \u001b[0mextra_size\u001b[0m \u001b[0;34m=\u001b[0m \u001b[0mnp\u001b[0m\u001b[0;34m.\u001b[0m\u001b[0mzeros\u001b[0m\u001b[0;34m(\u001b[0m\u001b[0;34m[\u001b[0m\u001b[0;34m(\u001b[0m\u001b[0mxx\u001b[0m\u001b[0;34m.\u001b[0m\u001b[0mshape\u001b[0m\u001b[0;34m[\u001b[0m\u001b[0;36m0\u001b[0m\u001b[0;34m]\u001b[0m \u001b[0;34m-\u001b[0m \u001b[0mxx\u001b[0m\u001b[0;34m.\u001b[0m\u001b[0mshape\u001b[0m\u001b[0;34m[\u001b[0m\u001b[0;36m1\u001b[0m\u001b[0;34m]\u001b[0m\u001b[0;34m)\u001b[0m\u001b[0;34m,\u001b[0m \u001b[0mxx\u001b[0m\u001b[0;34m.\u001b[0m\u001b[0mshape\u001b[0m\u001b[0;34m[\u001b[0m\u001b[0;36m0\u001b[0m\u001b[0;34m]\u001b[0m\u001b[0;34m]\u001b[0m\u001b[0;34m)\u001b[0m \u001b[0;34m+\u001b[0m \u001b[0mmax_speed\u001b[0m\u001b[0;34m\u001b[0m\n",
       "\u001b[0;34m\u001b[0m        \u001b[0mnew_xx\u001b[0m \u001b[0;34m=\u001b[0m \u001b[0mnp\u001b[0m\u001b[0;34m.\u001b[0m\u001b[0mhstack\u001b[0m\u001b[0;34m(\u001b[0m\u001b[0;34m[\u001b[0m\u001b[0mxx\u001b[0m\u001b[0;34m,\u001b[0m \u001b[0mextra_size\u001b[0m\u001b[0;34m]\u001b[0m\u001b[0;34m)\u001b[0m        \u001b[0;34m\u001b[0m\n",
       "\u001b[0;34m\u001b[0m    \u001b[0mmcp\u001b[0m \u001b[0;34m=\u001b[0m \u001b[0mgraph\u001b[0m\u001b[0;34m.\u001b[0m\u001b[0mMCP_Geometric\u001b[0m\u001b[0;34m(\u001b[0m\u001b[0mnew_xx\u001b[0m\u001b[0;34m)\u001b[0m\u001b[0;34m\u001b[0m\n",
       "\u001b[0;34m\u001b[0m    \u001b[0;34m\u001b[0m\n",
       "\u001b[0;34m\u001b[0m    \u001b[0;34m\u001b[0m\n",
       "\u001b[0;34m\u001b[0m    \u001b[0mdests\u001b[0m \u001b[0;34m=\u001b[0m \u001b[0mget_mcp_dests\u001b[0m\u001b[0;34m(\u001b[0m\u001b[0minR\u001b[0m\u001b[0;34m,\u001b[0m \u001b[0minH\u001b[0m\u001b[0;34m)\u001b[0m    \u001b[0;34m\u001b[0m\n",
       "\u001b[0;34m\u001b[0m    \u001b[0mcosts\u001b[0m\u001b[0;34m,\u001b[0m \u001b[0mtraceback\u001b[0m \u001b[0;34m=\u001b[0m \u001b[0mmcp\u001b[0m\u001b[0;34m.\u001b[0m\u001b[0mfind_costs\u001b[0m\u001b[0;34m(\u001b[0m\u001b[0mdests\u001b[0m\u001b[0;34m)\u001b[0m\u001b[0;34m\u001b[0m\n",
       "\u001b[0;34m\u001b[0m    \u001b[0;34m\u001b[0m\n",
       "\u001b[0;34m\u001b[0m    \u001b[0moffsets\u001b[0m \u001b[0;34m=\u001b[0m \u001b[0m_mcp\u001b[0m\u001b[0;34m.\u001b[0m\u001b[0mmake_offsets\u001b[0m\u001b[0;34m(\u001b[0m\u001b[0;36m2\u001b[0m\u001b[0;34m,\u001b[0m \u001b[0;32mTrue\u001b[0m\u001b[0;34m)\u001b[0m\u001b[0;34m\u001b[0m\n",
       "\u001b[0;34m\u001b[0m    \u001b[0moffsets\u001b[0m\u001b[0;34m.\u001b[0m\u001b[0mappend\u001b[0m\u001b[0;34m(\u001b[0m\u001b[0mnp\u001b[0m\u001b[0;34m.\u001b[0m\u001b[0marray\u001b[0m\u001b[0;34m(\u001b[0m\u001b[0;34m[\u001b[0m\u001b[0;36m0\u001b[0m\u001b[0;34m,\u001b[0m \u001b[0;36m0\u001b[0m\u001b[0;34m]\u001b[0m\u001b[0;34m)\u001b[0m\u001b[0;34m)\u001b[0m\u001b[0;34m\u001b[0m\n",
       "\u001b[0;34m\u001b[0m    \u001b[0moffsets_arr\u001b[0m \u001b[0;34m=\u001b[0m \u001b[0mnp\u001b[0m\u001b[0;34m.\u001b[0m\u001b[0marray\u001b[0m\u001b[0;34m(\u001b[0m\u001b[0moffsets\u001b[0m\u001b[0;34m)\u001b[0m\u001b[0;34m\u001b[0m\n",
       "\u001b[0;34m\u001b[0m    \u001b[0mindices\u001b[0m \u001b[0;34m=\u001b[0m \u001b[0mnp\u001b[0m\u001b[0;34m.\u001b[0m\u001b[0mindices\u001b[0m\u001b[0;34m(\u001b[0m\u001b[0mtraceback\u001b[0m\u001b[0;34m.\u001b[0m\u001b[0mshape\u001b[0m\u001b[0;34m)\u001b[0m\u001b[0;34m\u001b[0m\n",
       "\u001b[0;34m\u001b[0m    \u001b[0moffset_to_neighbor\u001b[0m \u001b[0;34m=\u001b[0m \u001b[0moffsets_arr\u001b[0m\u001b[0;34m[\u001b[0m\u001b[0mtraceback\u001b[0m\u001b[0;34m]\u001b[0m\u001b[0;34m\u001b[0m\n",
       "\u001b[0;34m\u001b[0m    \u001b[0mneighbor_index\u001b[0m \u001b[0;34m=\u001b[0m \u001b[0mindices\u001b[0m \u001b[0;34m-\u001b[0m \u001b[0moffset_to_neighbor\u001b[0m\u001b[0;34m.\u001b[0m\u001b[0mtranspose\u001b[0m\u001b[0;34m(\u001b[0m\u001b[0;34m(\u001b[0m\u001b[0;36m2\u001b[0m\u001b[0;34m,\u001b[0m \u001b[0;36m0\u001b[0m\u001b[0;34m,\u001b[0m \u001b[0;36m1\u001b[0m\u001b[0;34m)\u001b[0m\u001b[0;34m)\u001b[0m\u001b[0;34m\u001b[0m\n",
       "\u001b[0;34m\u001b[0m    \u001b[0mids\u001b[0m \u001b[0;34m=\u001b[0m \u001b[0mnp\u001b[0m\u001b[0;34m.\u001b[0m\u001b[0marange\u001b[0m\u001b[0;34m(\u001b[0m\u001b[0mtraceback\u001b[0m\u001b[0;34m.\u001b[0m\u001b[0msize\u001b[0m\u001b[0;34m)\u001b[0m\u001b[0;34m.\u001b[0m\u001b[0mreshape\u001b[0m\u001b[0;34m(\u001b[0m\u001b[0mcosts\u001b[0m\u001b[0;34m.\u001b[0m\u001b[0mshape\u001b[0m\u001b[0;34m)\u001b[0m\u001b[0;34m\u001b[0m\n",
       "\u001b[0;34m\u001b[0m    \u001b[0mneighbor_ids\u001b[0m \u001b[0;34m=\u001b[0m \u001b[0mnp\u001b[0m\u001b[0;34m.\u001b[0m\u001b[0mravel_multi_index\u001b[0m\u001b[0;34m(\u001b[0m\u001b[0;34m\u001b[0m\n",
       "\u001b[0;34m\u001b[0m        \u001b[0mtuple\u001b[0m\u001b[0;34m(\u001b[0m\u001b[0mneighbor_index\u001b[0m\u001b[0;34m)\u001b[0m\u001b[0;34m,\u001b[0m \u001b[0mtraceback\u001b[0m\u001b[0;34m.\u001b[0m\u001b[0mshape\u001b[0m\u001b[0;34m\u001b[0m\n",
       "\u001b[0;34m\u001b[0m    \u001b[0;34m)\u001b[0m\u001b[0;34m\u001b[0m\n",
       "\u001b[0;34m\u001b[0m    \u001b[0mg\u001b[0m \u001b[0;34m=\u001b[0m \u001b[0msparse\u001b[0m\u001b[0;34m.\u001b[0m\u001b[0mcoo_matrix\u001b[0m\u001b[0;34m(\u001b[0m\u001b[0;34m(\u001b[0m\u001b[0;34m\u001b[0m\n",
       "\u001b[0;34m\u001b[0m        \u001b[0mnp\u001b[0m\u001b[0;34m.\u001b[0m\u001b[0mones\u001b[0m\u001b[0;34m(\u001b[0m\u001b[0mtraceback\u001b[0m\u001b[0;34m.\u001b[0m\u001b[0msize\u001b[0m\u001b[0;34m)\u001b[0m\u001b[0;34m,\u001b[0m\u001b[0;34m\u001b[0m\n",
       "\u001b[0;34m\u001b[0m        \u001b[0;34m(\u001b[0m\u001b[0mids\u001b[0m\u001b[0;34m.\u001b[0m\u001b[0mflat\u001b[0m\u001b[0;34m,\u001b[0m \u001b[0mneighbor_ids\u001b[0m\u001b[0;34m.\u001b[0m\u001b[0mflat\u001b[0m\u001b[0;34m)\u001b[0m\u001b[0;34m,\u001b[0m\u001b[0;34m\u001b[0m\n",
       "\u001b[0;34m\u001b[0m    \u001b[0;34m)\u001b[0m\u001b[0;34m,\u001b[0m \u001b[0mshape\u001b[0m\u001b[0;34m=\u001b[0m\u001b[0;34m[\u001b[0m\u001b[0mtraceback\u001b[0m\u001b[0;34m.\u001b[0m\u001b[0msize\u001b[0m\u001b[0;34m,\u001b[0m \u001b[0mtraceback\u001b[0m\u001b[0;34m.\u001b[0m\u001b[0msize\u001b[0m\u001b[0;34m]\u001b[0m\u001b[0;34m)\u001b[0m\u001b[0;34m.\u001b[0m\u001b[0mtocsr\u001b[0m\u001b[0;34m(\u001b[0m\u001b[0;34m)\u001b[0m\u001b[0;34m\u001b[0m\n",
       "\u001b[0;34m\u001b[0m    \u001b[0mn\u001b[0m\u001b[0;34m,\u001b[0m \u001b[0mcomponents\u001b[0m \u001b[0;34m=\u001b[0m \u001b[0msparse\u001b[0m\u001b[0;34m.\u001b[0m\u001b[0mcsgraph\u001b[0m\u001b[0;34m.\u001b[0m\u001b[0mconnected_components\u001b[0m\u001b[0;34m(\u001b[0m\u001b[0mg\u001b[0m\u001b[0;34m)\u001b[0m\u001b[0;34m\u001b[0m\n",
       "\u001b[0;34m\u001b[0m    \u001b[0mbasins\u001b[0m \u001b[0;34m=\u001b[0m \u001b[0mcomponents\u001b[0m\u001b[0;34m.\u001b[0m\u001b[0mreshape\u001b[0m\u001b[0;34m(\u001b[0m\u001b[0mcosts\u001b[0m\u001b[0;34m.\u001b[0m\u001b[0mshape\u001b[0m\u001b[0;34m)\u001b[0m\u001b[0;34m\u001b[0m\n",
       "\u001b[0;34m\u001b[0m    \u001b[0mout_basins\u001b[0m \u001b[0;34m=\u001b[0m \u001b[0mbasins\u001b[0m\u001b[0;34m[\u001b[0m\u001b[0;34m:\u001b[0m\u001b[0morig_shape\u001b[0m\u001b[0;34m[\u001b[0m\u001b[0;36m0\u001b[0m\u001b[0;34m]\u001b[0m\u001b[0;34m,\u001b[0m \u001b[0;34m:\u001b[0m\u001b[0morig_shape\u001b[0m\u001b[0;34m[\u001b[0m\u001b[0;36m1\u001b[0m\u001b[0;34m]\u001b[0m\u001b[0;34m]\u001b[0m\u001b[0;34m\u001b[0m\n",
       "\u001b[0;34m\u001b[0m    \u001b[0;32mif\u001b[0m \u001b[0mout_file\u001b[0m \u001b[0;34m!=\u001b[0m \u001b[0;34m''\u001b[0m\u001b[0;34m:\u001b[0m\u001b[0;34m\u001b[0m\n",
       "\u001b[0;34m\u001b[0m        \u001b[0mmeta\u001b[0m \u001b[0;34m=\u001b[0m \u001b[0minR\u001b[0m\u001b[0;34m.\u001b[0m\u001b[0mmeta\u001b[0m\u001b[0;34m.\u001b[0m\u001b[0mcopy\u001b[0m\u001b[0;34m(\u001b[0m\u001b[0;34m)\u001b[0m\u001b[0;34m\u001b[0m\n",
       "\u001b[0;34m\u001b[0m        \u001b[0mmeta\u001b[0m\u001b[0;34m.\u001b[0m\u001b[0mupdate\u001b[0m\u001b[0;34m(\u001b[0m\u001b[0mdtype\u001b[0m\u001b[0;34m=\u001b[0m\u001b[0mout_basins\u001b[0m\u001b[0;34m.\u001b[0m\u001b[0mdtype\u001b[0m\u001b[0;34m)\u001b[0m\u001b[0;34m\u001b[0m\n",
       "\u001b[0;34m\u001b[0m        \u001b[0;32mwith\u001b[0m \u001b[0mrasterio\u001b[0m\u001b[0;34m.\u001b[0m\u001b[0mopen\u001b[0m\u001b[0;34m(\u001b[0m\u001b[0mout_file\u001b[0m\u001b[0;34m,\u001b[0m \u001b[0;34m'w'\u001b[0m\u001b[0;34m,\u001b[0m \u001b[0;34m**\u001b[0m\u001b[0mmeta\u001b[0m\u001b[0;34m)\u001b[0m \u001b[0;32mas\u001b[0m \u001b[0mout_raster\u001b[0m\u001b[0;34m:\u001b[0m\u001b[0;34m\u001b[0m\n",
       "\u001b[0;34m\u001b[0m            \u001b[0mout_raster\u001b[0m\u001b[0;34m.\u001b[0m\u001b[0mwrite_band\u001b[0m\u001b[0;34m(\u001b[0m\u001b[0;36m1\u001b[0m\u001b[0;34m,\u001b[0m \u001b[0mout_basins\u001b[0m\u001b[0;34m)\u001b[0m\u001b[0;34m\u001b[0m\n",
       "\u001b[0;34m\u001b[0m    \u001b[0;32melse\u001b[0m\u001b[0;34m:\u001b[0m\u001b[0;34m\u001b[0m\n",
       "\u001b[0;34m\u001b[0m        \u001b[0;32mreturn\u001b[0m\u001b[0;34m(\u001b[0m\u001b[0mout_basins\u001b[0m\u001b[0;34m)\u001b[0m\u001b[0;34m\u001b[0m\u001b[0;34m\u001b[0m\u001b[0m\n",
       "\u001b[0;31mFile:\u001b[0m      ~/git/KP_SpatialAnalysis/src/GOSTNets_Raster/src/GOSTNets_Raster/market_access.py\n",
       "\u001b[0;31mType:\u001b[0m      function\n"
      ]
     },
     "metadata": {},
     "output_type": "display_data"
    }
   ],
   "source": [
    "ma.generate_market_sheds??"
   ]
  },
  {
   "cell_type": "markdown",
   "id": "satellite-burke",
   "metadata": {},
   "source": [
    "Generate the actual catchments -- this will take a while"
   ]
  },
  {
   "cell_type": "code",
   "execution_count": 86,
   "id": "cross-default",
   "metadata": {},
   "outputs": [
    {
     "data": {
      "text/plain": [
       "Int64Index([    2,     6,     8,    11,    13,    19,    21,    23,    25,\n",
       "               27,\n",
       "            ...\n",
       "            24234, 24237, 24292, 24334, 24374, 24404, 24415, 24419, 24519,\n",
       "            24551],\n",
       "           dtype='int64', length=3863)"
      ]
     },
     "execution_count": 86,
     "metadata": {},
     "output_type": "execute_result"
    }
   ],
   "source": [
    "set100.index"
   ]
  },
  {
   "cell_type": "code",
   "execution_count": 85,
   "id": "trying-taste",
   "metadata": {},
   "outputs": [
    {
     "ename": "ValueError",
     "evalue": "invalid entry in coordinates array",
     "output_type": "error",
     "traceback": [
      "\u001b[0;31m---------------------------------------------------------------------------\u001b[0m",
      "\u001b[0;31mValueError\u001b[0m                                Traceback (most recent call last)",
      "\u001b[0;32m<ipython-input-85-b443a8ee9a06>\u001b[0m in \u001b[0;36m<module>\u001b[0;34m\u001b[0m\n\u001b[0;32m----> 1\u001b[0;31m \u001b[0mset100_catch\u001b[0m \u001b[0;34m=\u001b[0m \u001b[0mma\u001b[0m\u001b[0;34m.\u001b[0m\u001b[0mgenerate_market_sheds\u001b[0m\u001b[0;34m(\u001b[0m\u001b[0minR\u001b[0m\u001b[0;34m,\u001b[0m\u001b[0mset100\u001b[0m\u001b[0;34m,\u001b[0m\u001b[0minR\u001b[0m\u001b[0;34m.\u001b[0m\u001b[0mtransform\u001b[0m\u001b[0;34m.\u001b[0m\u001b[0ma\u001b[0m\u001b[0;34m)\u001b[0m\u001b[0;34m\u001b[0m\u001b[0;34m\u001b[0m\u001b[0m\n\u001b[0m",
      "\u001b[0;32m~/git/KP_SpatialAnalysis/src/GOSTNets_Raster/src/GOSTNets_Raster/market_access.py\u001b[0m in \u001b[0;36mgenerate_market_sheds\u001b[0;34m(inR, inH, out_file, verbose, factor, bandIdx)\u001b[0m\n\u001b[1;32m    231\u001b[0m     \u001b[0mneighbor_index\u001b[0m \u001b[0;34m=\u001b[0m \u001b[0mindices\u001b[0m \u001b[0;34m-\u001b[0m \u001b[0moffset_to_neighbor\u001b[0m\u001b[0;34m.\u001b[0m\u001b[0mtranspose\u001b[0m\u001b[0;34m(\u001b[0m\u001b[0;34m(\u001b[0m\u001b[0;36m2\u001b[0m\u001b[0;34m,\u001b[0m \u001b[0;36m0\u001b[0m\u001b[0;34m,\u001b[0m \u001b[0;36m1\u001b[0m\u001b[0;34m)\u001b[0m\u001b[0;34m)\u001b[0m\u001b[0;34m\u001b[0m\u001b[0;34m\u001b[0m\u001b[0m\n\u001b[1;32m    232\u001b[0m     \u001b[0mids\u001b[0m \u001b[0;34m=\u001b[0m \u001b[0mnp\u001b[0m\u001b[0;34m.\u001b[0m\u001b[0marange\u001b[0m\u001b[0;34m(\u001b[0m\u001b[0mtraceback\u001b[0m\u001b[0;34m.\u001b[0m\u001b[0msize\u001b[0m\u001b[0;34m)\u001b[0m\u001b[0;34m.\u001b[0m\u001b[0mreshape\u001b[0m\u001b[0;34m(\u001b[0m\u001b[0mcosts\u001b[0m\u001b[0;34m.\u001b[0m\u001b[0mshape\u001b[0m\u001b[0;34m)\u001b[0m\u001b[0;34m\u001b[0m\u001b[0;34m\u001b[0m\u001b[0m\n\u001b[0;32m--> 233\u001b[0;31m     neighbor_ids = np.ravel_multi_index(\n\u001b[0m\u001b[1;32m    234\u001b[0m         \u001b[0mtuple\u001b[0m\u001b[0;34m(\u001b[0m\u001b[0mneighbor_index\u001b[0m\u001b[0;34m)\u001b[0m\u001b[0;34m,\u001b[0m \u001b[0mtraceback\u001b[0m\u001b[0;34m.\u001b[0m\u001b[0mshape\u001b[0m\u001b[0;34m\u001b[0m\u001b[0;34m\u001b[0m\u001b[0m\n\u001b[1;32m    235\u001b[0m     )\n",
      "\u001b[0;32m<__array_function__ internals>\u001b[0m in \u001b[0;36mravel_multi_index\u001b[0;34m(*args, **kwargs)\u001b[0m\n",
      "\u001b[0;31mValueError\u001b[0m: invalid entry in coordinates array"
     ]
    }
   ],
   "source": [
    "set100_catch = ma.generate_market_sheds(inR,set100,inR.transform.a)"
   ]
  },
  {
   "cell_type": "code",
   "execution_count": null,
   "id": "dynamic-packing",
   "metadata": {},
   "outputs": [],
   "source": [
    "with rasterio.open(geo_pth,'Accessibility/KP_Set200_Marketsheds_test.tif',**inR.profile) as dst:\n",
    "    dst.write(set100_catch)"
   ]
  },
  {
   "cell_type": "code",
   "execution_count": 52,
   "id": "brilliant-professional",
   "metadata": {},
   "outputs": [
    {
     "name": "stdout",
     "output_type": "stream",
     "text": [
      "14:10:43\t1 of 3863: 44285\n",
      "14:30:14\t2 of 3863: 44199\n"
     ]
    },
    {
     "ename": "KeyboardInterrupt",
     "evalue": "",
     "output_type": "error",
     "traceback": [
      "\u001b[0;31m---------------------------------------------------------------------------\u001b[0m",
      "\u001b[0;31mKeyboardInterrupt\u001b[0m                         Traceback (most recent call last)",
      "\u001b[0;32m<ipython-input-52-41f3c1b80be1>\u001b[0m in \u001b[0;36m<module>\u001b[0;34m\u001b[0m\n\u001b[0;32m----> 1\u001b[0;31m \u001b[0mset100_catch\u001b[0m \u001b[0;34m=\u001b[0m \u001b[0mma\u001b[0m\u001b[0;34m.\u001b[0m\u001b[0mgenerate_feature_vectors\u001b[0m\u001b[0;34m(\u001b[0m\u001b[0minR\u001b[0m\u001b[0;34m,\u001b[0m\u001b[0mmcp\u001b[0m\u001b[0;34m,\u001b[0m\u001b[0mset100\u001b[0m\u001b[0;34m,\u001b[0m\u001b[0;34m[\u001b[0m\u001b[0;36m30\u001b[0m\u001b[0;34m]\u001b[0m\u001b[0;34m,\u001b[0m\u001b[0;34m'FID_Settle'\u001b[0m\u001b[0;34m)\u001b[0m\u001b[0;34m\u001b[0m\u001b[0;34m\u001b[0m\u001b[0m\n\u001b[0m",
      "\u001b[0;32m~/git/KP_SpatialAnalysis/src/GOSTNets_Raster/src/GOSTNets_Raster/market_access.py\u001b[0m in \u001b[0;36mgenerate_feature_vectors\u001b[0;34m(network_r, mcp, inH, threshold, featIdx, verbose)\u001b[0m\n\u001b[1;32m    179\u001b[0m         \u001b[0mcur_idx\u001b[0m \u001b[0;34m=\u001b[0m \u001b[0mnetwork_r\u001b[0m\u001b[0;34m.\u001b[0m\u001b[0mindex\u001b[0m\u001b[0;34m(\u001b[0m\u001b[0mrow\u001b[0m\u001b[0;34m[\u001b[0m\u001b[0;34m'geometry'\u001b[0m\u001b[0;34m]\u001b[0m\u001b[0;34m.\u001b[0m\u001b[0mx\u001b[0m\u001b[0;34m,\u001b[0m \u001b[0mrow\u001b[0m\u001b[0;34m[\u001b[0m\u001b[0;34m'geometry'\u001b[0m\u001b[0;34m]\u001b[0m\u001b[0;34m.\u001b[0m\u001b[0my\u001b[0m\u001b[0;34m)\u001b[0m\u001b[0;34m\u001b[0m\u001b[0;34m\u001b[0m\u001b[0m\n\u001b[1;32m    180\u001b[0m         \u001b[0;32mif\u001b[0m \u001b[0mcur_idx\u001b[0m\u001b[0;34m[\u001b[0m\u001b[0;36m0\u001b[0m\u001b[0;34m]\u001b[0m \u001b[0;34m>\u001b[0m \u001b[0;36m0\u001b[0m \u001b[0;32mand\u001b[0m \u001b[0mcur_idx\u001b[0m\u001b[0;34m[\u001b[0m\u001b[0;36m1\u001b[0m\u001b[0;34m]\u001b[0m \u001b[0;34m>\u001b[0m \u001b[0;36m0\u001b[0m \u001b[0;32mand\u001b[0m \u001b[0mcur_idx\u001b[0m\u001b[0;34m[\u001b[0m\u001b[0;36m0\u001b[0m\u001b[0;34m]\u001b[0m \u001b[0;34m<\u001b[0m \u001b[0mnetwork_r\u001b[0m\u001b[0;34m.\u001b[0m\u001b[0mshape\u001b[0m\u001b[0;34m[\u001b[0m\u001b[0;36m0\u001b[0m\u001b[0;34m]\u001b[0m \u001b[0;32mand\u001b[0m \u001b[0mcur_idx\u001b[0m\u001b[0;34m[\u001b[0m\u001b[0;36m1\u001b[0m\u001b[0;34m]\u001b[0m \u001b[0;34m<\u001b[0m \u001b[0mnetwork_r\u001b[0m\u001b[0;34m.\u001b[0m\u001b[0mshape\u001b[0m\u001b[0;34m[\u001b[0m\u001b[0;36m1\u001b[0m\u001b[0;34m]\u001b[0m\u001b[0;34m:\u001b[0m\u001b[0;34m\u001b[0m\u001b[0;34m\u001b[0m\u001b[0m\n\u001b[0;32m--> 181\u001b[0;31m             \u001b[0mcosts\u001b[0m\u001b[0;34m,\u001b[0m \u001b[0mtraceback\u001b[0m \u001b[0;34m=\u001b[0m \u001b[0mmcp\u001b[0m\u001b[0;34m.\u001b[0m\u001b[0mfind_costs\u001b[0m\u001b[0;34m(\u001b[0m\u001b[0;34m[\u001b[0m\u001b[0mcur_idx\u001b[0m\u001b[0;34m]\u001b[0m\u001b[0;34m)\u001b[0m\u001b[0;34m\u001b[0m\u001b[0;34m\u001b[0m\u001b[0m\n\u001b[0m\u001b[1;32m    182\u001b[0m             \u001b[0;32mfor\u001b[0m \u001b[0mthresh\u001b[0m \u001b[0;32min\u001b[0m \u001b[0mthreshold\u001b[0m\u001b[0;34m:\u001b[0m\u001b[0;34m\u001b[0m\u001b[0;34m\u001b[0m\u001b[0m\n\u001b[1;32m    183\u001b[0m                 \u001b[0mwithin_time\u001b[0m \u001b[0;34m=\u001b[0m \u001b[0;34m(\u001b[0m\u001b[0;34m(\u001b[0m\u001b[0mcosts\u001b[0m \u001b[0;34m<\u001b[0m \u001b[0mthresh\u001b[0m\u001b[0;34m)\u001b[0m \u001b[0;34m*\u001b[0m \u001b[0;36m1\u001b[0m\u001b[0;34m)\u001b[0m\u001b[0;34m.\u001b[0m\u001b[0mastype\u001b[0m\u001b[0;34m(\u001b[0m\u001b[0;34m'int16'\u001b[0m\u001b[0;34m)\u001b[0m\u001b[0;34m\u001b[0m\u001b[0;34m\u001b[0m\u001b[0m\n",
      "\u001b[0;32mskimage/graph/_mcp.pyx\u001b[0m in \u001b[0;36mskimage.graph._mcp.MCP.find_costs\u001b[0;34m()\u001b[0m\n",
      "\u001b[0;32m~/.pyenv/versions/geo/lib/python3.9/site-packages/numpy/core/_asarray.py\u001b[0m in \u001b[0;36masarray\u001b[0;34m(a, dtype, order, like)\u001b[0m\n\u001b[1;32m     21\u001b[0m \u001b[0;34m\u001b[0m\u001b[0m\n\u001b[1;32m     22\u001b[0m \u001b[0;34m\u001b[0m\u001b[0m\n\u001b[0;32m---> 23\u001b[0;31m \u001b[0;34m@\u001b[0m\u001b[0mset_array_function_like_doc\u001b[0m\u001b[0;34m\u001b[0m\u001b[0;34m\u001b[0m\u001b[0m\n\u001b[0m\u001b[1;32m     24\u001b[0m \u001b[0;34m@\u001b[0m\u001b[0mset_module\u001b[0m\u001b[0;34m(\u001b[0m\u001b[0;34m'numpy'\u001b[0m\u001b[0;34m)\u001b[0m\u001b[0;34m\u001b[0m\u001b[0;34m\u001b[0m\u001b[0m\n\u001b[1;32m     25\u001b[0m \u001b[0;32mdef\u001b[0m \u001b[0masarray\u001b[0m\u001b[0;34m(\u001b[0m\u001b[0ma\u001b[0m\u001b[0;34m,\u001b[0m \u001b[0mdtype\u001b[0m\u001b[0;34m=\u001b[0m\u001b[0;32mNone\u001b[0m\u001b[0;34m,\u001b[0m \u001b[0morder\u001b[0m\u001b[0;34m=\u001b[0m\u001b[0;32mNone\u001b[0m\u001b[0;34m,\u001b[0m \u001b[0;34m*\u001b[0m\u001b[0;34m,\u001b[0m \u001b[0mlike\u001b[0m\u001b[0;34m=\u001b[0m\u001b[0;32mNone\u001b[0m\u001b[0;34m)\u001b[0m\u001b[0;34m:\u001b[0m\u001b[0;34m\u001b[0m\u001b[0;34m\u001b[0m\u001b[0m\n",
      "\u001b[0;31mKeyboardInterrupt\u001b[0m: "
     ]
    }
   ],
   "source": [
    "# set100_catch = ma.generate_feature_vectors(inR,mcp,set100,[30],'FID_Settle') # veeery slow"
   ]
  },
  {
   "cell_type": "code",
   "execution_count": null,
   "id": "charged-controversy",
   "metadata": {},
   "outputs": [],
   "source": []
  },
  {
   "cell_type": "code",
   "execution_count": null,
   "id": "knowing-contract",
   "metadata": {},
   "outputs": [],
   "source": []
  },
  {
   "cell_type": "markdown",
   "id": "confirmed-seminar",
   "metadata": {},
   "source": [
    "### OLD"
   ]
  },
  {
   "cell_type": "markdown",
   "id": "velvet-message",
   "metadata": {},
   "source": [
    "Join the catchments to the original dataset"
   ]
  },
  {
   "cell_type": "code",
   "execution_count": null,
   "id": "hidden-region",
   "metadata": {},
   "outputs": [],
   "source": [
    "set100_catch.head()"
   ]
  },
  {
   "cell_type": "code",
   "execution_count": null,
   "id": "respective-enterprise",
   "metadata": {},
   "outputs": [],
   "source": [
    "set100_catch_fin = gpd.GeoDataFrame(pd.merge(set100_catch,set100.drop('geometry',axis=1),how='left',on='FID_Settle'))"
   ]
  },
  {
   "cell_type": "code",
   "execution_count": null,
   "id": "surprising-works",
   "metadata": {},
   "outputs": [],
   "source": []
  },
  {
   "cell_type": "code",
   "execution_count": null,
   "id": "indonesian-distance",
   "metadata": {},
   "outputs": [],
   "source": []
  },
  {
   "cell_type": "code",
   "execution_count": 18,
   "id": "disciplinary-steel",
   "metadata": {
    "tags": []
   },
   "outputs": [
    {
     "name": "stderr",
     "output_type": "stream",
     "text": [
      "/Users/robert/.pyenv/versions/geo/lib/python3.9/site-packages/rasterstats/io.py:302: UserWarning: Setting nodata to -999; specify nodata explicitly\n",
      "  warnings.warn(\"Setting nodata to -999; specify nodata explicitly\")\n"
     ]
    }
   ],
   "source": [
    "# run zonal stats on just the geometry column of set100, then join it back to the original GDF based on common indices\n",
    "\n",
    "set100_catch_zs = set100.join(\n",
    "    pd.DataFrame(\n",
    "        zonal_stats(\n",
    "                 vectors = set100_catch,\\\n",
    "                 raster = wp_kp,\\\n",
    "                 affine = wp_kp_raw.transform,\\\n",
    "                 stats = 'sum'\n",
    "        )\n",
    "    ),\n",
    "    how='left',on='FID_Settle'\n",
    ")"
   ]
  }
 ],
 "metadata": {
  "kernelspec": {
   "display_name": "Python 3 (ipykernel)",
   "language": "python",
   "name": "python3"
  },
  "language_info": {
   "codemirror_mode": {
    "name": "ipython",
    "version": 3
   },
   "file_extension": ".py",
   "mimetype": "text/x-python",
   "name": "python",
   "nbconvert_exporter": "python",
   "pygments_lexer": "ipython3",
   "version": "3.8.10"
  }
 },
 "nbformat": 4,
 "nbformat_minor": 5
}
