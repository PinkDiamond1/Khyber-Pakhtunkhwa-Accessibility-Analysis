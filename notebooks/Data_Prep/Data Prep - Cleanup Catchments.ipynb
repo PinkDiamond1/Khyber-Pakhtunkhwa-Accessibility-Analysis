{
 "cells": [
  {
   "cell_type": "markdown",
   "metadata": {},
   "source": [
    "# Cleaning up catchments"
   ]
  },
  {
   "cell_type": "markdown",
   "metadata": {},
   "source": [
    "ArcGIS's Cost/Distance Allocation tools are the most efficient method of generating catchments for large collections of point features from friction surfaces. However the catchment extents need to be linked back to the point features and certain artefacts need to be cleaned up afterwards. This notebook helps with that."
   ]
  },
  {
   "cell_type": "code",
   "execution_count": 1,
   "metadata": {},
   "outputs": [],
   "source": [
    "import os, sys\n",
    "import pandas as pd\n",
    "import geopandas as gpd\n",
    "import shapely\n",
    "from shapely.geometry import shape, JOIN_STYLE\n",
    "\n",
    "import re\n",
    "import numpy as np\n",
    "import rasterio\n",
    "from rasterio.mask import mask\n",
    "import rasterstats\n",
    "from rasterstats import zonal_stats"
   ]
  },
  {
   "cell_type": "markdown",
   "metadata": {},
   "source": [
    "#### Set directories"
   ]
  },
  {
   "cell_type": "code",
   "execution_count": 2,
   "metadata": {},
   "outputs": [],
   "source": [
    "geo_dir = r'P:\\PAK\\GEO'\n",
    "data_dir = r'../../data'\n",
    "vect_in_dir = r'vect_inputs'\n",
    "vect_out_dir = r'vect_out'"
   ]
  },
  {
   "cell_type": "markdown",
   "metadata": {},
   "source": [
    "Projections"
   ]
  },
  {
   "cell_type": "code",
   "execution_count": 3,
   "metadata": {},
   "outputs": [],
   "source": [
    "dest_crs = 32642"
   ]
  },
  {
   "cell_type": "markdown",
   "metadata": {},
   "source": [
    "#### Read in files"
   ]
  },
  {
   "cell_type": "markdown",
   "metadata": {},
   "source": [
    "KP boundaries"
   ]
  },
  {
   "cell_type": "code",
   "execution_count": 4,
   "metadata": {},
   "outputs": [],
   "source": [
    "kp = gpd.read_file(r'P:\\PAK\\GEO\\Boundaries\\OCHA\\pak_admbnda_adm1_ocha_pco_gaul_20181218.shp')"
   ]
  },
  {
   "cell_type": "code",
   "execution_count": 5,
   "metadata": {},
   "outputs": [],
   "source": [
    "kp = kp[kp['ADM1_EN'] == 'Khyber Pakhtunkhwa']\n",
    "kp = kp.to_crs(dest_crs)"
   ]
  },
  {
   "cell_type": "code",
   "execution_count": 6,
   "metadata": {},
   "outputs": [],
   "source": [
    "# Buffer the polygon by 20km so we take in nearby markets and roads that may be used\n",
    "kp.geometry = kp.buffer(20000)\n",
    "# kp = kp.to_crs(4326) # change back for clipping of 4326 rasters"
   ]
  },
  {
   "cell_type": "code",
   "execution_count": 7,
   "metadata": {},
   "outputs": [
    {
     "data": {
      "text/html": [
       "<div>\n",
       "<style scoped>\n",
       "    .dataframe tbody tr th:only-of-type {\n",
       "        vertical-align: middle;\n",
       "    }\n",
       "\n",
       "    .dataframe tbody tr th {\n",
       "        vertical-align: top;\n",
       "    }\n",
       "\n",
       "    .dataframe thead th {\n",
       "        text-align: right;\n",
       "    }\n",
       "</style>\n",
       "<table border=\"1\" class=\"dataframe\">\n",
       "  <thead>\n",
       "    <tr style=\"text-align: right;\">\n",
       "      <th></th>\n",
       "      <th>Shape_Leng</th>\n",
       "      <th>Shape_Area</th>\n",
       "      <th>ADM1_EN</th>\n",
       "      <th>ADM1_PCODE</th>\n",
       "      <th>ADM1_REF</th>\n",
       "      <th>ADM1ALT1EN</th>\n",
       "      <th>ADM1ALT2EN</th>\n",
       "      <th>ADM0_EN</th>\n",
       "      <th>ADM0_PCODE</th>\n",
       "      <th>date</th>\n",
       "      <th>validOn</th>\n",
       "      <th>validTo</th>\n",
       "      <th>geometry</th>\n",
       "    </tr>\n",
       "  </thead>\n",
       "  <tbody>\n",
       "    <tr>\n",
       "      <th>2</th>\n",
       "      <td>27.479368</td>\n",
       "      <td>9.901186</td>\n",
       "      <td>Khyber Pakhtunkhwa</td>\n",
       "      <td>PK2</td>\n",
       "      <td>None</td>\n",
       "      <td>None</td>\n",
       "      <td>None</td>\n",
       "      <td>Pakistan</td>\n",
       "      <td>PK</td>\n",
       "      <td>2018-11-30</td>\n",
       "      <td>2018-12-18</td>\n",
       "      <td>None</td>\n",
       "      <td>POLYGON ((505910.537 3561734.747, 505840.700 3...</td>\n",
       "    </tr>\n",
       "  </tbody>\n",
       "</table>\n",
       "</div>"
      ],
      "text/plain": [
       "   Shape_Leng  Shape_Area             ADM1_EN ADM1_PCODE ADM1_REF ADM1ALT1EN  \\\n",
       "2   27.479368    9.901186  Khyber Pakhtunkhwa        PK2     None       None   \n",
       "\n",
       "  ADM1ALT2EN   ADM0_EN ADM0_PCODE        date     validOn validTo  \\\n",
       "2       None  Pakistan         PK  2018-11-30  2018-12-18    None   \n",
       "\n",
       "                                            geometry  \n",
       "2  POLYGON ((505910.537 3561734.747, 505840.700 3...  "
      ]
     },
     "execution_count": 7,
     "metadata": {},
     "output_type": "execute_result"
    }
   ],
   "source": [
    "kp.head()"
   ]
  },
  {
   "cell_type": "markdown",
   "metadata": {},
   "source": [
    "Settlement catchments (from ArcGIS Distance Allocation)"
   ]
  },
  {
   "cell_type": "code",
   "execution_count": 8,
   "metadata": {},
   "outputs": [],
   "source": [
    "shp_list = [f for f in os.listdir(os.path.join(data_dir,vect_in_dir)) if f.endswith('.shp')]"
   ]
  },
  {
   "cell_type": "code",
   "execution_count": 9,
   "metadata": {},
   "outputs": [
    {
     "data": {
      "text/plain": [
       "['settle100_30min_catch_DistAlloc_Poly.shp',\n",
       " 'settle200_30min_catch_DistAlloc_Poly.shp']"
      ]
     },
     "execution_count": 9,
     "metadata": {},
     "output_type": "execute_result"
    }
   ],
   "source": [
    "shp_list"
   ]
  },
  {
   "cell_type": "markdown",
   "metadata": {},
   "source": [
    "HRSL Population raster"
   ]
  },
  {
   "cell_type": "code",
   "execution_count": 21,
   "metadata": {},
   "outputs": [],
   "source": [
    "with rasterio.open(os.path.join(geo_dir,r'Population/HRSL/KP_general_v15_32642.tif'),'r') as hrsl_raw:\n",
    "    hrsl, hrsl_tform = mask(hrsl_raw,kp.geometry,crop=True, indexes=1)\n",
    "    \n",
    "    # update profile according to new clipped raster\n",
    "    hrsl_prof = hrsl_raw.profile\n",
    "    hrsl_prof['transform'] = hrsl_tform"
   ]
  },
  {
   "cell_type": "markdown",
   "metadata": {},
   "source": [
    "FAO Landcover layers"
   ]
  },
  {
   "cell_type": "code",
   "execution_count": 11,
   "metadata": {},
   "outputs": [],
   "source": [
    "with rasterio.open(os.path.join(geo_dir,r'Landcover/FAO/kp_lc_v1_AG_cl_32642.tif'),'r') as fao_raw:\n",
    "    fao_mast, fao_tform = mask(fao_raw, kp.geometry, crop=True, indexes=1)\n",
    "    fao_mast = fao_mast.astype(np.uint8)\n",
    "    \n",
    "    # load and update meta\n",
    "    fao_prof = fao_raw.profile\n",
    "    fao_prof['transform'] = fao_tform\n",
    "    \n",
    "    # calculate the pixel area in square kilometers\n",
    "    pix_area = (fao_tform.a * fao_tform.e) / 1000000"
   ]
  },
  {
   "cell_type": "code",
   "execution_count": 12,
   "metadata": {},
   "outputs": [],
   "source": [
    "# create separate binary arrays for each cropping type\n",
    "orchard = np.where(fao_mast == 3, 1, 0).astype(np.uint8)\n",
    "irrig = np.where(fao_mast == 4, 1, 0).astype(np.uint8)\n",
    "non_irrig = np.where(fao_mast == 5, 1, 0).astype(np.uint8)"
   ]
  },
  {
   "cell_type": "code",
   "execution_count": 13,
   "metadata": {},
   "outputs": [],
   "source": [
    "pix_area = (fao_tform.a * fao_tform.e) / 1000000"
   ]
  },
  {
   "cell_type": "markdown",
   "metadata": {
    "tags": []
   },
   "source": [
    "### Transform catchments"
   ]
  },
  {
   "cell_type": "markdown",
   "metadata": {},
   "source": [
    "Load in the catchments, do some minor cleaning, join them to settlement layers, and aggregate population + agricultural areas within them. Then export to a geopackage"
   ]
  },
  {
   "cell_type": "code",
   "execution_count": null,
   "metadata": {},
   "outputs": [
    {
     "name": "stdout",
     "output_type": "stream",
     "text": [
      "30min_100\n"
     ]
    }
   ],
   "source": [
    "for shp in shp_list:\n",
    "    \n",
    "    # read in, slim down\n",
    "    layer = gpd.read_file(os.path.join(data_dir,vect_in_dir,shp))\n",
    "    layer = layer[['Id','gridcode','geometry']]\n",
    "    \n",
    "    # define name variables\n",
    "    catchtime = re.findall(r'settle[0-9]+_(.*?)_',os.path.basename(shp))[0]\n",
    "    size = re.findall(r'settle(.*?)_',os.path.basename(shp))[0]\n",
    "    full = catchtime + '_' + size\n",
    "    \n",
    "    print(full)\n",
    "    \n",
    "    # settle\n",
    " \n",
    "    settlement = gpd.read_file(os.path.join(data_dir,vect_in_dir,\"KP_NGA_Settlements_200mBuff_Filtered.gpkg\"),layer=f'{size}plus',driver=\"GPKG\")\n",
    "    settlement = pd.DataFrame(settlement)\n",
    "    settlement.set_index('FID_Settle',drop=True)\n",
    "    settlement.drop('geometry',axis=1,inplace=True)\n",
    " \n",
    "    # dissolve / buffer\n",
    "\n",
    "    layer = layer.dissolve(by=\"gridcode\")\n",
    "    layer = layer.buffer(100, 1, join_style=JOIN_STYLE.mitre).buffer(-100, 1, join_style=JOIN_STYLE.mitre)\n",
    "\n",
    "    # clean up dissolved polygon\n",
    "    layer = gpd.GeoDataFrame(layer)\n",
    "    layer = layer.rename(columns={0:'geometry'}).set_geometry('geometry').reset_index()\n",
    "    layer = layer.set_crs(dest_crs) # label the projection (layer is currently naive)\n",
    "#     layer = layer.to_crs(4326) # change to 4326 for ZS operations with WGS84 rasters\n",
    "\n",
    "    # A second step joins the attributes of the settlement layer to the catchments for that layer for later analysis.\n",
    "    # This is necessary if your catchment prep process drops all attribute information, as in ArcGIS.\n",
    "\n",
    "    layer = pd.merge(layer,settlement,how='left',left_on=\"gridcode\",right_on=\"FID_Settle\")\n",
    "    \n",
    "    # add HRSL population via Zonal Statistics\n",
    "    pop_zs = zonal_stats(layer, hrsl, affine=hrsl_tform, nodata=np.nan,stats=['sum'])\n",
    "    layer['hrsl_pop'] = pd.DataFrame(pop_zs)['sum']\n",
    " \n",
    "    # summarize square kilometers of agricultural land of each type within catchment\n",
    "    orch_zs = zonal_stats(layer, orchard, affine=fao_tform, nodata=np.nan,stats=['sum'])\n",
    "    irrig_zs = zonal_stats(layer, irrig, affine=fao_tform, nodata=np.nan,stats=['sum'])\n",
    "    non_irrig_zs = zonal_stats(layer, non_irrig, affine=fao_tform, nodata=np.nan,stats=['sum'])\n",
    "    \n",
    "    # add pixel sum column to layer and multiply it by pixel area factored in terms of square kilometers\n",
    "    layer['orch_sqkm'] = np.abs(pd.DataFrame(orch_zs)['sum'] * pix_area)\n",
    "    layer['irrig_sqkm'] = np.abs(pd.DataFrame(irrig_zs)['sum'] * pix_area)\n",
    "    layer['non_irrig_sqkm'] = np.abs(pd.DataFrame(non_irrig_zs)['sum'] * pix_area)\n",
    "    \n",
    "    # export\n",
    "    layer.to_file(os.path.join(data_dir,vect_out_dir,f'Settlement_catchments.gpkg'),layer=f'settle_{size}_{catchtime}_catchments',driver=\"GPKG\")"
   ]
  },
  {
   "cell_type": "markdown",
   "metadata": {},
   "source": [
    "## Table operations"
   ]
  },
  {
   "cell_type": "code",
   "execution_count": 19,
   "metadata": {},
   "outputs": [
    {
     "name": "stdout",
     "output_type": "stream",
     "text": [
      "30min_100\n",
      "30min_200\n"
     ]
    }
   ],
   "source": [
    "for shp in shp_list:\n",
    "    \n",
    "    # define name variables\n",
    "    \n",
    "    catchtime = re.findall(r'settle[0-9]+_(.*?)_',os.path.basename(shp))[0]\n",
    "    size = re.findall(r'settle(.*?)_',os.path.basename(shp))[0]\n",
    "    full = catchtime + '_' + size\n",
    "    \n",
    "    print(full)\n",
    "    \n",
    "    # load in file\n",
    "    \n",
    "    layer = gpd.read_file(os.path.join(data_dir,vect_out_dir,f'Settlement_catchments.gpkg'),layer=f'settle_{size}_{catchtime}_catchments',driver=\"GPKG\")\n",
    "    \n",
    "    # Table operations\n",
    "    layer['area_sqkm'] = (layer.geometry.area / 1000000) \n",
    "    \n",
    "    layer['orch_sqkm'] = np.abs(layer['orch_sqkm'])\n",
    "    layer['irrig_sqkm'] = np.abs(layer['irrig_sqkm'])\n",
    "    layer['non_irrig_sqkm'] = np.abs(layer['non_irrig_sqkm'])\n",
    "\n",
    "    layer['orch_pct'] = (layer['orch_sqkm'] / layer['area_sqkm']) * 100\n",
    "    layer['irrig_pct'] = (layer['irrig_sqkm'] / layer['area_sqkm']) * 100\n",
    "    layer['non_irrig_pct'] = (layer['non_irrig_sqkm'] / layer['area_sqkm']) * 100\n",
    "    \n",
    "    # Export\n",
    "    layer.to_file(os.path.join(data_dir,vect_out_dir,f'Settlement_catchments.gpkg'),layer=f'settle_{size}_{catchtime}_catchments',driver=\"GPKG\")\n",
    "    layer.to_crs(4326).to_file(os.path.join(data_dir,vect_out_dir,f'Settlement_catchments.gpkg'),layer=f'settle_{size}_{catchtime}_catchments_4326',driver=\"GPKG\")"
   ]
  },
  {
   "cell_type": "code",
   "execution_count": null,
   "metadata": {},
   "outputs": [],
   "source": []
  }
 ],
 "metadata": {
  "kernelspec": {
   "display_name": "Python 3 (ipykernel)",
   "language": "python",
   "name": "python3"
  },
  "language_info": {
   "codemirror_mode": {
    "name": "ipython",
    "version": 3
   },
   "file_extension": ".py",
   "mimetype": "text/x-python",
   "name": "python",
   "nbconvert_exporter": "python",
   "pygments_lexer": "ipython3",
   "version": "3.8.10"
  }
 },
 "nbformat": 4,
 "nbformat_minor": 4
}
