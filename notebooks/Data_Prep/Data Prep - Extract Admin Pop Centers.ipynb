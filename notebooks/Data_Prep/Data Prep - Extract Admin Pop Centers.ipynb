{
 "cells": [
  {
   "cell_type": "markdown",
   "metadata": {},
   "source": [
    "# Extract the most populated pixel in each administrative unit"
   ]
  },
  {
   "cell_type": "markdown",
   "metadata": {},
   "source": [
    "This notebook tries to do better than centroids for admin units where you don't have spatial data for the capital, but want to measure from such. It finds the most populated pixel in that admin unit and treats that as the capital instead. Note this won't work if the capital is not the most populated place for any reason."
   ]
  },
  {
   "cell_type": "code",
   "execution_count": 2,
   "metadata": {},
   "outputs": [
    {
     "name": "stderr",
     "output_type": "stream",
     "text": [
      "/Users/robert/.pyenv/versions/geo/lib/python3.9/site-packages/geopandas/_compat.py:106: UserWarning: The Shapely GEOS version (3.8.0-CAPI-1.13.1 ) is incompatible with the GEOS version PyGEOS was compiled with (3.9.0-CAPI-1.16.2). Conversions between both will be slow.\n",
      "  warnings.warn(\n"
     ]
    }
   ],
   "source": [
    "import os, sys\n",
    "import pandas as pd\n",
    "import geopandas as gpd\n",
    "import numpy as np\n",
    "\n",
    "import pprint\n",
    "\n",
    "import rasterio\n",
    "from rasterio import features"
   ]
  },
  {
   "cell_type": "code",
   "execution_count": 3,
   "metadata": {},
   "outputs": [],
   "source": [
    "from geopandas import GeoSeries\n",
    "from shapely.geometry import Point"
   ]
  },
  {
   "cell_type": "markdown",
   "metadata": {},
   "source": [
    "#### Setup parameters"
   ]
  },
  {
   "cell_type": "code",
   "execution_count": 4,
   "metadata": {},
   "outputs": [],
   "source": [
    "geo_pth = r\"/Users/robert/Documents/Jobs/WB/Pakistan/Data\"\n",
    "pop_pth = r\"/Users/robert/Documents/Jobs/WB/Pakistan/Data/Population\"\n",
    "data_pth = r'../../data/vect_out'"
   ]
  },
  {
   "cell_type": "code",
   "execution_count": 5,
   "metadata": {},
   "outputs": [],
   "source": [
    "# geo_pth = r\"P:\\BGD\\GEO\"\n",
    "# pop_pth = r'P:\\BGD\\GEO\\Population\\WorldPop'"
   ]
  },
  {
   "cell_type": "markdown",
   "metadata": {},
   "source": [
    "#### Import the points, spatial join admin data"
   ]
  },
  {
   "cell_type": "code",
   "execution_count": 6,
   "metadata": {},
   "outputs": [
    {
     "name": "stderr",
     "output_type": "stream",
     "text": [
      "/Users/robert/.pyenv/versions/geo/lib/python3.9/site-packages/geopandas/geodataframe.py:577: RuntimeWarning: Sequential read of iterator was interrupted. Resetting iterator. This can negatively impact the performance.\n",
      "  for feature in features_lst:\n"
     ]
    }
   ],
   "source": [
    "adm = gpd.read_file(os.path.join(geo_pth,\"Boundaries/KP_Analysis_Focus_Districts.gpkg\"),driver=\"GPKG\")"
   ]
  },
  {
   "cell_type": "code",
   "execution_count": 26,
   "metadata": {},
   "outputs": [],
   "source": [
    "adm = adm.to_crs(4326)"
   ]
  },
  {
   "cell_type": "code",
   "execution_count": 8,
   "metadata": {},
   "outputs": [],
   "source": [
    "adm.rename({'PROVINCE':'Province','DISTRICT':'District'},axis=1,inplace=True)"
   ]
  },
  {
   "cell_type": "code",
   "execution_count": 10,
   "metadata": {},
   "outputs": [
    {
     "name": "stderr",
     "output_type": "stream",
     "text": [
      "/Users/robert/.pyenv/versions/geo/lib/python3.9/site-packages/geopandas/geodataframe.py:577: RuntimeWarning: Sequential read of iterator was interrupted. Resetting iterator. This can negatively impact the performance.\n",
      "  for feature in features_lst:\n"
     ]
    }
   ],
   "source": [
    "pop = gpd.read_file(os.path.join(pop_pth,\"wp_KPAnalysis_2020_100m_unconstrained_pts.gpkg\"),driver=\"GPKG\")"
   ]
  },
  {
   "cell_type": "code",
   "execution_count": 28,
   "metadata": {},
   "outputs": [],
   "source": [
    "pop = gpd.sjoin(pop[['VALUE','geometry']],adm[['geometry','Province','District']],how='left',op='within')"
   ]
  },
  {
   "cell_type": "code",
   "execution_count": 29,
   "metadata": {},
   "outputs": [
    {
     "data": {
      "text/html": [
       "<div>\n",
       "<style scoped>\n",
       "    .dataframe tbody tr th:only-of-type {\n",
       "        vertical-align: middle;\n",
       "    }\n",
       "\n",
       "    .dataframe tbody tr th {\n",
       "        vertical-align: top;\n",
       "    }\n",
       "\n",
       "    .dataframe thead th {\n",
       "        text-align: right;\n",
       "    }\n",
       "</style>\n",
       "<table border=\"1\" class=\"dataframe\">\n",
       "  <thead>\n",
       "    <tr style=\"text-align: right;\">\n",
       "      <th></th>\n",
       "      <th>VALUE</th>\n",
       "      <th>geometry</th>\n",
       "      <th>index_right</th>\n",
       "      <th>Province</th>\n",
       "      <th>District</th>\n",
       "    </tr>\n",
       "  </thead>\n",
       "  <tbody>\n",
       "    <tr>\n",
       "      <th>0</th>\n",
       "      <td>0.039197</td>\n",
       "      <td>POINT (72.57250 36.83333)</td>\n",
       "      <td>12</td>\n",
       "      <td>KHYBER PAKHTUNKHWA</td>\n",
       "      <td>CHITRAL</td>\n",
       "    </tr>\n",
       "    <tr>\n",
       "      <th>1</th>\n",
       "      <td>0.038564</td>\n",
       "      <td>POINT (72.57333 36.83333)</td>\n",
       "      <td>12</td>\n",
       "      <td>KHYBER PAKHTUNKHWA</td>\n",
       "      <td>CHITRAL</td>\n",
       "    </tr>\n",
       "  </tbody>\n",
       "</table>\n",
       "</div>"
      ],
      "text/plain": [
       "      VALUE                   geometry  index_right            Province  \\\n",
       "0  0.039197  POINT (72.57250 36.83333)           12  KHYBER PAKHTUNKHWA   \n",
       "1  0.038564  POINT (72.57333 36.83333)           12  KHYBER PAKHTUNKHWA   \n",
       "\n",
       "  District  \n",
       "0  CHITRAL  \n",
       "1  CHITRAL  "
      ]
     },
     "execution_count": 29,
     "metadata": {},
     "output_type": "execute_result"
    }
   ],
   "source": [
    "pop.head(2)"
   ]
  },
  {
   "cell_type": "markdown",
   "metadata": {},
   "source": [
    "#### Filter down"
   ]
  },
  {
   "cell_type": "code",
   "execution_count": 30,
   "metadata": {},
   "outputs": [],
   "source": [
    "# idx_adm2 = pop.groupby(['Division'])['VALUE'].transform(max) == pop['VALUE']\n",
    "# pop_adm2_max = pop[idx_adm2]"
   ]
  },
  {
   "cell_type": "code",
   "execution_count": 31,
   "metadata": {},
   "outputs": [],
   "source": [
    "# pop_adm2_max"
   ]
  },
  {
   "cell_type": "code",
   "execution_count": 32,
   "metadata": {},
   "outputs": [],
   "source": [
    "idx_adm3 = pop.groupby(['District'])['VALUE'].transform(max) == pop['VALUE']\n",
    "pop_adm3_max = pop[idx_adm3]"
   ]
  },
  {
   "cell_type": "code",
   "execution_count": 33,
   "metadata": {},
   "outputs": [
    {
     "data": {
      "text/html": [
       "<div>\n",
       "<style scoped>\n",
       "    .dataframe tbody tr th:only-of-type {\n",
       "        vertical-align: middle;\n",
       "    }\n",
       "\n",
       "    .dataframe tbody tr th {\n",
       "        vertical-align: top;\n",
       "    }\n",
       "\n",
       "    .dataframe thead th {\n",
       "        text-align: right;\n",
       "    }\n",
       "</style>\n",
       "<table border=\"1\" class=\"dataframe\">\n",
       "  <thead>\n",
       "    <tr style=\"text-align: right;\">\n",
       "      <th></th>\n",
       "      <th>VALUE</th>\n",
       "      <th>geometry</th>\n",
       "      <th>index_right</th>\n",
       "      <th>Province</th>\n",
       "      <th>District</th>\n",
       "    </tr>\n",
       "  </thead>\n",
       "  <tbody>\n",
       "    <tr>\n",
       "      <th>1365135</th>\n",
       "      <td>15.714732</td>\n",
       "      <td>POINT (71.77250 35.71667)</td>\n",
       "      <td>12</td>\n",
       "      <td>KHYBER PAKHTUNKHWA</td>\n",
       "      <td>CHITRAL</td>\n",
       "    </tr>\n",
       "    <tr>\n",
       "      <th>2542272</th>\n",
       "      <td>3.907878</td>\n",
       "      <td>POINT (73.53667 35.53167)</td>\n",
       "      <td>16</td>\n",
       "      <td>KHYBER PAKHTUNKHWA</td>\n",
       "      <td>UPPER KOHISTAN</td>\n",
       "    </tr>\n",
       "    <tr>\n",
       "      <th>3055652</th>\n",
       "      <td>50.624680</td>\n",
       "      <td>POINT (70.10000 33.89750)</td>\n",
       "      <td>5</td>\n",
       "      <td>FATA</td>\n",
       "      <td>KURRAM AGENCY</td>\n",
       "    </tr>\n",
       "    <tr>\n",
       "      <th>3357044</th>\n",
       "      <td>4.993747</td>\n",
       "      <td>POINT (70.83667 33.66167)</td>\n",
       "      <td>8</td>\n",
       "      <td>FATA</td>\n",
       "      <td>ORAKZAI AGENCY</td>\n",
       "    </tr>\n",
       "    <tr>\n",
       "      <th>3721658</th>\n",
       "      <td>25.882614</td>\n",
       "      <td>POINT (72.02000 34.94167)</td>\n",
       "      <td>22</td>\n",
       "      <td>KHYBER PAKHTUNKHWA</td>\n",
       "      <td>UPPER DIR</td>\n",
       "    </tr>\n",
       "    <tr>\n",
       "      <th>3774884</th>\n",
       "      <td>75.144615</td>\n",
       "      <td>POINT (71.98083 34.89167)</td>\n",
       "      <td>18</td>\n",
       "      <td>KHYBER PAKHTUNKHWA</td>\n",
       "      <td>LOWER DIR</td>\n",
       "    </tr>\n",
       "    <tr>\n",
       "      <th>3970865</th>\n",
       "      <td>46.952003</td>\n",
       "      <td>POINT (71.52500 34.73667)</td>\n",
       "      <td>0</td>\n",
       "      <td>FATA</td>\n",
       "      <td>BAJAUR AGENCY</td>\n",
       "    </tr>\n",
       "    <tr>\n",
       "      <th>4448472</th>\n",
       "      <td>39.159988</td>\n",
       "      <td>POINT (71.43417 34.18417)</td>\n",
       "      <td>6</td>\n",
       "      <td>FATA</td>\n",
       "      <td>MOHMAND AGENCY</td>\n",
       "    </tr>\n",
       "    <tr>\n",
       "      <th>4607409</th>\n",
       "      <td>200.074081</td>\n",
       "      <td>POINT (71.43833 33.90333)</td>\n",
       "      <td>23</td>\n",
       "      <td>FATA</td>\n",
       "      <td>KHYBER AGENCY</td>\n",
       "    </tr>\n",
       "    <tr>\n",
       "      <th>5340769</th>\n",
       "      <td>43.811085</td>\n",
       "      <td>POINT (72.88167 34.92917)</td>\n",
       "      <td>24</td>\n",
       "      <td>KHYBER PAKHTUNKHWA</td>\n",
       "      <td>LOWER KOHISTAN</td>\n",
       "    </tr>\n",
       "    <tr>\n",
       "      <th>5351068</th>\n",
       "      <td>57.462776</td>\n",
       "      <td>POINT (72.87833 34.92167)</td>\n",
       "      <td>19</td>\n",
       "      <td>KHYBER PAKHTUNKHWA</td>\n",
       "      <td>SHANGLA</td>\n",
       "    </tr>\n",
       "    <tr>\n",
       "      <th>5623246</th>\n",
       "      <td>39.831150</td>\n",
       "      <td>POINT (73.03167 34.67667)</td>\n",
       "      <td>11</td>\n",
       "      <td>KHYBER PAKHTUNKHWA</td>\n",
       "      <td>BATAGRAM</td>\n",
       "    </tr>\n",
       "    <tr>\n",
       "      <th>5726760</th>\n",
       "      <td>26.422396</td>\n",
       "      <td>POINT (72.85000 34.36083)</td>\n",
       "      <td>21</td>\n",
       "      <td>KHYBER PAKHTUNKHWA</td>\n",
       "      <td>TORDHER</td>\n",
       "    </tr>\n",
       "    <tr>\n",
       "      <th>6382256</th>\n",
       "      <td>14.376002</td>\n",
       "      <td>POINT (70.51083 33.01500)</td>\n",
       "      <td>1</td>\n",
       "      <td>FATA</td>\n",
       "      <td>FR BANNU</td>\n",
       "    </tr>\n",
       "    <tr>\n",
       "      <th>6432961</th>\n",
       "      <td>187.569107</td>\n",
       "      <td>POINT (70.59750 32.99000)</td>\n",
       "      <td>10</td>\n",
       "      <td>KHYBER PAKHTUNKHWA</td>\n",
       "      <td>BANNU</td>\n",
       "    </tr>\n",
       "    <tr>\n",
       "      <th>6494831</th>\n",
       "      <td>13.225717</td>\n",
       "      <td>POINT (69.92583 32.95917)</td>\n",
       "      <td>7</td>\n",
       "      <td>FATA</td>\n",
       "      <td>N. WAZIRASTAN</td>\n",
       "    </tr>\n",
       "    <tr>\n",
       "      <th>7018943</th>\n",
       "      <td>1.362135</td>\n",
       "      <td>POINT (70.35083 32.70583)</td>\n",
       "      <td>3</td>\n",
       "      <td>FATA</td>\n",
       "      <td>FR LAKKI MARWAT</td>\n",
       "    </tr>\n",
       "    <tr>\n",
       "      <th>7219047</th>\n",
       "      <td>80.852188</td>\n",
       "      <td>POINT (70.90083 32.61083)</td>\n",
       "      <td>17</td>\n",
       "      <td>KHYBER PAKHTUNKHWA</td>\n",
       "      <td>LAKKI MARWAT</td>\n",
       "    </tr>\n",
       "    <tr>\n",
       "      <th>7919302</th>\n",
       "      <td>2.954698</td>\n",
       "      <td>POINT (70.25333 32.30917)</td>\n",
       "      <td>4</td>\n",
       "      <td>FATA</td>\n",
       "      <td>FR TANK</td>\n",
       "    </tr>\n",
       "    <tr>\n",
       "      <th>7939986</th>\n",
       "      <td>27.015987</td>\n",
       "      <td>POINT (69.58750 32.30000)</td>\n",
       "      <td>9</td>\n",
       "      <td>FATA</td>\n",
       "      <td>S. WAZIRASTAN</td>\n",
       "    </tr>\n",
       "    <tr>\n",
       "      <th>8121249</th>\n",
       "      <td>15.570036</td>\n",
       "      <td>POINT (70.37750 32.22333)</td>\n",
       "      <td>20</td>\n",
       "      <td>KHYBER PAKHTUNKHWA</td>\n",
       "      <td>TANK</td>\n",
       "    </tr>\n",
       "    <tr>\n",
       "      <th>8788926</th>\n",
       "      <td>17.052988</td>\n",
       "      <td>POINT (71.05750 33.52833)</td>\n",
       "      <td>14</td>\n",
       "      <td>KHYBER PAKHTUNKHWA</td>\n",
       "      <td>HANGU</td>\n",
       "    </tr>\n",
       "    <tr>\n",
       "      <th>8789268</th>\n",
       "      <td>17.052988</td>\n",
       "      <td>POINT (71.05667 33.52750)</td>\n",
       "      <td>14</td>\n",
       "      <td>KHYBER PAKHTUNKHWA</td>\n",
       "      <td>HANGU</td>\n",
       "    </tr>\n",
       "    <tr>\n",
       "      <th>8995614</th>\n",
       "      <td>12.374638</td>\n",
       "      <td>POINT (71.15667 33.14250)</td>\n",
       "      <td>15</td>\n",
       "      <td>KHYBER PAKHTUNKHWA</td>\n",
       "      <td>KARAK</td>\n",
       "    </tr>\n",
       "    <tr>\n",
       "      <th>9641974</th>\n",
       "      <td>127.366119</td>\n",
       "      <td>POINT (70.90250 31.82750)</td>\n",
       "      <td>13</td>\n",
       "      <td>KHYBER PAKHTUNKHWA</td>\n",
       "      <td>D I KHAN</td>\n",
       "    </tr>\n",
       "    <tr>\n",
       "      <th>10167729</th>\n",
       "      <td>1.827555</td>\n",
       "      <td>POINT (70.35083 31.42250)</td>\n",
       "      <td>2</td>\n",
       "      <td>FATA</td>\n",
       "      <td>FR D.I.KHAN</td>\n",
       "    </tr>\n",
       "  </tbody>\n",
       "</table>\n",
       "</div>"
      ],
      "text/plain": [
       "               VALUE                   geometry  index_right  \\\n",
       "1365135    15.714732  POINT (71.77250 35.71667)           12   \n",
       "2542272     3.907878  POINT (73.53667 35.53167)           16   \n",
       "3055652    50.624680  POINT (70.10000 33.89750)            5   \n",
       "3357044     4.993747  POINT (70.83667 33.66167)            8   \n",
       "3721658    25.882614  POINT (72.02000 34.94167)           22   \n",
       "3774884    75.144615  POINT (71.98083 34.89167)           18   \n",
       "3970865    46.952003  POINT (71.52500 34.73667)            0   \n",
       "4448472    39.159988  POINT (71.43417 34.18417)            6   \n",
       "4607409   200.074081  POINT (71.43833 33.90333)           23   \n",
       "5340769    43.811085  POINT (72.88167 34.92917)           24   \n",
       "5351068    57.462776  POINT (72.87833 34.92167)           19   \n",
       "5623246    39.831150  POINT (73.03167 34.67667)           11   \n",
       "5726760    26.422396  POINT (72.85000 34.36083)           21   \n",
       "6382256    14.376002  POINT (70.51083 33.01500)            1   \n",
       "6432961   187.569107  POINT (70.59750 32.99000)           10   \n",
       "6494831    13.225717  POINT (69.92583 32.95917)            7   \n",
       "7018943     1.362135  POINT (70.35083 32.70583)            3   \n",
       "7219047    80.852188  POINT (70.90083 32.61083)           17   \n",
       "7919302     2.954698  POINT (70.25333 32.30917)            4   \n",
       "7939986    27.015987  POINT (69.58750 32.30000)            9   \n",
       "8121249    15.570036  POINT (70.37750 32.22333)           20   \n",
       "8788926    17.052988  POINT (71.05750 33.52833)           14   \n",
       "8789268    17.052988  POINT (71.05667 33.52750)           14   \n",
       "8995614    12.374638  POINT (71.15667 33.14250)           15   \n",
       "9641974   127.366119  POINT (70.90250 31.82750)           13   \n",
       "10167729    1.827555  POINT (70.35083 31.42250)            2   \n",
       "\n",
       "                    Province         District  \n",
       "1365135   KHYBER PAKHTUNKHWA          CHITRAL  \n",
       "2542272   KHYBER PAKHTUNKHWA   UPPER KOHISTAN  \n",
       "3055652                 FATA    KURRAM AGENCY  \n",
       "3357044                 FATA   ORAKZAI AGENCY  \n",
       "3721658   KHYBER PAKHTUNKHWA        UPPER DIR  \n",
       "3774884   KHYBER PAKHTUNKHWA        LOWER DIR  \n",
       "3970865                 FATA    BAJAUR AGENCY  \n",
       "4448472                 FATA   MOHMAND AGENCY  \n",
       "4607409                 FATA    KHYBER AGENCY  \n",
       "5340769   KHYBER PAKHTUNKHWA   LOWER KOHISTAN  \n",
       "5351068   KHYBER PAKHTUNKHWA          SHANGLA  \n",
       "5623246   KHYBER PAKHTUNKHWA         BATAGRAM  \n",
       "5726760   KHYBER PAKHTUNKHWA          TORDHER  \n",
       "6382256                 FATA         FR BANNU  \n",
       "6432961   KHYBER PAKHTUNKHWA            BANNU  \n",
       "6494831                 FATA    N. WAZIRASTAN  \n",
       "7018943                 FATA  FR LAKKI MARWAT  \n",
       "7219047   KHYBER PAKHTUNKHWA     LAKKI MARWAT  \n",
       "7919302                 FATA          FR TANK  \n",
       "7939986                 FATA    S. WAZIRASTAN  \n",
       "8121249   KHYBER PAKHTUNKHWA             TANK  \n",
       "8788926   KHYBER PAKHTUNKHWA            HANGU  \n",
       "8789268   KHYBER PAKHTUNKHWA            HANGU  \n",
       "8995614   KHYBER PAKHTUNKHWA            KARAK  \n",
       "9641974   KHYBER PAKHTUNKHWA         D I KHAN  \n",
       "10167729                FATA      FR D.I.KHAN  "
      ]
     },
     "execution_count": 33,
     "metadata": {},
     "output_type": "execute_result"
    }
   ],
   "source": [
    "pop_adm3_max"
   ]
  },
  {
   "cell_type": "code",
   "execution_count": 34,
   "metadata": {},
   "outputs": [],
   "source": [
    "# idx_adm4 = pop.groupby([\"adm4_pcode\",\"adm4_en\"])['VALUE'].transform(max) == pop['VALUE']\n",
    "# pop_adm4_max = pop[idx_adm4]"
   ]
  },
  {
   "cell_type": "code",
   "execution_count": 35,
   "metadata": {},
   "outputs": [],
   "source": [
    "# pop_adm4_max"
   ]
  },
  {
   "cell_type": "markdown",
   "metadata": {},
   "source": [
    "#### Export the points"
   ]
  },
  {
   "cell_type": "code",
   "execution_count": 36,
   "metadata": {},
   "outputs": [],
   "source": [
    "# pop_adm2_max = pop_adm2_max.to_crs(4326)\n",
    "pop_adm3_max = pop_adm3_max.to_crs(4326)\n",
    "# pop_adm4_max = pop_adm4_max.to_crs(4326)"
   ]
  },
  {
   "cell_type": "code",
   "execution_count": 37,
   "metadata": {},
   "outputs": [],
   "source": [
    "# pop_adm2_max.to_file(os.path.join(pop_pth,\"adm2_maxpop_pt.gpkg\"),driver=\"GPKG\")\n",
    "pop_adm3_max.to_file(os.path.join(pop_pth,\"adm3_maxpop_pt.gpkg\"),driver=\"GPKG\")\n",
    "# pop_adm4_max.to_file(os.path.join(pop_pth,\"adm4_maxpop_pt.gpkg\"),driver=\"GPKG\")"
   ]
  },
  {
   "cell_type": "code",
   "execution_count": 38,
   "metadata": {},
   "outputs": [],
   "source": [
    "# pop_adm2_max.to_csv(os.path.join(pop_pth,\"adm2_maxpop_pt.csv\"))\n",
    "pop_adm3_max.to_csv(os.path.join(pop_pth,\"adm3_maxpop_pt.csv\"))\n",
    "# pop_adm4_max.to_csv(os.path.join(pop_pth,\"adm4_maxpop_pt.csv\"))"
   ]
  }
 ],
 "metadata": {
  "kernelspec": {
   "display_name": "Python 3 (ipykernel)",
   "language": "python",
   "name": "python3"
  },
  "language_info": {
   "codemirror_mode": {
    "name": "ipython",
    "version": 3
   },
   "file_extension": ".py",
   "mimetype": "text/x-python",
   "name": "python",
   "nbconvert_exporter": "python",
   "pygments_lexer": "ipython3",
   "version": "3.8.10"
  }
 },
 "nbformat": 4,
 "nbformat_minor": 4
}
