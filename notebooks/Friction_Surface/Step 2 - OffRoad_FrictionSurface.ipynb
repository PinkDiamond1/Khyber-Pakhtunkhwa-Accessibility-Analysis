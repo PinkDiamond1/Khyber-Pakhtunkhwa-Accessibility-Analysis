{
 "cells": [
  {
   "cell_type": "markdown",
   "id": "light-prescription",
   "metadata": {},
   "source": [
    "# Walking friction surface creation"
   ]
  },
  {
   "cell_type": "markdown",
   "id": "important-excess",
   "metadata": {},
   "source": [
    "Clean up various rasters and combining them into a walking friction surface. This forms half of the multi-modal friction surface and can also be used as a standalone analysis tool (for walking-only analysis). This will later be merged with an on-road friction surface for a final product."
   ]
  },
  {
   "cell_type": "code",
   "execution_count": 74,
   "id": "restricted-degree",
   "metadata": {},
   "outputs": [],
   "source": [
    "import os, sys\n",
    "\n",
    "from datetime import datetime\n",
    "\n",
    "import common_rasterio_ops as rast_ops # custom functions\n",
    "\n",
    "import numpy as np\n",
    "from numpy import pi, log, tan, empty, float32, arctan, rad2deg, gradient\n",
    "from numpy import arctan2, reshape, where\n",
    "from scipy.ndimage import gaussian_gradient_magnitude\n",
    "\n",
    "import rasterio\n",
    "from rasterio import features, transform\n",
    "from rasterio.mask import mask\n",
    "from rasterio.transform import Affine\n",
    "from rasterio.warp import calculate_default_transform, reproject, Resampling\n",
    "from rasterio.io import MemoryFile\n",
    "\n",
    "import pandas as pd\n",
    "import geopandas as gpd\n",
    "\n",
    "import shapely\n",
    "from shapely.geometry import shape, box, Polygon"
   ]
  },
  {
   "cell_type": "code",
   "execution_count": 2,
   "id": "wrapped-employer",
   "metadata": {},
   "outputs": [],
   "source": [
    "data_dir = r'P:\\PAK\\\\Code\\Accessibility\\Inputs'\n",
    "in_dem = r'P:\\PAK\\\\GEO\\Elevation'\n",
    "in_lc = r'P:\\PAK\\\\GEO\\Landcover\\ICIMOD'\n",
    "out_dir = r'P:\\PAK\\\\Code\\Accessibility\\Intermediate_Rasters'\n",
    "fric_dir = r'P:\\PAK\\\\Code\\Accessibility\\Friction_Surface'"
   ]
  },
  {
   "cell_type": "markdown",
   "id": "frank-festival",
   "metadata": {},
   "source": [
    "Projections"
   ]
  },
  {
   "cell_type": "code",
   "execution_count": 3,
   "id": "wrapped-roberts",
   "metadata": {},
   "outputs": [],
   "source": [
    "dest_crs = 'EPSG:32642' # this is a Pakistani UTM projection, assign correct projection for project area"
   ]
  },
  {
   "cell_type": "markdown",
   "id": "instructional-barrel",
   "metadata": {},
   "source": [
    "Today's date"
   ]
  },
  {
   "cell_type": "code",
   "execution_count": 4,
   "id": "developed-inspection",
   "metadata": {},
   "outputs": [],
   "source": [
    "today = datetime.today().strftime('%y%m%d')"
   ]
  },
  {
   "cell_type": "markdown",
   "id": "d817166c-43f3-4ed4-8f63-5bb554e5921d",
   "metadata": {},
   "source": [
    "Load Shapefile of area of interest (in our case Khyber Pakhtunkhwa province, Pakistan) to clip the final data"
   ]
  },
  {
   "cell_type": "code",
   "execution_count": 5,
   "id": "762c0c71-f1cc-4e00-9b3a-bde1b36ed8da",
   "metadata": {},
   "outputs": [],
   "source": [
    "aoi_pth = r'P:\\PAK\\GEO\\Boundaries\\OCHA\\pak_admbnda_adm1_ocha_pco_gaul_20181218.shp'"
   ]
  },
  {
   "cell_type": "code",
   "execution_count": 6,
   "id": "8541718c-bc02-4e55-8b5d-205ab397b5ac",
   "metadata": {},
   "outputs": [],
   "source": [
    "aoi = gpd.read_file(aoi_pth)"
   ]
  },
  {
   "cell_type": "code",
   "execution_count": 7,
   "id": "1a35cbc7-177f-4daf-a568-3e86def08ad2",
   "metadata": {},
   "outputs": [],
   "source": [
    "aoi = aoi[aoi['ADM1_EN'] == 'Khyber Pakhtunkhwa']\n",
    "aoi = aoi.to_crs(dest_crs)"
   ]
  },
  {
   "cell_type": "code",
   "execution_count": 8,
   "id": "12b5c50a-8021-41e0-a9f8-44500ba7129f",
   "metadata": {},
   "outputs": [],
   "source": [
    "# Buffer the polygon by 20km so we take in nearby markets and roads that may be used\n",
    "aoi.geometry = aoi.buffer(20000)"
   ]
  },
  {
   "cell_type": "code",
   "execution_count": 9,
   "id": "4c1201fc-9e67-4d10-83b6-8034ee3cf464",
   "metadata": {},
   "outputs": [
    {
     "data": {
      "text/html": [
       "<div>\n",
       "<style scoped>\n",
       "    .dataframe tbody tr th:only-of-type {\n",
       "        vertical-align: middle;\n",
       "    }\n",
       "\n",
       "    .dataframe tbody tr th {\n",
       "        vertical-align: top;\n",
       "    }\n",
       "\n",
       "    .dataframe thead th {\n",
       "        text-align: right;\n",
       "    }\n",
       "</style>\n",
       "<table border=\"1\" class=\"dataframe\">\n",
       "  <thead>\n",
       "    <tr style=\"text-align: right;\">\n",
       "      <th></th>\n",
       "      <th>Shape_Leng</th>\n",
       "      <th>Shape_Area</th>\n",
       "      <th>ADM1_EN</th>\n",
       "      <th>ADM1_PCODE</th>\n",
       "      <th>ADM1_REF</th>\n",
       "      <th>ADM1ALT1EN</th>\n",
       "      <th>ADM1ALT2EN</th>\n",
       "      <th>ADM0_EN</th>\n",
       "      <th>ADM0_PCODE</th>\n",
       "      <th>date</th>\n",
       "      <th>validOn</th>\n",
       "      <th>validTo</th>\n",
       "      <th>geometry</th>\n",
       "    </tr>\n",
       "  </thead>\n",
       "  <tbody>\n",
       "    <tr>\n",
       "      <th>2</th>\n",
       "      <td>27.479368</td>\n",
       "      <td>9.901186</td>\n",
       "      <td>Khyber Pakhtunkhwa</td>\n",
       "      <td>PK2</td>\n",
       "      <td>None</td>\n",
       "      <td>None</td>\n",
       "      <td>None</td>\n",
       "      <td>Pakistan</td>\n",
       "      <td>PK</td>\n",
       "      <td>2018-11-30</td>\n",
       "      <td>2018-12-18</td>\n",
       "      <td>None</td>\n",
       "      <td>POLYGON ((505910.537 3561734.747, 505840.700 3...</td>\n",
       "    </tr>\n",
       "  </tbody>\n",
       "</table>\n",
       "</div>"
      ],
      "text/plain": [
       "   Shape_Leng  Shape_Area             ADM1_EN ADM1_PCODE ADM1_REF ADM1ALT1EN  \\\n",
       "2   27.479368    9.901186  Khyber Pakhtunkhwa        PK2     None       None   \n",
       "\n",
       "  ADM1ALT2EN   ADM0_EN ADM0_PCODE        date     validOn validTo  \\\n",
       "2       None  Pakistan         PK  2018-11-30  2018-12-18    None   \n",
       "\n",
       "                                            geometry  \n",
       "2  POLYGON ((505910.537 3561734.747, 505840.700 3...  "
      ]
     },
     "execution_count": 9,
     "metadata": {},
     "output_type": "execute_result"
    }
   ],
   "source": [
    "aoi.head()"
   ]
  },
  {
   "cell_type": "markdown",
   "id": "determined-stage",
   "metadata": {},
   "source": [
    "# Processing"
   ]
  },
  {
   "cell_type": "markdown",
   "id": "cloudy-thirty",
   "metadata": {},
   "source": [
    "Load in and process various input rasters for off-road travel. Note that the decision to use the landcover as the reference layer (in terms of projection, cell size, etc.) is arbitrary and the DEM could easily be used for such instead."
   ]
  },
  {
   "cell_type": "markdown",
   "id": "comic-adult",
   "metadata": {},
   "source": [
    "## Reclassify landcover"
   ]
  },
  {
   "cell_type": "code",
   "execution_count": 10,
   "id": "deluxe-comedy",
   "metadata": {
    "tags": []
   },
   "outputs": [],
   "source": [
    "# Build a \"lookup array\" where the index is the original value and the value\n",
    "# is the reclassified value.  Setting all of the reclassified values is cheap \n",
    "# because the memory is only allocated once for the lookup array.\n",
    "\n",
    "lookup = np.arange(256, dtype=np.float32)\n",
    "\n",
    "# Replacement values are the divisors of walking speeds specific to that landcover type -- so, a value of 2 means \"divide the walking speed by 2\"\n",
    "# THESE ARE EXAMPLE VALUES AND MUST BE REPLACED FOR YOUR CONTEXT -- refer to \"Spatial Analysis by Cost Functions\" by Irmela Herzog (2020) for guidance\n",
    "\n",
    "lookup[1] = 2\n",
    "lookup[2] = 2\n",
    "lookup[3] = 2\n",
    "lookup[4] = 2\n",
    "lookup[5] = 2\n",
    "lookup[6] = 2\n",
    "lookup[7] = 1.2\n",
    "lookup[8] = 1.5\n",
    "lookup[9] = 1.8\n",
    "lookup[10] = 1.5\n",
    "lookup[11] = 1.2\n",
    "lookup[12] = 1.19\n",
    "lookup[13] = 1.6\n",
    "lookup[14] = 5\n",
    "lookup[255] = 1.5\n"
   ]
  },
  {
   "cell_type": "code",
   "execution_count": 11,
   "id": "1297e8d8-f579-445a-98d4-6f73808346e6",
   "metadata": {},
   "outputs": [],
   "source": [
    "lc_pth = r'pakistan_icimod_landcover_2010_32642.tif'"
   ]
  },
  {
   "cell_type": "code",
   "execution_count": 12,
   "id": "broke-spray",
   "metadata": {},
   "outputs": [],
   "source": [
    "with rasterio.open(os.path.join(in_lc,lc_pth)) as lc_src:\n",
    "    # Read as numpy array\n",
    "    lc_array = lc_src.read()\n",
    "    lc_profile = lc_src.profile\n",
    "    lc_transform = lc_src.transform\n",
    "    \n",
    "    # Reclassify in a single operation using broadcasting\n",
    "    lc_array = lookup[lc_array].astype(np.float32)\n"
   ]
  },
  {
   "cell_type": "code",
   "execution_count": 13,
   "id": "deadly-industry",
   "metadata": {},
   "outputs": [
    {
     "data": {
      "text/plain": [
       "(1, 21580, 29320)"
      ]
     },
     "execution_count": 13,
     "metadata": {},
     "output_type": "execute_result"
    }
   ],
   "source": [
    "lc_array.shape"
   ]
  },
  {
   "cell_type": "code",
   "execution_count": 14,
   "id": "302e8711-7590-4f32-8449-b7843e8dfd5c",
   "metadata": {},
   "outputs": [
    {
     "data": {
      "text/plain": [
       "dtype('float32')"
      ]
     },
     "execution_count": 14,
     "metadata": {},
     "output_type": "execute_result"
    }
   ],
   "source": [
    "lc_array.dtype"
   ]
  },
  {
   "cell_type": "code",
   "execution_count": 15,
   "id": "8fc80eb3-16d6-478d-ad2d-0fec07ec23d2",
   "metadata": {},
   "outputs": [
    {
     "data": {
      "text/plain": [
       "Affine(28.23254382673943, 0.0, 489325.4971,\n",
       "       0.0, -31.766168813716423, 4128951.9286)"
      ]
     },
     "execution_count": 15,
     "metadata": {},
     "output_type": "execute_result"
    }
   ],
   "source": [
    "lc_transform"
   ]
  },
  {
   "cell_type": "code",
   "execution_count": 16,
   "id": "9b8b7f33-6a2f-4576-851f-0328cffea1de",
   "metadata": {},
   "outputs": [],
   "source": [
    "res = str(int(np.abs(lc_transform.e))) + 'm'"
   ]
  },
  {
   "cell_type": "code",
   "execution_count": 17,
   "id": "9a04c44a-f167-49b3-8b41-d79b5afc9ce8",
   "metadata": {},
   "outputs": [
    {
     "data": {
      "text/plain": [
       "'31m'"
      ]
     },
     "execution_count": 17,
     "metadata": {},
     "output_type": "execute_result"
    }
   ],
   "source": [
    "res"
   ]
  },
  {
   "cell_type": "markdown",
   "id": "administrative-hunter",
   "metadata": {
    "tags": []
   },
   "source": [
    "## Rivers and bridges as obstacles"
   ]
  },
  {
   "cell_type": "markdown",
   "id": "grand-phenomenon",
   "metadata": {},
   "source": [
    "Download rivers, transform to geodataframe in correct projection"
   ]
  },
  {
   "cell_type": "code",
   "execution_count": 18,
   "id": "886d3ee2-a9d8-473e-a8d0-3ac3a9c40c30",
   "metadata": {},
   "outputs": [],
   "source": [
    "riv_path = r'osm_river_utm.shp'"
   ]
  },
  {
   "cell_type": "code",
   "execution_count": 19,
   "id": "promising-tourism",
   "metadata": {},
   "outputs": [
    {
     "name": "stderr",
     "output_type": "stream",
     "text": [
      "C:\\Users\\wb467985\\Anaconda3\\envs\\geo\\lib\\site-packages\\geopandas\\geodataframe.py:1322: SettingWithCopyWarning: \n",
      "A value is trying to be set on a copy of a slice from a DataFrame.\n",
      "Try using .loc[row_indexer,col_indexer] = value instead\n",
      "\n",
      "See the caveats in the documentation: https://pandas.pydata.org/pandas-docs/stable/user_guide/indexing.html#returning-a-view-versus-a-copy\n",
      "  super(GeoDataFrame, self).__setitem__(key, value)\n"
     ]
    }
   ],
   "source": [
    "# local file import\n",
    "rivs = gpd.read_file(os.path.join(data_dir,riv_path),driver=\"ESRI Shapefile\")\n",
    "\n",
    "# minor cleanup\n",
    "rivs = rivs.reset_index()\n",
    "rivs_slim = rivs[['geometry']]\n",
    "rivs_slim['exist'] = 0\n",
    "rivs_slim = rivs_slim.to_crs(dest_crs)"
   ]
  },
  {
   "cell_type": "code",
   "execution_count": 20,
   "id": "mechanical-budapest",
   "metadata": {},
   "outputs": [],
   "source": [
    "# create a generator containing geometry, value pairs for rivers\n",
    "\n",
    "riv_shapes = ((geom,exist) for geom, exist in zip(rivs_slim.geometry,rivs_slim['exist']))\n",
    "\n",
    "# This will give the raster the size and dimensions of the landcover raster -- areas not covered by rivers will be 1.\n",
    "\n",
    "riv_rast = features.rasterize(riv_shapes,\\\n",
    "                  out_shape = (lc_profile['height'],\\\n",
    "                               lc_profile['width']),\\\n",
    "                  transform=lc_profile['transform'],\n",
    "                  all_touched=True,\n",
    "                  fill=1,\n",
    "                  dtype = np.float32)\n"
   ]
  },
  {
   "cell_type": "markdown",
   "id": "level-harvard",
   "metadata": {},
   "source": [
    "**Optional step, change the `using_bridges` parameter to trigger / disable**:"
   ]
  },
  {
   "cell_type": "markdown",
   "id": "016b10db-ff46-4145-b38e-61c0c66b90b1",
   "metadata": {},
   "source": [
    "In some areas of the Himalayas foot bridges are an important means of crossing rivers, which tend to be swift moving and impassible. These bridges can save hours in extreme cases. If this is true for your area of interest, use the code below to load in bridges, snap them to river lines, and add them as crossable cells on your river raster.</br>This step is set to 'no' by default as it's a niche use case. "
   ]
  },
  {
   "cell_type": "code",
   "execution_count": 21,
   "id": "92ec0481-b539-4068-937e-a6abe983621c",
   "metadata": {},
   "outputs": [],
   "source": [
    "# change this to trigger / disable sequence below \n",
    "using_bridges = 'no'"
   ]
  },
  {
   "cell_type": "code",
   "execution_count": 22,
   "id": "57b8ae1d-ddf3-4bcc-87bd-f323a58a7067",
   "metadata": {},
   "outputs": [],
   "source": [
    "# Download bridges, transform to geodataframe in correct projection, snap to nearest river\n",
    "if using_bridges == 'yes':\n",
    "\n",
    "    # swap in file path of your bridges layer\n",
    "    brdgs = gpd.read_file(os.path.join(data_dir,vect_dir,\"bridges_osm_210710.shp\"),driver=\"ESRI Shapefile\")\n",
    "    brdgs = brdgs.to_crs(dest_crs)\n",
    "\n",
    "    # snapping to rivers\n",
    "    # from: https://gis.stackexchange.com/questions/306838/snap-points-shapefile-to-line-shapefile-using-shapely</br>\n",
    "\n",
    "    brdgs_snapped = [shapely.ops.snap(i,j, 2000) for i, j in zip(brdgs['geometry'],rivs_slim['geometry']) ]\n",
    "    \n",
    "    brdgs_snapped = gpd.GeoDataFrame(brdgs_snapped)\n",
    "    brdgs_snapped.rename({0:'geometry'},axis=1,inplace=True)\n",
    "    brdgs_snapped = brdgs_snapped.set_geometry('geometry').set_crs(dest_crs)\n",
    "    brdgs_snapped['exist'] = 1\n",
    "\n",
    "    # if you want to save these out\n",
    "    # brdgs_snapped.to_file(os.path.join(data_dir,vect_dir,\"bridges_osm_210710.shp\"),driver=\"ESRI Shapefile\")\n",
    "\n",
    "    # generator of vector shapes and values (existean)\n",
    "\n",
    "    brdg_shapes = ((geom,exist) for geom, exist in zip(brdgs_snapped.geometry,brdgs_snapped['exist']))\n",
    "\n",
    "    # Create a bridge raster layer we can overlay on the rivers -- areas not covered by bridges will be 0\n",
    "\n",
    "    brdg_rast = features.rasterize(brdg_shapes,\\\n",
    "                      out_shape = (lc_profile['height'],\\\n",
    "                                   lc_profile['width']),\\\n",
    "                      transform=lc_profile['transform'],\n",
    "                      all_touched=True,\n",
    "                      fill=0,\n",
    "                      dtype = np.float32)\n",
    "\n",
    "    # Add rasters together and export as final river raster layer\n",
    "    \n",
    "    riv_rast_fin = riv_rast + brdg_rast # add rasters together so bridges punch \"holes\" in rivers\n",
    "\n",
    "else:\n",
    "    # If not using bridges\n",
    "    riv_rast_fin = riv_rast"
   ]
  },
  {
   "cell_type": "code",
   "execution_count": 23,
   "id": "0606fc12-9030-4102-898b-c6c8a3c93e31",
   "metadata": {},
   "outputs": [
    {
     "data": {
      "text/plain": [
       "(21580, 29320)"
      ]
     },
     "execution_count": 23,
     "metadata": {},
     "output_type": "execute_result"
    }
   ],
   "source": [
    "riv_rast_fin.shape"
   ]
  },
  {
   "cell_type": "code",
   "execution_count": 24,
   "id": "6a6d90d1-3754-4430-a437-726674a11e52",
   "metadata": {},
   "outputs": [
    {
     "data": {
      "text/plain": [
       "dtype('float32')"
      ]
     },
     "execution_count": 24,
     "metadata": {},
     "output_type": "execute_result"
    }
   ],
   "source": [
    "riv_rast_fin.dtype"
   ]
  },
  {
   "cell_type": "markdown",
   "id": "spanish-pharmaceutical",
   "metadata": {
    "tags": []
   },
   "source": [
    "## Roads to walking surface mask raster"
   ]
  },
  {
   "cell_type": "markdown",
   "id": "norman-ballot",
   "metadata": {},
   "source": [
    "We assume that people walking on roads and paths are not affected by landcover. To model this we turn roads into a raster with value = 1 (for 1 * speed). Then we merge it with the landcover raster for a final walking speed modifier raster"
   ]
  },
  {
   "cell_type": "code",
   "execution_count": 25,
   "id": "bc21440c-0b5d-439f-af45-3da83d944fe8",
   "metadata": {},
   "outputs": [],
   "source": [
    "# your roads file path here\n",
    "roads_path = r'master_transport_Sep23.gpkg'"
   ]
  },
  {
   "cell_type": "code",
   "execution_count": 26,
   "id": "floppy-brisbane",
   "metadata": {},
   "outputs": [],
   "source": [
    "rds = gpd.read_file(os.path.join(data_dir,roads_path),driver=\"GPKG\")"
   ]
  },
  {
   "cell_type": "code",
   "execution_count": 27,
   "id": "sublime-smart",
   "metadata": {},
   "outputs": [],
   "source": [
    "# assign 1 value to represent existence of road\n",
    "rds['exist'] = 1\n",
    "\n",
    "# generator of vector shapes and values (boolean)\n",
    "rds_shapes = ((geom,exist_val) for geom, exist_val in zip(rds.geometry,rds['exist']))\n",
    "\n",
    "# This will give the raster the size and dimensions of the landcover raster -- areas not covered by roads will be 0.\n",
    "\n",
    "rd_mask_rast = features.rasterize(rds_shapes,\\\n",
    "                  out_shape = (lc_profile['height'],\\\n",
    "                               lc_profile['width']),\\\n",
    "                  transform=lc_profile['transform'],\n",
    "                  all_touched=True,\n",
    "                  fill=0,\n",
    "                  dtype = np.uint8)\n"
   ]
  },
  {
   "cell_type": "code",
   "execution_count": 28,
   "id": "390636ae-2030-4abc-940a-22f3d2dc232d",
   "metadata": {},
   "outputs": [
    {
     "name": "stdout",
     "output_type": "stream",
     "text": [
      "shape: (21580, 29320)\n",
      "dtype: uint8\n"
     ]
    }
   ],
   "source": [
    "print('shape: ' + str(rd_mask_rast.shape) + '\\ndtype: ' + str(rd_mask_rast.dtype))"
   ]
  },
  {
   "cell_type": "markdown",
   "id": "tamil-meter",
   "metadata": {},
   "source": [
    "First combine the rivers with the landcover raster, inserting a `600000` divider where rivers exist, so crossing rivers without a bridge has a huge cost. Then combine with the road mask, inserting a `1` multiplier where roads are. The order is important, so roads overwrite rivers (implicitly via bridges, which are not reliably recorded in many roads datasets)\n",
    "</br></br>Note that if landcover *multipliers* instead of *dividers* are used, you need to invert this and use a very small decimal value for the rivers."
   ]
  },
  {
   "cell_type": "code",
   "execution_count": 29,
   "id": "saving-marsh",
   "metadata": {},
   "outputs": [],
   "source": [
    "# make rivers impassible\n",
    "walkspeed_mod_rast = np.where(riv_rast_fin == 0, 600000, lc_array)\n",
    "# treat roads as bridging rivers by default\n",
    "walkspeed_mod_rast = np.where(rd_mask_rast == 1, 1, walkspeed_mod_rast)"
   ]
  },
  {
   "cell_type": "code",
   "execution_count": 30,
   "id": "abe09437-85a3-423e-a803-e222f765ed64",
   "metadata": {},
   "outputs": [
    {
     "name": "stdout",
     "output_type": "stream",
     "text": [
      "shape: (1, 21580, 29320)\n",
      "dtype: float64\n"
     ]
    }
   ],
   "source": [
    "print('shape: ' + str(walkspeed_mod_rast.shape) + '\\ndtype: ' + str(walkspeed_mod_rast.dtype))"
   ]
  },
  {
   "cell_type": "code",
   "execution_count": 31,
   "id": "9f20f038-a19c-48d1-92dc-69a5faf28173",
   "metadata": {},
   "outputs": [
    {
     "data": {
      "text/plain": [
       "1.0"
      ]
     },
     "execution_count": 31,
     "metadata": {},
     "output_type": "execute_result"
    }
   ],
   "source": [
    "# check that the minimum value is correct\n",
    "np.min(walkspeed_mod_rast)"
   ]
  },
  {
   "cell_type": "markdown",
   "id": "southwest-christopher",
   "metadata": {},
   "source": [
    "## Base walking speeds from DEM"
   ]
  },
  {
   "cell_type": "markdown",
   "id": "electric-chile",
   "metadata": {
    "tags": []
   },
   "source": [
    "#### DEM to slope"
   ]
  },
  {
   "cell_type": "markdown",
   "id": "baking-telling",
   "metadata": {},
   "source": [
    "First import the DEM and transform it to the same CRS, cell resolution, and dimensions as the landcover layer. This enables raster math between the layers and any other arrays derived from them."
   ]
  },
  {
   "cell_type": "code",
   "execution_count": 32,
   "id": "surface-institution",
   "metadata": {},
   "outputs": [],
   "source": [
    "with rasterio.open(os.path.join(in_dem,'DEM_KPK_UTM.tif')) as dem_src:\n",
    "    # Read as numpy array\n",
    "    dem_array = dem_src.read(1)\n",
    "    dem_transform = dem_src.transform\n",
    "    dem_profile = dem_src.profile\n"
   ]
  },
  {
   "cell_type": "code",
   "execution_count": 33,
   "id": "inappropriate-filename",
   "metadata": {},
   "outputs": [],
   "source": [
    "# must reproject the DEM to the same projection and cell-size as the landcover raster\n",
    "\n",
    "# create a blank array of the correct dimensions to populate while reprojecting\n",
    "dem_array_reproj = np.zeros(lc_array.shape, np.float32)\n",
    "\n",
    "# reproject and warp to correct shape\n",
    "with rasterio.Env():\n",
    "    reproject(\n",
    "        dem_array,\n",
    "        dem_array_reproj,\n",
    "        src_transform=dem_transform,\n",
    "        src_crs=dem_profile['crs'],\n",
    "        dst_transform=lc_profile['transform'],\n",
    "        dst_crs=lc_profile['crs'],\n",
    "        resampling=Resampling.cubic)"
   ]
  },
  {
   "cell_type": "code",
   "execution_count": 34,
   "id": "ecf53768-3c50-4549-89b1-c3acb5c32532",
   "metadata": {},
   "outputs": [
    {
     "data": {
      "text/plain": [
       "(1, 21580, 29320)"
      ]
     },
     "execution_count": 34,
     "metadata": {},
     "output_type": "execute_result"
    }
   ],
   "source": [
    "dem_array_reproj.shape\n"
   ]
  },
  {
   "cell_type": "code",
   "execution_count": 38,
   "id": "greatest-northern",
   "metadata": {},
   "outputs": [],
   "source": [
    "# use get_slope function from common_rasterio_ops\n",
    "slope = rast_ops.get_slope(dem_array_reproj,mode='fraction')"
   ]
  },
  {
   "cell_type": "code",
   "execution_count": 39,
   "id": "ae2b2cca",
   "metadata": {},
   "outputs": [],
   "source": [
    "# remove artefacts that will produce slopes > 100%\n",
    "slope = np.where(slope>1,1,slope)"
   ]
  },
  {
   "cell_type": "code",
   "execution_count": 40,
   "id": "43eb5bc1-582f-47f0-9873-649d84900c0c",
   "metadata": {},
   "outputs": [
    {
     "name": "stdout",
     "output_type": "stream",
     "text": [
      "shape: (1, 21580, 29320)\n",
      "dtype: float32\n"
     ]
    }
   ],
   "source": [
    "print('shape: ' + str(slope.shape) + '\\ndtype: ' + str(slope.dtype))"
   ]
  },
  {
   "cell_type": "markdown",
   "id": "unlikely-cardiff",
   "metadata": {},
   "source": [
    "Calculate walking speeds over the slope using Irmischer and Clarke's 2018 walking speed formula."
   ]
  },
  {
   "cell_type": "code",
   "execution_count": 41,
   "id": "earlier-monkey",
   "metadata": {},
   "outputs": [],
   "source": [
    "# Irmischer and Clarke have a generic off-road speed formula but we don't use this given that we adjust by specific landcover type.  Rather, we modify their on-road speed.\n",
    "# We include the I+C off-road formula below for reference\n",
    "\n",
    "# walkspeed_offroad = (0.11 + (0.67 * np.exp(-np.square((slope*100) + 2) / 3600))) * 3.6 # I-C off-road\n",
    "walkspeed_onroad = (0.11 + np.exp(-np.square((slope*100) + 5) / 3600)) * 3.6"
   ]
  },
  {
   "cell_type": "code",
   "execution_count": 42,
   "id": "completed-opinion",
   "metadata": {},
   "outputs": [
    {
     "data": {
      "text/plain": [
       "array([[[3.9710863, 3.9710863, 3.9710863, ..., 3.9710863, 3.9710863,\n",
       "         3.9710863],\n",
       "        [3.9710863, 3.9710863, 3.9710863, ..., 3.9710863, 3.9710863,\n",
       "         3.9710863],\n",
       "        [3.9710863, 3.9710863, 3.9710863, ..., 3.9710863, 3.9710863,\n",
       "         3.9710863],\n",
       "        ...,\n",
       "        [3.947854 , 3.9466481, 3.9454958, ..., 3.9710863, 3.9710863,\n",
       "         3.9710863],\n",
       "        [3.9502766, 3.9490733, 3.9479506, ..., 3.9710863, 3.9710863,\n",
       "         3.9710863],\n",
       "        [3.9525816, 3.9513788, 3.9502866, ..., 3.9710863, 3.9710863,\n",
       "         3.9710863]]], dtype=float32)"
      ]
     },
     "execution_count": 42,
     "metadata": {},
     "output_type": "execute_result"
    }
   ],
   "source": [
    "walkspeed_onroad"
   ]
  },
  {
   "cell_type": "code",
   "execution_count": 43,
   "id": "necessary-democracy",
   "metadata": {},
   "outputs": [],
   "source": [
    "walkspeed_base = walkspeed_onroad\n",
    "# walkspeed_base = np.where(rd_mask_rast == 1,walkspeed_onroad,walkspeed_offroad) # included for reference purposes, in situations where you don't want to adjust by landcover"
   ]
  },
  {
   "cell_type": "code",
   "execution_count": 48,
   "id": "702b50bb-10cb-4996-81b7-7e76cb09adaa",
   "metadata": {},
   "outputs": [
    {
     "name": "stdout",
     "output_type": "stream",
     "text": [
      "min: 0.5643742\n",
      "max: 0.5643742\n",
      "shape: (1, 21580, 29320)\n"
     ]
    }
   ],
   "source": [
    "print('min: ' + str(np.min(walkspeed_base)) + '\\nmax: ' + str(np.min(walkspeed_base)) + '\\nshape: ' + str(walkspeed_base.shape))"
   ]
  },
  {
   "cell_type": "markdown",
   "id": "encouraging-second",
   "metadata": {},
   "source": [
    "#### Vertical distances"
   ]
  },
  {
   "cell_type": "markdown",
   "id": "golden-latitude",
   "metadata": {},
   "source": [
    "Calculate the additional vertical distance covered when crossing a cell (the rise, in addition to the run represented by the cell's resolution)."
   ]
  },
  {
   "cell_type": "code",
   "execution_count": 57,
   "id": "animal-shepherd",
   "metadata": {},
   "outputs": [
    {
     "data": {
      "text/plain": [
       "array([[[0.        , 0.        , 0.        , ..., 0.        ,\n",
       "         0.        , 0.        ],\n",
       "        [0.        , 0.        , 0.        , ..., 0.        ,\n",
       "         0.        , 0.        ],\n",
       "        [0.        , 0.        , 0.        , ..., 0.        ,\n",
       "         0.        , 0.        ],\n",
       "        ...,\n",
       "        [0.0196207 , 0.02049321, 0.02131746, ..., 0.        ,\n",
       "         0.        , 0.        ],\n",
       "        [0.01783525, 0.01872793, 0.01955051, ..., 0.        ,\n",
       "         0.        , 0.        ],\n",
       "        [0.0160927 , 0.01700722, 0.01782777, ..., 0.        ,\n",
       "         0.        , 0.        ]]], dtype=float32)"
      ]
     },
     "execution_count": 57,
     "metadata": {},
     "output_type": "execute_result"
    }
   ],
   "source": [
    "slope"
   ]
  },
  {
   "cell_type": "code",
   "execution_count": 59,
   "id": "foreign-luxembourg",
   "metadata": {},
   "outputs": [],
   "source": [
    "vert_dist_simple = 1 / np.cos(slope)"
   ]
  },
  {
   "cell_type": "markdown",
   "id": "quality-decimal",
   "metadata": {},
   "source": [
    "Calculate the additional distance associated with zig-zagging paths - the zig goes sideways halfway up the cell, the zag sideways up the other half. We do not consider circumstances with more than 2 zig zags per cell -- possibly problematic if using large cells (1km+)"
   ]
  },
  {
   "cell_type": "code",
   "execution_count": 60,
   "id": "cloudy-significance",
   "metadata": {},
   "outputs": [],
   "source": [
    "# The switchback cutoff value is somewhat arbitrary and perhaps even varies by cultue / context. \n",
    "# We use one of the higher values found in the literature as residents of the Himalayas might be expected to have a high tolerance for walking up steep hills\n",
    "\n",
    "switchback_cutoff = 0.30"
   ]
  },
  {
   "cell_type": "code",
   "execution_count": 61,
   "id": "organizational-cannon",
   "metadata": {},
   "outputs": [],
   "source": [
    "vert_dist_switchback = np.tan(slope) / np.sin(switchback_cutoff)"
   ]
  },
  {
   "cell_type": "markdown",
   "id": "numeric-summit",
   "metadata": {},
   "source": [
    "Combine the two arrays into one walking cost array, forcing walkers to use zig-zagging switchbacks while crossing terrain above a cutoff slope of `30%` (0.30). "
   ]
  },
  {
   "cell_type": "code",
   "execution_count": 62,
   "id": "surprised-correlation",
   "metadata": {},
   "outputs": [],
   "source": [
    "vert_dist_switchback = np.where(slope <= switchback_cutoff,vert_dist_simple,vert_dist_switchback)"
   ]
  },
  {
   "cell_type": "code",
   "execution_count": 63,
   "id": "stunning-latvia",
   "metadata": {},
   "outputs": [
    {
     "data": {
      "text/plain": [
       "array([[[1.       , 1.       , 1.       , ..., 1.       , 1.       ,\n",
       "         1.       ],\n",
       "        [1.       , 1.       , 1.       , ..., 1.       , 1.       ,\n",
       "         1.       ],\n",
       "        [1.       , 1.       , 1.       , ..., 1.       , 1.       ,\n",
       "         1.       ],\n",
       "        ...,\n",
       "        [1.0001925, 1.00021  , 1.0002272, ..., 1.       , 1.       ,\n",
       "         1.       ],\n",
       "        [1.000159 , 1.0001754, 1.0001911, ..., 1.       , 1.       ,\n",
       "         1.       ],\n",
       "        [1.0001295, 1.0001446, 1.0001589, ..., 1.       , 1.       ,\n",
       "         1.       ]]], dtype=float32)"
      ]
     },
     "execution_count": 63,
     "metadata": {},
     "output_type": "execute_result"
    }
   ],
   "source": [
    "vert_dist_switchback"
   ]
  },
  {
   "cell_type": "code",
   "execution_count": 65,
   "id": "bc3c08dd-4932-4574-9be1-ddef0a2b7fef",
   "metadata": {},
   "outputs": [],
   "source": [
    "# make float32 to reduce file sizes on export\n",
    "vert_dist_simple = vert_dist_simple.astype(np.float32)\n",
    "vert_dist_switchback = vert_dist_switchback.astype(np.float32)"
   ]
  },
  {
   "cell_type": "markdown",
   "id": "05aea4eb-63a6-4280-a8cd-552cc0f2f34c",
   "metadata": {},
   "source": [
    "Mask and export the vertical distance layers"
   ]
  },
  {
   "cell_type": "code",
   "execution_count": 110,
   "id": "4bfbb570-821c-41dd-867f-213c21cb26b8",
   "metadata": {},
   "outputs": [],
   "source": [
    "# create a profile for clipping\n",
    "\n",
    "lc_profile.update({\"dtype\":'float32',\\\n",
    "                   \"COMPRESS\":'ZSTD',\n",
    "                   \"nodata\":-99999})"
   ]
  },
  {
   "cell_type": "code",
   "execution_count": 112,
   "id": "1fe5305e-d10d-4dfa-8735-bf5df258e597",
   "metadata": {},
   "outputs": [],
   "source": [
    "vert_dist_simple = vert_dist_simple[0, :, :]\n",
    "vert_dist_switchback = vert_dist_switchback[0, :, :]"
   ]
  },
  {
   "cell_type": "code",
   "execution_count": 113,
   "id": "7c0bbc9d-06d7-4533-a3f9-c8ba28a94b3b",
   "metadata": {},
   "outputs": [],
   "source": [
    "# Clip the friction arrays by the buffered KP outline\n",
    "# use a MemoryFile to avoid lots of IO -- otherwise have to save down, then load back up.\n",
    "\n",
    "# dry\n",
    "vert_dist_simple_mask, vert_dist_simple_mask_tform = rast_ops.clip_in_memory(vert_dist_simple,lc_profile,aoi.geometry)\n",
    "\n",
    "# monsoon\n",
    "vert_dist_switchback_mask, vert_dist_switchback_mask_tform = rast_ops.clip_in_memory(vert_dist_switchback,lc_profile,aoi.geometry)\n"
   ]
  },
  {
   "cell_type": "code",
   "execution_count": 114,
   "id": "fdd0d20d-4403-4318-995d-03e6fbbeee2c",
   "metadata": {},
   "outputs": [],
   "source": [
    "exort_profile = lc_profile.copy()\n",
    "\n",
    "export_profile.update({\"dtype\":'float32',\\\n",
    "                       \"transform\" : vert_dist_simple_mask_tform,\\\n",
    "                       \"COMPRESS\":'ZSTD',\\\n",
    "                       \"nodata\":-99999})"
   ]
  },
  {
   "cell_type": "code",
   "execution_count": 121,
   "id": "d2dc4a70-ddaa-42aa-a66a-1b397200d394",
   "metadata": {},
   "outputs": [],
   "source": [
    "# write out the vertical-horizontal for future use\n",
    "\n",
    "with rasterio.open(os.path.join(out_dir,f'KP_Combined_VertHorizontal_Distance_Simple_{today}_{res}_masked.tif'),'w',**lc_profile) as dst1:\n",
    "     dst1.write(vert_dist_simple_mask,indexes=1)\n",
    "        \n",
    "with rasterio.open(os.path.join(out_dir,f'KP_Combined_VertHorizontal_Distance_w_Switchbacks_{today}_{res}_masked.tif'),'w',**lc_profile) as dst2:\n",
    "     dst2.write(vert_dist_switchback_mask,indexes=1)"
   ]
  },
  {
   "cell_type": "markdown",
   "id": "minus-knight",
   "metadata": {},
   "source": [
    "## Merge rasters into final walking friction surface"
   ]
  },
  {
   "cell_type": "markdown",
   "id": "suspended-apparatus",
   "metadata": {},
   "source": [
    "Combine the various arrays into a final walking friction surface in 6 stages:\n",
    "1. Multiply the base walking speed computed from the DEM Slope by the speed modifier\n",
    "2. Create a monsoon walking speed as 0.75 of the base walking speed and the winter walking speed similarly, using a multiplier determined by elevation\n",
    "3. Adjust the speeds for altitude\n",
    "4. Transform these speeds into friction values\n",
    "5. Multiply the friction values by the vert/horizontal multiplication factor (e.g. 1.5)\n",
    "6. Convert extraneous values to -99999 nodata values"
   ]
  },
  {
   "cell_type": "code",
   "execution_count": 49,
   "id": "understanding-visitor",
   "metadata": {},
   "outputs": [],
   "source": [
    "walkspeed_dry_step1 = np.divide(walkspeed_base,walkspeed_mod_rast)\n",
    "walkspeed_msn_step1 = np.multiply(walkspeed_dry_step1,0.75)"
   ]
  },
  {
   "cell_type": "code",
   "execution_count": 50,
   "id": "9a11ca45-23fc-42d0-891d-e6edc167b9ef",
   "metadata": {},
   "outputs": [],
   "source": [
    "walkspeed_dry_step1 = walkspeed_dry_step1.astype(np.float32)"
   ]
  },
  {
   "cell_type": "code",
   "execution_count": 51,
   "id": "bc72bc1e-46b8-48c5-a720-6723a27ebf79",
   "metadata": {},
   "outputs": [],
   "source": [
    "export_profile = lc_profile.copy()\n",
    "export_profile.update({\"dtype\":'float32',\\\n",
    "                       \"COMPRESS\":'ZSTD',\n",
    "                       \"NUM_THREADS\":'ALL_CPUS',\n",
    "                       \"nodata\":-99999})"
   ]
  },
  {
   "cell_type": "code",
   "execution_count": 52,
   "id": "d087537e-c5a8-48a3-8bbd-8982211c237c",
   "metadata": {},
   "outputs": [],
   "source": [
    "# We impose differential winter speed costs based on altitude, on the expectation snowfall is a problem above 2350m and even more so above 3000m. \n",
    "# You can replace these with values that make sense for your context (or drop the winter model if that's not an issue)\n",
    "walkspeed_winter_step0 = np.where(dem_array_reproj <= 2350, walkspeed_dry_step1, (np.multiply(walkspeed_dry_step1,0.75)))\n",
    "walkspeed_winter_step1 = np.where(dem_array_reproj <= 3000, walkspeed_winter_step0, (np.multiply(walkspeed_dry_step1,0.6)))"
   ]
  },
  {
   "cell_type": "code",
   "execution_count": 53,
   "id": "dde3149e-41e5-421a-895b-da170dd33f5b",
   "metadata": {},
   "outputs": [
    {
     "data": {
      "text/plain": [
       "5.6437426e-07"
      ]
     },
     "execution_count": 53,
     "metadata": {},
     "output_type": "execute_result"
    }
   ],
   "source": [
    "np.min(walkspeed_winter_step1)"
   ]
  },
  {
   "cell_type": "markdown",
   "id": "alleged-seller",
   "metadata": {},
   "source": [
    "Adjust walkspeeds by altitude"
   ]
  },
  {
   "cell_type": "code",
   "execution_count": 54,
   "id": "defensive-consent",
   "metadata": {},
   "outputs": [],
   "source": [
    "# We adjust altitude in two steps based on a literature review into how lower oxygen content at altitude affects walking speeds. Note this is not the best documented subject, at least in terms we can computer into a friction surface.\n",
    "# This formula could probably be streamlined so that this step is condensed into one move\n",
    "# The Global Friction Surface has just one formula but I found its high altitude (>5000) modifiers to be a little low compared to the available literature on athletic performance at altitude. Not a big deal except if you're working in the Himalayas\n",
    "\n",
    "alt_adjust_dry_under3k = np.where(dem_array_reproj <= 2350, walkspeed_dry_step1, ((walkspeed_dry_step1) / (1 + ((dem_array_reproj - 2350)/5000))) )\n",
    "walkspeed_dry_step2 = np.where(dem_array_reproj <= 3000, alt_adjust_dry_under3k, ((walkspeed_dry_step1) / (0.323 * np.exp((.00042*dem_array_reproj)))) )\n",
    "\n",
    "alt_adjust_msn_under3k = np.where(dem_array_reproj <= 2350, walkspeed_msn_step1, ((walkspeed_msn_step1) / (1 + ((dem_array_reproj - 2350)/5000))) )\n",
    "walkspeed_msn_step2 = np.where(dem_array_reproj <= 3000, alt_adjust_msn_under3k, ((walkspeed_msn_step1) / (0.323 * np.exp((.00042*dem_array_reproj)))) )\n",
    "\n",
    "alt_adjust_winter_under3k = np.where(dem_array_reproj <= 2350, walkspeed_winter_step1, ((walkspeed_winter_step1) / (1 + ((dem_array_reproj - 2350)/5000))) )\n",
    "walkspeed_winter_step2 = np.where(dem_array_reproj <= 3000, alt_adjust_winter_under3k, ((walkspeed_winter_step1) / (0.323 * np.exp((.00042*dem_array_reproj)))) )"
   ]
  },
  {
   "cell_type": "code",
   "execution_count": 55,
   "id": "potential-heavy",
   "metadata": {},
   "outputs": [],
   "source": [
    "# Refactor walking speeds to friction values in units of cell size / hour (e.g. 30m / hour)\n",
    "# To prepare by minute instead just multiply by 60\n",
    "\n",
    "friction_walk_dry_step1 = (1 / walkspeed_dry_step2) / (1000 / lc_transform.a)\n",
    "friction_walk_msn_step1 = (1 / walkspeed_msn_step2) / (1000 / lc_transform.a)\n",
    "friction_walk_winter_step1 = (1 / walkspeed_winter_step2) / (1000 / lc_transform.a)"
   ]
  },
  {
   "cell_type": "code",
   "execution_count": 66,
   "id": "egyptian-terrace",
   "metadata": {},
   "outputs": [],
   "source": [
    "# Now multiply the friction surface by the merged vertical/horizontal distance to calculate the final friction surface\n",
    "friction_walk_dry_final = np.multiply(friction_walk_dry_step1,vert_dist_switchback)\n",
    "friction_walk_msn_final = np.multiply(friction_walk_msn_step1,vert_dist_switchback)\n",
    "friction_walk_winter_final = np.multiply(friction_walk_winter_step1,vert_dist_switchback)"
   ]
  },
  {
   "cell_type": "code",
   "execution_count": 67,
   "id": "smart-lodge",
   "metadata": {
    "scrolled": true
   },
   "outputs": [],
   "source": [
    "#friction_walk_dry_final"
   ]
  },
  {
   "cell_type": "code",
   "execution_count": 68,
   "id": "e4d65eea-8d5d-4ee1-95ac-2ab7c3b6375b",
   "metadata": {},
   "outputs": [],
   "source": [
    "#friction_walk_msn_final"
   ]
  },
  {
   "cell_type": "code",
   "execution_count": 69,
   "id": "e1dc2241-3cf9-4cf1-b570-4d5e816cf723",
   "metadata": {},
   "outputs": [],
   "source": [
    "#friction_walk_winter_final"
   ]
  },
  {
   "cell_type": "markdown",
   "id": "sophisticated-search",
   "metadata": {},
   "source": [
    "Weed out Inf values and super high river values"
   ]
  },
  {
   "cell_type": "code",
   "execution_count": 70,
   "id": "announced-alaska",
   "metadata": {},
   "outputs": [],
   "source": [
    "# We use 1 as an arbitrary cutoff on the assumption that it will never actually take 1 hour to cross a grid cell, so values above that are bogus and filterable\n",
    "\n",
    "friction_walk_dry_final = np.where(friction_walk_dry_final > 1, 1, friction_walk_dry_final)\n",
    "friction_walk_msn_final = np.where(friction_walk_msn_final > 1, 1, friction_walk_msn_final)\n",
    "friction_walk_winter_final = np.where(friction_walk_winter_final > 1, 1, friction_walk_winter_final)"
   ]
  },
  {
   "cell_type": "markdown",
   "id": "eec289cc-9962-47de-9a4b-255f5fd894a5",
   "metadata": {},
   "source": [
    "Create a profile for clipping the layers"
   ]
  },
  {
   "cell_type": "code",
   "execution_count": 71,
   "id": "92c8d400-36df-49c1-b6e5-a27bd6bf848f",
   "metadata": {},
   "outputs": [],
   "source": [
    "export_profile = lc_profile.copy()\n",
    "export_profile.update({\"dtype\":'float32',\\\n",
    "                       \"COMPRESS\":'ZSTD',\n",
    "                       \"NUM_THREADS\":'ALL_CPUS',\n",
    "                       \"nodata\":-99999})"
   ]
  },
  {
   "cell_type": "code",
   "execution_count": 98,
   "id": "10c9441e-b65d-4c6a-b4ff-53f8f3720d07",
   "metadata": {},
   "outputs": [],
   "source": [
    "# remove band dimension for clipping operation as the function is built for indexless rasters\n",
    "friction_walk_dry_final = friction_walk_dry_final[0, :, : ]\n",
    "friction_walk_msn_final = friction_walk_msn_final[0, :, : ]\n",
    "friction_walk_winter_final = friction_walk_winter_final[0, :, : ]"
   ]
  },
  {
   "cell_type": "code",
   "execution_count": 103,
   "id": "6d8af9e8-a557-4724-acb9-70c62e998b85",
   "metadata": {},
   "outputs": [],
   "source": [
    "# Clip the friction arrays by the buffered KP outline\n",
    "# use a MemoryFile to avoid lots of IO -- otherwise have to save down, then load back up.\n",
    "\n",
    "# dry\n",
    "friction_walk_dry_final_mask, friction_walk_dry_mask_tform = rast_ops.clip_in_memory(friction_walk_dry_final,export_profile,aoi.geometry)\n",
    "\n",
    "# monsoon\n",
    "friction_walk_msn_final_mask, friction_walk_msn_mask_tform = rast_ops.clip_in_memory(friction_walk_msn_final,export_profile,aoi.geometry)\n",
    "\n",
    "# winter\n",
    "friction_walk_winter_final_mask, friction_walk_winter_mask_tform = rast_ops.clip_in_memory(friction_walk_winter_final,export_profile,aoi.geometry)\n"
   ]
  },
  {
   "cell_type": "markdown",
   "id": "d5c3bab5-d2f9-4249-9a22-26cc43408aac",
   "metadata": {},
   "source": [
    "Round up and change to float32 to reduce file sizes"
   ]
  },
  {
   "cell_type": "code",
   "execution_count": 105,
   "id": "f257fca9-3b2a-406e-b9d1-bbf26688ee5a",
   "metadata": {},
   "outputs": [],
   "source": [
    "# ensure it's float32 so the output size is smaller\n",
    "friction_walk_dry_final_mask = np.round(friction_walk_dry_final_mask,8).astype(np.float32)\n",
    "friction_walk_msn_final_mask = np.round(friction_walk_msn_final_mask,8).astype(np.float32)\n",
    "friction_walk_winter_final_mask = np.round(friction_walk_winter_final_mask,8).astype(np.float32)"
   ]
  },
  {
   "cell_type": "code",
   "execution_count": 108,
   "id": "9906490c-3385-4906-a685-1ec6d19045b1",
   "metadata": {},
   "outputs": [],
   "source": [
    "# make a new profile for export, inserting the new height/width/transform values from the clipped raster\n",
    "\n",
    "mask_profile = export_profile.copy()\n",
    "\n",
    "mask_profile.update({\"dtype\" : 'float32',\n",
    "                     \"height\":friction_walk_winter_final_mask.shape[0],\n",
    "                     \"width\":friction_walk_winter_final_mask.shape[1],\n",
    "                     \"transform\" : friction_walk_winter_mask_tform})"
   ]
  },
  {
   "cell_type": "code",
   "execution_count": null,
   "id": "bf284087-5a27-49df-a098-4934086ee72b",
   "metadata": {},
   "outputs": [],
   "source": [
    "# Export the final, clipped version of the three seasonal friction surfaces\n",
    "\n",
    "with rasterio.open(os.path.join(fric_dir,f'KP_friction_walk_dry_{today}_{res}_masked.tif'),'w',**mask_profile) as dst:\n",
    "    dst.write(friction_walk_dry_final_mask,indexes=1)\n",
    "    dst.build_overviews = ([2,4,8,10,14,16],Resampling.nearest) # build pyramids for quick viewing in desktop GIS software\n",
    "    \n",
    "with rasterio.open(os.path.join(fric_dir,f'KP_friction_walk_msn_{today}_{res}_masked.tif'),'w',**mask_profile) as dst:\n",
    "    dst.write(friction_walk_msn_final_mask,indexes=1)\n",
    "    dst.build_overviews = ([2,4,8,10,14,16],Resampling.nearest) # build pyramids for quick viewing in desktop GIS software\n",
    "\n",
    "with rasterio.open(os.path.join(fric_dir,f'KP_friction_walk_winter_{today}_{res}_masked.tif'),'w',**mask_profile) as dst:\n",
    "    dst.write(friction_walk_winter_final_mask,indexes=1)\n",
    "    dst.build_overviews = ([2,4,8,10,14,16],Resampling.nearest) # build pyramids for quick viewing in desktop GIS software"
   ]
  },
  {
   "cell_type": "markdown",
   "id": "352888d1",
   "metadata": {},
   "source": [
    "# Troubleshooting: intermediate file export"
   ]
  },
  {
   "cell_type": "markdown",
   "id": "61deb066",
   "metadata": {},
   "source": [
    "It's easy to mistype a parameter and mess up the whole result. Looking through the intermediate files sequentially is usually the fastest way to catch and correct such errors. Below are quick code snippets to export these intermediate files."
   ]
  },
  {
   "cell_type": "code",
   "execution_count": null,
   "id": "4ac0b055-a0e6-4286-be16-83d500e034f1",
   "metadata": {},
   "outputs": [],
   "source": [
    "out_dir = r'P:\\PAK\\\\Code\\Accessibility\\Intermediate_Rasters'"
   ]
  },
  {
   "cell_type": "code",
   "execution_count": 13,
   "id": "b4a07682",
   "metadata": {},
   "outputs": [],
   "source": [
    "with rasterio.open(\n",
    "        os.path.join(out_dir,f'KP_LC_Modifier.tif'), 'w',**lc_profile) as dst:\n",
    "    dst.write(lc_array)"
   ]
  },
  {
   "cell_type": "code",
   "execution_count": 22,
   "id": "733663d5",
   "metadata": {},
   "outputs": [],
   "source": [
    "with rasterio.open(\n",
    "        os.path.join(out_dir,f'KP_River_Raster.tif'), 'w',**lc_profile) as dst:\n",
    "    dst.write(riv_rast, indexes=1)"
   ]
  },
  {
   "cell_type": "code",
   "execution_count": 51,
   "id": "c999220f",
   "metadata": {},
   "outputs": [],
   "source": [
    "slope = slope.astype('float64')\n",
    "dem_profile.update({\"dtype\":'float64',\\\n",
    "                    \"compress\":'LZW'})"
   ]
  },
  {
   "cell_type": "code",
   "execution_count": 58,
   "id": "215c0b38",
   "metadata": {},
   "outputs": [],
   "source": [
    "lc_profile.update({\"dtype\":'float64',\\\n",
    "                   \"COMPRESS\":'LZW',\n",
    "                   \"nodata\":-99999})\n",
    "\n",
    "with rasterio.open(os.path.join(out_dir,'KP_Slope.tif'),'w',**lc_profile) as dst:\n",
    "     dst.write(slope)"
   ]
  },
  {
   "cell_type": "code",
   "execution_count": null,
   "id": "821514e6",
   "metadata": {},
   "outputs": [],
   "source": [
    "lc_profile.update({\"dtype\":'float64',\\\n",
    "                   \"COMPRESS\":'LZW',\n",
    "                   \"nodata\":-99999})\n",
    "\n",
    "with rasterio.open(os.path.join(out_dir,'KP_Walkspeed_base.tif'),'w',**lc_profile) as dst:\n",
    "     dst.write(walkspeed_base)"
   ]
  },
  {
   "cell_type": "code",
   "execution_count": 109,
   "id": "41cb2d78",
   "metadata": {},
   "outputs": [],
   "source": [
    "lc_profile.update({\"dtype\":'float64',\\\n",
    "                   \"COMPRESS\":'LZW',\n",
    "                   \"nodata\":-99999})\n",
    "\n",
    "with rasterio.open(os.path.join(out_dir,'KP_Walkspeed_Modifier.tif'),'w',**lc_profile) as dst:\n",
    "     dst.write(walkspeed_mod_rast)"
   ]
  },
  {
   "cell_type": "code",
   "execution_count": 54,
   "id": "bbfbf54e",
   "metadata": {},
   "outputs": [],
   "source": [
    "lc_profile.update({\"dtype\":'float64',\\\n",
    "                   \"COMPRESS\":'ZSTD',\n",
    "                   \"nodata\":-99999})\n",
    "\n",
    "with rasterio.open(os.path.join(out_dir,f'KP_alt_adjust_dry_under3k_{today}.tif'),'w',**lc_profile) as dst:\n",
    "     dst.write(alt_adjust_dry_under3k)"
   ]
  },
  {
   "cell_type": "code",
   "execution_count": 55,
   "id": "89cc17a4",
   "metadata": {},
   "outputs": [],
   "source": [
    "lc_profile.update({\"dtype\":'float64',\\\n",
    "                   \"COMPRESS\":'ZSTD',\n",
    "                   \"nodata\":-99999})\n",
    "\n",
    "with rasterio.open(os.path.join(out_dir,f'KP_walkspeed_dry_step2_new_{today}.tif'),'w',**lc_profile) as dst:\n",
    "     dst.write(walkspeed_dry_step2)"
   ]
  },
  {
   "cell_type": "code",
   "execution_count": 56,
   "id": "a8689369",
   "metadata": {},
   "outputs": [],
   "source": [
    "#Temporary adjustment over 3k\n",
    "temp_over3k = (0.323 * np.exp((.00042*dem_array_reproj)))"
   ]
  },
  {
   "cell_type": "code",
   "execution_count": 58,
   "id": "88de8c4e",
   "metadata": {},
   "outputs": [],
   "source": [
    "lc_profile.update({\"dtype\":'float64',\\\n",
    "                   \"COMPRESS\":'ZSTD',\n",
    "                   \"nodata\":-99999})\n",
    "\n",
    "with rasterio.open(os.path.join(out_dir,f'KP_temp_over3k_{today}.tif'),'w',**lc_profile) as dst:\n",
    "     dst.write(temp_over3k)"
   ]
  },
  {
   "cell_type": "code",
   "execution_count": 57,
   "id": "b7cf9188",
   "metadata": {},
   "outputs": [],
   "source": [
    "temp_walkspeed_over3k = (walkspeed_dry_step1)/(0.323 * np.exp((.00042*dem_array_reproj)))"
   ]
  },
  {
   "cell_type": "code",
   "execution_count": 59,
   "id": "a07ba09d",
   "metadata": {},
   "outputs": [],
   "source": [
    "lc_profile.update({\"dtype\":'float64',\\\n",
    "                   \"COMPRESS\":'ZSTD',\n",
    "                   \"nodata\":-99999})\n",
    "\n",
    "with rasterio.open(os.path.join(out_dir,f'KP_temp_walkspeed_over3k_{today}.tif'),'w',**lc_profile) as dst:\n",
    "     dst.write(temp_walkspeed_over3k)"
   ]
  }
 ],
 "metadata": {
  "kernelspec": {
   "display_name": "Python 3 (ipykernel)",
   "language": "python",
   "name": "python3"
  },
  "language_info": {
   "codemirror_mode": {
    "name": "ipython",
    "version": 3
   },
   "file_extension": ".py",
   "mimetype": "text/x-python",
   "name": "python",
   "nbconvert_exporter": "python",
   "pygments_lexer": "ipython3",
   "version": "3.8.10"
  }
 },
 "nbformat": 4,
 "nbformat_minor": 5
}
