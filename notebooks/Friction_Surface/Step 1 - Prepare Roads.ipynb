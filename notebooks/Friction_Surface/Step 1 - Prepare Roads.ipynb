{
 "cells": [
  {
   "cell_type": "markdown",
   "metadata": {},
   "source": [
    "# Step 1 - Prepare roads"
   ]
  },
  {
   "cell_type": "markdown",
   "metadata": {},
   "source": [
    "This notebook merges roads/paths and prepares speeds based on their input data parameters. It is set up for transport networks in Bhutan but can be adapted to other contexts"
   ]
  },
  {
   "cell_type": "code",
   "execution_count": 7,
   "metadata": {},
   "outputs": [],
   "source": [
    "import os, sys\n",
    "import pandas as pd\n",
    "import geopandas as gpd\n",
    "import numpy as np\n",
    "import pyproj as pyp"
   ]
  },
  {
   "cell_type": "markdown",
   "metadata": {},
   "source": [
    "Projection"
   ]
  },
  {
   "cell_type": "code",
   "execution_count": 8,
   "metadata": {},
   "outputs": [],
   "source": [
    "dest_crs = 'EPSG:32642'"
   ]
  },
  {
   "cell_type": "markdown",
   "metadata": {},
   "source": [
    "#### Background: essential data prep"
   ]
  },
  {
   "cell_type": "markdown",
   "metadata": {},
   "source": [
    "Extracting raster values to lines in python is cumbersome and for our purposes, pointlessly so\\: the increased control yields no gains in accuracy. Therefore I prefer to join in average slopes per road segment in QGIS / ArcGIS ahead of time and process the resulting slope categories here. You can use the Add Surface Information tool in ArcGIS to accomplish (theoretically the SAGA toolkit has similar tools in QGIS but I wasn't able to maek them work). Compute the Average Slope for every layer this way."
   ]
  },
  {
   "cell_type": "markdown",
   "metadata": {},
   "source": [
    "#### Set parameters"
   ]
  },
  {
   "cell_type": "code",
   "execution_count": 9,
   "metadata": {},
   "outputs": [
    {
     "name": "stdout",
     "output_type": "stream",
     "text": [
      "210923\n"
     ]
    }
   ],
   "source": [
    "# Production date for outputs being created\n",
    "\n",
    "prod_date = '210923'\n",
    "print(prod_date)"
   ]
  },
  {
   "cell_type": "code",
   "execution_count": 10,
   "metadata": {
    "tags": []
   },
   "outputs": [],
   "source": [
    "input_pth = r'P:\\PAK\\GEO'\n",
    "osm_pth = r'P:\\PAK\\\\Code\\Accessibility\\osm_kpk_final_sep'\n",
    "transport_pth = r'P:\\PAK\\\\Code\\Accessibility\\Pak_Official_Roads_Combined'\n",
    "ghs_pth = r'P:\\PAK\\\\Code\\Accessibility\\GHS'"
   ]
  },
  {
   "cell_type": "markdown",
   "metadata": {},
   "source": [
    "#### OSM data"
   ]
  },
  {
   "cell_type": "code",
   "execution_count": 11,
   "metadata": {},
   "outputs": [],
   "source": [
    "# Load in the latest OSM data\n",
    "# Assumes data to have been downloaded from Geofabrik to a folder with today's date\n",
    "\n",
    "osm = gpd.read_file(os.path.join(osm_pth,'osm_kpk_roads_split.shp'))"
   ]
  },
  {
   "cell_type": "code",
   "execution_count": 12,
   "metadata": {},
   "outputs": [],
   "source": [
    "# Rename Geofabrik's default 'flcass' column to the standard 'highway'\n",
    "osm.rename({'fclass':'highway'},axis=1,inplace=True)"
   ]
  },
  {
   "cell_type": "code",
   "execution_count": 13,
   "metadata": {},
   "outputs": [
    {
     "data": {
      "text/plain": [
       "array(['tertiary', 'secondary', 'residential', 'trunk_link', 'trunk',\n",
       "       'primary', 'service', 'unclassified', 'motorway', 'motorway_link',\n",
       "       'footway', 'secondary_link', 'primary_link', 'tertiary_link',\n",
       "       'living_street', 'pedestrian', 'track', 'cycleway', 'path',\n",
       "       'track_grade3', 'track_grade2', 'track_grade4', 'unknown', 'steps',\n",
       "       'track_grade5', 'track_grade1', 'bridleway'], dtype=object)"
      ]
     },
     "execution_count": 13,
     "metadata": {},
     "output_type": "execute_result"
    }
   ],
   "source": [
    "osm.highway.unique()"
   ]
  },
  {
   "cell_type": "code",
   "execution_count": 14,
   "metadata": {},
   "outputs": [],
   "source": [
    "# dicts containing lists of values to replace, with the new key listed lasts\n",
    "\n",
    "track_dct = dict.fromkeys(['track_grade1','track_grade2','track_grade3','track_grade4','track_grade5'], 'track')\n",
    "minor_rd_dct = dict.fromkeys(['unclassified','road','service','residential', 'living_street'], 'minor_road')\n",
    "pth_dct = dict.fromkeys(['path','footway','steps','pedestrian', 'bridleway'], 'path')"
   ]
  },
  {
   "cell_type": "code",
   "execution_count": 15,
   "metadata": {},
   "outputs": [],
   "source": [
    "# Update the original dict with these new dicts\n",
    "highway_replace_dct = {}\n",
    "\n",
    "highway_replace_dct.update(track_dct)\n",
    "highway_replace_dct.update(minor_rd_dct)\n",
    "highway_replace_dct.update(pth_dct)"
   ]
  },
  {
   "cell_type": "code",
   "execution_count": 16,
   "metadata": {},
   "outputs": [
    {
     "data": {
      "text/plain": [
       "{'track_grade1': 'track',\n",
       " 'track_grade2': 'track',\n",
       " 'track_grade3': 'track',\n",
       " 'track_grade4': 'track',\n",
       " 'track_grade5': 'track',\n",
       " 'unclassified': 'minor_road',\n",
       " 'road': 'minor_road',\n",
       " 'service': 'minor_road',\n",
       " 'residential': 'minor_road',\n",
       " 'living_street': 'minor_road',\n",
       " 'path': 'path',\n",
       " 'footway': 'path',\n",
       " 'steps': 'path',\n",
       " 'pedestrian': 'path',\n",
       " 'bridleway': 'path'}"
      ]
     },
     "execution_count": 16,
     "metadata": {},
     "output_type": "execute_result"
    }
   ],
   "source": [
    "highway_replace_dct"
   ]
  },
  {
   "cell_type": "code",
   "execution_count": 17,
   "metadata": {},
   "outputs": [],
   "source": [
    "# streamline highway values to a few key types using the above dictionary\n",
    "osm['highway'] = osm['highway'].replace(highway_replace_dct)"
   ]
  },
  {
   "cell_type": "code",
   "execution_count": 18,
   "metadata": {},
   "outputs": [
    {
     "data": {
      "text/plain": [
       "array(['tertiary', 'secondary', 'minor_road', 'trunk_link', 'trunk',\n",
       "       'primary', 'motorway', 'motorway_link', 'path', 'secondary_link',\n",
       "       'primary_link', 'tertiary_link', 'track', 'cycleway', 'unknown'],\n",
       "      dtype=object)"
      ]
     },
     "execution_count": 18,
     "metadata": {},
     "output_type": "execute_result"
    }
   ],
   "source": [
    "osm.highway.unique()"
   ]
  },
  {
   "cell_type": "markdown",
   "metadata": {},
   "source": [
    "Filter out any lingering highway types we don't want using a list of values"
   ]
  },
  {
   "cell_type": "code",
   "execution_count": 19,
   "metadata": {},
   "outputs": [],
   "source": [
    "accepted_road_types = ['path',\\\n",
    "                       'track','minor_road',\\\n",
    "                       'tertiary','secondary','primary','trunk','motorway',\\\n",
    "                       'tertiary_link','secondary_link','primary_link','trunk_link','motorway_link']"
   ]
  },
  {
   "cell_type": "code",
   "execution_count": 20,
   "metadata": {},
   "outputs": [],
   "source": [
    "osm = osm[osm['highway'].isin(accepted_road_types)]"
   ]
  },
  {
   "cell_type": "code",
   "execution_count": 21,
   "metadata": {},
   "outputs": [
    {
     "data": {
      "text/plain": [
       "array(['tertiary', 'secondary', 'minor_road', 'trunk_link', 'trunk',\n",
       "       'primary', 'motorway', 'motorway_link', 'path', 'secondary_link',\n",
       "       'primary_link', 'tertiary_link', 'track'], dtype=object)"
      ]
     },
     "execution_count": 21,
     "metadata": {},
     "output_type": "execute_result"
    }
   ],
   "source": [
    "osm.highway.unique()"
   ]
  },
  {
   "cell_type": "code",
   "execution_count": 22,
   "metadata": {},
   "outputs": [
    {
     "data": {
      "text/html": [
       "<div>\n",
       "<style scoped>\n",
       "    .dataframe tbody tr th:only-of-type {\n",
       "        vertical-align: middle;\n",
       "    }\n",
       "\n",
       "    .dataframe tbody tr th {\n",
       "        vertical-align: top;\n",
       "    }\n",
       "\n",
       "    .dataframe thead th {\n",
       "        text-align: right;\n",
       "    }\n",
       "</style>\n",
       "<table border=\"1\" class=\"dataframe\">\n",
       "  <thead>\n",
       "    <tr style=\"text-align: right;\">\n",
       "      <th></th>\n",
       "      <th>fid_1</th>\n",
       "      <th>cat</th>\n",
       "      <th>osm_id</th>\n",
       "      <th>code</th>\n",
       "      <th>highway</th>\n",
       "      <th>name</th>\n",
       "      <th>ref</th>\n",
       "      <th>oneway</th>\n",
       "      <th>maxspeed</th>\n",
       "      <th>layer</th>\n",
       "      <th>bridge</th>\n",
       "      <th>tunnel</th>\n",
       "      <th>Z_Mean</th>\n",
       "      <th>Avg_Slope</th>\n",
       "      <th>geometry</th>\n",
       "    </tr>\n",
       "  </thead>\n",
       "  <tbody>\n",
       "    <tr>\n",
       "      <th>0</th>\n",
       "      <td>1.0</td>\n",
       "      <td>1</td>\n",
       "      <td>5115246</td>\n",
       "      <td>5115</td>\n",
       "      <td>tertiary</td>\n",
       "      <td>سنبل روڈ</td>\n",
       "      <td>None</td>\n",
       "      <td>F</td>\n",
       "      <td>60</td>\n",
       "      <td>0</td>\n",
       "      <td>F</td>\n",
       "      <td>F</td>\n",
       "      <td>552.066479</td>\n",
       "      <td>3.293892</td>\n",
       "      <td>LINESTRING (872158.150 3735598.793, 872148.766...</td>\n",
       "    </tr>\n",
       "    <tr>\n",
       "      <th>1</th>\n",
       "      <td>2.0</td>\n",
       "      <td>2</td>\n",
       "      <td>5115247</td>\n",
       "      <td>5114</td>\n",
       "      <td>secondary</td>\n",
       "      <td>ناظم الدین روڈ</td>\n",
       "      <td>None</td>\n",
       "      <td>F</td>\n",
       "      <td>60</td>\n",
       "      <td>0</td>\n",
       "      <td>F</td>\n",
       "      <td>F</td>\n",
       "      <td>556.894392</td>\n",
       "      <td>3.491170</td>\n",
       "      <td>LINESTRING (869490.900 3732937.943, 869510.249...</td>\n",
       "    </tr>\n",
       "  </tbody>\n",
       "</table>\n",
       "</div>"
      ],
      "text/plain": [
       "   fid_1  cat   osm_id  code    highway            name   ref oneway  \\\n",
       "0    1.0    1  5115246  5115   tertiary        سنبل روڈ  None      F   \n",
       "1    2.0    2  5115247  5114  secondary  ناظم الدین روڈ  None      F   \n",
       "\n",
       "   maxspeed  layer bridge tunnel      Z_Mean  Avg_Slope  \\\n",
       "0        60      0      F      F  552.066479   3.293892   \n",
       "1        60      0      F      F  556.894392   3.491170   \n",
       "\n",
       "                                            geometry  \n",
       "0  LINESTRING (872158.150 3735598.793, 872148.766...  \n",
       "1  LINESTRING (869490.900 3732937.943, 869510.249...  "
      ]
     },
     "execution_count": 22,
     "metadata": {},
     "output_type": "execute_result"
    }
   ],
   "source": [
    "osm.head(2)"
   ]
  },
  {
   "cell_type": "markdown",
   "metadata": {},
   "source": [
    "Rename OSM data categories to gov categories"
   ]
  },
  {
   "cell_type": "code",
   "execution_count": 23,
   "metadata": {},
   "outputs": [],
   "source": [
    "# dicts containing lists of values to replace, with the new key listed lasts\n",
    "\n",
    "provincial_dct = dict.fromkeys(['primary','primary_link','trunk','trunk_link','motorway', 'motorway_link'], 'Provincial')\n",
    "district_dct = dict.fromkeys(['secondary','secondary_link','tertiary','tertiary_link'], 'District')\n",
    "access_dct = dict.fromkeys(['track'], 'Access')\n",
    "collector_dct = dict.fromkeys(['minor_road'], 'Collector')"
   ]
  },
  {
   "cell_type": "code",
   "execution_count": 24,
   "metadata": {},
   "outputs": [],
   "source": [
    "gov_align_dct = {}\n",
    "\n",
    "gov_align_dct.update(provincial_dct)\n",
    "gov_align_dct.update(district_dct)\n",
    "gov_align_dct.update(access_dct)\n",
    "gov_align_dct.update(collector_dct)"
   ]
  },
  {
   "cell_type": "code",
   "execution_count": 25,
   "metadata": {},
   "outputs": [
    {
     "data": {
      "text/plain": [
       "{'primary': 'Provincial',\n",
       " 'primary_link': 'Provincial',\n",
       " 'trunk': 'Provincial',\n",
       " 'trunk_link': 'Provincial',\n",
       " 'motorway': 'Provincial',\n",
       " 'motorway_link': 'Provincial',\n",
       " 'secondary': 'District',\n",
       " 'secondary_link': 'District',\n",
       " 'tertiary': 'District',\n",
       " 'tertiary_link': 'District',\n",
       " 'track': 'Access',\n",
       " 'minor_road': 'Collector'}"
      ]
     },
     "execution_count": 25,
     "metadata": {},
     "output_type": "execute_result"
    }
   ],
   "source": [
    "gov_align_dct"
   ]
  },
  {
   "cell_type": "code",
   "execution_count": 26,
   "metadata": {},
   "outputs": [],
   "source": [
    "osm['Road_Class'] = osm['highway'].map(gov_align_dct).fillna('Path')"
   ]
  },
  {
   "cell_type": "code",
   "execution_count": 27,
   "metadata": {},
   "outputs": [
    {
     "data": {
      "text/html": [
       "<div>\n",
       "<style scoped>\n",
       "    .dataframe tbody tr th:only-of-type {\n",
       "        vertical-align: middle;\n",
       "    }\n",
       "\n",
       "    .dataframe tbody tr th {\n",
       "        vertical-align: top;\n",
       "    }\n",
       "\n",
       "    .dataframe thead th {\n",
       "        text-align: right;\n",
       "    }\n",
       "</style>\n",
       "<table border=\"1\" class=\"dataframe\">\n",
       "  <thead>\n",
       "    <tr style=\"text-align: right;\">\n",
       "      <th></th>\n",
       "      <th>fid_1</th>\n",
       "      <th>cat</th>\n",
       "      <th>osm_id</th>\n",
       "      <th>code</th>\n",
       "      <th>highway</th>\n",
       "      <th>name</th>\n",
       "      <th>ref</th>\n",
       "      <th>oneway</th>\n",
       "      <th>maxspeed</th>\n",
       "      <th>layer</th>\n",
       "      <th>bridge</th>\n",
       "      <th>tunnel</th>\n",
       "      <th>Z_Mean</th>\n",
       "      <th>Avg_Slope</th>\n",
       "      <th>geometry</th>\n",
       "      <th>Road_Class</th>\n",
       "    </tr>\n",
       "  </thead>\n",
       "  <tbody>\n",
       "    <tr>\n",
       "      <th>232052</th>\n",
       "      <td>232053.0</td>\n",
       "      <td>195507</td>\n",
       "      <td>985249269</td>\n",
       "      <td>5134</td>\n",
       "      <td>secondary_link</td>\n",
       "      <td>None</td>\n",
       "      <td>None</td>\n",
       "      <td>B</td>\n",
       "      <td>0</td>\n",
       "      <td>0</td>\n",
       "      <td>F</td>\n",
       "      <td>F</td>\n",
       "      <td>553.429883</td>\n",
       "      <td>3.504753</td>\n",
       "      <td>LINESTRING (875116.879 3737034.284, 875123.777...</td>\n",
       "      <td>District</td>\n",
       "    </tr>\n",
       "    <tr>\n",
       "      <th>232053</th>\n",
       "      <td>232054.0</td>\n",
       "      <td>195508</td>\n",
       "      <td>985249270</td>\n",
       "      <td>5134</td>\n",
       "      <td>secondary_link</td>\n",
       "      <td>None</td>\n",
       "      <td>None</td>\n",
       "      <td>B</td>\n",
       "      <td>0</td>\n",
       "      <td>0</td>\n",
       "      <td>F</td>\n",
       "      <td>F</td>\n",
       "      <td>557.172849</td>\n",
       "      <td>2.487046</td>\n",
       "      <td>LINESTRING (875327.706 3737178.791, 875336.436...</td>\n",
       "      <td>District</td>\n",
       "    </tr>\n",
       "    <tr>\n",
       "      <th>232054</th>\n",
       "      <td>232055.0</td>\n",
       "      <td>195509</td>\n",
       "      <td>985267867</td>\n",
       "      <td>5154</td>\n",
       "      <td>path</td>\n",
       "      <td>None</td>\n",
       "      <td>None</td>\n",
       "      <td>B</td>\n",
       "      <td>0</td>\n",
       "      <td>0</td>\n",
       "      <td>F</td>\n",
       "      <td>F</td>\n",
       "      <td>541.991836</td>\n",
       "      <td>7.932720</td>\n",
       "      <td>LINESTRING (871247.340 3733772.825, 871233.892...</td>\n",
       "      <td>Path</td>\n",
       "    </tr>\n",
       "    <tr>\n",
       "      <th>232055</th>\n",
       "      <td>232056.0</td>\n",
       "      <td>195510</td>\n",
       "      <td>985267868</td>\n",
       "      <td>5154</td>\n",
       "      <td>path</td>\n",
       "      <td>None</td>\n",
       "      <td>None</td>\n",
       "      <td>B</td>\n",
       "      <td>0</td>\n",
       "      <td>0</td>\n",
       "      <td>F</td>\n",
       "      <td>F</td>\n",
       "      <td>541.098468</td>\n",
       "      <td>1.150868</td>\n",
       "      <td>LINESTRING (871234.968 3733568.472, 871227.958...</td>\n",
       "      <td>Path</td>\n",
       "    </tr>\n",
       "    <tr>\n",
       "      <th>232056</th>\n",
       "      <td>232057.0</td>\n",
       "      <td>195511</td>\n",
       "      <td>985267869</td>\n",
       "      <td>5154</td>\n",
       "      <td>path</td>\n",
       "      <td>None</td>\n",
       "      <td>None</td>\n",
       "      <td>B</td>\n",
       "      <td>0</td>\n",
       "      <td>0</td>\n",
       "      <td>F</td>\n",
       "      <td>F</td>\n",
       "      <td>534.694173</td>\n",
       "      <td>3.479288</td>\n",
       "      <td>LINESTRING (871112.441 3733829.463, 871105.128...</td>\n",
       "      <td>Path</td>\n",
       "    </tr>\n",
       "  </tbody>\n",
       "</table>\n",
       "</div>"
      ],
      "text/plain": [
       "           fid_1     cat     osm_id  code         highway  name   ref oneway  \\\n",
       "232052  232053.0  195507  985249269  5134  secondary_link  None  None      B   \n",
       "232053  232054.0  195508  985249270  5134  secondary_link  None  None      B   \n",
       "232054  232055.0  195509  985267867  5154            path  None  None      B   \n",
       "232055  232056.0  195510  985267868  5154            path  None  None      B   \n",
       "232056  232057.0  195511  985267869  5154            path  None  None      B   \n",
       "\n",
       "        maxspeed  layer bridge tunnel      Z_Mean  Avg_Slope  \\\n",
       "232052         0      0      F      F  553.429883   3.504753   \n",
       "232053         0      0      F      F  557.172849   2.487046   \n",
       "232054         0      0      F      F  541.991836   7.932720   \n",
       "232055         0      0      F      F  541.098468   1.150868   \n",
       "232056         0      0      F      F  534.694173   3.479288   \n",
       "\n",
       "                                                 geometry Road_Class  \n",
       "232052  LINESTRING (875116.879 3737034.284, 875123.777...   District  \n",
       "232053  LINESTRING (875327.706 3737178.791, 875336.436...   District  \n",
       "232054  LINESTRING (871247.340 3733772.825, 871233.892...       Path  \n",
       "232055  LINESTRING (871234.968 3733568.472, 871227.958...       Path  \n",
       "232056  LINESTRING (871112.441 3733829.463, 871105.128...       Path  "
      ]
     },
     "execution_count": 27,
     "metadata": {},
     "output_type": "execute_result"
    }
   ],
   "source": [
    "osm.tail()"
   ]
  },
  {
   "cell_type": "markdown",
   "metadata": {},
   "source": [
    "Spatial join on administrative information"
   ]
  },
  {
   "cell_type": "code",
   "execution_count": 28,
   "metadata": {},
   "outputs": [],
   "source": [
    "#osm = gpd.sjoin(osm,adm2[['geometry','Dzongkhag','Gewog','adm1_code','adm2_code','hourly_wage']],how='left',op='within')"
   ]
  },
  {
   "cell_type": "code",
   "execution_count": 29,
   "metadata": {},
   "outputs": [],
   "source": [
    "#osm.drop('index_right',axis=1,inplace=True)"
   ]
  },
  {
   "cell_type": "code",
   "execution_count": 30,
   "metadata": {},
   "outputs": [],
   "source": [
    "#osm.head()"
   ]
  },
  {
   "cell_type": "markdown",
   "metadata": {},
   "source": [
    "Slim down to just the key columns to join"
   ]
  },
  {
   "cell_type": "code",
   "execution_count": 31,
   "metadata": {},
   "outputs": [],
   "source": [
    "osm[['Surface','MNT_Num','District_RONET','Road_Class_RONET','Surface1_RONET','Road_Condition_RONET','Surface2_RONET','TYPE']] = np.nan"
   ]
  },
  {
   "cell_type": "code",
   "execution_count": 32,
   "metadata": {},
   "outputs": [],
   "source": [
    "#osm.head(2)"
   ]
  },
  {
   "cell_type": "code",
   "execution_count": 33,
   "metadata": {},
   "outputs": [
    {
     "data": {
      "text/html": [
       "<div>\n",
       "<style scoped>\n",
       "    .dataframe tbody tr th:only-of-type {\n",
       "        vertical-align: middle;\n",
       "    }\n",
       "\n",
       "    .dataframe tbody tr th {\n",
       "        vertical-align: top;\n",
       "    }\n",
       "\n",
       "    .dataframe thead th {\n",
       "        text-align: right;\n",
       "    }\n",
       "</style>\n",
       "<table border=\"1\" class=\"dataframe\">\n",
       "  <thead>\n",
       "    <tr style=\"text-align: right;\">\n",
       "      <th></th>\n",
       "      <th>fid_1</th>\n",
       "      <th>cat</th>\n",
       "      <th>osm_id</th>\n",
       "      <th>code</th>\n",
       "      <th>highway</th>\n",
       "      <th>name</th>\n",
       "      <th>ref</th>\n",
       "      <th>oneway</th>\n",
       "      <th>maxspeed</th>\n",
       "      <th>layer</th>\n",
       "      <th>...</th>\n",
       "      <th>geometry</th>\n",
       "      <th>Road_Class</th>\n",
       "      <th>Surface</th>\n",
       "      <th>MNT_Num</th>\n",
       "      <th>District_RONET</th>\n",
       "      <th>Road_Class_RONET</th>\n",
       "      <th>Surface1_RONET</th>\n",
       "      <th>Road_Condition_RONET</th>\n",
       "      <th>Surface2_RONET</th>\n",
       "      <th>TYPE</th>\n",
       "    </tr>\n",
       "  </thead>\n",
       "  <tbody>\n",
       "    <tr>\n",
       "      <th>0</th>\n",
       "      <td>1.0</td>\n",
       "      <td>1</td>\n",
       "      <td>5115246</td>\n",
       "      <td>5115</td>\n",
       "      <td>tertiary</td>\n",
       "      <td>سنبل روڈ</td>\n",
       "      <td>None</td>\n",
       "      <td>F</td>\n",
       "      <td>60</td>\n",
       "      <td>0</td>\n",
       "      <td>...</td>\n",
       "      <td>LINESTRING (872158.150 3735598.793, 872148.766...</td>\n",
       "      <td>District</td>\n",
       "      <td>NaN</td>\n",
       "      <td>NaN</td>\n",
       "      <td>NaN</td>\n",
       "      <td>NaN</td>\n",
       "      <td>NaN</td>\n",
       "      <td>NaN</td>\n",
       "      <td>NaN</td>\n",
       "      <td>NaN</td>\n",
       "    </tr>\n",
       "    <tr>\n",
       "      <th>1</th>\n",
       "      <td>2.0</td>\n",
       "      <td>2</td>\n",
       "      <td>5115247</td>\n",
       "      <td>5114</td>\n",
       "      <td>secondary</td>\n",
       "      <td>ناظم الدین روڈ</td>\n",
       "      <td>None</td>\n",
       "      <td>F</td>\n",
       "      <td>60</td>\n",
       "      <td>0</td>\n",
       "      <td>...</td>\n",
       "      <td>LINESTRING (869490.900 3732937.943, 869510.249...</td>\n",
       "      <td>District</td>\n",
       "      <td>NaN</td>\n",
       "      <td>NaN</td>\n",
       "      <td>NaN</td>\n",
       "      <td>NaN</td>\n",
       "      <td>NaN</td>\n",
       "      <td>NaN</td>\n",
       "      <td>NaN</td>\n",
       "      <td>NaN</td>\n",
       "    </tr>\n",
       "  </tbody>\n",
       "</table>\n",
       "<p>2 rows × 24 columns</p>\n",
       "</div>"
      ],
      "text/plain": [
       "   fid_1  cat   osm_id  code    highway            name   ref oneway  \\\n",
       "0    1.0    1  5115246  5115   tertiary        سنبل روڈ  None      F   \n",
       "1    2.0    2  5115247  5114  secondary  ناظم الدین روڈ  None      F   \n",
       "\n",
       "   maxspeed  layer  ...                                           geometry  \\\n",
       "0        60      0  ...  LINESTRING (872158.150 3735598.793, 872148.766...   \n",
       "1        60      0  ...  LINESTRING (869490.900 3732937.943, 869510.249...   \n",
       "\n",
       "  Road_Class  Surface  MNT_Num District_RONET Road_Class_RONET  \\\n",
       "0   District      NaN      NaN            NaN              NaN   \n",
       "1   District      NaN      NaN            NaN              NaN   \n",
       "\n",
       "   Surface1_RONET  Road_Condition_RONET  Surface2_RONET  TYPE  \n",
       "0             NaN                   NaN             NaN   NaN  \n",
       "1             NaN                   NaN             NaN   NaN  \n",
       "\n",
       "[2 rows x 24 columns]"
      ]
     },
     "execution_count": 33,
     "metadata": {},
     "output_type": "execute_result"
    }
   ],
   "source": [
    "osm.head(2)"
   ]
  },
  {
   "cell_type": "code",
   "execution_count": 34,
   "metadata": {},
   "outputs": [],
   "source": [
    "osm_slim = osm[['geometry','Road_Class','Surface','MNT_Num','District_RONET','Road_Class_RONET','Surface1_RONET','Road_Condition_RONET','Surface2_RONET','TYPE','Avg_Slope','Z_Mean']]"
   ]
  },
  {
   "cell_type": "markdown",
   "metadata": {
    "tags": []
   },
   "source": [
    "#### Gov data"
   ]
  },
  {
   "cell_type": "code",
   "execution_count": 35,
   "metadata": {},
   "outputs": [],
   "source": [
    "gov = gpd.read_file(os.path.join(transport_pth,'combined_KPK_mnt_splt_utm.shp'))"
   ]
  },
  {
   "cell_type": "code",
   "execution_count": 36,
   "metadata": {},
   "outputs": [],
   "source": [
    "#gov.rename({'GEWOG':'Gewog','DZONGKHAG':'Dzongkhag','SURFACETYP':'Surface','ROAD_CLASS':'Road_class'},axis=1,inplace=True)"
   ]
  },
  {
   "cell_type": "code",
   "execution_count": 37,
   "metadata": {},
   "outputs": [
    {
     "data": {
      "text/html": [
       "<div>\n",
       "<style scoped>\n",
       "    .dataframe tbody tr th:only-of-type {\n",
       "        vertical-align: middle;\n",
       "    }\n",
       "\n",
       "    .dataframe tbody tr th {\n",
       "        vertical-align: top;\n",
       "    }\n",
       "\n",
       "    .dataframe thead th {\n",
       "        text-align: right;\n",
       "    }\n",
       "</style>\n",
       "<table border=\"1\" class=\"dataframe\">\n",
       "  <thead>\n",
       "    <tr style=\"text-align: right;\">\n",
       "      <th></th>\n",
       "      <th>fid_1</th>\n",
       "      <th>cat</th>\n",
       "      <th>fid_12</th>\n",
       "      <th>Road_ID</th>\n",
       "      <th>Road_No</th>\n",
       "      <th>Road_Name</th>\n",
       "      <th>SegNo</th>\n",
       "      <th>Seg_Name</th>\n",
       "      <th>Road_Class</th>\n",
       "      <th>Pavement_T</th>\n",
       "      <th>...</th>\n",
       "      <th>MNT_RONE_1</th>\n",
       "      <th>MNT_RONE_2</th>\n",
       "      <th>MNT_Functy</th>\n",
       "      <th>MNT_Traf_1</th>\n",
       "      <th>MNT_Surfac</th>\n",
       "      <th>MNT_Condit</th>\n",
       "      <th>MNT_Final_</th>\n",
       "      <th>Z_Mean</th>\n",
       "      <th>Avg_Slope</th>\n",
       "      <th>geometry</th>\n",
       "    </tr>\n",
       "  </thead>\n",
       "  <tbody>\n",
       "    <tr>\n",
       "      <th>0</th>\n",
       "      <td>1.0</td>\n",
       "      <td>1</td>\n",
       "      <td>1.0</td>\n",
       "      <td>1</td>\n",
       "      <td>S-1</td>\n",
       "      <td>Peshawar-Charsadda-Mardan-Swabi-Topi- Ghazi-Si...</td>\n",
       "      <td>1.0</td>\n",
       "      <td>Peshawar,Charsadda Road(Dual carriage Way)</td>\n",
       "      <td>PKHA</td>\n",
       "      <td>Asphalt Concrete</td>\n",
       "      <td>...</td>\n",
       "      <td>None</td>\n",
       "      <td>None</td>\n",
       "      <td>None</td>\n",
       "      <td>None</td>\n",
       "      <td>None</td>\n",
       "      <td>None</td>\n",
       "      <td>None</td>\n",
       "      <td>301.968822</td>\n",
       "      <td>2.888695</td>\n",
       "      <td>LINESTRING (753230.065 3782493.432, 753206.004...</td>\n",
       "    </tr>\n",
       "    <tr>\n",
       "      <th>1</th>\n",
       "      <td>2.0</td>\n",
       "      <td>1</td>\n",
       "      <td>1.0</td>\n",
       "      <td>1</td>\n",
       "      <td>S-1</td>\n",
       "      <td>Peshawar-Charsadda-Mardan-Swabi-Topi- Ghazi-Si...</td>\n",
       "      <td>1.0</td>\n",
       "      <td>Peshawar,Charsadda Road(Dual carriage Way)</td>\n",
       "      <td>PKHA</td>\n",
       "      <td>Asphalt Concrete</td>\n",
       "      <td>...</td>\n",
       "      <td>None</td>\n",
       "      <td>None</td>\n",
       "      <td>None</td>\n",
       "      <td>None</td>\n",
       "      <td>None</td>\n",
       "      <td>None</td>\n",
       "      <td>None</td>\n",
       "      <td>297.456491</td>\n",
       "      <td>2.627899</td>\n",
       "      <td>LINESTRING (751720.466 3782845.841, 751693.010...</td>\n",
       "    </tr>\n",
       "  </tbody>\n",
       "</table>\n",
       "<p>2 rows × 61 columns</p>\n",
       "</div>"
      ],
      "text/plain": [
       "   fid_1  cat  fid_12 Road_ID Road_No  \\\n",
       "0    1.0    1     1.0       1     S-1   \n",
       "1    2.0    1     1.0       1     S-1   \n",
       "\n",
       "                                           Road_Name  SegNo  \\\n",
       "0  Peshawar-Charsadda-Mardan-Swabi-Topi- Ghazi-Si...    1.0   \n",
       "1  Peshawar-Charsadda-Mardan-Swabi-Topi- Ghazi-Si...    1.0   \n",
       "\n",
       "                                     Seg_Name Road_Class        Pavement_T  \\\n",
       "0  Peshawar,Charsadda Road(Dual carriage Way)       PKHA  Asphalt Concrete   \n",
       "1  Peshawar,Charsadda Road(Dual carriage Way)       PKHA  Asphalt Concrete   \n",
       "\n",
       "   ... MNT_RONE_1 MNT_RONE_2 MNT_Functy MNT_Traf_1  MNT_Surfac  MNT_Condit  \\\n",
       "0  ...       None       None       None       None        None        None   \n",
       "1  ...       None       None       None       None        None        None   \n",
       "\n",
       "   MNT_Final_      Z_Mean Avg_Slope  \\\n",
       "0        None  301.968822  2.888695   \n",
       "1        None  297.456491  2.627899   \n",
       "\n",
       "                                            geometry  \n",
       "0  LINESTRING (753230.065 3782493.432, 753206.004...  \n",
       "1  LINESTRING (751720.466 3782845.841, 751693.010...  \n",
       "\n",
       "[2 rows x 61 columns]"
      ]
     },
     "execution_count": 37,
     "metadata": {},
     "output_type": "execute_result"
    }
   ],
   "source": [
    "gov.head(2)"
   ]
  },
  {
   "cell_type": "markdown",
   "metadata": {},
   "source": [
    "Check out the data "
   ]
  },
  {
   "cell_type": "code",
   "execution_count": 38,
   "metadata": {},
   "outputs": [
    {
     "data": {
      "text/plain": [
       "array(['PKHA', 'B', 'A', None, 'S'], dtype=object)"
      ]
     },
     "execution_count": 38,
     "metadata": {},
     "output_type": "execute_result"
    }
   ],
   "source": [
    "gov.Road_Class.unique()"
   ]
  },
  {
   "cell_type": "code",
   "execution_count": 39,
   "metadata": {},
   "outputs": [
    {
     "data": {
      "text/plain": [
       "array(['Asphalt Concrete', None, 'Gravel', 'Black Topping',\n",
       "       'Triple Surface Treatment', 'AC/TST', 'A', 'C', 'E', 'RP',\n",
       "       'RP = 10', 'RP= 1.5', 'RP = 2', 'RP= 1.25', 'RP= 1.50', 'RP = 1',\n",
       "       'RP= 1', 'D', 'B', 'TSR', 'Shingle', 'F', 'R.P', 'SD', 'SG', 'DO'],\n",
       "      dtype=object)"
      ]
     },
     "execution_count": 39,
     "metadata": {},
     "output_type": "execute_result"
    }
   ],
   "source": [
    "gov.Pavement_T.unique()"
   ]
  },
  {
   "cell_type": "code",
   "execution_count": 40,
   "metadata": {},
   "outputs": [
    {
     "data": {
      "text/plain": [
       "array([None, 'Good', 'Fair', 'Poor', 'poor'], dtype=object)"
      ]
     },
     "execution_count": 40,
     "metadata": {},
     "output_type": "execute_result"
    }
   ],
   "source": [
    "gov.MNT_RONET_.unique()"
   ]
  },
  {
   "cell_type": "code",
   "execution_count": 41,
   "metadata": {},
   "outputs": [],
   "source": [
    "# dicts containing lists of values to replace, with the new key listed lasts\n",
    "\n",
    "provi_dct = dict.fromkeys(['PKHA'], 'Provincial')\n",
    "dis_dct = dict.fromkeys(['A','S'], 'District')\n",
    "acc_dct = dict.fromkeys(['B'], 'Access')"
   ]
  },
  {
   "cell_type": "code",
   "execution_count": 42,
   "metadata": {},
   "outputs": [],
   "source": [
    "new_gov_dct = {}\n",
    "\n",
    "new_gov_dct.update(provi_dct)\n",
    "new_gov_dct.update(dis_dct)\n",
    "new_gov_dct.update(acc_dct)"
   ]
  },
  {
   "cell_type": "code",
   "execution_count": 43,
   "metadata": {},
   "outputs": [
    {
     "data": {
      "text/plain": [
       "{'PKHA': 'Provincial', 'A': 'District', 'S': 'District', 'B': 'Access'}"
      ]
     },
     "execution_count": 43,
     "metadata": {},
     "output_type": "execute_result"
    }
   ],
   "source": [
    "new_gov_dct"
   ]
  },
  {
   "cell_type": "code",
   "execution_count": 44,
   "metadata": {},
   "outputs": [],
   "source": [
    "gov['Road_Class'] = gov['Road_Class'].replace(new_gov_dct).fillna('Collector')"
   ]
  },
  {
   "cell_type": "code",
   "execution_count": 45,
   "metadata": {},
   "outputs": [
    {
     "data": {
      "text/plain": [
       "array(['Provincial', 'Access', 'District', 'Collector'], dtype=object)"
      ]
     },
     "execution_count": 45,
     "metadata": {},
     "output_type": "execute_result"
    }
   ],
   "source": [
    "gov.Road_Class.unique()"
   ]
  },
  {
   "cell_type": "code",
   "execution_count": 46,
   "metadata": {},
   "outputs": [
    {
     "data": {
      "text/html": [
       "<div>\n",
       "<style scoped>\n",
       "    .dataframe tbody tr th:only-of-type {\n",
       "        vertical-align: middle;\n",
       "    }\n",
       "\n",
       "    .dataframe tbody tr th {\n",
       "        vertical-align: top;\n",
       "    }\n",
       "\n",
       "    .dataframe thead th {\n",
       "        text-align: right;\n",
       "    }\n",
       "</style>\n",
       "<table border=\"1\" class=\"dataframe\">\n",
       "  <thead>\n",
       "    <tr style=\"text-align: right;\">\n",
       "      <th></th>\n",
       "      <th>fid_1</th>\n",
       "      <th>cat</th>\n",
       "      <th>fid_12</th>\n",
       "      <th>Road_ID</th>\n",
       "      <th>Road_No</th>\n",
       "      <th>Road_Name</th>\n",
       "      <th>SegNo</th>\n",
       "      <th>Seg_Name</th>\n",
       "      <th>Road_Class</th>\n",
       "      <th>Pavement_T</th>\n",
       "      <th>...</th>\n",
       "      <th>MNT_RONE_1</th>\n",
       "      <th>MNT_RONE_2</th>\n",
       "      <th>MNT_Functy</th>\n",
       "      <th>MNT_Traf_1</th>\n",
       "      <th>MNT_Surfac</th>\n",
       "      <th>MNT_Condit</th>\n",
       "      <th>MNT_Final_</th>\n",
       "      <th>Z_Mean</th>\n",
       "      <th>Avg_Slope</th>\n",
       "      <th>geometry</th>\n",
       "    </tr>\n",
       "  </thead>\n",
       "  <tbody>\n",
       "    <tr>\n",
       "      <th>0</th>\n",
       "      <td>1.0</td>\n",
       "      <td>1</td>\n",
       "      <td>1.0</td>\n",
       "      <td>1</td>\n",
       "      <td>S-1</td>\n",
       "      <td>Peshawar-Charsadda-Mardan-Swabi-Topi- Ghazi-Si...</td>\n",
       "      <td>1.0</td>\n",
       "      <td>Peshawar,Charsadda Road(Dual carriage Way)</td>\n",
       "      <td>Provincial</td>\n",
       "      <td>Asphalt Concrete</td>\n",
       "      <td>...</td>\n",
       "      <td>None</td>\n",
       "      <td>None</td>\n",
       "      <td>None</td>\n",
       "      <td>None</td>\n",
       "      <td>None</td>\n",
       "      <td>None</td>\n",
       "      <td>None</td>\n",
       "      <td>301.968822</td>\n",
       "      <td>2.888695</td>\n",
       "      <td>LINESTRING (753230.065 3782493.432, 753206.004...</td>\n",
       "    </tr>\n",
       "    <tr>\n",
       "      <th>1</th>\n",
       "      <td>2.0</td>\n",
       "      <td>1</td>\n",
       "      <td>1.0</td>\n",
       "      <td>1</td>\n",
       "      <td>S-1</td>\n",
       "      <td>Peshawar-Charsadda-Mardan-Swabi-Topi- Ghazi-Si...</td>\n",
       "      <td>1.0</td>\n",
       "      <td>Peshawar,Charsadda Road(Dual carriage Way)</td>\n",
       "      <td>Provincial</td>\n",
       "      <td>Asphalt Concrete</td>\n",
       "      <td>...</td>\n",
       "      <td>None</td>\n",
       "      <td>None</td>\n",
       "      <td>None</td>\n",
       "      <td>None</td>\n",
       "      <td>None</td>\n",
       "      <td>None</td>\n",
       "      <td>None</td>\n",
       "      <td>297.456491</td>\n",
       "      <td>2.627899</td>\n",
       "      <td>LINESTRING (751720.466 3782845.841, 751693.010...</td>\n",
       "    </tr>\n",
       "  </tbody>\n",
       "</table>\n",
       "<p>2 rows × 61 columns</p>\n",
       "</div>"
      ],
      "text/plain": [
       "   fid_1  cat  fid_12 Road_ID Road_No  \\\n",
       "0    1.0    1     1.0       1     S-1   \n",
       "1    2.0    1     1.0       1     S-1   \n",
       "\n",
       "                                           Road_Name  SegNo  \\\n",
       "0  Peshawar-Charsadda-Mardan-Swabi-Topi- Ghazi-Si...    1.0   \n",
       "1  Peshawar-Charsadda-Mardan-Swabi-Topi- Ghazi-Si...    1.0   \n",
       "\n",
       "                                     Seg_Name  Road_Class        Pavement_T  \\\n",
       "0  Peshawar,Charsadda Road(Dual carriage Way)  Provincial  Asphalt Concrete   \n",
       "1  Peshawar,Charsadda Road(Dual carriage Way)  Provincial  Asphalt Concrete   \n",
       "\n",
       "   ... MNT_RONE_1 MNT_RONE_2 MNT_Functy MNT_Traf_1  MNT_Surfac  MNT_Condit  \\\n",
       "0  ...       None       None       None       None        None        None   \n",
       "1  ...       None       None       None       None        None        None   \n",
       "\n",
       "   MNT_Final_      Z_Mean Avg_Slope  \\\n",
       "0        None  301.968822  2.888695   \n",
       "1        None  297.456491  2.627899   \n",
       "\n",
       "                                            geometry  \n",
       "0  LINESTRING (753230.065 3782493.432, 753206.004...  \n",
       "1  LINESTRING (751720.466 3782845.841, 751693.010...  \n",
       "\n",
       "[2 rows x 61 columns]"
      ]
     },
     "execution_count": 46,
     "metadata": {},
     "output_type": "execute_result"
    }
   ],
   "source": [
    "gov.head(2)"
   ]
  },
  {
   "cell_type": "code",
   "execution_count": 47,
   "metadata": {},
   "outputs": [],
   "source": [
    "gov.rename({'MNT_Distri':'District_RONET','MNT_Road_2':'Road_Class_RONET',\\\n",
    "            'MNT_Paveme':'Surface1_RONET','MNT_RONET_':'Road_Condition_RONET',\\\n",
    "            'MNT_RONE_2':'Surface2_RONET','Pavement_T':'Surface'},axis=1,inplace=True)\n"
   ]
  },
  {
   "cell_type": "code",
   "execution_count": 48,
   "metadata": {},
   "outputs": [
    {
     "data": {
      "text/html": [
       "<div>\n",
       "<style scoped>\n",
       "    .dataframe tbody tr th:only-of-type {\n",
       "        vertical-align: middle;\n",
       "    }\n",
       "\n",
       "    .dataframe tbody tr th {\n",
       "        vertical-align: top;\n",
       "    }\n",
       "\n",
       "    .dataframe thead th {\n",
       "        text-align: right;\n",
       "    }\n",
       "</style>\n",
       "<table border=\"1\" class=\"dataframe\">\n",
       "  <thead>\n",
       "    <tr style=\"text-align: right;\">\n",
       "      <th></th>\n",
       "      <th>fid_1</th>\n",
       "      <th>cat</th>\n",
       "      <th>fid_12</th>\n",
       "      <th>Road_ID</th>\n",
       "      <th>Road_No</th>\n",
       "      <th>Road_Name</th>\n",
       "      <th>SegNo</th>\n",
       "      <th>Seg_Name</th>\n",
       "      <th>Road_Class</th>\n",
       "      <th>Surface</th>\n",
       "      <th>...</th>\n",
       "      <th>MNT_RONE_1</th>\n",
       "      <th>Surface2_RONET</th>\n",
       "      <th>MNT_Functy</th>\n",
       "      <th>MNT_Traf_1</th>\n",
       "      <th>MNT_Surfac</th>\n",
       "      <th>MNT_Condit</th>\n",
       "      <th>MNT_Final_</th>\n",
       "      <th>Z_Mean</th>\n",
       "      <th>Avg_Slope</th>\n",
       "      <th>geometry</th>\n",
       "    </tr>\n",
       "  </thead>\n",
       "  <tbody>\n",
       "    <tr>\n",
       "      <th>0</th>\n",
       "      <td>1.0</td>\n",
       "      <td>1</td>\n",
       "      <td>1.0</td>\n",
       "      <td>1</td>\n",
       "      <td>S-1</td>\n",
       "      <td>Peshawar-Charsadda-Mardan-Swabi-Topi- Ghazi-Si...</td>\n",
       "      <td>1.0</td>\n",
       "      <td>Peshawar,Charsadda Road(Dual carriage Way)</td>\n",
       "      <td>Provincial</td>\n",
       "      <td>Asphalt Concrete</td>\n",
       "      <td>...</td>\n",
       "      <td>None</td>\n",
       "      <td>None</td>\n",
       "      <td>None</td>\n",
       "      <td>None</td>\n",
       "      <td>None</td>\n",
       "      <td>None</td>\n",
       "      <td>None</td>\n",
       "      <td>301.968822</td>\n",
       "      <td>2.888695</td>\n",
       "      <td>LINESTRING (753230.065 3782493.432, 753206.004...</td>\n",
       "    </tr>\n",
       "    <tr>\n",
       "      <th>1</th>\n",
       "      <td>2.0</td>\n",
       "      <td>1</td>\n",
       "      <td>1.0</td>\n",
       "      <td>1</td>\n",
       "      <td>S-1</td>\n",
       "      <td>Peshawar-Charsadda-Mardan-Swabi-Topi- Ghazi-Si...</td>\n",
       "      <td>1.0</td>\n",
       "      <td>Peshawar,Charsadda Road(Dual carriage Way)</td>\n",
       "      <td>Provincial</td>\n",
       "      <td>Asphalt Concrete</td>\n",
       "      <td>...</td>\n",
       "      <td>None</td>\n",
       "      <td>None</td>\n",
       "      <td>None</td>\n",
       "      <td>None</td>\n",
       "      <td>None</td>\n",
       "      <td>None</td>\n",
       "      <td>None</td>\n",
       "      <td>297.456491</td>\n",
       "      <td>2.627899</td>\n",
       "      <td>LINESTRING (751720.466 3782845.841, 751693.010...</td>\n",
       "    </tr>\n",
       "  </tbody>\n",
       "</table>\n",
       "<p>2 rows × 61 columns</p>\n",
       "</div>"
      ],
      "text/plain": [
       "   fid_1  cat  fid_12 Road_ID Road_No  \\\n",
       "0    1.0    1     1.0       1     S-1   \n",
       "1    2.0    1     1.0       1     S-1   \n",
       "\n",
       "                                           Road_Name  SegNo  \\\n",
       "0  Peshawar-Charsadda-Mardan-Swabi-Topi- Ghazi-Si...    1.0   \n",
       "1  Peshawar-Charsadda-Mardan-Swabi-Topi- Ghazi-Si...    1.0   \n",
       "\n",
       "                                     Seg_Name  Road_Class           Surface  \\\n",
       "0  Peshawar,Charsadda Road(Dual carriage Way)  Provincial  Asphalt Concrete   \n",
       "1  Peshawar,Charsadda Road(Dual carriage Way)  Provincial  Asphalt Concrete   \n",
       "\n",
       "   ... MNT_RONE_1 Surface2_RONET MNT_Functy MNT_Traf_1  MNT_Surfac  \\\n",
       "0  ...       None           None       None       None        None   \n",
       "1  ...       None           None       None       None        None   \n",
       "\n",
       "   MNT_Condit  MNT_Final_      Z_Mean Avg_Slope  \\\n",
       "0        None        None  301.968822  2.888695   \n",
       "1        None        None  297.456491  2.627899   \n",
       "\n",
       "                                            geometry  \n",
       "0  LINESTRING (753230.065 3782493.432, 753206.004...  \n",
       "1  LINESTRING (751720.466 3782845.841, 751693.010...  \n",
       "\n",
       "[2 rows x 61 columns]"
      ]
     },
     "execution_count": 48,
     "metadata": {},
     "output_type": "execute_result"
    }
   ],
   "source": [
    "gov.head(2)"
   ]
  },
  {
   "cell_type": "code",
   "execution_count": 49,
   "metadata": {},
   "outputs": [],
   "source": [
    "gov_slim = gov[['geometry','Road_Class','Surface','MNT_Num','District_RONET','Road_Class_RONET','Surface1_RONET','Road_Condition_RONET','Surface2_RONET','TYPE','Avg_Slope','Z_Mean']]"
   ]
  },
  {
   "cell_type": "code",
   "execution_count": 50,
   "metadata": {},
   "outputs": [
    {
     "data": {
      "text/plain": [
       "fid_1          float64\n",
       "cat              int64\n",
       "fid_12         float64\n",
       "Road_ID         object\n",
       "Road_No         object\n",
       "                ...   \n",
       "MNT_Condit      object\n",
       "MNT_Final_      object\n",
       "Z_Mean         float64\n",
       "Avg_Slope      float64\n",
       "geometry      geometry\n",
       "Length: 61, dtype: object"
      ]
     },
     "execution_count": 50,
     "metadata": {},
     "output_type": "execute_result"
    }
   ],
   "source": [
    "gov.dtypes\n"
   ]
  },
  {
   "cell_type": "markdown",
   "metadata": {},
   "source": [
    "### Merge datasets"
   ]
  },
  {
   "cell_type": "markdown",
   "metadata": {},
   "source": [
    "Merge together the two slimmed down datasets into one master road file for analysis"
   ]
  },
  {
   "cell_type": "code",
   "execution_count": 51,
   "metadata": {},
   "outputs": [],
   "source": [
    "pre_master = gpd.GeoDataFrame(pd.concat([gov_slim,osm_slim],ignore_index=True))"
   ]
  },
  {
   "cell_type": "code",
   "execution_count": 52,
   "metadata": {},
   "outputs": [
    {
     "data": {
      "text/html": [
       "<div>\n",
       "<style scoped>\n",
       "    .dataframe tbody tr th:only-of-type {\n",
       "        vertical-align: middle;\n",
       "    }\n",
       "\n",
       "    .dataframe tbody tr th {\n",
       "        vertical-align: top;\n",
       "    }\n",
       "\n",
       "    .dataframe thead th {\n",
       "        text-align: right;\n",
       "    }\n",
       "</style>\n",
       "<table border=\"1\" class=\"dataframe\">\n",
       "  <thead>\n",
       "    <tr style=\"text-align: right;\">\n",
       "      <th></th>\n",
       "      <th>geometry</th>\n",
       "      <th>Road_Class</th>\n",
       "      <th>Surface</th>\n",
       "      <th>MNT_Num</th>\n",
       "      <th>District_RONET</th>\n",
       "      <th>Road_Class_RONET</th>\n",
       "      <th>Surface1_RONET</th>\n",
       "      <th>Road_Condition_RONET</th>\n",
       "      <th>Surface2_RONET</th>\n",
       "      <th>TYPE</th>\n",
       "      <th>Avg_Slope</th>\n",
       "      <th>Z_Mean</th>\n",
       "    </tr>\n",
       "  </thead>\n",
       "  <tbody>\n",
       "    <tr>\n",
       "      <th>0</th>\n",
       "      <td>LINESTRING (753230.065 3782493.432, 753206.004...</td>\n",
       "      <td>Provincial</td>\n",
       "      <td>Asphalt Concrete</td>\n",
       "      <td>None</td>\n",
       "      <td>None</td>\n",
       "      <td>None</td>\n",
       "      <td>None</td>\n",
       "      <td>None</td>\n",
       "      <td>None</td>\n",
       "      <td>All Weather</td>\n",
       "      <td>2.888695</td>\n",
       "      <td>301.968822</td>\n",
       "    </tr>\n",
       "    <tr>\n",
       "      <th>1</th>\n",
       "      <td>LINESTRING (751720.466 3782845.841, 751693.010...</td>\n",
       "      <td>Provincial</td>\n",
       "      <td>Asphalt Concrete</td>\n",
       "      <td>None</td>\n",
       "      <td>None</td>\n",
       "      <td>None</td>\n",
       "      <td>None</td>\n",
       "      <td>None</td>\n",
       "      <td>None</td>\n",
       "      <td>All Weather</td>\n",
       "      <td>2.627899</td>\n",
       "      <td>297.456491</td>\n",
       "    </tr>\n",
       "    <tr>\n",
       "      <th>2</th>\n",
       "      <td>LINESTRING (750113.667 3781854.106, 750071.618...</td>\n",
       "      <td>Provincial</td>\n",
       "      <td>Asphalt Concrete</td>\n",
       "      <td>None</td>\n",
       "      <td>None</td>\n",
       "      <td>None</td>\n",
       "      <td>None</td>\n",
       "      <td>None</td>\n",
       "      <td>None</td>\n",
       "      <td>All Weather</td>\n",
       "      <td>3.436315</td>\n",
       "      <td>297.611728</td>\n",
       "    </tr>\n",
       "    <tr>\n",
       "      <th>3</th>\n",
       "      <td>LINESTRING (748578.407 3780675.967, 748529.082...</td>\n",
       "      <td>Provincial</td>\n",
       "      <td>Asphalt Concrete</td>\n",
       "      <td>None</td>\n",
       "      <td>None</td>\n",
       "      <td>None</td>\n",
       "      <td>None</td>\n",
       "      <td>None</td>\n",
       "      <td>None</td>\n",
       "      <td>All Weather</td>\n",
       "      <td>2.529004</td>\n",
       "      <td>297.079688</td>\n",
       "    </tr>\n",
       "    <tr>\n",
       "      <th>4</th>\n",
       "      <td>LINESTRING (747415.585 3779232.688, 747411.570...</td>\n",
       "      <td>Provincial</td>\n",
       "      <td>Asphalt Concrete</td>\n",
       "      <td>None</td>\n",
       "      <td>None</td>\n",
       "      <td>None</td>\n",
       "      <td>None</td>\n",
       "      <td>None</td>\n",
       "      <td>None</td>\n",
       "      <td>All Weather</td>\n",
       "      <td>1.714421</td>\n",
       "      <td>298.843813</td>\n",
       "    </tr>\n",
       "  </tbody>\n",
       "</table>\n",
       "</div>"
      ],
      "text/plain": [
       "                                            geometry  Road_Class  \\\n",
       "0  LINESTRING (753230.065 3782493.432, 753206.004...  Provincial   \n",
       "1  LINESTRING (751720.466 3782845.841, 751693.010...  Provincial   \n",
       "2  LINESTRING (750113.667 3781854.106, 750071.618...  Provincial   \n",
       "3  LINESTRING (748578.407 3780675.967, 748529.082...  Provincial   \n",
       "4  LINESTRING (747415.585 3779232.688, 747411.570...  Provincial   \n",
       "\n",
       "            Surface MNT_Num District_RONET Road_Class_RONET Surface1_RONET  \\\n",
       "0  Asphalt Concrete    None           None             None           None   \n",
       "1  Asphalt Concrete    None           None             None           None   \n",
       "2  Asphalt Concrete    None           None             None           None   \n",
       "3  Asphalt Concrete    None           None             None           None   \n",
       "4  Asphalt Concrete    None           None             None           None   \n",
       "\n",
       "  Road_Condition_RONET Surface2_RONET         TYPE  Avg_Slope      Z_Mean  \n",
       "0                 None           None  All Weather   2.888695  301.968822  \n",
       "1                 None           None  All Weather   2.627899  297.456491  \n",
       "2                 None           None  All Weather   3.436315  297.611728  \n",
       "3                 None           None  All Weather   2.529004  297.079688  \n",
       "4                 None           None  All Weather   1.714421  298.843813  "
      ]
     },
     "execution_count": 52,
     "metadata": {},
     "output_type": "execute_result"
    }
   ],
   "source": [
    "pre_master.head()"
   ]
  },
  {
   "cell_type": "code",
   "execution_count": 53,
   "metadata": {},
   "outputs": [],
   "source": [
    "#Create Default Road Condition"
   ]
  },
  {
   "cell_type": "code",
   "execution_count": 54,
   "metadata": {},
   "outputs": [
    {
     "data": {
      "text/plain": [
       "array(['Asphalt Concrete', None, 'Gravel', 'Black Topping',\n",
       "       'Triple Surface Treatment', 'AC/TST', 'A', 'C', 'E', 'RP',\n",
       "       'RP = 10', 'RP= 1.5', 'RP = 2', 'RP= 1.25', 'RP= 1.50', 'RP = 1',\n",
       "       'RP= 1', 'D', 'B', 'TSR', 'Shingle', 'F', 'R.P', 'SD', 'SG', 'DO',\n",
       "       nan], dtype=object)"
      ]
     },
     "execution_count": 54,
     "metadata": {},
     "output_type": "execute_result"
    }
   ],
   "source": [
    "pre_master.Surface.unique()"
   ]
  },
  {
   "cell_type": "code",
   "execution_count": 55,
   "metadata": {},
   "outputs": [
    {
     "data": {
      "text/plain": [
       "array([None, 'Gravel', 'AC', 'TST', 'RP', 'GR', 'BT', 'PCC',\n",
       "       'MobileAsphlt', 'M/A', 'Asphalt', 'Shingle', 'SD', 'Premix',\n",
       "       'Kacha', 'Earth Work', 'Subgrade', nan], dtype=object)"
      ]
     },
     "execution_count": 55,
     "metadata": {},
     "output_type": "execute_result"
    }
   ],
   "source": [
    "pre_master.Surface1_RONET.unique()"
   ]
  },
  {
   "cell_type": "code",
   "execution_count": 56,
   "metadata": {},
   "outputs": [
    {
     "data": {
      "text/plain": [
       "array(['Provincial', 'Access', 'District', 'Collector', 'Path'],\n",
       "      dtype=object)"
      ]
     },
     "execution_count": 56,
     "metadata": {},
     "output_type": "execute_result"
    }
   ],
   "source": [
    "pre_master.Road_Class.unique()"
   ]
  },
  {
   "cell_type": "code",
   "execution_count": 57,
   "metadata": {},
   "outputs": [
    {
     "data": {
      "text/plain": [
       "array([None, 'Good', 'Fair', 'Poor', 'poor', nan], dtype=object)"
      ]
     },
     "execution_count": 57,
     "metadata": {},
     "output_type": "execute_result"
    }
   ],
   "source": [
    "pre_master.Road_Condition_RONET.unique()"
   ]
  },
  {
   "cell_type": "code",
   "execution_count": 58,
   "metadata": {},
   "outputs": [
    {
     "data": {
      "text/plain": [
       "array([None, 'Gravel', 'Asphaltic Mix', 'Surface Treatment',\n",
       "       'Cement Concrete', 'Earth', nan], dtype=object)"
      ]
     },
     "execution_count": 58,
     "metadata": {},
     "output_type": "execute_result"
    }
   ],
   "source": [
    "pre_master.Surface2_RONET.unique()"
   ]
  },
  {
   "cell_type": "code",
   "execution_count": 59,
   "metadata": {},
   "outputs": [],
   "source": [
    "# dicts containing lists of values to replace, with the new key listed lasts\n",
    "\n",
    "#good_dct = dict.fromkeys(['Asphaltic Mix'], 'Good')\n",
    "#fair_dct = dict.fromkeys(['Cement Concrete','Earth'], 'Fair')\n",
    "#poor_dct = dict.fromkeys(['Surface Treatment','Gravel'], 'Poor')"
   ]
  },
  {
   "cell_type": "code",
   "execution_count": 60,
   "metadata": {},
   "outputs": [],
   "source": [
    "#road_cond_dct = {}\n",
    "\n",
    "#road_cond_dct.update(good_dct)\n",
    "#road_cond_dct.update(fair_dct)\n",
    "#road_cond_dct.update(poor_dct)"
   ]
  },
  {
   "cell_type": "code",
   "execution_count": 61,
   "metadata": {},
   "outputs": [],
   "source": [
    "#master['Temp_Road_Cond'] = master['Surface2_RONET'].map(road_cond_dct)"
   ]
  },
  {
   "cell_type": "code",
   "execution_count": 62,
   "metadata": {},
   "outputs": [],
   "source": [
    "#Add GHS dataset to distinguish urban and rural datasets"
   ]
  },
  {
   "cell_type": "code",
   "execution_count": 63,
   "metadata": {},
   "outputs": [],
   "source": [
    "ghs = gpd.read_file(os.path.join(ghs_pth,'ghs_smod_32642.shp'))"
   ]
  },
  {
   "cell_type": "code",
   "execution_count": 64,
   "metadata": {},
   "outputs": [
    {
     "data": {
      "text/html": [
       "<div>\n",
       "<style scoped>\n",
       "    .dataframe tbody tr th:only-of-type {\n",
       "        vertical-align: middle;\n",
       "    }\n",
       "\n",
       "    .dataframe tbody tr th {\n",
       "        vertical-align: top;\n",
       "    }\n",
       "\n",
       "    .dataframe thead th {\n",
       "        text-align: right;\n",
       "    }\n",
       "</style>\n",
       "<table border=\"1\" class=\"dataframe\">\n",
       "  <thead>\n",
       "    <tr style=\"text-align: right;\">\n",
       "      <th></th>\n",
       "      <th>fid</th>\n",
       "      <th>ID_HDC_G0</th>\n",
       "      <th>NAME_MAIN</th>\n",
       "      <th>NAME_LIST</th>\n",
       "      <th>POP_2015</th>\n",
       "      <th>BU_2015</th>\n",
       "      <th>geometry</th>\n",
       "    </tr>\n",
       "  </thead>\n",
       "  <tbody>\n",
       "    <tr>\n",
       "      <th>0</th>\n",
       "      <td>1.0</td>\n",
       "      <td>1.0</td>\n",
       "      <td>Honolulu</td>\n",
       "      <td>Honolulu; Waipahu; Pearl City; Aiea</td>\n",
       "      <td>512824.842119</td>\n",
       "      <td>80.749801</td>\n",
       "      <td>POLYGON ((5799712.849 16680872.717, 5794211.57...</td>\n",
       "    </tr>\n",
       "    <tr>\n",
       "      <th>1</th>\n",
       "      <td>2.0</td>\n",
       "      <td>2.0</td>\n",
       "      <td>Papeete</td>\n",
       "      <td>Papeete</td>\n",
       "      <td>91453.693810</td>\n",
       "      <td>14.568072</td>\n",
       "      <td>POLYGON ((4860903.478 -17561458.847, 4862223.3...</td>\n",
       "    </tr>\n",
       "    <tr>\n",
       "      <th>2</th>\n",
       "      <td>3.0</td>\n",
       "      <td>3.0</td>\n",
       "      <td>Santa Maria</td>\n",
       "      <td>Santa Maria</td>\n",
       "      <td>123184.613197</td>\n",
       "      <td>42.173721</td>\n",
       "      <td>POLYGON ((1362330.458 16084121.636, 1361295.19...</td>\n",
       "    </tr>\n",
       "    <tr>\n",
       "      <th>3</th>\n",
       "      <td>4.0</td>\n",
       "      <td>4.0</td>\n",
       "      <td>Monterey</td>\n",
       "      <td>Monterey</td>\n",
       "      <td>67761.478500</td>\n",
       "      <td>28.009914</td>\n",
       "      <td>POLYGON ((1468544.073 15889517.172, 1469571.95...</td>\n",
       "    </tr>\n",
       "    <tr>\n",
       "      <th>4</th>\n",
       "      <td>5.0</td>\n",
       "      <td>5.0</td>\n",
       "      <td>Santa Barbara</td>\n",
       "      <td>Santa Barbara</td>\n",
       "      <td>118777.131254</td>\n",
       "      <td>40.079154</td>\n",
       "      <td>POLYGON ((1303782.553 16149142.120, 1301707.99...</td>\n",
       "    </tr>\n",
       "  </tbody>\n",
       "</table>\n",
       "</div>"
      ],
      "text/plain": [
       "   fid  ID_HDC_G0      NAME_MAIN                            NAME_LIST  \\\n",
       "0  1.0        1.0       Honolulu  Honolulu; Waipahu; Pearl City; Aiea   \n",
       "1  2.0        2.0        Papeete                              Papeete   \n",
       "2  3.0        3.0    Santa Maria                          Santa Maria   \n",
       "3  4.0        4.0       Monterey                             Monterey   \n",
       "4  5.0        5.0  Santa Barbara                        Santa Barbara   \n",
       "\n",
       "        POP_2015    BU_2015                                           geometry  \n",
       "0  512824.842119  80.749801  POLYGON ((5799712.849 16680872.717, 5794211.57...  \n",
       "1   91453.693810  14.568072  POLYGON ((4860903.478 -17561458.847, 4862223.3...  \n",
       "2  123184.613197  42.173721  POLYGON ((1362330.458 16084121.636, 1361295.19...  \n",
       "3   67761.478500  28.009914  POLYGON ((1468544.073 15889517.172, 1469571.95...  \n",
       "4  118777.131254  40.079154  POLYGON ((1303782.553 16149142.120, 1301707.99...  "
      ]
     },
     "execution_count": 64,
     "metadata": {},
     "output_type": "execute_result"
    }
   ],
   "source": [
    "ghs.head()"
   ]
  },
  {
   "cell_type": "code",
   "execution_count": 65,
   "metadata": {},
   "outputs": [],
   "source": [
    "ghs = ghs.rename(columns={'fid':'Number'})"
   ]
  },
  {
   "cell_type": "code",
   "execution_count": 66,
   "metadata": {},
   "outputs": [
    {
     "data": {
      "text/html": [
       "<div>\n",
       "<style scoped>\n",
       "    .dataframe tbody tr th:only-of-type {\n",
       "        vertical-align: middle;\n",
       "    }\n",
       "\n",
       "    .dataframe tbody tr th {\n",
       "        vertical-align: top;\n",
       "    }\n",
       "\n",
       "    .dataframe thead th {\n",
       "        text-align: right;\n",
       "    }\n",
       "</style>\n",
       "<table border=\"1\" class=\"dataframe\">\n",
       "  <thead>\n",
       "    <tr style=\"text-align: right;\">\n",
       "      <th></th>\n",
       "      <th>Number</th>\n",
       "      <th>ID_HDC_G0</th>\n",
       "      <th>NAME_MAIN</th>\n",
       "      <th>NAME_LIST</th>\n",
       "      <th>POP_2015</th>\n",
       "      <th>BU_2015</th>\n",
       "      <th>geometry</th>\n",
       "    </tr>\n",
       "  </thead>\n",
       "  <tbody>\n",
       "    <tr>\n",
       "      <th>0</th>\n",
       "      <td>1.0</td>\n",
       "      <td>1.0</td>\n",
       "      <td>Honolulu</td>\n",
       "      <td>Honolulu; Waipahu; Pearl City; Aiea</td>\n",
       "      <td>512824.842119</td>\n",
       "      <td>80.749801</td>\n",
       "      <td>POLYGON ((5799712.849 16680872.717, 5794211.57...</td>\n",
       "    </tr>\n",
       "    <tr>\n",
       "      <th>1</th>\n",
       "      <td>2.0</td>\n",
       "      <td>2.0</td>\n",
       "      <td>Papeete</td>\n",
       "      <td>Papeete</td>\n",
       "      <td>91453.693810</td>\n",
       "      <td>14.568072</td>\n",
       "      <td>POLYGON ((4860903.478 -17561458.847, 4862223.3...</td>\n",
       "    </tr>\n",
       "    <tr>\n",
       "      <th>2</th>\n",
       "      <td>3.0</td>\n",
       "      <td>3.0</td>\n",
       "      <td>Santa Maria</td>\n",
       "      <td>Santa Maria</td>\n",
       "      <td>123184.613197</td>\n",
       "      <td>42.173721</td>\n",
       "      <td>POLYGON ((1362330.458 16084121.636, 1361295.19...</td>\n",
       "    </tr>\n",
       "    <tr>\n",
       "      <th>3</th>\n",
       "      <td>4.0</td>\n",
       "      <td>4.0</td>\n",
       "      <td>Monterey</td>\n",
       "      <td>Monterey</td>\n",
       "      <td>67761.478500</td>\n",
       "      <td>28.009914</td>\n",
       "      <td>POLYGON ((1468544.073 15889517.172, 1469571.95...</td>\n",
       "    </tr>\n",
       "    <tr>\n",
       "      <th>4</th>\n",
       "      <td>5.0</td>\n",
       "      <td>5.0</td>\n",
       "      <td>Santa Barbara</td>\n",
       "      <td>Santa Barbara</td>\n",
       "      <td>118777.131254</td>\n",
       "      <td>40.079154</td>\n",
       "      <td>POLYGON ((1303782.553 16149142.120, 1301707.99...</td>\n",
       "    </tr>\n",
       "  </tbody>\n",
       "</table>\n",
       "</div>"
      ],
      "text/plain": [
       "   Number  ID_HDC_G0      NAME_MAIN                            NAME_LIST  \\\n",
       "0     1.0        1.0       Honolulu  Honolulu; Waipahu; Pearl City; Aiea   \n",
       "1     2.0        2.0        Papeete                              Papeete   \n",
       "2     3.0        3.0    Santa Maria                          Santa Maria   \n",
       "3     4.0        4.0       Monterey                             Monterey   \n",
       "4     5.0        5.0  Santa Barbara                        Santa Barbara   \n",
       "\n",
       "        POP_2015    BU_2015                                           geometry  \n",
       "0  512824.842119  80.749801  POLYGON ((5799712.849 16680872.717, 5794211.57...  \n",
       "1   91453.693810  14.568072  POLYGON ((4860903.478 -17561458.847, 4862223.3...  \n",
       "2  123184.613197  42.173721  POLYGON ((1362330.458 16084121.636, 1361295.19...  \n",
       "3   67761.478500  28.009914  POLYGON ((1468544.073 15889517.172, 1469571.95...  \n",
       "4  118777.131254  40.079154  POLYGON ((1303782.553 16149142.120, 1301707.99...  "
      ]
     },
     "execution_count": 66,
     "metadata": {},
     "output_type": "execute_result"
    }
   ],
   "source": [
    "ghs.head()"
   ]
  },
  {
   "cell_type": "code",
   "execution_count": 67,
   "metadata": {},
   "outputs": [],
   "source": [
    "master = gpd.sjoin(pre_master, ghs, how = \"left\", op = \"intersects\")"
   ]
  },
  {
   "cell_type": "code",
   "execution_count": 71,
   "metadata": {},
   "outputs": [
    {
     "data": {
      "text/html": [
       "<div>\n",
       "<style scoped>\n",
       "    .dataframe tbody tr th:only-of-type {\n",
       "        vertical-align: middle;\n",
       "    }\n",
       "\n",
       "    .dataframe tbody tr th {\n",
       "        vertical-align: top;\n",
       "    }\n",
       "\n",
       "    .dataframe thead th {\n",
       "        text-align: right;\n",
       "    }\n",
       "</style>\n",
       "<table border=\"1\" class=\"dataframe\">\n",
       "  <thead>\n",
       "    <tr style=\"text-align: right;\">\n",
       "      <th></th>\n",
       "      <th>geometry</th>\n",
       "      <th>Road_Class</th>\n",
       "      <th>Surface</th>\n",
       "      <th>MNT_Num</th>\n",
       "      <th>District_RONET</th>\n",
       "      <th>Road_Class_RONET</th>\n",
       "      <th>Surface1_RONET</th>\n",
       "      <th>Road_Condition_RONET</th>\n",
       "      <th>Surface2_RONET</th>\n",
       "      <th>TYPE</th>\n",
       "      <th>Avg_Slope</th>\n",
       "      <th>Z_Mean</th>\n",
       "      <th>index_right</th>\n",
       "      <th>Number</th>\n",
       "      <th>ID_HDC_G0</th>\n",
       "      <th>NAME_MAIN</th>\n",
       "      <th>NAME_LIST</th>\n",
       "      <th>POP_2015</th>\n",
       "      <th>BU_2015</th>\n",
       "    </tr>\n",
       "  </thead>\n",
       "  <tbody>\n",
       "    <tr>\n",
       "      <th>0</th>\n",
       "      <td>LINESTRING (753230.065 3782493.432, 753206.004...</td>\n",
       "      <td>Provincial</td>\n",
       "      <td>Asphalt Concrete</td>\n",
       "      <td>None</td>\n",
       "      <td>None</td>\n",
       "      <td>None</td>\n",
       "      <td>None</td>\n",
       "      <td>None</td>\n",
       "      <td>None</td>\n",
       "      <td>All Weather</td>\n",
       "      <td>2.888695</td>\n",
       "      <td>301.968822</td>\n",
       "      <td>6256.0</td>\n",
       "      <td>6257.0</td>\n",
       "      <td>6257.0</td>\n",
       "      <td>Charsadda</td>\n",
       "      <td>Charsadda</td>\n",
       "      <td>432942.199814</td>\n",
       "      <td>4.102688</td>\n",
       "    </tr>\n",
       "    <tr>\n",
       "      <th>1</th>\n",
       "      <td>LINESTRING (751720.466 3782845.841, 751693.010...</td>\n",
       "      <td>Provincial</td>\n",
       "      <td>Asphalt Concrete</td>\n",
       "      <td>None</td>\n",
       "      <td>None</td>\n",
       "      <td>None</td>\n",
       "      <td>None</td>\n",
       "      <td>None</td>\n",
       "      <td>None</td>\n",
       "      <td>All Weather</td>\n",
       "      <td>2.627899</td>\n",
       "      <td>297.456491</td>\n",
       "      <td>6256.0</td>\n",
       "      <td>6257.0</td>\n",
       "      <td>6257.0</td>\n",
       "      <td>Charsadda</td>\n",
       "      <td>Charsadda</td>\n",
       "      <td>432942.199814</td>\n",
       "      <td>4.102688</td>\n",
       "    </tr>\n",
       "    <tr>\n",
       "      <th>2</th>\n",
       "      <td>LINESTRING (750113.667 3781854.106, 750071.618...</td>\n",
       "      <td>Provincial</td>\n",
       "      <td>Asphalt Concrete</td>\n",
       "      <td>None</td>\n",
       "      <td>None</td>\n",
       "      <td>None</td>\n",
       "      <td>None</td>\n",
       "      <td>None</td>\n",
       "      <td>None</td>\n",
       "      <td>All Weather</td>\n",
       "      <td>3.436315</td>\n",
       "      <td>297.611728</td>\n",
       "      <td>6256.0</td>\n",
       "      <td>6257.0</td>\n",
       "      <td>6257.0</td>\n",
       "      <td>Charsadda</td>\n",
       "      <td>Charsadda</td>\n",
       "      <td>432942.199814</td>\n",
       "      <td>4.102688</td>\n",
       "    </tr>\n",
       "    <tr>\n",
       "      <th>3</th>\n",
       "      <td>LINESTRING (748578.407 3780675.967, 748529.082...</td>\n",
       "      <td>Provincial</td>\n",
       "      <td>Asphalt Concrete</td>\n",
       "      <td>None</td>\n",
       "      <td>None</td>\n",
       "      <td>None</td>\n",
       "      <td>None</td>\n",
       "      <td>None</td>\n",
       "      <td>None</td>\n",
       "      <td>All Weather</td>\n",
       "      <td>2.529004</td>\n",
       "      <td>297.079688</td>\n",
       "      <td>NaN</td>\n",
       "      <td>NaN</td>\n",
       "      <td>NaN</td>\n",
       "      <td>NaN</td>\n",
       "      <td>NaN</td>\n",
       "      <td>NaN</td>\n",
       "      <td>NaN</td>\n",
       "    </tr>\n",
       "    <tr>\n",
       "      <th>4</th>\n",
       "      <td>LINESTRING (747415.585 3779232.688, 747411.570...</td>\n",
       "      <td>Provincial</td>\n",
       "      <td>Asphalt Concrete</td>\n",
       "      <td>None</td>\n",
       "      <td>None</td>\n",
       "      <td>None</td>\n",
       "      <td>None</td>\n",
       "      <td>None</td>\n",
       "      <td>None</td>\n",
       "      <td>All Weather</td>\n",
       "      <td>1.714421</td>\n",
       "      <td>298.843813</td>\n",
       "      <td>NaN</td>\n",
       "      <td>NaN</td>\n",
       "      <td>NaN</td>\n",
       "      <td>NaN</td>\n",
       "      <td>NaN</td>\n",
       "      <td>NaN</td>\n",
       "      <td>NaN</td>\n",
       "    </tr>\n",
       "  </tbody>\n",
       "</table>\n",
       "</div>"
      ],
      "text/plain": [
       "                                            geometry  Road_Class  \\\n",
       "0  LINESTRING (753230.065 3782493.432, 753206.004...  Provincial   \n",
       "1  LINESTRING (751720.466 3782845.841, 751693.010...  Provincial   \n",
       "2  LINESTRING (750113.667 3781854.106, 750071.618...  Provincial   \n",
       "3  LINESTRING (748578.407 3780675.967, 748529.082...  Provincial   \n",
       "4  LINESTRING (747415.585 3779232.688, 747411.570...  Provincial   \n",
       "\n",
       "            Surface MNT_Num District_RONET Road_Class_RONET Surface1_RONET  \\\n",
       "0  Asphalt Concrete    None           None             None           None   \n",
       "1  Asphalt Concrete    None           None             None           None   \n",
       "2  Asphalt Concrete    None           None             None           None   \n",
       "3  Asphalt Concrete    None           None             None           None   \n",
       "4  Asphalt Concrete    None           None             None           None   \n",
       "\n",
       "  Road_Condition_RONET Surface2_RONET         TYPE  Avg_Slope      Z_Mean  \\\n",
       "0                 None           None  All Weather   2.888695  301.968822   \n",
       "1                 None           None  All Weather   2.627899  297.456491   \n",
       "2                 None           None  All Weather   3.436315  297.611728   \n",
       "3                 None           None  All Weather   2.529004  297.079688   \n",
       "4                 None           None  All Weather   1.714421  298.843813   \n",
       "\n",
       "   index_right  Number  ID_HDC_G0  NAME_MAIN  NAME_LIST       POP_2015  \\\n",
       "0       6256.0  6257.0     6257.0  Charsadda  Charsadda  432942.199814   \n",
       "1       6256.0  6257.0     6257.0  Charsadda  Charsadda  432942.199814   \n",
       "2       6256.0  6257.0     6257.0  Charsadda  Charsadda  432942.199814   \n",
       "3          NaN     NaN        NaN        NaN        NaN            NaN   \n",
       "4          NaN     NaN        NaN        NaN        NaN            NaN   \n",
       "\n",
       "    BU_2015  \n",
       "0  4.102688  \n",
       "1  4.102688  \n",
       "2  4.102688  \n",
       "3       NaN  \n",
       "4       NaN  "
      ]
     },
     "execution_count": 71,
     "metadata": {},
     "output_type": "execute_result"
    }
   ],
   "source": [
    "master.head()"
   ]
  },
  {
   "cell_type": "code",
   "execution_count": 69,
   "metadata": {},
   "outputs": [],
   "source": [
    "#Save the file to check the spatial joints -- optional"
   ]
  },
  {
   "cell_type": "code",
   "execution_count": 70,
   "metadata": {},
   "outputs": [],
   "source": [
    "#master.to_file('P:\\PAK\\Code\\Accessibility\\GHS\\master_check_Aug28.gpkg',layer='master_layer',driver='GPKG')"
   ]
  },
  {
   "cell_type": "code",
   "execution_count": null,
   "metadata": {},
   "outputs": [],
   "source": []
  },
  {
   "cell_type": "markdown",
   "metadata": {
    "tags": []
   },
   "source": [
    "### Manipulate datasets to arrive at final speeds"
   ]
  },
  {
   "cell_type": "markdown",
   "metadata": {},
   "source": [
    "Slope information has already been joined in to the input shapefiles in a pre-processing step. Thefore, proceed to..."
   ]
  },
  {
   "cell_type": "markdown",
   "metadata": {},
   "source": [
    "Using slope, generate terrain category "
   ]
  },
  {
   "cell_type": "code",
   "execution_count": 72,
   "metadata": {},
   "outputs": [],
   "source": [
    "# old\n",
    "\n",
    "#master['Terrain'] = pd.cut(master['Z_Mean'], [-np.inf, 1500, 2299, np.inf], \n",
    "#                            labels = ['Plains', 'Hills', 'Mountains']) # change labels herelabels = ['Plains', 'Hills', 'Mountains']) # change labels here\n",
    "# new\n",
    "\n",
    "master['Terrain'] = pd.cut(master['Avg_Slope'], [-np.inf, 8, 16, np.inf], \n",
    "                           labels = ['Plains', 'Hills', 'Mountains']) # change labels herelabels = ['Plains', 'Hills', 'Mountains']) # change labels here"
   ]
  },
  {
   "cell_type": "markdown",
   "metadata": {},
   "source": [
    "Generate dry season speed based on terrain category and road type"
   ]
  },
  {
   "cell_type": "code",
   "execution_count": 73,
   "metadata": {},
   "outputs": [],
   "source": [
    "terrain_class_filter = [master['Terrain'].str.contains('Plains') & master['Road_Class'].str.contains('Provincial'),    \n",
    "    master['Terrain'].str.contains('Plains') & master['Road_Class'].str.contains('District'),    \n",
    "    master['Terrain'].str.contains('Plains') & master['Road_Class'].str.contains('Access'),    \n",
    "    master['Terrain'].str.contains('Plains') & master['Road_Class'].str.contains('Collector'),\n",
    "    master['Terrain'].str.contains('Hills') & master['Road_Class'].str.contains('Provincial'),    \n",
    "    master['Terrain'].str.contains('Hills') & master['Road_Class'].str.contains('District'),    \n",
    "    master['Terrain'].str.contains('Hills') & master['Road_Class'].str.contains('Access'),    \n",
    "    master['Terrain'].str.contains('Hills') & master['Road_Class'].str.contains('Collector'),\n",
    "    master['Terrain'].str.contains('Mountains') & master['Road_Class'].str.contains('Provincial'),    \n",
    "    master['Terrain'].str.contains('Mountains') & master['Road_Class'].str.contains('District'),    \n",
    "    master['Terrain'].str.contains('Mountains') & master['Road_Class'].str.contains('Access'),    \n",
    "    master['Terrain'].str.contains('Mountains') & master['Road_Class'].str.contains('Collector')]\n",
    "                        "
   ]
  },
  {
   "cell_type": "code",
   "execution_count": 74,
   "metadata": {},
   "outputs": [],
   "source": [
    "# Corresponding list of speeds, with line breaks by terrain type for editing and readability\n",
    "speeds_lst = [80,50,40,20,\\\n",
    "                 60,40,30,15,\\\n",
    "                 40,30,20,10]"
   ]
  },
  {
   "cell_type": "code",
   "execution_count": 75,
   "metadata": {},
   "outputs": [],
   "source": [
    "master['base_speed'] = np.select(terrain_class_filter,speeds_lst,default=0.5) # very low default as path speeds will be re-calculated separately using terrain down the road"
   ]
  },
  {
   "cell_type": "code",
   "execution_count": 76,
   "metadata": {},
   "outputs": [],
   "source": [
    "# must convert the Terrain CategoricalDType to String to export as a geopackage\n",
    "master['Terrain'] = master['Terrain'].astype(str)"
   ]
  },
  {
   "cell_type": "code",
   "execution_count": 77,
   "metadata": {},
   "outputs": [
    {
     "data": {
      "text/html": [
       "<div>\n",
       "<style scoped>\n",
       "    .dataframe tbody tr th:only-of-type {\n",
       "        vertical-align: middle;\n",
       "    }\n",
       "\n",
       "    .dataframe tbody tr th {\n",
       "        vertical-align: top;\n",
       "    }\n",
       "\n",
       "    .dataframe thead th {\n",
       "        text-align: right;\n",
       "    }\n",
       "</style>\n",
       "<table border=\"1\" class=\"dataframe\">\n",
       "  <thead>\n",
       "    <tr style=\"text-align: right;\">\n",
       "      <th></th>\n",
       "      <th>geometry</th>\n",
       "      <th>Road_Class</th>\n",
       "      <th>Surface</th>\n",
       "      <th>MNT_Num</th>\n",
       "      <th>District_RONET</th>\n",
       "      <th>Road_Class_RONET</th>\n",
       "      <th>Surface1_RONET</th>\n",
       "      <th>Road_Condition_RONET</th>\n",
       "      <th>Surface2_RONET</th>\n",
       "      <th>TYPE</th>\n",
       "      <th>...</th>\n",
       "      <th>Z_Mean</th>\n",
       "      <th>index_right</th>\n",
       "      <th>Number</th>\n",
       "      <th>ID_HDC_G0</th>\n",
       "      <th>NAME_MAIN</th>\n",
       "      <th>NAME_LIST</th>\n",
       "      <th>POP_2015</th>\n",
       "      <th>BU_2015</th>\n",
       "      <th>Terrain</th>\n",
       "      <th>base_speed</th>\n",
       "    </tr>\n",
       "  </thead>\n",
       "  <tbody>\n",
       "    <tr>\n",
       "      <th>0</th>\n",
       "      <td>LINESTRING (753230.065 3782493.432, 753206.004...</td>\n",
       "      <td>Provincial</td>\n",
       "      <td>Asphalt Concrete</td>\n",
       "      <td>None</td>\n",
       "      <td>None</td>\n",
       "      <td>None</td>\n",
       "      <td>None</td>\n",
       "      <td>None</td>\n",
       "      <td>None</td>\n",
       "      <td>All Weather</td>\n",
       "      <td>...</td>\n",
       "      <td>301.968822</td>\n",
       "      <td>6256.0</td>\n",
       "      <td>6257.0</td>\n",
       "      <td>6257.0</td>\n",
       "      <td>Charsadda</td>\n",
       "      <td>Charsadda</td>\n",
       "      <td>432942.199814</td>\n",
       "      <td>4.102688</td>\n",
       "      <td>Plains</td>\n",
       "      <td>80.0</td>\n",
       "    </tr>\n",
       "    <tr>\n",
       "      <th>1</th>\n",
       "      <td>LINESTRING (751720.466 3782845.841, 751693.010...</td>\n",
       "      <td>Provincial</td>\n",
       "      <td>Asphalt Concrete</td>\n",
       "      <td>None</td>\n",
       "      <td>None</td>\n",
       "      <td>None</td>\n",
       "      <td>None</td>\n",
       "      <td>None</td>\n",
       "      <td>None</td>\n",
       "      <td>All Weather</td>\n",
       "      <td>...</td>\n",
       "      <td>297.456491</td>\n",
       "      <td>6256.0</td>\n",
       "      <td>6257.0</td>\n",
       "      <td>6257.0</td>\n",
       "      <td>Charsadda</td>\n",
       "      <td>Charsadda</td>\n",
       "      <td>432942.199814</td>\n",
       "      <td>4.102688</td>\n",
       "      <td>Plains</td>\n",
       "      <td>80.0</td>\n",
       "    </tr>\n",
       "    <tr>\n",
       "      <th>2</th>\n",
       "      <td>LINESTRING (750113.667 3781854.106, 750071.618...</td>\n",
       "      <td>Provincial</td>\n",
       "      <td>Asphalt Concrete</td>\n",
       "      <td>None</td>\n",
       "      <td>None</td>\n",
       "      <td>None</td>\n",
       "      <td>None</td>\n",
       "      <td>None</td>\n",
       "      <td>None</td>\n",
       "      <td>All Weather</td>\n",
       "      <td>...</td>\n",
       "      <td>297.611728</td>\n",
       "      <td>6256.0</td>\n",
       "      <td>6257.0</td>\n",
       "      <td>6257.0</td>\n",
       "      <td>Charsadda</td>\n",
       "      <td>Charsadda</td>\n",
       "      <td>432942.199814</td>\n",
       "      <td>4.102688</td>\n",
       "      <td>Plains</td>\n",
       "      <td>80.0</td>\n",
       "    </tr>\n",
       "    <tr>\n",
       "      <th>3</th>\n",
       "      <td>LINESTRING (748578.407 3780675.967, 748529.082...</td>\n",
       "      <td>Provincial</td>\n",
       "      <td>Asphalt Concrete</td>\n",
       "      <td>None</td>\n",
       "      <td>None</td>\n",
       "      <td>None</td>\n",
       "      <td>None</td>\n",
       "      <td>None</td>\n",
       "      <td>None</td>\n",
       "      <td>All Weather</td>\n",
       "      <td>...</td>\n",
       "      <td>297.079688</td>\n",
       "      <td>NaN</td>\n",
       "      <td>NaN</td>\n",
       "      <td>NaN</td>\n",
       "      <td>NaN</td>\n",
       "      <td>NaN</td>\n",
       "      <td>NaN</td>\n",
       "      <td>NaN</td>\n",
       "      <td>Plains</td>\n",
       "      <td>80.0</td>\n",
       "    </tr>\n",
       "    <tr>\n",
       "      <th>4</th>\n",
       "      <td>LINESTRING (747415.585 3779232.688, 747411.570...</td>\n",
       "      <td>Provincial</td>\n",
       "      <td>Asphalt Concrete</td>\n",
       "      <td>None</td>\n",
       "      <td>None</td>\n",
       "      <td>None</td>\n",
       "      <td>None</td>\n",
       "      <td>None</td>\n",
       "      <td>None</td>\n",
       "      <td>All Weather</td>\n",
       "      <td>...</td>\n",
       "      <td>298.843813</td>\n",
       "      <td>NaN</td>\n",
       "      <td>NaN</td>\n",
       "      <td>NaN</td>\n",
       "      <td>NaN</td>\n",
       "      <td>NaN</td>\n",
       "      <td>NaN</td>\n",
       "      <td>NaN</td>\n",
       "      <td>Plains</td>\n",
       "      <td>80.0</td>\n",
       "    </tr>\n",
       "  </tbody>\n",
       "</table>\n",
       "<p>5 rows × 21 columns</p>\n",
       "</div>"
      ],
      "text/plain": [
       "                                            geometry  Road_Class  \\\n",
       "0  LINESTRING (753230.065 3782493.432, 753206.004...  Provincial   \n",
       "1  LINESTRING (751720.466 3782845.841, 751693.010...  Provincial   \n",
       "2  LINESTRING (750113.667 3781854.106, 750071.618...  Provincial   \n",
       "3  LINESTRING (748578.407 3780675.967, 748529.082...  Provincial   \n",
       "4  LINESTRING (747415.585 3779232.688, 747411.570...  Provincial   \n",
       "\n",
       "            Surface MNT_Num District_RONET Road_Class_RONET Surface1_RONET  \\\n",
       "0  Asphalt Concrete    None           None             None           None   \n",
       "1  Asphalt Concrete    None           None             None           None   \n",
       "2  Asphalt Concrete    None           None             None           None   \n",
       "3  Asphalt Concrete    None           None             None           None   \n",
       "4  Asphalt Concrete    None           None             None           None   \n",
       "\n",
       "  Road_Condition_RONET Surface2_RONET         TYPE  ...      Z_Mean  \\\n",
       "0                 None           None  All Weather  ...  301.968822   \n",
       "1                 None           None  All Weather  ...  297.456491   \n",
       "2                 None           None  All Weather  ...  297.611728   \n",
       "3                 None           None  All Weather  ...  297.079688   \n",
       "4                 None           None  All Weather  ...  298.843813   \n",
       "\n",
       "   index_right  Number  ID_HDC_G0  NAME_MAIN  NAME_LIST       POP_2015  \\\n",
       "0       6256.0  6257.0     6257.0  Charsadda  Charsadda  432942.199814   \n",
       "1       6256.0  6257.0     6257.0  Charsadda  Charsadda  432942.199814   \n",
       "2       6256.0  6257.0     6257.0  Charsadda  Charsadda  432942.199814   \n",
       "3          NaN     NaN        NaN        NaN        NaN            NaN   \n",
       "4          NaN     NaN        NaN        NaN        NaN            NaN   \n",
       "\n",
       "    BU_2015  Terrain base_speed  \n",
       "0  4.102688   Plains       80.0  \n",
       "1  4.102688   Plains       80.0  \n",
       "2  4.102688   Plains       80.0  \n",
       "3       NaN   Plains       80.0  \n",
       "4       NaN   Plains       80.0  \n",
       "\n",
       "[5 rows x 21 columns]"
      ]
     },
     "execution_count": 77,
     "metadata": {},
     "output_type": "execute_result"
    }
   ],
   "source": [
    "master.head()"
   ]
  },
  {
   "cell_type": "markdown",
   "metadata": {},
   "source": [
    "Reclassify various surface types into simpler categories"
   ]
  },
  {
   "cell_type": "code",
   "execution_count": 78,
   "metadata": {},
   "outputs": [
    {
     "data": {
      "text/plain": [
       "array([None, 'Gravel', 'Asphaltic Mix', 'Surface Treatment',\n",
       "       'Cement Concrete', 'Earth', nan], dtype=object)"
      ]
     },
     "execution_count": 78,
     "metadata": {},
     "output_type": "execute_result"
    }
   ],
   "source": [
    "master.Surface2_RONET.unique()"
   ]
  },
  {
   "cell_type": "code",
   "execution_count": 79,
   "metadata": {},
   "outputs": [
    {
     "data": {
      "text/plain": [
       "array(['Provincial', 'Access', 'District', 'Collector', 'Path'],\n",
       "      dtype=object)"
      ]
     },
     "execution_count": 79,
     "metadata": {},
     "output_type": "execute_result"
    }
   ],
   "source": [
    "master.Road_Class.unique()"
   ]
  },
  {
   "cell_type": "code",
   "execution_count": 80,
   "metadata": {},
   "outputs": [],
   "source": [
    "master['Temp_Surface'] = np.where((master['Road_Class'] =='Provincial'),master['Road_Class'],master['Surface'])"
   ]
  },
  {
   "cell_type": "code",
   "execution_count": 81,
   "metadata": {},
   "outputs": [
    {
     "data": {
      "text/plain": [
       "array(['Provincial', 'C', 'E', 'A', 'RP', 'RP = 10', 'RP= 1.5', 'RP = 2',\n",
       "       'RP= 1.25', 'RP= 1.50', 'RP = 1', 'RP= 1', 'D', 'B', 'TSR', None,\n",
       "       'Shingle', 'F', 'R.P', 'SD', 'SG', 'DO', nan], dtype=object)"
      ]
     },
     "execution_count": 81,
     "metadata": {},
     "output_type": "execute_result"
    }
   ],
   "source": [
    "master.Temp_Surface.unique()"
   ]
  },
  {
   "cell_type": "code",
   "execution_count": 82,
   "metadata": {},
   "outputs": [
    {
     "data": {
      "text/plain": [
       "array(['Asphalt Concrete', None, 'Gravel', 'Black Topping',\n",
       "       'Triple Surface Treatment', 'AC/TST', 'A', 'C', 'E', 'RP',\n",
       "       'RP = 10', 'RP= 1.5', 'RP = 2', 'RP= 1.25', 'RP= 1.50', 'RP = 1',\n",
       "       'RP= 1', 'D', 'B', 'TSR', 'Shingle', 'F', 'R.P', 'SD', 'SG', 'DO',\n",
       "       nan], dtype=object)"
      ]
     },
     "execution_count": 82,
     "metadata": {},
     "output_type": "execute_result"
    }
   ],
   "source": [
    "master.Surface.unique()"
   ]
  },
  {
   "cell_type": "code",
   "execution_count": 83,
   "metadata": {},
   "outputs": [],
   "source": [
    "master['Temp_Surface_Consolidated'] = np.where((master['Surface2_RONET'].isnull()==False),master['Surface2_RONET'],master['Temp_Surface'])"
   ]
  },
  {
   "cell_type": "code",
   "execution_count": 84,
   "metadata": {},
   "outputs": [
    {
     "data": {
      "text/html": [
       "<div>\n",
       "<style scoped>\n",
       "    .dataframe tbody tr th:only-of-type {\n",
       "        vertical-align: middle;\n",
       "    }\n",
       "\n",
       "    .dataframe tbody tr th {\n",
       "        vertical-align: top;\n",
       "    }\n",
       "\n",
       "    .dataframe thead th {\n",
       "        text-align: right;\n",
       "    }\n",
       "</style>\n",
       "<table border=\"1\" class=\"dataframe\">\n",
       "  <thead>\n",
       "    <tr style=\"text-align: right;\">\n",
       "      <th></th>\n",
       "      <th>geometry</th>\n",
       "      <th>Road_Class</th>\n",
       "      <th>Surface</th>\n",
       "      <th>MNT_Num</th>\n",
       "      <th>District_RONET</th>\n",
       "      <th>Road_Class_RONET</th>\n",
       "      <th>Surface1_RONET</th>\n",
       "      <th>Road_Condition_RONET</th>\n",
       "      <th>Surface2_RONET</th>\n",
       "      <th>TYPE</th>\n",
       "      <th>...</th>\n",
       "      <th>Number</th>\n",
       "      <th>ID_HDC_G0</th>\n",
       "      <th>NAME_MAIN</th>\n",
       "      <th>NAME_LIST</th>\n",
       "      <th>POP_2015</th>\n",
       "      <th>BU_2015</th>\n",
       "      <th>Terrain</th>\n",
       "      <th>base_speed</th>\n",
       "      <th>Temp_Surface</th>\n",
       "      <th>Temp_Surface_Consolidated</th>\n",
       "    </tr>\n",
       "  </thead>\n",
       "  <tbody>\n",
       "    <tr>\n",
       "      <th>0</th>\n",
       "      <td>LINESTRING (753230.065 3782493.432, 753206.004...</td>\n",
       "      <td>Provincial</td>\n",
       "      <td>Asphalt Concrete</td>\n",
       "      <td>None</td>\n",
       "      <td>None</td>\n",
       "      <td>None</td>\n",
       "      <td>None</td>\n",
       "      <td>None</td>\n",
       "      <td>None</td>\n",
       "      <td>All Weather</td>\n",
       "      <td>...</td>\n",
       "      <td>6257.0</td>\n",
       "      <td>6257.0</td>\n",
       "      <td>Charsadda</td>\n",
       "      <td>Charsadda</td>\n",
       "      <td>432942.199814</td>\n",
       "      <td>4.102688</td>\n",
       "      <td>Plains</td>\n",
       "      <td>80.0</td>\n",
       "      <td>Provincial</td>\n",
       "      <td>Provincial</td>\n",
       "    </tr>\n",
       "    <tr>\n",
       "      <th>1</th>\n",
       "      <td>LINESTRING (751720.466 3782845.841, 751693.010...</td>\n",
       "      <td>Provincial</td>\n",
       "      <td>Asphalt Concrete</td>\n",
       "      <td>None</td>\n",
       "      <td>None</td>\n",
       "      <td>None</td>\n",
       "      <td>None</td>\n",
       "      <td>None</td>\n",
       "      <td>None</td>\n",
       "      <td>All Weather</td>\n",
       "      <td>...</td>\n",
       "      <td>6257.0</td>\n",
       "      <td>6257.0</td>\n",
       "      <td>Charsadda</td>\n",
       "      <td>Charsadda</td>\n",
       "      <td>432942.199814</td>\n",
       "      <td>4.102688</td>\n",
       "      <td>Plains</td>\n",
       "      <td>80.0</td>\n",
       "      <td>Provincial</td>\n",
       "      <td>Provincial</td>\n",
       "    </tr>\n",
       "  </tbody>\n",
       "</table>\n",
       "<p>2 rows × 23 columns</p>\n",
       "</div>"
      ],
      "text/plain": [
       "                                            geometry  Road_Class  \\\n",
       "0  LINESTRING (753230.065 3782493.432, 753206.004...  Provincial   \n",
       "1  LINESTRING (751720.466 3782845.841, 751693.010...  Provincial   \n",
       "\n",
       "            Surface MNT_Num District_RONET Road_Class_RONET Surface1_RONET  \\\n",
       "0  Asphalt Concrete    None           None             None           None   \n",
       "1  Asphalt Concrete    None           None             None           None   \n",
       "\n",
       "  Road_Condition_RONET Surface2_RONET         TYPE  ...  Number  ID_HDC_G0  \\\n",
       "0                 None           None  All Weather  ...  6257.0     6257.0   \n",
       "1                 None           None  All Weather  ...  6257.0     6257.0   \n",
       "\n",
       "   NAME_MAIN  NAME_LIST       POP_2015   BU_2015 Terrain  base_speed  \\\n",
       "0  Charsadda  Charsadda  432942.199814  4.102688  Plains        80.0   \n",
       "1  Charsadda  Charsadda  432942.199814  4.102688  Plains        80.0   \n",
       "\n",
       "   Temp_Surface Temp_Surface_Consolidated  \n",
       "0    Provincial                Provincial  \n",
       "1    Provincial                Provincial  \n",
       "\n",
       "[2 rows x 23 columns]"
      ]
     },
     "execution_count": 84,
     "metadata": {},
     "output_type": "execute_result"
    }
   ],
   "source": [
    "master.head(2)"
   ]
  },
  {
   "cell_type": "code",
   "execution_count": 85,
   "metadata": {},
   "outputs": [
    {
     "data": {
      "text/plain": [
       "array(['Provincial', 'C', 'Gravel', 'Asphaltic Mix', 'Surface Treatment',\n",
       "       'E', 'Cement Concrete', 'RP', 'RP= 1.5', 'RP= 1.25', 'RP = 1',\n",
       "       'RP= 1', 'A', 'D', 'TSR', None, 'F', 'SD', 'DO', 'Earth', nan],\n",
       "      dtype=object)"
      ]
     },
     "execution_count": 85,
     "metadata": {},
     "output_type": "execute_result"
    }
   ],
   "source": [
    "master.Temp_Surface_Consolidated.unique()"
   ]
  },
  {
   "cell_type": "code",
   "execution_count": 86,
   "metadata": {},
   "outputs": [],
   "source": [
    "#Reclassify Temp_Surface_Consolidated categories"
   ]
  },
  {
   "cell_type": "code",
   "execution_count": 87,
   "metadata": {},
   "outputs": [],
   "source": [
    "pave_dct = dict.fromkeys(['Provincial','Black Topping','Triple Surface Treatment','Cement Concrete','AC/TST'],'Paved')\n",
    "gravel_dct = dict.fromkeys(['Asphaltic Mix','Surface Treatment','TSR','A','C','D','DO','RP','RP= 1.5','RP= 1.25','RP = 1','RP= 1','Gravel'],'Gravel')\n",
    "earth_dct = dict.fromkeys(['E','F','SD','Earth','None','nan'],'Earthen')"
   ]
  },
  {
   "cell_type": "code",
   "execution_count": 88,
   "metadata": {},
   "outputs": [],
   "source": [
    "master.Temp_Surface_Consolidated = master.Temp_Surface_Consolidated.replace(pave_dct)\n",
    "master.Temp_Surface_Consolidated = master.Temp_Surface_Consolidated.replace(gravel_dct)\n",
    "master.Temp_Surface_Consolidated = master.Temp_Surface_Consolidated.replace(earth_dct)\n",
    "master.Temp_Surface_Consolidated = master.Temp_Surface_Consolidated.fillna('Earthen')"
   ]
  },
  {
   "cell_type": "code",
   "execution_count": 89,
   "metadata": {},
   "outputs": [
    {
     "data": {
      "text/plain": [
       "array(['Paved', 'Gravel', 'Earthen'], dtype=object)"
      ]
     },
     "execution_count": 89,
     "metadata": {},
     "output_type": "execute_result"
    }
   ],
   "source": [
    "master.Temp_Surface_Consolidated.unique()"
   ]
  },
  {
   "cell_type": "code",
   "execution_count": 90,
   "metadata": {},
   "outputs": [],
   "source": [
    "master['Surface_Final'] = np.where((master['NAME_MAIN'].isnull()==False), 'Paved', master['Temp_Surface_Consolidated'])"
   ]
  },
  {
   "cell_type": "code",
   "execution_count": 91,
   "metadata": {},
   "outputs": [
    {
     "data": {
      "text/plain": [
       "array(['Paved', 'Gravel', 'Earthen'], dtype=object)"
      ]
     },
     "execution_count": 91,
     "metadata": {},
     "output_type": "execute_result"
    }
   ],
   "source": [
    "master.Surface_Final.unique()"
   ]
  },
  {
   "cell_type": "code",
   "execution_count": 92,
   "metadata": {},
   "outputs": [
    {
     "data": {
      "text/html": [
       "<div>\n",
       "<style scoped>\n",
       "    .dataframe tbody tr th:only-of-type {\n",
       "        vertical-align: middle;\n",
       "    }\n",
       "\n",
       "    .dataframe tbody tr th {\n",
       "        vertical-align: top;\n",
       "    }\n",
       "\n",
       "    .dataframe thead th {\n",
       "        text-align: right;\n",
       "    }\n",
       "</style>\n",
       "<table border=\"1\" class=\"dataframe\">\n",
       "  <thead>\n",
       "    <tr style=\"text-align: right;\">\n",
       "      <th></th>\n",
       "      <th>geometry</th>\n",
       "      <th>Road_Class</th>\n",
       "      <th>Surface</th>\n",
       "      <th>MNT_Num</th>\n",
       "      <th>District_RONET</th>\n",
       "      <th>Road_Class_RONET</th>\n",
       "      <th>Surface1_RONET</th>\n",
       "      <th>Road_Condition_RONET</th>\n",
       "      <th>Surface2_RONET</th>\n",
       "      <th>TYPE</th>\n",
       "      <th>...</th>\n",
       "      <th>ID_HDC_G0</th>\n",
       "      <th>NAME_MAIN</th>\n",
       "      <th>NAME_LIST</th>\n",
       "      <th>POP_2015</th>\n",
       "      <th>BU_2015</th>\n",
       "      <th>Terrain</th>\n",
       "      <th>base_speed</th>\n",
       "      <th>Temp_Surface</th>\n",
       "      <th>Temp_Surface_Consolidated</th>\n",
       "      <th>Surface_Final</th>\n",
       "    </tr>\n",
       "  </thead>\n",
       "  <tbody>\n",
       "    <tr>\n",
       "      <th>0</th>\n",
       "      <td>LINESTRING (753230.065 3782493.432, 753206.004...</td>\n",
       "      <td>Provincial</td>\n",
       "      <td>Asphalt Concrete</td>\n",
       "      <td>None</td>\n",
       "      <td>None</td>\n",
       "      <td>None</td>\n",
       "      <td>None</td>\n",
       "      <td>None</td>\n",
       "      <td>None</td>\n",
       "      <td>All Weather</td>\n",
       "      <td>...</td>\n",
       "      <td>6257.0</td>\n",
       "      <td>Charsadda</td>\n",
       "      <td>Charsadda</td>\n",
       "      <td>432942.199814</td>\n",
       "      <td>4.102688</td>\n",
       "      <td>Plains</td>\n",
       "      <td>80.0</td>\n",
       "      <td>Provincial</td>\n",
       "      <td>Paved</td>\n",
       "      <td>Paved</td>\n",
       "    </tr>\n",
       "    <tr>\n",
       "      <th>1</th>\n",
       "      <td>LINESTRING (751720.466 3782845.841, 751693.010...</td>\n",
       "      <td>Provincial</td>\n",
       "      <td>Asphalt Concrete</td>\n",
       "      <td>None</td>\n",
       "      <td>None</td>\n",
       "      <td>None</td>\n",
       "      <td>None</td>\n",
       "      <td>None</td>\n",
       "      <td>None</td>\n",
       "      <td>All Weather</td>\n",
       "      <td>...</td>\n",
       "      <td>6257.0</td>\n",
       "      <td>Charsadda</td>\n",
       "      <td>Charsadda</td>\n",
       "      <td>432942.199814</td>\n",
       "      <td>4.102688</td>\n",
       "      <td>Plains</td>\n",
       "      <td>80.0</td>\n",
       "      <td>Provincial</td>\n",
       "      <td>Paved</td>\n",
       "      <td>Paved</td>\n",
       "    </tr>\n",
       "  </tbody>\n",
       "</table>\n",
       "<p>2 rows × 24 columns</p>\n",
       "</div>"
      ],
      "text/plain": [
       "                                            geometry  Road_Class  \\\n",
       "0  LINESTRING (753230.065 3782493.432, 753206.004...  Provincial   \n",
       "1  LINESTRING (751720.466 3782845.841, 751693.010...  Provincial   \n",
       "\n",
       "            Surface MNT_Num District_RONET Road_Class_RONET Surface1_RONET  \\\n",
       "0  Asphalt Concrete    None           None             None           None   \n",
       "1  Asphalt Concrete    None           None             None           None   \n",
       "\n",
       "  Road_Condition_RONET Surface2_RONET         TYPE  ...  ID_HDC_G0  NAME_MAIN  \\\n",
       "0                 None           None  All Weather  ...     6257.0  Charsadda   \n",
       "1                 None           None  All Weather  ...     6257.0  Charsadda   \n",
       "\n",
       "   NAME_LIST       POP_2015   BU_2015 Terrain base_speed  Temp_Surface  \\\n",
       "0  Charsadda  432942.199814  4.102688  Plains       80.0    Provincial   \n",
       "1  Charsadda  432942.199814  4.102688  Plains       80.0    Provincial   \n",
       "\n",
       "   Temp_Surface_Consolidated Surface_Final  \n",
       "0                      Paved         Paved  \n",
       "1                      Paved         Paved  \n",
       "\n",
       "[2 rows x 24 columns]"
      ]
     },
     "execution_count": 92,
     "metadata": {},
     "output_type": "execute_result"
    }
   ],
   "source": [
    "master.head(2)"
   ]
  },
  {
   "cell_type": "code",
   "execution_count": 93,
   "metadata": {},
   "outputs": [
    {
     "data": {
      "text/plain": [
       "array([None, 'Gravel', 'AC', 'TST', 'RP', 'GR', 'BT', 'PCC',\n",
       "       'MobileAsphlt', 'M/A', 'Asphalt', 'Shingle', 'SD', 'Premix',\n",
       "       'Kacha', 'Earth Work', 'Subgrade', nan], dtype=object)"
      ]
     },
     "execution_count": 93,
     "metadata": {},
     "output_type": "execute_result"
    }
   ],
   "source": [
    "master.Surface1_RONET.unique()"
   ]
  },
  {
   "cell_type": "code",
   "execution_count": 94,
   "metadata": {},
   "outputs": [
    {
     "data": {
      "text/plain": [
       "array([None, 'Gravel', 'Asphaltic Mix', 'Surface Treatment',\n",
       "       'Cement Concrete', 'Earth', nan], dtype=object)"
      ]
     },
     "execution_count": 94,
     "metadata": {},
     "output_type": "execute_result"
    }
   ],
   "source": [
    "master.Surface2_RONET.unique()"
   ]
  },
  {
   "cell_type": "code",
   "execution_count": 95,
   "metadata": {},
   "outputs": [
    {
     "data": {
      "text/plain": [
       "array([None, 'Good', 'Fair', 'Poor', 'poor', nan], dtype=object)"
      ]
     },
     "execution_count": 95,
     "metadata": {},
     "output_type": "execute_result"
    }
   ],
   "source": [
    "master.Road_Condition_RONET.unique()"
   ]
  },
  {
   "cell_type": "code",
   "execution_count": 96,
   "metadata": {},
   "outputs": [],
   "source": [
    "#paved1_dct = dict.fromkeys(['AC','MobileAsphlt','Asphalt','M/A','PCC'],'Paved')\n",
    "#gravel1_dct = dict.fromkeys(['Gravel','TST','GR','RP','BT','Premix'],'Gravel')\n",
    "#earth1_dct = dict.fromkeys(['Kacha','Subgrade','Earth Work','SD','Shingle','None','nan'],'Earthen')"
   ]
  },
  {
   "cell_type": "code",
   "execution_count": 97,
   "metadata": {},
   "outputs": [],
   "source": [
    "#master.Surface1_RONET = master.Surface1_RONET.replace(paved1_dct)\n",
    "#master.Surface1_RONET = master.Surface1_RONET.replace(gravel1_dct)\n",
    "#master.Surface1_RONET = master.Surface1_RONET.replace(earth1_dct)\n",
    "#master.Surface1_RONET = master.Surface1_RONET.fillna('Earthen')"
   ]
  },
  {
   "cell_type": "markdown",
   "metadata": {},
   "source": [
    "Road condition based on Road_Class and Terrain"
   ]
  },
  {
   "cell_type": "code",
   "execution_count": 98,
   "metadata": {},
   "outputs": [],
   "source": [
    "master['Terrain'] = master['Terrain'].astype(str)"
   ]
  },
  {
   "cell_type": "code",
   "execution_count": 99,
   "metadata": {},
   "outputs": [],
   "source": [
    "road_condition_filter1 = [master['Terrain'].str.contains('Plains') & master['Road_Class'].str.contains('Provincial'),    \n",
    "    master['Terrain'].str.contains('Plains') & master['Road_Class'].str.contains('District'),    \n",
    "    master['Terrain'].str.contains('Plains') & master['Road_Class'].str.contains('Access'),    \n",
    "    master['Terrain'].str.contains('Plains') & master['Road_Class'].str.contains('Collector'),\n",
    "    master['Terrain'].str.contains('Hills') & master['Road_Class'].str.contains('Provincial'),    \n",
    "    master['Terrain'].str.contains('Hills') & master['Road_Class'].str.contains('District'),    \n",
    "    master['Terrain'].str.contains('Hills') & master['Road_Class'].str.contains('Access'),    \n",
    "    master['Terrain'].str.contains('Hills') & master['Road_Class'].str.contains('Collector'),\n",
    "    master['Terrain'].str.contains('Mountains') & master['Road_Class'].str.contains('Provincial'),    \n",
    "    master['Terrain'].str.contains('Mountains') & master['Road_Class'].str.contains('District'),    \n",
    "    master['Terrain'].str.contains('Mountains') & master['Road_Class'].str.contains('Access'),    \n",
    "    master['Terrain'].str.contains('Mountains') & master['Road_Class'].str.contains('Collector')]"
   ]
  },
  {
   "cell_type": "code",
   "execution_count": 100,
   "metadata": {},
   "outputs": [],
   "source": [
    "default_cond1 = ['Good','Poor','Poor','Poor',\\\n",
    "                 'Good','Poor','Poor','Good',\\\n",
    "                 'Fair','Poor','Poor','Poor']"
   ]
  },
  {
   "cell_type": "code",
   "execution_count": 101,
   "metadata": {},
   "outputs": [],
   "source": [
    "master['default_road_cond1'] = np.select(road_condition_filter1, default_cond1)"
   ]
  },
  {
   "cell_type": "code",
   "execution_count": 102,
   "metadata": {},
   "outputs": [
    {
     "data": {
      "text/plain": [
       "geometry                     geometry\n",
       "Road_Class                     object\n",
       "Surface                        object\n",
       "MNT_Num                        object\n",
       "District_RONET                 object\n",
       "Road_Class_RONET               object\n",
       "Surface1_RONET                 object\n",
       "Road_Condition_RONET           object\n",
       "Surface2_RONET                 object\n",
       "TYPE                           object\n",
       "Avg_Slope                     float64\n",
       "Z_Mean                        float64\n",
       "index_right                   float64\n",
       "Number                        float64\n",
       "ID_HDC_G0                     float64\n",
       "NAME_MAIN                      object\n",
       "NAME_LIST                      object\n",
       "POP_2015                      float64\n",
       "BU_2015                       float64\n",
       "Terrain                        object\n",
       "base_speed                    float64\n",
       "Temp_Surface                   object\n",
       "Temp_Surface_Consolidated      object\n",
       "Surface_Final                  object\n",
       "default_road_cond1             object\n",
       "dtype: object"
      ]
     },
     "execution_count": 102,
     "metadata": {},
     "output_type": "execute_result"
    }
   ],
   "source": [
    "master.dtypes\n"
   ]
  },
  {
   "cell_type": "code",
   "execution_count": 103,
   "metadata": {},
   "outputs": [],
   "source": [
    "# Road Condition based on Road Surface (Surface2_RONET) and Terrain"
   ]
  },
  {
   "cell_type": "code",
   "execution_count": 104,
   "metadata": {},
   "outputs": [],
   "source": [
    "master['Terrain'] = master['Terrain'].astype(str)"
   ]
  },
  {
   "cell_type": "code",
   "execution_count": 105,
   "metadata": {},
   "outputs": [],
   "source": [
    "road_condition_filter2 = [master['Terrain'].str.contains('Plains') & master['Surface2_RONET'].str.contains('Asphaltic Mix'),    \n",
    "    master['Terrain'].str.contains('Plains') & master['Surface2_RONET'].str.contains('Cement Concrete'),\n",
    "    master['Terrain'].str.contains('Plains') & master['Surface2_RONET'].str.contains('Earthen'),                      \n",
    "    master['Terrain'].str.contains('Plains') & master['Surface2_RONET'].str.contains('Gravel'),\n",
    "    master['Terrain'].str.contains('Plains') & master['Surface2_RONET'].str.contains('Surface Treatment'),\n",
    "    master['Terrain'].str.contains('Hills') & master['Surface2_RONET'].str.contains('Asphaltic Mix'),                      \n",
    "    master['Terrain'].str.contains('Hills') & master['Surface2_RONET'].str.contains('Cement Concrete'),\n",
    "    master['Terrain'].str.contains('Hills') & master['Surface2_RONET'].str.contains('Earthen'),                       \n",
    "    master['Terrain'].str.contains('Hills') & master['Surface2_RONET'].str.contains('Gravel'),\n",
    "    master['Terrain'].str.contains('Hills') & master['Surface2_RONET'].str.contains('Surface Treatment'),                     \n",
    "    master['Terrain'].str.contains('Mountains') & master['Surface2_RONET'].str.contains('Asphaltic Mix'),                      \n",
    "    master['Terrain'].str.contains('Mountains') & master['Surface2_RONET'].str.contains('Cement Concrete'),\n",
    "    master['Terrain'].str.contains('Mountains') & master['Surface2_RONET'].str.contains('Earthen'),                        \n",
    "    master['Terrain'].str.contains('Mountains') & master['Surface2_RONET'].str.contains('Gravel'),\n",
    "    master['Terrain'].str.contains('Mountains') & master['Surface2_RONET'].str.contains('Surface Treatment')]                      "
   ]
  },
  {
   "cell_type": "code",
   "execution_count": 106,
   "metadata": {},
   "outputs": [],
   "source": [
    "default_cond2 = ['Good','Poor','Poor','Poor','Poor',\\\n",
    "                 'Good','Poor','None','Poor','Poor',\\\n",
    "                 'Fair','Poor','None','Poor','Fair']"
   ]
  },
  {
   "cell_type": "code",
   "execution_count": 107,
   "metadata": {},
   "outputs": [],
   "source": [
    "master['default_road_cond2'] = np.select(road_condition_filter2, default_cond2, default = None)"
   ]
  },
  {
   "cell_type": "code",
   "execution_count": 108,
   "metadata": {},
   "outputs": [
    {
     "data": {
      "text/plain": [
       "array([None, 'Poor', 'Good', 'Fair'], dtype=object)"
      ]
     },
     "execution_count": 108,
     "metadata": {},
     "output_type": "execute_result"
    }
   ],
   "source": [
    "master.default_road_cond2.unique()"
   ]
  },
  {
   "cell_type": "code",
   "execution_count": 109,
   "metadata": {},
   "outputs": [],
   "source": [
    "# overwrite the default_cond1 with default_cond2"
   ]
  },
  {
   "cell_type": "code",
   "execution_count": 110,
   "metadata": {},
   "outputs": [],
   "source": [
    "master['Temp_Road_Cond'] = np.where((master['default_road_cond2'].isnull()==False),master['default_road_cond2'],master['default_road_cond1'])"
   ]
  },
  {
   "cell_type": "code",
   "execution_count": 111,
   "metadata": {},
   "outputs": [],
   "source": [
    "#overwrite Temp_Road_Cond with Road_Condition_RONET to arrive at \"Road_Cond_Final\""
   ]
  },
  {
   "cell_type": "code",
   "execution_count": 112,
   "metadata": {},
   "outputs": [
    {
     "data": {
      "text/plain": [
       "array(['Good', 'Fair', 'Poor', '0'], dtype=object)"
      ]
     },
     "execution_count": 112,
     "metadata": {},
     "output_type": "execute_result"
    }
   ],
   "source": [
    "master.Temp_Road_Cond.unique()"
   ]
  },
  {
   "cell_type": "code",
   "execution_count": 113,
   "metadata": {},
   "outputs": [
    {
     "data": {
      "text/html": [
       "<div>\n",
       "<style scoped>\n",
       "    .dataframe tbody tr th:only-of-type {\n",
       "        vertical-align: middle;\n",
       "    }\n",
       "\n",
       "    .dataframe tbody tr th {\n",
       "        vertical-align: top;\n",
       "    }\n",
       "\n",
       "    .dataframe thead th {\n",
       "        text-align: right;\n",
       "    }\n",
       "</style>\n",
       "<table border=\"1\" class=\"dataframe\">\n",
       "  <thead>\n",
       "    <tr style=\"text-align: right;\">\n",
       "      <th></th>\n",
       "      <th>geometry</th>\n",
       "      <th>Road_Class</th>\n",
       "      <th>Surface</th>\n",
       "      <th>MNT_Num</th>\n",
       "      <th>District_RONET</th>\n",
       "      <th>Road_Class_RONET</th>\n",
       "      <th>Surface1_RONET</th>\n",
       "      <th>Road_Condition_RONET</th>\n",
       "      <th>Surface2_RONET</th>\n",
       "      <th>TYPE</th>\n",
       "      <th>...</th>\n",
       "      <th>POP_2015</th>\n",
       "      <th>BU_2015</th>\n",
       "      <th>Terrain</th>\n",
       "      <th>base_speed</th>\n",
       "      <th>Temp_Surface</th>\n",
       "      <th>Temp_Surface_Consolidated</th>\n",
       "      <th>Surface_Final</th>\n",
       "      <th>default_road_cond1</th>\n",
       "      <th>default_road_cond2</th>\n",
       "      <th>Temp_Road_Cond</th>\n",
       "    </tr>\n",
       "  </thead>\n",
       "  <tbody>\n",
       "    <tr>\n",
       "      <th>0</th>\n",
       "      <td>LINESTRING (753230.065 3782493.432, 753206.004...</td>\n",
       "      <td>Provincial</td>\n",
       "      <td>Asphalt Concrete</td>\n",
       "      <td>None</td>\n",
       "      <td>None</td>\n",
       "      <td>None</td>\n",
       "      <td>None</td>\n",
       "      <td>None</td>\n",
       "      <td>None</td>\n",
       "      <td>All Weather</td>\n",
       "      <td>...</td>\n",
       "      <td>432942.199814</td>\n",
       "      <td>4.102688</td>\n",
       "      <td>Plains</td>\n",
       "      <td>80.0</td>\n",
       "      <td>Provincial</td>\n",
       "      <td>Paved</td>\n",
       "      <td>Paved</td>\n",
       "      <td>Good</td>\n",
       "      <td>None</td>\n",
       "      <td>Good</td>\n",
       "    </tr>\n",
       "    <tr>\n",
       "      <th>1</th>\n",
       "      <td>LINESTRING (751720.466 3782845.841, 751693.010...</td>\n",
       "      <td>Provincial</td>\n",
       "      <td>Asphalt Concrete</td>\n",
       "      <td>None</td>\n",
       "      <td>None</td>\n",
       "      <td>None</td>\n",
       "      <td>None</td>\n",
       "      <td>None</td>\n",
       "      <td>None</td>\n",
       "      <td>All Weather</td>\n",
       "      <td>...</td>\n",
       "      <td>432942.199814</td>\n",
       "      <td>4.102688</td>\n",
       "      <td>Plains</td>\n",
       "      <td>80.0</td>\n",
       "      <td>Provincial</td>\n",
       "      <td>Paved</td>\n",
       "      <td>Paved</td>\n",
       "      <td>Good</td>\n",
       "      <td>None</td>\n",
       "      <td>Good</td>\n",
       "    </tr>\n",
       "    <tr>\n",
       "      <th>2</th>\n",
       "      <td>LINESTRING (750113.667 3781854.106, 750071.618...</td>\n",
       "      <td>Provincial</td>\n",
       "      <td>Asphalt Concrete</td>\n",
       "      <td>None</td>\n",
       "      <td>None</td>\n",
       "      <td>None</td>\n",
       "      <td>None</td>\n",
       "      <td>None</td>\n",
       "      <td>None</td>\n",
       "      <td>All Weather</td>\n",
       "      <td>...</td>\n",
       "      <td>432942.199814</td>\n",
       "      <td>4.102688</td>\n",
       "      <td>Plains</td>\n",
       "      <td>80.0</td>\n",
       "      <td>Provincial</td>\n",
       "      <td>Paved</td>\n",
       "      <td>Paved</td>\n",
       "      <td>Good</td>\n",
       "      <td>None</td>\n",
       "      <td>Good</td>\n",
       "    </tr>\n",
       "    <tr>\n",
       "      <th>3</th>\n",
       "      <td>LINESTRING (748578.407 3780675.967, 748529.082...</td>\n",
       "      <td>Provincial</td>\n",
       "      <td>Asphalt Concrete</td>\n",
       "      <td>None</td>\n",
       "      <td>None</td>\n",
       "      <td>None</td>\n",
       "      <td>None</td>\n",
       "      <td>None</td>\n",
       "      <td>None</td>\n",
       "      <td>All Weather</td>\n",
       "      <td>...</td>\n",
       "      <td>NaN</td>\n",
       "      <td>NaN</td>\n",
       "      <td>Plains</td>\n",
       "      <td>80.0</td>\n",
       "      <td>Provincial</td>\n",
       "      <td>Paved</td>\n",
       "      <td>Paved</td>\n",
       "      <td>Good</td>\n",
       "      <td>None</td>\n",
       "      <td>Good</td>\n",
       "    </tr>\n",
       "    <tr>\n",
       "      <th>4</th>\n",
       "      <td>LINESTRING (747415.585 3779232.688, 747411.570...</td>\n",
       "      <td>Provincial</td>\n",
       "      <td>Asphalt Concrete</td>\n",
       "      <td>None</td>\n",
       "      <td>None</td>\n",
       "      <td>None</td>\n",
       "      <td>None</td>\n",
       "      <td>None</td>\n",
       "      <td>None</td>\n",
       "      <td>All Weather</td>\n",
       "      <td>...</td>\n",
       "      <td>NaN</td>\n",
       "      <td>NaN</td>\n",
       "      <td>Plains</td>\n",
       "      <td>80.0</td>\n",
       "      <td>Provincial</td>\n",
       "      <td>Paved</td>\n",
       "      <td>Paved</td>\n",
       "      <td>Good</td>\n",
       "      <td>None</td>\n",
       "      <td>Good</td>\n",
       "    </tr>\n",
       "  </tbody>\n",
       "</table>\n",
       "<p>5 rows × 27 columns</p>\n",
       "</div>"
      ],
      "text/plain": [
       "                                            geometry  Road_Class  \\\n",
       "0  LINESTRING (753230.065 3782493.432, 753206.004...  Provincial   \n",
       "1  LINESTRING (751720.466 3782845.841, 751693.010...  Provincial   \n",
       "2  LINESTRING (750113.667 3781854.106, 750071.618...  Provincial   \n",
       "3  LINESTRING (748578.407 3780675.967, 748529.082...  Provincial   \n",
       "4  LINESTRING (747415.585 3779232.688, 747411.570...  Provincial   \n",
       "\n",
       "            Surface MNT_Num District_RONET Road_Class_RONET Surface1_RONET  \\\n",
       "0  Asphalt Concrete    None           None             None           None   \n",
       "1  Asphalt Concrete    None           None             None           None   \n",
       "2  Asphalt Concrete    None           None             None           None   \n",
       "3  Asphalt Concrete    None           None             None           None   \n",
       "4  Asphalt Concrete    None           None             None           None   \n",
       "\n",
       "  Road_Condition_RONET Surface2_RONET         TYPE  ...       POP_2015  \\\n",
       "0                 None           None  All Weather  ...  432942.199814   \n",
       "1                 None           None  All Weather  ...  432942.199814   \n",
       "2                 None           None  All Weather  ...  432942.199814   \n",
       "3                 None           None  All Weather  ...            NaN   \n",
       "4                 None           None  All Weather  ...            NaN   \n",
       "\n",
       "    BU_2015  Terrain  base_speed  Temp_Surface Temp_Surface_Consolidated  \\\n",
       "0  4.102688   Plains        80.0    Provincial                     Paved   \n",
       "1  4.102688   Plains        80.0    Provincial                     Paved   \n",
       "2  4.102688   Plains        80.0    Provincial                     Paved   \n",
       "3       NaN   Plains        80.0    Provincial                     Paved   \n",
       "4       NaN   Plains        80.0    Provincial                     Paved   \n",
       "\n",
       "  Surface_Final  default_road_cond1  default_road_cond2 Temp_Road_Cond  \n",
       "0         Paved                Good                None           Good  \n",
       "1         Paved                Good                None           Good  \n",
       "2         Paved                Good                None           Good  \n",
       "3         Paved                Good                None           Good  \n",
       "4         Paved                Good                None           Good  \n",
       "\n",
       "[5 rows x 27 columns]"
      ]
     },
     "execution_count": 113,
     "metadata": {},
     "output_type": "execute_result"
    }
   ],
   "source": [
    "master.head()"
   ]
  },
  {
   "cell_type": "code",
   "execution_count": 114,
   "metadata": {},
   "outputs": [
    {
     "data": {
      "text/plain": [
       "array([None, 'Good', 'Fair', 'Poor', 'poor', nan], dtype=object)"
      ]
     },
     "execution_count": 114,
     "metadata": {},
     "output_type": "execute_result"
    }
   ],
   "source": [
    "master.Road_Condition_RONET.unique()"
   ]
  },
  {
   "cell_type": "code",
   "execution_count": 115,
   "metadata": {},
   "outputs": [],
   "source": [
    "master['Road_Condition_RONET'] = np.where(master['Road_Condition_RONET'] == 'poor','Poor', master['Road_Condition_RONET'])"
   ]
  },
  {
   "cell_type": "code",
   "execution_count": 116,
   "metadata": {},
   "outputs": [],
   "source": [
    "master['Road_Cond_Final'] = np.where((master['Road_Condition_RONET'].isnull()==False),master['Road_Condition_RONET'],master['Temp_Road_Cond'])"
   ]
  },
  {
   "cell_type": "code",
   "execution_count": 117,
   "metadata": {},
   "outputs": [
    {
     "data": {
      "text/plain": [
       "array(['Good', 'Fair', 'Poor', '0'], dtype=object)"
      ]
     },
     "execution_count": 117,
     "metadata": {},
     "output_type": "execute_result"
    }
   ],
   "source": [
    "master.Road_Cond_Final.unique()"
   ]
  },
  {
   "cell_type": "code",
   "execution_count": 118,
   "metadata": {},
   "outputs": [
    {
     "data": {
      "text/html": [
       "<div>\n",
       "<style scoped>\n",
       "    .dataframe tbody tr th:only-of-type {\n",
       "        vertical-align: middle;\n",
       "    }\n",
       "\n",
       "    .dataframe tbody tr th {\n",
       "        vertical-align: top;\n",
       "    }\n",
       "\n",
       "    .dataframe thead th {\n",
       "        text-align: right;\n",
       "    }\n",
       "</style>\n",
       "<table border=\"1\" class=\"dataframe\">\n",
       "  <thead>\n",
       "    <tr style=\"text-align: right;\">\n",
       "      <th></th>\n",
       "      <th>geometry</th>\n",
       "      <th>Road_Class</th>\n",
       "      <th>Surface</th>\n",
       "      <th>MNT_Num</th>\n",
       "      <th>District_RONET</th>\n",
       "      <th>Road_Class_RONET</th>\n",
       "      <th>Surface1_RONET</th>\n",
       "      <th>Road_Condition_RONET</th>\n",
       "      <th>Surface2_RONET</th>\n",
       "      <th>TYPE</th>\n",
       "      <th>...</th>\n",
       "      <th>BU_2015</th>\n",
       "      <th>Terrain</th>\n",
       "      <th>base_speed</th>\n",
       "      <th>Temp_Surface</th>\n",
       "      <th>Temp_Surface_Consolidated</th>\n",
       "      <th>Surface_Final</th>\n",
       "      <th>default_road_cond1</th>\n",
       "      <th>default_road_cond2</th>\n",
       "      <th>Temp_Road_Cond</th>\n",
       "      <th>Road_Cond_Final</th>\n",
       "    </tr>\n",
       "  </thead>\n",
       "  <tbody>\n",
       "    <tr>\n",
       "      <th>0</th>\n",
       "      <td>LINESTRING (753230.065 3782493.432, 753206.004...</td>\n",
       "      <td>Provincial</td>\n",
       "      <td>Asphalt Concrete</td>\n",
       "      <td>None</td>\n",
       "      <td>None</td>\n",
       "      <td>None</td>\n",
       "      <td>None</td>\n",
       "      <td>None</td>\n",
       "      <td>None</td>\n",
       "      <td>All Weather</td>\n",
       "      <td>...</td>\n",
       "      <td>4.102688</td>\n",
       "      <td>Plains</td>\n",
       "      <td>80.0</td>\n",
       "      <td>Provincial</td>\n",
       "      <td>Paved</td>\n",
       "      <td>Paved</td>\n",
       "      <td>Good</td>\n",
       "      <td>None</td>\n",
       "      <td>Good</td>\n",
       "      <td>Good</td>\n",
       "    </tr>\n",
       "    <tr>\n",
       "      <th>1</th>\n",
       "      <td>LINESTRING (751720.466 3782845.841, 751693.010...</td>\n",
       "      <td>Provincial</td>\n",
       "      <td>Asphalt Concrete</td>\n",
       "      <td>None</td>\n",
       "      <td>None</td>\n",
       "      <td>None</td>\n",
       "      <td>None</td>\n",
       "      <td>None</td>\n",
       "      <td>None</td>\n",
       "      <td>All Weather</td>\n",
       "      <td>...</td>\n",
       "      <td>4.102688</td>\n",
       "      <td>Plains</td>\n",
       "      <td>80.0</td>\n",
       "      <td>Provincial</td>\n",
       "      <td>Paved</td>\n",
       "      <td>Paved</td>\n",
       "      <td>Good</td>\n",
       "      <td>None</td>\n",
       "      <td>Good</td>\n",
       "      <td>Good</td>\n",
       "    </tr>\n",
       "    <tr>\n",
       "      <th>2</th>\n",
       "      <td>LINESTRING (750113.667 3781854.106, 750071.618...</td>\n",
       "      <td>Provincial</td>\n",
       "      <td>Asphalt Concrete</td>\n",
       "      <td>None</td>\n",
       "      <td>None</td>\n",
       "      <td>None</td>\n",
       "      <td>None</td>\n",
       "      <td>None</td>\n",
       "      <td>None</td>\n",
       "      <td>All Weather</td>\n",
       "      <td>...</td>\n",
       "      <td>4.102688</td>\n",
       "      <td>Plains</td>\n",
       "      <td>80.0</td>\n",
       "      <td>Provincial</td>\n",
       "      <td>Paved</td>\n",
       "      <td>Paved</td>\n",
       "      <td>Good</td>\n",
       "      <td>None</td>\n",
       "      <td>Good</td>\n",
       "      <td>Good</td>\n",
       "    </tr>\n",
       "    <tr>\n",
       "      <th>3</th>\n",
       "      <td>LINESTRING (748578.407 3780675.967, 748529.082...</td>\n",
       "      <td>Provincial</td>\n",
       "      <td>Asphalt Concrete</td>\n",
       "      <td>None</td>\n",
       "      <td>None</td>\n",
       "      <td>None</td>\n",
       "      <td>None</td>\n",
       "      <td>None</td>\n",
       "      <td>None</td>\n",
       "      <td>All Weather</td>\n",
       "      <td>...</td>\n",
       "      <td>NaN</td>\n",
       "      <td>Plains</td>\n",
       "      <td>80.0</td>\n",
       "      <td>Provincial</td>\n",
       "      <td>Paved</td>\n",
       "      <td>Paved</td>\n",
       "      <td>Good</td>\n",
       "      <td>None</td>\n",
       "      <td>Good</td>\n",
       "      <td>Good</td>\n",
       "    </tr>\n",
       "    <tr>\n",
       "      <th>4</th>\n",
       "      <td>LINESTRING (747415.585 3779232.688, 747411.570...</td>\n",
       "      <td>Provincial</td>\n",
       "      <td>Asphalt Concrete</td>\n",
       "      <td>None</td>\n",
       "      <td>None</td>\n",
       "      <td>None</td>\n",
       "      <td>None</td>\n",
       "      <td>None</td>\n",
       "      <td>None</td>\n",
       "      <td>All Weather</td>\n",
       "      <td>...</td>\n",
       "      <td>NaN</td>\n",
       "      <td>Plains</td>\n",
       "      <td>80.0</td>\n",
       "      <td>Provincial</td>\n",
       "      <td>Paved</td>\n",
       "      <td>Paved</td>\n",
       "      <td>Good</td>\n",
       "      <td>None</td>\n",
       "      <td>Good</td>\n",
       "      <td>Good</td>\n",
       "    </tr>\n",
       "  </tbody>\n",
       "</table>\n",
       "<p>5 rows × 28 columns</p>\n",
       "</div>"
      ],
      "text/plain": [
       "                                            geometry  Road_Class  \\\n",
       "0  LINESTRING (753230.065 3782493.432, 753206.004...  Provincial   \n",
       "1  LINESTRING (751720.466 3782845.841, 751693.010...  Provincial   \n",
       "2  LINESTRING (750113.667 3781854.106, 750071.618...  Provincial   \n",
       "3  LINESTRING (748578.407 3780675.967, 748529.082...  Provincial   \n",
       "4  LINESTRING (747415.585 3779232.688, 747411.570...  Provincial   \n",
       "\n",
       "            Surface MNT_Num District_RONET Road_Class_RONET Surface1_RONET  \\\n",
       "0  Asphalt Concrete    None           None             None           None   \n",
       "1  Asphalt Concrete    None           None             None           None   \n",
       "2  Asphalt Concrete    None           None             None           None   \n",
       "3  Asphalt Concrete    None           None             None           None   \n",
       "4  Asphalt Concrete    None           None             None           None   \n",
       "\n",
       "  Road_Condition_RONET Surface2_RONET         TYPE  ...   BU_2015  Terrain  \\\n",
       "0                 None           None  All Weather  ...  4.102688   Plains   \n",
       "1                 None           None  All Weather  ...  4.102688   Plains   \n",
       "2                 None           None  All Weather  ...  4.102688   Plains   \n",
       "3                 None           None  All Weather  ...       NaN   Plains   \n",
       "4                 None           None  All Weather  ...       NaN   Plains   \n",
       "\n",
       "   base_speed  Temp_Surface  Temp_Surface_Consolidated Surface_Final  \\\n",
       "0        80.0    Provincial                      Paved         Paved   \n",
       "1        80.0    Provincial                      Paved         Paved   \n",
       "2        80.0    Provincial                      Paved         Paved   \n",
       "3        80.0    Provincial                      Paved         Paved   \n",
       "4        80.0    Provincial                      Paved         Paved   \n",
       "\n",
       "  default_road_cond1  default_road_cond2  Temp_Road_Cond Road_Cond_Final  \n",
       "0               Good                None            Good            Good  \n",
       "1               Good                None            Good            Good  \n",
       "2               Good                None            Good            Good  \n",
       "3               Good                None            Good            Good  \n",
       "4               Good                None            Good            Good  \n",
       "\n",
       "[5 rows x 28 columns]"
      ]
     },
     "execution_count": 118,
     "metadata": {},
     "output_type": "execute_result"
    }
   ],
   "source": [
    "master.head()"
   ]
  },
  {
   "cell_type": "markdown",
   "metadata": {},
   "source": [
    "### Calculate speeds"
   ]
  },
  {
   "cell_type": "code",
   "execution_count": 119,
   "metadata": {},
   "outputs": [],
   "source": [
    "speed_adj_class_filter = [master['Surface_Final'].str.contains('Earthen') & master['Road_Cond_Final'].str.contains('Good'),    \n",
    "    master['Surface_Final'].str.contains('Earthen') & master['Road_Cond_Final'].str.contains('Fair'),    \n",
    "    master['Surface_Final'].str.contains('Earthen') & master['Road_Cond_Final'].str.contains('Poor'),\n",
    "    master['Surface_Final'].str.contains('Gravel') & master['Road_Cond_Final'].str.contains('Good'),    \n",
    "    master['Surface_Final'].str.contains('Gravel') & master['Road_Cond_Final'].str.contains('Fair'),    \n",
    "    master['Surface_Final'].str.contains('Gravel') & master['Road_Cond_Final'].str.contains('Poor'),\n",
    "    master['Surface_Final'].str.contains('Paved') & master['Road_Cond_Final'].str.contains('Good'),    \n",
    "    master['Surface_Final'].str.contains('Paved') & master['Road_Cond_Final'].str.contains('Fair'),    \n",
    "    master['Surface_Final'].str.contains('Paved') & master['Road_Cond_Final'].str.contains('Poor')]"
   ]
  },
  {
   "cell_type": "markdown",
   "metadata": {},
   "source": [
    "Dry season modeling: dry season speeds should also be (less dramatically) modified by the surface/class combination."
   ]
  },
  {
   "cell_type": "code",
   "execution_count": 120,
   "metadata": {},
   "outputs": [],
   "source": [
    "# Corresponding list of dry season speed modifiers, with line breaks by terrain type for editing and readability\n",
    "\n",
    "dry_mods_lst = [ 0.6, 0.5, 0.4,\\\n",
    "                 0.75, 0.6, 0.5,\\\n",
    "                 1, 0.8, 0.6 ]\n",
    "\n",
    "master['dry_mod'] = np.select(speed_adj_class_filter,dry_mods_lst,default=0.5) # very low default as path speeds will be re-calculated separately using terrain down the road\n",
    "master['dry_speed'] = master.dry_mod * master.base_speed"
   ]
  },
  {
   "cell_type": "markdown",
   "metadata": {},
   "source": [
    "Generate monsoon season speed based on terrain category, road type, and surface"
   ]
  },
  {
   "cell_type": "code",
   "execution_count": 121,
   "metadata": {},
   "outputs": [],
   "source": [
    "# Corresponding list of monsoon speed modifiers, with line breaks by terrain type for editing and readability\n",
    "\n",
    "msn_mods_lst = [ 0.4, 0.3, 0.2,\\\n",
    "                 0.7, 0.5, 0.4,\\\n",
    "                 0.9, 0.75, 0.5 ]\n"
   ]
  },
  {
   "cell_type": "code",
   "execution_count": 122,
   "metadata": {},
   "outputs": [],
   "source": [
    "master['msn_mod'] = np.select(speed_adj_class_filter,msn_mods_lst,default=0.5) \n",
    "# very low default as path speeds will be re-calculated separately using terrain down the road"
   ]
  },
  {
   "cell_type": "code",
   "execution_count": 123,
   "metadata": {},
   "outputs": [],
   "source": [
    "master['msn_speed'] = master.msn_mod * master.base_speed"
   ]
  },
  {
   "cell_type": "code",
   "execution_count": 124,
   "metadata": {},
   "outputs": [
    {
     "data": {
      "text/html": [
       "<div>\n",
       "<style scoped>\n",
       "    .dataframe tbody tr th:only-of-type {\n",
       "        vertical-align: middle;\n",
       "    }\n",
       "\n",
       "    .dataframe tbody tr th {\n",
       "        vertical-align: top;\n",
       "    }\n",
       "\n",
       "    .dataframe thead th {\n",
       "        text-align: right;\n",
       "    }\n",
       "</style>\n",
       "<table border=\"1\" class=\"dataframe\">\n",
       "  <thead>\n",
       "    <tr style=\"text-align: right;\">\n",
       "      <th></th>\n",
       "      <th>geometry</th>\n",
       "      <th>Road_Class</th>\n",
       "      <th>Surface</th>\n",
       "      <th>MNT_Num</th>\n",
       "      <th>District_RONET</th>\n",
       "      <th>Road_Class_RONET</th>\n",
       "      <th>Surface1_RONET</th>\n",
       "      <th>Road_Condition_RONET</th>\n",
       "      <th>Surface2_RONET</th>\n",
       "      <th>TYPE</th>\n",
       "      <th>...</th>\n",
       "      <th>Temp_Surface_Consolidated</th>\n",
       "      <th>Surface_Final</th>\n",
       "      <th>default_road_cond1</th>\n",
       "      <th>default_road_cond2</th>\n",
       "      <th>Temp_Road_Cond</th>\n",
       "      <th>Road_Cond_Final</th>\n",
       "      <th>dry_mod</th>\n",
       "      <th>dry_speed</th>\n",
       "      <th>msn_mod</th>\n",
       "      <th>msn_speed</th>\n",
       "    </tr>\n",
       "  </thead>\n",
       "  <tbody>\n",
       "    <tr>\n",
       "      <th>0</th>\n",
       "      <td>LINESTRING (753230.065 3782493.432, 753206.004...</td>\n",
       "      <td>Provincial</td>\n",
       "      <td>Asphalt Concrete</td>\n",
       "      <td>None</td>\n",
       "      <td>None</td>\n",
       "      <td>None</td>\n",
       "      <td>None</td>\n",
       "      <td>None</td>\n",
       "      <td>None</td>\n",
       "      <td>All Weather</td>\n",
       "      <td>...</td>\n",
       "      <td>Paved</td>\n",
       "      <td>Paved</td>\n",
       "      <td>Good</td>\n",
       "      <td>None</td>\n",
       "      <td>Good</td>\n",
       "      <td>Good</td>\n",
       "      <td>1.0</td>\n",
       "      <td>80.0</td>\n",
       "      <td>0.9</td>\n",
       "      <td>72.0</td>\n",
       "    </tr>\n",
       "    <tr>\n",
       "      <th>1</th>\n",
       "      <td>LINESTRING (751720.466 3782845.841, 751693.010...</td>\n",
       "      <td>Provincial</td>\n",
       "      <td>Asphalt Concrete</td>\n",
       "      <td>None</td>\n",
       "      <td>None</td>\n",
       "      <td>None</td>\n",
       "      <td>None</td>\n",
       "      <td>None</td>\n",
       "      <td>None</td>\n",
       "      <td>All Weather</td>\n",
       "      <td>...</td>\n",
       "      <td>Paved</td>\n",
       "      <td>Paved</td>\n",
       "      <td>Good</td>\n",
       "      <td>None</td>\n",
       "      <td>Good</td>\n",
       "      <td>Good</td>\n",
       "      <td>1.0</td>\n",
       "      <td>80.0</td>\n",
       "      <td>0.9</td>\n",
       "      <td>72.0</td>\n",
       "    </tr>\n",
       "    <tr>\n",
       "      <th>2</th>\n",
       "      <td>LINESTRING (750113.667 3781854.106, 750071.618...</td>\n",
       "      <td>Provincial</td>\n",
       "      <td>Asphalt Concrete</td>\n",
       "      <td>None</td>\n",
       "      <td>None</td>\n",
       "      <td>None</td>\n",
       "      <td>None</td>\n",
       "      <td>None</td>\n",
       "      <td>None</td>\n",
       "      <td>All Weather</td>\n",
       "      <td>...</td>\n",
       "      <td>Paved</td>\n",
       "      <td>Paved</td>\n",
       "      <td>Good</td>\n",
       "      <td>None</td>\n",
       "      <td>Good</td>\n",
       "      <td>Good</td>\n",
       "      <td>1.0</td>\n",
       "      <td>80.0</td>\n",
       "      <td>0.9</td>\n",
       "      <td>72.0</td>\n",
       "    </tr>\n",
       "    <tr>\n",
       "      <th>3</th>\n",
       "      <td>LINESTRING (748578.407 3780675.967, 748529.082...</td>\n",
       "      <td>Provincial</td>\n",
       "      <td>Asphalt Concrete</td>\n",
       "      <td>None</td>\n",
       "      <td>None</td>\n",
       "      <td>None</td>\n",
       "      <td>None</td>\n",
       "      <td>None</td>\n",
       "      <td>None</td>\n",
       "      <td>All Weather</td>\n",
       "      <td>...</td>\n",
       "      <td>Paved</td>\n",
       "      <td>Paved</td>\n",
       "      <td>Good</td>\n",
       "      <td>None</td>\n",
       "      <td>Good</td>\n",
       "      <td>Good</td>\n",
       "      <td>1.0</td>\n",
       "      <td>80.0</td>\n",
       "      <td>0.9</td>\n",
       "      <td>72.0</td>\n",
       "    </tr>\n",
       "    <tr>\n",
       "      <th>4</th>\n",
       "      <td>LINESTRING (747415.585 3779232.688, 747411.570...</td>\n",
       "      <td>Provincial</td>\n",
       "      <td>Asphalt Concrete</td>\n",
       "      <td>None</td>\n",
       "      <td>None</td>\n",
       "      <td>None</td>\n",
       "      <td>None</td>\n",
       "      <td>None</td>\n",
       "      <td>None</td>\n",
       "      <td>All Weather</td>\n",
       "      <td>...</td>\n",
       "      <td>Paved</td>\n",
       "      <td>Paved</td>\n",
       "      <td>Good</td>\n",
       "      <td>None</td>\n",
       "      <td>Good</td>\n",
       "      <td>Good</td>\n",
       "      <td>1.0</td>\n",
       "      <td>80.0</td>\n",
       "      <td>0.9</td>\n",
       "      <td>72.0</td>\n",
       "    </tr>\n",
       "  </tbody>\n",
       "</table>\n",
       "<p>5 rows × 32 columns</p>\n",
       "</div>"
      ],
      "text/plain": [
       "                                            geometry  Road_Class  \\\n",
       "0  LINESTRING (753230.065 3782493.432, 753206.004...  Provincial   \n",
       "1  LINESTRING (751720.466 3782845.841, 751693.010...  Provincial   \n",
       "2  LINESTRING (750113.667 3781854.106, 750071.618...  Provincial   \n",
       "3  LINESTRING (748578.407 3780675.967, 748529.082...  Provincial   \n",
       "4  LINESTRING (747415.585 3779232.688, 747411.570...  Provincial   \n",
       "\n",
       "            Surface MNT_Num District_RONET Road_Class_RONET Surface1_RONET  \\\n",
       "0  Asphalt Concrete    None           None             None           None   \n",
       "1  Asphalt Concrete    None           None             None           None   \n",
       "2  Asphalt Concrete    None           None             None           None   \n",
       "3  Asphalt Concrete    None           None             None           None   \n",
       "4  Asphalt Concrete    None           None             None           None   \n",
       "\n",
       "  Road_Condition_RONET Surface2_RONET         TYPE  ...  \\\n",
       "0                 None           None  All Weather  ...   \n",
       "1                 None           None  All Weather  ...   \n",
       "2                 None           None  All Weather  ...   \n",
       "3                 None           None  All Weather  ...   \n",
       "4                 None           None  All Weather  ...   \n",
       "\n",
       "   Temp_Surface_Consolidated  Surface_Final  default_road_cond1  \\\n",
       "0                      Paved          Paved                Good   \n",
       "1                      Paved          Paved                Good   \n",
       "2                      Paved          Paved                Good   \n",
       "3                      Paved          Paved                Good   \n",
       "4                      Paved          Paved                Good   \n",
       "\n",
       "   default_road_cond2  Temp_Road_Cond Road_Cond_Final dry_mod  dry_speed  \\\n",
       "0                None            Good            Good     1.0       80.0   \n",
       "1                None            Good            Good     1.0       80.0   \n",
       "2                None            Good            Good     1.0       80.0   \n",
       "3                None            Good            Good     1.0       80.0   \n",
       "4                None            Good            Good     1.0       80.0   \n",
       "\n",
       "   msn_mod msn_speed  \n",
       "0      0.9      72.0  \n",
       "1      0.9      72.0  \n",
       "2      0.9      72.0  \n",
       "3      0.9      72.0  \n",
       "4      0.9      72.0  \n",
       "\n",
       "[5 rows x 32 columns]"
      ]
     },
     "execution_count": 124,
     "metadata": {},
     "output_type": "execute_result"
    }
   ],
   "source": [
    "master.head()"
   ]
  },
  {
   "cell_type": "markdown",
   "metadata": {},
   "source": [
    "Winter Speed Modelling"
   ]
  },
  {
   "cell_type": "code",
   "execution_count": 125,
   "metadata": {},
   "outputs": [],
   "source": [
    "# List of winter speed modifiers, with line breaks by terrain type for editing and readability\n",
    "winter_mods_lst = [ 0.4, 0.3, 0.2,\\\n",
    "                    0.7, 0.5, 0.4,\\\n",
    "                    1, 0.75, 0.5 ]\n"
   ]
  },
  {
   "cell_type": "code",
   "execution_count": 126,
   "metadata": {},
   "outputs": [],
   "source": [
    "master['winter_mod'] = np.select(speed_adj_class_filter,winter_mods_lst,default=0.5) "
   ]
  },
  {
   "cell_type": "code",
   "execution_count": 130,
   "metadata": {},
   "outputs": [],
   "source": [
    "# Define which winter mods to apply to which road based on their terrain\n",
    "\n",
    "winter_cutoff_lst = [master['Terrain'] == 'Plains', \\\n",
    "                     master['Terrain'] == 'Hills', \\\n",
    "                     master['Terrain'] == 'Mountains']"
   ]
  },
  {
   "cell_type": "code",
   "execution_count": 127,
   "metadata": {},
   "outputs": [],
   "source": [
    "# Corresponding list of monsoon speed modifiers, with line breaks by terrain type for editing and readability\n",
    "\n",
    "winter_mods_lst = [ 0.4, 0.3, 0.2,\\\n",
    "                    0.7, 0.5, 0.4,\\\n",
    "                    1, 0.75, 0.5,\n",
    "                    1, 0.9, 0.75]"
   ]
  },
  {
   "cell_type": "code",
   "execution_count": 128,
   "metadata": {},
   "outputs": [],
   "source": [
    "winter_mod_revised =  [ master['dry_speed'], \\\n",
    "                       (master['dry_speed'] * (master['winter_mod'] + (1 - master['winter_mod']) /2) ), \\\n",
    "                       (master['base_speed'] * master['winter_mod'])]"
   ]
  },
  {
   "cell_type": "code",
   "execution_count": 131,
   "metadata": {},
   "outputs": [],
   "source": [
    "master['winter_speed'] = np.select(winter_cutoff_lst, winter_mod_revised, default=master['dry_speed'])"
   ]
  },
  {
   "cell_type": "code",
   "execution_count": 132,
   "metadata": {},
   "outputs": [],
   "source": [
    "master['winter_speed_final'] = np.where((master['TYPE'] == 'Snow Bound'), (master['dry_speed'] * master['winter_mod']), master['winter_speed'])"
   ]
  },
  {
   "cell_type": "code",
   "execution_count": 133,
   "metadata": {},
   "outputs": [
    {
     "data": {
      "text/html": [
       "<div>\n",
       "<style scoped>\n",
       "    .dataframe tbody tr th:only-of-type {\n",
       "        vertical-align: middle;\n",
       "    }\n",
       "\n",
       "    .dataframe tbody tr th {\n",
       "        vertical-align: top;\n",
       "    }\n",
       "\n",
       "    .dataframe thead th {\n",
       "        text-align: right;\n",
       "    }\n",
       "</style>\n",
       "<table border=\"1\" class=\"dataframe\">\n",
       "  <thead>\n",
       "    <tr style=\"text-align: right;\">\n",
       "      <th></th>\n",
       "      <th>geometry</th>\n",
       "      <th>Road_Class</th>\n",
       "      <th>Surface</th>\n",
       "      <th>MNT_Num</th>\n",
       "      <th>District_RONET</th>\n",
       "      <th>Road_Class_RONET</th>\n",
       "      <th>Surface1_RONET</th>\n",
       "      <th>Road_Condition_RONET</th>\n",
       "      <th>Surface2_RONET</th>\n",
       "      <th>TYPE</th>\n",
       "      <th>...</th>\n",
       "      <th>default_road_cond2</th>\n",
       "      <th>Temp_Road_Cond</th>\n",
       "      <th>Road_Cond_Final</th>\n",
       "      <th>dry_mod</th>\n",
       "      <th>dry_speed</th>\n",
       "      <th>msn_mod</th>\n",
       "      <th>msn_speed</th>\n",
       "      <th>winter_mod</th>\n",
       "      <th>winter_speed</th>\n",
       "      <th>winter_speed_final</th>\n",
       "    </tr>\n",
       "  </thead>\n",
       "  <tbody>\n",
       "    <tr>\n",
       "      <th>0</th>\n",
       "      <td>LINESTRING (753230.065 3782493.432, 753206.004...</td>\n",
       "      <td>Provincial</td>\n",
       "      <td>Asphalt Concrete</td>\n",
       "      <td>None</td>\n",
       "      <td>None</td>\n",
       "      <td>None</td>\n",
       "      <td>None</td>\n",
       "      <td>None</td>\n",
       "      <td>None</td>\n",
       "      <td>All Weather</td>\n",
       "      <td>...</td>\n",
       "      <td>None</td>\n",
       "      <td>Good</td>\n",
       "      <td>Good</td>\n",
       "      <td>1.0</td>\n",
       "      <td>80.0</td>\n",
       "      <td>0.9</td>\n",
       "      <td>72.0</td>\n",
       "      <td>1.0</td>\n",
       "      <td>80.0</td>\n",
       "      <td>80.0</td>\n",
       "    </tr>\n",
       "    <tr>\n",
       "      <th>1</th>\n",
       "      <td>LINESTRING (751720.466 3782845.841, 751693.010...</td>\n",
       "      <td>Provincial</td>\n",
       "      <td>Asphalt Concrete</td>\n",
       "      <td>None</td>\n",
       "      <td>None</td>\n",
       "      <td>None</td>\n",
       "      <td>None</td>\n",
       "      <td>None</td>\n",
       "      <td>None</td>\n",
       "      <td>All Weather</td>\n",
       "      <td>...</td>\n",
       "      <td>None</td>\n",
       "      <td>Good</td>\n",
       "      <td>Good</td>\n",
       "      <td>1.0</td>\n",
       "      <td>80.0</td>\n",
       "      <td>0.9</td>\n",
       "      <td>72.0</td>\n",
       "      <td>1.0</td>\n",
       "      <td>80.0</td>\n",
       "      <td>80.0</td>\n",
       "    </tr>\n",
       "  </tbody>\n",
       "</table>\n",
       "<p>2 rows × 35 columns</p>\n",
       "</div>"
      ],
      "text/plain": [
       "                                            geometry  Road_Class  \\\n",
       "0  LINESTRING (753230.065 3782493.432, 753206.004...  Provincial   \n",
       "1  LINESTRING (751720.466 3782845.841, 751693.010...  Provincial   \n",
       "\n",
       "            Surface MNT_Num District_RONET Road_Class_RONET Surface1_RONET  \\\n",
       "0  Asphalt Concrete    None           None             None           None   \n",
       "1  Asphalt Concrete    None           None             None           None   \n",
       "\n",
       "  Road_Condition_RONET Surface2_RONET         TYPE  ...  default_road_cond2  \\\n",
       "0                 None           None  All Weather  ...                None   \n",
       "1                 None           None  All Weather  ...                None   \n",
       "\n",
       "   Temp_Road_Cond  Road_Cond_Final  dry_mod  dry_speed msn_mod msn_speed  \\\n",
       "0            Good             Good      1.0       80.0     0.9      72.0   \n",
       "1            Good             Good      1.0       80.0     0.9      72.0   \n",
       "\n",
       "   winter_mod  winter_speed winter_speed_final  \n",
       "0         1.0          80.0               80.0  \n",
       "1         1.0          80.0               80.0  \n",
       "\n",
       "[2 rows x 35 columns]"
      ]
     },
     "execution_count": 133,
     "metadata": {},
     "output_type": "execute_result"
    }
   ],
   "source": [
    "master.head(2)"
   ]
  },
  {
   "cell_type": "code",
   "execution_count": 119,
   "metadata": {},
   "outputs": [
    {
     "data": {
      "text/html": [
       "<div>\n",
       "<style scoped>\n",
       "    .dataframe tbody tr th:only-of-type {\n",
       "        vertical-align: middle;\n",
       "    }\n",
       "\n",
       "    .dataframe tbody tr th {\n",
       "        vertical-align: top;\n",
       "    }\n",
       "\n",
       "    .dataframe thead th {\n",
       "        text-align: right;\n",
       "    }\n",
       "</style>\n",
       "<table border=\"1\" class=\"dataframe\">\n",
       "  <thead>\n",
       "    <tr style=\"text-align: right;\">\n",
       "      <th></th>\n",
       "      <th>geometry</th>\n",
       "      <th>Road_Class</th>\n",
       "      <th>Surface</th>\n",
       "      <th>MNT_Num</th>\n",
       "      <th>District_RONET</th>\n",
       "      <th>Road_Class_RONET</th>\n",
       "      <th>Surface1_RONET</th>\n",
       "      <th>Road_Condition_RONET</th>\n",
       "      <th>Surface2_RONET</th>\n",
       "      <th>TYPE</th>\n",
       "      <th>...</th>\n",
       "      <th>default_road_cond1</th>\n",
       "      <th>default_road_cond2</th>\n",
       "      <th>Temp_Road_Cond</th>\n",
       "      <th>Road_Cond_Final</th>\n",
       "      <th>msn_mod</th>\n",
       "      <th>msn_speed</th>\n",
       "      <th>winter_mod</th>\n",
       "      <th>winter_speed</th>\n",
       "      <th>winter_speed_final</th>\n",
       "      <th>dry_mod</th>\n",
       "    </tr>\n",
       "  </thead>\n",
       "  <tbody>\n",
       "    <tr>\n",
       "      <th>0</th>\n",
       "      <td>LINESTRING (753230.065 3782493.432, 753206.004...</td>\n",
       "      <td>Provincial</td>\n",
       "      <td>Asphalt Concrete</td>\n",
       "      <td>None</td>\n",
       "      <td>None</td>\n",
       "      <td>None</td>\n",
       "      <td>None</td>\n",
       "      <td>None</td>\n",
       "      <td>None</td>\n",
       "      <td>All Weather</td>\n",
       "      <td>...</td>\n",
       "      <td>Good</td>\n",
       "      <td>None</td>\n",
       "      <td>Good</td>\n",
       "      <td>Good</td>\n",
       "      <td>0.9</td>\n",
       "      <td>72.0</td>\n",
       "      <td>1.0</td>\n",
       "      <td>80.0</td>\n",
       "      <td>80.0</td>\n",
       "      <td>1.0</td>\n",
       "    </tr>\n",
       "    <tr>\n",
       "      <th>1</th>\n",
       "      <td>LINESTRING (751720.466 3782845.841, 751693.010...</td>\n",
       "      <td>Provincial</td>\n",
       "      <td>Asphalt Concrete</td>\n",
       "      <td>None</td>\n",
       "      <td>None</td>\n",
       "      <td>None</td>\n",
       "      <td>None</td>\n",
       "      <td>None</td>\n",
       "      <td>None</td>\n",
       "      <td>All Weather</td>\n",
       "      <td>...</td>\n",
       "      <td>Good</td>\n",
       "      <td>None</td>\n",
       "      <td>Good</td>\n",
       "      <td>Good</td>\n",
       "      <td>0.9</td>\n",
       "      <td>72.0</td>\n",
       "      <td>1.0</td>\n",
       "      <td>80.0</td>\n",
       "      <td>80.0</td>\n",
       "      <td>1.0</td>\n",
       "    </tr>\n",
       "  </tbody>\n",
       "</table>\n",
       "<p>2 rows × 34 columns</p>\n",
       "</div>"
      ],
      "text/plain": [
       "                                            geometry  Road_Class  \\\n",
       "0  LINESTRING (753230.065 3782493.432, 753206.004...  Provincial   \n",
       "1  LINESTRING (751720.466 3782845.841, 751693.010...  Provincial   \n",
       "\n",
       "            Surface MNT_Num District_RONET Road_Class_RONET Surface1_RONET  \\\n",
       "0  Asphalt Concrete    None           None             None           None   \n",
       "1  Asphalt Concrete    None           None             None           None   \n",
       "\n",
       "  Road_Condition_RONET Surface2_RONET         TYPE  ...  default_road_cond1  \\\n",
       "0                 None           None  All Weather  ...                Good   \n",
       "1                 None           None  All Weather  ...                Good   \n",
       "\n",
       "   default_road_cond2  Temp_Road_Cond  Road_Cond_Final  msn_mod msn_speed  \\\n",
       "0                None            Good             Good      0.9      72.0   \n",
       "1                None            Good             Good      0.9      72.0   \n",
       "\n",
       "  winter_mod  winter_speed  winter_speed_final dry_mod  \n",
       "0        1.0          80.0                80.0     1.0  \n",
       "1        1.0          80.0                80.0     1.0  \n",
       "\n",
       "[2 rows x 34 columns]"
      ]
     },
     "execution_count": 119,
     "metadata": {},
     "output_type": "execute_result"
    }
   ],
   "source": [
    "master.head(2)"
   ]
  },
  {
   "cell_type": "markdown",
   "metadata": {},
   "source": [
    "Checking final outputs before export"
   ]
  },
  {
   "cell_type": "code",
   "execution_count": 134,
   "metadata": {},
   "outputs": [
    {
     "data": {
      "text/html": [
       "<div>\n",
       "<style scoped>\n",
       "    .dataframe tbody tr th:only-of-type {\n",
       "        vertical-align: middle;\n",
       "    }\n",
       "\n",
       "    .dataframe tbody tr th {\n",
       "        vertical-align: top;\n",
       "    }\n",
       "\n",
       "    .dataframe thead th {\n",
       "        text-align: right;\n",
       "    }\n",
       "</style>\n",
       "<table border=\"1\" class=\"dataframe\">\n",
       "  <thead>\n",
       "    <tr style=\"text-align: right;\">\n",
       "      <th></th>\n",
       "      <th>geometry</th>\n",
       "      <th>Road_Class</th>\n",
       "      <th>Surface</th>\n",
       "      <th>MNT_Num</th>\n",
       "      <th>District_RONET</th>\n",
       "      <th>Road_Class_RONET</th>\n",
       "      <th>Surface1_RONET</th>\n",
       "      <th>Road_Condition_RONET</th>\n",
       "      <th>Surface2_RONET</th>\n",
       "      <th>TYPE</th>\n",
       "      <th>...</th>\n",
       "      <th>default_road_cond2</th>\n",
       "      <th>Temp_Road_Cond</th>\n",
       "      <th>Road_Cond_Final</th>\n",
       "      <th>dry_mod</th>\n",
       "      <th>dry_speed</th>\n",
       "      <th>msn_mod</th>\n",
       "      <th>msn_speed</th>\n",
       "      <th>winter_mod</th>\n",
       "      <th>winter_speed</th>\n",
       "      <th>winter_speed_final</th>\n",
       "    </tr>\n",
       "  </thead>\n",
       "  <tbody>\n",
       "    <tr>\n",
       "      <th>64</th>\n",
       "      <td>LINESTRING (803050.003 3833579.085, 803046.090...</td>\n",
       "      <td>Provincial</td>\n",
       "      <td>Asphalt Concrete</td>\n",
       "      <td>None</td>\n",
       "      <td>None</td>\n",
       "      <td>None</td>\n",
       "      <td>None</td>\n",
       "      <td>None</td>\n",
       "      <td>None</td>\n",
       "      <td>All Weather</td>\n",
       "      <td>...</td>\n",
       "      <td>None</td>\n",
       "      <td>Fair</td>\n",
       "      <td>Fair</td>\n",
       "      <td>0.8</td>\n",
       "      <td>32.00</td>\n",
       "      <td>0.75</td>\n",
       "      <td>30.00</td>\n",
       "      <td>0.75</td>\n",
       "      <td>30.00</td>\n",
       "      <td>30.00</td>\n",
       "    </tr>\n",
       "    <tr>\n",
       "      <th>65</th>\n",
       "      <td>LINESTRING (801642.023 3834462.783, 801641.695...</td>\n",
       "      <td>Provincial</td>\n",
       "      <td>Asphalt Concrete</td>\n",
       "      <td>None</td>\n",
       "      <td>None</td>\n",
       "      <td>None</td>\n",
       "      <td>None</td>\n",
       "      <td>None</td>\n",
       "      <td>None</td>\n",
       "      <td>All Weather</td>\n",
       "      <td>...</td>\n",
       "      <td>None</td>\n",
       "      <td>Fair</td>\n",
       "      <td>Fair</td>\n",
       "      <td>0.8</td>\n",
       "      <td>32.00</td>\n",
       "      <td>0.75</td>\n",
       "      <td>30.00</td>\n",
       "      <td>0.75</td>\n",
       "      <td>30.00</td>\n",
       "      <td>30.00</td>\n",
       "    </tr>\n",
       "    <tr>\n",
       "      <th>82</th>\n",
       "      <td>LINESTRING (835178.030 3824028.765, 835177.099...</td>\n",
       "      <td>Provincial</td>\n",
       "      <td>Asphalt Concrete</td>\n",
       "      <td>None</td>\n",
       "      <td>None</td>\n",
       "      <td>None</td>\n",
       "      <td>None</td>\n",
       "      <td>None</td>\n",
       "      <td>None</td>\n",
       "      <td>All Weather</td>\n",
       "      <td>...</td>\n",
       "      <td>None</td>\n",
       "      <td>Fair</td>\n",
       "      <td>Fair</td>\n",
       "      <td>0.8</td>\n",
       "      <td>32.00</td>\n",
       "      <td>0.75</td>\n",
       "      <td>30.00</td>\n",
       "      <td>0.75</td>\n",
       "      <td>30.00</td>\n",
       "      <td>30.00</td>\n",
       "    </tr>\n",
       "    <tr>\n",
       "      <th>85</th>\n",
       "      <td>LINESTRING (834238.919 3828953.400, 834223.838...</td>\n",
       "      <td>Provincial</td>\n",
       "      <td>Asphalt Concrete</td>\n",
       "      <td>None</td>\n",
       "      <td>None</td>\n",
       "      <td>None</td>\n",
       "      <td>None</td>\n",
       "      <td>None</td>\n",
       "      <td>None</td>\n",
       "      <td>All Weather</td>\n",
       "      <td>...</td>\n",
       "      <td>None</td>\n",
       "      <td>Fair</td>\n",
       "      <td>Fair</td>\n",
       "      <td>0.8</td>\n",
       "      <td>32.00</td>\n",
       "      <td>0.75</td>\n",
       "      <td>30.00</td>\n",
       "      <td>0.75</td>\n",
       "      <td>30.00</td>\n",
       "      <td>30.00</td>\n",
       "    </tr>\n",
       "    <tr>\n",
       "      <th>93</th>\n",
       "      <td>LINESTRING (834131.623 3837107.352, 834131.250...</td>\n",
       "      <td>Provincial</td>\n",
       "      <td>Asphalt Concrete</td>\n",
       "      <td>None</td>\n",
       "      <td>None</td>\n",
       "      <td>None</td>\n",
       "      <td>None</td>\n",
       "      <td>None</td>\n",
       "      <td>None</td>\n",
       "      <td>All Weather</td>\n",
       "      <td>...</td>\n",
       "      <td>None</td>\n",
       "      <td>Fair</td>\n",
       "      <td>Fair</td>\n",
       "      <td>0.8</td>\n",
       "      <td>32.00</td>\n",
       "      <td>0.75</td>\n",
       "      <td>30.00</td>\n",
       "      <td>0.75</td>\n",
       "      <td>30.00</td>\n",
       "      <td>30.00</td>\n",
       "    </tr>\n",
       "    <tr>\n",
       "      <th>...</th>\n",
       "      <td>...</td>\n",
       "      <td>...</td>\n",
       "      <td>...</td>\n",
       "      <td>...</td>\n",
       "      <td>...</td>\n",
       "      <td>...</td>\n",
       "      <td>...</td>\n",
       "      <td>...</td>\n",
       "      <td>...</td>\n",
       "      <td>...</td>\n",
       "      <td>...</td>\n",
       "      <td>...</td>\n",
       "      <td>...</td>\n",
       "      <td>...</td>\n",
       "      <td>...</td>\n",
       "      <td>...</td>\n",
       "      <td>...</td>\n",
       "      <td>...</td>\n",
       "      <td>...</td>\n",
       "      <td>...</td>\n",
       "      <td>...</td>\n",
       "    </tr>\n",
       "    <tr>\n",
       "      <th>240490</th>\n",
       "      <td>LINESTRING (571285.317 3579510.650, 571279.645...</td>\n",
       "      <td>Path</td>\n",
       "      <td>NaN</td>\n",
       "      <td>NaN</td>\n",
       "      <td>NaN</td>\n",
       "      <td>NaN</td>\n",
       "      <td>NaN</td>\n",
       "      <td>NaN</td>\n",
       "      <td>NaN</td>\n",
       "      <td>NaN</td>\n",
       "      <td>...</td>\n",
       "      <td>None</td>\n",
       "      <td>0</td>\n",
       "      <td>0</td>\n",
       "      <td>0.5</td>\n",
       "      <td>0.25</td>\n",
       "      <td>0.50</td>\n",
       "      <td>0.25</td>\n",
       "      <td>0.50</td>\n",
       "      <td>0.25</td>\n",
       "      <td>0.25</td>\n",
       "    </tr>\n",
       "    <tr>\n",
       "      <th>240573</th>\n",
       "      <td>LINESTRING (591330.750 3664537.974, 591334.168...</td>\n",
       "      <td>Collector</td>\n",
       "      <td>NaN</td>\n",
       "      <td>NaN</td>\n",
       "      <td>NaN</td>\n",
       "      <td>NaN</td>\n",
       "      <td>NaN</td>\n",
       "      <td>NaN</td>\n",
       "      <td>NaN</td>\n",
       "      <td>NaN</td>\n",
       "      <td>...</td>\n",
       "      <td>None</td>\n",
       "      <td>Poor</td>\n",
       "      <td>Poor</td>\n",
       "      <td>0.4</td>\n",
       "      <td>4.00</td>\n",
       "      <td>0.20</td>\n",
       "      <td>2.00</td>\n",
       "      <td>0.20</td>\n",
       "      <td>2.00</td>\n",
       "      <td>2.00</td>\n",
       "    </tr>\n",
       "    <tr>\n",
       "      <th>240581</th>\n",
       "      <td>LINESTRING (591246.055 3666434.685, 591263.459...</td>\n",
       "      <td>Collector</td>\n",
       "      <td>NaN</td>\n",
       "      <td>NaN</td>\n",
       "      <td>NaN</td>\n",
       "      <td>NaN</td>\n",
       "      <td>NaN</td>\n",
       "      <td>NaN</td>\n",
       "      <td>NaN</td>\n",
       "      <td>NaN</td>\n",
       "      <td>...</td>\n",
       "      <td>None</td>\n",
       "      <td>Poor</td>\n",
       "      <td>Poor</td>\n",
       "      <td>0.4</td>\n",
       "      <td>4.00</td>\n",
       "      <td>0.20</td>\n",
       "      <td>2.00</td>\n",
       "      <td>0.20</td>\n",
       "      <td>2.00</td>\n",
       "      <td>2.00</td>\n",
       "    </tr>\n",
       "    <tr>\n",
       "      <th>241005</th>\n",
       "      <td>LINESTRING (862976.543 3717220.595, 862979.892...</td>\n",
       "      <td>Access</td>\n",
       "      <td>NaN</td>\n",
       "      <td>NaN</td>\n",
       "      <td>NaN</td>\n",
       "      <td>NaN</td>\n",
       "      <td>NaN</td>\n",
       "      <td>NaN</td>\n",
       "      <td>NaN</td>\n",
       "      <td>NaN</td>\n",
       "      <td>...</td>\n",
       "      <td>None</td>\n",
       "      <td>Poor</td>\n",
       "      <td>Poor</td>\n",
       "      <td>0.4</td>\n",
       "      <td>8.00</td>\n",
       "      <td>0.20</td>\n",
       "      <td>4.00</td>\n",
       "      <td>0.20</td>\n",
       "      <td>4.00</td>\n",
       "      <td>4.00</td>\n",
       "    </tr>\n",
       "    <tr>\n",
       "      <th>241265</th>\n",
       "      <td>LINESTRING (380585.815 3441103.504, 380564.066...</td>\n",
       "      <td>District</td>\n",
       "      <td>NaN</td>\n",
       "      <td>NaN</td>\n",
       "      <td>NaN</td>\n",
       "      <td>NaN</td>\n",
       "      <td>NaN</td>\n",
       "      <td>NaN</td>\n",
       "      <td>NaN</td>\n",
       "      <td>NaN</td>\n",
       "      <td>...</td>\n",
       "      <td>None</td>\n",
       "      <td>Poor</td>\n",
       "      <td>Poor</td>\n",
       "      <td>0.4</td>\n",
       "      <td>12.00</td>\n",
       "      <td>0.20</td>\n",
       "      <td>6.00</td>\n",
       "      <td>0.20</td>\n",
       "      <td>6.00</td>\n",
       "      <td>6.00</td>\n",
       "    </tr>\n",
       "  </tbody>\n",
       "</table>\n",
       "<p>19434 rows × 35 columns</p>\n",
       "</div>"
      ],
      "text/plain": [
       "                                                 geometry  Road_Class  \\\n",
       "64      LINESTRING (803050.003 3833579.085, 803046.090...  Provincial   \n",
       "65      LINESTRING (801642.023 3834462.783, 801641.695...  Provincial   \n",
       "82      LINESTRING (835178.030 3824028.765, 835177.099...  Provincial   \n",
       "85      LINESTRING (834238.919 3828953.400, 834223.838...  Provincial   \n",
       "93      LINESTRING (834131.623 3837107.352, 834131.250...  Provincial   \n",
       "...                                                   ...         ...   \n",
       "240490  LINESTRING (571285.317 3579510.650, 571279.645...        Path   \n",
       "240573  LINESTRING (591330.750 3664537.974, 591334.168...   Collector   \n",
       "240581  LINESTRING (591246.055 3666434.685, 591263.459...   Collector   \n",
       "241005  LINESTRING (862976.543 3717220.595, 862979.892...      Access   \n",
       "241265  LINESTRING (380585.815 3441103.504, 380564.066...    District   \n",
       "\n",
       "                 Surface MNT_Num District_RONET Road_Class_RONET  \\\n",
       "64      Asphalt Concrete    None           None             None   \n",
       "65      Asphalt Concrete    None           None             None   \n",
       "82      Asphalt Concrete    None           None             None   \n",
       "85      Asphalt Concrete    None           None             None   \n",
       "93      Asphalt Concrete    None           None             None   \n",
       "...                  ...     ...            ...              ...   \n",
       "240490               NaN     NaN            NaN              NaN   \n",
       "240573               NaN     NaN            NaN              NaN   \n",
       "240581               NaN     NaN            NaN              NaN   \n",
       "241005               NaN     NaN            NaN              NaN   \n",
       "241265               NaN     NaN            NaN              NaN   \n",
       "\n",
       "       Surface1_RONET Road_Condition_RONET Surface2_RONET         TYPE  ...  \\\n",
       "64               None                 None           None  All Weather  ...   \n",
       "65               None                 None           None  All Weather  ...   \n",
       "82               None                 None           None  All Weather  ...   \n",
       "85               None                 None           None  All Weather  ...   \n",
       "93               None                 None           None  All Weather  ...   \n",
       "...               ...                  ...            ...          ...  ...   \n",
       "240490            NaN                  NaN            NaN          NaN  ...   \n",
       "240573            NaN                  NaN            NaN          NaN  ...   \n",
       "240581            NaN                  NaN            NaN          NaN  ...   \n",
       "241005            NaN                  NaN            NaN          NaN  ...   \n",
       "241265            NaN                  NaN            NaN          NaN  ...   \n",
       "\n",
       "        default_road_cond2  Temp_Road_Cond  Road_Cond_Final  dry_mod  \\\n",
       "64                    None            Fair             Fair      0.8   \n",
       "65                    None            Fair             Fair      0.8   \n",
       "82                    None            Fair             Fair      0.8   \n",
       "85                    None            Fair             Fair      0.8   \n",
       "93                    None            Fair             Fair      0.8   \n",
       "...                    ...             ...              ...      ...   \n",
       "240490                None               0                0      0.5   \n",
       "240573                None            Poor             Poor      0.4   \n",
       "240581                None            Poor             Poor      0.4   \n",
       "241005                None            Poor             Poor      0.4   \n",
       "241265                None            Poor             Poor      0.4   \n",
       "\n",
       "        dry_speed msn_mod msn_speed  winter_mod  winter_speed  \\\n",
       "64          32.00    0.75     30.00        0.75         30.00   \n",
       "65          32.00    0.75     30.00        0.75         30.00   \n",
       "82          32.00    0.75     30.00        0.75         30.00   \n",
       "85          32.00    0.75     30.00        0.75         30.00   \n",
       "93          32.00    0.75     30.00        0.75         30.00   \n",
       "...           ...     ...       ...         ...           ...   \n",
       "240490       0.25    0.50      0.25        0.50          0.25   \n",
       "240573       4.00    0.20      2.00        0.20          2.00   \n",
       "240581       4.00    0.20      2.00        0.20          2.00   \n",
       "241005       8.00    0.20      4.00        0.20          4.00   \n",
       "241265      12.00    0.20      6.00        0.20          6.00   \n",
       "\n",
       "       winter_speed_final  \n",
       "64                  30.00  \n",
       "65                  30.00  \n",
       "82                  30.00  \n",
       "85                  30.00  \n",
       "93                  30.00  \n",
       "...                   ...  \n",
       "240490               0.25  \n",
       "240573               2.00  \n",
       "240581               2.00  \n",
       "241005               4.00  \n",
       "241265               6.00  \n",
       "\n",
       "[19434 rows x 35 columns]"
      ]
     },
     "execution_count": 134,
     "metadata": {},
     "output_type": "execute_result"
    }
   ],
   "source": [
    "master[master['Terrain'] =='Mountains']"
   ]
  },
  {
   "cell_type": "code",
   "execution_count": 135,
   "metadata": {},
   "outputs": [
    {
     "data": {
      "text/html": [
       "<div>\n",
       "<style scoped>\n",
       "    .dataframe tbody tr th:only-of-type {\n",
       "        vertical-align: middle;\n",
       "    }\n",
       "\n",
       "    .dataframe tbody tr th {\n",
       "        vertical-align: top;\n",
       "    }\n",
       "\n",
       "    .dataframe thead th {\n",
       "        text-align: right;\n",
       "    }\n",
       "</style>\n",
       "<table border=\"1\" class=\"dataframe\">\n",
       "  <thead>\n",
       "    <tr style=\"text-align: right;\">\n",
       "      <th></th>\n",
       "      <th>geometry</th>\n",
       "      <th>Road_Class</th>\n",
       "      <th>Surface</th>\n",
       "      <th>MNT_Num</th>\n",
       "      <th>District_RONET</th>\n",
       "      <th>Road_Class_RONET</th>\n",
       "      <th>Surface1_RONET</th>\n",
       "      <th>Road_Condition_RONET</th>\n",
       "      <th>Surface2_RONET</th>\n",
       "      <th>TYPE</th>\n",
       "      <th>...</th>\n",
       "      <th>default_road_cond2</th>\n",
       "      <th>Temp_Road_Cond</th>\n",
       "      <th>Road_Cond_Final</th>\n",
       "      <th>dry_mod</th>\n",
       "      <th>dry_speed</th>\n",
       "      <th>msn_mod</th>\n",
       "      <th>msn_speed</th>\n",
       "      <th>winter_mod</th>\n",
       "      <th>winter_speed</th>\n",
       "      <th>winter_speed_final</th>\n",
       "    </tr>\n",
       "  </thead>\n",
       "  <tbody>\n",
       "    <tr>\n",
       "      <th>39</th>\n",
       "      <td>LINESTRING (815386.452 3809784.883, 815394.148...</td>\n",
       "      <td>Provincial</td>\n",
       "      <td>Asphalt Concrete</td>\n",
       "      <td>None</td>\n",
       "      <td>None</td>\n",
       "      <td>None</td>\n",
       "      <td>None</td>\n",
       "      <td>None</td>\n",
       "      <td>None</td>\n",
       "      <td>All Weather</td>\n",
       "      <td>...</td>\n",
       "      <td>None</td>\n",
       "      <td>Good</td>\n",
       "      <td>Good</td>\n",
       "      <td>1.0</td>\n",
       "      <td>60.0</td>\n",
       "      <td>0.9</td>\n",
       "      <td>54.0</td>\n",
       "      <td>1.0</td>\n",
       "      <td>60.0</td>\n",
       "      <td>60.0</td>\n",
       "    </tr>\n",
       "    <tr>\n",
       "      <th>42</th>\n",
       "      <td>LINESTRING (818781.628 3812914.787, 818786.523...</td>\n",
       "      <td>Provincial</td>\n",
       "      <td>Asphalt Concrete</td>\n",
       "      <td>None</td>\n",
       "      <td>None</td>\n",
       "      <td>None</td>\n",
       "      <td>None</td>\n",
       "      <td>None</td>\n",
       "      <td>None</td>\n",
       "      <td>All Weather</td>\n",
       "      <td>...</td>\n",
       "      <td>None</td>\n",
       "      <td>Good</td>\n",
       "      <td>Good</td>\n",
       "      <td>1.0</td>\n",
       "      <td>60.0</td>\n",
       "      <td>0.9</td>\n",
       "      <td>54.0</td>\n",
       "      <td>1.0</td>\n",
       "      <td>60.0</td>\n",
       "      <td>60.0</td>\n",
       "    </tr>\n",
       "    <tr>\n",
       "      <th>43</th>\n",
       "      <td>LINESTRING (820018.241 3813896.279, 820009.641...</td>\n",
       "      <td>Provincial</td>\n",
       "      <td>Asphalt Concrete</td>\n",
       "      <td>None</td>\n",
       "      <td>None</td>\n",
       "      <td>None</td>\n",
       "      <td>None</td>\n",
       "      <td>None</td>\n",
       "      <td>None</td>\n",
       "      <td>All Weather</td>\n",
       "      <td>...</td>\n",
       "      <td>None</td>\n",
       "      <td>Good</td>\n",
       "      <td>Good</td>\n",
       "      <td>1.0</td>\n",
       "      <td>60.0</td>\n",
       "      <td>0.9</td>\n",
       "      <td>54.0</td>\n",
       "      <td>1.0</td>\n",
       "      <td>60.0</td>\n",
       "      <td>60.0</td>\n",
       "    </tr>\n",
       "    <tr>\n",
       "      <th>48</th>\n",
       "      <td>LINESTRING (818840.316 3821663.157, 818818.959...</td>\n",
       "      <td>Provincial</td>\n",
       "      <td>Asphalt Concrete</td>\n",
       "      <td>None</td>\n",
       "      <td>None</td>\n",
       "      <td>None</td>\n",
       "      <td>None</td>\n",
       "      <td>None</td>\n",
       "      <td>None</td>\n",
       "      <td>All Weather</td>\n",
       "      <td>...</td>\n",
       "      <td>None</td>\n",
       "      <td>Good</td>\n",
       "      <td>Good</td>\n",
       "      <td>1.0</td>\n",
       "      <td>60.0</td>\n",
       "      <td>0.9</td>\n",
       "      <td>54.0</td>\n",
       "      <td>1.0</td>\n",
       "      <td>60.0</td>\n",
       "      <td>60.0</td>\n",
       "    </tr>\n",
       "    <tr>\n",
       "      <th>48</th>\n",
       "      <td>LINESTRING (818840.316 3821663.157, 818818.959...</td>\n",
       "      <td>Provincial</td>\n",
       "      <td>Asphalt Concrete</td>\n",
       "      <td>None</td>\n",
       "      <td>None</td>\n",
       "      <td>None</td>\n",
       "      <td>None</td>\n",
       "      <td>None</td>\n",
       "      <td>None</td>\n",
       "      <td>All Weather</td>\n",
       "      <td>...</td>\n",
       "      <td>None</td>\n",
       "      <td>Good</td>\n",
       "      <td>Good</td>\n",
       "      <td>1.0</td>\n",
       "      <td>60.0</td>\n",
       "      <td>0.9</td>\n",
       "      <td>54.0</td>\n",
       "      <td>1.0</td>\n",
       "      <td>60.0</td>\n",
       "      <td>60.0</td>\n",
       "    </tr>\n",
       "    <tr>\n",
       "      <th>...</th>\n",
       "      <td>...</td>\n",
       "      <td>...</td>\n",
       "      <td>...</td>\n",
       "      <td>...</td>\n",
       "      <td>...</td>\n",
       "      <td>...</td>\n",
       "      <td>...</td>\n",
       "      <td>...</td>\n",
       "      <td>...</td>\n",
       "      <td>...</td>\n",
       "      <td>...</td>\n",
       "      <td>...</td>\n",
       "      <td>...</td>\n",
       "      <td>...</td>\n",
       "      <td>...</td>\n",
       "      <td>...</td>\n",
       "      <td>...</td>\n",
       "      <td>...</td>\n",
       "      <td>...</td>\n",
       "      <td>...</td>\n",
       "      <td>...</td>\n",
       "    </tr>\n",
       "    <tr>\n",
       "      <th>241270</th>\n",
       "      <td>LINESTRING (382654.462 3442053.690, 382637.390...</td>\n",
       "      <td>District</td>\n",
       "      <td>NaN</td>\n",
       "      <td>NaN</td>\n",
       "      <td>NaN</td>\n",
       "      <td>NaN</td>\n",
       "      <td>NaN</td>\n",
       "      <td>NaN</td>\n",
       "      <td>NaN</td>\n",
       "      <td>NaN</td>\n",
       "      <td>...</td>\n",
       "      <td>None</td>\n",
       "      <td>Poor</td>\n",
       "      <td>Poor</td>\n",
       "      <td>0.4</td>\n",
       "      <td>16.0</td>\n",
       "      <td>0.2</td>\n",
       "      <td>8.0</td>\n",
       "      <td>0.2</td>\n",
       "      <td>9.6</td>\n",
       "      <td>9.6</td>\n",
       "    </tr>\n",
       "    <tr>\n",
       "      <th>241271</th>\n",
       "      <td>LINESTRING (381641.704 3441805.384, 381647.392...</td>\n",
       "      <td>District</td>\n",
       "      <td>NaN</td>\n",
       "      <td>NaN</td>\n",
       "      <td>NaN</td>\n",
       "      <td>NaN</td>\n",
       "      <td>NaN</td>\n",
       "      <td>NaN</td>\n",
       "      <td>NaN</td>\n",
       "      <td>NaN</td>\n",
       "      <td>...</td>\n",
       "      <td>None</td>\n",
       "      <td>Poor</td>\n",
       "      <td>Poor</td>\n",
       "      <td>0.4</td>\n",
       "      <td>16.0</td>\n",
       "      <td>0.2</td>\n",
       "      <td>8.0</td>\n",
       "      <td>0.2</td>\n",
       "      <td>9.6</td>\n",
       "      <td>9.6</td>\n",
       "    </tr>\n",
       "    <tr>\n",
       "      <th>241282</th>\n",
       "      <td>LINESTRING (369272.584 3448352.161, 369249.847...</td>\n",
       "      <td>District</td>\n",
       "      <td>NaN</td>\n",
       "      <td>NaN</td>\n",
       "      <td>NaN</td>\n",
       "      <td>NaN</td>\n",
       "      <td>NaN</td>\n",
       "      <td>NaN</td>\n",
       "      <td>NaN</td>\n",
       "      <td>NaN</td>\n",
       "      <td>...</td>\n",
       "      <td>None</td>\n",
       "      <td>Poor</td>\n",
       "      <td>Poor</td>\n",
       "      <td>0.4</td>\n",
       "      <td>16.0</td>\n",
       "      <td>0.2</td>\n",
       "      <td>8.0</td>\n",
       "      <td>0.2</td>\n",
       "      <td>9.6</td>\n",
       "      <td>9.6</td>\n",
       "    </tr>\n",
       "    <tr>\n",
       "      <th>241318</th>\n",
       "      <td>LINESTRING (865482.935 3724191.522, 865490.612...</td>\n",
       "      <td>Collector</td>\n",
       "      <td>NaN</td>\n",
       "      <td>NaN</td>\n",
       "      <td>NaN</td>\n",
       "      <td>NaN</td>\n",
       "      <td>NaN</td>\n",
       "      <td>NaN</td>\n",
       "      <td>NaN</td>\n",
       "      <td>NaN</td>\n",
       "      <td>...</td>\n",
       "      <td>None</td>\n",
       "      <td>Good</td>\n",
       "      <td>Good</td>\n",
       "      <td>0.6</td>\n",
       "      <td>9.0</td>\n",
       "      <td>0.4</td>\n",
       "      <td>6.0</td>\n",
       "      <td>0.4</td>\n",
       "      <td>6.3</td>\n",
       "      <td>6.3</td>\n",
       "    </tr>\n",
       "    <tr>\n",
       "      <th>241329</th>\n",
       "      <td>LINESTRING (864672.734 3723635.239, 864681.061...</td>\n",
       "      <td>Collector</td>\n",
       "      <td>NaN</td>\n",
       "      <td>NaN</td>\n",
       "      <td>NaN</td>\n",
       "      <td>NaN</td>\n",
       "      <td>NaN</td>\n",
       "      <td>NaN</td>\n",
       "      <td>NaN</td>\n",
       "      <td>NaN</td>\n",
       "      <td>...</td>\n",
       "      <td>None</td>\n",
       "      <td>Good</td>\n",
       "      <td>Good</td>\n",
       "      <td>0.6</td>\n",
       "      <td>9.0</td>\n",
       "      <td>0.4</td>\n",
       "      <td>6.0</td>\n",
       "      <td>0.4</td>\n",
       "      <td>6.3</td>\n",
       "      <td>6.3</td>\n",
       "    </tr>\n",
       "  </tbody>\n",
       "</table>\n",
       "<p>23570 rows × 35 columns</p>\n",
       "</div>"
      ],
      "text/plain": [
       "                                                 geometry  Road_Class  \\\n",
       "39      LINESTRING (815386.452 3809784.883, 815394.148...  Provincial   \n",
       "42      LINESTRING (818781.628 3812914.787, 818786.523...  Provincial   \n",
       "43      LINESTRING (820018.241 3813896.279, 820009.641...  Provincial   \n",
       "48      LINESTRING (818840.316 3821663.157, 818818.959...  Provincial   \n",
       "48      LINESTRING (818840.316 3821663.157, 818818.959...  Provincial   \n",
       "...                                                   ...         ...   \n",
       "241270  LINESTRING (382654.462 3442053.690, 382637.390...    District   \n",
       "241271  LINESTRING (381641.704 3441805.384, 381647.392...    District   \n",
       "241282  LINESTRING (369272.584 3448352.161, 369249.847...    District   \n",
       "241318  LINESTRING (865482.935 3724191.522, 865490.612...   Collector   \n",
       "241329  LINESTRING (864672.734 3723635.239, 864681.061...   Collector   \n",
       "\n",
       "                 Surface MNT_Num District_RONET Road_Class_RONET  \\\n",
       "39      Asphalt Concrete    None           None             None   \n",
       "42      Asphalt Concrete    None           None             None   \n",
       "43      Asphalt Concrete    None           None             None   \n",
       "48      Asphalt Concrete    None           None             None   \n",
       "48      Asphalt Concrete    None           None             None   \n",
       "...                  ...     ...            ...              ...   \n",
       "241270               NaN     NaN            NaN              NaN   \n",
       "241271               NaN     NaN            NaN              NaN   \n",
       "241282               NaN     NaN            NaN              NaN   \n",
       "241318               NaN     NaN            NaN              NaN   \n",
       "241329               NaN     NaN            NaN              NaN   \n",
       "\n",
       "       Surface1_RONET Road_Condition_RONET Surface2_RONET         TYPE  ...  \\\n",
       "39               None                 None           None  All Weather  ...   \n",
       "42               None                 None           None  All Weather  ...   \n",
       "43               None                 None           None  All Weather  ...   \n",
       "48               None                 None           None  All Weather  ...   \n",
       "48               None                 None           None  All Weather  ...   \n",
       "...               ...                  ...            ...          ...  ...   \n",
       "241270            NaN                  NaN            NaN          NaN  ...   \n",
       "241271            NaN                  NaN            NaN          NaN  ...   \n",
       "241282            NaN                  NaN            NaN          NaN  ...   \n",
       "241318            NaN                  NaN            NaN          NaN  ...   \n",
       "241329            NaN                  NaN            NaN          NaN  ...   \n",
       "\n",
       "        default_road_cond2  Temp_Road_Cond  Road_Cond_Final  dry_mod  \\\n",
       "39                    None            Good             Good      1.0   \n",
       "42                    None            Good             Good      1.0   \n",
       "43                    None            Good             Good      1.0   \n",
       "48                    None            Good             Good      1.0   \n",
       "48                    None            Good             Good      1.0   \n",
       "...                    ...             ...              ...      ...   \n",
       "241270                None            Poor             Poor      0.4   \n",
       "241271                None            Poor             Poor      0.4   \n",
       "241282                None            Poor             Poor      0.4   \n",
       "241318                None            Good             Good      0.6   \n",
       "241329                None            Good             Good      0.6   \n",
       "\n",
       "        dry_speed msn_mod msn_speed  winter_mod  winter_speed  \\\n",
       "39           60.0     0.9      54.0         1.0          60.0   \n",
       "42           60.0     0.9      54.0         1.0          60.0   \n",
       "43           60.0     0.9      54.0         1.0          60.0   \n",
       "48           60.0     0.9      54.0         1.0          60.0   \n",
       "48           60.0     0.9      54.0         1.0          60.0   \n",
       "...           ...     ...       ...         ...           ...   \n",
       "241270       16.0     0.2       8.0         0.2           9.6   \n",
       "241271       16.0     0.2       8.0         0.2           9.6   \n",
       "241282       16.0     0.2       8.0         0.2           9.6   \n",
       "241318        9.0     0.4       6.0         0.4           6.3   \n",
       "241329        9.0     0.4       6.0         0.4           6.3   \n",
       "\n",
       "       winter_speed_final  \n",
       "39                   60.0  \n",
       "42                   60.0  \n",
       "43                   60.0  \n",
       "48                   60.0  \n",
       "48                   60.0  \n",
       "...                   ...  \n",
       "241270                9.6  \n",
       "241271                9.6  \n",
       "241282                9.6  \n",
       "241318                6.3  \n",
       "241329                6.3  \n",
       "\n",
       "[23570 rows x 35 columns]"
      ]
     },
     "execution_count": 135,
     "metadata": {},
     "output_type": "execute_result"
    }
   ],
   "source": [
    "master[master['Terrain']=='Hills']"
   ]
  },
  {
   "cell_type": "markdown",
   "metadata": {},
   "source": [
    "## Export final data"
   ]
  },
  {
   "cell_type": "markdown",
   "metadata": {},
   "source": [
    "Export"
   ]
  },
  {
   "cell_type": "code",
   "execution_count": 136,
   "metadata": {},
   "outputs": [],
   "source": [
    "master.to_file('P:\\PAK\\Code\\Accessibility\\Inputs\\master_transport_Oct19.gpkg',layer='master_transport_all',driver='GPKG')\n",
    "#master_rds.to_file('P:\\PAK\\Code\\Accessibility\\Inputs\\master_transport.gpkg',layer='master_roads',driver='GPKG')\n",
    "#master_pths.to_file('P:\\PAK\\Code\\Accessibility\\Inputs\\master_transport.gpkg',layer='master_paths',driver='GPKG')\n"
   ]
  },
  {
   "cell_type": "code",
   "execution_count": 137,
   "metadata": {},
   "outputs": [],
   "source": [
    "master.to_csv('P:\\PAK\\Code\\Accessibility\\Inputs\\master_transport_Oct19.csv')"
   ]
  },
  {
   "cell_type": "code",
   "execution_count": null,
   "metadata": {},
   "outputs": [],
   "source": []
  }
 ],
 "metadata": {
  "kernelspec": {
   "display_name": "Python 3 (ipykernel)",
   "language": "python",
   "name": "python3"
  },
  "language_info": {
   "codemirror_mode": {
    "name": "ipython",
    "version": 3
   },
   "file_extension": ".py",
   "mimetype": "text/x-python",
   "name": "python",
   "nbconvert_exporter": "python",
   "pygments_lexer": "ipython3",
   "version": "3.8.10"
  }
 },
 "nbformat": 4,
 "nbformat_minor": 4
}
