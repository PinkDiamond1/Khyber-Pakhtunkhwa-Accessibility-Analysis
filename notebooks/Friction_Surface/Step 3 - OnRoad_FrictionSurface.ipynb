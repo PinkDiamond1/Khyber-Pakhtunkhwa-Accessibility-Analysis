{
 "cells": [
  {
   "cell_type": "markdown",
   "id": "exterior-subscription",
   "metadata": {},
   "source": [
    "## Vector to Raster: A step-by-step breakdown"
   ]
  },
  {
   "cell_type": "markdown",
   "id": "sustained-resolution",
   "metadata": {},
   "source": [
    "This notebook processes a single line vector into a raster file with the 'speed' attribute used as the raster pixel value. </br> In our routine, we use this notebook to convert the final processed road rasters into speed surfaces we can combine with the walking friction surface in the next notebook."
   ]
  },
  {
   "cell_type": "markdown",
   "id": "legitimate-screen",
   "metadata": {},
   "source": [
    "Note that if you have multiple speeds (e.g. for dry, monsoon, and winter seasons) you will need to run this notebook multiple times, once for each speed value"
   ]
  },
  {
   "cell_type": "code",
   "execution_count": 47,
   "id": "quick-venue",
   "metadata": {},
   "outputs": [],
   "source": [
    "import os, sys\n",
    "from datetime import datetime\n",
    "\n",
    "import pprint\n",
    "from pprint import pprint\n",
    "\n",
    "import common_rasterio_ops as rast_ops\n",
    "\n",
    "import numpy as np\n",
    "\n",
    "import rasterio\n",
    "from rasterio import features\n",
    "from rasterio import transform\n",
    "from rasterio.transform import Affine\n",
    "from rasterio.mask import mask\n",
    "from rasterio.io import MemoryFile\n",
    "\n",
    "import pandas as pd\n",
    "import geopandas as gpd\n",
    "\n",
    "import shapely\n",
    "from shapely.geometry import shape"
   ]
  },
  {
   "cell_type": "markdown",
   "id": "structured-remainder",
   "metadata": {},
   "source": [
    "File paths"
   ]
  },
  {
   "cell_type": "code",
   "execution_count": 48,
   "id": "hollow-mainstream",
   "metadata": {},
   "outputs": [],
   "source": [
    "data_dir = r'P:\\PAK\\\\Code\\Accessibility\\Inputs'\n",
    "out_dir = r'P:\\PAK\\\\Code\\Accessibility\\Intermediate_Rasters'\n",
    "fric_dir = r'P:\\PAK\\\\Code\\Accessibility\\Friction_Surface'\n",
    "in_dem = r'P:\\PAK\\\\GEO\\Elevation'\n",
    "in_lc = r'P:\\PAK\\\\GEO\\Landcover\\ICIMOD'\n"
   ]
  },
  {
   "cell_type": "markdown",
   "id": "8ffaf814-5ed2-4694-8f20-b537de710971",
   "metadata": {},
   "source": [
    "Projections"
   ]
  },
  {
   "cell_type": "code",
   "execution_count": 49,
   "id": "2be44e8b-f074-4bdb-8d66-bc00704e124e",
   "metadata": {},
   "outputs": [],
   "source": [
    "dest_crs = 'EPSG:32642' # this is a Pakistani UTM projection, assign correct projection for project area"
   ]
  },
  {
   "cell_type": "markdown",
   "id": "d595ad8a",
   "metadata": {},
   "source": [
    "Load Shapefile of aoi to clip the final data"
   ]
  },
  {
   "cell_type": "code",
   "execution_count": 50,
   "id": "0ff75fd7-24e0-4592-a639-3d5fc79bb428",
   "metadata": {},
   "outputs": [],
   "source": [
    "aoi_pth = r'P:\\PAK\\GEO\\Boundaries\\OCHA\\pak_admbnda_adm1_ocha_pco_gaul_20181218.shp'"
   ]
  },
  {
   "cell_type": "code",
   "execution_count": 51,
   "id": "694ec3ad-e239-4e1d-b4f3-75c4e6fbf577",
   "metadata": {},
   "outputs": [],
   "source": [
    "aoi = gpd.read_file(aoi_pth)"
   ]
  },
  {
   "cell_type": "code",
   "execution_count": 52,
   "id": "1b785e6e-946b-4991-9930-beb4337fb7d5",
   "metadata": {},
   "outputs": [],
   "source": [
    "aoi = aoi[aoi['ADM1_EN'] == 'Khyber Pakhtunkhwa']\n",
    "aoi = aoi.to_crs(dest_crs)"
   ]
  },
  {
   "cell_type": "code",
   "execution_count": 53,
   "id": "90663791-e9a7-4789-b94c-2d5a8f3ac53a",
   "metadata": {},
   "outputs": [],
   "source": [
    "# Buffer the polygon by 20km so we take in nearby markets and roads that may be used\n",
    "aoi.geometry = aoi.buffer(20000)"
   ]
  },
  {
   "cell_type": "markdown",
   "id": "d6ed9188-097d-495f-816d-1a9c03b89b1e",
   "metadata": {},
   "source": [
    "Today's date"
   ]
  },
  {
   "cell_type": "code",
   "execution_count": 54,
   "id": "715311cd-a02f-4f72-98b3-d91514146c01",
   "metadata": {},
   "outputs": [],
   "source": [
    "today = datetime.today().strftime('%y%m%d')"
   ]
  },
  {
   "cell_type": "code",
   "execution_count": 55,
   "id": "346e1e81-a2f5-4ce3-81cf-6cd4eab8fad1",
   "metadata": {},
   "outputs": [],
   "source": [
    "data_date = '210927'"
   ]
  },
  {
   "cell_type": "markdown",
   "id": "86e4561a-e0fa-4194-a106-daa18e82b021",
   "metadata": {},
   "source": [
    "Parameters to change as per your use case!"
   ]
  },
  {
   "cell_type": "code",
   "execution_count": 56,
   "id": "3a44eb5a",
   "metadata": {},
   "outputs": [],
   "source": [
    "res = '31m'"
   ]
  },
  {
   "cell_type": "code",
   "execution_count": 57,
   "id": "9b81bcaa",
   "metadata": {},
   "outputs": [],
   "source": [
    "season = 'dry'"
   ]
  },
  {
   "cell_type": "markdown",
   "id": "e101603f-9e34-4315-92a4-ff29b7bfe385",
   "metadata": {
    "tags": []
   },
   "source": [
    "### Load reference raster"
   ]
  },
  {
   "cell_type": "markdown",
   "id": "f2461805-b207-4f33-bd97-976ee33253cd",
   "metadata": {},
   "source": [
    "Load in a raster we are aligning with (generally the Off-Road / walking raster itself) so we can match up exactly to its grid and cell size"
   ]
  },
  {
   "cell_type": "code",
   "execution_count": 74,
   "id": "feba3550-b593-4ec9-893a-feaab79a75a2",
   "metadata": {},
   "outputs": [],
   "source": [
    "# choose the raster with the appropriate resolution\n",
    "\n",
    "with rasterio.open(\n",
    "        os.path.join(fric_dir,f'KP_friction_walk_{season}_{data_date}_{res}_masked.tif'), 'r') as src:\n",
    "    base_array = src.read(1)\n",
    "    base_idx = src.index\n",
    "    base_profile = src.meta.copy()\n",
    "    base_tform = src.transform"
   ]
  },
  {
   "cell_type": "code",
   "execution_count": 75,
   "id": "e07009a0-1373-494d-8db7-a3391661e433",
   "metadata": {},
   "outputs": [
    {
     "data": {
      "text/plain": [
       "{'driver': 'GTiff',\n",
       " 'dtype': 'float32',\n",
       " 'nodata': -99999.0,\n",
       " 'width': 17193,\n",
       " 'height': 21136,\n",
       " 'count': 1,\n",
       " 'crs': CRS.from_epsg(32642),\n",
       " 'transform': Affine(28.23254382673943, 0.0, 502425.3974356071,\n",
       "        0.0, -31.766168813716423, 4114847.74964671)}"
      ]
     },
     "execution_count": 75,
     "metadata": {},
     "output_type": "execute_result"
    }
   ],
   "source": [
    "base_profile"
   ]
  },
  {
   "cell_type": "markdown",
   "id": "empty-johnson",
   "metadata": {
    "tags": []
   },
   "source": [
    "### Load in road file"
   ]
  },
  {
   "cell_type": "code",
   "execution_count": 76,
   "id": "a49044a4-e993-44c7-974f-f52e29bb36e9",
   "metadata": {},
   "outputs": [],
   "source": [
    "rd_pth = r'master_transport_Sep23.gpkg'"
   ]
  },
  {
   "cell_type": "code",
   "execution_count": 77,
   "id": "valued-transmission",
   "metadata": {},
   "outputs": [],
   "source": [
    "# replace with master transport file prepared in Step 1\n",
    "rd = gpd.read_file(os.path.join(data_dir,rd_pth),driver=\"GPKG\")"
   ]
  },
  {
   "cell_type": "code",
   "execution_count": 78,
   "id": "7c9fc821-fbde-46d4-b068-22d866bad404",
   "metadata": {
    "scrolled": true
   },
   "outputs": [],
   "source": [
    "# replace with speed column you're using\n",
    "speed_column = f'{season}_speed'"
   ]
  },
  {
   "cell_type": "code",
   "execution_count": 79,
   "id": "2754592f-185f-4f7f-8e30-a48763bee095",
   "metadata": {},
   "outputs": [],
   "source": [
    "# clipping the roads by the extent of your reference raster\n",
    "\n",
    "from shapely.geometry import Polygon, box\n",
    "bbox = box(*src.bounds)\n",
    "\n",
    "rds_clip = gpd.clip(rd,bbox)"
   ]
  },
  {
   "cell_type": "code",
   "execution_count": 80,
   "id": "alpine-macintosh",
   "metadata": {},
   "outputs": [],
   "source": [
    "# Reorder the datafram least to highest, so that the generator and therefore speed values are written similarly, \n",
    "# This has the ultimate consequence that higher values overwrite lower values where they overlap\n",
    "\n",
    "rds_clip = rds_clip.sort_values(by=speed_column)"
   ]
  },
  {
   "cell_type": "code",
   "execution_count": 81,
   "id": "hindu-immune",
   "metadata": {},
   "outputs": [
    {
     "name": "stdout",
     "output_type": "stream",
     "text": [
      "In a metric projection already\n"
     ]
    }
   ],
   "source": [
    "if rds_clip.crs.is_projected == True:\n",
    "    None\n",
    "    print('In a metric projection already')\n",
    "else:\n",
    "    rds_clip = rds_clip.to_crs(dest_crs)\n",
    "    print('Reprojected')"
   ]
  },
  {
   "cell_type": "markdown",
   "id": "absolute-farming",
   "metadata": {},
   "source": [
    "### Rasterizing vectors"
   ]
  },
  {
   "cell_type": "markdown",
   "id": "other-notification",
   "metadata": {},
   "source": [
    "Run a function to generate all the necessary parameters for our raster outputs based on the extent of the input shapefile"
   ]
  },
  {
   "cell_type": "code",
   "execution_count": 83,
   "id": "nonprofit-franchise",
   "metadata": {},
   "outputs": [],
   "source": [
    "bds, ht, wth, src_tform, dst_tform, shapes, scale_factor_x, scale_factor_y = rast_ops.get_raster_params(rds_clip,src,speed_column)"
   ]
  },
  {
   "cell_type": "code",
   "execution_count": 84,
   "id": "e2fe15b8-a0e5-4cc4-a0c3-9883d0bc1d31",
   "metadata": {},
   "outputs": [
    {
     "data": {
      "text/plain": [
       "Affine(28.23254382673943, 0.0, 502425.3974356071,\n",
       "       0.0, -31.766168813716423, 4114847.74964671)"
      ]
     },
     "execution_count": 84,
     "metadata": {},
     "output_type": "execute_result"
    }
   ],
   "source": [
    "base_tform\n"
   ]
  },
  {
   "cell_type": "code",
   "execution_count": 85,
   "id": "popular-innocent",
   "metadata": {},
   "outputs": [
    {
     "data": {
      "text/plain": [
       "Affine(28.23254382673943, 0.0, 502425.3974356071,\n",
       "       0.0, -31.766168813716423, 4103189.5656920765)"
      ]
     },
     "execution_count": 85,
     "metadata": {},
     "output_type": "execute_result"
    }
   ],
   "source": [
    "dst_tform"
   ]
  },
  {
   "cell_type": "code",
   "execution_count": 86,
   "id": "fuzzy-foundation",
   "metadata": {},
   "outputs": [],
   "source": [
    "# New code downsamples the code while rasterizing, saving us major headaches with resampling in memory.\n",
    "\n",
    "road_rast = features.rasterize(shapes,\\\n",
    "                  out_shape = (base_array.shape[0],\\\n",
    "                               base_array.shape[1]),\\\n",
    "                  transform=dst_tform,\n",
    "                  all_touched=True,\n",
    "                  dtype = np.float32)"
   ]
  },
  {
   "cell_type": "code",
   "execution_count": 87,
   "id": "dietary-interim",
   "metadata": {},
   "outputs": [
    {
     "data": {
      "text/plain": [
       "array([ 0.25,  0.25,  0.25, ..., 80.  , 80.  , 20.  ], dtype=float32)"
      ]
     },
     "execution_count": 87,
     "metadata": {},
     "output_type": "execute_result"
    }
   ],
   "source": [
    "# check values are of the right magnitude\n",
    "road_rast[road_rast > 0]"
   ]
  },
  {
   "cell_type": "code",
   "execution_count": 88,
   "id": "f1642996-3566-41c1-a575-228b39a92a7e",
   "metadata": {},
   "outputs": [
    {
     "data": {
      "text/plain": [
       "(21136, 17193)"
      ]
     },
     "execution_count": 88,
     "metadata": {},
     "output_type": "execute_result"
    }
   ],
   "source": [
    "road_rast.shape"
   ]
  },
  {
   "cell_type": "markdown",
   "id": "decimal-aspect",
   "metadata": {},
   "source": [
    "### Exporting"
   ]
  },
  {
   "cell_type": "code",
   "execution_count": 89,
   "id": "normal-wildlife",
   "metadata": {
    "tags": []
   },
   "outputs": [],
   "source": [
    "export_profile = {\n",
    "    \"driver\": \"GTiff\",\n",
    "    \"dtype\": \"float32\",\n",
    "    \"crs\":{'init':'EPSG:32642'},\n",
    "    \"height\": base_array.shape[0],\n",
    "    \"width\": base_array.shape[1],\n",
    "    \"count\":1,\n",
    "    \"nodata\":0,\n",
    "    \"transform\": dst_tform,\n",
    "    \"compress\":'LZW'\n",
    "}\n"
   ]
  },
  {
   "cell_type": "code",
   "execution_count": 95,
   "id": "1e25f5d2",
   "metadata": {},
   "outputs": [],
   "source": [
    "# Export unmasked version\n",
    "\n",
    "with rasterio.open(\n",
    "        os.path.join(out_dir,f'KP_OnRoad_{speed_column}_{today}_{res}_test.tif'), 'w',**export_profile) as dst:\n",
    "    dst.write(road_rast,indexes=1)"
   ]
  },
  {
   "cell_type": "code",
   "execution_count": 91,
   "id": "052effbc",
   "metadata": {},
   "outputs": [],
   "source": [
    "# Crop to KP extent\n",
    "onroad_speed_final_mask, onroad_speed_mask_tform = rast_ops.clip_in_memory(road_rast,export_profile, aoi.geometry)"
   ]
  },
  {
   "cell_type": "code",
   "execution_count": 93,
   "id": "cc5792f5-8ccf-46ae-a12e-cd2037fbb768",
   "metadata": {},
   "outputs": [],
   "source": [
    "# Export masked version\n",
    "\n",
    "with rasterio.open(\n",
    "        os.path.join(out_dir,f'KP_OnRoad_{speed_column}_{today}_{res}_masked_test.tif'), 'w',**export_profile) as dst:\n",
    "    dst.write(onroad_speed_final_mask,indexes=1)"
   ]
  },
  {
   "cell_type": "code",
   "execution_count": null,
   "id": "244a6c54-3349-4751-8577-4b34a449283a",
   "metadata": {},
   "outputs": [],
   "source": []
  }
 ],
 "metadata": {
  "kernelspec": {
   "display_name": "Python 3 (ipykernel)",
   "language": "python",
   "name": "python3"
  },
  "language_info": {
   "codemirror_mode": {
    "name": "ipython",
    "version": 3
   },
   "file_extension": ".py",
   "mimetype": "text/x-python",
   "name": "python",
   "nbconvert_exporter": "python",
   "pygments_lexer": "ipython3",
   "version": "3.8.10"
  }
 },
 "nbformat": 4,
 "nbformat_minor": 5
}
