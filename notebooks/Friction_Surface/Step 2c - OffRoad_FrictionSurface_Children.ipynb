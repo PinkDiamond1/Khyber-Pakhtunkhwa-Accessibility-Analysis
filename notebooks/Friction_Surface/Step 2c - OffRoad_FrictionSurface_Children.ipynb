{
 "cells": [
  {
   "cell_type": "markdown",
   "id": "light-prescription",
   "metadata": {},
   "source": [
    "# Walking friction surface creation"
   ]
  },
  {
   "cell_type": "markdown",
   "id": "important-excess",
   "metadata": {},
   "source": [
    "Clean up various rasters and combining them into a friction surface"
   ]
  },
  {
   "cell_type": "code",
   "execution_count": 1,
   "id": "restricted-degree",
   "metadata": {},
   "outputs": [],
   "source": [
    "import os, sys\n",
    "\n",
    "from datetime import datetime\n",
    "\n",
    "import pprint\n",
    "# from pprint import pprint\n",
    "\n",
    "import numpy as np\n",
    "from numpy import pi, log, tan, empty, float32, arctan, rad2deg, gradient\n",
    "from numpy import arctan2, reshape, where\n",
    "from scipy.ndimage import gaussian_gradient_magnitude\n",
    "\n",
    "import rasterio\n",
    "from rasterio import features, transform\n",
    "from rasterio.mask import mask\n",
    "from rasterio.transform import Affine\n",
    "from rasterio.warp import calculate_default_transform, reproject, Resampling\n",
    "from rasterio.io import MemoryFile\n",
    "\n",
    "import pandas as pd\n",
    "import geopandas as gpd\n",
    "\n",
    "import shapely\n",
    "from shapely.geometry import shape, box, Polygon"
   ]
  },
  {
   "cell_type": "code",
   "execution_count": 2,
   "id": "wrapped-employer",
   "metadata": {},
   "outputs": [],
   "source": [
    "data_dir = r'P:\\PAK\\\\Code\\Accessibility\\Inputs'\n",
    "in_dem = r'P:\\PAK\\\\GEO\\Elevation'\n",
    "in_lc = r'P:\\PAK\\\\GEO\\Landcover\\ICIMOD'\n",
    "in_river = r'P:\\PAK\\\\Code\\Accessibility\\OSM_River_Geofabrik'\n",
    "in_roads = r'P:\\PAK\\\\Code\\Accessibility\\osm_kpk_final_sep'\n",
    "out_dir = r'P:\\PAK\\\\Code\\Accessibility\\Intermediate_Rasters'\n",
    "fric_dir = r'P:\\PAK\\\\Code\\Accessibility\\Friction_Surface'"
   ]
  },
  {
   "cell_type": "markdown",
   "id": "frank-festival",
   "metadata": {},
   "source": [
    "Projections"
   ]
  },
  {
   "cell_type": "code",
   "execution_count": 3,
   "id": "wrapped-roberts",
   "metadata": {},
   "outputs": [],
   "source": [
    "dest_crs = 'EPSG:32642' # this is a Pakistani UTM projection, assign correct projection for project area"
   ]
  },
  {
   "cell_type": "markdown",
   "id": "instructional-barrel",
   "metadata": {},
   "source": [
    "Today's date"
   ]
  },
  {
   "cell_type": "code",
   "execution_count": 4,
   "id": "developed-inspection",
   "metadata": {},
   "outputs": [],
   "source": [
    "today = datetime.today().strftime('%y%m%d')"
   ]
  },
  {
   "cell_type": "code",
   "execution_count": 5,
   "id": "fdd438dd-5f81-44d3-bbd4-bcccec81db92",
   "metadata": {},
   "outputs": [],
   "source": [
    "#Load Shapefile of KP to clip the final data"
   ]
  },
  {
   "cell_type": "code",
   "execution_count": 6,
   "id": "8541718c-bc02-4e55-8b5d-205ab397b5ac",
   "metadata": {},
   "outputs": [],
   "source": [
    "kp = gpd.read_file(r'P:\\PAK\\GEO\\Boundaries\\OCHA\\pak_admbnda_adm1_ocha_pco_gaul_20181218.shp')"
   ]
  },
  {
   "cell_type": "code",
   "execution_count": 7,
   "id": "1a35cbc7-177f-4daf-a568-3e86def08ad2",
   "metadata": {},
   "outputs": [],
   "source": [
    "kp = kp[kp['ADM1_EN'] == 'Khyber Pakhtunkhwa']\n",
    "kp = kp.to_crs(dest_crs)"
   ]
  },
  {
   "cell_type": "code",
   "execution_count": 8,
   "id": "12b5c50a-8021-41e0-a9f8-44500ba7129f",
   "metadata": {},
   "outputs": [],
   "source": [
    "# Buffer the polygon by 20km so we take in nearby markets and roads that may be used\n",
    "kp.geometry = kp.buffer(20000)"
   ]
  },
  {
   "cell_type": "code",
   "execution_count": 9,
   "id": "4c1201fc-9e67-4d10-83b6-8034ee3cf464",
   "metadata": {},
   "outputs": [
    {
     "data": {
      "text/html": [
       "<div>\n",
       "<style scoped>\n",
       "    .dataframe tbody tr th:only-of-type {\n",
       "        vertical-align: middle;\n",
       "    }\n",
       "\n",
       "    .dataframe tbody tr th {\n",
       "        vertical-align: top;\n",
       "    }\n",
       "\n",
       "    .dataframe thead th {\n",
       "        text-align: right;\n",
       "    }\n",
       "</style>\n",
       "<table border=\"1\" class=\"dataframe\">\n",
       "  <thead>\n",
       "    <tr style=\"text-align: right;\">\n",
       "      <th></th>\n",
       "      <th>Shape_Leng</th>\n",
       "      <th>Shape_Area</th>\n",
       "      <th>ADM1_EN</th>\n",
       "      <th>ADM1_PCODE</th>\n",
       "      <th>ADM1_REF</th>\n",
       "      <th>ADM1ALT1EN</th>\n",
       "      <th>ADM1ALT2EN</th>\n",
       "      <th>ADM0_EN</th>\n",
       "      <th>ADM0_PCODE</th>\n",
       "      <th>date</th>\n",
       "      <th>validOn</th>\n",
       "      <th>validTo</th>\n",
       "      <th>geometry</th>\n",
       "    </tr>\n",
       "  </thead>\n",
       "  <tbody>\n",
       "    <tr>\n",
       "      <th>2</th>\n",
       "      <td>27.479368</td>\n",
       "      <td>9.901186</td>\n",
       "      <td>Khyber Pakhtunkhwa</td>\n",
       "      <td>PK2</td>\n",
       "      <td>None</td>\n",
       "      <td>None</td>\n",
       "      <td>None</td>\n",
       "      <td>Pakistan</td>\n",
       "      <td>PK</td>\n",
       "      <td>2018-11-30</td>\n",
       "      <td>2018-12-18</td>\n",
       "      <td>None</td>\n",
       "      <td>POLYGON ((505910.537 3561734.747, 505840.700 3...</td>\n",
       "    </tr>\n",
       "  </tbody>\n",
       "</table>\n",
       "</div>"
      ],
      "text/plain": [
       "   Shape_Leng  Shape_Area             ADM1_EN ADM1_PCODE ADM1_REF ADM1ALT1EN  \\\n",
       "2   27.479368    9.901186  Khyber Pakhtunkhwa        PK2     None       None   \n",
       "\n",
       "  ADM1ALT2EN   ADM0_EN ADM0_PCODE        date     validOn validTo  \\\n",
       "2       None  Pakistan         PK  2018-11-30  2018-12-18    None   \n",
       "\n",
       "                                            geometry  \n",
       "2  POLYGON ((505910.537 3561734.747, 505840.700 3...  "
      ]
     },
     "execution_count": 9,
     "metadata": {},
     "output_type": "execute_result"
    }
   ],
   "source": [
    "kp.head()"
   ]
  },
  {
   "cell_type": "markdown",
   "id": "oriented-bulgaria",
   "metadata": {},
   "source": [
    "Useful functions"
   ]
  },
  {
   "cell_type": "code",
   "execution_count": 10,
   "id": "oriented-acrobat",
   "metadata": {},
   "outputs": [],
   "source": [
    "# Lightly adapted from https://gis.stackexchange.com/questions/290030/what-does-it-mean-to-reproject-a-satellite-image-from-utm-zone-13n-to-wgs84\n",
    "\n",
    "def reproject_tif(source_file, destination_file, dest_crs):\n",
    "    \"\"\"Re-projects tif at source file to destination CRS at destination file.\n",
    "\n",
    "    Args:\n",
    "        source_file: file to re-project\n",
    "        destination_file: file to store re-projection\n",
    "\n",
    "    Returns:\n",
    "        destination_file: where the re-projected file is saved at\n",
    "    \"\"\"\n",
    "\n",
    "    with rasterio.open(source_file) as src:\n",
    "        dst_crs = dest_crs\n",
    "        transform, width, height = calculate_default_transform(\n",
    "            src.crs,\n",
    "            dst_crs,\n",
    "            src.width,\n",
    "            src.height,\n",
    "            *src.bounds\n",
    "        )\n",
    "\n",
    "        kwargs = src.meta.copy()\n",
    "        kwargs.update({\n",
    "            'crs': dst_crs,\n",
    "            'transform': transform,\n",
    "            'width': width,\n",
    "            'height': height,\n",
    "            \"compress\":'LZW'\n",
    "        })\n",
    "\n",
    "        with rasterio.open(destination_file, 'w', **kwargs) as dst:\n",
    "            for i in range(1, src.count + 1):\n",
    "                reproject(\n",
    "                    source=rasterio.band(src, i),\n",
    "                    destination=rasterio.band(dst, i),\n",
    "                    src_transform=src.transform,\n",
    "                    src_crs=src.crs,\n",
    "                    dst_transform=transform,\n",
    "                    dst_crs=dst_crs,\n",
    "                    resampling=Resampling.nearest,\n",
    "                    num_threads=-1\n",
    "                )\n",
    "\n",
    "        return destination_file"
   ]
  },
  {
   "cell_type": "code",
   "execution_count": 11,
   "id": "internal-serve",
   "metadata": {},
   "outputs": [],
   "source": [
    "# slope calculation code from here: https://github.com/dgketchum/dem/blob/master/dem.py\n",
    "\n",
    "def get_slope(dem, mode='percent'):\n",
    "    slope = gaussian_gradient_magnitude(dem, 5, mode ='nearest')\n",
    "    if mode == 'percent':\n",
    "        pass\n",
    "    if mode == 'fraction':\n",
    "        slope = slope / 100\n",
    "    if mode == 'degrees':\n",
    "        slope = rad2deg(arctan(slope / 100))\n",
    "    \n",
    "    return slope\n",
    "    "
   ]
  },
  {
   "cell_type": "markdown",
   "id": "determined-stage",
   "metadata": {},
   "source": [
    "# Walking friction surface"
   ]
  },
  {
   "cell_type": "markdown",
   "id": "cloudy-thirty",
   "metadata": {},
   "source": [
    "We start by creating a walking friction surface. This forms half of the multi-modal friction surface and can also be used as a standalone analysis tool (for walking-only analysis)."
   ]
  },
  {
   "cell_type": "markdown",
   "id": "comic-adult",
   "metadata": {},
   "source": [
    "## Reclassify landcover"
   ]
  },
  {
   "cell_type": "code",
   "execution_count": 12,
   "id": "deluxe-comedy",
   "metadata": {
    "tags": []
   },
   "outputs": [],
   "source": [
    "# Build a \"lookup array\" where the index is the original value and the value\n",
    "# is the reclassified value.  Setting all of the reclassified values is cheap \n",
    "# because the memory is only allocated once for the lookup array.\n",
    "\n",
    "lookup = np.arange(256, dtype=np.float32)\n",
    "\n",
    "# Replacement values are the divisors of walking speeds specific to that landcover type -- so, a value of 2 means \"divide the walking speed by 2\"\n",
    "# THESE ARE EXAMPLE VALUES AND MUST BE REPLACED -- refer to Herzog article (Herzog 2020)\n",
    "\n",
    "lookup[1] = 2\n",
    "lookup[2] = 2\n",
    "lookup[3] = 2\n",
    "lookup[4] = 2\n",
    "lookup[5] = 2\n",
    "lookup[6] = 2\n",
    "lookup[7] = 1.2\n",
    "lookup[8] = 1.5\n",
    "lookup[9] = 1.8\n",
    "lookup[10] = 1.5\n",
    "lookup[11] = 1.2\n",
    "lookup[12] = 1.19\n",
    "lookup[13] = 1.6\n",
    "lookup[14] = 5\n",
    "lookup[255] = 1.5\n"
   ]
  },
  {
   "cell_type": "code",
   "execution_count": 13,
   "id": "broke-spray",
   "metadata": {},
   "outputs": [],
   "source": [
    "with rasterio.open(os.path.join(in_lc,'pakistan_icimod_landcover_2010_32642.tif')) as lc_src:\n",
    "    # Read as numpy array\n",
    "    lc_array = lc_src.read()\n",
    "    lc_profile = lc_src.profile\n",
    "    lc_transform = lc_src.transform\n",
    "    \n",
    "    # Reclassify in a single operation using broadcasting\n",
    "    lc_array = lookup[lc_array].astype(np.float32)\n"
   ]
  },
  {
   "cell_type": "code",
   "execution_count": 14,
   "id": "deadly-industry",
   "metadata": {},
   "outputs": [
    {
     "data": {
      "text/plain": [
       "(1, 21580, 29320)"
      ]
     },
     "execution_count": 14,
     "metadata": {},
     "output_type": "execute_result"
    }
   ],
   "source": [
    "lc_array.shape"
   ]
  },
  {
   "cell_type": "code",
   "execution_count": 15,
   "id": "302e8711-7590-4f32-8449-b7843e8dfd5c",
   "metadata": {},
   "outputs": [
    {
     "data": {
      "text/plain": [
       "dtype('float32')"
      ]
     },
     "execution_count": 15,
     "metadata": {},
     "output_type": "execute_result"
    }
   ],
   "source": [
    "lc_array.dtype"
   ]
  },
  {
   "cell_type": "code",
   "execution_count": 16,
   "id": "8fc80eb3-16d6-478d-ad2d-0fec07ec23d2",
   "metadata": {},
   "outputs": [
    {
     "data": {
      "text/plain": [
       "Affine(28.23254382673943, 0.0, 489325.4971,\n",
       "       0.0, -31.766168813716423, 4128951.9286)"
      ]
     },
     "execution_count": 16,
     "metadata": {},
     "output_type": "execute_result"
    }
   ],
   "source": [
    "lc_transform"
   ]
  },
  {
   "cell_type": "code",
   "execution_count": 17,
   "id": "9b8b7f33-6a2f-4576-851f-0328cffea1de",
   "metadata": {},
   "outputs": [],
   "source": [
    "res = str(int(np.abs(lc_transform.e))) + 'm'"
   ]
  },
  {
   "cell_type": "code",
   "execution_count": 18,
   "id": "9a04c44a-f167-49b3-8b41-d79b5afc9ce8",
   "metadata": {},
   "outputs": [
    {
     "data": {
      "text/plain": [
       "'31m'"
      ]
     },
     "execution_count": 18,
     "metadata": {},
     "output_type": "execute_result"
    }
   ],
   "source": [
    "res"
   ]
  },
  {
   "cell_type": "markdown",
   "id": "administrative-hunter",
   "metadata": {
    "tags": []
   },
   "source": [
    "## Rivers and bridges as obstacles"
   ]
  },
  {
   "cell_type": "markdown",
   "id": "grand-phenomenon",
   "metadata": {},
   "source": [
    "Download rivers, transform to geodataframe in correct projection"
   ]
  },
  {
   "cell_type": "code",
   "execution_count": 19,
   "id": "promising-tourism",
   "metadata": {},
   "outputs": [
    {
     "name": "stderr",
     "output_type": "stream",
     "text": [
      "C:\\Users\\wb467985\\Anaconda3\\envs\\geo\\lib\\site-packages\\geopandas\\geodataframe.py:1322: SettingWithCopyWarning: \n",
      "A value is trying to be set on a copy of a slice from a DataFrame.\n",
      "Try using .loc[row_indexer,col_indexer] = value instead\n",
      "\n",
      "See the caveats in the documentation: https://pandas.pydata.org/pandas-docs/stable/user_guide/indexing.html#returning-a-view-versus-a-copy\n",
      "  super(GeoDataFrame, self).__setitem__(key, value)\n"
     ]
    }
   ],
   "source": [
    "# local file import\n",
    "rivs = gpd.read_file(os.path.join(in_river,\"osm_river_utm.shp\"),driver=\"ESRI Shapefile\")\n",
    "\n",
    "# minor cleanup\n",
    "rivs = rivs.reset_index()\n",
    "rivs_slim = rivs[['geometry']]\n",
    "rivs_slim['exist'] = 0\n",
    "rivs_slim = rivs_slim.to_crs(dest_crs)"
   ]
  },
  {
   "cell_type": "code",
   "execution_count": 20,
   "id": "abroad-jungle",
   "metadata": {},
   "outputs": [],
   "source": [
    "# optional export\n",
    "# rivs_slim.to_file(os.path.join(data_dir,vect_dir,\"rivers_osm_210710.shp\"),driver=\"ESRI Shapefile\")"
   ]
  },
  {
   "cell_type": "code",
   "execution_count": 21,
   "id": "mechanical-budapest",
   "metadata": {},
   "outputs": [],
   "source": [
    "# create a generator containing geometry, value pairs for rivers\n",
    "\n",
    "riv_shapes = ((geom,exist) for geom, exist in zip(rivs_slim.geometry,rivs_slim['exist']))\n",
    "\n",
    "# This will give the raster the size and dimensions of the landcover raster -- areas not covered by rivers will be 1.\n",
    "\n",
    "riv_rast = features.rasterize(riv_shapes,\\\n",
    "                  out_shape = (lc_profile['height'],\\\n",
    "                               lc_profile['width']),\\\n",
    "                  transform=lc_profile['transform'],\n",
    "                  all_touched=True,\n",
    "                  fill=1,\n",
    "                  dtype = np.float32)\n"
   ]
  },
  {
   "cell_type": "markdown",
   "id": "level-harvard",
   "metadata": {},
   "source": [
    "**Optional step, change the `using_bridges` parameter to trigger / disable**:\n",
    "</br>Download bridges, transform to geodataframe in correct projection, snap to nearest river"
   ]
  },
  {
   "cell_type": "code",
   "execution_count": 22,
   "id": "92ec0481-b539-4068-937e-a6abe983621c",
   "metadata": {},
   "outputs": [],
   "source": [
    "# change this to trigger / disable sequence below \n",
    "using_bridges = 'no'"
   ]
  },
  {
   "cell_type": "code",
   "execution_count": 23,
   "id": "57b8ae1d-ddf3-4bcc-87bd-f323a58a7067",
   "metadata": {},
   "outputs": [],
   "source": [
    "if using_bridges == 'yes':\n",
    "\n",
    "    brdgs = gpd.read_file(os.path.join(data_dir,vect_dir,\"bridges_osm_210710.shp\"),driver=\"ESRI Shapefile\")\n",
    "    brdgs = brdgs.to_crs(dest_crs)\n",
    "\n",
    "    # snapping to rivers\n",
    "    # from: https://gis.stackexchange.com/questions/306838/snap-points-shapefile-to-line-shapefile-using-shapely</br>\n",
    "\n",
    "    brdgs_snapped = [shapely.ops.snap(i,j, 2000) for i, j in zip(brdgs['geometry'],rivs_slim['geometry']) ]\n",
    "\n",
    "    # alternately\n",
    "    # from shapely.ops import nearest_points\n",
    "    # rivs_slim_unary = rivs_slim.geometry.unary_union\n",
    "    # brdgs_snapped = brdgs.geometry.apply(lambda x: rivs_slim_unary.interpolate(rivs_slim_unary.project(x)))\n",
    "\n",
    "    brdgs_snapped = gpd.GeoDataFrame(brdgs_snapped)\n",
    "    brdgs_snapped.rename({0:'geometry'},axis=1,inplace=True)\n",
    "    brdgs_snapped = brdgs_snapped.set_geometry('geometry').set_crs(dest_crs)\n",
    "    brdgs_snapped['exist'] = 1\n",
    "\n",
    "    # brdgs_snapped.to_file(os.path.join(data_dir,vect_dir,\"bridges_osm_210710.shp\"),driver=\"ESRI Shapefile\")\n",
    "\n",
    "    # generator of vector shapes and values (existean)\n",
    "\n",
    "    brdg_shapes = ((geom,exist) for geom, exist in zip(brdgs_snapped.geometry,brdgs_snapped['exist']))\n",
    "\n",
    "    # Create a bridge raster layer we can overlay on the rivers -- areas not covered by bridges will be 0\n",
    "\n",
    "    brdg_rast = features.rasterize(brdg_shapes,\\\n",
    "                      out_shape = (lc_profile['height'],\\\n",
    "                                   lc_profile['width']),\\\n",
    "                      transform=lc_profile['transform'],\n",
    "                      all_touched=True,\n",
    "                      fill=0,\n",
    "                      dtype = np.float32)\n",
    "\n",
    "    # Add rasters together and export as final river raster layer\n",
    "    \n",
    "    riv_rast_fin = riv_rast + brdg_rast # add rasters together so bridges punch \"holes\" in rivers\n",
    "\n",
    "else:\n",
    "    # If not using bridges\n",
    "    riv_rast_fin = riv_rast"
   ]
  },
  {
   "cell_type": "code",
   "execution_count": 24,
   "id": "0606fc12-9030-4102-898b-c6c8a3c93e31",
   "metadata": {},
   "outputs": [
    {
     "data": {
      "text/plain": [
       "(21580, 29320)"
      ]
     },
     "execution_count": 24,
     "metadata": {},
     "output_type": "execute_result"
    }
   ],
   "source": [
    "riv_rast_fin.shape"
   ]
  },
  {
   "cell_type": "code",
   "execution_count": 25,
   "id": "6a6d90d1-3754-4430-a437-726674a11e52",
   "metadata": {},
   "outputs": [
    {
     "data": {
      "text/plain": [
       "dtype('float32')"
      ]
     },
     "execution_count": 25,
     "metadata": {},
     "output_type": "execute_result"
    }
   ],
   "source": [
    "riv_rast_fin.dtype"
   ]
  },
  {
   "cell_type": "markdown",
   "id": "spanish-pharmaceutical",
   "metadata": {
    "tags": []
   },
   "source": [
    "## Roads to walking surface mask raster"
   ]
  },
  {
   "cell_type": "markdown",
   "id": "norman-ballot",
   "metadata": {},
   "source": [
    "We assume that people walking on roads and paths are not affected by landcover. To model this we turn roads into a raster with value = 1 (for 1 * speed). Then we merge it with the landcover raster for a final walking speed modifier raster"
   ]
  },
  {
   "cell_type": "code",
   "execution_count": 26,
   "id": "floppy-brisbane",
   "metadata": {},
   "outputs": [],
   "source": [
    "rds = gpd.read_file(os.path.join(data_dir,'master_transport_Sep23.gpkg'),driver=\"GPKG\")"
   ]
  },
  {
   "cell_type": "code",
   "execution_count": 27,
   "id": "sublime-smart",
   "metadata": {},
   "outputs": [],
   "source": [
    "# assign 1 value to represent existence of road\n",
    "rds['exist'] = 1\n",
    "\n",
    "# generator of vector shapes and values (boolean)\n",
    "rds_shapes = ((geom,exist_val) for geom, exist_val in zip(rds.geometry,rds['exist']))\n",
    "\n",
    "# This will give the raster the size and dimensions of the landcover raster -- areas not covered by roads will be 0.\n",
    "\n",
    "rd_mask_rast = features.rasterize(rds_shapes,\\\n",
    "                  out_shape = (lc_profile['height'],\\\n",
    "                               lc_profile['width']),\\\n",
    "                  transform=lc_profile['transform'],\n",
    "                  all_touched=True,\n",
    "                  fill=0,\n",
    "                  dtype = np.uint8)\n"
   ]
  },
  {
   "cell_type": "code",
   "execution_count": 28,
   "id": "bf1f9498-6d6d-49bd-8d1c-a0d663fe7c4e",
   "metadata": {},
   "outputs": [
    {
     "data": {
      "text/plain": [
       "(21580, 29320)"
      ]
     },
     "execution_count": 28,
     "metadata": {},
     "output_type": "execute_result"
    }
   ],
   "source": [
    "rd_mask_rast.shape"
   ]
  },
  {
   "cell_type": "markdown",
   "id": "tamil-meter",
   "metadata": {},
   "source": [
    "First combine the rivers with the landcover raster, inserting a `600000` divider where rivers exist, so crossing rivers without a bridge has a huge cost. Then combine with the road mask, inserting a `1` multiplier where roads are. The order is important, so roads overwrite rivers (implicitly via bridges, which are not reliably recorded in many roads datasets)\n",
    "</br></br>Note that if landcover *multipliers* instead of *dividers* are used, you need to invert this and use a very small decimal value for the rivers."
   ]
  },
  {
   "cell_type": "code",
   "execution_count": 29,
   "id": "saving-marsh",
   "metadata": {},
   "outputs": [],
   "source": [
    "walkspeed_mod_rast = np.where(riv_rast_fin == 0, 600000, lc_array)"
   ]
  },
  {
   "cell_type": "code",
   "execution_count": 30,
   "id": "experienced-lying",
   "metadata": {},
   "outputs": [],
   "source": [
    "walkspeed_mod_rast = np.where(rd_mask_rast == 1, 1, walkspeed_mod_rast)"
   ]
  },
  {
   "cell_type": "code",
   "execution_count": 31,
   "id": "abe09437-85a3-423e-a803-e222f765ed64",
   "metadata": {},
   "outputs": [
    {
     "data": {
      "text/plain": [
       "(1, 21580, 29320)"
      ]
     },
     "execution_count": 31,
     "metadata": {},
     "output_type": "execute_result"
    }
   ],
   "source": [
    "walkspeed_mod_rast.shape"
   ]
  },
  {
   "cell_type": "code",
   "execution_count": 32,
   "id": "e2c29029-01fd-4574-b088-5138c827ac2d",
   "metadata": {},
   "outputs": [
    {
     "data": {
      "text/plain": [
       "dtype('float64')"
      ]
     },
     "execution_count": 32,
     "metadata": {},
     "output_type": "execute_result"
    }
   ],
   "source": [
    "walkspeed_mod_rast.dtype"
   ]
  },
  {
   "cell_type": "code",
   "execution_count": 33,
   "id": "9f20f038-a19c-48d1-92dc-69a5faf28173",
   "metadata": {},
   "outputs": [
    {
     "data": {
      "text/plain": [
       "1.0"
      ]
     },
     "execution_count": 33,
     "metadata": {},
     "output_type": "execute_result"
    }
   ],
   "source": [
    "np.min(walkspeed_mod_rast)"
   ]
  },
  {
   "cell_type": "markdown",
   "id": "southwest-christopher",
   "metadata": {},
   "source": [
    "## Base walking speeds from DEM"
   ]
  },
  {
   "cell_type": "markdown",
   "id": "electric-chile",
   "metadata": {
    "tags": []
   },
   "source": [
    "#### DEM to slope"
   ]
  },
  {
   "cell_type": "markdown",
   "id": "baking-telling",
   "metadata": {},
   "source": [
    "First import the DEM and transform it to the same CRS, cell resolution, and dimensions as the landcover layer. This enables raster math between the layers and any other arrays derived from them."
   ]
  },
  {
   "cell_type": "code",
   "execution_count": 34,
   "id": "surface-institution",
   "metadata": {},
   "outputs": [],
   "source": [
    "with rasterio.open(os.path.join(in_dem,'DEM_KPK_UTM.tif')) as dem_src:\n",
    "    # Read as numpy array\n",
    "    dem_array = dem_src.read(1)\n",
    "    dem_transform = dem_src.transform\n",
    "    dem_profile = dem_src.profile\n"
   ]
  },
  {
   "cell_type": "code",
   "execution_count": 35,
   "id": "inappropriate-filename",
   "metadata": {},
   "outputs": [],
   "source": [
    "# must reproject to the same projection and cell-size as the landcover raster\n",
    "\n",
    "# create a blank array of the correct dimensions to populate while reprojecting\n",
    "dem_array_reproj = np.zeros(lc_array.shape, np.float32)\n",
    "\n",
    "# reproject\n",
    "\n",
    "with rasterio.Env():\n",
    "    reproject(\n",
    "        dem_array,\n",
    "        dem_array_reproj,\n",
    "        src_transform=dem_transform,\n",
    "        src_crs=dem_profile['crs'],\n",
    "        dst_transform=lc_profile['transform'],\n",
    "        dst_crs=lc_profile['crs'],\n",
    "        resampling=Resampling.cubic)"
   ]
  },
  {
   "cell_type": "code",
   "execution_count": 36,
   "id": "ecf53768-3c50-4549-89b1-c3acb5c32532",
   "metadata": {},
   "outputs": [
    {
     "data": {
      "text/plain": [
       "(1, 21580, 29320)"
      ]
     },
     "execution_count": 36,
     "metadata": {},
     "output_type": "execute_result"
    }
   ],
   "source": [
    "dem_array_reproj.shape\n"
   ]
  },
  {
   "cell_type": "code",
   "execution_count": 37,
   "id": "greatest-northern",
   "metadata": {},
   "outputs": [],
   "source": [
    "slope = get_slope(dem_array_reproj,mode='fraction')"
   ]
  },
  {
   "cell_type": "code",
   "execution_count": 38,
   "id": "ae2b2cca",
   "metadata": {},
   "outputs": [],
   "source": [
    "# remove artefacts that will produce slopes > 100%\n",
    "slope = np.where(slope>1,1,slope)"
   ]
  },
  {
   "cell_type": "code",
   "execution_count": 39,
   "id": "bfce8759-3bf6-4d8c-b14b-8fda5578d7ee",
   "metadata": {
    "tags": []
   },
   "outputs": [
    {
     "data": {
      "text/plain": [
       "dtype('float32')"
      ]
     },
     "execution_count": 39,
     "metadata": {},
     "output_type": "execute_result"
    }
   ],
   "source": [
    "slope.dtype"
   ]
  },
  {
   "cell_type": "markdown",
   "id": "unlikely-cardiff",
   "metadata": {},
   "source": [
    "Calculate walking speeds over the slope using Irmischer-Clarke's walking speed formula. We adjust for children's reduced walking gait by reducing I-C's 3.6 base speed to 3.132 (87%)"
   ]
  },
  {
   "cell_type": "code",
   "execution_count": 40,
   "id": "earlier-monkey",
   "metadata": {},
   "outputs": [],
   "source": [
    "# Irmischer-Clarke have a generic off-road speed but we don't use this given that we adjust by specific landcover type.  We stick to their on-road speed and modify that.\n",
    "# We include the off-roadbelow for reference\n",
    "\n",
    "# walkspeed_offroad = (0.11 + (0.67 * np.exp(-np.square((slope*100) + 2) / 3600))) * 3.6 # off road\n",
    "# walkspeed_onroad = (0.11 + np.exp(-np.square((slope*100) + 5) / 3600)) * 3.6\n",
    "walkspeed_onroad = (0.11 + np.exp(-np.square((slope*100) + 5) / 3600)) * 3.132 # children's"
   ]
  },
  {
   "cell_type": "code",
   "execution_count": 41,
   "id": "completed-opinion",
   "metadata": {},
   "outputs": [
    {
     "data": {
      "text/plain": [
       "array([[[3.4548452, 3.4548452, 3.4548452, ..., 3.4548452, 3.4548452,\n",
       "         3.4548452],\n",
       "        [3.4548452, 3.4548452, 3.4548452, ..., 3.4548452, 3.4548452,\n",
       "         3.4548452],\n",
       "        [3.4548452, 3.4548452, 3.4548452, ..., 3.4548452, 3.4548452,\n",
       "         3.4548452],\n",
       "        ...,\n",
       "        [3.434633 , 3.433584 , 3.4325814, ..., 3.4548452, 3.4548452,\n",
       "         3.4548452],\n",
       "        [3.4367406, 3.4356937, 3.4347172, ..., 3.4548452, 3.4548452,\n",
       "         3.4548452],\n",
       "        [3.438746 , 3.4376996, 3.4367492, ..., 3.4548452, 3.4548452,\n",
       "         3.4548452]]], dtype=float32)"
      ]
     },
     "execution_count": 41,
     "metadata": {},
     "output_type": "execute_result"
    }
   ],
   "source": [
    "walkspeed_onroad"
   ]
  },
  {
   "cell_type": "code",
   "execution_count": 42,
   "id": "necessary-democracy",
   "metadata": {},
   "outputs": [],
   "source": [
    "walkspeed_base = walkspeed_onroad\n",
    "# walkspeed_base = np.where(rd_mask_rast == 1,walkspeed_onroad,walkspeed_offroad) # included for reference purposes, in situations where you don't want to adjust by landcover"
   ]
  },
  {
   "cell_type": "code",
   "execution_count": 43,
   "id": "4a54a257-8b6f-48e5-9b5f-e1f9fffce285",
   "metadata": {},
   "outputs": [
    {
     "data": {
      "text/plain": [
       "0.49100557"
      ]
     },
     "execution_count": 43,
     "metadata": {},
     "output_type": "execute_result"
    }
   ],
   "source": [
    "np.min(walkspeed_base)"
   ]
  },
  {
   "cell_type": "code",
   "execution_count": 44,
   "id": "ca0cb141-b916-4c9e-83b7-8cdec5114f1f",
   "metadata": {},
   "outputs": [
    {
     "data": {
      "text/plain": [
       "3.4548452"
      ]
     },
     "execution_count": 44,
     "metadata": {},
     "output_type": "execute_result"
    }
   ],
   "source": [
    "np.max(walkspeed_base)"
   ]
  },
  {
   "cell_type": "code",
   "execution_count": 45,
   "id": "c805f688-d39d-4f45-b07b-5e69e8387bb5",
   "metadata": {},
   "outputs": [
    {
     "data": {
      "text/plain": [
       "(1, 21580, 29320)"
      ]
     },
     "execution_count": 45,
     "metadata": {},
     "output_type": "execute_result"
    }
   ],
   "source": [
    "walkspeed_base.shape"
   ]
  },
  {
   "cell_type": "markdown",
   "id": "encouraging-second",
   "metadata": {},
   "source": [
    "#### Vertical distances"
   ]
  },
  {
   "cell_type": "markdown",
   "id": "golden-latitude",
   "metadata": {},
   "source": [
    "Calculate the additional vertical distance covered when crossing a cell (the rise, in addition to the run represented by the cell's resolution)."
   ]
  },
  {
   "cell_type": "code",
   "execution_count": 46,
   "id": "animal-shepherd",
   "metadata": {},
   "outputs": [
    {
     "data": {
      "text/plain": [
       "array([[[0.        , 0.        , 0.        , ..., 0.        ,\n",
       "         0.        , 0.        ],\n",
       "        [0.        , 0.        , 0.        , ..., 0.        ,\n",
       "         0.        , 0.        ],\n",
       "        [0.        , 0.        , 0.        , ..., 0.        ,\n",
       "         0.        , 0.        ],\n",
       "        ...,\n",
       "        [0.0196207 , 0.02049321, 0.02131746, ..., 0.        ,\n",
       "         0.        , 0.        ],\n",
       "        [0.01783525, 0.01872793, 0.01955051, ..., 0.        ,\n",
       "         0.        , 0.        ],\n",
       "        [0.0160927 , 0.01700722, 0.01782777, ..., 0.        ,\n",
       "         0.        , 0.        ]]], dtype=float32)"
      ]
     },
     "execution_count": 46,
     "metadata": {},
     "output_type": "execute_result"
    }
   ],
   "source": [
    "slope"
   ]
  },
  {
   "cell_type": "code",
   "execution_count": 47,
   "id": "foreign-luxembourg",
   "metadata": {},
   "outputs": [],
   "source": [
    "vert_dist_simple = 1 / np.cos(slope)\n",
    "# vert_dist_simple = np.where(((vert_dist_simple<0) | (vert_dist_simple>2.5)),2.5,vert_dist_simple)"
   ]
  },
  {
   "cell_type": "code",
   "execution_count": 48,
   "id": "272f72a5-a521-483c-83b1-075aa6c5ccf7",
   "metadata": {},
   "outputs": [
    {
     "data": {
      "text/plain": [
       "(1, 21580, 29320)"
      ]
     },
     "execution_count": 48,
     "metadata": {},
     "output_type": "execute_result"
    }
   ],
   "source": [
    "vert_dist_simple.shape"
   ]
  },
  {
   "cell_type": "markdown",
   "id": "quality-decimal",
   "metadata": {},
   "source": [
    "Calculate the additional distance associated with zig-zagging paths - the zig goes sideways halfway up the cell, the zag sideways up the other half. We do not consider zig-zags that go more than 2 ways up a cell"
   ]
  },
  {
   "cell_type": "code",
   "execution_count": 49,
   "id": "cloudy-significance",
   "metadata": {},
   "outputs": [],
   "source": [
    "# the switchback cutoff value is somewhat arbitrary and perhaps even culturally defined. We use one of the higher values found in the literature\n",
    "\n",
    "switchback_cutoff = 0.30"
   ]
  },
  {
   "cell_type": "code",
   "execution_count": 50,
   "id": "organizational-cannon",
   "metadata": {},
   "outputs": [],
   "source": [
    "vert_dist_switchback = np.tan(slope) / np.sin(switchback_cutoff)"
   ]
  },
  {
   "cell_type": "markdown",
   "id": "numeric-summit",
   "metadata": {},
   "source": [
    "Combine the two arrays into one walking cost array, forcing walkers to use zig-zagging switchbacks while crossing terrain above a cutoff slope of `30%` (0.30). "
   ]
  },
  {
   "cell_type": "code",
   "execution_count": 51,
   "id": "surprised-correlation",
   "metadata": {},
   "outputs": [],
   "source": [
    "vert_dist_final = np.where(slope <= switchback_cutoff,vert_dist_simple,vert_dist_switchback)"
   ]
  },
  {
   "cell_type": "code",
   "execution_count": 52,
   "id": "stunning-latvia",
   "metadata": {},
   "outputs": [
    {
     "data": {
      "text/plain": [
       "array([[[1.       , 1.       , 1.       , ..., 1.       , 1.       ,\n",
       "         1.       ],\n",
       "        [1.       , 1.       , 1.       , ..., 1.       , 1.       ,\n",
       "         1.       ],\n",
       "        [1.       , 1.       , 1.       , ..., 1.       , 1.       ,\n",
       "         1.       ],\n",
       "        ...,\n",
       "        [1.0001925, 1.00021  , 1.0002272, ..., 1.       , 1.       ,\n",
       "         1.       ],\n",
       "        [1.000159 , 1.0001754, 1.0001911, ..., 1.       , 1.       ,\n",
       "         1.       ],\n",
       "        [1.0001295, 1.0001446, 1.0001589, ..., 1.       , 1.       ,\n",
       "         1.       ]]], dtype=float32)"
      ]
     },
     "execution_count": 52,
     "metadata": {},
     "output_type": "execute_result"
    }
   ],
   "source": [
    "vert_dist_final"
   ]
  },
  {
   "cell_type": "code",
   "execution_count": 53,
   "id": "usual-nevada",
   "metadata": {},
   "outputs": [
    {
     "data": {
      "text/plain": [
       "array([], dtype=float32)"
      ]
     },
     "execution_count": 53,
     "metadata": {},
     "output_type": "execute_result"
    }
   ],
   "source": [
    "vert_dist_final[vert_dist_final < 1]"
   ]
  },
  {
   "cell_type": "code",
   "execution_count": 54,
   "id": "4dc2c19a-9bb5-4fe4-b091-9b1cc302a9af",
   "metadata": {},
   "outputs": [
    {
     "data": {
      "text/plain": [
       "(1, 21580, 29320)"
      ]
     },
     "execution_count": 54,
     "metadata": {},
     "output_type": "execute_result"
    }
   ],
   "source": [
    "vert_dist_final.shape"
   ]
  },
  {
   "cell_type": "code",
   "execution_count": 55,
   "id": "bc3c08dd-4932-4574-9be1-ddef0a2b7fef",
   "metadata": {},
   "outputs": [],
   "source": [
    "vert_dist_simple = vert_dist_simple.astype(np.float32)\n",
    "vert_dist_final = vert_dist_final.astype(np.float32)"
   ]
  },
  {
   "cell_type": "code",
   "execution_count": 56,
   "id": "fallen-playback",
   "metadata": {},
   "outputs": [],
   "source": [
    "# # # optional -- write out the vertical-horizontal for future use\n",
    "\n",
    "# lc_profile.update({\"dtype\":'float32',\\\n",
    "#                    \"COMPRESS\":'ZSTD',\n",
    "#                    \"nodata\":-99999})\n",
    "\n",
    "# with rasterio.open(os.path.join(out_dir,f'KP_Combined_VertHorizontal_Distance_Simple_{today}_{res}.tif'),'w',**lc_profile) as dst1:\n",
    "#      dst1.write(vert_dist_simple)\n",
    "        \n",
    "# with rasterio.open(os.path.join(out_dir,f'KP_Combined_VertHorizontal_Distance_w_Switchbacks_{today}_{res}.tif'),'w',**lc_profile) as dst2:\n",
    "#      dst2.write(vert_dist_final)"
   ]
  },
  {
   "cell_type": "markdown",
   "id": "minus-knight",
   "metadata": {},
   "source": [
    "## Merge rasters into final walking friction surface"
   ]
  },
  {
   "cell_type": "markdown",
   "id": "suspended-apparatus",
   "metadata": {},
   "source": [
    "Combine the various arrays into a final walking friction surface in 5 stages:\n",
    "1. Multiply the base walking speed computed from the DEM Slope by the speed modifier\n",
    "2. Create a monsoon walking speed as 0.75 of the base walking speed\n",
    "3. Adjust the speeds for altitude\n",
    "4. Transform these speeds into friction values\n",
    "5. Multiply the friction values by the vert/horizontal multiplication factor (e.g. 1.5)\n",
    "6. Convert extraneous values to -99999 nodata values"
   ]
  },
  {
   "cell_type": "code",
   "execution_count": 57,
   "id": "understanding-visitor",
   "metadata": {},
   "outputs": [],
   "source": [
    "walkspeed_dry_child_step1 = np.divide(walkspeed_base,walkspeed_mod_rast)\n",
    "walkspeed_msn_child_step1 = np.multiply(walkspeed_dry_child_step1,0.75)"
   ]
  },
  {
   "cell_type": "code",
   "execution_count": 58,
   "id": "232e068f-de7a-402b-9158-1e75cefee4e5",
   "metadata": {},
   "outputs": [],
   "source": [
    "#Winter Speed Cutoff\n",
    "walkspeed_winter_child_step0 = np.where(dem_array_reproj <= 2350, walkspeed_dry_child_step1, (np.multiply(walkspeed_dry_child_step1,0.75)))\n",
    "walkspeed_winter_child_step1 = np.where(dem_array_reproj <= 3000, walkspeed_winter_child_step0, (np.multiply(walkspeed_dry_child_step1,0.6)))"
   ]
  },
  {
   "cell_type": "code",
   "execution_count": 59,
   "id": "7ec5bf29-0577-48ae-bf1d-81ea82ce93d7",
   "metadata": {},
   "outputs": [
    {
     "data": {
      "text/plain": [
       "4.910055696964264e-07"
      ]
     },
     "execution_count": 59,
     "metadata": {},
     "output_type": "execute_result"
    }
   ],
   "source": [
    "np.min(walkspeed_winter_child_step1)"
   ]
  },
  {
   "cell_type": "markdown",
   "id": "6ac782ce-fb33-4fc5-a13a-c2e43bc02109",
   "metadata": {},
   "source": [
    "Altitude Adjustment"
   ]
  },
  {
   "cell_type": "code",
   "execution_count": 60,
   "id": "7b2457bc-cf1e-4e03-8912-e628cd857bd1",
   "metadata": {},
   "outputs": [],
   "source": [
    "walkspeed_dry_child_step1 = walkspeed_dry_child_step1.astype(np.float32)\n",
    "walkspeed_msn_child_step1 = walkspeed_msn_child_step1.astype(np.float32)\n",
    "walkspeed_winter_child_step1 = walkspeed_winter_child_step1.astype(np.float32)"
   ]
  },
  {
   "cell_type": "code",
   "execution_count": 61,
   "id": "f5b21fd4-f414-417c-bf7f-98b2c088912b",
   "metadata": {},
   "outputs": [],
   "source": [
    "# We adjust altitude in two steps based on a literature review into how lower oxygen content at altitude affects walking speeds. Note this is not the best documented subject, at least in terms we can computer into a friction surface.\n",
    "# This formula could probably be streamlined so that this step is condensed into one move\n",
    "# The Global Friction Surface has just one formula but I found its high altitude (>5000) modifiers to be a little low compared to the available literature on athletic performance at altitude. Not a big deal except if you're working in the Himalayas\n",
    "\n",
    "alt_adjust_dry_under3k = np.where(dem_array_reproj <= 2350, walkspeed_dry_child_step1, ((walkspeed_dry_child_step1) / (1 + ((dem_array_reproj - 2350)/5000))) )\n",
    "walkspeed_dry_child_step2 = np.where(dem_array_reproj <= 3000, alt_adjust_dry_under3k, ((walkspeed_dry_child_step1) / (0.323 * np.exp((.00042*dem_array_reproj)))) )\n",
    "\n",
    "alt_adjust_msn_under3k = np.where(dem_array_reproj <= 2350, walkspeed_msn_child_step1, ((walkspeed_msn_child_step1) / (1 + ((dem_array_reproj - 2350)/5000))) )\n",
    "walkspeed_msn_child_step2 = np.where(dem_array_reproj <= 3000, alt_adjust_msn_under3k, ((walkspeed_msn_child_step1) / (0.323 * np.exp((.00042*dem_array_reproj)))) )\n",
    "\n",
    "alt_adjust_winter_under3k = np.where(dem_array_reproj <= 2350, walkspeed_winter_child_step1, ((walkspeed_winter_child_step1) / (1 + ((dem_array_reproj - 2350)/5000))) )\n",
    "walkspeed_winter_child_step2 = np.where(dem_array_reproj <= 3000, alt_adjust_winter_under3k, ((walkspeed_winter_child_step1) / (0.323 * np.exp((.00042*dem_array_reproj)))) )"
   ]
  },
  {
   "cell_type": "code",
   "execution_count": 62,
   "id": "02aecb4a-de77-49c9-b614-100f0f5597c4",
   "metadata": {},
   "outputs": [],
   "source": [
    "# refactor walking speeds to friction values in units of cell size / hour (e.g. 30m / hour)\n",
    "\n",
    "friction_walk_dry_child_step1 = (1 / walkspeed_dry_child_step2) / (1000 / lc_transform.a)\n",
    "friction_walk_msn_child_step1 = (1 / walkspeed_msn_child_step2) / (1000 / lc_transform.a)\n",
    "friction_walk_winter_child_step1 = (1 / walkspeed_winter_child_step2) / (1000 / lc_transform.a)"
   ]
  },
  {
   "cell_type": "code",
   "execution_count": 63,
   "id": "c4d2b11a-86ed-46b0-a2de-44859486dca7",
   "metadata": {},
   "outputs": [],
   "source": [
    "# now multiply the friction surface by the merged vertical/horizontal distance to calculate the final friction surface\n",
    "\n",
    "friction_walk_dry_child_final = np.multiply(friction_walk_dry_child_step1,vert_dist_final)\n",
    "friction_walk_msn_child_final = np.multiply(friction_walk_msn_child_step1,vert_dist_final)\n",
    "friction_walk_winter_child_final = np.multiply(friction_walk_winter_child_step1,vert_dist_final)"
   ]
  },
  {
   "cell_type": "markdown",
   "id": "4cc2f22a-bbdc-4d3c-be24-3fbbfc6c8d4b",
   "metadata": {},
   "source": [
    "Weed out Inf values and super high river values"
   ]
  },
  {
   "cell_type": "code",
   "execution_count": 64,
   "id": "76896fd6-84f9-41ba-a4cc-74d2b0e172e7",
   "metadata": {},
   "outputs": [],
   "source": [
    "# we use 1 as an arbitrary cutoff on the assumption that it will never actually take 1 hour to cross a grid cell, so values above that are bogus and filterable\n",
    "\n",
    "friction_walk_dry_child_final = np.where(friction_walk_dry_child_final > 1, 10, friction_walk_dry_child_final)\n",
    "friction_walk_msn_child_final = np.where(friction_walk_msn_child_final > 1, 10, friction_walk_msn_child_final)\n",
    "friction_walk_winter_child_final = np.where(friction_walk_winter_child_final > 1, 10, friction_walk_winter_child_final)"
   ]
  },
  {
   "cell_type": "markdown",
   "id": "2947b150-4390-4cd5-be20-19722d05dda5",
   "metadata": {},
   "source": [
    "Round up and chnage flie size to float 32 to reduce file size"
   ]
  },
  {
   "cell_type": "code",
   "execution_count": 65,
   "id": "600eb89b-1993-4845-aded-b4e7a6a3b74d",
   "metadata": {},
   "outputs": [],
   "source": [
    "friction_walk_dry_child_final = np.round(friction_walk_dry_child_final,8).astype(np.float32)\n",
    "friction_walk_msn_child_final = np.round(friction_walk_msn_child_final,8).astype(np.float32)\n",
    "friction_walk_winter_child_final = np.round(friction_walk_winter_child_final,8).astype(np.float32)"
   ]
  },
  {
   "cell_type": "code",
   "execution_count": 66,
   "id": "db9731db-69ce-41f9-bcb2-8444c50d5d5a",
   "metadata": {},
   "outputs": [],
   "source": [
    "#friction_walk_dry_child_final"
   ]
  },
  {
   "cell_type": "code",
   "execution_count": 67,
   "id": "a95b2acd-a1ca-4dfe-976f-704eb08bcff9",
   "metadata": {},
   "outputs": [],
   "source": [
    "#friction_walk_msn_child_final"
   ]
  },
  {
   "cell_type": "code",
   "execution_count": 68,
   "id": "6fc18e6a-0a37-405f-af93-c0ac85c0312a",
   "metadata": {},
   "outputs": [
    {
     "data": {
      "text/plain": [
       "array([[[0.0122578 , 0.0122578 , 0.0122578 , ..., 0.0122578 ,\n",
       "         0.0122578 , 0.0122578 ],\n",
       "        [0.0122578 , 0.0122578 , 0.0122578 , ..., 0.0122578 ,\n",
       "         0.0122578 , 0.0122578 ],\n",
       "        [0.0122578 , 0.0122578 , 0.0122578 , ..., 0.0122578 ,\n",
       "         0.0122578 , 0.0122578 ],\n",
       "        ...,\n",
       "        [0.01233231, 0.0123363 , 0.01234011, ..., 0.0122578 ,\n",
       "         0.0122578 , 0.0122578 ],\n",
       "        [0.01232434, 0.01232829, 0.01233199, ..., 0.0122578 ,\n",
       "         0.0122578 , 0.0122578 ],\n",
       "        [0.01231679, 0.01232072, 0.0123243 , ..., 0.0122578 ,\n",
       "         0.0122578 , 0.0122578 ]]], dtype=float32)"
      ]
     },
     "execution_count": 68,
     "metadata": {},
     "output_type": "execute_result"
    }
   ],
   "source": [
    "friction_walk_winter_child_final"
   ]
  },
  {
   "cell_type": "markdown",
   "id": "0d1a6bfb",
   "metadata": {},
   "source": [
    "Cropped version of Friction_Walk"
   ]
  },
  {
   "cell_type": "code",
   "execution_count": 69,
   "id": "00f4400b-df7f-40dd-9f38-7be428b5c35e",
   "metadata": {},
   "outputs": [],
   "source": [
    "export_profile = lc_profile.copy()\n",
    "export_profile.update({\"dtype\":'float32',\\\n",
    "                       \"COMPRESS\":'ZSTD',\n",
    "                       \"NUM_THREADS\":'ALL_CPUS',\n",
    "                       \"nodata\":-99999})"
   ]
  },
  {
   "cell_type": "code",
   "execution_count": 70,
   "id": "6d8af9e8-a557-4724-acb9-70c62e998b85",
   "metadata": {},
   "outputs": [],
   "source": [
    "# Clip the friction array by the buffered KP outline\n",
    "# use a MemoryFile to avoid lots of IO -- otherwise have to save down, then load back up.\n",
    "\n",
    "# Dry\n",
    "with MemoryFile() as memfile_dry:\n",
    "    with memfile_dry.open(**export_profile) as fric_walk_dry_in_mem:\n",
    "        fric_walk_dry_in_mem.write(friction_walk_dry_child_final)\n",
    "\n",
    "        # Crop the memfile with the the KP shape\n",
    "        friction_walk_dry_child_final_mask, friction_walk_dry_mask_tform = mask(fric_walk_dry_in_mem, kp.geometry, crop=True)\n",
    "\n",
    "# Monsoon\n",
    "with MemoryFile() as memfile_msn:\n",
    "    with memfile_msn.open(**export_profile) as fric_walk_msn_in_mem:\n",
    "        fric_walk_msn_in_mem.write(friction_walk_msn_child_final)\n",
    "\n",
    "        # Crop the memfile with the KP shape\n",
    "        friction_walk_msn_child_final_mask, friction_walk_msn_mask_tform = mask(fric_walk_msn_in_mem, kp.geometry, crop=True)\n",
    "        \n",
    "# Winter\n",
    "\n",
    "with MemoryFile() as memfile_winter:\n",
    "    with memfile_winter.open(**export_profile) as fric_walk_winter_in_mem:\n",
    "        fric_walk_winter_in_mem.write(friction_walk_winter_child_final)\n",
    "\n",
    "        # Crop the memfile with the the KP shape\n",
    "        friction_walk_winter_child_final_mask, friction_walk_winter_mask_tform = mask(fric_walk_winter_in_mem, kp.geometry, crop=True)"
   ]
  },
  {
   "cell_type": "code",
   "execution_count": 71,
   "id": "f257fca9-3b2a-406e-b9d1-bbf26688ee5a",
   "metadata": {},
   "outputs": [],
   "source": [
    "# ensure it's float32 so the output size is smaller\n",
    "friction_walk_dry_child_final_mask = friction_walk_dry_child_final_mask.astype(np.float32)\n",
    "friction_walk_msn_child_final_mask = friction_walk_msn_child_final_mask.astype(np.float32)\n",
    "friction_walk_winter_child_final_mask = friction_walk_winter_child_final_mask.astype(np.float32)"
   ]
  },
  {
   "cell_type": "code",
   "execution_count": 72,
   "id": "9906490c-3385-4906-a685-1ec6d19045b1",
   "metadata": {},
   "outputs": [],
   "source": [
    "# make a new profile for export, inserting the new height/width/transform values from the clipped raster\n",
    "\n",
    "mask_profile = export_profile.copy()\n",
    "\n",
    "mask_profile.update({\"dtype\" : 'float32',\n",
    "                     \"height\":friction_walk_winter_child_final_mask.shape[1],\n",
    "                     \"width\":friction_walk_winter_child_final_mask.shape[2],\n",
    "                     \"transform\" : friction_walk_winter_mask_tform})"
   ]
  },
  {
   "cell_type": "code",
   "execution_count": 73,
   "id": "bf284087-5a27-49df-a098-4934086ee72b",
   "metadata": {},
   "outputs": [],
   "source": [
    "# Export the three seasons\n",
    "\n",
    "with rasterio.open(os.path.join(fric_dir,f'KP_frictionwalkchild_dry_{today}_{res}_masked.tif'),'w',**mask_profile) as dst:\n",
    "    dst.write(friction_walk_dry_child_final_mask)\n",
    "    dst.build_overviews = ([2,4,8,10,14,16],Resampling.nearest) # build pyramids for quick viewing in desktop GIS software\n",
    "    \n",
    "with rasterio.open(os.path.join(fric_dir,f'KP_frictionwalkchild_msn_{today}_{res}_masked.tif'),'w',**mask_profile) as dst:\n",
    "    dst.write(friction_walk_msn_child_final_mask)\n",
    "    dst.build_overviews = ([2,4,8,10,14,16],Resampling.nearest) # build pyramids for quick viewing in desktop GIS software\n",
    "\n",
    "with rasterio.open(os.path.join(fric_dir,f'KP_frictionwalkchild_winter_{today}_{res}_masked.tif'),'w',**mask_profile) as dst:\n",
    "    dst.write(friction_walk_winter_child_final_mask)\n",
    "    dst.build_overviews = ([2,4,8,10,14,16],Resampling.nearest) # build pyramids for quick viewing in desktop GIS software"
   ]
  },
  {
   "cell_type": "markdown",
   "id": "352888d1",
   "metadata": {},
   "source": [
    "# Intermediate file export"
   ]
  },
  {
   "cell_type": "markdown",
   "id": "61deb066",
   "metadata": {},
   "source": [
    "For error checking purposes"
   ]
  },
  {
   "cell_type": "code",
   "execution_count": null,
   "id": "b4a07682",
   "metadata": {},
   "outputs": [],
   "source": [
    "with rasterio.open(\n",
    "        os.path.join(out_dir,f'KP_LC_Modifier.tif'), 'w',**lc_profile) as dst:\n",
    "    dst.write(lc_array)"
   ]
  },
  {
   "cell_type": "code",
   "execution_count": null,
   "id": "733663d5",
   "metadata": {},
   "outputs": [],
   "source": [
    "with rasterio.open(\n",
    "        os.path.join(out_dir,f'KP_River_Raster.tif'), 'w',**lc_profile) as dst:\n",
    "    dst.write(riv_rast, indexes=1)"
   ]
  },
  {
   "cell_type": "code",
   "execution_count": null,
   "id": "c999220f",
   "metadata": {},
   "outputs": [],
   "source": [
    "slope = slope.astype('float64')\n",
    "dem_profile.update({\"dtype\":'float64',\\\n",
    "                    \"compress\":'LZW'})"
   ]
  },
  {
   "cell_type": "code",
   "execution_count": null,
   "id": "215c0b38",
   "metadata": {},
   "outputs": [],
   "source": [
    "# # optional -- write out the slope for future use\n",
    "lc_profile.update({\"dtype\":'float64',\\\n",
    "                   \"COMPRESS\":'LZW',\n",
    "                   \"nodata\":-99999})\n",
    "\n",
    "with rasterio.open(os.path.join(out_dir,'KP_Slope.tif'),'w',**lc_profile) as dst:\n",
    "     dst.write(slope)"
   ]
  },
  {
   "cell_type": "code",
   "execution_count": null,
   "id": "821514e6",
   "metadata": {},
   "outputs": [],
   "source": [
    "lc_profile.update({\"dtype\":'float64',\\\n",
    "                   \"COMPRESS\":'LZW',\n",
    "                   \"nodata\":-99999})\n",
    "\n",
    "with rasterio.open(os.path.join(out_dir,'KP_Walkspeed_base.tif'),'w',**lc_profile) as dst:\n",
    "     dst.write(walkspeed_base)"
   ]
  },
  {
   "cell_type": "code",
   "execution_count": null,
   "id": "41cb2d78",
   "metadata": {},
   "outputs": [],
   "source": [
    "lc_profile.update({\"dtype\":'float64',\\\n",
    "                   \"COMPRESS\":'LZW',\n",
    "                   \"nodata\":-99999})\n",
    "\n",
    "with rasterio.open(os.path.join(out_dir,'KP_Walkspeed_Modifier.tif'),'w',**lc_profile) as dst:\n",
    "     dst.write(walkspeed_mod_rast)"
   ]
  },
  {
   "cell_type": "code",
   "execution_count": null,
   "id": "614ddf53",
   "metadata": {},
   "outputs": [],
   "source": []
  },
  {
   "cell_type": "code",
   "execution_count": null,
   "id": "bbfbf54e",
   "metadata": {},
   "outputs": [],
   "source": [
    "lc_profile.update({\"dtype\":'float64',\\\n",
    "                   \"COMPRESS\":'ZSTD',\n",
    "                   \"nodata\":-99999})\n",
    "\n",
    "with rasterio.open(os.path.join(out_dir,f'KP_alt_adjust_dry_under3k_{today}.tif'),'w',**lc_profile) as dst:\n",
    "     dst.write(alt_adjust_dry_under3k)"
   ]
  },
  {
   "cell_type": "code",
   "execution_count": null,
   "id": "89cc17a4",
   "metadata": {},
   "outputs": [],
   "source": [
    "lc_profile.update({\"dtype\":'float64',\\\n",
    "                   \"COMPRESS\":'ZSTD',\n",
    "                   \"nodata\":-99999})\n",
    "\n",
    "with rasterio.open(os.path.join(out_dir,f'KP_walkspeed_dry_step2_new_{today}.tif'),'w',**lc_profile) as dst:\n",
    "     dst.write(walkspeed_dry_step2)"
   ]
  },
  {
   "cell_type": "code",
   "execution_count": null,
   "id": "a8689369",
   "metadata": {},
   "outputs": [],
   "source": [
    "#Temporary adjustment over 3k\n",
    "temp_over3k = (0.323 * np.exp((.00042*dem_array_reproj)))"
   ]
  },
  {
   "cell_type": "code",
   "execution_count": null,
   "id": "88de8c4e",
   "metadata": {},
   "outputs": [],
   "source": [
    "lc_profile.update({\"dtype\":'float64',\\\n",
    "                   \"COMPRESS\":'ZSTD',\n",
    "                   \"nodata\":-99999})\n",
    "\n",
    "with rasterio.open(os.path.join(out_dir,f'KP_temp_over3k_{today}.tif'),'w',**lc_profile) as dst:\n",
    "     dst.write(temp_over3k)"
   ]
  },
  {
   "cell_type": "code",
   "execution_count": null,
   "id": "b7cf9188",
   "metadata": {},
   "outputs": [],
   "source": [
    "temp_walkspeed_over3k = (walkspeed_dry_step1)/(0.323 * np.exp((.00042*dem_array_reproj)))"
   ]
  },
  {
   "cell_type": "code",
   "execution_count": null,
   "id": "a07ba09d",
   "metadata": {},
   "outputs": [],
   "source": [
    "lc_profile.update({\"dtype\":'float64',\\\n",
    "                   \"COMPRESS\":'ZSTD',\n",
    "                   \"nodata\":-99999})\n",
    "\n",
    "with rasterio.open(os.path.join(out_dir,f'KP_temp_walkspeed_over3k_{today}.tif'),'w',**lc_profile) as dst:\n",
    "     dst.write(temp_walkspeed_over3k)"
   ]
  },
  {
   "cell_type": "code",
   "execution_count": null,
   "id": "02323bc9",
   "metadata": {},
   "outputs": [],
   "source": []
  }
 ],
 "metadata": {
  "kernelspec": {
   "display_name": "Python 3 (ipykernel)",
   "language": "python",
   "name": "python3"
  },
  "language_info": {
   "codemirror_mode": {
    "name": "ipython",
    "version": 3
   },
   "file_extension": ".py",
   "mimetype": "text/x-python",
   "name": "python",
   "nbconvert_exporter": "python",
   "pygments_lexer": "ipython3",
   "version": "3.8.10"
  }
 },
 "nbformat": 4,
 "nbformat_minor": 5
}
