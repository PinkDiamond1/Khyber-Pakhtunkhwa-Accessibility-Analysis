{
 "cells": [
  {
   "cell_type": "markdown",
   "id": "edf11558-07e1-4465-8c89-066e3ac80ee5",
   "metadata": {
    "tags": []
   },
   "source": [
    "# Merging into Final Friction Surface(s)\n",
    "</br> This notebook merges the on road and off road speed surfaces and recalculates them as friction surfaces"
   ]
  },
  {
   "cell_type": "code",
   "execution_count": 4,
   "id": "120a0842-80f0-423a-9c03-eb3e1c9d25de",
   "metadata": {
    "tags": []
   },
   "outputs": [],
   "source": [
    "import os, sys\n",
    "\n",
    "from datetime import datetime\n",
    "\n",
    "import pprint\n",
    "# from pprint import pprint\n",
    "\n",
    "import common_rasterio_ops as rast_ops\n",
    "\n",
    "import numpy as np\n",
    "from numpy import pi, log, tan, empty, float32, arctan, rad2deg, gradient\n",
    "from numpy import arctan2, reshape, where\n",
    "from scipy.ndimage import gaussian_gradient_magnitude\n",
    "\n",
    "import rasterio\n",
    "from rasterio import features, transform\n",
    "from rasterio.mask import mask\n",
    "from rasterio.transform import Affine\n",
    "from rasterio.warp import calculate_default_transform, reproject, Resampling\n",
    "from rasterio.io import MemoryFile\n",
    "\n",
    "import pandas as pd\n",
    "import geopandas as gpd\n",
    "\n",
    "import shapely\n",
    "from shapely.geometry import shape, box, Polygon"
   ]
  },
  {
   "cell_type": "markdown",
   "id": "e5f1844c-c164-4f7d-858e-c5bc8bec7910",
   "metadata": {},
   "source": [
    "### Setup"
   ]
  },
  {
   "cell_type": "markdown",
   "id": "548622ab-5f8f-4b0a-8720-64e873207cb6",
   "metadata": {},
   "source": [
    "Directories"
   ]
  },
  {
   "cell_type": "code",
   "execution_count": 5,
   "id": "783e462e-f3b3-4a6a-8440-a3e0a09fe377",
   "metadata": {},
   "outputs": [],
   "source": [
    "data_dir = r'P:\\PAK\\\\Code\\Accessibility\\Inputs'\n",
    "out_dir = r'P:\\PAK\\\\Code\\Accessibility\\Intermediate_Rasters'\n",
    "fric_dir = r'P:\\PAK\\\\Code\\Accessibility\\Friction_Surface'"
   ]
  },
  {
   "cell_type": "markdown",
   "id": "c04554c1-2c04-4f28-93cf-dae82653bad4",
   "metadata": {},
   "source": [
    "Projections"
   ]
  },
  {
   "cell_type": "code",
   "execution_count": 6,
   "id": "1c826cce-5796-4bfe-a989-27e22b7e4abb",
   "metadata": {},
   "outputs": [],
   "source": [
    "dest_crs = 'EPSG:32642' # this is a Pakistani UTM projection, assign correct projection for project area"
   ]
  },
  {
   "cell_type": "markdown",
   "id": "5fa3e5f1-b700-43d9-ac1d-c9d008e158ff",
   "metadata": {},
   "source": [
    "Today's date"
   ]
  },
  {
   "cell_type": "code",
   "execution_count": 7,
   "id": "dc3f382d-e082-4f9b-af0a-e377c4d89ceb",
   "metadata": {},
   "outputs": [],
   "source": [
    "today = datetime.today().strftime('%y%m%d')"
   ]
  },
  {
   "cell_type": "markdown",
   "id": "fd7a3ee9-7162-43b2-a680-8542dc2cb72c",
   "metadata": {},
   "source": [
    "Data creation date"
   ]
  },
  {
   "cell_type": "code",
   "execution_count": 8,
   "id": "c9244341-d616-41bc-925c-61db4ca70d1d",
   "metadata": {},
   "outputs": [],
   "source": [
    "# Note this only works if all your data was produced on the same day. Otherwise you'll need to manually specify file dates in their names\n",
    "data_date = '210927'"
   ]
  },
  {
   "cell_type": "markdown",
   "id": "d6ec43e3-f040-441b-b980-40c1bd4e3e6e",
   "metadata": {},
   "source": [
    "Resolution"
   ]
  },
  {
   "cell_type": "code",
   "execution_count": 9,
   "id": "32db3413-0643-4896-8d1a-c9fc9ae73800",
   "metadata": {},
   "outputs": [],
   "source": [
    "# change to reflect the resolution of raster file you want to create\n",
    "res = '31m'"
   ]
  },
  {
   "cell_type": "markdown",
   "id": "21cf1362-ffe5-407d-a81a-e9bcf07ac144",
   "metadata": {
    "tags": []
   },
   "source": [
    "# Create final multi-modal friction surface"
   ]
  },
  {
   "cell_type": "markdown",
   "id": "b63cc8f1-92b0-4254-9088-58fc96a14d92",
   "metadata": {},
   "source": [
    "Now that the walking surface is created, we can combine it with the previously created on-road speed surfaces, once we transform them to friction surfaces. Combining the two yields the final multi-modal friction surface"
   ]
  },
  {
   "cell_type": "markdown",
   "id": "7e68ca2f-7c4e-4c9f-b813-6b58241866d8",
   "metadata": {
    "tags": []
   },
   "source": [
    "### Loading data"
   ]
  },
  {
   "cell_type": "markdown",
   "id": "a895e15b-d863-43ba-9834-0c5df152c529",
   "metadata": {},
   "source": [
    "Load in a shapefile of KP to clip data with"
   ]
  },
  {
   "cell_type": "code",
   "execution_count": 10,
   "id": "18d9f430-b2b4-42b3-ac9c-67304842ddfd",
   "metadata": {},
   "outputs": [],
   "source": [
    "aoi = gpd.read_file(r'P:\\PAK\\GEO\\Boundaries\\OCHA\\pak_admbnda_adm1_ocha_pco_gaul_20181218.shp')"
   ]
  },
  {
   "cell_type": "code",
   "execution_count": 11,
   "id": "63794645-ea74-4002-8406-87d0a542f098",
   "metadata": {},
   "outputs": [],
   "source": [
    "aoi = aoi[aoi['ADM1_EN'] == 'Khyber Pakhtunkhwa']\n",
    "aoi = aoi.to_crs(dest_crs)"
   ]
  },
  {
   "cell_type": "code",
   "execution_count": 12,
   "id": "0a2e6ce3-4d82-4ba5-bdfd-48c4e764a242",
   "metadata": {},
   "outputs": [],
   "source": [
    "# Buffer the polygon by 20km so we take in nearby markets and roads that may be used\n",
    "aoi.geometry = aoi.buffer(20000)"
   ]
  },
  {
   "cell_type": "code",
   "execution_count": 13,
   "id": "20dc594e-466f-447c-8b3f-3b001dc10dfd",
   "metadata": {},
   "outputs": [
    {
     "data": {
      "text/html": [
       "<div>\n",
       "<style scoped>\n",
       "    .dataframe tbody tr th:only-of-type {\n",
       "        vertical-align: middle;\n",
       "    }\n",
       "\n",
       "    .dataframe tbody tr th {\n",
       "        vertical-align: top;\n",
       "    }\n",
       "\n",
       "    .dataframe thead th {\n",
       "        text-align: right;\n",
       "    }\n",
       "</style>\n",
       "<table border=\"1\" class=\"dataframe\">\n",
       "  <thead>\n",
       "    <tr style=\"text-align: right;\">\n",
       "      <th></th>\n",
       "      <th>Shape_Leng</th>\n",
       "      <th>Shape_Area</th>\n",
       "      <th>ADM1_EN</th>\n",
       "      <th>ADM1_PCODE</th>\n",
       "      <th>ADM1_REF</th>\n",
       "      <th>ADM1ALT1EN</th>\n",
       "      <th>ADM1ALT2EN</th>\n",
       "      <th>ADM0_EN</th>\n",
       "      <th>ADM0_PCODE</th>\n",
       "      <th>date</th>\n",
       "      <th>validOn</th>\n",
       "      <th>validTo</th>\n",
       "      <th>geometry</th>\n",
       "    </tr>\n",
       "  </thead>\n",
       "  <tbody>\n",
       "    <tr>\n",
       "      <th>2</th>\n",
       "      <td>27.479368</td>\n",
       "      <td>9.901186</td>\n",
       "      <td>Khyber Pakhtunkhwa</td>\n",
       "      <td>PK2</td>\n",
       "      <td>None</td>\n",
       "      <td>None</td>\n",
       "      <td>None</td>\n",
       "      <td>Pakistan</td>\n",
       "      <td>PK</td>\n",
       "      <td>2018-11-30</td>\n",
       "      <td>2018-12-18</td>\n",
       "      <td>None</td>\n",
       "      <td>POLYGON ((505910.537 3561734.747, 505840.700 3...</td>\n",
       "    </tr>\n",
       "  </tbody>\n",
       "</table>\n",
       "</div>"
      ],
      "text/plain": [
       "   Shape_Leng  Shape_Area             ADM1_EN ADM1_PCODE ADM1_REF ADM1ALT1EN  \\\n",
       "2   27.479368    9.901186  Khyber Pakhtunkhwa        PK2     None       None   \n",
       "\n",
       "  ADM1ALT2EN   ADM0_EN ADM0_PCODE        date     validOn validTo  \\\n",
       "2       None  Pakistan         PK  2018-11-30  2018-12-18    None   \n",
       "\n",
       "                                            geometry  \n",
       "2  POLYGON ((505910.537 3561734.747, 505840.700 3...  "
      ]
     },
     "execution_count": 13,
     "metadata": {},
     "output_type": "execute_result"
    }
   ],
   "source": [
    "aoi.head()"
   ]
  },
  {
   "cell_type": "markdown",
   "id": "9358785e-776c-4fbd-a8f5-dad7be5f5251",
   "metadata": {},
   "source": [
    "Load in the off-road friction surfaces (for all seasons)."
   ]
  },
  {
   "cell_type": "code",
   "execution_count": 14,
   "id": "ce98ef38-3fae-4a8f-abc6-b3981fc282b5",
   "metadata": {
    "tags": []
   },
   "outputs": [],
   "source": [
    "with rasterio.open(os.path.join(fric_dir,f'KP_friction_walk_dry_{data_date}_{res}_masked.tif')) as dry_offr_src:\n",
    "    friction_walk_dry_final = dry_offr_src.read()\n",
    "    dry_offr_profile = dry_offr_src.profile\n",
    "    dry_offr_transform = dry_offr_src.transform\n",
    "\n",
    "with rasterio.open(os.path.join(fric_dir,f'KP_friction_walk_msn_{data_date}_{res}_masked.tif')) as msn_offr_src:\n",
    "    friction_walk_msn_final = msn_offr_src.read()\n",
    "    msn_offr_profile = msn_offr_src.profile\n",
    "    msn_offr_transform = msn_offr_src.transform\n",
    "    \n",
    "with rasterio.open(os.path.join(fric_dir,f'KP_friction_walk_winter_{data_date}_{res}_masked.tif')) as winter_offr_src:\n",
    "    friction_walk_winter_final = winter_offr_src.read()\n",
    "    winter_offr_profile = winter_offr_src.profile\n",
    "    winter_offr_transform = winter_offr_src.transform"
   ]
  },
  {
   "cell_type": "markdown",
   "id": "b9e77b93-3f93-4f03-8cb4-1dc7e822b5c0",
   "metadata": {},
   "source": [
    "Load in the vertical distance raster, clip it, and warp it to the correct resolution / cell size."
   ]
  },
  {
   "cell_type": "code",
   "execution_count": 19,
   "id": "b8c11051-fd76-4bfd-9824-eeb7a7e7b2fc",
   "metadata": {},
   "outputs": [],
   "source": [
    "# This layer represents the extra total distance that must be traversed due to vertical gains, accounting for the likelihood of walkers using switchbacks on slopes above 30 degrees\n",
    "# Swap in the non-switchback (\"simple\") layer produced in Step 2 if not using switchbacks\n",
    "with rasterio.open(os.path.join(out_dir,f'KP_Combined_VertHorizontal_Distance_Switchbacks_220109_{res}_masked.tif'),'r') as vertdist_switchback_src:\n",
    "    vert_dist_switchback = vertdist_switchback_src.read()"
   ]
  },
  {
   "cell_type": "markdown",
   "id": "3d3383d2-0e9e-4074-9a4e-1c2396cc6198",
   "metadata": {},
   "source": [
    "Load in the on-road speed surfaces (for all seasons)."
   ]
  },
  {
   "cell_type": "code",
   "execution_count": 20,
   "id": "642290cf-2a49-4bde-ab92-12d6b8931b08",
   "metadata": {
    "tags": []
   },
   "outputs": [],
   "source": [
    "with rasterio.open(os.path.join(out_dir,f'KP_OnRoad_dry_speed_211019_{res}_masked.tif')) as dry_onr_src:\n",
    "    drivespeed_dry_array = dry_onr_src.read()\n",
    "    dry_onr_profile = dry_onr_src.profile\n",
    "    dry_onr_transform = dry_onr_src.transform\n",
    "\n",
    "with rasterio.open(os.path.join(out_dir,f'KP_OnRoad_msn_speed_211019_{res}_masked.tif')) as msn_onr_src:\n",
    "    drivespeed_msn_array = msn_onr_src.read()\n",
    "    msn_onr_profile = msn_onr_src.profile\n",
    "    msn_onr_transform = msn_onr_src.transform\n",
    "    \n",
    "with rasterio.open(os.path.join(out_dir,f'KP_OnRoad_winter_speed_211019_{res}_masked.tif')) as winter_onr_src:\n",
    "    drivespeed_winter_array = winter_onr_src.read()\n",
    "    winter_onr_profile = winter_onr_src.profile\n",
    "    winter_onr_transform = winter_onr_src.profile"
   ]
  },
  {
   "cell_type": "markdown",
   "id": "36482614-59a7-415c-b8ba-5bf8f988b33c",
   "metadata": {
    "tags": []
   },
   "source": [
    "### Convert to friction surfaces"
   ]
  },
  {
   "cell_type": "code",
   "execution_count": 21,
   "id": "39f0df20-470e-46fa-88e5-b8784dd6b312",
   "metadata": {},
   "outputs": [],
   "source": [
    "# use the offroad transform as the reference transform (this is arbitrary, any would do)\n",
    "base_transform = dry_offr_transform"
   ]
  },
  {
   "cell_type": "markdown",
   "id": "f61f05fd-a136-4632-ba5b-c1cdfa234bf3",
   "metadata": {},
   "source": [
    "Convert speed surfaces to friction surfaces"
   ]
  },
  {
   "cell_type": "code",
   "execution_count": 22,
   "id": "01a9041a-002d-4353-bcd2-4b00fd50ecfc",
   "metadata": {},
   "outputs": [
    {
     "name": "stderr",
     "output_type": "stream",
     "text": [
      "C:\\Users\\wb467985\\AppData\\Local\\Temp/ipykernel_13196/2999462858.py:3: RuntimeWarning: divide by zero encountered in true_divide\n",
      "  friction_drive_dry_step1 = (1 / drivespeed_dry_array) / (1000 / base_transform.a)\n",
      "C:\\Users\\wb467985\\AppData\\Local\\Temp/ipykernel_13196/2999462858.py:4: RuntimeWarning: divide by zero encountered in true_divide\n",
      "  friction_drive_msn_step1 = (1 / drivespeed_msn_array) / (1000 / base_transform.a)\n",
      "C:\\Users\\wb467985\\AppData\\Local\\Temp/ipykernel_13196/2999462858.py:5: RuntimeWarning: divide by zero encountered in true_divide\n",
      "  friction_drive_winter_step1 = (1 / drivespeed_winter_array) / (1000 / base_transform.a)\n"
     ]
    }
   ],
   "source": [
    "# refactor driving speeds to friction values in units of cell size / hour (e.g. 30m / hour)\n",
    "# to get values in minutes multiply by 60\n",
    "friction_drive_dry_step1 = (1 / drivespeed_dry_array) / (1000 / base_transform.a)\n",
    "friction_drive_msn_step1 = (1 / drivespeed_msn_array) / (1000 / base_transform.a)\n",
    "friction_drive_winter_step1 = (1 / drivespeed_winter_array) / (1000 / base_transform.a)"
   ]
  },
  {
   "cell_type": "markdown",
   "id": "c4bcbf54-a3dd-4778-98a9-c343e86c202a",
   "metadata": {},
   "source": [
    "Multiply these friction surfaces by the vertical+horizontal distance"
   ]
  },
  {
   "cell_type": "code",
   "execution_count": 24,
   "id": "765d0e94-b2ff-455e-8de1-fb722c184df8",
   "metadata": {},
   "outputs": [],
   "source": [
    "# we use the simple vertical distance, without switchbacks, on the assumption road switchbacks are incorporated into the vector line objects that have been rasterized\n",
    "\n",
    "friction_drive_dry_step2 = np.multiply(friction_drive_dry_step1,vert_dist_switchback)\n",
    "friction_drive_msn_step2 = np.multiply(friction_drive_msn_step1,vert_dist_switchback)\n",
    "friction_drive_winter_step2 = np.multiply(friction_drive_winter_step1,vert_dist_switchback)"
   ]
  },
  {
   "cell_type": "markdown",
   "id": "4d646ae6-fb96-43a3-ba0c-42ba8b5418ae",
   "metadata": {},
   "source": [
    "Compute a final friction surface by taking the lowest (speediest) value from each raster. In almost all cases this will be the driving surface speed. Note that because our NoData value is `-99999` it will always be lowest, so we need to exclude this"
   ]
  },
  {
   "cell_type": "code",
   "execution_count": null,
   "id": "5ab10106-3ee8-467c-bc52-96f8b8fb855a",
   "metadata": {},
   "outputs": [],
   "source": [
    "friction_dry_final = np.where(((friction_drive_dry_step2 < friction_walk_dry_final) | (friction_walk_dry_final == -99999)), friction_drive_dry_step2, friction_walk_dry_final)\n",
    "friction_msn_final = np.where(((friction_drive_msn_step2 < friction_walk_msn_final) | (friction_walk_msn_final == -99999)), friction_drive_msn_step2, friction_walk_msn_final)\n",
    "friction_winter_final = np.where(((friction_drive_winter_step2 < friction_walk_winter_final) | (friction_walk_winter_final == -99999)), friction_drive_winter_step2, friction_walk_winter_final)"
   ]
  },
  {
   "cell_type": "code",
   "execution_count": null,
   "id": "30f4290c-6e43-4eab-97b9-828863f774e6",
   "metadata": {},
   "outputs": [],
   "source": [
    "np.min(friction_winter_final)"
   ]
  },
  {
   "cell_type": "code",
   "execution_count": null,
   "id": "bde675e3-0f10-4398-8108-0553cafe2205",
   "metadata": {
    "scrolled": true
   },
   "outputs": [],
   "source": [
    "np.max(friction_winter_final)"
   ]
  },
  {
   "cell_type": "markdown",
   "id": "00c0075e-45e1-494b-9ea8-9926c3353341",
   "metadata": {
    "tags": []
   },
   "source": [
    "## Export"
   ]
  },
  {
   "cell_type": "markdown",
   "id": "d3104902-8186-4259-8d8b-5b1b2f922f94",
   "metadata": {
    "tags": []
   },
   "source": [
    "### Adjustments to reduce final file size"
   ]
  },
  {
   "cell_type": "markdown",
   "id": "e3aaf93d-dadc-4325-8fad-8f69e744857e",
   "metadata": {},
   "source": [
    "Round up to 8 decimal points to reduce file size. Note this slightly reduces accuracy"
   ]
  },
  {
   "cell_type": "code",
   "execution_count": null,
   "id": "1b6002bc-3d86-4a55-ac57-0d3679580513",
   "metadata": {},
   "outputs": [],
   "source": [
    "friction_dry_final = np.round(friction_dry_final,8).astype(np.float32)\n",
    "friction_msn_final = np.round(friction_msn_final,8).astype(np.float32)\n",
    "friction_winter_final = np.round(friction_winter_final,8).astype(np.float32)"
   ]
  },
  {
   "cell_type": "code",
   "execution_count": null,
   "id": "1fc4aede-75b1-4424-a33f-85cab735f551",
   "metadata": {
    "scrolled": true
   },
   "outputs": [],
   "source": [
    "friction_winter_final.shape"
   ]
  },
  {
   "cell_type": "markdown",
   "id": "14409faf-37a3-4704-8de1-727e7623f601",
   "metadata": {},
   "source": [
    "### Remove index band"
   ]
  },
  {
   "cell_type": "code",
   "execution_count": null,
   "id": "eaf71986-e59d-4d5c-9362-1be8538a5b63",
   "metadata": {},
   "outputs": [],
   "source": [
    "friction_dry_final = friction_dry_final[0, :, :]\n",
    "friction_msn_final = friction_msn_final[0, :, :]\n",
    "friction_winter_final = friction_winter_final[0, :, :]"
   ]
  },
  {
   "cell_type": "markdown",
   "id": "60b6398f-b221-435f-9048-ba48a22ebb72",
   "metadata": {
    "tags": []
   },
   "source": [
    "### Export"
   ]
  },
  {
   "cell_type": "markdown",
   "id": "ca10b5b8-49b1-4438-8ce0-1155fc50e55b",
   "metadata": {},
   "source": [
    "Modify the output profile to compress efficiently"
   ]
  },
  {
   "cell_type": "code",
   "execution_count": 37,
   "id": "a6b3f3ec-0749-428f-8e51-09ab85ae9081",
   "metadata": {},
   "outputs": [],
   "source": [
    "export_profile = dry_offr_profile.copy()\n",
    "export_profile.update({\"dtype\":'float32',\\\n",
    "                       \"COMPRESS\":'ZSTD',\n",
    "                       \"NUM_THREADS\":'ALL_CPUS',\n",
    "                       \"nodata\":-99999})"
   ]
  },
  {
   "cell_type": "code",
   "execution_count": 39,
   "id": "45a963c6-39c6-4f57-9776-e517cd2d5ba9",
   "metadata": {
    "tags": []
   },
   "outputs": [],
   "source": [
    "with rasterio.open(os.path.join(fric_dir,f'KP_friction_dry_{today}_{res}.tif'),'w',**export_profile) as dst:\n",
    "    dst.write(friction_dry_final,indexes=1)\n",
    "    dst.build_overviews = ([2,4,8,10,14,16],Resampling.nearest) # build pyramids for quick viewing in desktop GIS software\n",
    "\n",
    "with rasterio.open(os.path.join(fric_dir,f'KP_friction_msn_{today}_{res}.tif'),'w',**export_profile) as dst:\n",
    "    dst.write(friction_msn_final,indexes=1)\n",
    "    dst.build_overviews = ([2,4,8,10,14,16],Resampling.nearest) # build pyramids for quick viewing in desktop GIS software\n",
    "\n",
    "with rasterio.open(os.path.join(fric_dir,f'KP_friction_winter_{today}_{res}.tif'),'w',**export_profile) as dst:\n",
    "    dst.write(friction_winter_final,indexes=1)\n",
    "    dst.build_overviews = ([2,4,8,10,14,16],Resampling.nearest) # build pyramids for quick viewing in desktop GIS software"
   ]
  },
  {
   "cell_type": "markdown",
   "id": "526d3dca-e7b7-47b8-8bbb-78cbbe5dece9",
   "metadata": {
    "tags": []
   },
   "source": [
    "### Optional -- Export cropped version"
   ]
  },
  {
   "cell_type": "markdown",
   "id": "d1ca7e45-dd8c-4475-9ef1-2cd04cc1670f",
   "metadata": {},
   "source": [
    "We crop the raster by our analysis area to reduce file sizes and computation time"
   ]
  },
  {
   "cell_type": "code",
   "execution_count": null,
   "id": "4593b771-d9de-49f1-bab7-a7c31648fadf",
   "metadata": {},
   "outputs": [],
   "source": [
    "# Clip the friction arrays by the buffered KP outline\n",
    "# use a MemoryFile to avoid lots of IO -- otherwise have to save down, then load back up.\n",
    "\n",
    "# dry\n",
    "friction_dry_final_mask, friction_dry_mask_tform = rast_ops.clip_in_memory(friction_dry_final,export_profile,aoi.geometry)\n",
    "\n",
    "# monsoon\n",
    "friction_msn_final_mask, friction_msn_mask_tform = rast_ops.clip_in_memory(friction_msn_final,export_profile,aoi.geometry)\n",
    "\n",
    "# winter\n",
    "friction_winter_final_mask, friction_winter_mask_tform = rast_ops.clip_in_memory(friction_winter_final,export_profile,aoi.geometry)\n"
   ]
  },
  {
   "cell_type": "code",
   "execution_count": 41,
   "id": "237921ad-c9d6-4ad6-a432-1298d7871281",
   "metadata": {},
   "outputs": [],
   "source": [
    "# ensure it's float32 so the output size is smaller\n",
    "friction_dry_final_mask = friction_dry_final_mask.astype(np.float32)\n",
    "friction_msn_final_mask = friction_msn_final_mask.astype(np.float32)\n",
    "friction_winter_final_mask = friction_winter_final_mask.astype(np.float32)"
   ]
  },
  {
   "cell_type": "code",
   "execution_count": 42,
   "id": "9e34b38b-a746-48f0-a5c0-ef9c50570756",
   "metadata": {},
   "outputs": [],
   "source": [
    "# make a new profile for export, inserting the new height/width/transform values from the clipped raster\n",
    "\n",
    "mask_profile = export_profile.copy()\n",
    "\n",
    "mask_profile.update({\"dtype\" : 'float32',\n",
    "                     \"height\":friction_msn_final_mask.shape[0],\n",
    "                     \"width\":friction_msn_final_mask.shape[1],\n",
    "                     \"transform\" : friction_msn_mask_tform})"
   ]
  },
  {
   "cell_type": "code",
   "execution_count": 44,
   "id": "38d595c9-87d2-4112-b5e3-f2ab9c328eb2",
   "metadata": {},
   "outputs": [],
   "source": [
    "# Export the three seasons\n",
    "\n",
    "with rasterio.open(os.path.join(fric_dir,f'KP_friction_dry_{today}_{res}_masked.tif'),'w',**mask_profile) as dst:\n",
    "    dst.write(friction_dry_final_mask,indexes=1)\n",
    "    dst.build_overviews = ([2,4,8,10,14,16],Resampling.nearest) # build pyramids for quick viewing in desktop GIS software\n",
    "    \n",
    "with rasterio.open(os.path.join(fric_dir,f'KP_friction_msn_{today}_{res}_masked.tif'),'w',**mask_profile) as dst:\n",
    "    dst.write(friction_msn_final_mask,indexes=1)\n",
    "    dst.build_overviews = ([2,4,8,10,14,16],Resampling.nearest) # build pyramids for quick viewing in desktop GIS software\n",
    "\n",
    "with rasterio.open(os.path.join(fric_dir,f'KP_friction_winter_{today}_{res}_masked.tif'),'w',**mask_profile) as dst:\n",
    "    dst.write(friction_winter_final_mask,indexes=1)\n",
    "    dst.build_overviews = ([2,4,8,10,14,16],Resampling.nearest) # build pyramids for quick viewing in desktop GIS software"
   ]
  },
  {
   "cell_type": "markdown",
   "id": "e462cc50",
   "metadata": {},
   "source": [
    "## Optional -- Export COG versions"
   ]
  },
  {
   "cell_type": "markdown",
   "id": "e7700a8a",
   "metadata": {},
   "source": [
    "COGs work better on the web, distribute better in Dask, and are smaller/slimmer in file size for large rasters. What's not to like? "
   ]
  },
  {
   "cell_type": "code",
   "execution_count": 69,
   "id": "3e93122f",
   "metadata": {},
   "outputs": [],
   "source": [
    "final_fric_dir = r'P:\\PAK\\Code\\kpgit_robert\\data\\friction'"
   ]
  },
  {
   "cell_type": "code",
   "execution_count": 70,
   "id": "4ce848a2",
   "metadata": {},
   "outputs": [],
   "source": [
    "fric_tifs = sorted([os.path.join(final_fric_dir,f'{res}',file) \\\n",
    "            for file \\\n",
    "            in os.listdir(os.path.join(final_fric_dir,f'{res}')) \\\n",
    "            if file.endswith(f\"{res}_masked.tif\")])\n"
   ]
  },
  {
   "cell_type": "code",
   "execution_count": 71,
   "id": "bebff30a",
   "metadata": {},
   "outputs": [
    {
     "data": {
      "text/plain": [
       "['P:\\\\PAK\\\\Code\\\\kpgit_robert\\\\data\\\\friction\\\\31m\\\\KP_friction_dry_211019_31m_masked.tif',\n",
       " 'P:\\\\PAK\\\\Code\\\\kpgit_robert\\\\data\\\\friction\\\\31m\\\\KP_friction_msn_211019_31m_masked.tif',\n",
       " 'P:\\\\PAK\\\\Code\\\\kpgit_robert\\\\data\\\\friction\\\\31m\\\\KP_friction_winter_211019_31m_masked.tif']"
      ]
     },
     "execution_count": 71,
     "metadata": {},
     "output_type": "execute_result"
    }
   ],
   "source": [
    "fric_tifs"
   ]
  },
  {
   "cell_type": "code",
   "execution_count": 72,
   "id": "15d90e55",
   "metadata": {},
   "outputs": [
    {
     "name": "stdout",
     "output_type": "stream",
     "text": [
      "P:\\PAK\\Code\\kpgit_robert\\data\\friction\\31m\\KP_friction_dry_211019_31m_masked.tif\n",
      "P:\\PAK\\Code\\kpgit_robert\\data\\friction\\31m\\KP_friction_msn_211019_31m_masked.tif\n"
     ]
    },
    {
     "name": "stderr",
     "output_type": "stream",
     "text": [
      "Reading input: P:/PAK/Code/kpgit_robert/data/friction/31m/KP_friction_dry_211019_31m_masked.tif\n",
      "Adding overviews...\n",
      "Updating dataset tags...\n",
      "Writing output to: \\\\sarpov\\sarpov\\PAK\\Code\\kpgit_robert\\data\\friction\\31m\\KP_friction_dry_211019_31m_masked_COG.tif\n"
     ]
    },
    {
     "name": "stdout",
     "output_type": "stream",
     "text": [
      "P:\\PAK\\Code\\kpgit_robert\\data\\friction\\31m\\KP_friction_winter_211019_31m_masked.tif\n"
     ]
    },
    {
     "name": "stderr",
     "output_type": "stream",
     "text": [
      "Reading input: P:/PAK/Code/kpgit_robert/data/friction/31m/KP_friction_msn_211019_31m_masked.tif\n",
      "Adding overviews...\n",
      "Updating dataset tags...\n",
      "Writing output to: \\\\sarpov\\sarpov\\PAK\\Code\\kpgit_robert\\data\\friction\\31m\\KP_friction_msn_211019_31m_masked_COG.tif\n",
      "Reading input: P:/PAK/Code/kpgit_robert/data/friction/31m/KP_friction_winter_211019_31m_masked.tif\n",
      "Adding overviews...\n",
      "Updating dataset tags...\n",
      "Writing output to: \\\\sarpov\\sarpov\\PAK\\Code\\kpgit_robert\\data\\friction\\31m\\KP_friction_winter_211019_31m_masked_COG.tif\n"
     ]
    }
   ],
   "source": [
    "for fric_lyr in fric_tifs:\n",
    "    fric_lyr_cog = str.replace(fric_lyr,'.tif','_COG.tif')\n",
    "    \n",
    "    print(fric_lyr)\n",
    "    !rio cogeo create {fric_lyr} {fric_lyr_cog}"
   ]
  },
  {
   "cell_type": "code",
   "execution_count": null,
   "id": "8c4bac04-e85a-4a16-ab0b-6314ce9869e9",
   "metadata": {},
   "outputs": [],
   "source": []
  }
 ],
 "metadata": {
  "kernelspec": {
   "display_name": "Python 3 (ipykernel)",
   "language": "python",
   "name": "python3"
  },
  "language_info": {
   "codemirror_mode": {
    "name": "ipython",
    "version": 3
   },
   "file_extension": ".py",
   "mimetype": "text/x-python",
   "name": "python",
   "nbconvert_exporter": "python",
   "pygments_lexer": "ipython3",
   "version": "3.8.10"
  }
 },
 "nbformat": 4,
 "nbformat_minor": 5
}
