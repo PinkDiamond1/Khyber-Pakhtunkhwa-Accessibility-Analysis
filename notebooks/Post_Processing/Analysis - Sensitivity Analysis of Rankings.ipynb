{
 "cells": [
  {
   "cell_type": "markdown",
   "id": "apart-portsmouth",
   "metadata": {},
   "source": [
    "# Test the sensitivity of investment recommendations to weighting assumptions"
   ]
  },
  {
   "cell_type": "markdown",
   "id": "flying-darwin",
   "metadata": {},
   "source": [
    "Visualize access improvements per entity (base case: road) using a weighting schema that assigns equal weights to sub-categories within service categories and equal weights to different service categories.</br></br>Compare these results to results from a sensitivity analysis varying weighting schemes N times in a normal distribution around the mean value for an equal weighting schema (i.e. 0.3333 for 3 variables).\n",
    "\n",
    "This notebook is meant to provide a template for quickly conducting sensitivity analyses in use case requiring similar combinations of inputs into master index values. For this reason the custom functions implemented herein have been asbracted into a small separate code file."
   ]
  },
  {
   "cell_type": "code",
   "execution_count": 127,
   "id": "administrative-camel",
   "metadata": {
    "tags": []
   },
   "outputs": [],
   "source": [
    "import os, sys\n",
    "import re\n",
    "\n",
    "import pandas as pd\n",
    "import geopandas as gpd\n",
    "import numpy as np\n",
    "import numba\n",
    "\n",
    "import sklearn\n",
    "from scipy import stats\n",
    "from datetime import date\n",
    "import sensitivity_testing as st"
   ]
  },
  {
   "cell_type": "markdown",
   "id": "funny-recognition",
   "metadata": {},
   "source": [
    "## Setup"
   ]
  },
  {
   "cell_type": "code",
   "execution_count": 128,
   "id": "activated-affair",
   "metadata": {},
   "outputs": [],
   "source": [
    "data_dir = r'../../data'\n",
    "tab_dir = r'tabular'\n",
    "geo_dir = r'P:\\PAK\\GEO'\n",
    "acc_dir = r'access'"
   ]
  },
  {
   "cell_type": "markdown",
   "id": "c9a5797c-c593-42c9-9c4a-ab376430aee7",
   "metadata": {},
   "source": [
    "Projections"
   ]
  },
  {
   "cell_type": "code",
   "execution_count": 129,
   "id": "64954c6f-8463-4a48-aabe-977ebfb71eea",
   "metadata": {},
   "outputs": [
    {
     "data": {
      "text/plain": [
       "32642"
      ]
     },
     "execution_count": 129,
     "metadata": {},
     "output_type": "execute_result"
    }
   ],
   "source": [
    "# change this to whatever the desired output projection is\n",
    "DEST_CRS = 'EPSG:32642'\n",
    "\n",
    "dcrs_int = int(re.findall('[0-9]+',DEST_CRS)[0])\n",
    "dcrs_int"
   ]
  },
  {
   "cell_type": "markdown",
   "id": "85c80b37-4ebb-47ba-8f7a-e28529cf216b",
   "metadata": {},
   "source": [
    "Dates"
   ]
  },
  {
   "cell_type": "code",
   "execution_count": 130,
   "id": "70ff3626-2464-4ea7-8759-68bdf6919305",
   "metadata": {},
   "outputs": [],
   "source": [
    "today = date.today().strftime(\"%y%m%d\")"
   ]
  },
  {
   "cell_type": "code",
   "execution_count": 131,
   "id": "43bd4ccf-2fff-4761-8878-49fa19191df5",
   "metadata": {},
   "outputs": [],
   "source": [
    "data_date = '211215'"
   ]
  },
  {
   "cell_type": "markdown",
   "id": "32697ab1-74d8-43b9-92e5-60badc8ede54",
   "metadata": {
    "tags": []
   },
   "source": [
    "### Functions reference"
   ]
  },
  {
   "cell_type": "markdown",
   "id": "f25bdcf5-0c13-4910-8352-c32a410b1a3f",
   "metadata": {},
   "source": [
    "These functions will run the actual sensitivity analysis. You can expand them below for reference purposes."
   ]
  },
  {
   "cell_type": "code",
   "execution_count": 132,
   "id": "d3d338b9-398b-4260-9809-c0b99192743d",
   "metadata": {},
   "outputs": [],
   "source": [
    "# st.rank_by_weight??"
   ]
  },
  {
   "cell_type": "code",
   "execution_count": 133,
   "id": "24fd3216-5009-42c1-acf9-fff2578ac1b8",
   "metadata": {},
   "outputs": [],
   "source": [
    "# st.create_weight_array??"
   ]
  },
  {
   "cell_type": "code",
   "execution_count": 134,
   "id": "3f6fc773-5680-42af-8adb-b1d5dbf919cd",
   "metadata": {},
   "outputs": [],
   "source": [
    "# st.Sensitivity_weighting??"
   ]
  },
  {
   "cell_type": "code",
   "execution_count": 135,
   "id": "104d9d96-fd35-48d7-bf50-24b73766c76c",
   "metadata": {},
   "outputs": [],
   "source": [
    "# st.Sensitivity_inbudget??"
   ]
  },
  {
   "cell_type": "markdown",
   "id": "c2e7010e-86f6-4a07-bccc-42be6cfb5c28",
   "metadata": {},
   "source": [
    "### Load in tabular data\n",
    "The data should contain the raw values used to evaluate the cost-efficiency (or other investment criteria) of each potential entity (investment). Note these values should already have been transformed unto equivalent scales for comparative purposes, e.g. normalized."
   ]
  },
  {
   "cell_type": "code",
   "execution_count": 136,
   "id": "5fb27d3f-38cd-41e4-8312-c201306c5d5a",
   "metadata": {},
   "outputs": [],
   "source": [
    "# # replace with the input CSV you're using\n",
    "# feat_type = 'adm3'\n",
    "# df_pth = os.path.join(data_dir,tab_dir,f\"final//adm3_idx_access_stats_{data_date}.csv\")"
   ]
  },
  {
   "cell_type": "code",
   "execution_count": 137,
   "id": "a54655f0-3655-47a0-b1c1-2139f8b6ee6b",
   "metadata": {},
   "outputs": [],
   "source": [
    "# or if using roads\n",
    "feat_type = 'roads'\n",
    "df_pth = os.path.join(data_dir,tab_dir,f\"final//rds_idx_access_stats_{data_date}.csv\")"
   ]
  },
  {
   "cell_type": "markdown",
   "id": "dfe2cca9-ee13-4b8f-b60d-2dfbcc265e21",
   "metadata": {},
   "source": [
    "Feature type"
   ]
  },
  {
   "cell_type": "code",
   "execution_count": 138,
   "id": "5eb2cb81-8802-4fe8-888f-904f7ebf10f3",
   "metadata": {},
   "outputs": [],
   "source": [
    "df = pd.read_csv(df_pth)"
   ]
  },
  {
   "cell_type": "markdown",
   "id": "14a04396-579d-4a3b-a3d1-147cd1216a8e",
   "metadata": {
    "tags": []
   },
   "source": [
    "## Sensitivity Analysis"
   ]
  },
  {
   "cell_type": "code",
   "execution_count": 139,
   "id": "d34a64ba-7327-4999-9f73-7b393b12ea28",
   "metadata": {},
   "outputs": [],
   "source": [
    "eq_wts = [0.3333333, 0.3333333, 0.3333333]\n",
    "educ_priority_wts = [0.5, 0.25, 0.25]"
   ]
  },
  {
   "cell_type": "code",
   "execution_count": 140,
   "id": "44f00860-a686-460c-9877-75a0de2e6f0e",
   "metadata": {},
   "outputs": [],
   "source": [
    "master_cols = ['educ_altwt_idx','health_idx','markets_idx']"
   ]
  },
  {
   "cell_type": "code",
   "execution_count": 141,
   "id": "dc71b1d3-1380-4d5d-a1e2-05caec3cf84a",
   "metadata": {},
   "outputs": [
    {
     "data": {
      "text/plain": [
       "array([ 1,  2,  3,  5,  6,  8,  4,  7, 12, 11, 18, 13, 16, 23, 17, 20, 14,\n",
       "       19, 22, 10, 15, 21, 28, 26, 25,  9, 24, 30, 31, 29, 27, 35, 36, 34,\n",
       "       33, 42, 44, 40, 38, 43, 39, 37, 32, 41, 45, 47, 46, 50, 52, 48, 49,\n",
       "       51, 53, 56, 58, 59, 55, 54, 57, 60, 62, 61, 64, 69, 66, 65, 63, 70,\n",
       "       68, 71, 67, 73, 72, 77, 75, 76, 74, 78, 79])"
      ]
     },
     "execution_count": 141,
     "metadata": {},
     "output_type": "execute_result"
    }
   ],
   "source": [
    "priority_wt_ranking = st.rank_by_weight(df,master_cols,educ_priority_wts)\n",
    "priority_wt_ranking"
   ]
  },
  {
   "cell_type": "markdown",
   "id": "4c147713-978d-42b3-8c1a-baf3913fc426",
   "metadata": {
    "tags": []
   },
   "source": [
    "### Rank by seasonal mean, weighted by service"
   ]
  },
  {
   "cell_type": "markdown",
   "id": "ed1ba28b-b619-44ad-af8d-b0ecda2b66a4",
   "metadata": {},
   "source": [
    "Define cols to test"
   ]
  },
  {
   "cell_type": "code",
   "execution_count": 142,
   "id": "e4866a76-3a9d-4aae-9187-ad097ae51d5d",
   "metadata": {},
   "outputs": [],
   "source": [
    "wt_samp_arr, vals_arr, ranks_arr = st.Sensitivity_weighting(df,master_cols,iterations=50000)"
   ]
  },
  {
   "cell_type": "code",
   "execution_count": 143,
   "id": "f268491a-056f-4b75-be51-cd37a964a52e",
   "metadata": {},
   "outputs": [
    {
     "data": {
      "text/plain": [
       "array([[3.18612350e-01, 4.72310336e-01, 2.09077314e-01],\n",
       "       [3.65493966e-01, 2.96159853e-01, 3.38346181e-01],\n",
       "       [1.55593164e-01, 3.58817782e-01, 4.85589054e-01],\n",
       "       ...,\n",
       "       [5.82413063e-01, 2.42658119e-01, 1.74928819e-01],\n",
       "       [9.56316520e-01, 5.99537270e-04, 4.30839424e-02],\n",
       "       [1.15556231e-01, 4.87759614e-01, 3.96684155e-01]])"
      ]
     },
     "execution_count": 143,
     "metadata": {},
     "output_type": "execute_result"
    }
   ],
   "source": [
    "wt_samp_arr"
   ]
  },
  {
   "cell_type": "code",
   "execution_count": 144,
   "id": "717acd17-46eb-4017-b02b-3a8833cdb235",
   "metadata": {},
   "outputs": [
    {
     "data": {
      "text/plain": [
       "array([[0.26016572, 0.29615985, 0.33834618],\n",
       "       [0.01368543, 0.01784615, 0.16535843],\n",
       "       [0.06700192, 0.0210866 , 0.08967722],\n",
       "       [0.04378749, 0.04360668, 0.03607118],\n",
       "       [0.0276426 , 0.02855132, 0.01431913],\n",
       "       [0.01130783, 0.00782697, 0.02641545],\n",
       "       [0.00231166, 0.0103465 , 0.01681778],\n",
       "       [0.00851253, 0.00098211, 0.00563059]])"
      ]
     },
     "execution_count": 144,
     "metadata": {},
     "output_type": "execute_result"
    }
   ],
   "source": [
    "vals_arr[1][::10]"
   ]
  },
  {
   "cell_type": "code",
   "execution_count": 145,
   "id": "8892349a-a5f1-4ae8-8d53-8f3698229904",
   "metadata": {},
   "outputs": [
    {
     "data": {
      "text/plain": [
       "array([[ 1,  2,  3, ..., 76, 78, 79],\n",
       "       [ 1,  2,  3, ..., 77, 78, 79],\n",
       "       [ 1,  2,  4, ..., 77, 78, 79],\n",
       "       ...,\n",
       "       [ 1,  2,  4, ..., 74, 78, 79],\n",
       "       [ 2,  1, 11, ..., 62, 77, 79],\n",
       "       [ 1,  2,  3, ..., 77, 78, 79]])"
      ]
     },
     "execution_count": 145,
     "metadata": {},
     "output_type": "execute_result"
    }
   ],
   "source": [
    "ranks_arr"
   ]
  },
  {
   "cell_type": "markdown",
   "id": "c66426b3-d07f-4c9e-b45e-2f2f90a6bf98",
   "metadata": {},
   "source": [
    "**Optional**</br>Calculate whether each entity (road) falls within the allocated budget for each ranking"
   ]
  },
  {
   "cell_type": "code",
   "execution_count": 146,
   "id": "512d68df-6d74-4fb4-a7a4-ddaaa0f4e61a",
   "metadata": {},
   "outputs": [],
   "source": [
    "if feat_type == 'rds':\n",
    "    \n",
    "    # budget maximum\n",
    "    budget = 280000000\n",
    "\n",
    "    # Populate a new array with the cost of construction for each entity (road), in the order these entities are ranked, for each set of rankings\n",
    "    cost_arr = np.array(df['Cost_USD'])\n",
    "\n",
    "    # # run the function which calculates what percent of entities fall within budget\n",
    "    within_budget_arr, within_budget_pct = st.Sensitivity_inbudget(budget,cost_arr,ranks_arr)\n",
    "\n",
    "    # display results\n",
    "    print(np.sum(df['Cost_USD']))\n",
    "    print(within_budget_arr)\n",
    "    print(within_budget_pct)\n",
    "    \n",
    "else:\n",
    "    None\n",
    "    "
   ]
  },
  {
   "cell_type": "markdown",
   "id": "accredited-struggle",
   "metadata": {},
   "source": [
    "## Append results to entities"
   ]
  },
  {
   "cell_type": "markdown",
   "id": "offensive-nightmare",
   "metadata": {},
   "source": [
    "Calculate descriptive stats based on the sensitivity test results"
   ]
  },
  {
   "cell_type": "code",
   "execution_count": 147,
   "id": "smaller-palestinian",
   "metadata": {
    "tags": []
   },
   "outputs": [
    {
     "name": "stdout",
     "output_type": "stream",
     "text": [
      "educ_altwt_idx:  0.33215377265413437\n",
      "health_idx:  0.3320648642461542\n",
      "markets_idx:  0.33333333333333337\n"
     ]
    }
   ],
   "source": [
    "# show mean of weights\n",
    "print(f'{master_cols[0]}: ',np.mean(wt_samp_arr[:,:1]))\n",
    "print(f'{master_cols[1]}: ',np.mean(wt_samp_arr[:,:2]))\n",
    "print(f'{master_cols[2]}: ',np.mean(wt_samp_arr[:,:3]))"
   ]
  },
  {
   "cell_type": "code",
   "execution_count": 148,
   "id": "fbc2e6b8-2533-490c-860d-f4b3b890469d",
   "metadata": {},
   "outputs": [
    {
     "name": "stdout",
     "output_type": "stream",
     "text": [
      "educ_altwt_idx:  0.3014265826810966\n",
      "health_idx:  0.2642795736127337\n",
      "markets_idx:  0.2274337963393143\n"
     ]
    }
   ],
   "source": [
    "# show mean of vals\n",
    "print(f'{master_cols[0]}: ',np.mean(vals_arr[:,:1]))\n",
    "print(f'{master_cols[1]}: ',np.mean(vals_arr[:,:2]))\n",
    "print(f'{master_cols[2]}: ',np.mean(vals_arr[:,:3]))"
   ]
  },
  {
   "cell_type": "code",
   "execution_count": 149,
   "id": "b2202103-bf26-41bd-8667-3a854a4a562b",
   "metadata": {},
   "outputs": [],
   "source": [
    "# calculate standard deviation of sensitivity tested values, per category\n",
    "df[['educ_altwt_idx_sens_std','health_idx_sens_std','markets_idx_sens_std']] = np.std(vals_arr,axis=0)"
   ]
  },
  {
   "cell_type": "code",
   "execution_count": 150,
   "id": "7063727e-58eb-4c42-8c66-9582f21f9c0f",
   "metadata": {},
   "outputs": [
    {
     "data": {
      "text/html": [
       "<div>\n",
       "<style scoped>\n",
       "    .dataframe tbody tr th:only-of-type {\n",
       "        vertical-align: middle;\n",
       "    }\n",
       "\n",
       "    .dataframe tbody tr th {\n",
       "        vertical-align: top;\n",
       "    }\n",
       "\n",
       "    .dataframe thead th {\n",
       "        text-align: right;\n",
       "    }\n",
       "</style>\n",
       "<table border=\"1\" class=\"dataframe\">\n",
       "  <thead>\n",
       "    <tr style=\"text-align: right;\">\n",
       "      <th></th>\n",
       "      <th>educ_altwt_idx_sens_std</th>\n",
       "      <th>health_idx_sens_std</th>\n",
       "      <th>markets_idx_sens_std</th>\n",
       "    </tr>\n",
       "  </thead>\n",
       "  <tbody>\n",
       "    <tr>\n",
       "      <th>0</th>\n",
       "      <td>0.138759</td>\n",
       "      <td>0.194821</td>\n",
       "      <td>0.195466</td>\n",
       "    </tr>\n",
       "    <tr>\n",
       "      <th>1</th>\n",
       "      <td>0.194936</td>\n",
       "      <td>0.133058</td>\n",
       "      <td>0.071299</td>\n",
       "    </tr>\n",
       "    <tr>\n",
       "      <th>2</th>\n",
       "      <td>0.045613</td>\n",
       "      <td>0.130596</td>\n",
       "      <td>0.093679</td>\n",
       "    </tr>\n",
       "    <tr>\n",
       "      <th>3</th>\n",
       "      <td>0.024928</td>\n",
       "      <td>0.037409</td>\n",
       "      <td>0.192967</td>\n",
       "    </tr>\n",
       "    <tr>\n",
       "      <th>4</th>\n",
       "      <td>0.055189</td>\n",
       "      <td>0.089053</td>\n",
       "      <td>0.073948</td>\n",
       "    </tr>\n",
       "    <tr>\n",
       "      <th>...</th>\n",
       "      <td>...</td>\n",
       "      <td>...</td>\n",
       "      <td>...</td>\n",
       "    </tr>\n",
       "    <tr>\n",
       "      <th>74</th>\n",
       "      <td>0.001019</td>\n",
       "      <td>0.000730</td>\n",
       "      <td>0.000916</td>\n",
       "    </tr>\n",
       "    <tr>\n",
       "      <th>75</th>\n",
       "      <td>0.000766</td>\n",
       "      <td>0.001590</td>\n",
       "      <td>0.000521</td>\n",
       "    </tr>\n",
       "    <tr>\n",
       "      <th>76</th>\n",
       "      <td>0.002269</td>\n",
       "      <td>0.000021</td>\n",
       "      <td>0.000176</td>\n",
       "    </tr>\n",
       "    <tr>\n",
       "      <th>77</th>\n",
       "      <td>0.000272</td>\n",
       "      <td>0.000194</td>\n",
       "      <td>0.000228</td>\n",
       "    </tr>\n",
       "    <tr>\n",
       "      <th>78</th>\n",
       "      <td>0.000073</td>\n",
       "      <td>0.000131</td>\n",
       "      <td>0.000173</td>\n",
       "    </tr>\n",
       "  </tbody>\n",
       "</table>\n",
       "<p>79 rows × 3 columns</p>\n",
       "</div>"
      ],
      "text/plain": [
       "    educ_altwt_idx_sens_std  health_idx_sens_std  markets_idx_sens_std\n",
       "0                  0.138759             0.194821              0.195466\n",
       "1                  0.194936             0.133058              0.071299\n",
       "2                  0.045613             0.130596              0.093679\n",
       "3                  0.024928             0.037409              0.192967\n",
       "4                  0.055189             0.089053              0.073948\n",
       "..                      ...                  ...                   ...\n",
       "74                 0.001019             0.000730              0.000916\n",
       "75                 0.000766             0.001590              0.000521\n",
       "76                 0.002269             0.000021              0.000176\n",
       "77                 0.000272             0.000194              0.000228\n",
       "78                 0.000073             0.000131              0.000173\n",
       "\n",
       "[79 rows x 3 columns]"
      ]
     },
     "execution_count": 150,
     "metadata": {},
     "output_type": "execute_result"
    }
   ],
   "source": [
    "df[['educ_altwt_idx_sens_std','health_idx_sens_std','markets_idx_sens_std']]"
   ]
  },
  {
   "cell_type": "code",
   "execution_count": 151,
   "id": "defined-salad",
   "metadata": {
    "tags": []
   },
   "outputs": [],
   "source": [
    "# compute basic stats for each entity's ranking\n",
    "# axis=0 for operating by column\n",
    "ranks_mode = stats.mode(ranks_arr,axis=0)\n",
    "ranks_mean = np.mean(ranks_arr,axis=0)\n",
    "ranks_std = np.std(ranks_arr,axis=0)"
   ]
  },
  {
   "cell_type": "code",
   "execution_count": 152,
   "id": "3dcd81ef-6ce0-44d4-b018-f89b041a727c",
   "metadata": {},
   "outputs": [
    {
     "data": {
      "text/plain": [
       "array([ 0.284686  ,  0.69339858,  1.43709535,  4.15960639,  1.13154684,\n",
       "        4.42375333,  1.60518161,  1.613145  ,  2.63060345,  5.26728541,\n",
       "       10.91180492,  2.99142448,  2.99973538, 15.84086123,  2.43819167,\n",
       "        4.23773313, 13.35055066,  3.4079144 ,  5.31890177,  7.82439955,\n",
       "        6.07222058,  3.65009029,  5.2254408 ,  2.48896383,  5.44289515,\n",
       "       16.22298546,  3.58439707,  2.95779014,  5.38334197,  6.172697  ,\n",
       "        1.70151866,  7.44299414,  3.41538144,  2.43273448,  3.35053503,\n",
       "        5.50883209, 14.29037857,  9.14789919,  2.69879709,  5.22642279,\n",
       "        4.79481315,  4.58099125,  7.10407436,  7.26369521,  6.47367806,\n",
       "        3.61281487,  1.38830802,  4.36360457,  9.9933697 ,  6.29832701,\n",
       "        2.43479905,  4.19765929,  4.5603392 ,  7.68725675,  2.24555022,\n",
       "        6.4894788 ,  1.48514854,  4.30477553,  2.90715558,  2.14661963,\n",
       "        2.95159469,  2.99642501,  6.53437417,  3.46510278,  3.76044497,\n",
       "        6.57251252,  5.26591946,  4.31145594,  3.54232487,  2.00348163,\n",
       "        3.86807909,  1.39113954,  2.10986559,  2.61279211,  0.6635785 ,\n",
       "        1.26863175,  1.96565438,  0.3494069 ,  0.22401856])"
      ]
     },
     "execution_count": 152,
     "metadata": {},
     "output_type": "execute_result"
    }
   ],
   "source": [
    "ranks_std"
   ]
  },
  {
   "cell_type": "markdown",
   "id": "0367f07b-acbe-4b96-96e9-aaceb330631d",
   "metadata": {},
   "source": [
    "Calculate descriptive stats per entity"
   ]
  },
  {
   "cell_type": "code",
   "execution_count": 153,
   "id": "crucial-louisville",
   "metadata": {},
   "outputs": [],
   "source": [
    "# join the mean ranking to the corresponding roads\n",
    "df['sens_test_rank_mean'] = ranks_mean\n",
    "df['sens_test_rank_mode'] = ranks_mode[0][0]\n",
    "df['sens_test_rank_std'] = ranks_std\n",
    "\n",
    "if feat_type == 'rds':\n",
    "    # calculate budget numbers\n",
    "    df['sens_test_in_budget_pct'] = within_budget_pct # enable if testing budget\n",
    "else:\n",
    "    None"
   ]
  },
  {
   "cell_type": "markdown",
   "id": "42e84662-c84e-4dfd-b3f8-725d3243c4e2",
   "metadata": {},
   "source": [
    "Create master file"
   ]
  },
  {
   "cell_type": "code",
   "execution_count": 154,
   "id": "3415244e-a794-4898-a2fa-8dcf2ee94f3a",
   "metadata": {},
   "outputs": [],
   "source": [
    "# define sets of columns to filter by\n",
    "\n",
    "id_col = 'Adm3_Code'\n",
    "id_cols = ['ADM2_EN','ADM3_EN','Adm2_Code','Adm3_Code','Adm2_Focus']\n",
    "\n",
    "ranking_cols = ['overall_eq_wt_idx','overall_eq_wt_rank','overall_educ_altwt_idx','overall_educ_altwt_rank','overall_educ_priority_wt_idx','overall_educ_priority_wt_rank',\\\n",
    "                'sens_test_rank_mean','sens_test_rank_mode','sens_test_rank_std',\\\n",
    "                'educ_altwt_idx_sens_std','health_idx_sens_std','markets_idx_sens_std',\n",
    "                'educ_ewqt_pctile','educ_altwt_pctile','health_pctile','markets_pctile','admin_pctile','overall_pctile','deprivation_20pct']\n",
    "\n",
    "if feat_type == 'rds':\n",
    "    # append budget info\n",
    "    ranking_cols.append('sens_test_in_budget_pct')\n",
    "else:\n",
    "    None"
   ]
  },
  {
   "cell_type": "code",
   "execution_count": 155,
   "id": "62d27bdc-beb8-478b-b2c4-7072a428d1c7",
   "metadata": {},
   "outputs": [],
   "source": [
    "# merge all the relevant results + ID columns into a master DF\n",
    "df_sens_test = pd.concat([df[id_cols],df[master_cols],df[ranking_cols]],axis=1)"
   ]
  },
  {
   "cell_type": "code",
   "execution_count": 156,
   "id": "17176558-829f-4e5f-8cad-510a56a217a6",
   "metadata": {},
   "outputs": [
    {
     "data": {
      "text/html": [
       "<div>\n",
       "<style scoped>\n",
       "    .dataframe tbody tr th:only-of-type {\n",
       "        vertical-align: middle;\n",
       "    }\n",
       "\n",
       "    .dataframe tbody tr th {\n",
       "        vertical-align: top;\n",
       "    }\n",
       "\n",
       "    .dataframe thead th {\n",
       "        text-align: right;\n",
       "    }\n",
       "</style>\n",
       "<table border=\"1\" class=\"dataframe\">\n",
       "  <thead>\n",
       "    <tr style=\"text-align: right;\">\n",
       "      <th></th>\n",
       "      <th>sens_test_rank_mode</th>\n",
       "      <th>overall_educ_priority_wt_rank</th>\n",
       "      <th>sens_test_rank_std</th>\n",
       "    </tr>\n",
       "  </thead>\n",
       "  <tbody>\n",
       "    <tr>\n",
       "      <th>18</th>\n",
       "      <td>20</td>\n",
       "      <td>22</td>\n",
       "      <td>5.318902</td>\n",
       "    </tr>\n",
       "    <tr>\n",
       "      <th>21</th>\n",
       "      <td>23</td>\n",
       "      <td>21</td>\n",
       "      <td>3.650090</td>\n",
       "    </tr>\n",
       "    <tr>\n",
       "      <th>17</th>\n",
       "      <td>23</td>\n",
       "      <td>19</td>\n",
       "      <td>3.407914</td>\n",
       "    </tr>\n",
       "    <tr>\n",
       "      <th>26</th>\n",
       "      <td>24</td>\n",
       "      <td>24</td>\n",
       "      <td>3.584397</td>\n",
       "    </tr>\n",
       "    <tr>\n",
       "      <th>22</th>\n",
       "      <td>25</td>\n",
       "      <td>28</td>\n",
       "      <td>5.225441</td>\n",
       "    </tr>\n",
       "    <tr>\n",
       "      <th>23</th>\n",
       "      <td>25</td>\n",
       "      <td>26</td>\n",
       "      <td>2.488964</td>\n",
       "    </tr>\n",
       "    <tr>\n",
       "      <th>30</th>\n",
       "      <td>28</td>\n",
       "      <td>27</td>\n",
       "      <td>1.701519</td>\n",
       "    </tr>\n",
       "    <tr>\n",
       "      <th>27</th>\n",
       "      <td>29</td>\n",
       "      <td>30</td>\n",
       "      <td>2.957790</td>\n",
       "    </tr>\n",
       "    <tr>\n",
       "      <th>24</th>\n",
       "      <td>30</td>\n",
       "      <td>25</td>\n",
       "      <td>5.442895</td>\n",
       "    </tr>\n",
       "    <tr>\n",
       "      <th>28</th>\n",
       "      <td>31</td>\n",
       "      <td>31</td>\n",
       "      <td>5.383342</td>\n",
       "    </tr>\n",
       "    <tr>\n",
       "      <th>29</th>\n",
       "      <td>31</td>\n",
       "      <td>29</td>\n",
       "      <td>6.172697</td>\n",
       "    </tr>\n",
       "    <tr>\n",
       "      <th>31</th>\n",
       "      <td>32</td>\n",
       "      <td>35</td>\n",
       "      <td>7.442994</td>\n",
       "    </tr>\n",
       "    <tr>\n",
       "      <th>32</th>\n",
       "      <td>33</td>\n",
       "      <td>36</td>\n",
       "      <td>3.415381</td>\n",
       "    </tr>\n",
       "    <tr>\n",
       "      <th>33</th>\n",
       "      <td>34</td>\n",
       "      <td>34</td>\n",
       "      <td>2.432734</td>\n",
       "    </tr>\n",
       "    <tr>\n",
       "      <th>36</th>\n",
       "      <td>34</td>\n",
       "      <td>44</td>\n",
       "      <td>14.290379</td>\n",
       "    </tr>\n",
       "  </tbody>\n",
       "</table>\n",
       "</div>"
      ],
      "text/plain": [
       "    sens_test_rank_mode  overall_educ_priority_wt_rank  sens_test_rank_std\n",
       "18                   20                             22            5.318902\n",
       "21                   23                             21            3.650090\n",
       "17                   23                             19            3.407914\n",
       "26                   24                             24            3.584397\n",
       "22                   25                             28            5.225441\n",
       "23                   25                             26            2.488964\n",
       "30                   28                             27            1.701519\n",
       "27                   29                             30            2.957790\n",
       "24                   30                             25            5.442895\n",
       "28                   31                             31            5.383342\n",
       "29                   31                             29            6.172697\n",
       "31                   32                             35            7.442994\n",
       "32                   33                             36            3.415381\n",
       "33                   34                             34            2.432734\n",
       "36                   34                             44           14.290379"
      ]
     },
     "execution_count": 156,
     "metadata": {},
     "output_type": "execute_result"
    }
   ],
   "source": [
    "# take a peek\n",
    "df[['sens_test_rank_mode','overall_educ_priority_wt_rank','sens_test_rank_std']].sort_values('sens_test_rank_mode')[20:35]"
   ]
  },
  {
   "cell_type": "code",
   "execution_count": 157,
   "id": "84c93406-1ba9-46f4-86a2-f9707e4da7cb",
   "metadata": {},
   "outputs": [
    {
     "data": {
      "text/plain": [
       "Index(['Road_ID', 'District', 'Current_Road_Cond', 'Current_Surface',\n",
       "       'Current_Road_Class', 'Upgrade_Road_Cond', 'Upgrade_Surface',\n",
       "       'Upgrade_Road_Class', 'Terrain', 'Cost_PKR',\n",
       "       ...\n",
       "       'overall_pctile', 'overall_educ_priority_pctile', 'deprivation_20pct',\n",
       "       'Adm2_Focus', 'educ_altwt_idx_sens_std', 'health_idx_sens_std',\n",
       "       'markets_idx_sens_std', 'sens_test_rank_mean', 'sens_test_rank_mode',\n",
       "       'sens_test_rank_std'],\n",
       "      dtype='object', length=278)"
      ]
     },
     "execution_count": 157,
     "metadata": {},
     "output_type": "execute_result"
    }
   ],
   "source": [
    "df.columns"
   ]
  },
  {
   "cell_type": "markdown",
   "id": "7315a18b-df15-4c9c-abbb-aa4e3a549778",
   "metadata": {},
   "source": [
    "Prepare long data"
   ]
  },
  {
   "cell_type": "code",
   "execution_count": 158,
   "id": "8ed68f36-06b4-405e-921b-e53d56e1bcc5",
   "metadata": {
    "tags": []
   },
   "outputs": [],
   "source": [
    "df_sbar = df[['ADM3_EN','Adm3_Code','ADM2_EN','Adm2_Code','overall_educ_priority_wt_rank','educ_altwt_idx','health_idx','markets_idx']]\n",
    "\n",
    "df_sbar = df_sbar.melt(id_vars=['ADM3_EN','Adm3_Code','ADM2_EN','Adm2_Code','overall_educ_priority_wt_rank'],\n",
    "             var_name='Access_indicators',\n",
    "             value_name='Index_values').sort_values('overall_educ_priority_wt_rank')\n",
    "\n",
    "# Rename to more human-friendly labels\n",
    "df_sbar['Access_indicators'].replace({\n",
    "                       'markets_idx' : 'Markets',\n",
    "                       'educ_altwt_idx' : 'Education',\n",
    "                       'health_idx' : 'Health'}, inplace=True)"
   ]
  },
  {
   "cell_type": "code",
   "execution_count": 159,
   "id": "4d1eb52d-f7bf-470c-b9a9-5450cec0ed29",
   "metadata": {},
   "outputs": [],
   "source": [
    "df_sbar = pd.merge(df_sbar,df_sens_test.drop(['ADM2_EN','ADM3_EN','Adm2_Code','overall_educ_priority_wt_rank'],axis=1),how='left',on='Adm3_Code')"
   ]
  },
  {
   "cell_type": "code",
   "execution_count": 160,
   "id": "16498dce-e185-40d0-aabc-06e051675817",
   "metadata": {},
   "outputs": [
    {
     "data": {
      "text/html": [
       "<div>\n",
       "<style scoped>\n",
       "    .dataframe tbody tr th:only-of-type {\n",
       "        vertical-align: middle;\n",
       "    }\n",
       "\n",
       "    .dataframe tbody tr th {\n",
       "        vertical-align: top;\n",
       "    }\n",
       "\n",
       "    .dataframe thead th {\n",
       "        text-align: right;\n",
       "    }\n",
       "</style>\n",
       "<table border=\"1\" class=\"dataframe\">\n",
       "  <thead>\n",
       "    <tr style=\"text-align: right;\">\n",
       "      <th></th>\n",
       "      <th>ADM3_EN</th>\n",
       "      <th>Adm3_Code</th>\n",
       "      <th>ADM2_EN</th>\n",
       "      <th>Adm2_Code</th>\n",
       "      <th>overall_educ_priority_wt_rank</th>\n",
       "      <th>Access_indicators</th>\n",
       "      <th>Index_values</th>\n",
       "      <th>Adm2_Focus</th>\n",
       "      <th>educ_altwt_idx</th>\n",
       "      <th>health_idx</th>\n",
       "      <th>...</th>\n",
       "      <th>educ_altwt_idx_sens_std</th>\n",
       "      <th>health_idx_sens_std</th>\n",
       "      <th>markets_idx_sens_std</th>\n",
       "      <th>educ_ewqt_pctile</th>\n",
       "      <th>educ_altwt_pctile</th>\n",
       "      <th>health_pctile</th>\n",
       "      <th>markets_pctile</th>\n",
       "      <th>admin_pctile</th>\n",
       "      <th>overall_pctile</th>\n",
       "      <th>deprivation_20pct</th>\n",
       "    </tr>\n",
       "  </thead>\n",
       "  <tbody>\n",
       "    <tr>\n",
       "      <th>0</th>\n",
       "      <td>Chitral</td>\n",
       "      <td>PK20601</td>\n",
       "      <td>Chitral</td>\n",
       "      <td>PK206</td>\n",
       "      <td>1</td>\n",
       "      <td>Education</td>\n",
       "      <td>0.711819</td>\n",
       "      <td>Yes</td>\n",
       "      <td>0.711819</td>\n",
       "      <td>1.000000</td>\n",
       "      <td>...</td>\n",
       "      <td>0.138759</td>\n",
       "      <td>0.194821</td>\n",
       "      <td>0.195466</td>\n",
       "      <td>98.717949</td>\n",
       "      <td>98.717949</td>\n",
       "      <td>100.000000</td>\n",
       "      <td>100.000000</td>\n",
       "      <td>100.000000</td>\n",
       "      <td>100.000000</td>\n",
       "      <td>0.25</td>\n",
       "    </tr>\n",
       "    <tr>\n",
       "      <th>1</th>\n",
       "      <td>Chitral</td>\n",
       "      <td>PK20601</td>\n",
       "      <td>Chitral</td>\n",
       "      <td>PK206</td>\n",
       "      <td>1</td>\n",
       "      <td>Education</td>\n",
       "      <td>0.711819</td>\n",
       "      <td>Yes</td>\n",
       "      <td>0.127877</td>\n",
       "      <td>0.192016</td>\n",
       "      <td>...</td>\n",
       "      <td>0.024928</td>\n",
       "      <td>0.037409</td>\n",
       "      <td>0.192967</td>\n",
       "      <td>79.487179</td>\n",
       "      <td>75.641026</td>\n",
       "      <td>78.205128</td>\n",
       "      <td>98.717949</td>\n",
       "      <td>98.717949</td>\n",
       "      <td>96.153846</td>\n",
       "      <td>0.50</td>\n",
       "    </tr>\n",
       "    <tr>\n",
       "      <th>2</th>\n",
       "      <td>Chitral</td>\n",
       "      <td>PK20601</td>\n",
       "      <td>Chitral</td>\n",
       "      <td>PK206</td>\n",
       "      <td>1</td>\n",
       "      <td>Education</td>\n",
       "      <td>0.711819</td>\n",
       "      <td>Yes</td>\n",
       "      <td>0.283116</td>\n",
       "      <td>0.457102</td>\n",
       "      <td>...</td>\n",
       "      <td>0.055189</td>\n",
       "      <td>0.089053</td>\n",
       "      <td>0.073948</td>\n",
       "      <td>89.743590</td>\n",
       "      <td>88.461538</td>\n",
       "      <td>93.589744</td>\n",
       "      <td>94.871795</td>\n",
       "      <td>93.589744</td>\n",
       "      <td>94.871795</td>\n",
       "      <td>1.00</td>\n",
       "    </tr>\n",
       "    <tr>\n",
       "      <th>3</th>\n",
       "      <td>Chitral</td>\n",
       "      <td>PK20601</td>\n",
       "      <td>Chitral</td>\n",
       "      <td>PK206</td>\n",
       "      <td>1</td>\n",
       "      <td>Education</td>\n",
       "      <td>0.711819</td>\n",
       "      <td>Yes</td>\n",
       "      <td>0.496074</td>\n",
       "      <td>0.281518</td>\n",
       "      <td>...</td>\n",
       "      <td>0.096703</td>\n",
       "      <td>0.054846</td>\n",
       "      <td>0.046197</td>\n",
       "      <td>94.871795</td>\n",
       "      <td>96.153846</td>\n",
       "      <td>91.025641</td>\n",
       "      <td>89.743590</td>\n",
       "      <td>74.358974</td>\n",
       "      <td>92.307692</td>\n",
       "      <td>0.75</td>\n",
       "    </tr>\n",
       "    <tr>\n",
       "      <th>4</th>\n",
       "      <td>Chitral</td>\n",
       "      <td>PK20601</td>\n",
       "      <td>Chitral</td>\n",
       "      <td>PK206</td>\n",
       "      <td>1</td>\n",
       "      <td>Education</td>\n",
       "      <td>0.711819</td>\n",
       "      <td>Yes</td>\n",
       "      <td>0.009153</td>\n",
       "      <td>0.220778</td>\n",
       "      <td>...</td>\n",
       "      <td>0.001784</td>\n",
       "      <td>0.043012</td>\n",
       "      <td>0.019148</td>\n",
       "      <td>21.794872</td>\n",
       "      <td>20.512821</td>\n",
       "      <td>82.051282</td>\n",
       "      <td>64.102564</td>\n",
       "      <td>23.076923</td>\n",
       "      <td>60.256410</td>\n",
       "      <td>0.25</td>\n",
       "    </tr>\n",
       "    <tr>\n",
       "      <th>...</th>\n",
       "      <td>...</td>\n",
       "      <td>...</td>\n",
       "      <td>...</td>\n",
       "      <td>...</td>\n",
       "      <td>...</td>\n",
       "      <td>...</td>\n",
       "      <td>...</td>\n",
       "      <td>...</td>\n",
       "      <td>...</td>\n",
       "      <td>...</td>\n",
       "      <td>...</td>\n",
       "      <td>...</td>\n",
       "      <td>...</td>\n",
       "      <td>...</td>\n",
       "      <td>...</td>\n",
       "      <td>...</td>\n",
       "      <td>...</td>\n",
       "      <td>...</td>\n",
       "      <td>...</td>\n",
       "      <td>...</td>\n",
       "      <td>...</td>\n",
       "    </tr>\n",
       "    <tr>\n",
       "      <th>928</th>\n",
       "      <td>Lakki Marwat</td>\n",
       "      <td>PK21301</td>\n",
       "      <td>Lakki Marwat</td>\n",
       "      <td>PK213</td>\n",
       "      <td>79</td>\n",
       "      <td>Health</td>\n",
       "      <td>0.000674</td>\n",
       "      <td>Yes</td>\n",
       "      <td>0.000373</td>\n",
       "      <td>0.000674</td>\n",
       "      <td>...</td>\n",
       "      <td>0.000073</td>\n",
       "      <td>0.000131</td>\n",
       "      <td>0.000173</td>\n",
       "      <td>1.282051</td>\n",
       "      <td>1.282051</td>\n",
       "      <td>2.564103</td>\n",
       "      <td>1.282051</td>\n",
       "      <td>21.794872</td>\n",
       "      <td>0.000000</td>\n",
       "      <td>0.00</td>\n",
       "    </tr>\n",
       "    <tr>\n",
       "      <th>929</th>\n",
       "      <td>Lakki Marwat</td>\n",
       "      <td>PK21301</td>\n",
       "      <td>Lakki Marwat</td>\n",
       "      <td>PK213</td>\n",
       "      <td>79</td>\n",
       "      <td>Markets</td>\n",
       "      <td>0.000886</td>\n",
       "      <td>Yes</td>\n",
       "      <td>0.151255</td>\n",
       "      <td>0.150663</td>\n",
       "      <td>...</td>\n",
       "      <td>0.029485</td>\n",
       "      <td>0.029352</td>\n",
       "      <td>0.043858</td>\n",
       "      <td>82.051282</td>\n",
       "      <td>82.051282</td>\n",
       "      <td>70.512821</td>\n",
       "      <td>85.897436</td>\n",
       "      <td>94.871795</td>\n",
       "      <td>82.051282</td>\n",
       "      <td>0.75</td>\n",
       "    </tr>\n",
       "    <tr>\n",
       "      <th>930</th>\n",
       "      <td>Lakki Marwat</td>\n",
       "      <td>PK21301</td>\n",
       "      <td>Lakki Marwat</td>\n",
       "      <td>PK213</td>\n",
       "      <td>79</td>\n",
       "      <td>Markets</td>\n",
       "      <td>0.000886</td>\n",
       "      <td>Yes</td>\n",
       "      <td>0.133161</td>\n",
       "      <td>0.111164</td>\n",
       "      <td>...</td>\n",
       "      <td>0.025958</td>\n",
       "      <td>0.021657</td>\n",
       "      <td>0.039199</td>\n",
       "      <td>75.641026</td>\n",
       "      <td>76.923077</td>\n",
       "      <td>64.102564</td>\n",
       "      <td>84.615385</td>\n",
       "      <td>92.307692</td>\n",
       "      <td>73.076923</td>\n",
       "      <td>0.50</td>\n",
       "    </tr>\n",
       "    <tr>\n",
       "      <th>931</th>\n",
       "      <td>Lakki Marwat</td>\n",
       "      <td>PK21301</td>\n",
       "      <td>Lakki Marwat</td>\n",
       "      <td>PK213</td>\n",
       "      <td>79</td>\n",
       "      <td>Markets</td>\n",
       "      <td>0.000886</td>\n",
       "      <td>Yes</td>\n",
       "      <td>0.090194</td>\n",
       "      <td>0.073824</td>\n",
       "      <td>...</td>\n",
       "      <td>0.017582</td>\n",
       "      <td>0.014382</td>\n",
       "      <td>0.009243</td>\n",
       "      <td>65.384615</td>\n",
       "      <td>64.102564</td>\n",
       "      <td>57.692308</td>\n",
       "      <td>30.769231</td>\n",
       "      <td>75.641026</td>\n",
       "      <td>47.435897</td>\n",
       "      <td>0.00</td>\n",
       "    </tr>\n",
       "    <tr>\n",
       "      <th>932</th>\n",
       "      <td>Lakki Marwat</td>\n",
       "      <td>PK21301</td>\n",
       "      <td>Lakki Marwat</td>\n",
       "      <td>PK213</td>\n",
       "      <td>79</td>\n",
       "      <td>Markets</td>\n",
       "      <td>0.000886</td>\n",
       "      <td>Yes</td>\n",
       "      <td>0.000373</td>\n",
       "      <td>0.000674</td>\n",
       "      <td>...</td>\n",
       "      <td>0.000073</td>\n",
       "      <td>0.000131</td>\n",
       "      <td>0.000173</td>\n",
       "      <td>1.282051</td>\n",
       "      <td>1.282051</td>\n",
       "      <td>2.564103</td>\n",
       "      <td>1.282051</td>\n",
       "      <td>21.794872</td>\n",
       "      <td>0.000000</td>\n",
       "      <td>0.00</td>\n",
       "    </tr>\n",
       "  </tbody>\n",
       "</table>\n",
       "<p>933 rows × 29 columns</p>\n",
       "</div>"
      ],
      "text/plain": [
       "          ADM3_EN Adm3_Code       ADM2_EN Adm2_Code  \\\n",
       "0         Chitral   PK20601       Chitral     PK206   \n",
       "1         Chitral   PK20601       Chitral     PK206   \n",
       "2         Chitral   PK20601       Chitral     PK206   \n",
       "3         Chitral   PK20601       Chitral     PK206   \n",
       "4         Chitral   PK20601       Chitral     PK206   \n",
       "..            ...       ...           ...       ...   \n",
       "928  Lakki Marwat   PK21301  Lakki Marwat     PK213   \n",
       "929  Lakki Marwat   PK21301  Lakki Marwat     PK213   \n",
       "930  Lakki Marwat   PK21301  Lakki Marwat     PK213   \n",
       "931  Lakki Marwat   PK21301  Lakki Marwat     PK213   \n",
       "932  Lakki Marwat   PK21301  Lakki Marwat     PK213   \n",
       "\n",
       "     overall_educ_priority_wt_rank Access_indicators  Index_values Adm2_Focus  \\\n",
       "0                                1         Education      0.711819        Yes   \n",
       "1                                1         Education      0.711819        Yes   \n",
       "2                                1         Education      0.711819        Yes   \n",
       "3                                1         Education      0.711819        Yes   \n",
       "4                                1         Education      0.711819        Yes   \n",
       "..                             ...               ...           ...        ...   \n",
       "928                             79            Health      0.000674        Yes   \n",
       "929                             79           Markets      0.000886        Yes   \n",
       "930                             79           Markets      0.000886        Yes   \n",
       "931                             79           Markets      0.000886        Yes   \n",
       "932                             79           Markets      0.000886        Yes   \n",
       "\n",
       "     educ_altwt_idx  health_idx  ...  educ_altwt_idx_sens_std  \\\n",
       "0          0.711819    1.000000  ...                 0.138759   \n",
       "1          0.127877    0.192016  ...                 0.024928   \n",
       "2          0.283116    0.457102  ...                 0.055189   \n",
       "3          0.496074    0.281518  ...                 0.096703   \n",
       "4          0.009153    0.220778  ...                 0.001784   \n",
       "..              ...         ...  ...                      ...   \n",
       "928        0.000373    0.000674  ...                 0.000073   \n",
       "929        0.151255    0.150663  ...                 0.029485   \n",
       "930        0.133161    0.111164  ...                 0.025958   \n",
       "931        0.090194    0.073824  ...                 0.017582   \n",
       "932        0.000373    0.000674  ...                 0.000073   \n",
       "\n",
       "     health_idx_sens_std  markets_idx_sens_std  educ_ewqt_pctile  \\\n",
       "0               0.194821              0.195466         98.717949   \n",
       "1               0.037409              0.192967         79.487179   \n",
       "2               0.089053              0.073948         89.743590   \n",
       "3               0.054846              0.046197         94.871795   \n",
       "4               0.043012              0.019148         21.794872   \n",
       "..                   ...                   ...               ...   \n",
       "928             0.000131              0.000173          1.282051   \n",
       "929             0.029352              0.043858         82.051282   \n",
       "930             0.021657              0.039199         75.641026   \n",
       "931             0.014382              0.009243         65.384615   \n",
       "932             0.000131              0.000173          1.282051   \n",
       "\n",
       "     educ_altwt_pctile  health_pctile  markets_pctile  admin_pctile  \\\n",
       "0            98.717949     100.000000      100.000000    100.000000   \n",
       "1            75.641026      78.205128       98.717949     98.717949   \n",
       "2            88.461538      93.589744       94.871795     93.589744   \n",
       "3            96.153846      91.025641       89.743590     74.358974   \n",
       "4            20.512821      82.051282       64.102564     23.076923   \n",
       "..                 ...            ...             ...           ...   \n",
       "928           1.282051       2.564103        1.282051     21.794872   \n",
       "929          82.051282      70.512821       85.897436     94.871795   \n",
       "930          76.923077      64.102564       84.615385     92.307692   \n",
       "931          64.102564      57.692308       30.769231     75.641026   \n",
       "932           1.282051       2.564103        1.282051     21.794872   \n",
       "\n",
       "     overall_pctile  deprivation_20pct  \n",
       "0        100.000000               0.25  \n",
       "1         96.153846               0.50  \n",
       "2         94.871795               1.00  \n",
       "3         92.307692               0.75  \n",
       "4         60.256410               0.25  \n",
       "..              ...                ...  \n",
       "928        0.000000               0.00  \n",
       "929       82.051282               0.75  \n",
       "930       73.076923               0.50  \n",
       "931       47.435897               0.00  \n",
       "932        0.000000               0.00  \n",
       "\n",
       "[933 rows x 29 columns]"
      ]
     },
     "execution_count": 160,
     "metadata": {},
     "output_type": "execute_result"
    }
   ],
   "source": [
    "df_sbar"
   ]
  },
  {
   "cell_type": "markdown",
   "id": "cd7b84bc-5d96-423a-960c-b62aba24e1f6",
   "metadata": {},
   "source": [
    "**Export**"
   ]
  },
  {
   "cell_type": "code",
   "execution_count": 161,
   "id": "7ca6de32-cec9-41e7-8391-0e4dac2d0935",
   "metadata": {},
   "outputs": [],
   "source": [
    "df.to_csv(os.path.join(data_dir,tab_dir,f\"final//{feat_type}_access_all_w_sensitivity_{today}.csv\"),index=False)\n",
    "df_sens_test.to_csv(os.path.join(data_dir,tab_dir,f\"final//{feat_type}_access_sensitivity_tested_rankings_{today}.csv\"),index=False)\n",
    "df_sbar.to_csv(os.path.join(data_dir,tab_dir,f\"final//{feat_type}_idx_sens_test_long_{today}.csv\"),index=False)"
   ]
  },
  {
   "cell_type": "code",
   "execution_count": null,
   "id": "b498f28b-8684-4663-ab8d-8300574549a0",
   "metadata": {},
   "outputs": [],
   "source": []
  }
 ],
 "metadata": {
  "kernelspec": {
   "display_name": "Python (geo)",
   "language": "python",
   "name": "geo"
  },
  "language_info": {
   "codemirror_mode": {
    "name": "ipython",
    "version": 3
   },
   "file_extension": ".py",
   "mimetype": "text/x-python",
   "name": "python",
   "nbconvert_exporter": "python",
   "pygments_lexer": "ipython3",
   "version": "3.8.10"
  }
 },
 "nbformat": 4,
 "nbformat_minor": 5
}
