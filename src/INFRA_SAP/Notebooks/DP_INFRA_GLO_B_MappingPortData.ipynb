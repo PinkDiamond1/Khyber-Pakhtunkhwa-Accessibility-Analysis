{
 "cells": [
  {
   "cell_type": "code",
   "execution_count": 41,
   "metadata": {},
   "outputs": [],
   "source": [
    "import sys, os, importlib\n",
    "\n",
    "import pandas as pd\n",
    "import geopandas as gpd\n",
    "import numpy as np\n",
    "\n",
    "from shapely.geometry import Point, LineString\n",
    "\n",
    "\n",
    "sys.path.append('../')\n",
    "sys.path.append('../../gostrocks/src/')\n",
    "\n",
    "from infrasap import process_flows\n",
    "from GOSTRocks.misc import tPrint\n",
    "from infrasap import geocode"
   ]
  },
  {
   "cell_type": "markdown",
   "metadata": {},
   "source": [
    "# Geocode CSV file"
   ]
  },
  {
   "cell_type": "code",
   "execution_count": null,
   "metadata": {},
   "outputs": [],
   "source": [
    "# Geocode new ports \n",
    "new_ports_file = \"/home/wb411133/data/Projects/INFRA/PORTS/new_major_ports.csv\"\n",
    "inP = pd.read_csv(new_ports_file)\n",
    "inP.head()"
   ]
  },
  {
   "cell_type": "code",
   "execution_count": null,
   "metadata": {},
   "outputs": [],
   "source": [
    "locations = inP.apply(lambda x: geocode.getLocation(\"%s, %s\" % (x['Port'], x['Country'])), axis=1)"
   ]
  },
  {
   "cell_type": "code",
   "execution_count": null,
   "metadata": {},
   "outputs": [],
   "source": [
    "inP['Lat'] = [x['location']['lat'] for x in locations]\n",
    "inP['Lon'] = [x['location']['lng'] for x in locations]\n",
    "inP.to_csv(new_ports_file.replace(\".csv\", \"_geocoded.csv\"))"
   ]
  },
  {
   "cell_type": "markdown",
   "metadata": {},
   "source": [
    "# MAP National Port Flows"
   ]
  },
  {
   "cell_type": "code",
   "execution_count": 52,
   "metadata": {},
   "outputs": [],
   "source": [
    "port_data = \"/home/public/Data/GLOBAL/INFRA/PORTS/Port_flow_data_Q42020.csv\"\n",
    "out_folder = \"/home/wb411133/temp\"\n",
    "inD = pd.read_csv(port_data)"
   ]
  },
  {
   "cell_type": "code",
   "execution_count": 53,
   "metadata": {},
   "outputs": [
    {
     "data": {
      "text/html": [
       "<div>\n",
       "<style scoped>\n",
       "    .dataframe tbody tr th:only-of-type {\n",
       "        vertical-align: middle;\n",
       "    }\n",
       "\n",
       "    .dataframe tbody tr th {\n",
       "        vertical-align: top;\n",
       "    }\n",
       "\n",
       "    .dataframe thead th {\n",
       "        text-align: right;\n",
       "    }\n",
       "</style>\n",
       "<table border=\"1\" class=\"dataframe\">\n",
       "  <thead>\n",
       "    <tr style=\"text-align: right;\">\n",
       "      <th></th>\n",
       "      <th>OBJECTID</th>\n",
       "      <th>ISO_A2</th>\n",
       "      <th>WB_ADM0_CO</th>\n",
       "      <th>WB_ADM0_NA</th>\n",
       "      <th>Shape_Leng</th>\n",
       "      <th>Shape_Area</th>\n",
       "      <th>ISO3</th>\n",
       "      <th>UN_m49</th>\n",
       "      <th>Region</th>\n",
       "      <th>incomeG</th>\n",
       "      <th>lendingC</th>\n",
       "      <th>FID_100</th>\n",
       "      <th>geometry</th>\n",
       "    </tr>\n",
       "  </thead>\n",
       "  <tbody>\n",
       "    <tr>\n",
       "      <th>0</th>\n",
       "      <td>1</td>\n",
       "      <td>AF</td>\n",
       "      <td>1</td>\n",
       "      <td>Afghanistan</td>\n",
       "      <td>7.132529e+06</td>\n",
       "      <td>6.418379e+05</td>\n",
       "      <td>AFG</td>\n",
       "      <td>4</td>\n",
       "      <td>South Asia</td>\n",
       "      <td>Low income</td>\n",
       "      <td>IDA</td>\n",
       "      <td>0</td>\n",
       "      <td>POINT (7354476.159919892 4016689.864814219)</td>\n",
       "    </tr>\n",
       "    <tr>\n",
       "      <th>1</th>\n",
       "      <td>2</td>\n",
       "      <td>AL</td>\n",
       "      <td>3</td>\n",
       "      <td>Albania</td>\n",
       "      <td>1.743971e+06</td>\n",
       "      <td>2.868177e+04</td>\n",
       "      <td>ALB</td>\n",
       "      <td>8</td>\n",
       "      <td>Europe &amp; Central Asia</td>\n",
       "      <td>Upper middle income</td>\n",
       "      <td>IBRD</td>\n",
       "      <td>100</td>\n",
       "      <td>POINT (2233635.449581742 5034755.452888602)</td>\n",
       "    </tr>\n",
       "    <tr>\n",
       "      <th>2</th>\n",
       "      <td>3</td>\n",
       "      <td>DZ</td>\n",
       "      <td>4</td>\n",
       "      <td>Algeria</td>\n",
       "      <td>8.933841e+06</td>\n",
       "      <td>2.309321e+06</td>\n",
       "      <td>DZA</td>\n",
       "      <td>12</td>\n",
       "      <td>Middle East &amp; North Africa</td>\n",
       "      <td>Upper middle income</td>\n",
       "      <td>IBRD</td>\n",
       "      <td>200</td>\n",
       "      <td>POINT (297712.9092418809 3302083.668946038)</td>\n",
       "    </tr>\n",
       "    <tr>\n",
       "      <th>3</th>\n",
       "      <td>4</td>\n",
       "      <td>AS</td>\n",
       "      <td>5</td>\n",
       "      <td>American Samoa (U.S.)</td>\n",
       "      <td>1.744573e+05</td>\n",
       "      <td>2.110162e+02</td>\n",
       "      <td>ASM</td>\n",
       "      <td>16</td>\n",
       "      <td>East Asia &amp; Pacific</td>\n",
       "      <td>Upper middle income</td>\n",
       "      <td>None</td>\n",
       "      <td>300</td>\n",
       "      <td>POINT (-18967447.86540093 -1597359.862465858)</td>\n",
       "    </tr>\n",
       "    <tr>\n",
       "      <th>4</th>\n",
       "      <td>5</td>\n",
       "      <td>SD</td>\n",
       "      <td>6</td>\n",
       "      <td>Sudan</td>\n",
       "      <td>8.852111e+06</td>\n",
       "      <td>1.844887e+06</td>\n",
       "      <td>SDN</td>\n",
       "      <td>736</td>\n",
       "      <td>Sub-Saharan Africa</td>\n",
       "      <td>Lower middle income</td>\n",
       "      <td>IDA</td>\n",
       "      <td>400</td>\n",
       "      <td>POINT (3337126.248401281 1817745.065660827)</td>\n",
       "    </tr>\n",
       "  </tbody>\n",
       "</table>\n",
       "</div>"
      ],
      "text/plain": [
       "   OBJECTID ISO_A2  WB_ADM0_CO             WB_ADM0_NA    Shape_Leng  \\\n",
       "0         1     AF           1            Afghanistan  7.132529e+06   \n",
       "1         2     AL           3                Albania  1.743971e+06   \n",
       "2         3     DZ           4                Algeria  8.933841e+06   \n",
       "3         4     AS           5  American Samoa (U.S.)  1.744573e+05   \n",
       "4         5     SD           6                  Sudan  8.852111e+06   \n",
       "\n",
       "     Shape_Area ISO3  UN_m49                      Region              incomeG  \\\n",
       "0  6.418379e+05  AFG       4                  South Asia           Low income   \n",
       "1  2.868177e+04  ALB       8       Europe & Central Asia  Upper middle income   \n",
       "2  2.309321e+06  DZA      12  Middle East & North Africa  Upper middle income   \n",
       "3  2.110162e+02  ASM      16         East Asia & Pacific  Upper middle income   \n",
       "4  1.844887e+06  SDN     736          Sub-Saharan Africa  Lower middle income   \n",
       "\n",
       "  lendingC  FID_100                                       geometry  \n",
       "0      IDA        0    POINT (7354476.159919892 4016689.864814219)  \n",
       "1     IBRD      100    POINT (2233635.449581742 5034755.452888602)  \n",
       "2     IBRD      200    POINT (297712.9092418809 3302083.668946038)  \n",
       "3     None      300  POINT (-18967447.86540093 -1597359.862465858)  \n",
       "4      IDA      400    POINT (3337126.248401281 1817745.065660827)  "
      ]
     },
     "execution_count": 53,
     "metadata": {},
     "output_type": "execute_result"
    }
   ],
   "source": [
    "global_bounds = \"/home/public/Data/GLOBAL/ADMIN/Admin0_Polys.shp\"\n",
    "inB = gpd.read_file(global_bounds)\n",
    "inB['geometry'] = inB['geometry'].apply(lambda x: x.centroid)\n",
    "inB.head()"
   ]
  },
  {
   "cell_type": "code",
   "execution_count": 59,
   "metadata": {},
   "outputs": [
    {
     "data": {
      "text/plain": [
       "Date                                 object\n",
       "Port1                                object\n",
       "Port2                                object\n",
       "No of services                        int64\n",
       "Average annual frequency              int64\n",
       "Average number of ships               int64\n",
       "Maximum number of ships               int64\n",
       "Minimum number of ships               int64\n",
       "No of operators                       int64\n",
       "No of Alliances                       int64\n",
       "Average ship size (TEU)              object\n",
       "Min ship size (TEU)                  object\n",
       "Max ship size (TEU)                  object\n",
       "StDevP ship size (TEU)               object\n",
       "Variance ship size (TEU)             object\n",
       "Average ship age (months)             int64\n",
       "Min ship age (months)                 int64\n",
       "Max ship age (months)                 int64\n",
       "StDevP ship age (months)              int64\n",
       "Variance ship age (months)           object\n",
       "Annual deployed capacity (TEU)       object\n",
       "Quarterly deployed capacity (TEU)    object\n",
       "ISO2_FROM                            object\n",
       "ISO2_TO                              object\n",
       "dtype: object"
      ]
     },
     "execution_count": 59,
     "metadata": {},
     "output_type": "execute_result"
    }
   ],
   "source": [
    "inD.dtypes"
   ]
  },
  {
   "cell_type": "code",
   "execution_count": 61,
   "metadata": {},
   "outputs": [],
   "source": [
    "agg = {'No of services':'sum','Average ship size (TEU)':'mean','Quarterly deployed capacity (TEU)':'sum'}\n",
    "\n",
    "def tryFloat(x):\n",
    "    try:\n",
    "        return(float(x))\n",
    "    except:\n",
    "        try:\n",
    "            return(float(x.replace(\",\",\"\")))\n",
    "        except:\n",
    "            pass\n",
    "        \n",
    "\n",
    "for key in agg.keys():\n",
    "    inD[key] = inD[key].apply(tryFloat)"
   ]
  },
  {
   "cell_type": "code",
   "execution_count": 62,
   "metadata": {},
   "outputs": [],
   "source": [
    "# Get a list of country codes to extract\n",
    "inD['ISO2_FROM'] = inD['Port1'].apply(lambda x: x[:2])\n",
    "inD['ISO2_TO'] = inD['Port2'].apply(lambda x: x[:2])\n",
    "nRes = inD.groupby(['ISO2_FROM', 'ISO2_TO']).aggregate(agg).reset_index()\n",
    "internal_trade = nRes.loc[nRes['ISO2_FROM'] == nRes['ISO2_TO']]"
   ]
  },
  {
   "cell_type": "code",
   "execution_count": 63,
   "metadata": {},
   "outputs": [],
   "source": [
    "internal_trade = pd.merge(internal_trade, inB.loc[:,['ISO_A2','geometry']], left_on=\"ISO2_FROM\", right_on=\"ISO_A2\")\n",
    "internal_trade = gpd.GeoDataFrame(internal_trade, geometry='geometry', crs=inB.crs)\n",
    "internal_trade.to_file(os.path.join(out_folder, \"PORT_NATIONAL_INTERNAL_FLOWS.geojson\"), driver=\"GeoJSON\")"
   ]
  },
  {
   "cell_type": "code",
   "execution_count": 64,
   "metadata": {},
   "outputs": [],
   "source": [
    "flows = nRes.loc[nRes['ISO2_FROM'] != nRes['ISO2_TO']]\n",
    "flows = pd.merge(flows, inB.loc[:,['ISO_A2','geometry']], left_on=\"ISO2_FROM\", right_on=\"ISO_A2\")\n",
    "flows = pd.merge(flows, inB.loc[:,['ISO_A2','geometry']], left_on=\"ISO2_TO\", right_on=\"ISO_A2\")\n",
    "flows['geometry'] = flows.apply(lambda x: LineString([x['geometry_x'], x['geometry_y']]), axis=1)\n",
    "flows.drop(['ISO_A2_x','geometry_x','ISO_A2_y','geometry_y'], axis=1, inplace=True)\n",
    "flows = gpd.GeoDataFrame(flows, geometry=\"geometry\", crs=inB.crs)\n",
    "flows.to_file(os.path.join(out_folder, \"PORT_NATIONAL_EXTERNAL_FLOWS.geojson\"), driver=\"GeoJSON\")"
   ]
  },
  {
   "cell_type": "code",
   "execution_count": 50,
   "metadata": {},
   "outputs": [],
   "source": []
  },
  {
   "cell_type": "code",
   "execution_count": null,
   "metadata": {},
   "outputs": [],
   "source": []
  },
  {
   "cell_type": "markdown",
   "metadata": {},
   "source": [
    "# Map PORT FLOW ports"
   ]
  },
  {
   "cell_type": "code",
   "execution_count": 3,
   "metadata": {},
   "outputs": [],
   "source": [
    "output_folder = '/home/wb411133/data/Global/INFRA/PORTS'\n",
    "if not os.path.exists(output_folder):\n",
    "    os.makedirs(output_folder)\n",
    "raw_folder = os.path.join(output_folder, \"RAW_LOCODES\")\n",
    "if not os.path.exists(raw_folder):\n",
    "    os.makedirs(raw_folder)"
   ]
  },
  {
   "cell_type": "code",
   "execution_count": 6,
   "metadata": {},
   "outputs": [
    {
     "data": {
      "text/plain": [
       "array(['AE', 'AG', 'AI', 'AL', 'AN', 'AO', 'AR', 'AS', 'AU', 'AW', 'BB',\n",
       "       'BD', 'BE', 'BG', 'BH', 'BJ', 'BM', 'BN', 'BQ', 'BR', 'BS', 'BZ',\n",
       "       'CA', 'CD', 'CG', 'CI', 'CK', 'CL', 'CM', 'CN', 'CO', 'CR', 'CU',\n",
       "       'CV', 'CW', 'CX', 'CY', 'DE', 'DJ', 'DK', 'DM', 'DO', 'DZ', 'EC',\n",
       "       'EE', 'EG', 'ER', 'ES', 'FI', 'FJ', 'FM', 'FO', 'FR', 'GA', 'GB',\n",
       "       'GD', 'GE', 'GF', 'GH', 'GI', 'GL', 'GM', 'GN', 'GP', 'GQ', 'GR',\n",
       "       'GT', 'GU', 'GW', 'GY', 'HK', 'HN', 'HR', 'HT', 'ID', 'IE', 'IL',\n",
       "       'IN', 'IQ', 'IR', 'IS', 'IT', 'JM', 'JO', 'JP', 'KE', 'KH', 'KI',\n",
       "       'KM', 'KN', 'KR', 'KW', 'KY', 'LB', 'LC', 'LK', 'LR', 'LT', 'LV',\n",
       "       'LY', 'MA', 'MD', 'ME', 'MG', 'MH', 'MM', 'MP', 'MQ', 'MR', 'MS',\n",
       "       'MT', 'MU', 'MV', 'MX', 'MY', 'MZ', 'NA', 'NC', 'NF', 'NG', 'NI',\n",
       "       'NL', 'NO', 'NR', 'NZ', 'OM', 'PA', 'PE', 'PF', 'PG', 'PH', 'PK',\n",
       "       'PL', 'PR', 'PT', 'PW', 'PY', 'QA', 'RE', 'RO', 'RU', 'SA', 'SB',\n",
       "       'SC', 'SD', 'SE', 'SG', 'SI', 'SL', 'SN', 'SO', 'SR', 'ST', 'SV',\n",
       "       'SY', 'TC', 'TG', 'TH', 'TL', 'TN', 'TO', 'TR', 'TT', 'TV', 'TW',\n",
       "       'TZ', 'UA', 'US', 'UY', 'VC', 'VE', 'VG', 'VI', 'VN', 'VU', 'WF',\n",
       "       'WS', 'YE', 'YT', 'ZA'], dtype=object)"
      ]
     },
     "execution_count": 6,
     "metadata": {},
     "output_type": "execute_result"
    }
   ],
   "source": [
    "# Get a list of country codes to extract\n",
    "inD['ISO2'] = inD['Port1'].apply(lambda x: x[:2])\n",
    "countries = inD['ISO2'].unique()\n",
    "countries"
   ]
  },
  {
   "cell_type": "code",
   "execution_count": 7,
   "metadata": {},
   "outputs": [],
   "source": [
    "def convert_coords(x):\n",
    "    coords_split = x.split(\" \")\n",
    "    lat = coords_split[0]\n",
    "    lon = coords_split[1]\n",
    "    def get_number(y):        \n",
    "        num = float(y[:-3]) + ((float(y[-3:-1])/60))\n",
    "        if (y[-1] == 'W') or (y[-1] == \"S\"):\n",
    "            num = num * -1\n",
    "        return(num)\n",
    "    return(Point([get_number(lon), get_number(lat)]))"
   ]
  },
  {
   "cell_type": "code",
   "execution_count": 8,
   "metadata": {},
   "outputs": [],
   "source": [
    "ports = inD['Port1'].unique()"
   ]
  },
  {
   "cell_type": "code",
   "execution_count": 9,
   "metadata": {},
   "outputs": [
    {
     "name": "stdout",
     "output_type": "stream",
     "text": [
      "(3194, 11)\n",
      "(2422, 12)\n",
      "(7, 11)\n"
     ]
    }
   ],
   "source": [
    "def process_ports(country, country_data):\n",
    "    if not os.path.exists(country_data):\n",
    "        # Read data form UN website, save for future processing\n",
    "        tempD = pd.read_html('https://service.unece.org/trade/locode/%s.htm' % country.lower())\n",
    "        curD = tempD[2]\n",
    "        curD.columns = curD.iloc[0]\n",
    "        curD = curD.drop(0)\n",
    "        curD.to_csv(country_data)\n",
    "    else:\n",
    "        curD = pd.read_csv(country_data, index_col=0)\n",
    "    curD['LOCODE'] = curD['LOCODE'].apply(lambda x: x.replace(\" \",\"\"))\n",
    "    \n",
    "    #Drop records with no coordinates\n",
    "    no_coords_idx = curD['Coordinates'].apply(lambda x: x is np.nan)\n",
    "    badD = curD.loc[no_coords_idx]\n",
    "    goodD = curD.loc[~no_coords_idx]\n",
    "    #if the badD are in the list of port flows, save those\n",
    "    important_ports = badD.loc[badD['LOCODE'].isin(ports)]\n",
    "\n",
    "    curD_geom = goodD['Coordinates'].apply(convert_coords)\n",
    "    curgpd = gpd.GeoDataFrame(goodD, geometry=curD_geom, crs={'init':'epsg:4326'})\n",
    "    return({'ALL':curD, 'GOOD':curgpd,'BAD':important_ports})\n",
    "\n",
    "country = \"CA\"\n",
    "res = process_ports(country, os.path.join(raw_folder, \"%s.csv\" % country))\n",
    "print(res['ALL'].shape)\n",
    "print(res['GOOD'].shape)\n",
    "print(res['BAD'].shape)"
   ]
  },
  {
   "cell_type": "code",
   "execution_count": null,
   "metadata": {},
   "outputs": [],
   "source": [
    "try:\n",
    "    del(final)\n",
    "    del(missing_ports)\n",
    "except:\n",
    "    pass\n",
    "for country in countries:\n",
    "    print(country)\n",
    "    try:\n",
    "        res = process_ports(country, os.path.join(raw_folder, \"%s.csv\" % country))\n",
    "    except:\n",
    "        print(\"ERROR\")\n",
    "    try:\n",
    "        missing_ports = missing_ports.append(res['BAD'])\n",
    "    except:\n",
    "        missing_ports = res['BAD']\n",
    "    try:\n",
    "        final = final.append(res['GOOD'])\n",
    "    except:\n",
    "        final = res['GOOD']\n"
   ]
  },
  {
   "cell_type": "code",
   "execution_count": null,
   "metadata": {},
   "outputs": [],
   "source": [
    "#Add country name to missing ports\n",
    "import pycountry\n",
    "importlib.reload(geocode)\n",
    "#pycountry.countries.get(alpha_2='CA')\n",
    "\n",
    "missing_ports['Country'] = missing_ports['LOCODE'].apply(lambda x: pycountry.countries.get(alpha_2=x[:2]).name)\n",
    "locations = missing_ports.apply(lambda x: geocode.getLocation(\"%s, %s\" % (x['NameWoDiacritics'], x['Country'])), axis=1)"
   ]
  },
  {
   "cell_type": "code",
   "execution_count": null,
   "metadata": {},
   "outputs": [],
   "source": [
    "def get_point(x):\n",
    "    if float(x['location']['lng']) < -180:\n",
    "        return(np.nan)\n",
    "    try:\n",
    "        return(Point(float(x['location']['lng']), float(x['location']['lat'])))\n",
    "    except:\n",
    "        return(np.nan)\n",
    "\n",
    "geoms = locations.apply(get_point)\n",
    "missing_ports['geometry'] = geoms\n",
    "\n",
    "still_missing_ports = missing_ports.loc[missing_ports['geometry'].apply(lambda x: type(x) != Point)]\n",
    "missing_ports = missing_ports.loc[missing_ports['geometry'].apply(lambda x: type(x) == Point)]"
   ]
  },
  {
   "cell_type": "code",
   "execution_count": null,
   "metadata": {},
   "outputs": [],
   "source": [
    "still_missing_ports.to_csv(os.path.join(output_folder, \"still_missing_ports.csv\"))"
   ]
  },
  {
   "cell_type": "code",
   "execution_count": null,
   "metadata": {},
   "outputs": [],
   "source": [
    "missing_ports.head()"
   ]
  },
  {
   "cell_type": "code",
   "execution_count": null,
   "metadata": {},
   "outputs": [],
   "source": [
    "final.head()"
   ]
  },
  {
   "cell_type": "code",
   "execution_count": null,
   "metadata": {},
   "outputs": [],
   "source": [
    "final['Country'] = final['LOCODE'].apply(lambda x: pycountry.countries.get(alpha_2=x[:2]).name)"
   ]
  },
  {
   "cell_type": "code",
   "execution_count": null,
   "metadata": {},
   "outputs": [],
   "source": [
    "print(final.shape)"
   ]
  },
  {
   "cell_type": "code",
   "execution_count": null,
   "metadata": {},
   "outputs": [],
   "source": [
    "final = final.append(missing_ports).reset_index()"
   ]
  },
  {
   "cell_type": "code",
   "execution_count": null,
   "metadata": {},
   "outputs": [],
   "source": [
    "# Save all data to file\n",
    "final.to_file(os.path.join(output_folder, \"all_ports.shp\"))"
   ]
  },
  {
   "cell_type": "code",
   "execution_count": null,
   "metadata": {},
   "outputs": [],
   "source": [
    "final.shape"
   ]
  },
  {
   "cell_type": "code",
   "execution_count": null,
   "metadata": {},
   "outputs": [],
   "source": [
    "ports = inD['Port1'].unique()\n",
    "inP = final.loc[final['LOCODE'].isin(ports)]\n",
    "inP.shape"
   ]
  },
  {
   "cell_type": "code",
   "execution_count": null,
   "metadata": {},
   "outputs": [],
   "source": [
    "len(ports)"
   ]
  },
  {
   "cell_type": "code",
   "execution_count": null,
   "metadata": {},
   "outputs": [],
   "source": [
    "# Join traffic attributes to ports dataset\n",
    "inP.to_file(os.path.join(output_folder, \"selected_ports.shp\"))"
   ]
  },
  {
   "cell_type": "code",
   "execution_count": null,
   "metadata": {},
   "outputs": [],
   "source": [
    "agg = {\"Quarterly deployed capacity (TEU)\":\"sum\"}\n",
    "\n",
    "inD_agg = inD.groupby(['Port1'])\n",
    "\n",
    "outflows = inD_agg.agg(agg).reset_index()\n",
    "outflows.columns = ['Port1', 'outflows']\n",
    "\n",
    "inflows = inD_agg.agg(agg).reset_index()\n",
    "inflows.columns = ['Port2', 'inflows']\n",
    "\n",
    "combo = pd.merge(inP, outflows, left_on='LOCODE', right_on='Port1')\n",
    "combo = pd.merge(combo, inflows, left_on='LOCODE', right_on='Port2')\n",
    "\n",
    "combo = combo.drop(['SubDiv','Coordinates','Date','index','Ch','IATA','Remarks','Port1','Port2'], axis=1)\n",
    "\n",
    "combo.to_file(os.path.join(output_folder, \"attributed_ports.shp\"))"
   ]
  },
  {
   "cell_type": "code",
   "execution_count": null,
   "metadata": {},
   "outputs": [],
   "source": [
    "output_folder"
   ]
  },
  {
   "cell_type": "code",
   "execution_count": null,
   "metadata": {},
   "outputs": [],
   "source": [
    "inD.head()"
   ]
  },
  {
   "cell_type": "code",
   "execution_count": null,
   "metadata": {},
   "outputs": [],
   "source": [
    "len(ports)"
   ]
  },
  {
   "cell_type": "code",
   "execution_count": null,
   "metadata": {},
   "outputs": [],
   "source": [
    "combo.shape"
   ]
  },
  {
   "cell_type": "code",
   "execution_count": null,
   "metadata": {},
   "outputs": [],
   "source": []
  }
 ],
 "metadata": {
  "kernelspec": {
   "display_name": "Python (geog)",
   "language": "python",
   "name": "geog"
  },
  "language_info": {
   "codemirror_mode": {
    "name": "ipython",
    "version": 3
   },
   "file_extension": ".py",
   "mimetype": "text/x-python",
   "name": "python",
   "nbconvert_exporter": "python",
   "pygments_lexer": "ipython3",
   "version": "3.7.1"
  }
 },
 "nbformat": 4,
 "nbformat_minor": 2
}
