{
 "cells": [
  {
   "cell_type": "code",
   "execution_count": 16,
   "metadata": {},
   "outputs": [],
   "source": [
    "import sys, os, importlib\n",
    "\n",
    "import pandas as pd\n",
    "import geopandas as gpd\n",
    "\n",
    "sys.path.append(\"../\")\n",
    "\n",
    "import infrasap.osm_extractor as osm\n",
    "from infrasap.misc import tPrint"
   ]
  },
  {
   "cell_type": "markdown",
   "metadata": {},
   "source": [
    "# Extract Railways"
   ]
  },
  {
   "cell_type": "code",
   "execution_count": 29,
   "metadata": {},
   "outputs": [],
   "source": [
    "global_osm = \"/home/public/Data/GLOBAL/OSM/GLOBAL/planet-latest_RAILWAYS_INFRA.osm.pbf\"\n",
    "focal_osm = \"/home/wb411133/temp/rails.osm.pbf\"\n",
    "if not os.path.exists(focal_osm):\n",
    "    base_out = \"/home/wb411133/temp\" #r\"J:\\Data\\PROJECTS\\INFRA_SAP\"\n",
    "    out_folder = os.path.join(base_out, \"ZWE\")\n",
    "    focal_admin2 = os.path.join(out_folder, \"admin.shp\")\n",
    "    extractor = osm.osmExtraction(osmosisCmd = \"/home/wb411133/Code/Osmosis/bin/osmosis\", tempFile = \"/home/wb411133/temp/temp_execution.bat\")\n",
    "    print(extractor.extractBoundingBox(global_osm, focal_admin2, focal_osm, execute=False))"
   ]
  },
  {
   "cell_type": "code",
   "execution_count": 31,
   "metadata": {},
   "outputs": [],
   "source": [
    "importlib.reload(osm)\n",
    "r = osm.railwayExtractor()\n",
    "r.apply_file(global_osm, locations=True)"
   ]
  },
  {
   "cell_type": "code",
   "execution_count": 32,
   "metadata": {},
   "outputs": [
    {
     "data": {
      "text/plain": [
       "2091553"
      ]
     },
     "execution_count": 32,
     "metadata": {},
     "output_type": "execute_result"
    }
   ],
   "source": [
    "len(r.railways)"
   ]
  },
  {
   "cell_type": "code",
   "execution_count": 36,
   "metadata": {},
   "outputs": [],
   "source": [
    "xx = gpd.GeoDataFrame(pd.DataFrame(r.railways, columns=['id', 'geometry'] + r.tags), \n",
    "                      geometry='geometry', crs={'init':'epsg:4326'})"
   ]
  },
  {
   "cell_type": "code",
   "execution_count": 37,
   "metadata": {},
   "outputs": [
    {
     "data": {
      "text/html": [
       "<div>\n",
       "<style scoped>\n",
       "    .dataframe tbody tr th:only-of-type {\n",
       "        vertical-align: middle;\n",
       "    }\n",
       "\n",
       "    .dataframe tbody tr th {\n",
       "        vertical-align: top;\n",
       "    }\n",
       "\n",
       "    .dataframe thead th {\n",
       "        text-align: right;\n",
       "    }\n",
       "</style>\n",
       "<table border=\"1\" class=\"dataframe\">\n",
       "  <thead>\n",
       "    <tr style=\"text-align: right;\">\n",
       "      <th></th>\n",
       "      <th>id</th>\n",
       "      <th>geometry</th>\n",
       "      <th>service</th>\n",
       "      <th>railway</th>\n",
       "      <th>usage</th>\n",
       "      <th>gauge</th>\n",
       "      <th>electrified</th>\n",
       "    </tr>\n",
       "  </thead>\n",
       "  <tbody>\n",
       "    <tr>\n",
       "      <th>0</th>\n",
       "      <td>740</td>\n",
       "      <td>LINESTRING (-1.8178905 52.5700974, -1.8179287 ...</td>\n",
       "      <td>None</td>\n",
       "      <td>rail</td>\n",
       "      <td>branch</td>\n",
       "      <td>1435</td>\n",
       "      <td>contact_line</td>\n",
       "    </tr>\n",
       "    <tr>\n",
       "      <th>1</th>\n",
       "      <td>2148</td>\n",
       "      <td>LINESTRING (-1.8731878 52.5055513, -1.8727074 ...</td>\n",
       "      <td>None</td>\n",
       "      <td>rail</td>\n",
       "      <td>branch</td>\n",
       "      <td>1435</td>\n",
       "      <td>contact_line</td>\n",
       "    </tr>\n",
       "    <tr>\n",
       "      <th>2</th>\n",
       "      <td>3413</td>\n",
       "      <td>LINESTRING (-4.3256055 55.8827057, -4.3254157 ...</td>\n",
       "      <td>None</td>\n",
       "      <td>rail</td>\n",
       "      <td>main</td>\n",
       "      <td>1435</td>\n",
       "      <td>contact_line</td>\n",
       "    </tr>\n",
       "    <tr>\n",
       "      <th>3</th>\n",
       "      <td>3417</td>\n",
       "      <td>LINESTRING (-4.3138852 55.8776742, -4.3139865 ...</td>\n",
       "      <td>None</td>\n",
       "      <td>rail</td>\n",
       "      <td>main</td>\n",
       "      <td>1435</td>\n",
       "      <td>contact_line</td>\n",
       "    </tr>\n",
       "    <tr>\n",
       "      <th>4</th>\n",
       "      <td>3471</td>\n",
       "      <td>LINESTRING (-0.4950811 51.9681192, -0.4951938 ...</td>\n",
       "      <td>None</td>\n",
       "      <td>rail</td>\n",
       "      <td>main</td>\n",
       "      <td>1435</td>\n",
       "      <td>contact_line</td>\n",
       "    </tr>\n",
       "  </tbody>\n",
       "</table>\n",
       "</div>"
      ],
      "text/plain": [
       "     id                                           geometry service railway  \\\n",
       "0   740  LINESTRING (-1.8178905 52.5700974, -1.8179287 ...    None    rail   \n",
       "1  2148  LINESTRING (-1.8731878 52.5055513, -1.8727074 ...    None    rail   \n",
       "2  3413  LINESTRING (-4.3256055 55.8827057, -4.3254157 ...    None    rail   \n",
       "3  3417  LINESTRING (-4.3138852 55.8776742, -4.3139865 ...    None    rail   \n",
       "4  3471  LINESTRING (-0.4950811 51.9681192, -0.4951938 ...    None    rail   \n",
       "\n",
       "    usage gauge   electrified  \n",
       "0  branch  1435  contact_line  \n",
       "1  branch  1435  contact_line  \n",
       "2    main  1435  contact_line  \n",
       "3    main  1435  contact_line  \n",
       "4    main  1435  contact_line  "
      ]
     },
     "execution_count": 37,
     "metadata": {},
     "output_type": "execute_result"
    }
   ],
   "source": [
    "xx.head()"
   ]
  },
  {
   "cell_type": "code",
   "execution_count": 38,
   "metadata": {},
   "outputs": [
    {
     "data": {
      "text/plain": [
       "spur                                 364257\n",
       "yard                                 354631\n",
       "siding                               241564\n",
       "crossover                             48650\n",
       "Fenoco                                   56\n",
       "yes                                      37\n",
       "connector                                28\n",
       "safety_siding                            26\n",
       "wye                                      22\n",
       "branch                                   20\n",
       "main                                     17\n",
       "industrial                               12\n",
       "sand_drag                                11\n",
       "runaway                                  10\n",
       "yard?                                    10\n",
       "mainline                                 10\n",
       "y                                        10\n",
       "triangle                                  9\n",
       "crossing                                  7\n",
       "test                                      7\n",
       "side                                      6\n",
       "slow                                      5\n",
       "drive-through                             5\n",
       "loop                                      5\n",
       "alley                                     5\n",
       "slipway                                   4\n",
       "disused                                   4\n",
       "switch                                    4\n",
       "derailer                                  3\n",
       "testing                                   3\n",
       "                                      ...  \n",
       "apur                                      2\n",
       "spur;yard                                 2\n",
       "sp                                        2\n",
       "sid                                       2\n",
       "link                                      1\n",
       "junction                                  1\n",
       "crossoverelectrified=contact_line         1\n",
       "rail                                      1\n",
       "depot                                     1\n",
       "Industrial                                1\n",
       "crossover;spur                            1\n",
       "trap_road                                 1\n",
       "ыш                                        1\n",
       "plinth                                    1\n",
       "spur; yard; spur                          1\n",
       "f                                         1\n",
       "boat_launch                               1\n",
       "driveway                                  1\n",
       "spurц                                     1\n",
       "rest_area                                 1\n",
       "iding                                     1\n",
       "Ladegleis                                 1\n",
       "emergency_access                          1\n",
       "tourism                                   1\n",
       "siding; yard                              1\n",
       "si#                                       1\n",
       "rail yard                                 1\n",
       "regional                                  1\n",
       "transfer_table                            1\n",
       "ss                                        1\n",
       "Name: service, Length: 73, dtype: int64"
      ]
     },
     "execution_count": 38,
     "metadata": {},
     "output_type": "execute_result"
    }
   ],
   "source": [
    "xx['service'].value_counts()"
   ]
  },
  {
   "cell_type": "code",
   "execution_count": 41,
   "metadata": {},
   "outputs": [],
   "source": [
    "# Write out major routes only (remove spur, yard, and siding)\n",
    "major_routes = xx.loc[~xx['service'].isin([\"spur\", \"yard\", \"siding\"])]\n",
    "major_routes.to_file(\"/home/wb411133/temp/major_railroads.shp\")"
   ]
  },
  {
   "cell_type": "markdown",
   "metadata": {},
   "source": [
    "# Extract Highways"
   ]
  },
  {
   "cell_type": "code",
   "execution_count": 2,
   "metadata": {},
   "outputs": [],
   "source": [
    "global_osm = \"/home/public/Data/GLOBAL/OSM/GLOBAL/planet-latest_HIGHWAYS.osm.pbf\"\n",
    "importlib.reload(osm)\n",
    "r = osm.highwayExtractor()\n",
    "r.apply_file(global_osm, locations=True)"
   ]
  },
  {
   "cell_type": "code",
   "execution_count": 17,
   "metadata": {},
   "outputs": [
    {
     "name": "stdout",
     "output_type": "stream",
     "text": [
      "13:04:01\tProcessing OSMLR Level 2 roads\n",
      "13:25:53\tProcessing OSMLR Level 3 roads\n"
     ]
    },
    {
     "ename": "RuntimeError",
     "evalue": "Failed to write record: {'id': '18482269', 'type': 'Feature', 'properties': {'Highway': 'residential', 'OSMID': 120752380}, 'geometry': {'type': 'LineString', 'coordinates': ((14.0267529, 32.601751), (14.0268763, 32.6015793), (14.0269997, 32.6013918), (14.0271472, 32.601159), (14.0273215, 32.6009376), (14.027512, 32.6007026), (14.0276085, 32.6005354), (14.0276783, 32.6003365), (14.0277051, 32.6002687), (14.0277265, 32.6001648), (14.0276836, 32.600088), (14.0276461, 32.6000089), (14.027634, 32.5999637), (14.0276407, 32.5999236), (14.0276755, 32.5998806), (14.0278392, 32.5997287), (14.0279921, 32.5996044), (14.0281664, 32.5995027), (14.0282683, 32.5994688), (14.0283354, 32.5994214), (14.0284802, 32.5992699), (14.0285956, 32.5991524), (14.0287752, 32.5990282), (14.0290086, 32.5988542), (14.0292339, 32.5986689), (14.0294646, 32.5984542), (14.0295746, 32.5983458), (14.0297033, 32.5982351), (14.0298428, 32.5980995), (14.0300627, 32.5978825), (14.0305992, 32.5975097), (14.0309774, 32.5972792), (14.0312483, 32.5971843), (14.0313918, 32.5970713), (14.0315299, 32.5969109), (14.0317472, 32.596773), (14.031951, 32.5966759), (14.0320744, 32.5965312), (14.0322622, 32.5963143), (14.0323051, 32.5961945), (14.0323373, 32.5960883), (14.0323882, 32.5960205), (14.0325331, 32.5959979), (14.0326672, 32.5959256), (14.0329112, 32.5956906), (14.0331611, 32.5953791), (14.0332047, 32.5953296), (14.0332591, 32.5952964), (14.0333672, 32.5952007))}}",
     "output_type": "error",
     "traceback": [
      "\u001b[0;31m---------------------------------------------------------------------------\u001b[0m",
      "\u001b[0;31mRuntimeError\u001b[0m                              Traceback (most recent call last)",
      "\u001b[0;32m<ipython-input-17-29ce788bcc6c>\u001b[0m in \u001b[0;36m<module>\u001b[0;34m\u001b[0m\n\u001b[1;32m     23\u001b[0m     \u001b[0mxx\u001b[0m \u001b[0;34m=\u001b[0m \u001b[0mxx\u001b[0m\u001b[0;34m.\u001b[0m\u001b[0mloc\u001b[0m\u001b[0;34m[\u001b[0m\u001b[0;34m:\u001b[0m\u001b[0;34m,\u001b[0m\u001b[0;34m[\u001b[0m\u001b[0;34m'OSMID'\u001b[0m\u001b[0;34m,\u001b[0m\u001b[0;34m'geometry'\u001b[0m\u001b[0;34m,\u001b[0m\u001b[0;34m'Highway'\u001b[0m\u001b[0;34m]\u001b[0m\u001b[0;34m]\u001b[0m\u001b[0;34m\u001b[0m\u001b[0;34m\u001b[0m\u001b[0m\n\u001b[1;32m     24\u001b[0m     \u001b[0mxx_geom\u001b[0m \u001b[0;34m=\u001b[0m \u001b[0mgpd\u001b[0m\u001b[0;34m.\u001b[0m\u001b[0mGeoDataFrame\u001b[0m\u001b[0;34m(\u001b[0m\u001b[0mxx\u001b[0m\u001b[0;34m,\u001b[0m \u001b[0mgeometry\u001b[0m\u001b[0;34m=\u001b[0m\u001b[0;34m'geometry'\u001b[0m\u001b[0;34m,\u001b[0m \u001b[0mcrs\u001b[0m\u001b[0;34m=\u001b[0m\u001b[0;34m{\u001b[0m\u001b[0;34m'init'\u001b[0m\u001b[0;34m:\u001b[0m\u001b[0;34m'epsg:4326'\u001b[0m\u001b[0;34m}\u001b[0m\u001b[0;34m)\u001b[0m\u001b[0;34m\u001b[0m\u001b[0;34m\u001b[0m\u001b[0m\n\u001b[0;32m---> 25\u001b[0;31m     \u001b[0mxx_geom\u001b[0m\u001b[0;34m.\u001b[0m\u001b[0mto_file\u001b[0m\u001b[0;34m(\u001b[0m\u001b[0mosmlr_lvl3_file\u001b[0m\u001b[0;34m)\u001b[0m\u001b[0;34m\u001b[0m\u001b[0;34m\u001b[0m\u001b[0m\n\u001b[0m\u001b[1;32m     26\u001b[0m \u001b[0;34m\u001b[0m\u001b[0m\n\u001b[1;32m     27\u001b[0m \u001b[0;32mif\u001b[0m \u001b[0;32mnot\u001b[0m \u001b[0mos\u001b[0m\u001b[0;34m.\u001b[0m\u001b[0mpath\u001b[0m\u001b[0;34m.\u001b[0m\u001b[0mexists\u001b[0m\u001b[0;34m(\u001b[0m\u001b[0mosmlr_lvl4_file\u001b[0m\u001b[0;34m)\u001b[0m\u001b[0;34m:\u001b[0m\u001b[0;34m\u001b[0m\u001b[0;34m\u001b[0m\u001b[0m\n",
      "\u001b[0;32m~/.conda/envs/geog/lib/python3.7/site-packages/geopandas/geodataframe.py\u001b[0m in \u001b[0;36mto_file\u001b[0;34m(self, filename, driver, schema, **kwargs)\u001b[0m\n\u001b[1;32m    427\u001b[0m         \"\"\"\n\u001b[1;32m    428\u001b[0m         \u001b[0;32mfrom\u001b[0m \u001b[0mgeopandas\u001b[0m\u001b[0;34m.\u001b[0m\u001b[0mio\u001b[0m\u001b[0;34m.\u001b[0m\u001b[0mfile\u001b[0m \u001b[0;32mimport\u001b[0m \u001b[0mto_file\u001b[0m\u001b[0;34m\u001b[0m\u001b[0;34m\u001b[0m\u001b[0m\n\u001b[0;32m--> 429\u001b[0;31m         \u001b[0mto_file\u001b[0m\u001b[0;34m(\u001b[0m\u001b[0mself\u001b[0m\u001b[0;34m,\u001b[0m \u001b[0mfilename\u001b[0m\u001b[0;34m,\u001b[0m \u001b[0mdriver\u001b[0m\u001b[0;34m,\u001b[0m \u001b[0mschema\u001b[0m\u001b[0;34m,\u001b[0m \u001b[0;34m**\u001b[0m\u001b[0mkwargs\u001b[0m\u001b[0;34m)\u001b[0m\u001b[0;34m\u001b[0m\u001b[0;34m\u001b[0m\u001b[0m\n\u001b[0m\u001b[1;32m    430\u001b[0m \u001b[0;34m\u001b[0m\u001b[0m\n\u001b[1;32m    431\u001b[0m     \u001b[0;32mdef\u001b[0m \u001b[0mto_crs\u001b[0m\u001b[0;34m(\u001b[0m\u001b[0mself\u001b[0m\u001b[0;34m,\u001b[0m \u001b[0mcrs\u001b[0m\u001b[0;34m=\u001b[0m\u001b[0;32mNone\u001b[0m\u001b[0;34m,\u001b[0m \u001b[0mepsg\u001b[0m\u001b[0;34m=\u001b[0m\u001b[0;32mNone\u001b[0m\u001b[0;34m,\u001b[0m \u001b[0minplace\u001b[0m\u001b[0;34m=\u001b[0m\u001b[0;32mFalse\u001b[0m\u001b[0;34m)\u001b[0m\u001b[0;34m:\u001b[0m\u001b[0;34m\u001b[0m\u001b[0;34m\u001b[0m\u001b[0m\n",
      "\u001b[0;32m~/.conda/envs/geog/lib/python3.7/site-packages/geopandas/io/file.py\u001b[0m in \u001b[0;36mto_file\u001b[0;34m(df, filename, driver, schema, **kwargs)\u001b[0m\n\u001b[1;32m    129\u001b[0m         with fiona.open(filename, 'w', driver=driver, crs=df.crs,\n\u001b[1;32m    130\u001b[0m                         schema=schema, **kwargs) as colxn:\n\u001b[0;32m--> 131\u001b[0;31m             \u001b[0mcolxn\u001b[0m\u001b[0;34m.\u001b[0m\u001b[0mwriterecords\u001b[0m\u001b[0;34m(\u001b[0m\u001b[0mdf\u001b[0m\u001b[0;34m.\u001b[0m\u001b[0miterfeatures\u001b[0m\u001b[0;34m(\u001b[0m\u001b[0;34m)\u001b[0m\u001b[0;34m)\u001b[0m\u001b[0;34m\u001b[0m\u001b[0;34m\u001b[0m\u001b[0m\n\u001b[0m\u001b[1;32m    132\u001b[0m \u001b[0;34m\u001b[0m\u001b[0m\n\u001b[1;32m    133\u001b[0m \u001b[0;34m\u001b[0m\u001b[0m\n",
      "\u001b[0;32m~/.conda/envs/geog/lib/python3.7/site-packages/fiona/collection.py\u001b[0m in \u001b[0;36mwriterecords\u001b[0;34m(self, records)\u001b[0m\n\u001b[1;32m    345\u001b[0m         \u001b[0;32mif\u001b[0m \u001b[0mself\u001b[0m\u001b[0;34m.\u001b[0m\u001b[0mmode\u001b[0m \u001b[0;32mnot\u001b[0m \u001b[0;32min\u001b[0m \u001b[0;34m(\u001b[0m\u001b[0;34m'a'\u001b[0m\u001b[0;34m,\u001b[0m \u001b[0;34m'w'\u001b[0m\u001b[0;34m)\u001b[0m\u001b[0;34m:\u001b[0m\u001b[0;34m\u001b[0m\u001b[0;34m\u001b[0m\u001b[0m\n\u001b[1;32m    346\u001b[0m             \u001b[0;32mraise\u001b[0m \u001b[0mIOError\u001b[0m\u001b[0;34m(\u001b[0m\u001b[0;34m\"collection not open for writing\"\u001b[0m\u001b[0;34m)\u001b[0m\u001b[0;34m\u001b[0m\u001b[0;34m\u001b[0m\u001b[0m\n\u001b[0;32m--> 347\u001b[0;31m         \u001b[0mself\u001b[0m\u001b[0;34m.\u001b[0m\u001b[0msession\u001b[0m\u001b[0;34m.\u001b[0m\u001b[0mwriterecs\u001b[0m\u001b[0;34m(\u001b[0m\u001b[0mrecords\u001b[0m\u001b[0;34m,\u001b[0m \u001b[0mself\u001b[0m\u001b[0;34m)\u001b[0m\u001b[0;34m\u001b[0m\u001b[0;34m\u001b[0m\u001b[0m\n\u001b[0m\u001b[1;32m    348\u001b[0m         \u001b[0mself\u001b[0m\u001b[0;34m.\u001b[0m\u001b[0m_len\u001b[0m \u001b[0;34m=\u001b[0m \u001b[0mself\u001b[0m\u001b[0;34m.\u001b[0m\u001b[0msession\u001b[0m\u001b[0;34m.\u001b[0m\u001b[0mget_length\u001b[0m\u001b[0;34m(\u001b[0m\u001b[0;34m)\u001b[0m\u001b[0;34m\u001b[0m\u001b[0;34m\u001b[0m\u001b[0m\n\u001b[1;32m    349\u001b[0m         \u001b[0mself\u001b[0m\u001b[0;34m.\u001b[0m\u001b[0m_bounds\u001b[0m \u001b[0;34m=\u001b[0m \u001b[0mself\u001b[0m\u001b[0;34m.\u001b[0m\u001b[0msession\u001b[0m\u001b[0;34m.\u001b[0m\u001b[0mget_extent\u001b[0m\u001b[0;34m(\u001b[0m\u001b[0;34m)\u001b[0m\u001b[0;34m\u001b[0m\u001b[0;34m\u001b[0m\u001b[0m\n",
      "\u001b[0;32mfiona/ogrext.pyx\u001b[0m in \u001b[0;36mfiona.ogrext.WritingSession.writerecs\u001b[0;34m()\u001b[0m\n",
      "\u001b[0;31mRuntimeError\u001b[0m: Failed to write record: {'id': '18482269', 'type': 'Feature', 'properties': {'Highway': 'residential', 'OSMID': 120752380}, 'geometry': {'type': 'LineString', 'coordinates': ((14.0267529, 32.601751), (14.0268763, 32.6015793), (14.0269997, 32.6013918), (14.0271472, 32.601159), (14.0273215, 32.6009376), (14.027512, 32.6007026), (14.0276085, 32.6005354), (14.0276783, 32.6003365), (14.0277051, 32.6002687), (14.0277265, 32.6001648), (14.0276836, 32.600088), (14.0276461, 32.6000089), (14.027634, 32.5999637), (14.0276407, 32.5999236), (14.0276755, 32.5998806), (14.0278392, 32.5997287), (14.0279921, 32.5996044), (14.0281664, 32.5995027), (14.0282683, 32.5994688), (14.0283354, 32.5994214), (14.0284802, 32.5992699), (14.0285956, 32.5991524), (14.0287752, 32.5990282), (14.0290086, 32.5988542), (14.0292339, 32.5986689), (14.0294646, 32.5984542), (14.0295746, 32.5983458), (14.0297033, 32.5982351), (14.0298428, 32.5980995), (14.0300627, 32.5978825), (14.0305992, 32.5975097), (14.0309774, 32.5972792), (14.0312483, 32.5971843), (14.0313918, 32.5970713), (14.0315299, 32.5969109), (14.0317472, 32.596773), (14.031951, 32.5966759), (14.0320744, 32.5965312), (14.0322622, 32.5963143), (14.0323051, 32.5961945), (14.0323373, 32.5960883), (14.0323882, 32.5960205), (14.0325331, 32.5959979), (14.0326672, 32.5959256), (14.0329112, 32.5956906), (14.0331611, 32.5953791), (14.0332047, 32.5953296), (14.0332591, 32.5952964), (14.0333672, 32.5952007))}}"
     ]
    }
   ],
   "source": [
    "osmlr_lvl1_file = os.path.join(os.path.dirname(global_osm), \"OSMLR_LVL1.shp\")\n",
    "osmlr_lvl2_file = os.path.join(os.path.dirname(global_osm), \"OSMLR_LVL2.shp\")\n",
    "osmlr_lvl3_file = os.path.join(os.path.dirname(global_osm), \"OSMLR_LVL3.shp\")\n",
    "osmlr_lvl4_file = os.path.join(os.path.dirname(global_osm), \"OSMLR_LVL4.shp\")\n",
    "\n",
    "if not os.path.exists(osmlr_lvl1_file):\n",
    "    tPrint(\"Processing OSMLR Level 1 roads\")\n",
    "    xx = pd.DataFrame(r.OSMLR1, columns=['OSMID','geometry','Highway','col1','col2','col3','col4','col5'])\n",
    "    xx = xx.loc[:,['OSMID','geometry','Highway']]\n",
    "    xx_geom = gpd.GeoDataFrame(xx, geometry='geometry', crs={'init':'epsg:4326'})\n",
    "    xx_geom.to_file(osmlr_lvl1_file)\n",
    "\n",
    "if not os.path.exists(osmlr_lvl2_file):\n",
    "    tPrint(\"Processing OSMLR Level 2 roads\")\n",
    "    xx = pd.DataFrame(r.OSMLR2, columns=['OSMID','geometry','Highway','col1','col2','col3','col4','col5'])\n",
    "    xx = xx.loc[:,['OSMID','geometry','Highway']]\n",
    "    xx_geom = gpd.GeoDataFrame(xx, geometry='geometry', crs={'init':'epsg:4326'})\n",
    "    xx_geom.to_file(osmlr_lvl2_file)\n",
    "    \n",
    "if not os.path.exists(osmlr_lvl3_file):\n",
    "    tPrint(\"Processing OSMLR Level 3 roads\")    \n",
    "    xx = pd.DataFrame(r.OSMLR3, columns=['OSMID','geometry','Highway','col1','col2','col3','col4','col5'])\n",
    "    xx = xx.loc[:,['OSMID','geometry','Highway']]\n",
    "    xx_geom = gpd.GeoDataFrame(xx, geometry='geometry', crs={'init':'epsg:4326'})\n",
    "    xx_geom.to_file(osmlr_lvl3_file)\n",
    "    \n",
    "if not os.path.exists(osmlr_lvl4_file):\n",
    "    tPrint(\"Processing OSMLR Level 4 roads\")    \n",
    "    xx = pd.DataFrame(r.OSMLR4, columns=['OSMID','geometry','Highway','col1','col2','col3','col4','col5'])\n",
    "    xx = xx.loc[:,['OSMID','geometry','Highway']]\n",
    "    xx_geom = gpd.GeoDataFrame(xx, geometry='geometry', crs={'init':'epsg:4326'})\n",
    "    xx_geom.to_file(osmlr_lvl4_file)"
   ]
  },
  {
   "cell_type": "code",
   "execution_count": 18,
   "metadata": {},
   "outputs": [
    {
     "data": {
      "text/html": [
       "<div>\n",
       "<style scoped>\n",
       "    .dataframe tbody tr th:only-of-type {\n",
       "        vertical-align: middle;\n",
       "    }\n",
       "\n",
       "    .dataframe tbody tr th {\n",
       "        vertical-align: top;\n",
       "    }\n",
       "\n",
       "    .dataframe thead th {\n",
       "        text-align: right;\n",
       "    }\n",
       "</style>\n",
       "<table border=\"1\" class=\"dataframe\">\n",
       "  <thead>\n",
       "    <tr style=\"text-align: right;\">\n",
       "      <th></th>\n",
       "      <th>OSMID</th>\n",
       "      <th>geometry</th>\n",
       "      <th>Highway</th>\n",
       "    </tr>\n",
       "  </thead>\n",
       "  <tbody>\n",
       "    <tr>\n",
       "      <th>0</th>\n",
       "      <td>37</td>\n",
       "      <td>LINESTRING (-1.8267481 52.5557962, -1.8264562 ...</td>\n",
       "      <td>residential</td>\n",
       "    </tr>\n",
       "    <tr>\n",
       "      <th>1</th>\n",
       "      <td>41</td>\n",
       "      <td>LINESTRING (-1.8193067 52.5521929, -1.8186016 ...</td>\n",
       "      <td>residential</td>\n",
       "    </tr>\n",
       "    <tr>\n",
       "      <th>2</th>\n",
       "      <td>42</td>\n",
       "      <td>LINESTRING (-1.8249151 52.5550357, -1.8230855 ...</td>\n",
       "      <td>residential</td>\n",
       "    </tr>\n",
       "    <tr>\n",
       "      <th>3</th>\n",
       "      <td>45</td>\n",
       "      <td>LINESTRING (-1.8212114 52.5538901, -1.8205573 ...</td>\n",
       "      <td>residential</td>\n",
       "    </tr>\n",
       "    <tr>\n",
       "      <th>4</th>\n",
       "      <td>46</td>\n",
       "      <td>LINESTRING (-1.8200553 52.5530662, -1.8194499 ...</td>\n",
       "      <td>residential</td>\n",
       "    </tr>\n",
       "  </tbody>\n",
       "</table>\n",
       "</div>"
      ],
      "text/plain": [
       "   OSMID                                           geometry      Highway\n",
       "0     37  LINESTRING (-1.8267481 52.5557962, -1.8264562 ...  residential\n",
       "1     41  LINESTRING (-1.8193067 52.5521929, -1.8186016 ...  residential\n",
       "2     42  LINESTRING (-1.8249151 52.5550357, -1.8230855 ...  residential\n",
       "3     45  LINESTRING (-1.8212114 52.5538901, -1.8205573 ...  residential\n",
       "4     46  LINESTRING (-1.8200553 52.5530662, -1.8194499 ...  residential"
      ]
     },
     "execution_count": 18,
     "metadata": {},
     "output_type": "execute_result"
    }
   ],
   "source": [
    "xx.head()"
   ]
  },
  {
   "cell_type": "code",
   "execution_count": 23,
   "metadata": {},
   "outputs": [
    {
     "data": {
      "text/plain": [
       "True"
      ]
     },
     "execution_count": 23,
     "metadata": {},
     "output_type": "execute_result"
    }
   ],
   "source": [
    "xx.loc[xx['OSMID'] == 120752380]['geometry'].iloc[0]"
   ]
  },
  {
   "cell_type": "code",
   "execution_count": null,
   "metadata": {},
   "outputs": [],
   "source": []
  }
 ],
 "metadata": {
  "kernelspec": {
   "display_name": "Python (geog)",
   "language": "python",
   "name": "geog"
  },
  "language_info": {
   "codemirror_mode": {
    "name": "ipython",
    "version": 3
   },
   "file_extension": ".py",
   "mimetype": "text/x-python",
   "name": "python",
   "nbconvert_exporter": "python",
   "pygments_lexer": "ipython3",
   "version": "3.7.1"
  }
 },
 "nbformat": 4,
 "nbformat_minor": 2
}
