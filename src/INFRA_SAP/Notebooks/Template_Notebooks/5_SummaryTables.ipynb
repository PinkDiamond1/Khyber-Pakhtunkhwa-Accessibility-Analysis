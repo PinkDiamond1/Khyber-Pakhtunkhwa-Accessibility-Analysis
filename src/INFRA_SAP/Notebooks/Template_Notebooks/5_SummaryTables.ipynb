{
 "cells": [
  {
   "cell_type": "markdown",
   "metadata": {},
   "source": [
    "## Country-level INFRA-SAP"
   ]
  },
  {
   "cell_type": "markdown",
   "metadata": {},
   "source": [
    "Create summary statistics at admin-2 and country-level"
   ]
  },
  {
   "cell_type": "code",
   "execution_count": 1,
   "metadata": {},
   "outputs": [],
   "source": [
    "import os, sys, time, importlib\n",
    "\n",
    "import geopandas as gpd\n",
    "import pandas as pd\n",
    "import networkx as nx\n",
    "sys.path.append('/home/wb514197/Repos/GOSTnets')\n",
    "\n",
    "import GOSTnets as gn\n",
    "import rasterio as rio\n",
    "from osgeo import gdal\n",
    "import GOSTnets.calculate_od_raw as calcOD\n",
    "import numpy as np\n",
    "\n",
    "%load_ext autoreload\n",
    "%autoreload 2\n",
    "\n",
    "sys.path.append('/home/wb514197/Repos/INFRA_SAP')\n",
    "from infrasap import aggregator\n",
    "from shapely.wkt import loads\n",
    "import infrasap.rai_calculator as rai\n",
    "from utm_zone import epsg as epsg_get\n",
    "import json"
   ]
  },
  {
   "cell_type": "code",
   "execution_count": 2,
   "metadata": {},
   "outputs": [],
   "source": [
    "country = 'mauritania'\n",
    "iso3 = 'MRT'"
   ]
  },
  {
   "cell_type": "markdown",
   "metadata": {},
   "source": [
    "### Load data"
   ]
  },
  {
   "cell_type": "code",
   "execution_count": 3,
   "metadata": {},
   "outputs": [],
   "source": [
    "# base_in = \"/home/public/Data/PROJECTS/INFRA_SAP\"\n",
    "base_in = \"/home/wb514197/data/INFRA_SAP\"\n",
    "in_folder = os.path.join(base_in, iso3)\n",
    "\n",
    "# define data paths\n",
    "focal_admin2 = os.path.join(in_folder, \"admin.shp\")\n",
    "focal_osm = os.path.join(in_folder, f\"{country}-latest.osm.pbf\")\n",
    "pop_name = \"WP_2020_1km\"\n",
    "wp_1km = os.path.join(in_folder, f\"{pop_name}.tif\")\n",
    "urban_extents = os.path.join(in_folder, \"urban_extents.shp\")\n",
    "airports = os.path.join(in_folder, \"airports.shp\")\n",
    "ports = os.path.join(in_folder, \"ports.shp\")\n",
    "borders = os.path.join(in_folder, \"borders.shp\")\n",
    "\n",
    "# base_out = \"/home/wb514197/data/INFRA_SAP\" # GOT permission denied using public \n",
    "# out_folder = os.path.join(base_out, iso3)\n",
    "out_folder = os.path.join(in_folder, \"output\")\n",
    "\n",
    "if not os.path.exists(out_folder):\n",
    "    os.makedirs(out_folder)"
   ]
  },
  {
   "cell_type": "code",
   "execution_count": 4,
   "metadata": {},
   "outputs": [],
   "source": [
    "bounds = gpd.read_file(focal_admin2)\n",
    "bounds_json = json.loads(bounds.to_json())\n",
    "epsg = epsg_get(bounds_json)"
   ]
  },
  {
   "cell_type": "code",
   "execution_count": 5,
   "metadata": {},
   "outputs": [
    {
     "data": {
      "text/plain": [
       "'/home/wb514197/data/INFRA_SAP/MRT/output'"
      ]
     },
     "execution_count": 5,
     "metadata": {},
     "output_type": "execute_result"
    }
   ],
   "source": [
    "out_folder"
   ]
  },
  {
   "cell_type": "code",
   "execution_count": 6,
   "metadata": {},
   "outputs": [],
   "source": [
    "tables_path = os.path.join(out_folder, 'tables')\n",
    "if not os.path.exists(tables_path):\n",
    "    os.mkdir(tables_path)"
   ]
  },
  {
   "cell_type": "code",
   "execution_count": 7,
   "metadata": {},
   "outputs": [],
   "source": [
    "target = gpd.read_file(focal_admin2)"
   ]
  },
  {
   "cell_type": "markdown",
   "metadata": {},
   "source": [
    "### 1. RAI"
   ]
  },
  {
   "cell_type": "code",
   "execution_count": 8,
   "metadata": {},
   "outputs": [
    {
     "name": "stderr",
     "output_type": "stream",
     "text": [
      "/home/wb514197/.conda/envs/geo/lib/python3.7/site-packages/pyproj/crs/crs.py:53: FutureWarning: '+init=<authority>:<code>' syntax is deprecated. '<authority>:<code>' is the preferred initialization method. When making the change, be mindful of axis order changes: https://pyproj4.github.io/pyproj/stable/gotchas.html#axis-order-changes-in-proj-6\n",
      "  return _prepare_from_string(\" \".join(pjargs))\n",
      "/home/wb514197/.conda/envs/geo/lib/python3.7/site-packages/pyproj/crs/crs.py:53: FutureWarning: '+init=<authority>:<code>' syntax is deprecated. '<authority>:<code>' is the preferred initialization method. When making the change, be mindful of axis order changes: https://pyproj4.github.io/pyproj/stable/gotchas.html#axis-order-changes-in-proj-6\n",
      "  return _prepare_from_string(\" \".join(pjargs))\n"
     ]
    },
    {
     "name": "stdout",
     "output_type": "stream",
     "text": [
      "CPU times: user 4min 29s, sys: 2.77 s, total: 4min 32s\n",
      "Wall time: 4min 31s\n"
     ]
    }
   ],
   "source": [
    "%%time\n",
    "rai_roadnetwork = rai.extract_rai_network(focal_osm, epsg=epsg)"
   ]
  },
  {
   "cell_type": "code",
   "execution_count": 9,
   "metadata": {},
   "outputs": [],
   "source": [
    "rai_roadnetwork = rai_roadnetwork.to_crs('EPSG:4326')"
   ]
  },
  {
   "cell_type": "code",
   "execution_count": 10,
   "metadata": {
    "scrolled": true
   },
   "outputs": [
    {
     "name": "stdout",
     "output_type": "stream",
     "text": [
      "CPU times: user 1min 58s, sys: 486 ms, total: 1min 59s\n",
      "Wall time: 1min 59s\n"
     ]
    }
   ],
   "source": [
    "%%time\n",
    "rai = rai.calculate_rai(target, \"OBJECTID\", rio.open(wp_1km), rai_roadnetwork, tables_path)"
   ]
  },
  {
   "cell_type": "code",
   "execution_count": 12,
   "metadata": {},
   "outputs": [
    {
     "data": {
      "text/html": [
       "<div>\n",
       "<style scoped>\n",
       "    .dataframe tbody tr th:only-of-type {\n",
       "        vertical-align: middle;\n",
       "    }\n",
       "\n",
       "    .dataframe tbody tr th {\n",
       "        vertical-align: top;\n",
       "    }\n",
       "\n",
       "    .dataframe thead th {\n",
       "        text-align: right;\n",
       "    }\n",
       "</style>\n",
       "<table border=\"1\" class=\"dataframe\">\n",
       "  <thead>\n",
       "    <tr style=\"text-align: right;\">\n",
       "      <th></th>\n",
       "      <th>RAI_POP_1</th>\n",
       "      <th>ID</th>\n",
       "      <th>RAI_POP_2</th>\n",
       "      <th>RAI_POP_3</th>\n",
       "      <th>RAI_POP_4</th>\n",
       "      <th>POP</th>\n",
       "    </tr>\n",
       "  </thead>\n",
       "  <tbody>\n",
       "    <tr>\n",
       "      <th>0</th>\n",
       "      <td>27.885479</td>\n",
       "      <td>22900</td>\n",
       "      <td>1222.407349</td>\n",
       "      <td>4488.111816</td>\n",
       "      <td>5173.705566</td>\n",
       "      <td>10304.847656</td>\n",
       "    </tr>\n",
       "    <tr>\n",
       "      <th>1</th>\n",
       "      <td>24220.990234</td>\n",
       "      <td>22901</td>\n",
       "      <td>26490.560547</td>\n",
       "      <td>31181.384766</td>\n",
       "      <td>33628.621094</td>\n",
       "      <td>39414.550781</td>\n",
       "    </tr>\n",
       "    <tr>\n",
       "      <th>2</th>\n",
       "      <td>-1.000000</td>\n",
       "      <td>22902</td>\n",
       "      <td>0.224405</td>\n",
       "      <td>60.111805</td>\n",
       "      <td>60.316807</td>\n",
       "      <td>2157.651611</td>\n",
       "    </tr>\n",
       "    <tr>\n",
       "      <th>3</th>\n",
       "      <td>-1.000000</td>\n",
       "      <td>22903</td>\n",
       "      <td>2082.561279</td>\n",
       "      <td>4156.754395</td>\n",
       "      <td>4423.415527</td>\n",
       "      <td>8795.634766</td>\n",
       "    </tr>\n",
       "    <tr>\n",
       "      <th>4</th>\n",
       "      <td>901.139893</td>\n",
       "      <td>22904</td>\n",
       "      <td>7711.625000</td>\n",
       "      <td>8038.547363</td>\n",
       "      <td>8038.547363</td>\n",
       "      <td>93808.578125</td>\n",
       "    </tr>\n",
       "  </tbody>\n",
       "</table>\n",
       "</div>"
      ],
      "text/plain": [
       "      RAI_POP_1     ID     RAI_POP_2     RAI_POP_3     RAI_POP_4           POP\n",
       "0     27.885479  22900   1222.407349   4488.111816   5173.705566  10304.847656\n",
       "1  24220.990234  22901  26490.560547  31181.384766  33628.621094  39414.550781\n",
       "2     -1.000000  22902      0.224405     60.111805     60.316807   2157.651611\n",
       "3     -1.000000  22903   2082.561279   4156.754395   4423.415527   8795.634766\n",
       "4    901.139893  22904   7711.625000   8038.547363   8038.547363  93808.578125"
      ]
     },
     "execution_count": 12,
     "metadata": {},
     "output_type": "execute_result"
    }
   ],
   "source": [
    "rai.head()"
   ]
  },
  {
   "cell_type": "code",
   "execution_count": 13,
   "metadata": {},
   "outputs": [],
   "source": [
    "# rai = pd.read_csv(os.path.join(tables_path, \"RAI_population.csv\"), index_col=0)"
   ]
  },
  {
   "cell_type": "code",
   "execution_count": 14,
   "metadata": {},
   "outputs": [],
   "source": [
    "rai.loc[rai.RAI_POP_1<0, \"RAI_POP_1\"] = 0\n",
    "rai.loc[rai.RAI_POP_2<0, \"RAI_POP_2\"] = 0\n",
    "rai.loc[rai.RAI_POP_3<0, \"RAI_POP_3\"] = 0\n",
    "rai.loc[rai.RAI_POP_4<0, \"RAI_POP_4\"] = 0"
   ]
  },
  {
   "cell_type": "code",
   "execution_count": 15,
   "metadata": {},
   "outputs": [],
   "source": [
    "rai['RAI_Percent_1'] = rai.RAI_POP_1/rai.POP\n",
    "rai['RAI_Percent_2'] = rai.RAI_POP_2/rai.POP\n",
    "rai['RAI_Percent_3'] = rai.RAI_POP_3/rai.POP\n",
    "rai['RAI_Percent_4'] = rai.RAI_POP_4/rai.POP"
   ]
  },
  {
   "cell_type": "code",
   "execution_count": 16,
   "metadata": {},
   "outputs": [],
   "source": [
    "rai.rename(columns={'ID':'OBJECTID'}, inplace=True)\n",
    "rai = rai[['OBJECTID','POP','RAI_POP_1', 'RAI_POP_2', 'RAI_POP_3', 'RAI_POP_4',\n",
    "           'RAI_Percent_1', 'RAI_Percent_2', 'RAI_Percent_3', 'RAI_Percent_4']]"
   ]
  },
  {
   "cell_type": "code",
   "execution_count": 17,
   "metadata": {},
   "outputs": [],
   "source": [
    "rai = target.merge(rai, on=\"OBJECTID\")\n",
    "# rai = target.join(rai)"
   ]
  },
  {
   "cell_type": "code",
   "execution_count": 18,
   "metadata": {},
   "outputs": [],
   "source": [
    "rai.drop(['geometry','Shape_Leng','Shape_Area'], axis=1, inplace=True)"
   ]
  },
  {
   "cell_type": "code",
   "execution_count": 19,
   "metadata": {},
   "outputs": [],
   "source": [
    "rai.to_excel(os.path.join(tables_path, \"1Rural Access to Roads.xlsx\"), index=False)"
   ]
  },
  {
   "cell_type": "markdown",
   "metadata": {},
   "source": [
    "### 2. Reload OD Matrix"
   ]
  },
  {
   "cell_type": "code",
   "execution_count": 22,
   "metadata": {},
   "outputs": [
    {
     "name": "stderr",
     "output_type": "stream",
     "text": [
      "/home/wb514197/.conda/envs/geo/lib/python3.7/site-packages/numpy/lib/arraysetops.py:580: FutureWarning: elementwise comparison failed; returning scalar instead, but in the future will perform elementwise comparison\n",
      "  mask |= (ar1 == a)\n"
     ]
    }
   ],
   "source": [
    "OD = pd.read_csv(os.path.join(out_folder, 'OD_03_04.csv'), header=[0,1], index_col=0)"
   ]
  },
  {
   "cell_type": "code",
   "execution_count": 23,
   "metadata": {},
   "outputs": [],
   "source": [
    "OD['city'] = OD['city'].apply(lambda x: (x/3600))\n",
    "OD['port'] = OD['port'].apply(lambda x: (x/3600))\n",
    "OD['border'] = OD['border'].apply(lambda x: (x/3600))\n",
    "OD['airport'] = OD['airport'].apply(lambda x: (x/3600))"
   ]
  },
  {
   "cell_type": "markdown",
   "metadata": {},
   "source": [
    "### 3. District-level summaries"
   ]
  },
  {
   "cell_type": "markdown",
   "metadata": {},
   "source": [
    "**Percentage of rural population with access to a main city (>50k inhabitants) in XX hours**"
   ]
  },
  {
   "cell_type": "code",
   "execution_count": 24,
   "metadata": {},
   "outputs": [],
   "source": [
    "dest_type='city'\n",
    "rural=True\n",
    "thresholds=[0,0.5,1,1.5,2,3,4,5,6,7,10,1000] # hours\n",
    "rural_access = aggregator.calculate_access_percentages(OD, target, 'city', True, urban_extents, thresholds=thresholds)"
   ]
  },
  {
   "cell_type": "code",
   "execution_count": 25,
   "metadata": {},
   "outputs": [],
   "source": [
    "rural_access.rename(columns = {\n",
    "    '(10.0, 1000.0]':'> 10.0',\n",
    "    '(10.0, 1000.0] pop':'> 10.0 pop'\n",
    "}, inplace=True)\n",
    "rural_access.drop(columns=['geometry','Shape_Leng','Shape_Area'], inplace=True)"
   ]
  },
  {
   "cell_type": "code",
   "execution_count": 26,
   "metadata": {},
   "outputs": [],
   "source": [
    "rural_access.to_excel(os.path.join(tables_path, \"2Rural Access to Cities.xlsx\"), index=False)"
   ]
  },
  {
   "cell_type": "markdown",
   "metadata": {},
   "source": [
    "**Travel time to closest city**"
   ]
  },
  {
   "cell_type": "code",
   "execution_count": 27,
   "metadata": {},
   "outputs": [],
   "source": [
    "city_tt = aggregator.calculate_access_percentages(OD, target, 'city', thresholds=thresholds)\n",
    "city_tt.rename(columns = {\n",
    "    '(10.0, 1000.0]':'> 10.0',\n",
    "    '(10.0, 1000.0] pop':'> 10.0 pop'\n",
    "}, inplace=True)\n",
    "city_tt.drop(columns=['geometry','Shape_Leng','Shape_Area'], inplace=True)\n",
    "city_tt.to_excel(os.path.join(tables_path, \"3Travel Time to Nearest City.xlsx\"), index=False)"
   ]
  },
  {
   "cell_type": "markdown",
   "metadata": {},
   "source": [
    "**Travel time to capital**"
   ]
  },
  {
   "cell_type": "code",
   "execution_count": 28,
   "metadata": {},
   "outputs": [],
   "source": [
    "dest_all = pd.read_csv(os.path.join(out_folder, 'destination_all.csv'), index_col=0)\n",
    "cap_idx = dest_all.sort_values('Pop', ascending=False).iloc[[0]].index[0]"
   ]
  },
  {
   "cell_type": "code",
   "execution_count": 29,
   "metadata": {},
   "outputs": [],
   "source": [
    "capital_tt = aggregator.calculate_access_percentages(OD, target, 'city', thresholds=thresholds, capital=str(cap_idx))\n",
    "capital_tt.rename(columns = {\n",
    "    '(10.0, 1000.0]':'> 10.0',\n",
    "    '(10.0, 1000.0] pop':'> 10.0 pop'\n",
    "}, inplace=True)\n",
    "capital_tt.drop(columns=['geometry','Shape_Leng','Shape_Area'], inplace=True)\n",
    "capital_tt.to_excel(os.path.join(tables_path, \"4Travel Time to Capital.xlsx\"), index=False)"
   ]
  },
  {
   "cell_type": "markdown",
   "metadata": {},
   "source": [
    "**Time to drive to the closest land border point**"
   ]
  },
  {
   "cell_type": "code",
   "execution_count": 30,
   "metadata": {},
   "outputs": [],
   "source": [
    "border_tt = aggregator.calculate_access_percentages(OD, target, 'border', thresholds=thresholds)\n",
    "border_tt.rename(columns = {\n",
    "    '(10.0, 1000.0]':'> 10.0',\n",
    "    '(10.0, 1000.0] pop':'> 10.0 pop'\n",
    "}, inplace=True)\n",
    "border_tt.drop(columns=['geometry','Shape_Leng','Shape_Area'], inplace=True)\n",
    "border_tt.to_excel(os.path.join(tables_path, \"6Travel Time to Nearest Border.xlsx\"), index=False)"
   ]
  },
  {
   "cell_type": "markdown",
   "metadata": {},
   "source": [
    "**Time to drive to the closest airport**"
   ]
  },
  {
   "cell_type": "code",
   "execution_count": 31,
   "metadata": {},
   "outputs": [],
   "source": [
    "airport_tt = aggregator.calculate_access_percentages(OD, target, 'airport', thresholds=thresholds)\n",
    "airport_tt.rename(columns = {\n",
    "    '(10.0, 1000.0]':'> 10.0',\n",
    "    '(10.0, 1000.0] pop':'> 10.0 pop'\n",
    "}, inplace=True)\n",
    "airport_tt.drop(columns=['geometry','Shape_Leng','Shape_Area'], inplace=True)\n",
    "airport_tt.to_excel(os.path.join(tables_path, \"5Travel Time to Nearest Airport.xlsx\"), index=False)"
   ]
  },
  {
   "cell_type": "markdown",
   "metadata": {},
   "source": [
    "**Time to drive to the closest port**"
   ]
  },
  {
   "cell_type": "code",
   "execution_count": 32,
   "metadata": {},
   "outputs": [],
   "source": [
    "port_tt = aggregator.calculate_access_percentages(OD, target, 'port', thresholds=thresholds)\n",
    "port_tt.rename(columns = {\n",
    "    '(10.0, 1000.0]':'> 10.0',\n",
    "    '(10.0, 1000.0] pop':'> 10.0 pop'\n",
    "}, inplace=True)\n",
    "port_tt.drop(columns=['geometry','Shape_Leng','Shape_Area'], inplace=True)\n",
    "port_tt.to_excel(os.path.join(tables_path, \"7Travel Time to Nearest Port.xlsx\"), index=False)"
   ]
  },
  {
   "cell_type": "markdown",
   "metadata": {},
   "source": [
    "#### Aggregate to the country-level"
   ]
  },
  {
   "cell_type": "code",
   "execution_count": 33,
   "metadata": {},
   "outputs": [],
   "source": [
    "country_level = aggregator.agregate_to_country(rural_access, \"Rural pop. with access to a main city\")\n",
    "country_level = aggregator.agregate_to_country(city_tt, \"Travel time to closest city\", country_level)\n",
    "country_level = aggregator.agregate_to_country(capital_tt, \"Travel time to capital\", country_level)\n",
    "country_level = aggregator.agregate_to_country(border_tt, \"Travel time to closest border\", country_level)\n",
    "country_level = aggregator.agregate_to_country(airport_tt, \"Travel time to closest airport\", country_level)\n",
    "country_level = aggregator.agregate_to_country(port_tt, \"Travel time to closest port\", country_level)"
   ]
  },
  {
   "cell_type": "code",
   "execution_count": 34,
   "metadata": {},
   "outputs": [
    {
     "data": {
      "text/html": [
       "<div>\n",
       "<style scoped>\n",
       "    .dataframe tbody tr th:only-of-type {\n",
       "        vertical-align: middle;\n",
       "    }\n",
       "\n",
       "    .dataframe tbody tr th {\n",
       "        vertical-align: top;\n",
       "    }\n",
       "\n",
       "    .dataframe thead th {\n",
       "        text-align: right;\n",
       "    }\n",
       "</style>\n",
       "<table border=\"1\" class=\"dataframe\">\n",
       "  <thead>\n",
       "    <tr style=\"text-align: right;\">\n",
       "      <th></th>\n",
       "      <th>(0.0, 0.5] pop</th>\n",
       "      <th>(0.5, 1.0] pop</th>\n",
       "      <th>(1.0, 1.5] pop</th>\n",
       "      <th>(1.5, 2.0] pop</th>\n",
       "      <th>(2.0, 3.0] pop</th>\n",
       "      <th>(3.0, 4.0] pop</th>\n",
       "      <th>(4.0, 5.0] pop</th>\n",
       "      <th>(5.0, 6.0] pop</th>\n",
       "      <th>(6.0, 7.0] pop</th>\n",
       "      <th>(7.0, 10.0] pop</th>\n",
       "      <th>&gt; 10.0 pop</th>\n",
       "    </tr>\n",
       "  </thead>\n",
       "  <tbody>\n",
       "    <tr>\n",
       "      <th>Rural pop. with access to a main city</th>\n",
       "      <td>0.008260</td>\n",
       "      <td>0.002393</td>\n",
       "      <td>0.000993</td>\n",
       "      <td>0.000659</td>\n",
       "      <td>0.004425</td>\n",
       "      <td>0.012436</td>\n",
       "      <td>0.015904</td>\n",
       "      <td>0.027013</td>\n",
       "      <td>0.037339</td>\n",
       "      <td>0.084529</td>\n",
       "      <td>0.806050</td>\n",
       "    </tr>\n",
       "    <tr>\n",
       "      <th>Travel time to closest city</th>\n",
       "      <td>0.338438</td>\n",
       "      <td>0.001467</td>\n",
       "      <td>0.000608</td>\n",
       "      <td>0.000404</td>\n",
       "      <td>0.002711</td>\n",
       "      <td>0.007619</td>\n",
       "      <td>0.009745</td>\n",
       "      <td>0.019024</td>\n",
       "      <td>0.026365</td>\n",
       "      <td>0.053229</td>\n",
       "      <td>0.540390</td>\n",
       "    </tr>\n",
       "    <tr>\n",
       "      <th>Travel time to capital</th>\n",
       "      <td>0.300808</td>\n",
       "      <td>0.001323</td>\n",
       "      <td>0.000427</td>\n",
       "      <td>0.000359</td>\n",
       "      <td>0.002670</td>\n",
       "      <td>0.007596</td>\n",
       "      <td>0.009678</td>\n",
       "      <td>0.018971</td>\n",
       "      <td>0.026185</td>\n",
       "      <td>0.053328</td>\n",
       "      <td>0.578654</td>\n",
       "    </tr>\n",
       "    <tr>\n",
       "      <th>Travel time to closest border</th>\n",
       "      <td>0.009967</td>\n",
       "      <td>0.004206</td>\n",
       "      <td>0.003634</td>\n",
       "      <td>0.004138</td>\n",
       "      <td>0.006985</td>\n",
       "      <td>0.010286</td>\n",
       "      <td>0.035063</td>\n",
       "      <td>0.295098</td>\n",
       "      <td>0.020523</td>\n",
       "      <td>0.061829</td>\n",
       "      <td>0.548271</td>\n",
       "    </tr>\n",
       "    <tr>\n",
       "      <th>Travel time to closest airport</th>\n",
       "      <td>0.345228</td>\n",
       "      <td>0.002627</td>\n",
       "      <td>0.001037</td>\n",
       "      <td>0.000906</td>\n",
       "      <td>0.003804</td>\n",
       "      <td>0.008412</td>\n",
       "      <td>0.012969</td>\n",
       "      <td>0.020006</td>\n",
       "      <td>0.024086</td>\n",
       "      <td>0.065455</td>\n",
       "      <td>0.515470</td>\n",
       "    </tr>\n",
       "    <tr>\n",
       "      <th>Travel time to closest port</th>\n",
       "      <td>0.338004</td>\n",
       "      <td>0.001935</td>\n",
       "      <td>0.000568</td>\n",
       "      <td>0.000388</td>\n",
       "      <td>0.002452</td>\n",
       "      <td>0.007374</td>\n",
       "      <td>0.009590</td>\n",
       "      <td>0.019064</td>\n",
       "      <td>0.025739</td>\n",
       "      <td>0.053680</td>\n",
       "      <td>0.541206</td>\n",
       "    </tr>\n",
       "  </tbody>\n",
       "</table>\n",
       "</div>"
      ],
      "text/plain": [
       "                                       (0.0, 0.5] pop  (0.5, 1.0] pop  \\\n",
       "Rural pop. with access to a main city        0.008260        0.002393   \n",
       "Travel time to closest city                  0.338438        0.001467   \n",
       "Travel time to capital                       0.300808        0.001323   \n",
       "Travel time to closest border                0.009967        0.004206   \n",
       "Travel time to closest airport               0.345228        0.002627   \n",
       "Travel time to closest port                  0.338004        0.001935   \n",
       "\n",
       "                                       (1.0, 1.5] pop  (1.5, 2.0] pop  \\\n",
       "Rural pop. with access to a main city        0.000993        0.000659   \n",
       "Travel time to closest city                  0.000608        0.000404   \n",
       "Travel time to capital                       0.000427        0.000359   \n",
       "Travel time to closest border                0.003634        0.004138   \n",
       "Travel time to closest airport               0.001037        0.000906   \n",
       "Travel time to closest port                  0.000568        0.000388   \n",
       "\n",
       "                                       (2.0, 3.0] pop  (3.0, 4.0] pop  \\\n",
       "Rural pop. with access to a main city        0.004425        0.012436   \n",
       "Travel time to closest city                  0.002711        0.007619   \n",
       "Travel time to capital                       0.002670        0.007596   \n",
       "Travel time to closest border                0.006985        0.010286   \n",
       "Travel time to closest airport               0.003804        0.008412   \n",
       "Travel time to closest port                  0.002452        0.007374   \n",
       "\n",
       "                                       (4.0, 5.0] pop  (5.0, 6.0] pop  \\\n",
       "Rural pop. with access to a main city        0.015904        0.027013   \n",
       "Travel time to closest city                  0.009745        0.019024   \n",
       "Travel time to capital                       0.009678        0.018971   \n",
       "Travel time to closest border                0.035063        0.295098   \n",
       "Travel time to closest airport               0.012969        0.020006   \n",
       "Travel time to closest port                  0.009590        0.019064   \n",
       "\n",
       "                                       (6.0, 7.0] pop  (7.0, 10.0] pop  \\\n",
       "Rural pop. with access to a main city        0.037339         0.084529   \n",
       "Travel time to closest city                  0.026365         0.053229   \n",
       "Travel time to capital                       0.026185         0.053328   \n",
       "Travel time to closest border                0.020523         0.061829   \n",
       "Travel time to closest airport               0.024086         0.065455   \n",
       "Travel time to closest port                  0.025739         0.053680   \n",
       "\n",
       "                                       > 10.0 pop  \n",
       "Rural pop. with access to a main city    0.806050  \n",
       "Travel time to closest city              0.540390  \n",
       "Travel time to capital                   0.578654  \n",
       "Travel time to closest border            0.548271  \n",
       "Travel time to closest airport           0.515470  \n",
       "Travel time to closest port              0.541206  "
      ]
     },
     "execution_count": 34,
     "metadata": {},
     "output_type": "execute_result"
    }
   ],
   "source": [
    "country_level"
   ]
  },
  {
   "cell_type": "markdown",
   "metadata": {},
   "source": [
    "#### Pop-weighted average country-level"
   ]
  },
  {
   "cell_type": "code",
   "execution_count": 35,
   "metadata": {},
   "outputs": [],
   "source": [
    "raster_path = wp_1km"
   ]
  },
  {
   "cell_type": "code",
   "execution_count": 36,
   "metadata": {},
   "outputs": [
    {
     "data": {
      "text/plain": [
       "'/home/wb514197/data/INFRA_SAP/MRT/WP_2020_1km.tif'"
      ]
     },
     "execution_count": 36,
     "metadata": {},
     "output_type": "execute_result"
    }
   ],
   "source": [
    "raster_path"
   ]
  },
  {
   "cell_type": "code",
   "execution_count": 37,
   "metadata": {},
   "outputs": [
    {
     "data": {
      "text/plain": [
       "'/home/wb514197/data/INFRA_SAP/MRT/output'"
      ]
     },
     "execution_count": 37,
     "metadata": {},
     "output_type": "execute_result"
    }
   ],
   "source": [
    "out_folder"
   ]
  },
  {
   "cell_type": "code",
   "execution_count": 39,
   "metadata": {},
   "outputs": [],
   "source": [
    "national_average = aggregator.pop_weighted_average_national(os.path.join(out_folder,'travel_time','cities_min_tt.tif'), raster_path, 'Travel time to closest city')\n",
    "national_average = aggregator.pop_weighted_average_national(os.path.join(out_folder,'travel_time','capital_tt.tif'), raster_path, 'Travel time to capital', national_average)\n",
    "national_average = aggregator.pop_weighted_average_national(os.path.join(out_folder,'travel_time','borders_min_tt.tif'), raster_path, 'Travel time to closest border', national_average)\n",
    "national_average = aggregator.pop_weighted_average_national(os.path.join(out_folder,'travel_time','airport_min_tt.tif'), raster_path, 'Travel time to closest airport', national_average)\n",
    "national_average = aggregator.pop_weighted_average_national(os.path.join(out_folder,'travel_time','port_min_tt.tif'), raster_path, 'Travel time to closest port', national_average)"
   ]
  },
  {
   "cell_type": "code",
   "execution_count": 40,
   "metadata": {},
   "outputs": [],
   "source": [
    "country_level = country_level.join(national_average)"
   ]
  },
  {
   "cell_type": "code",
   "execution_count": 41,
   "metadata": {},
   "outputs": [],
   "source": [
    "country_level.rename(columns = {\n",
    "    '(0.0, 0.5] pop':'(0.0, 0.5]',\n",
    "    '(0.5, 1.0] pop':'(0.5, 1.0]',\n",
    "    '(1.0, 1.5] pop':'(1.0, 1.5]',\n",
    "    '(1.5, 2.0] pop':'(1.5, 2.0]',\n",
    "    '(2.0, 3.0] pop':'(2.0, 3.0]',\n",
    "    '(3.0, 4.0] pop':'(3.0, 4.0]',\n",
    "    '(4.0, 5.0] pop':'(4.0, 5.0]',\n",
    "    '(5.0, 6.0] pop':'(5.0, 6.0]',\n",
    "    '(6.0, 7.0] pop':'(6.0, 7.0]',\n",
    "    '(7.0, 10.0] pop':'(7.0, 10.0]',\n",
    "    '> 10.0 pop':'> 10.0'  \n",
    "}, inplace=True)\n",
    "country_level.to_excel(os.path.join(tables_path, \"9National Level Aggregates.xlsx\"), index=True)"
   ]
  },
  {
   "cell_type": "markdown",
   "metadata": {},
   "source": [
    "#### Pop-weighted average by district"
   ]
  },
  {
   "cell_type": "code",
   "execution_count": 42,
   "metadata": {},
   "outputs": [],
   "source": [
    "weighted_average = aggregator.pop_weighted_average(target, os.path.join(out_folder,'travel_time','cities_min_tt.tif'), raster_path, 'tt_min_city')\n",
    "weighted_average = aggregator.pop_weighted_average(target, os.path.join(out_folder,'travel_time','capital_tt.tif'), raster_path, 'tt_capital', table=weighted_average)\n",
    "weighted_average = aggregator.pop_weighted_average(target, os.path.join(out_folder,'travel_time','borders_min_tt.tif'), raster_path, 'tt_border', table=weighted_average)\n",
    "weighted_average = aggregator.pop_weighted_average(target, os.path.join(out_folder,'travel_time','airport_min_tt.tif'), raster_path, 'tt_airport', table=weighted_average)\n",
    "weighted_average = aggregator.pop_weighted_average(target, os.path.join(out_folder,'travel_time','port_min_tt.tif'), raster_path, 'tt_port', table=weighted_average)\n",
    "weighted_average = aggregator.pop_weighted_average(target, os.path.join(out_folder,'travel_distance','cities_min_dist.tif'), raster_path, 'dist_cities', weighted_average)\n",
    "weighted_average = aggregator.pop_weighted_average(target, os.path.join(out_folder,'travel_distance','airport_min_dist.tif'), raster_path, 'dist_airport', weighted_average)\n",
    "weighted_average = aggregator.pop_weighted_average(target, os.path.join(out_folder,'travel_distance','port_min_dist.tif'), raster_path, 'dist_ports', weighted_average)\n",
    "weighted_average = aggregator.pop_weighted_average(target, os.path.join(out_folder,'travel_distance','borders_min_dist.tif'), raster_path, 'dist_borders', weighted_average)\n",
    "weighted_average = aggregator.pop_weighted_average(target, os.path.join(out_folder,'travel_distance','capital_dist.tif'), raster_path, 'dist_capital',weighted_average)"
   ]
  },
  {
   "cell_type": "markdown",
   "metadata": {},
   "source": [
    "#### Market Access"
   ]
  },
  {
   "cell_type": "code",
   "execution_count": 43,
   "metadata": {},
   "outputs": [],
   "source": [
    "out_access = os.path.join(out_folder, 'access')"
   ]
  },
  {
   "cell_type": "code",
   "execution_count": 44,
   "metadata": {},
   "outputs": [],
   "source": [
    "ma5 = aggregator.pop_weighted_average(target, os.path.join(out_access,f\"access_cities_d5.tif\"), raster_path, 'ma_5')\n",
    "ma6 = aggregator.pop_weighted_average(target, os.path.join(out_access,f\"access_cities_d6.tif\"), raster_path, 'ma_6')\n",
    "ma7 = aggregator.pop_weighted_average(target, os.path.join(out_access,f\"access_cities_d7.tif\"), raster_path, 'ma_7')\n",
    "ma8 = aggregator.pop_weighted_average(target, os.path.join(out_access,f\"access_cities_d8.tif\"), raster_path, 'ma_8')\n",
    "ma9 = aggregator.pop_weighted_average(target, os.path.join(out_access,f\"access_cities_d9.tif\"), raster_path, 'ma_9')"
   ]
  },
  {
   "cell_type": "code",
   "execution_count": 45,
   "metadata": {},
   "outputs": [],
   "source": [
    "ma = pd.concat([ma5, ma6[['ma_6']], ma7[['ma_7']], ma8[['ma_8']], ma9[['ma_9']]], axis=1)"
   ]
  },
  {
   "cell_type": "markdown",
   "metadata": {},
   "source": [
    "#### Combine district-level data"
   ]
  },
  {
   "cell_type": "code",
   "execution_count": 46,
   "metadata": {},
   "outputs": [],
   "source": [
    "district_summary = weighted_average.merge(ma[['OBJECTID','ma_5','ma_6','ma_7','ma_8','ma_9']], on=\"OBJECTID\")"
   ]
  },
  {
   "cell_type": "code",
   "execution_count": 47,
   "metadata": {},
   "outputs": [
    {
     "data": {
      "text/plain": [
       "Index(['OBJECTID', 'ISO_A2', 'WB_ADM1_CO', 'WB_ADM0_CO', 'WB_ADM0_NA',\n",
       "       'WB_ADM1_NA', 'WB_ADM2_CO', 'WB_ADM2_NA', 'ISO3', 'POP', 'RAI_POP_1',\n",
       "       'RAI_POP_2', 'RAI_POP_3', 'RAI_POP_4', 'RAI_Percent_1', 'RAI_Percent_2',\n",
       "       'RAI_Percent_3', 'RAI_Percent_4'],\n",
       "      dtype='object')"
      ]
     },
     "execution_count": 47,
     "metadata": {},
     "output_type": "execute_result"
    }
   ],
   "source": [
    "rai.columns"
   ]
  },
  {
   "cell_type": "code",
   "execution_count": 48,
   "metadata": {},
   "outputs": [],
   "source": [
    "# rai = pd.read_excel(os.path.join(tables_path, '1Rural Access to Roads.xlsx'))\n",
    "rai = rai[['OBJECTID','RAI_Percent_1','RAI_Percent_2', 'RAI_Percent_3', 'RAI_Percent_4']]\n",
    "district_summary = district_summary.merge(rai, on='OBJECTID')"
   ]
  },
  {
   "cell_type": "code",
   "execution_count": 49,
   "metadata": {},
   "outputs": [],
   "source": [
    "hubs = pd.read_excel(os.path.join(tables_path, '8Travel Time to Regional Hub.xlsx'))\n",
    "hubs = hubs.rename(columns={'Time (hrs)':'tt_regional', 'Regional Hub Name':'hub_name'}) # Name1 'Regional Hub Name'\n",
    "hubs = hubs[['OBJECTID','tt_regional','hub_name']]\n",
    "district_summary = district_summary.merge(hubs, on='OBJECTID', how='left')"
   ]
  },
  {
   "cell_type": "code",
   "execution_count": 50,
   "metadata": {},
   "outputs": [],
   "source": [
    "district_summary.to_file(os.path.join(out_folder,'admin_join.shp'), driver='ESRI Shapefile')"
   ]
  },
  {
   "cell_type": "code",
   "execution_count": 51,
   "metadata": {},
   "outputs": [],
   "source": [
    "district_table = district_summary.copy()\n",
    "district_table.drop(columns=['geometry','Shape_Leng','Shape_Area'], inplace=True)\n",
    "district_table.to_excel(os.path.join(tables_path, \"10District Level Summary.xlsx\"), index=False)"
   ]
  }
 ],
 "metadata": {
  "kernelspec": {
   "display_name": "GEO",
   "language": "python",
   "name": "geo"
  },
  "language_info": {
   "codemirror_mode": {
    "name": "ipython",
    "version": 3
   },
   "file_extension": ".py",
   "mimetype": "text/x-python",
   "name": "python",
   "nbconvert_exporter": "python",
   "pygments_lexer": "ipython3",
   "version": "3.7.6"
  }
 },
 "nbformat": 4,
 "nbformat_minor": 2
}
