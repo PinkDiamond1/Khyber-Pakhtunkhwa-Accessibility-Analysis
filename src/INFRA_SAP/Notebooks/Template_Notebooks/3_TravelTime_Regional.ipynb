{
 "cells": [
  {
   "cell_type": "markdown",
   "metadata": {},
   "source": [
    "## Travel time to regional hubs\n",
    "Use Mapbox API to calcuate travel time to major neighboring cities (population greater than 1mil).  \n",
    "Use district centroids as origins"
   ]
  },
  {
   "cell_type": "code",
   "execution_count": 1,
   "metadata": {},
   "outputs": [],
   "source": [
    "import os, sys, time, importlib\n",
    "\n",
    "import geopandas as gpd\n",
    "import pandas as pd\n",
    "import networkx as nx\n",
    "sys.path.append('/home/wb514197/Repos/GOSTnets')\n",
    "\n",
    "import GOSTnets as gn\n",
    "import rasterio as rio\n",
    "from osgeo import gdal\n",
    "import GOSTnets.calculate_od_raw as calcOD\n",
    "import numpy as np\n",
    "\n",
    "sys.path.append('/home/wb514197/Repos/INFRA_SAP')\n",
    "from infrasap import aggregator\n",
    "from infrasap import mapbox_helper as mb\n",
    "from shapely.wkt import loads\n",
    "\n",
    "from dotenv import load_dotenv, find_dotenv\n",
    "from utm_zone import epsg as epsg_get\n",
    "import json\n",
    "\n",
    "%load_ext autoreload\n",
    "%autoreload 2"
   ]
  },
  {
   "cell_type": "code",
   "execution_count": 2,
   "metadata": {},
   "outputs": [],
   "source": [
    "country = 'mauritania'\n",
    "iso3 = 'MRT'"
   ]
  },
  {
   "cell_type": "code",
   "execution_count": 3,
   "metadata": {},
   "outputs": [],
   "source": [
    "dotenv_path = find_dotenv()\n",
    "load_dotenv(dotenv_path)\n",
    "mb_token = os.environ.get(\"MB_TOKEN\")"
   ]
  },
  {
   "cell_type": "markdown",
   "metadata": {},
   "source": [
    "### Load data"
   ]
  },
  {
   "cell_type": "code",
   "execution_count": 4,
   "metadata": {},
   "outputs": [],
   "source": [
    "# base_in = \"/home/public/Data/PROJECTS/INFRA_SAP\"\n",
    "base_in = \"/home/wb514197/data/INFRA_SAP\"\n",
    "in_folder = os.path.join(base_in, iso3)\n",
    "\n",
    "# define data paths\n",
    "focal_admin2 = os.path.join(in_folder, \"admin.shp\")\n",
    "focal_osm = os.path.join(in_folder, f\"{country}-latest.osm.pbf\")\n",
    "pop_name = \"WP_2020_1km\"\n",
    "wp_1km = os.path.join(in_folder, f\"{pop_name}.tif\")\n",
    "urban_extents = os.path.join(in_folder, \"urban_extents.shp\")\n",
    "airports = os.path.join(in_folder, \"airports.shp\")\n",
    "ports = os.path.join(in_folder, \"ports.shp\")\n",
    "borders = os.path.join(in_folder, \"borders.shp\")\n",
    "\n",
    "# base_out = \"/home/wb514197/data/INFRA_SAP\" # GOT permission denied using public \n",
    "# out_folder = os.path.join(base_out, iso3)\n",
    "# if not os.path.exists(out_folder):\n",
    "#     os.makedirs(out_folder)\n",
    "\n",
    "out_folder = os.path.join(in_folder, \"output\")\n",
    "\n",
    "# global_cities = '/home/public/Data/PROJECTS/LAC_GOSTNets/Destinations/Cities_centroids_FINAL_pop.shp'\n",
    "# global_cities = '/home/public/Data/GLOBAL/Population/Major_Cities.shp'\n",
    "global_cities = '/home/public/Data/GLOBAL/Population/global_settlement_points_v1_01_gt50000.shp'"
   ]
  },
  {
   "cell_type": "code",
   "execution_count": 5,
   "metadata": {},
   "outputs": [],
   "source": [
    "bounds = gpd.read_file(focal_admin2)\n",
    "bounds_json = json.loads(bounds.to_json())\n",
    "epsg = epsg_get(bounds_json)\n",
    "utm = f\"EPSG:{epsg}\""
   ]
  },
  {
   "cell_type": "code",
   "execution_count": 6,
   "metadata": {},
   "outputs": [
    {
     "name": "stderr",
     "output_type": "stream",
     "text": [
      "/home/wb514197/.conda/envs/geo/lib/python3.7/site-packages/ipykernel_launcher.py:2: UserWarning: Geometry is in a geographic CRS. Results from 'centroid' are likely incorrect. Use 'GeoSeries.to_crs()' to re-project geometries to a projected CRS before this operation.\n",
      "\n",
      "  \n"
     ]
    }
   ],
   "source": [
    "target = gpd.read_file(focal_admin2)\n",
    "target['centroid'] = target.centroid\n",
    "cities = gpd.read_file(global_cities)"
   ]
  },
  {
   "cell_type": "code",
   "execution_count": 7,
   "metadata": {},
   "outputs": [
    {
     "data": {
      "text/plain": [
       "Index(['OBJECTID', 'UNSD', 'Latlongid', 'Latitude', 'Longitude', 'Pop', 'Year',\n",
       "       'Urborrur', 'Schnm', 'Name1', 'Name2', 'Name3', 'Forgnnm', 'Schadmnm',\n",
       "       'Admnm1', 'Admnm2', 'Type', 'Srctyp', 'Coordsrce', 'Datsrc',\n",
       "       'Locndatsrc', 'Notes', 'Post_Hoc', 'Intentiona', 'ISO3', 'ES90POP',\n",
       "       'ES95POP', 'ES00POP', 'INSGRUSED', 'Continent', 'Country', 'geometry'],\n",
       "      dtype='object')"
      ]
     },
     "execution_count": 7,
     "metadata": {},
     "output_type": "execute_result"
    }
   ],
   "source": [
    "cities.columns"
   ]
  },
  {
   "cell_type": "code",
   "execution_count": 8,
   "metadata": {},
   "outputs": [],
   "source": [
    "cities_filter = cities.copy()\n",
    "cities_filter = cities_filter[cities_filter.Pop>500000].copy() # used to be 1 million, but that's not working for CR"
   ]
  },
  {
   "cell_type": "code",
   "execution_count": 9,
   "metadata": {},
   "outputs": [
    {
     "data": {
      "text/plain": [
       "<AxesSubplot:>"
      ]
     },
     "execution_count": 9,
     "metadata": {},
     "output_type": "execute_result"
    },
    {
     "data": {
      "image/png": "[encoded data removed]",
      "text/plain": [
       "<Figure size 720x720 with 1 Axes>"
      ]
     },
     "metadata": {
      "needs_background": "light"
     },
     "output_type": "display_data"
    }
   ],
   "source": [
    "cities_filter = cities_filter.to_crs('EPSG:3857')\n",
    "target = target.to_crs('EPSG:3857')\n",
    "\n",
    "ax = cities_filter.plot(figsize=(10, 10), color='red')\n",
    "target.plot(figsize=(7, 7), ax=ax)"
   ]
  },
  {
   "cell_type": "code",
   "execution_count": 10,
   "metadata": {},
   "outputs": [],
   "source": [
    "# remove cities that are in the country of interest\n",
    "adm0 = target.dissolve(by='WB_ADM0_CO')\n",
    "cities_filter = cities_filter.loc[~cities_filter.intersects(adm0.geometry.iloc[0])]\n",
    "\n",
    "# sort by distance to country\n",
    "cities_filter['dist_to_ADM0'] = cities_filter.distance(adm0.centroid.iloc[0])\n",
    "cities_filter = cities_filter.sort_values('dist_to_ADM0')"
   ]
  },
  {
   "cell_type": "code",
   "execution_count": 11,
   "metadata": {},
   "outputs": [
    {
     "data": {
      "text/plain": [
       "True"
      ]
     },
     "execution_count": 11,
     "metadata": {},
     "output_type": "execute_result"
    }
   ],
   "source": [
    "# choose destinations based on the nearest N cities. \n",
    "# N might change depending on the country, if the cities are too far apart use 5, otherwise the Mapbox requests will break\n",
    "# If there are many cities close by, use 10\n",
    "n_nearest = 10\n",
    "cities_filter = cities_filter.head(n_nearest).to_crs(cities.crs)\n",
    "target = target.to_crs(cities.crs)\n",
    "target.crs == cities_filter.crs"
   ]
  },
  {
   "cell_type": "code",
   "execution_count": 12,
   "metadata": {},
   "outputs": [
    {
     "data": {
      "text/plain": [
       "10"
      ]
     },
     "execution_count": 12,
     "metadata": {},
     "output_type": "execute_result"
    }
   ],
   "source": [
    "len(cities_filter)"
   ]
  },
  {
   "cell_type": "code",
   "execution_count": 13,
   "metadata": {
    "scrolled": true
   },
   "outputs": [
    {
     "data": {
      "text/plain": [
       "<AxesSubplot:>"
      ]
     },
     "execution_count": 13,
     "metadata": {},
     "output_type": "execute_result"
    },
    {
     "data": {
      "image/png": "[encoded data removed]",
      "text/plain": [
       "<Figure size 720x720 with 1 Axes>"
      ]
     },
     "metadata": {
      "needs_background": "light"
     },
     "output_type": "display_data"
    }
   ],
   "source": [
    "ax = cities_filter.plot(figsize=(10, 10), color='red')\n",
    "target.plot(figsize=(7, 7), ax=ax)"
   ]
  },
  {
   "cell_type": "code",
   "execution_count": 14,
   "metadata": {},
   "outputs": [
    {
     "data": {
      "text/plain": [
       "'/home/wb514197/data/INFRA_SAP/MRT/output'"
      ]
     },
     "execution_count": 14,
     "metadata": {},
     "output_type": "execute_result"
    }
   ],
   "source": [
    "out_folder"
   ]
  },
  {
   "cell_type": "code",
   "execution_count": 15,
   "metadata": {},
   "outputs": [
    {
     "data": {
      "text/plain": [
       "627         Bamako\n",
       "871          Dakar\n",
       "526        Conakry\n",
       "237    Ouagadougou\n",
       "885       Freetown\n",
       "596      Marrakech\n",
       "678         Niamey\n",
       "554       Monrovia\n",
       "580     Casablanca\n",
       "605          Rabat\n",
       "Name: Name1, dtype: object"
      ]
     },
     "execution_count": 15,
     "metadata": {},
     "output_type": "execute_result"
    }
   ],
   "source": [
    "cities_filter.Name1"
   ]
  },
  {
   "cell_type": "code",
   "execution_count": 16,
   "metadata": {
    "scrolled": true
   },
   "outputs": [],
   "source": [
    "# cities_filter.to_file(os.path.join('/home/wb514197/data/INFRA_SAP/IRQ', \"regional_hubs.shp\"), driver=\"ESRI Shapefile\")\n",
    "cities_filter.to_file(os.path.join(out_folder, \"regional_hubs.shp\"), driver=\"ESRI Shapefile\")"
   ]
  },
  {
   "cell_type": "code",
   "execution_count": 17,
   "metadata": {},
   "outputs": [],
   "source": [
    "origins = target.copy()\n",
    "dests = cities_filter.copy().reset_index(drop=True)"
   ]
  },
  {
   "cell_type": "code",
   "execution_count": 18,
   "metadata": {},
   "outputs": [
    {
     "name": "stderr",
     "output_type": "stream",
     "text": [
      "/home/wb514197/.conda/envs/geo/lib/python3.7/site-packages/ipykernel_launcher.py:1: UserWarning: Geometry is in a geographic CRS. Results from 'centroid' are likely incorrect. Use 'GeoSeries.to_crs()' to re-project geometries to a projected CRS before this operation.\n",
      "\n",
      "  \"\"\"Entry point for launching an IPython kernel.\n",
      "/home/wb514197/.conda/envs/geo/lib/python3.7/site-packages/ipykernel_launcher.py:2: UserWarning: Geometry is in a geographic CRS. Results from 'centroid' are likely incorrect. Use 'GeoSeries.to_crs()' to re-project geometries to a projected CRS before this operation.\n",
      "\n",
      "  \n"
     ]
    }
   ],
   "source": [
    "origins['x'] = origins.centroid.x\n",
    "origins['y'] = origins.centroid.y\n",
    "\n",
    "dests['x'] = dests.geometry.x\n",
    "dests['y'] = dests.geometry.y\n",
    "\n",
    "origins['ID'] = origins.OBJECTID\n",
    "dests['ID'] = dests.index\n",
    "\n",
    "origins['Pop'] = 1\n",
    "dests['Pop'] = 1"
   ]
  },
  {
   "cell_type": "code",
   "execution_count": 19,
   "metadata": {},
   "outputs": [
    {
     "name": "stdout",
     "output_type": "stream",
     "text": [
      "\n",
      "Chosen server: MB\n",
      "\n",
      "Start time: Fri Mar  5 16:00:15 2021\n",
      "source list: 45\n",
      "sources list: 4\n",
      "dest list: 10\n",
      "dests list: 1\n",
      "\n",
      "Estimated remaining calls to chosen server: 4\n",
      "\n",
      "save points will occur every 1 calls\n",
      "\n",
      "Call to OSRM server number: 1 of 4\n",
      "Call to OSRM server number: 2 of 4\n",
      "Call to OSRM server number: 3 of 4\n",
      "Call to OSRM server number: 4 of 4\n"
     ]
    }
   ],
   "source": [
    "odRes = mb.CreateODMatrix(origins, dests, lat_name = 'y', lon_name = 'x', UID = 'ID',\n",
    "                    Pop = 'Pop', call_type = 'MB', rescue = 0, rescue_num = 0, MB_Toke = mb_token,\n",
    "                    sleepTime = 5, osrmHeader = '')"
   ]
  },
  {
   "cell_type": "code",
   "execution_count": 20,
   "metadata": {},
   "outputs": [
    {
     "data": {
      "text/html": [
       "<div>\n",
       "<style scoped>\n",
       "    .dataframe tbody tr th:only-of-type {\n",
       "        vertical-align: middle;\n",
       "    }\n",
       "\n",
       "    .dataframe tbody tr th {\n",
       "        vertical-align: top;\n",
       "    }\n",
       "\n",
       "    .dataframe thead th {\n",
       "        text-align: right;\n",
       "    }\n",
       "</style>\n",
       "<table border=\"1\" class=\"dataframe\">\n",
       "  <thead>\n",
       "    <tr style=\"text-align: right;\">\n",
       "      <th></th>\n",
       "      <th>D_UID</th>\n",
       "      <th>O_UID</th>\n",
       "      <th>DIST</th>\n",
       "      <th>O_POP</th>\n",
       "      <th>D_POP</th>\n",
       "    </tr>\n",
       "  </thead>\n",
       "  <tbody>\n",
       "    <tr>\n",
       "      <th>0</th>\n",
       "      <td>0</td>\n",
       "      <td>22900</td>\n",
       "      <td>107114.8</td>\n",
       "      <td>1</td>\n",
       "      <td>1</td>\n",
       "    </tr>\n",
       "    <tr>\n",
       "      <th>1</th>\n",
       "      <td>1</td>\n",
       "      <td>22900</td>\n",
       "      <td>61778.9</td>\n",
       "      <td>1</td>\n",
       "      <td>1</td>\n",
       "    </tr>\n",
       "    <tr>\n",
       "      <th>2</th>\n",
       "      <td>2</td>\n",
       "      <td>22900</td>\n",
       "      <td>128986.4</td>\n",
       "      <td>1</td>\n",
       "      <td>1</td>\n",
       "    </tr>\n",
       "    <tr>\n",
       "      <th>3</th>\n",
       "      <td>3</td>\n",
       "      <td>22900</td>\n",
       "      <td>163199.1</td>\n",
       "      <td>1</td>\n",
       "      <td>1</td>\n",
       "    </tr>\n",
       "    <tr>\n",
       "      <th>4</th>\n",
       "      <td>4</td>\n",
       "      <td>22900</td>\n",
       "      <td>145879.1</td>\n",
       "      <td>1</td>\n",
       "      <td>1</td>\n",
       "    </tr>\n",
       "  </tbody>\n",
       "</table>\n",
       "</div>"
      ],
      "text/plain": [
       "  D_UID  O_UID      DIST  O_POP  D_POP\n",
       "0     0  22900  107114.8      1      1\n",
       "1     1  22900   61778.9      1      1\n",
       "2     2  22900  128986.4      1      1\n",
       "3     3  22900  163199.1      1      1\n",
       "4     4  22900  145879.1      1      1"
      ]
     },
     "execution_count": 20,
     "metadata": {},
     "output_type": "execute_result"
    }
   ],
   "source": [
    "odRes.head()"
   ]
  },
  {
   "cell_type": "code",
   "execution_count": 21,
   "metadata": {},
   "outputs": [],
   "source": [
    "OD_re = odRes.pivot(index='O_UID',columns='D_UID', values='DIST')\n",
    "OD_re2 = OD_re.apply(lambda x: x/(60*60))"
   ]
  },
  {
   "cell_type": "code",
   "execution_count": 22,
   "metadata": {},
   "outputs": [
    {
     "data": {
      "text/html": [
       "<div>\n",
       "<style scoped>\n",
       "    .dataframe tbody tr th:only-of-type {\n",
       "        vertical-align: middle;\n",
       "    }\n",
       "\n",
       "    .dataframe tbody tr th {\n",
       "        vertical-align: top;\n",
       "    }\n",
       "\n",
       "    .dataframe thead th {\n",
       "        text-align: right;\n",
       "    }\n",
       "</style>\n",
       "<table border=\"1\" class=\"dataframe\">\n",
       "  <thead>\n",
       "    <tr style=\"text-align: right;\">\n",
       "      <th>D_UID</th>\n",
       "      <th>0</th>\n",
       "      <th>1</th>\n",
       "      <th>2</th>\n",
       "      <th>3</th>\n",
       "      <th>4</th>\n",
       "      <th>5</th>\n",
       "      <th>6</th>\n",
       "      <th>7</th>\n",
       "      <th>8</th>\n",
       "      <th>9</th>\n",
       "    </tr>\n",
       "    <tr>\n",
       "      <th>O_UID</th>\n",
       "      <th></th>\n",
       "      <th></th>\n",
       "      <th></th>\n",
       "      <th></th>\n",
       "      <th></th>\n",
       "      <th></th>\n",
       "      <th></th>\n",
       "      <th></th>\n",
       "      <th></th>\n",
       "      <th></th>\n",
       "    </tr>\n",
       "  </thead>\n",
       "  <tbody>\n",
       "    <tr>\n",
       "      <th>22900</th>\n",
       "      <td>29.754111</td>\n",
       "      <td>17.160806</td>\n",
       "      <td>35.829556</td>\n",
       "      <td>45.333083</td>\n",
       "      <td>40.521972</td>\n",
       "      <td>150.165278</td>\n",
       "      <td>60.290861</td>\n",
       "      <td>46.329944</td>\n",
       "      <td>148.033361</td>\n",
       "      <td>147.002833</td>\n",
       "    </tr>\n",
       "    <tr>\n",
       "      <th>22901</th>\n",
       "      <td>29.929194</td>\n",
       "      <td>17.335889</td>\n",
       "      <td>36.004639</td>\n",
       "      <td>45.508167</td>\n",
       "      <td>40.697056</td>\n",
       "      <td>150.340361</td>\n",
       "      <td>60.465944</td>\n",
       "      <td>46.505028</td>\n",
       "      <td>148.208444</td>\n",
       "      <td>147.177917</td>\n",
       "    </tr>\n",
       "    <tr>\n",
       "      <th>22902</th>\n",
       "      <td>131.623028</td>\n",
       "      <td>118.751556</td>\n",
       "      <td>137.420306</td>\n",
       "      <td>136.107278</td>\n",
       "      <td>142.112722</td>\n",
       "      <td>81.017306</td>\n",
       "      <td>121.267417</td>\n",
       "      <td>147.920694</td>\n",
       "      <td>78.885389</td>\n",
       "      <td>77.854861</td>\n",
       "    </tr>\n",
       "    <tr>\n",
       "      <th>22903</th>\n",
       "      <td>32.769111</td>\n",
       "      <td>20.175806</td>\n",
       "      <td>38.844556</td>\n",
       "      <td>48.348083</td>\n",
       "      <td>43.536972</td>\n",
       "      <td>153.180278</td>\n",
       "      <td>63.305861</td>\n",
       "      <td>49.344944</td>\n",
       "      <td>151.048361</td>\n",
       "      <td>150.017833</td>\n",
       "    </tr>\n",
       "    <tr>\n",
       "      <th>22904</th>\n",
       "      <td>17.626583</td>\n",
       "      <td>21.795917</td>\n",
       "      <td>37.207361</td>\n",
       "      <td>33.205556</td>\n",
       "      <td>41.899778</td>\n",
       "      <td>138.037750</td>\n",
       "      <td>48.163333</td>\n",
       "      <td>39.210417</td>\n",
       "      <td>135.905833</td>\n",
       "      <td>134.875306</td>\n",
       "    </tr>\n",
       "  </tbody>\n",
       "</table>\n",
       "</div>"
      ],
      "text/plain": [
       "D_UID           0           1           2           3           4           5  \\\n",
       "O_UID                                                                           \n",
       "22900   29.754111   17.160806   35.829556   45.333083   40.521972  150.165278   \n",
       "22901   29.929194   17.335889   36.004639   45.508167   40.697056  150.340361   \n",
       "22902  131.623028  118.751556  137.420306  136.107278  142.112722   81.017306   \n",
       "22903   32.769111   20.175806   38.844556   48.348083   43.536972  153.180278   \n",
       "22904   17.626583   21.795917   37.207361   33.205556   41.899778  138.037750   \n",
       "\n",
       "D_UID           6           7           8           9  \n",
       "O_UID                                                  \n",
       "22900   60.290861   46.329944  148.033361  147.002833  \n",
       "22901   60.465944   46.505028  148.208444  147.177917  \n",
       "22902  121.267417  147.920694   78.885389   77.854861  \n",
       "22903   63.305861   49.344944  151.048361  150.017833  \n",
       "22904   48.163333   39.210417  135.905833  134.875306  "
      ]
     },
     "execution_count": 22,
     "metadata": {},
     "output_type": "execute_result"
    }
   ],
   "source": [
    "OD_re2.head()"
   ]
  },
  {
   "cell_type": "code",
   "execution_count": 23,
   "metadata": {},
   "outputs": [],
   "source": [
    "# get the min\n",
    "OD_re3 = pd.DataFrame(OD_re2.idxmin(axis=1), columns=['ID']).join(pd.DataFrame(OD_re2.min(axis=1), columns=['tt_regional']))\n",
    "# OD_re3 = pd.DataFrame(data=[OD_re2.idxmin(axis=1), OD_re2.min(axis=1)], index=['D_UID','time']).transpose()"
   ]
  },
  {
   "cell_type": "code",
   "execution_count": 24,
   "metadata": {},
   "outputs": [
    {
     "data": {
      "text/html": [
       "<div>\n",
       "<style scoped>\n",
       "    .dataframe tbody tr th:only-of-type {\n",
       "        vertical-align: middle;\n",
       "    }\n",
       "\n",
       "    .dataframe tbody tr th {\n",
       "        vertical-align: top;\n",
       "    }\n",
       "\n",
       "    .dataframe thead th {\n",
       "        text-align: right;\n",
       "    }\n",
       "</style>\n",
       "<table border=\"1\" class=\"dataframe\">\n",
       "  <thead>\n",
       "    <tr style=\"text-align: right;\">\n",
       "      <th></th>\n",
       "      <th>ID</th>\n",
       "      <th>tt_regional</th>\n",
       "    </tr>\n",
       "    <tr>\n",
       "      <th>O_UID</th>\n",
       "      <th></th>\n",
       "      <th></th>\n",
       "    </tr>\n",
       "  </thead>\n",
       "  <tbody>\n",
       "    <tr>\n",
       "      <th>22900</th>\n",
       "      <td>1</td>\n",
       "      <td>17.160806</td>\n",
       "    </tr>\n",
       "    <tr>\n",
       "      <th>22901</th>\n",
       "      <td>1</td>\n",
       "      <td>17.335889</td>\n",
       "    </tr>\n",
       "    <tr>\n",
       "      <th>22902</th>\n",
       "      <td>9</td>\n",
       "      <td>77.854861</td>\n",
       "    </tr>\n",
       "    <tr>\n",
       "      <th>22903</th>\n",
       "      <td>1</td>\n",
       "      <td>20.175806</td>\n",
       "    </tr>\n",
       "    <tr>\n",
       "      <th>22904</th>\n",
       "      <td>0</td>\n",
       "      <td>17.626583</td>\n",
       "    </tr>\n",
       "  </tbody>\n",
       "</table>\n",
       "</div>"
      ],
      "text/plain": [
       "      ID  tt_regional\n",
       "O_UID                \n",
       "22900  1    17.160806\n",
       "22901  1    17.335889\n",
       "22902  9    77.854861\n",
       "22903  1    20.175806\n",
       "22904  0    17.626583"
      ]
     },
     "execution_count": 24,
     "metadata": {},
     "output_type": "execute_result"
    }
   ],
   "source": [
    "OD_re3.head()"
   ]
  },
  {
   "cell_type": "code",
   "execution_count": 25,
   "metadata": {},
   "outputs": [],
   "source": [
    "OD_re3['OBJECTID'] = OD_re3.index.astype('int')\n",
    "target_hubs = target.merge(OD_re3, on='OBJECTID')"
   ]
  },
  {
   "cell_type": "markdown",
   "metadata": {},
   "source": [
    "Merge back destination hub name"
   ]
  },
  {
   "cell_type": "code",
   "execution_count": 26,
   "metadata": {},
   "outputs": [],
   "source": [
    "target_hubs['ID'] = target_hubs['ID'].astype('int')"
   ]
  },
  {
   "cell_type": "code",
   "execution_count": 27,
   "metadata": {},
   "outputs": [
    {
     "data": {
      "text/plain": [
       "Dakar        22\n",
       "Bamako       20\n",
       "Marrakech     2\n",
       "Rabat         1\n",
       "Name: Name1, dtype: int64"
      ]
     },
     "execution_count": 27,
     "metadata": {},
     "output_type": "execute_result"
    }
   ],
   "source": [
    "target_hubs2 = target_hubs.merge(dests[['Name1','ID']], on='ID') # for LAC cities file change to Name / global file Name1\n",
    "target_hubs2['Name1'].value_counts()"
   ]
  },
  {
   "cell_type": "code",
   "execution_count": 28,
   "metadata": {},
   "outputs": [],
   "source": [
    "target_hubs2.drop(['geometry','Shape_Leng','Shape_Area'], axis=1, inplace=True)"
   ]
  },
  {
   "cell_type": "code",
   "execution_count": 29,
   "metadata": {},
   "outputs": [],
   "source": [
    "target_hubs2.rename(columns={'tt_regional':'Time (hrs)', 'ID':'Regional Hub ID', 'Name1':'Regional Hub Name'}, inplace=True)"
   ]
  },
  {
   "cell_type": "code",
   "execution_count": 30,
   "metadata": {},
   "outputs": [],
   "source": [
    "output_path = os.path.join(out_folder, 'tables')\n",
    "if not os.path.exists(output_path):\n",
    "    os.mkdir(output_path)"
   ]
  },
  {
   "cell_type": "code",
   "execution_count": 31,
   "metadata": {},
   "outputs": [],
   "source": [
    "target_hubs2.to_excel(os.path.join(output_path, \"8Travel Time to Regional Hub.xlsx\"), index=False)"
   ]
  }
 ],
 "metadata": {
  "kernelspec": {
   "display_name": "GEO",
   "language": "python",
   "name": "geo"
  },
  "language_info": {
   "codemirror_mode": {
    "name": "ipython",
    "version": 3
   },
   "file_extension": ".py",
   "mimetype": "text/x-python",
   "name": "python",
   "nbconvert_exporter": "python",
   "pygments_lexer": "ipython3",
   "version": "3.7.6"
  }
 },
 "nbformat": 4,
 "nbformat_minor": 2
}
