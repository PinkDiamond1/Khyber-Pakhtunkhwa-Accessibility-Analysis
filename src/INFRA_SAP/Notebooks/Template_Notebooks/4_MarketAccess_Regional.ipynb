{
 "cells": [
  {
   "cell_type": "markdown",
   "metadata": {},
   "source": [
    "## Re-calculate market access to compare added access from regional cities.\n",
    "Use Mapbox API to calcuate travel time to major domestic and neighboring cities (population greater than 50k).  \n",
    "Use district centroids as origins.  \n",
    "Run market access calculation again.  "
   ]
  },
  {
   "cell_type": "code",
   "execution_count": 1,
   "metadata": {},
   "outputs": [],
   "source": [
    "import os, sys, time, importlib, glob\n",
    "\n",
    "import geopandas as gpd\n",
    "import pandas as pd\n",
    "import networkx as nx\n",
    "sys.path.append('/home/wb514197/Repos/GOSTnets')\n",
    "\n",
    "import GOSTnets as gn\n",
    "import rasterio as rio\n",
    "from osgeo import gdal\n",
    "import GOSTnets.calculate_od_raw as calcOD\n",
    "import numpy as np\n",
    "\n",
    "sys.path.append('/home/wb514197/Repos/INFRA_SAP')\n",
    "from infrasap import aggregator\n",
    "from infrasap import mapbox_helper as mb\n",
    "\n",
    "from shapely.wkt import loads\n",
    "from dotenv import load_dotenv, find_dotenv\n",
    "from utm_zone import epsg as epsg_get\n",
    "import json\n",
    "\n",
    "%load_ext autoreload\n",
    "%autoreload 2"
   ]
  },
  {
   "cell_type": "code",
   "execution_count": 2,
   "metadata": {},
   "outputs": [],
   "source": [
    "country = 'mauritania'\n",
    "iso3 = 'MRT'"
   ]
  },
  {
   "cell_type": "code",
   "execution_count": 3,
   "metadata": {},
   "outputs": [],
   "source": [
    "dotenv_path = find_dotenv()\n",
    "load_dotenv(dotenv_path)\n",
    "mb_token = os.environ.get(\"MB_TOKEN\")"
   ]
  },
  {
   "cell_type": "markdown",
   "metadata": {},
   "source": [
    "### Load data"
   ]
  },
  {
   "cell_type": "code",
   "execution_count": 4,
   "metadata": {},
   "outputs": [],
   "source": [
    "# base_in = \"/home/public/Data/PROJECTS/INFRA_SAP\"\n",
    "base_in = \"/home/wb514197/data/INFRA_SAP\"\n",
    "in_folder = os.path.join(base_in, iso3)\n",
    "\n",
    "# define data paths\n",
    "focal_admin2 = os.path.join(in_folder, \"admin.shp\")\n",
    "focal_osm = os.path.join(in_folder, f\"{country}-latest.osm.pbf\")\n",
    "pop_name = \"WP_2020_1km\"\n",
    "wp_1km = os.path.join(in_folder, f\"{pop_name}.tif\")\n",
    "urban_extents = os.path.join(in_folder, \"urban_extents.shp\")\n",
    "airports = os.path.join(in_folder, \"airports.shp\")\n",
    "ports = os.path.join(in_folder, \"ports.shp\")\n",
    "borders = os.path.join(in_folder, \"borders.shp\")\n",
    "\n",
    "# base_out = \"/home/wb514197/data/INFRA_SAP\" # GOT permission denied using public \n",
    "# out_folder = os.path.join(base_out, iso3)\n",
    "# if not os.path.exists(out_folder):\n",
    "#     os.makedirs(out_folder)\n",
    "\n",
    "out_folder = os.path.join(in_folder, \"output\")\n",
    "\n",
    "# global_cities = '/home/public/Data/PROJECTS/LAC_GOSTNets/Destinations/Cities_centroids_FINAL_pop.shp'\n",
    "global_admin = '/home/public/Data/GLOBAL/ADMIN/g2015_0_simplified.shp'\n",
    "# global_cities = '/home/public/Data/GLOBAL/Population/Major_Cities.shp'\n",
    "global_cities = '/home/public/Data/GLOBAL/Population/global_settlement_points_v1_01_gt50000.shp'"
   ]
  },
  {
   "cell_type": "code",
   "execution_count": 5,
   "metadata": {},
   "outputs": [],
   "source": [
    "bounds = gpd.read_file(focal_admin2)\n",
    "bounds_json = json.loads(bounds.to_json())\n",
    "epsg = epsg_get(bounds_json)\n",
    "utm = f\"EPSG:{epsg}\""
   ]
  },
  {
   "cell_type": "code",
   "execution_count": 6,
   "metadata": {},
   "outputs": [
    {
     "name": "stderr",
     "output_type": "stream",
     "text": [
      "/home/wb514197/.conda/envs/geo/lib/python3.7/site-packages/ipykernel_launcher.py:2: UserWarning: Geometry is in a geographic CRS. Results from 'centroid' are likely incorrect. Use 'GeoSeries.to_crs()' to re-project geometries to a projected CRS before this operation.\n",
      "\n",
      "  \n"
     ]
    }
   ],
   "source": [
    "target = gpd.read_file(focal_admin2)\n",
    "target['centroid'] = target.centroid\n",
    "cities = gpd.read_file(global_cities)\n",
    "adm0 = gpd.read_file(global_admin)\n",
    "adm0 = adm0.loc[adm0.is_valid]\n",
    "cities = gpd.sjoin(cities, adm0[['ADM0_NAME','geometry']], how='left')"
   ]
  },
  {
   "cell_type": "code",
   "execution_count": 7,
   "metadata": {},
   "outputs": [],
   "source": [
    "pop_thresh = 50000\n",
    "dist_thresh = 100000 # meters\n",
    "cities = cities[cities.Pop>pop_thresh].copy()\n",
    "\n",
    "cities_proj = cities.to_crs(f'EPSG:{epsg}')\n",
    "target_proj = target.to_crs(f'EPSG:{epsg}')"
   ]
  },
  {
   "cell_type": "code",
   "execution_count": 8,
   "metadata": {},
   "outputs": [],
   "source": [
    "target_buffer = target_proj.buffer(dist_thresh)\n",
    "cities_filter = cities_proj[cities_proj.intersects(target_buffer.unary_union)]"
   ]
  },
  {
   "cell_type": "code",
   "execution_count": 9,
   "metadata": {},
   "outputs": [],
   "source": [
    "# Remove cities from the target country\n",
    "cities_filter = cities_filter[cities_filter.ADM0_NAME!=country].copy()\n",
    "cities_filter = cities_filter.to_crs(cities.crs)"
   ]
  },
  {
   "cell_type": "code",
   "execution_count": 10,
   "metadata": {},
   "outputs": [
    {
     "name": "stderr",
     "output_type": "stream",
     "text": [
      "/home/wb514197/.conda/envs/geo/lib/python3.7/site-packages/ipykernel_launcher.py:3: UserWarning: Geometry is in a geographic CRS. Results from 'centroid' are likely incorrect. Use 'GeoSeries.to_crs()' to re-project geometries to a projected CRS before this operation.\n",
      "\n",
      "  This is separate from the ipykernel package so we can avoid doing imports until\n"
     ]
    }
   ],
   "source": [
    "cities_adm0 = gpd.read_file(urban_extents)\n",
    "cities_adm0 = cities_adm0[cities_adm0.Pop>pop_thresh]\n",
    "cities_adm0['geometry'] = cities_adm0.geometry.centroid"
   ]
  },
  {
   "cell_type": "code",
   "execution_count": 11,
   "metadata": {},
   "outputs": [],
   "source": [
    "cities_concat = pd.concat([cities_filter, cities_adm0]).reset_index(drop=True)"
   ]
  },
  {
   "cell_type": "code",
   "execution_count": 12,
   "metadata": {},
   "outputs": [
    {
     "data": {
      "text/html": [
       "<div>\n",
       "<style scoped>\n",
       "    .dataframe tbody tr th:only-of-type {\n",
       "        vertical-align: middle;\n",
       "    }\n",
       "\n",
       "    .dataframe tbody tr th {\n",
       "        vertical-align: top;\n",
       "    }\n",
       "\n",
       "    .dataframe thead th {\n",
       "        text-align: right;\n",
       "    }\n",
       "</style>\n",
       "<table border=\"1\" class=\"dataframe\">\n",
       "  <thead>\n",
       "    <tr style=\"text-align: right;\">\n",
       "      <th></th>\n",
       "      <th>OBJECTID</th>\n",
       "      <th>UNSD</th>\n",
       "      <th>Latlongid</th>\n",
       "      <th>Latitude</th>\n",
       "      <th>Longitude</th>\n",
       "      <th>Pop</th>\n",
       "      <th>Year</th>\n",
       "      <th>Urborrur</th>\n",
       "      <th>Schnm</th>\n",
       "      <th>Name1</th>\n",
       "      <th>...</th>\n",
       "      <th>ES90POP</th>\n",
       "      <th>ES95POP</th>\n",
       "      <th>ES00POP</th>\n",
       "      <th>INSGRUSED</th>\n",
       "      <th>Continent</th>\n",
       "      <th>Country</th>\n",
       "      <th>geometry</th>\n",
       "      <th>index_right</th>\n",
       "      <th>ADM0_NAME</th>\n",
       "      <th>ID</th>\n",
       "    </tr>\n",
       "  </thead>\n",
       "  <tbody>\n",
       "    <tr>\n",
       "      <th>0</th>\n",
       "      <td>0.0</td>\n",
       "      <td>466.0</td>\n",
       "      <td>67.0</td>\n",
       "      <td>14.442410</td>\n",
       "      <td>-11.431699</td>\n",
       "      <td>66865.0</td>\n",
       "      <td>1998.0</td>\n",
       "      <td>U</td>\n",
       "      <td>KAYES</td>\n",
       "      <td>Kayes</td>\n",
       "      <td>...</td>\n",
       "      <td>42739.0</td>\n",
       "      <td>53352.0</td>\n",
       "      <td>66865.0</td>\n",
       "      <td>N</td>\n",
       "      <td>Africa</td>\n",
       "      <td>Mali</td>\n",
       "      <td>POINT (-11.43170 14.44241)</td>\n",
       "      <td>47.0</td>\n",
       "      <td>Mali</td>\n",
       "      <td>NaN</td>\n",
       "    </tr>\n",
       "    <tr>\n",
       "      <th>1</th>\n",
       "      <td>0.0</td>\n",
       "      <td>478.0</td>\n",
       "      <td>39.0</td>\n",
       "      <td>16.150000</td>\n",
       "      <td>-13.500000</td>\n",
       "      <td>50269.0</td>\n",
       "      <td>1996.0</td>\n",
       "      <td>U</td>\n",
       "      <td>KAEDI</td>\n",
       "      <td>Kaédi</td>\n",
       "      <td>...</td>\n",
       "      <td>30668.0</td>\n",
       "      <td>39264.0</td>\n",
       "      <td>50269.0</td>\n",
       "      <td>Y-Urban</td>\n",
       "      <td>Africa</td>\n",
       "      <td>Mauritania</td>\n",
       "      <td>POINT (-13.50000 16.15000)</td>\n",
       "      <td>46.0</td>\n",
       "      <td>Mauritania</td>\n",
       "      <td>NaN</td>\n",
       "    </tr>\n",
       "    <tr>\n",
       "      <th>2</th>\n",
       "      <td>0.0</td>\n",
       "      <td>478.0</td>\n",
       "      <td>44.0</td>\n",
       "      <td>16.616667</td>\n",
       "      <td>-11.400000</td>\n",
       "      <td>53378.0</td>\n",
       "      <td>1996.0</td>\n",
       "      <td>U</td>\n",
       "      <td>KIFFA</td>\n",
       "      <td>Kiffa</td>\n",
       "      <td>...</td>\n",
       "      <td>32369.0</td>\n",
       "      <td>41567.0</td>\n",
       "      <td>53378.0</td>\n",
       "      <td>Y-Urban</td>\n",
       "      <td>Africa</td>\n",
       "      <td>Mauritania</td>\n",
       "      <td>POINT (-11.40000 16.61667)</td>\n",
       "      <td>46.0</td>\n",
       "      <td>Mauritania</td>\n",
       "      <td>NaN</td>\n",
       "    </tr>\n",
       "    <tr>\n",
       "      <th>3</th>\n",
       "      <td>0.0</td>\n",
       "      <td>478.0</td>\n",
       "      <td>59.0</td>\n",
       "      <td>20.900000</td>\n",
       "      <td>-17.060000</td>\n",
       "      <td>107865.0</td>\n",
       "      <td>1996.0</td>\n",
       "      <td>U</td>\n",
       "      <td>NOUADHIBOU</td>\n",
       "      <td>Nouadhibou</td>\n",
       "      <td>...</td>\n",
       "      <td>65424.0</td>\n",
       "      <td>84006.0</td>\n",
       "      <td>107865.0</td>\n",
       "      <td>Y-Urban</td>\n",
       "      <td>Africa</td>\n",
       "      <td>Mauritania</td>\n",
       "      <td>POINT (-17.06000 20.90000)</td>\n",
       "      <td>46.0</td>\n",
       "      <td>Mauritania</td>\n",
       "      <td>NaN</td>\n",
       "    </tr>\n",
       "    <tr>\n",
       "      <th>4</th>\n",
       "      <td>0.0</td>\n",
       "      <td>478.0</td>\n",
       "      <td>63.0</td>\n",
       "      <td>18.100000</td>\n",
       "      <td>-15.950000</td>\n",
       "      <td>739993.0</td>\n",
       "      <td>1996.0</td>\n",
       "      <td>U</td>\n",
       "      <td>NOUAKCHOTT</td>\n",
       "      <td>Nouakchott</td>\n",
       "      <td>...</td>\n",
       "      <td>453236.0</td>\n",
       "      <td>579130.0</td>\n",
       "      <td>739993.0</td>\n",
       "      <td>Y-Urban</td>\n",
       "      <td>Africa</td>\n",
       "      <td>Mauritania</td>\n",
       "      <td>POINT (-15.95000 18.10000)</td>\n",
       "      <td>46.0</td>\n",
       "      <td>Mauritania</td>\n",
       "      <td>NaN</td>\n",
       "    </tr>\n",
       "  </tbody>\n",
       "</table>\n",
       "<p>5 rows × 35 columns</p>\n",
       "</div>"
      ],
      "text/plain": [
       "   OBJECTID   UNSD  Latlongid   Latitude  Longitude       Pop    Year  \\\n",
       "0       0.0  466.0       67.0  14.442410 -11.431699   66865.0  1998.0   \n",
       "1       0.0  478.0       39.0  16.150000 -13.500000   50269.0  1996.0   \n",
       "2       0.0  478.0       44.0  16.616667 -11.400000   53378.0  1996.0   \n",
       "3       0.0  478.0       59.0  20.900000 -17.060000  107865.0  1996.0   \n",
       "4       0.0  478.0       63.0  18.100000 -15.950000  739993.0  1996.0   \n",
       "\n",
       "  Urborrur       Schnm       Name1  ...   ES90POP   ES95POP   ES00POP  \\\n",
       "0        U       KAYES       Kayes  ...   42739.0   53352.0   66865.0   \n",
       "1        U       KAEDI       Kaédi  ...   30668.0   39264.0   50269.0   \n",
       "2        U       KIFFA       Kiffa  ...   32369.0   41567.0   53378.0   \n",
       "3        U  NOUADHIBOU  Nouadhibou  ...   65424.0   84006.0  107865.0   \n",
       "4        U  NOUAKCHOTT  Nouakchott  ...  453236.0  579130.0  739993.0   \n",
       "\n",
       "  INSGRUSED Continent     Country                    geometry index_right  \\\n",
       "0         N    Africa        Mali  POINT (-11.43170 14.44241)        47.0   \n",
       "1   Y-Urban    Africa  Mauritania  POINT (-13.50000 16.15000)        46.0   \n",
       "2   Y-Urban    Africa  Mauritania  POINT (-11.40000 16.61667)        46.0   \n",
       "3   Y-Urban    Africa  Mauritania  POINT (-17.06000 20.90000)        46.0   \n",
       "4   Y-Urban    Africa  Mauritania  POINT (-15.95000 18.10000)        46.0   \n",
       "\n",
       "    ADM0_NAME  ID  \n",
       "0        Mali NaN  \n",
       "1  Mauritania NaN  \n",
       "2  Mauritania NaN  \n",
       "3  Mauritania NaN  \n",
       "4  Mauritania NaN  \n",
       "\n",
       "[5 rows x 35 columns]"
      ]
     },
     "execution_count": 12,
     "metadata": {},
     "output_type": "execute_result"
    }
   ],
   "source": [
    "cities_concat.head()"
   ]
  },
  {
   "cell_type": "code",
   "execution_count": 13,
   "metadata": {},
   "outputs": [
    {
     "data": {
      "text/plain": [
       "<AxesSubplot:>"
      ]
     },
     "execution_count": 13,
     "metadata": {},
     "output_type": "execute_result"
    },
    {
     "data": {
      "image/png": "[encoded data removed]",
      "text/plain": [
       "<Figure size 720x720 with 1 Axes>"
      ]
     },
     "metadata": {
      "needs_background": "light"
     },
     "output_type": "display_data"
    }
   ],
   "source": [
    "ax = target.plot(figsize=(10, 10))\n",
    "cities_concat.plot(figsize=(10, 10), ax=ax, color='red')"
   ]
  },
  {
   "cell_type": "code",
   "execution_count": 14,
   "metadata": {},
   "outputs": [],
   "source": [
    "origins = target.copy()\n",
    "dests = cities_concat.copy().reset_index(drop=True)"
   ]
  },
  {
   "cell_type": "code",
   "execution_count": 15,
   "metadata": {},
   "outputs": [
    {
     "name": "stderr",
     "output_type": "stream",
     "text": [
      "/home/wb514197/.conda/envs/geo/lib/python3.7/site-packages/ipykernel_launcher.py:1: UserWarning: Geometry is in a geographic CRS. Results from 'centroid' are likely incorrect. Use 'GeoSeries.to_crs()' to re-project geometries to a projected CRS before this operation.\n",
      "\n",
      "  \"\"\"Entry point for launching an IPython kernel.\n",
      "/home/wb514197/.conda/envs/geo/lib/python3.7/site-packages/ipykernel_launcher.py:2: UserWarning: Geometry is in a geographic CRS. Results from 'centroid' are likely incorrect. Use 'GeoSeries.to_crs()' to re-project geometries to a projected CRS before this operation.\n",
      "\n",
      "  \n"
     ]
    }
   ],
   "source": [
    "origins['x'] = origins.centroid.x\n",
    "origins['y'] = origins.centroid.y\n",
    "\n",
    "dests['x'] = dests.geometry.x\n",
    "dests['y'] = dests.geometry.y\n",
    "\n",
    "origins['ID'] = origins.OBJECTID\n",
    "dests['ID'] = dests.index\n",
    "\n",
    "origins['Pop'] = 1"
   ]
  },
  {
   "cell_type": "code",
   "execution_count": 16,
   "metadata": {},
   "outputs": [
    {
     "name": "stdout",
     "output_type": "stream",
     "text": [
      "\n",
      "Chosen server: MB\n",
      "\n",
      "Start time: Fri Mar  5 16:01:11 2021\n",
      "source list: 45\n",
      "sources list: 4\n",
      "dest list: 10\n",
      "dests list: 1\n",
      "\n",
      "Estimated remaining calls to chosen server: 4\n",
      "\n",
      "save points will occur every 1 calls\n",
      "\n",
      "Call to OSRM server number: 1 of 4\n",
      "Call to OSRM server number: 2 of 4\n",
      "Call to OSRM server number: 3 of 4\n",
      "Call to OSRM server number: 4 of 4\n"
     ]
    }
   ],
   "source": [
    "odRes = mb.CreateODMatrix(origins, dests, lat_name = 'y', lon_name = 'x', UID = 'ID', \n",
    "                    Pop = 'Pop', call_type = 'MB', rescue = 0, rescue_num = 0, MB_Toke = mb_token, \n",
    "                    sleepTime = 5, osrmHeader = '')"
   ]
  },
  {
   "cell_type": "code",
   "execution_count": 17,
   "metadata": {},
   "outputs": [],
   "source": [
    "odRes['O_UID'] = odRes['O_UID'].astype('int')\n",
    "odRes['D_UID'] = odRes['D_UID'].astype('int')"
   ]
  },
  {
   "cell_type": "code",
   "execution_count": 18,
   "metadata": {
    "scrolled": true
   },
   "outputs": [],
   "source": [
    "OD_re = odRes.pivot(index='O_UID', columns='D_UID', values='DIST')"
   ]
  },
  {
   "cell_type": "code",
   "execution_count": 19,
   "metadata": {},
   "outputs": [
    {
     "data": {
      "text/html": [
       "<div>\n",
       "<style scoped>\n",
       "    .dataframe tbody tr th:only-of-type {\n",
       "        vertical-align: middle;\n",
       "    }\n",
       "\n",
       "    .dataframe tbody tr th {\n",
       "        vertical-align: top;\n",
       "    }\n",
       "\n",
       "    .dataframe thead th {\n",
       "        text-align: right;\n",
       "    }\n",
       "</style>\n",
       "<table border=\"1\" class=\"dataframe\">\n",
       "  <thead>\n",
       "    <tr style=\"text-align: right;\">\n",
       "      <th>D_UID</th>\n",
       "      <th>0</th>\n",
       "      <th>1</th>\n",
       "      <th>2</th>\n",
       "      <th>3</th>\n",
       "      <th>4</th>\n",
       "      <th>5</th>\n",
       "      <th>6</th>\n",
       "      <th>7</th>\n",
       "      <th>8</th>\n",
       "      <th>9</th>\n",
       "    </tr>\n",
       "    <tr>\n",
       "      <th>O_UID</th>\n",
       "      <th></th>\n",
       "      <th></th>\n",
       "      <th></th>\n",
       "      <th></th>\n",
       "      <th></th>\n",
       "      <th></th>\n",
       "      <th></th>\n",
       "      <th></th>\n",
       "      <th></th>\n",
       "      <th></th>\n",
       "    </tr>\n",
       "  </thead>\n",
       "  <tbody>\n",
       "    <tr>\n",
       "      <th>22900</th>\n",
       "      <td>89007.1</td>\n",
       "      <td>55633.7</td>\n",
       "      <td>60859.2</td>\n",
       "      <td>40121.0</td>\n",
       "      <td>22003.1</td>\n",
       "      <td>51299.3</td>\n",
       "      <td>43860.2</td>\n",
       "      <td>49533.7</td>\n",
       "      <td>39989.4</td>\n",
       "      <td>22638.3</td>\n",
       "    </tr>\n",
       "    <tr>\n",
       "      <th>22901</th>\n",
       "      <td>89637.4</td>\n",
       "      <td>56264.0</td>\n",
       "      <td>61489.5</td>\n",
       "      <td>40751.3</td>\n",
       "      <td>22633.4</td>\n",
       "      <td>51929.6</td>\n",
       "      <td>44490.5</td>\n",
       "      <td>50164.0</td>\n",
       "      <td>40619.7</td>\n",
       "      <td>23268.6</td>\n",
       "    </tr>\n",
       "    <tr>\n",
       "      <th>22902</th>\n",
       "      <td>454733.8</td>\n",
       "      <td>422361.8</td>\n",
       "      <td>427587.3</td>\n",
       "      <td>374857.2</td>\n",
       "      <td>388483.1</td>\n",
       "      <td>417026.0</td>\n",
       "      <td>409586.9</td>\n",
       "      <td>415260.4</td>\n",
       "      <td>374725.6</td>\n",
       "      <td>388589.4</td>\n",
       "    </tr>\n",
       "    <tr>\n",
       "      <th>22903</th>\n",
       "      <td>99861.1</td>\n",
       "      <td>66487.7</td>\n",
       "      <td>71713.2</td>\n",
       "      <td>50975.0</td>\n",
       "      <td>32857.1</td>\n",
       "      <td>62153.3</td>\n",
       "      <td>54714.2</td>\n",
       "      <td>60387.7</td>\n",
       "      <td>50843.4</td>\n",
       "      <td>33492.3</td>\n",
       "    </tr>\n",
       "    <tr>\n",
       "      <th>22904</th>\n",
       "      <td>57221.8</td>\n",
       "      <td>33363.0</td>\n",
       "      <td>17200.1</td>\n",
       "      <td>58669.8</td>\n",
       "      <td>39888.1</td>\n",
       "      <td>67985.7</td>\n",
       "      <td>60546.6</td>\n",
       "      <td>66220.1</td>\n",
       "      <td>58538.2</td>\n",
       "      <td>39737.7</td>\n",
       "    </tr>\n",
       "  </tbody>\n",
       "</table>\n",
       "</div>"
      ],
      "text/plain": [
       "D_UID         0         1         2         3         4         5         6  \\\n",
       "O_UID                                                                         \n",
       "22900   89007.1   55633.7   60859.2   40121.0   22003.1   51299.3   43860.2   \n",
       "22901   89637.4   56264.0   61489.5   40751.3   22633.4   51929.6   44490.5   \n",
       "22902  454733.8  422361.8  427587.3  374857.2  388483.1  417026.0  409586.9   \n",
       "22903   99861.1   66487.7   71713.2   50975.0   32857.1   62153.3   54714.2   \n",
       "22904   57221.8   33363.0   17200.1   58669.8   39888.1   67985.7   60546.6   \n",
       "\n",
       "D_UID         7         8         9  \n",
       "O_UID                                \n",
       "22900   49533.7   39989.4   22638.3  \n",
       "22901   50164.0   40619.7   23268.6  \n",
       "22902  415260.4  374725.6  388589.4  \n",
       "22903   60387.7   50843.4   33492.3  \n",
       "22904   66220.1   58538.2   39737.7  "
      ]
     },
     "execution_count": 19,
     "metadata": {},
     "output_type": "execute_result"
    }
   ],
   "source": [
    "OD_re.head()"
   ]
  },
  {
   "cell_type": "code",
   "execution_count": 20,
   "metadata": {
    "scrolled": true
   },
   "outputs": [
    {
     "data": {
      "text/plain": [
       "D_UID\n",
       "0    6.686500e+04\n",
       "1    5.026900e+04\n",
       "2    5.337800e+04\n",
       "3    1.078650e+05\n",
       "4    7.399930e+05\n",
       "5    7.053300e+04\n",
       "6    6.269400e+04\n",
       "7    1.563370e+05\n",
       "8    1.828651e+05\n",
       "9    1.359739e+06\n",
       "Name: Pop, dtype: float64"
      ]
     },
     "execution_count": 20,
     "metadata": {},
     "output_type": "execute_result"
    }
   ],
   "source": [
    "dests.Pop[OD_re.columns]"
   ]
  },
  {
   "cell_type": "code",
   "execution_count": 21,
   "metadata": {},
   "outputs": [],
   "source": [
    "access_regional = calcOD.calculate_gravity(np.array(OD_re), dWeight = dests.Pop[OD_re.columns])"
   ]
  },
  {
   "cell_type": "code",
   "execution_count": 22,
   "metadata": {},
   "outputs": [],
   "source": [
    "# access_domestic = calcOD.calculate_gravity(np.array(OD_re.loc[:,1:]), dWeight = dests.Pop[OD_re.loc[:,1:].columns])\n",
    "# if adm0 name is null, then it's a domestic city\n",
    "access_domestic = calcOD.calculate_gravity(np.array(OD_re.loc[:,dests.loc[dests.ADM0_NAME.isnull()].index]), \n",
    "                                           dWeight = dests.Pop[dests.loc[dests.ADM0_NAME.isnull()].index])"
   ]
  },
  {
   "cell_type": "code",
   "execution_count": 23,
   "metadata": {},
   "outputs": [],
   "source": [
    "access_regional = access_regional.rename(columns = {\n",
    "        'd_0.01': 'ma_reg_1',\n",
    "        'd_0.005': 'ma_reg_2',\n",
    "        'd_0.001' : 'ma_reg_3',\n",
    "        'd_0.0007701635' : 'ma_reg_4',   # Market access halves every 15 mins\n",
    "        'd_0.0003850818' : 'ma_reg_5',   # Market access halves every 30 mins\n",
    "        'd_0.0001925409' : 'ma_reg_6',   # Market access halves every 60 mins\n",
    "        'd_9.62704e-05' : 'ma_reg_7',   # Market access halves every 120 mins\n",
    "        'd_3.85082e-05' : 'ma_reg_8',   # Market access halves every 300 mins\n",
    "        'd_1e-05' : 'ma_reg_9'\n",
    "    })\n",
    "\n",
    "access_domestic = access_domestic.rename(columns = {\n",
    "        'd_0.01': 'ma_dom_1',\n",
    "        'd_0.005': 'ma_dom_2',\n",
    "        'd_0.001' : 'ma_dom_3',\n",
    "        'd_0.0007701635' : 'ma_dom_4',   # Market access halves every 15 mins\n",
    "        'd_0.0003850818' : 'ma_dom_5',   # Market access halves every 30 mins\n",
    "        'd_0.0001925409' : 'ma_dom_6',   # Market access halves every 60 mins\n",
    "        'd_9.62704e-05' : 'ma_dom_7',   # Market access halves every 120 mins\n",
    "        'd_3.85082e-05' : 'ma_dom_8',   # Market access halves every 300 mins\n",
    "        'd_1e-05' : 'ma_dom_9'\n",
    "    })"
   ]
  },
  {
   "cell_type": "code",
   "execution_count": 24,
   "metadata": {},
   "outputs": [
    {
     "name": "stderr",
     "output_type": "stream",
     "text": [
      "/home/wb514197/.conda/envs/geo/lib/python3.7/site-packages/ipykernel_launcher.py:1: RuntimeWarning: divide by zero encountered in true_divide\n",
      "  \"\"\"Entry point for launching an IPython kernel.\n",
      "/home/wb514197/.conda/envs/geo/lib/python3.7/site-packages/ipykernel_launcher.py:1: RuntimeWarning: invalid value encountered in true_divide\n",
      "  \"\"\"Entry point for launching an IPython kernel.\n"
     ]
    }
   ],
   "source": [
    "access_pch = pd.DataFrame((access_regional.values-access_domestic.values)/access_domestic.values,\n",
    "             index = access_regional.index,\n",
    "             columns=['ma_pch_1', 'ma_pch_2', 'ma_pch_3', 'ma_pch_4',\n",
    "                      'ma_pch_5', 'ma_pch_6', 'ma_pch_7', 'ma_pch_8', 'ma_pch_9'])"
   ]
  },
  {
   "cell_type": "code",
   "execution_count": 25,
   "metadata": {},
   "outputs": [
    {
     "name": "stderr",
     "output_type": "stream",
     "text": [
      "/home/wb514197/.conda/envs/geo/lib/python3.7/site-packages/ipykernel_launcher.py:1: RuntimeWarning: invalid value encountered in true_divide\n",
      "  \"\"\"Entry point for launching an IPython kernel.\n"
     ]
    }
   ],
   "source": [
    "access_pdif = pd.DataFrame((access_regional.values-access_domestic.values)/((access_regional.values+access_domestic.values)/2),\n",
    "             index = access_regional.index,\n",
    "             columns=['ma_pdif_1', 'ma_pdif_2', 'ma_pdif_3', 'ma_pdif_4',\n",
    "                      'ma_pdif_5', 'ma_pdif_6', 'ma_pdif_7', 'ma_pdif_8', 'ma_pdif_9'])"
   ]
  },
  {
   "cell_type": "code",
   "execution_count": 26,
   "metadata": {},
   "outputs": [],
   "source": [
    "access_join = access_domestic.loc[:,'ma_dom_5':].join(access_regional.loc[:,'ma_reg_5':]).join(access_pch.loc[:,'ma_pch_5':]).join(access_pdif.loc[:,'ma_pdif_5':])\n",
    "access_join['OBJECTID'] = OD_re.index\n",
    "newdf = target.merge(access_join, on='OBJECTID')\n",
    "newdf.drop(['geometry','Shape_Leng','Shape_Area'], axis=1, inplace=True)"
   ]
  },
  {
   "cell_type": "code",
   "execution_count": 27,
   "metadata": {},
   "outputs": [],
   "source": [
    "output_path = os.path.join(out_folder, 'tables')\n",
    "if not os.path.exists(output_path):\n",
    "    os.mkdir(output_path)"
   ]
  },
  {
   "cell_type": "code",
   "execution_count": 28,
   "metadata": {},
   "outputs": [],
   "source": [
    "newdf.to_excel(os.path.join(output_path, \"11Regional Analysis.xlsx\"), index=False)"
   ]
  }
 ],
 "metadata": {
  "kernelspec": {
   "display_name": "GEO",
   "language": "python",
   "name": "geo"
  },
  "language_info": {
   "codemirror_mode": {
    "name": "ipython",
    "version": 3
   },
   "file_extension": ".py",
   "mimetype": "text/x-python",
   "name": "python",
   "nbconvert_exporter": "python",
   "pygments_lexer": "ipython3",
   "version": "3.7.6"
  }
 },
 "nbformat": 4,
 "nbformat_minor": 2
}
