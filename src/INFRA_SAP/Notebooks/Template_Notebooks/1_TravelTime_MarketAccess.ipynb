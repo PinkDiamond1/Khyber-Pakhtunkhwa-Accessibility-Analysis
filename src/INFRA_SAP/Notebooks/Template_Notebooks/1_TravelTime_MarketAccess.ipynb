{
 "cells": [
  {
   "cell_type": "markdown",
   "metadata": {},
   "source": [
    "## Country-level INFRA-SAP"
   ]
  },
  {
   "cell_type": "markdown",
   "metadata": {},
   "source": [
    "- Origins: Population grid (Worldpop downsampled to 500 meters)\n",
    "- Destinations: Cities, airports, border crossings, and ports\n",
    "\n",
    "Typical access analysis with two adjustments:\n",
    "    1. Extract different sets of destinations from OD\n",
    "    2. Join travel time to origin grid based on \"NN with the fastest route\" (not necessarily closest NN)"
   ]
  },
  {
   "cell_type": "code",
   "execution_count": 1,
   "metadata": {},
   "outputs": [],
   "source": [
    "import os, sys, time, importlib\n",
    "\n",
    "import geopandas as gpd\n",
    "import pandas as pd\n",
    "import networkx as nx\n",
    "sys.path.append('/home/wb514197/Repos/GOSTnets')\n",
    "\n",
    "import GOSTnets as gn\n",
    "import GOSTnets.calculate_od_raw as calcOD\n",
    "from GOSTnets.load_osm import *\n",
    "import rasterio as rio\n",
    "from osgeo import gdal\n",
    "import numpy as np\n",
    "from shapely.geometry import Point\n",
    "\n",
    "sys.path.append('/home/wb514197/Repos/INFRA_SAP')\n",
    "from infrasap import aggregator\n",
    "from utm_zone import epsg as epsg_get\n",
    "import json\n",
    "\n",
    "%load_ext autoreload\n",
    "%autoreload 2"
   ]
  },
  {
   "cell_type": "code",
   "execution_count": 2,
   "metadata": {},
   "outputs": [],
   "source": [
    "country = 'mauritania'\n",
    "iso3 = 'MRT'"
   ]
  },
  {
   "cell_type": "markdown",
   "metadata": {},
   "source": [
    "### Load origins and graph"
   ]
  },
  {
   "cell_type": "code",
   "execution_count": 3,
   "metadata": {},
   "outputs": [],
   "source": [
    "# base_in = \"/home/public/Data/PROJECTS/INFRA_SAP\"\n",
    "base_in = \"/home/wb514197/data/INFRA_SAP\"\n",
    "in_folder = os.path.join(base_in, iso3)\n",
    "\n",
    "# define data paths\n",
    "focal_admin2 = os.path.join(in_folder, \"admin.shp\")\n",
    "focal_osm = os.path.join(in_folder, f\"{country}-latest.osm.pbf\")\n",
    "pop_name = \"WP_2020_1km\"\n",
    "wp_1km = os.path.join(in_folder, f\"{pop_name}.tif\")\n",
    "urban_extents = os.path.join(in_folder, \"urban_extents.shp\")\n",
    "airports = os.path.join(in_folder, \"airports.shp\")\n",
    "ports = os.path.join(in_folder, \"ports.shp\")\n",
    "borders = os.path.join(in_folder, \"borders.shp\")\n",
    "\n",
    "# base_out = \"/home/wb514197/data/INFRA_SAP\" # GOT permission denied using public \n",
    "# out_folder = os.path.join(base_out, iso3)\n",
    "out_folder = os.path.join(in_folder, \"output\")\n",
    "\n",
    "if not os.path.exists(out_folder):\n",
    "    os.makedirs(out_folder)"
   ]
  },
  {
   "cell_type": "code",
   "execution_count": 4,
   "metadata": {},
   "outputs": [],
   "source": [
    "bounds = gpd.read_file(focal_admin2)\n",
    "bounds_json = json.loads(bounds.to_json())\n",
    "epsg = epsg_get(bounds_json)"
   ]
  },
  {
   "cell_type": "markdown",
   "metadata": {},
   "source": [
    "Convert **WP_2020_1km.tif** into a point GeoData frame"
   ]
  },
  {
   "cell_type": "code",
   "execution_count": 5,
   "metadata": {
    "scrolled": true
   },
   "outputs": [],
   "source": [
    "inDs = gdal.Open(wp_1km)\n",
    "out_pop = os.path.join(out_folder, f\"{pop_name}.xyz\")\n",
    "outDs = gdal.Translate(out_pop, inDs, format='XYZ', creationOptions=[\"ADD_HEADER_LINE=YES\"])\n",
    "out_pop_csv = os.path.join(out_folder, f\"{pop_name}.csv\")\n",
    "os.rename(out_pop, out_pop_csv)"
   ]
  },
  {
   "cell_type": "code",
   "execution_count": 6,
   "metadata": {},
   "outputs": [],
   "source": [
    "wp_df = pd.read_csv(out_pop_csv, sep=' ')\n",
    "wp_df.rename(columns={\"Z\":\"Pop\"}, inplace=True)\n",
    "wp_df = wp_df.loc[wp_df.Pop!=-99999.0].copy()\n",
    "geoms = [Point(xy) for xy in zip(wp_df.X, wp_df.Y)]\n",
    "wp_df.drop([\"X\",\"Y\"], axis=1, inplace=True)\n",
    "crs = 'EPSG:4326'\n",
    "origins = gpd.GeoDataFrame(wp_df, crs=crs, geometry=geoms)\n",
    "origins['pointid'] = origins.index"
   ]
  },
  {
   "cell_type": "markdown",
   "metadata": {},
   "source": [
    "### Prepare Graph"
   ]
  },
  {
   "cell_type": "code",
   "execution_count": 7,
   "metadata": {},
   "outputs": [],
   "source": [
    "G_path = None # if a graph already exists list the path here\n",
    "# G_path = os.path.join(in_folder, 'graph', f\"G_{iso3}.pickle\") "
   ]
  },
  {
   "cell_type": "code",
   "execution_count": 8,
   "metadata": {},
   "outputs": [
    {
     "name": "stdout",
     "output_type": "stream",
     "text": [
      "Creating graph from scratch\n"
     ]
    },
    {
     "name": "stderr",
     "output_type": "stream",
     "text": [
      "/home/wb514197/.conda/envs/geo/lib/python3.7/site-packages/pyproj/crs/crs.py:53: FutureWarning: '+init=<authority>:<code>' syntax is deprecated. '<authority>:<code>' is the preferred initialization method. When making the change, be mindful of axis order changes: https://pyproj4.github.io/pyproj/stable/gotchas.html#axis-order-changes-in-proj-6\n",
      "  return _prepare_from_string(\" \".join(pjargs))\n",
      "/home/wb514197/Repos/GOSTnets/GOSTnets/core.py:1181: UserWarning: Geometry is in a geographic CRS. Results from 'centroid' are likely incorrect. Use 'GeoSeries.to_crs()' to re-project geometries to a projected CRS before this operation.\n",
      "\n",
      "  juncs_gdf_unproj['centroid'] = juncs_gdf_unproj.centroid\n"
     ]
    },
    {
     "name": "stdout",
     "output_type": "stream",
     "text": [
      "1288\n",
      "2494\n",
      "404\n",
      "782\n",
      "Edge reduction: 2299 to 782 (65 percent)\n"
     ]
    }
   ],
   "source": [
    "if G_path is None:\n",
    "    print(\"Creating graph from scratch\")\n",
    "    osm_raw = OSM_to_network(focal_osm)\n",
    "    accepted_road_types = ['trunk','trunk_link','primary','primary_link','secondary','secondary_link','tertiary','tertiary_link']\n",
    "    osm_raw.filterRoads(acceptedRoads = accepted_road_types)\n",
    "    osm_raw.generateRoadsGDF(verbose = False)\n",
    "    osm_raw.initialReadIn()\n",
    "    \n",
    "    if not os.path.exists(os.path.join(out_folder, 'graph')):\n",
    "        os.mkdir(os.path.join(out_folder, 'graph'))\n",
    "    gn.save(osm_raw.network,f'G_{iso3}_unclean',os.path.join(out_folder, 'graph'))\n",
    "    \n",
    "    #clean graph\n",
    "    G_clean = gn.clean_network(osm_raw.network, UTM = f\"EPSG:{epsg}\", WGS = \"EPSG:4326\", junctdist = 50, verbose = False)\n",
    "    G = G_clean.copy()\n",
    "\n",
    "else:\n",
    "    G = nx.read_gpickle(G_path)\n",
    "    for u, v, data in G.edges(data = True):\n",
    "        if type(data['Wkt']) == list:\n",
    "            data['Wkt'] = gn.unbundle_geometry(data['Wkt'])"
   ]
  },
  {
   "cell_type": "code",
   "execution_count": 9,
   "metadata": {},
   "outputs": [
    {
     "name": "stdout",
     "output_type": "stream",
     "text": [
      "WARNING: \"factor behavior has changed! now divides rather than multiplies. This change brings gn.salt_long_lines into line with gn.convert_network_to_time\" \n"
     ]
    },
    {
     "name": "stderr",
     "output_type": "stream",
     "text": [
      "/home/wb514197/.conda/envs/geo/lib/python3.7/site-packages/pyproj/crs/crs.py:53: FutureWarning: '+init=<authority>:<code>' syntax is deprecated. '<authority>:<code>' is the preferred initialization method. When making the change, be mindful of axis order changes: https://pyproj4.github.io/pyproj/stable/gotchas.html#axis-order-changes-in-proj-6\n",
      "  return _prepare_from_string(\" \".join(pjargs))\n",
      "/home/wb514197/.conda/envs/geo/lib/python3.7/site-packages/pyproj/crs/crs.py:294: FutureWarning: '+init=<authority>:<code>' syntax is deprecated. '<authority>:<code>' is the preferred initialization method. When making the change, be mindful of axis order changes: https://pyproj4.github.io/pyproj/stable/gotchas.html#axis-order-changes-in-proj-6\n",
      "  projstring = _prepare_from_string(\" \".join((projstring, projkwargs)))\n",
      "/home/wb514197/.conda/envs/geo/lib/python3.7/site-packages/pyproj/crs/crs.py:53: FutureWarning: '+init=<authority>:<code>' syntax is deprecated. '<authority>:<code>' is the preferred initialization method. When making the change, be mindful of axis order changes: https://pyproj4.github.io/pyproj/stable/gotchas.html#axis-order-changes-in-proj-6\n",
      "  return _prepare_from_string(\" \".join(pjargs))\n",
      "/home/wb514197/.conda/envs/geo/lib/python3.7/site-packages/pyproj/crs/crs.py:294: FutureWarning: '+init=<authority>:<code>' syntax is deprecated. '<authority>:<code>' is the preferred initialization method. When making the change, be mindful of axis order changes: https://pyproj4.github.io/pyproj/stable/gotchas.html#axis-order-changes-in-proj-6\n",
      "  projstring = _prepare_from_string(\" \".join((projstring, projkwargs)))\n",
      "/home/wb514197/.conda/envs/geo/lib/python3.7/site-packages/pyproj/crs/crs.py:53: FutureWarning: '+init=<authority>:<code>' syntax is deprecated. '<authority>:<code>' is the preferred initialization method. When making the change, be mindful of axis order changes: https://pyproj4.github.io/pyproj/stable/gotchas.html#axis-order-changes-in-proj-6\n",
      "  return _prepare_from_string(\" \".join(pjargs))\n",
      "/home/wb514197/.conda/envs/geo/lib/python3.7/site-packages/pyproj/crs/crs.py:294: FutureWarning: '+init=<authority>:<code>' syntax is deprecated. '<authority>:<code>' is the preferred initialization method. When making the change, be mindful of axis order changes: https://pyproj4.github.io/pyproj/stable/gotchas.html#axis-order-changes-in-proj-6\n",
      "  projstring = _prepare_from_string(\" \".join((projstring, projkwargs)))\n",
      "/home/wb514197/.conda/envs/geo/lib/python3.7/site-packages/pyproj/crs/crs.py:53: FutureWarning: '+init=<authority>:<code>' syntax is deprecated. '<authority>:<code>' is the preferred initialization method. When making the change, be mindful of axis order changes: https://pyproj4.github.io/pyproj/stable/gotchas.html#axis-order-changes-in-proj-6\n",
      "  return _prepare_from_string(\" \".join(pjargs))\n",
      "/home/wb514197/.conda/envs/geo/lib/python3.7/site-packages/pyproj/crs/crs.py:294: FutureWarning: '+init=<authority>:<code>' syntax is deprecated. '<authority>:<code>' is the preferred initialization method. When making the change, be mindful of axis order changes: https://pyproj4.github.io/pyproj/stable/gotchas.html#axis-order-changes-in-proj-6\n",
      "  projstring = _prepare_from_string(\" \".join((projstring, projkwargs)))\n"
     ]
    },
    {
     "name": "stdout",
     "output_type": "stream",
     "text": [
      "Identified 136 unique edge(s) longer than 5000. \n",
      "Beginning new node creation...\n",
      "3050 new edges added and 274 removed to bring total edges to 3558\n",
      "1389 new nodes added to bring total nodes to 1701\n"
     ]
    }
   ],
   "source": [
    "# Salt network\n",
    "attr_list = ['id', 'infra_type', 'osm_id', 'key', 'Type']\n",
    "G_salt = gn.salt_long_lines(G, source='EPSG:4326', target=f'EPSG:{epsg}', thresh=5000, factor=1000, attr_list=attr_list)\n",
    "G_time = gn.convert_network_to_time(G_salt, distance_tag = 'length', road_col = 'infra_type', factor = 1000)\n",
    "if not os.path.exists(os.path.join(out_folder, 'graph')):\n",
    "    os.mkdir(os.path.join(out_folder, 'graph'))\n",
    "gn.save(G_time, f\"G_{iso3}_Salt\", os.path.join(out_folder, 'graph'))"
   ]
  },
  {
   "cell_type": "code",
   "execution_count": 7,
   "metadata": {},
   "outputs": [],
   "source": [
    "G_time = nx.read_gpickle(os.path.join(out_folder, 'graph', f'G_{iso3}_Salt.pickle'))"
   ]
  },
  {
   "cell_type": "markdown",
   "metadata": {},
   "source": [
    "#### Select largest graph"
   ]
  },
  {
   "cell_type": "code",
   "execution_count": 8,
   "metadata": {},
   "outputs": [],
   "source": [
    "list_of_subgraphs = [G_time.subgraph(c).copy() for c in sorted(nx.strongly_connected_components(G_time), key=len, reverse=True)]\n",
    "G_largest = list_of_subgraphs[0]"
   ]
  },
  {
   "cell_type": "markdown",
   "metadata": {},
   "source": [
    "### Prepare destinations"
   ]
  },
  {
   "cell_type": "code",
   "execution_count": 9,
   "metadata": {},
   "outputs": [
    {
     "name": "stderr",
     "output_type": "stream",
     "text": [
      "/home/wb514197/.conda/envs/geo/lib/python3.7/site-packages/ipykernel_launcher.py:5: UserWarning: Geometry is in a geographic CRS. Results from 'centroid' are likely incorrect. Use 'GeoSeries.to_crs()' to re-project geometries to a projected CRS before this operation.\n",
      "\n",
      "  \"\"\"\n"
     ]
    }
   ],
   "source": [
    "inCities = gpd.read_file(urban_extents)\n",
    "# pop_thresh = 0\n",
    "pop_thresh=50000\n",
    "inCities = inCities.loc[inCities.Pop>pop_thresh]\n",
    "inCities['geometry'] = inCities.geometry.centroid\n",
    "dest_cities = inCities.assign(dest_type = 'city')"
   ]
  },
  {
   "cell_type": "code",
   "execution_count": 10,
   "metadata": {},
   "outputs": [],
   "source": [
    "dest_airports = gpd.read_file(airports)\n",
    "dest_airports = dest_airports.assign(dest_type = 'airport')"
   ]
  },
  {
   "cell_type": "code",
   "execution_count": 11,
   "metadata": {},
   "outputs": [],
   "source": [
    "dest_ports = gpd.read_file(ports).assign(dest_type = 'port')\n",
    "dest_borders = gpd.read_file(borders).assign(dest_type = 'border')\n",
    "dest_borders['geometry'] = dest_borders.geometry.apply(lambda x: x[0])"
   ]
  },
  {
   "cell_type": "code",
   "execution_count": 12,
   "metadata": {
    "scrolled": true
   },
   "outputs": [],
   "source": [
    "dest_all = pd.concat([dest_cities, dest_airports, dest_borders, dest_ports], ignore_index=True)"
   ]
  },
  {
   "cell_type": "code",
   "execution_count": 13,
   "metadata": {},
   "outputs": [
    {
     "data": {
      "text/plain": [
       "airport    4\n",
       "city       2\n",
       "border     2\n",
       "port       2\n",
       "Name: dest_type, dtype: int64"
      ]
     },
     "execution_count": 13,
     "metadata": {},
     "output_type": "execute_result"
    }
   ],
   "source": [
    "dest_all.dest_type.value_counts()"
   ]
  },
  {
   "cell_type": "code",
   "execution_count": 14,
   "metadata": {},
   "outputs": [],
   "source": [
    "dest_all.to_csv(os.path.join(out_folder, 'destination_all.csv'))"
   ]
  },
  {
   "cell_type": "code",
   "execution_count": 15,
   "metadata": {},
   "outputs": [],
   "source": [
    "dest_all.to_file(os.path.join(out_folder, 'destination_all.shp'), driver=\"ESRI Shapefile\")"
   ]
  },
  {
   "cell_type": "code",
   "execution_count": 16,
   "metadata": {},
   "outputs": [
    {
     "data": {
      "text/plain": [
       "(1301390, 10)"
      ]
     },
     "execution_count": 16,
     "metadata": {},
     "output_type": "execute_result"
    }
   ],
   "source": [
    "len(origins), len(dest_all)"
   ]
  },
  {
   "cell_type": "markdown",
   "metadata": {},
   "source": [
    "### Snap origins and destinations"
   ]
  },
  {
   "cell_type": "markdown",
   "metadata": {},
   "source": [
    "#### Snap to origins to 5 nearest nodes"
   ]
  },
  {
   "cell_type": "code",
   "execution_count": 17,
   "metadata": {},
   "outputs": [],
   "source": [
    "utm = f\"EPSG:{epsg}\""
   ]
  },
  {
   "cell_type": "code",
   "execution_count": 18,
   "metadata": {},
   "outputs": [
    {
     "name": "stdout",
     "output_type": "stream",
     "text": [
      "CPU times: user 2min 41s, sys: 2.74 s, total: 2min 44s\n",
      "Wall time: 2min 44s\n"
     ]
    }
   ],
   "source": [
    "%%time\n",
    "# this function returns a dictionary of origin IDs, with a list of 5 NNs, and a corresponding list of distances\n",
    "origins_snapped_dict = gn.pandana_snap_to_many(G_largest, origins, source_crs='epsg:4326', target_crs=utm, \n",
    "                                               add_dist_to_node_col = True, k_nearest=5, origin_id='pointid')"
   ]
  },
  {
   "cell_type": "code",
   "execution_count": 19,
   "metadata": {},
   "outputs": [],
   "source": [
    "dest_snapped = gn.pandana_snap_c(G_largest, dest_all, source_crs='epsg:4326', target_crs=utm,\n",
    "                                 add_dist_to_node_col = False)"
   ]
  },
  {
   "cell_type": "code",
   "execution_count": 20,
   "metadata": {},
   "outputs": [],
   "source": [
    "dest_nn = list(dest_snapped['NN'])\n",
    "list_origins_NN = []\n",
    "for each in origins_snapped_dict.values():\n",
    "    list_origins_NN += each['NN']\n",
    "origins_unique_nn = list(set(list_origins_NN))"
   ]
  },
  {
   "cell_type": "code",
   "execution_count": 21,
   "metadata": {},
   "outputs": [
    {
     "name": "stdout",
     "output_type": "stream",
     "text": [
      "CPU times: user 41.3 ms, sys: 1.02 ms, total: 42.4 ms\n",
      "Wall time: 41.8 ms\n"
     ]
    }
   ],
   "source": [
    "%%time\n",
    "curOD = gn.calculate_OD(G_largest, origins_unique_nn, dest_nn, fail_value = 999999999)"
   ]
  },
  {
   "cell_type": "markdown",
   "metadata": {},
   "source": [
    "quick checks"
   ]
  },
  {
   "cell_type": "code",
   "execution_count": 22,
   "metadata": {},
   "outputs": [
    {
     "data": {
      "text/plain": [
       "array([], dtype=float64)"
      ]
     },
     "execution_count": 22,
     "metadata": {},
     "output_type": "execute_result"
    }
   ],
   "source": [
    "curOD[curOD==999999999]"
   ]
  },
  {
   "cell_type": "code",
   "execution_count": 23,
   "metadata": {},
   "outputs": [
    {
     "data": {
      "text/plain": [
       "(1322, 10)"
      ]
     },
     "execution_count": 23,
     "metadata": {},
     "output_type": "execute_result"
    }
   ],
   "source": [
    "curOD.shape"
   ]
  },
  {
   "cell_type": "code",
   "execution_count": 24,
   "metadata": {},
   "outputs": [],
   "source": [
    "od_df = pd.DataFrame(curOD, index=origins_unique_nn, columns=dest_nn)"
   ]
  },
  {
   "cell_type": "code",
   "execution_count": 25,
   "metadata": {
    "scrolled": true
   },
   "outputs": [
    {
     "data": {
      "text/html": [
       "<div>\n",
       "<style scoped>\n",
       "    .dataframe tbody tr th:only-of-type {\n",
       "        vertical-align: middle;\n",
       "    }\n",
       "\n",
       "    .dataframe tbody tr th {\n",
       "        vertical-align: top;\n",
       "    }\n",
       "\n",
       "    .dataframe thead th {\n",
       "        text-align: right;\n",
       "    }\n",
       "</style>\n",
       "<table border=\"1\" class=\"dataframe\">\n",
       "  <thead>\n",
       "    <tr style=\"text-align: right;\">\n",
       "      <th></th>\n",
       "      <th>631</th>\n",
       "      <th>new_obj_364</th>\n",
       "      <th>1646</th>\n",
       "      <th>new_obj_468</th>\n",
       "      <th>new_obj_378</th>\n",
       "      <th>151_19_167</th>\n",
       "      <th>387</th>\n",
       "      <th>387</th>\n",
       "      <th>new_obj_470</th>\n",
       "      <th>new_obj_372</th>\n",
       "    </tr>\n",
       "  </thead>\n",
       "  <tbody>\n",
       "    <tr>\n",
       "      <th>1786_130_1105</th>\n",
       "      <td>55313.608008</td>\n",
       "      <td>12295.387979</td>\n",
       "      <td>26972.101955</td>\n",
       "      <td>55133.978919</td>\n",
       "      <td>12108.182517</td>\n",
       "      <td>31425.701021</td>\n",
       "      <td>30592.576969</td>\n",
       "      <td>30592.576969</td>\n",
       "      <td>54913.006722</td>\n",
       "      <td>12361.982663</td>\n",
       "    </tr>\n",
       "    <tr>\n",
       "      <th>1786_126_1101</th>\n",
       "      <td>53513.698008</td>\n",
       "      <td>10495.477979</td>\n",
       "      <td>28772.011955</td>\n",
       "      <td>53334.068919</td>\n",
       "      <td>10308.272517</td>\n",
       "      <td>33225.611021</td>\n",
       "      <td>28792.666969</td>\n",
       "      <td>28792.666969</td>\n",
       "      <td>53113.096722</td>\n",
       "      <td>10562.072663</td>\n",
       "    </tr>\n",
       "    <tr>\n",
       "      <th>new_obj_247_136_1392</th>\n",
       "      <td>67088.154442</td>\n",
       "      <td>23885.839717</td>\n",
       "      <td>63033.989812</td>\n",
       "      <td>66908.525354</td>\n",
       "      <td>24073.045179</td>\n",
       "      <td>67487.588877</td>\n",
       "      <td>21491.618529</td>\n",
       "      <td>21491.618529</td>\n",
       "      <td>66687.553157</td>\n",
       "      <td>24136.529097</td>\n",
       "    </tr>\n",
       "    <tr>\n",
       "      <th>232_18_214</th>\n",
       "      <td>58120.769333</td>\n",
       "      <td>15024.866314</td>\n",
       "      <td>54292.356249</td>\n",
       "      <td>57941.140244</td>\n",
       "      <td>15212.071777</td>\n",
       "      <td>58745.955314</td>\n",
       "      <td>3272.322676</td>\n",
       "      <td>3272.322676</td>\n",
       "      <td>57720.168047</td>\n",
       "      <td>15275.555695</td>\n",
       "    </tr>\n",
       "    <tr>\n",
       "      <th>18</th>\n",
       "      <td>107733.696934</td>\n",
       "      <td>64531.382209</td>\n",
       "      <td>100058.342809</td>\n",
       "      <td>107554.067846</td>\n",
       "      <td>64718.587671</td>\n",
       "      <td>104511.941875</td>\n",
       "      <td>64016.361021</td>\n",
       "      <td>64016.361021</td>\n",
       "      <td>107333.095649</td>\n",
       "      <td>64782.071589</td>\n",
       "    </tr>\n",
       "  </tbody>\n",
       "</table>\n",
       "</div>"
      ],
      "text/plain": [
       "                                631   new_obj_364           1646  \\\n",
       "1786_130_1105          55313.608008  12295.387979   26972.101955   \n",
       "1786_126_1101          53513.698008  10495.477979   28772.011955   \n",
       "new_obj_247_136_1392   67088.154442  23885.839717   63033.989812   \n",
       "232_18_214             58120.769333  15024.866314   54292.356249   \n",
       "18                    107733.696934  64531.382209  100058.342809   \n",
       "\n",
       "                        new_obj_468   new_obj_378     151_19_167  \\\n",
       "1786_130_1105          55133.978919  12108.182517   31425.701021   \n",
       "1786_126_1101          53334.068919  10308.272517   33225.611021   \n",
       "new_obj_247_136_1392   66908.525354  24073.045179   67487.588877   \n",
       "232_18_214             57941.140244  15212.071777   58745.955314   \n",
       "18                    107554.067846  64718.587671  104511.941875   \n",
       "\n",
       "                               387           387    new_obj_470   new_obj_372  \n",
       "1786_130_1105         30592.576969  30592.576969   54913.006722  12361.982663  \n",
       "1786_126_1101         28792.666969  28792.666969   53113.096722  10562.072663  \n",
       "new_obj_247_136_1392  21491.618529  21491.618529   66687.553157  24136.529097  \n",
       "232_18_214             3272.322676   3272.322676   57720.168047  15275.555695  \n",
       "18                    64016.361021  64016.361021  107333.095649  64782.071589  "
      ]
     },
     "execution_count": 25,
     "metadata": {},
     "output_type": "execute_result"
    }
   ],
   "source": [
    "od_df.head()"
   ]
  },
  {
   "cell_type": "markdown",
   "metadata": {},
   "source": [
    "For each origin set of 5 (k) possible NN:\n",
    "    - Add snapping dist (in time) + time to a destination\n",
    "    - Which destination? min time from all of them won't necessarily work, so we need to find the closest destination for each origin, and select the NN which yields the fastest travel time to that dest\n",
    "    - closest_dest.idx should match the OD column order."
   ]
  },
  {
   "cell_type": "code",
   "execution_count": 26,
   "metadata": {},
   "outputs": [
    {
     "name": "stdout",
     "output_type": "stream",
     "text": [
      "CPU times: user 1min 5s, sys: 977 ms, total: 1min 6s\n",
      "Wall time: 1min 6s\n"
     ]
    }
   ],
   "source": [
    "%%time\n",
    "closest_dest = gn.pandana_snap_points(origins, dest_all, source_crs='epsg:4326', target_crs=utm,\n",
    "                                      add_dist_to_node_col=True)"
   ]
  },
  {
   "cell_type": "code",
   "execution_count": 27,
   "metadata": {},
   "outputs": [],
   "source": [
    "closest_dest = closest_dest.set_index('pointid')"
   ]
  },
  {
   "cell_type": "code",
   "execution_count": 28,
   "metadata": {},
   "outputs": [
    {
     "data": {
      "text/html": [
       "<div>\n",
       "<style scoped>\n",
       "    .dataframe tbody tr th:only-of-type {\n",
       "        vertical-align: middle;\n",
       "    }\n",
       "\n",
       "    .dataframe tbody tr th {\n",
       "        vertical-align: top;\n",
       "    }\n",
       "\n",
       "    .dataframe thead th {\n",
       "        text-align: right;\n",
       "    }\n",
       "</style>\n",
       "<table border=\"1\" class=\"dataframe\">\n",
       "  <thead>\n",
       "    <tr style=\"text-align: right;\">\n",
       "      <th></th>\n",
       "      <th>Pop</th>\n",
       "      <th>geometry</th>\n",
       "      <th>idx</th>\n",
       "      <th>idx_dist</th>\n",
       "    </tr>\n",
       "    <tr>\n",
       "      <th>pointid</th>\n",
       "      <th></th>\n",
       "      <th></th>\n",
       "      <th></th>\n",
       "      <th></th>\n",
       "    </tr>\n",
       "  </thead>\n",
       "  <tbody>\n",
       "    <tr>\n",
       "      <th>1007</th>\n",
       "      <td>0.048485</td>\n",
       "      <td>POINT (1127094.521 3034897.174)</td>\n",
       "      <td>5</td>\n",
       "      <td>857837.832349</td>\n",
       "    </tr>\n",
       "    <tr>\n",
       "      <th>1008</th>\n",
       "      <td>0.042619</td>\n",
       "      <td>POINT (1127922.097 3034939.298)</td>\n",
       "      <td>5</td>\n",
       "      <td>858254.231858</td>\n",
       "    </tr>\n",
       "    <tr>\n",
       "      <th>1009</th>\n",
       "      <td>0.038052</td>\n",
       "      <td>POINT (1128749.680 3034981.479)</td>\n",
       "      <td>5</td>\n",
       "      <td>858671.282668</td>\n",
       "    </tr>\n",
       "    <tr>\n",
       "      <th>2475</th>\n",
       "      <td>0.051130</td>\n",
       "      <td>POINT (1127141.634 3033970.854)</td>\n",
       "      <td>5</td>\n",
       "      <td>857035.837519</td>\n",
       "    </tr>\n",
       "    <tr>\n",
       "      <th>2476</th>\n",
       "      <td>0.039548</td>\n",
       "      <td>POINT (1127969.272 3034012.969)</td>\n",
       "      <td>5</td>\n",
       "      <td>857452.647651</td>\n",
       "    </tr>\n",
       "  </tbody>\n",
       "</table>\n",
       "</div>"
      ],
      "text/plain": [
       "              Pop                         geometry  idx       idx_dist\n",
       "pointid                                                               \n",
       "1007     0.048485  POINT (1127094.521 3034897.174)    5  857837.832349\n",
       "1008     0.042619  POINT (1127922.097 3034939.298)    5  858254.231858\n",
       "1009     0.038052  POINT (1128749.680 3034981.479)    5  858671.282668\n",
       "2475     0.051130  POINT (1127141.634 3033970.854)    5  857035.837519\n",
       "2476     0.039548  POINT (1127969.272 3034012.969)    5  857452.647651"
      ]
     },
     "execution_count": 28,
     "metadata": {},
     "output_type": "execute_result"
    }
   ],
   "source": [
    "closest_dest.head()"
   ]
  },
  {
   "cell_type": "code",
   "execution_count": 29,
   "metadata": {},
   "outputs": [
    {
     "name": "stdout",
     "output_type": "stream",
     "text": [
      "CPU times: user 14min 34s, sys: 650 ms, total: 14min 35s\n",
      "Wall time: 14min 35s\n"
     ]
    }
   ],
   "source": [
    "%%time\n",
    "fastest_nn = []\n",
    "fastest_dist = []\n",
    "custom_speed = 30 # km/h\n",
    "\n",
    "for pointid, items in origins_snapped_dict.items():\n",
    "    dest_index = closest_dest.loc[pointid].idx\n",
    "    nn_list = items['NN']\n",
    "    dist_list = items['NN_dist']\n",
    "    total_time_list = []\n",
    "    for i in range(0, len(nn_list)):\n",
    "        time_snapping = ((dist_list[i] / 1000) / custom_speed) * 60 * 60\n",
    "        #time_to_dest = od_df.loc[nn_list[i]].min()\n",
    "        time_to_dest = od_df.loc[nn_list[i]].iloc[dest_index]\n",
    "        total_time = time_snapping+time_to_dest\n",
    "        total_time_list.append(total_time)\n",
    "#         print(f\"id: {nn_list[i]}, snapping dist (km): {dist_list[i]/1000:.2f}, time to dest (min): {(total_time/60)/60:.2f}\")\n",
    "    min_pos = total_time_list.index(min(total_time_list))\n",
    "    fastest_nn.append(nn_list[min_pos])\n",
    "    fastest_dist.append(dist_list[min_pos])\n",
    "#     origins_snapped_smart.loc[pointid, \"NN\"] = nn_list[min_pos]\n",
    "#     origins_snapped_smart.loc[pointid, \"NN_dist\"] = dist_list[min_pos]"
   ]
  },
  {
   "cell_type": "code",
   "execution_count": 30,
   "metadata": {},
   "outputs": [],
   "source": [
    "origins_snapped = origins.copy().set_index('pointid')\n",
    "origins_snapped['NN'] = pd.Series(fastest_nn, index = origins_snapped.index)\n",
    "origins_snapped['NN_dist'] = pd.Series(fastest_dist, index = origins_snapped.index)\n",
    "origins_snapped['pointid'] = origins_snapped.index\n",
    "origins_snapped['NN_dist_seconds'] = ((origins_snapped.NN_dist / 1000) / custom_speed) * 60 * 60\n",
    "origins_snapped['NN_dist_hours'] = ((origins_snapped.NN_dist / 1000) / custom_speed)"
   ]
  },
  {
   "cell_type": "code",
   "execution_count": 31,
   "metadata": {},
   "outputs": [
    {
     "data": {
      "text/html": [
       "<div>\n",
       "<style scoped>\n",
       "    .dataframe tbody tr th:only-of-type {\n",
       "        vertical-align: middle;\n",
       "    }\n",
       "\n",
       "    .dataframe tbody tr th {\n",
       "        vertical-align: top;\n",
       "    }\n",
       "\n",
       "    .dataframe thead th {\n",
       "        text-align: right;\n",
       "    }\n",
       "</style>\n",
       "<table border=\"1\" class=\"dataframe\">\n",
       "  <thead>\n",
       "    <tr style=\"text-align: right;\">\n",
       "      <th></th>\n",
       "      <th>Pop</th>\n",
       "      <th>geometry</th>\n",
       "      <th>NN</th>\n",
       "      <th>NN_dist</th>\n",
       "      <th>pointid</th>\n",
       "      <th>NN_dist_seconds</th>\n",
       "      <th>NN_dist_hours</th>\n",
       "    </tr>\n",
       "    <tr>\n",
       "      <th>pointid</th>\n",
       "      <th></th>\n",
       "      <th></th>\n",
       "      <th></th>\n",
       "      <th></th>\n",
       "      <th></th>\n",
       "      <th></th>\n",
       "      <th></th>\n",
       "    </tr>\n",
       "  </thead>\n",
       "  <tbody>\n",
       "    <tr>\n",
       "      <th>1007</th>\n",
       "      <td>0.048485</td>\n",
       "      <td>POINT (-8.67042 27.29375)</td>\n",
       "      <td>1867_120_1261</td>\n",
       "      <td>598004.050616</td>\n",
       "      <td>1007</td>\n",
       "      <td>71760.486074</td>\n",
       "      <td>19.933468</td>\n",
       "    </tr>\n",
       "    <tr>\n",
       "      <th>1008</th>\n",
       "      <td>0.042619</td>\n",
       "      <td>POINT (-8.66208 27.29375)</td>\n",
       "      <td>1867_120_1261</td>\n",
       "      <td>598502.714029</td>\n",
       "      <td>1008</td>\n",
       "      <td>71820.325683</td>\n",
       "      <td>19.950090</td>\n",
       "    </tr>\n",
       "    <tr>\n",
       "      <th>1009</th>\n",
       "      <td>0.038052</td>\n",
       "      <td>POINT (-8.65375 27.29375)</td>\n",
       "      <td>1867_120_1261</td>\n",
       "      <td>599002.159554</td>\n",
       "      <td>1009</td>\n",
       "      <td>71880.259146</td>\n",
       "      <td>19.966739</td>\n",
       "    </tr>\n",
       "    <tr>\n",
       "      <th>2475</th>\n",
       "      <td>0.051130</td>\n",
       "      <td>POINT (-8.67042 27.28542)</td>\n",
       "      <td>1867_120_1261</td>\n",
       "      <td>597263.206675</td>\n",
       "      <td>2475</td>\n",
       "      <td>71671.584801</td>\n",
       "      <td>19.908774</td>\n",
       "    </tr>\n",
       "    <tr>\n",
       "      <th>2476</th>\n",
       "      <td>0.039548</td>\n",
       "      <td>POINT (-8.66208 27.28542)</td>\n",
       "      <td>1867_120_1261</td>\n",
       "      <td>597762.516262</td>\n",
       "      <td>2476</td>\n",
       "      <td>71731.501951</td>\n",
       "      <td>19.925417</td>\n",
       "    </tr>\n",
       "  </tbody>\n",
       "</table>\n",
       "</div>"
      ],
      "text/plain": [
       "              Pop                   geometry             NN        NN_dist  \\\n",
       "pointid                                                                      \n",
       "1007     0.048485  POINT (-8.67042 27.29375)  1867_120_1261  598004.050616   \n",
       "1008     0.042619  POINT (-8.66208 27.29375)  1867_120_1261  598502.714029   \n",
       "1009     0.038052  POINT (-8.65375 27.29375)  1867_120_1261  599002.159554   \n",
       "2475     0.051130  POINT (-8.67042 27.28542)  1867_120_1261  597263.206675   \n",
       "2476     0.039548  POINT (-8.66208 27.28542)  1867_120_1261  597762.516262   \n",
       "\n",
       "         pointid  NN_dist_seconds  NN_dist_hours  \n",
       "pointid                                           \n",
       "1007        1007     71760.486074      19.933468  \n",
       "1008        1008     71820.325683      19.950090  \n",
       "1009        1009     71880.259146      19.966739  \n",
       "2475        2475     71671.584801      19.908774  \n",
       "2476        2476     71731.501951      19.925417  "
      ]
     },
     "execution_count": 31,
     "metadata": {},
     "output_type": "execute_result"
    }
   ],
   "source": [
    "origins_snapped.head()"
   ]
  },
  {
   "cell_type": "code",
   "execution_count": 32,
   "metadata": {},
   "outputs": [],
   "source": [
    "origins_join = origins_snapped.join(od_df, on='NN')"
   ]
  },
  {
   "cell_type": "code",
   "execution_count": 33,
   "metadata": {},
   "outputs": [
    {
     "data": {
      "text/plain": [
       "True"
      ]
     },
     "execution_count": 33,
     "metadata": {},
     "output_type": "execute_result"
    }
   ],
   "source": [
    "all(origins_join.columns[7:] == dest_snapped.NN)"
   ]
  },
  {
   "cell_type": "code",
   "execution_count": 34,
   "metadata": {},
   "outputs": [],
   "source": [
    "origins_join_rename = origins_join.copy()\n",
    "origins_join_rename.columns = pd.MultiIndex.from_arrays([['origin' for each in origins_snapped.columns]+list(dest_snapped.dest_type), origins_snapped.columns.append(dest_snapped.index)])"
   ]
  },
  {
   "cell_type": "code",
   "execution_count": 35,
   "metadata": {
    "scrolled": true
   },
   "outputs": [
    {
     "data": {
      "text/html": [
       "<div>\n",
       "<style scoped>\n",
       "    .dataframe tbody tr th:only-of-type {\n",
       "        vertical-align: middle;\n",
       "    }\n",
       "\n",
       "    .dataframe tbody tr th {\n",
       "        vertical-align: top;\n",
       "    }\n",
       "\n",
       "    .dataframe thead tr th {\n",
       "        text-align: left;\n",
       "    }\n",
       "\n",
       "    .dataframe thead tr:last-of-type th {\n",
       "        text-align: right;\n",
       "    }\n",
       "</style>\n",
       "<table border=\"1\" class=\"dataframe\">\n",
       "  <thead>\n",
       "    <tr>\n",
       "      <th></th>\n",
       "      <th colspan=\"7\" halign=\"left\">origin</th>\n",
       "      <th colspan=\"2\" halign=\"left\">city</th>\n",
       "      <th colspan=\"4\" halign=\"left\">airport</th>\n",
       "      <th colspan=\"2\" halign=\"left\">border</th>\n",
       "      <th colspan=\"2\" halign=\"left\">port</th>\n",
       "    </tr>\n",
       "    <tr>\n",
       "      <th></th>\n",
       "      <th>Pop</th>\n",
       "      <th>geometry</th>\n",
       "      <th>NN</th>\n",
       "      <th>NN_dist</th>\n",
       "      <th>pointid</th>\n",
       "      <th>NN_dist_seconds</th>\n",
       "      <th>NN_dist_hours</th>\n",
       "      <th>0</th>\n",
       "      <th>1</th>\n",
       "      <th>2</th>\n",
       "      <th>3</th>\n",
       "      <th>4</th>\n",
       "      <th>5</th>\n",
       "      <th>6</th>\n",
       "      <th>7</th>\n",
       "      <th>8</th>\n",
       "      <th>9</th>\n",
       "    </tr>\n",
       "    <tr>\n",
       "      <th>pointid</th>\n",
       "      <th></th>\n",
       "      <th></th>\n",
       "      <th></th>\n",
       "      <th></th>\n",
       "      <th></th>\n",
       "      <th></th>\n",
       "      <th></th>\n",
       "      <th></th>\n",
       "      <th></th>\n",
       "      <th></th>\n",
       "      <th></th>\n",
       "      <th></th>\n",
       "      <th></th>\n",
       "      <th></th>\n",
       "      <th></th>\n",
       "      <th></th>\n",
       "      <th></th>\n",
       "    </tr>\n",
       "  </thead>\n",
       "  <tbody>\n",
       "    <tr>\n",
       "      <th>1007</th>\n",
       "      <td>0.048485</td>\n",
       "      <td>POINT (-8.67042 27.29375)</td>\n",
       "      <td>1867_120_1261</td>\n",
       "      <td>598004.050616</td>\n",
       "      <td>1007</td>\n",
       "      <td>71760.486074</td>\n",
       "      <td>19.933468</td>\n",
       "      <td>113430.449201</td>\n",
       "      <td>70412.229172</td>\n",
       "      <td>31313.788167</td>\n",
       "      <td>113250.820112</td>\n",
       "      <td>70225.02371</td>\n",
       "      <td>35090.180172</td>\n",
       "      <td>88709.418162</td>\n",
       "      <td>88709.418162</td>\n",
       "      <td>113029.847915</td>\n",
       "      <td>70478.823856</td>\n",
       "    </tr>\n",
       "    <tr>\n",
       "      <th>1008</th>\n",
       "      <td>0.042619</td>\n",
       "      <td>POINT (-8.66208 27.29375)</td>\n",
       "      <td>1867_120_1261</td>\n",
       "      <td>598502.714029</td>\n",
       "      <td>1008</td>\n",
       "      <td>71820.325683</td>\n",
       "      <td>19.950090</td>\n",
       "      <td>113430.449201</td>\n",
       "      <td>70412.229172</td>\n",
       "      <td>31313.788167</td>\n",
       "      <td>113250.820112</td>\n",
       "      <td>70225.02371</td>\n",
       "      <td>35090.180172</td>\n",
       "      <td>88709.418162</td>\n",
       "      <td>88709.418162</td>\n",
       "      <td>113029.847915</td>\n",
       "      <td>70478.823856</td>\n",
       "    </tr>\n",
       "    <tr>\n",
       "      <th>1009</th>\n",
       "      <td>0.038052</td>\n",
       "      <td>POINT (-8.65375 27.29375)</td>\n",
       "      <td>1867_120_1261</td>\n",
       "      <td>599002.159554</td>\n",
       "      <td>1009</td>\n",
       "      <td>71880.259146</td>\n",
       "      <td>19.966739</td>\n",
       "      <td>113430.449201</td>\n",
       "      <td>70412.229172</td>\n",
       "      <td>31313.788167</td>\n",
       "      <td>113250.820112</td>\n",
       "      <td>70225.02371</td>\n",
       "      <td>35090.180172</td>\n",
       "      <td>88709.418162</td>\n",
       "      <td>88709.418162</td>\n",
       "      <td>113029.847915</td>\n",
       "      <td>70478.823856</td>\n",
       "    </tr>\n",
       "    <tr>\n",
       "      <th>2475</th>\n",
       "      <td>0.051130</td>\n",
       "      <td>POINT (-8.67042 27.28542)</td>\n",
       "      <td>1867_120_1261</td>\n",
       "      <td>597263.206675</td>\n",
       "      <td>2475</td>\n",
       "      <td>71671.584801</td>\n",
       "      <td>19.908774</td>\n",
       "      <td>113430.449201</td>\n",
       "      <td>70412.229172</td>\n",
       "      <td>31313.788167</td>\n",
       "      <td>113250.820112</td>\n",
       "      <td>70225.02371</td>\n",
       "      <td>35090.180172</td>\n",
       "      <td>88709.418162</td>\n",
       "      <td>88709.418162</td>\n",
       "      <td>113029.847915</td>\n",
       "      <td>70478.823856</td>\n",
       "    </tr>\n",
       "    <tr>\n",
       "      <th>2476</th>\n",
       "      <td>0.039548</td>\n",
       "      <td>POINT (-8.66208 27.28542)</td>\n",
       "      <td>1867_120_1261</td>\n",
       "      <td>597762.516262</td>\n",
       "      <td>2476</td>\n",
       "      <td>71731.501951</td>\n",
       "      <td>19.925417</td>\n",
       "      <td>113430.449201</td>\n",
       "      <td>70412.229172</td>\n",
       "      <td>31313.788167</td>\n",
       "      <td>113250.820112</td>\n",
       "      <td>70225.02371</td>\n",
       "      <td>35090.180172</td>\n",
       "      <td>88709.418162</td>\n",
       "      <td>88709.418162</td>\n",
       "      <td>113029.847915</td>\n",
       "      <td>70478.823856</td>\n",
       "    </tr>\n",
       "  </tbody>\n",
       "</table>\n",
       "</div>"
      ],
      "text/plain": [
       "           origin                                                           \\\n",
       "              Pop                   geometry             NN        NN_dist   \n",
       "pointid                                                                      \n",
       "1007     0.048485  POINT (-8.67042 27.29375)  1867_120_1261  598004.050616   \n",
       "1008     0.042619  POINT (-8.66208 27.29375)  1867_120_1261  598502.714029   \n",
       "1009     0.038052  POINT (-8.65375 27.29375)  1867_120_1261  599002.159554   \n",
       "2475     0.051130  POINT (-8.67042 27.28542)  1867_120_1261  597263.206675   \n",
       "2476     0.039548  POINT (-8.66208 27.28542)  1867_120_1261  597762.516262   \n",
       "\n",
       "                                                        city                \\\n",
       "        pointid NN_dist_seconds NN_dist_hours              0             1   \n",
       "pointid                                                                      \n",
       "1007       1007    71760.486074     19.933468  113430.449201  70412.229172   \n",
       "1008       1008    71820.325683     19.950090  113430.449201  70412.229172   \n",
       "1009       1009    71880.259146     19.966739  113430.449201  70412.229172   \n",
       "2475       2475    71671.584801     19.908774  113430.449201  70412.229172   \n",
       "2476       2476    71731.501951     19.925417  113430.449201  70412.229172   \n",
       "\n",
       "              airport                                                  border  \\\n",
       "                    2              3            4             5             6   \n",
       "pointid                                                                         \n",
       "1007     31313.788167  113250.820112  70225.02371  35090.180172  88709.418162   \n",
       "1008     31313.788167  113250.820112  70225.02371  35090.180172  88709.418162   \n",
       "1009     31313.788167  113250.820112  70225.02371  35090.180172  88709.418162   \n",
       "2475     31313.788167  113250.820112  70225.02371  35090.180172  88709.418162   \n",
       "2476     31313.788167  113250.820112  70225.02371  35090.180172  88709.418162   \n",
       "\n",
       "                                port                \n",
       "                    7              8             9  \n",
       "pointid                                             \n",
       "1007     88709.418162  113029.847915  70478.823856  \n",
       "1008     88709.418162  113029.847915  70478.823856  \n",
       "1009     88709.418162  113029.847915  70478.823856  \n",
       "2475     88709.418162  113029.847915  70478.823856  \n",
       "2476     88709.418162  113029.847915  70478.823856  "
      ]
     },
     "execution_count": 35,
     "metadata": {},
     "output_type": "execute_result"
    }
   ],
   "source": [
    "origins_join_rename.head()"
   ]
  },
  {
   "cell_type": "markdown",
   "metadata": {},
   "source": [
    "Add snapping time to each column (speed of 30 km/h)"
   ]
  },
  {
   "cell_type": "code",
   "execution_count": 36,
   "metadata": {},
   "outputs": [],
   "source": [
    "origins_join2 = origins_join_rename.apply(lambda x: x + origins_join_rename.origin.NN_dist_seconds if x.name[1] in dest_snapped.index else x)"
   ]
  },
  {
   "cell_type": "code",
   "execution_count": 37,
   "metadata": {},
   "outputs": [
    {
     "data": {
      "text/html": [
       "<div>\n",
       "<style scoped>\n",
       "    .dataframe tbody tr th:only-of-type {\n",
       "        vertical-align: middle;\n",
       "    }\n",
       "\n",
       "    .dataframe tbody tr th {\n",
       "        vertical-align: top;\n",
       "    }\n",
       "\n",
       "    .dataframe thead tr th {\n",
       "        text-align: left;\n",
       "    }\n",
       "\n",
       "    .dataframe thead tr:last-of-type th {\n",
       "        text-align: right;\n",
       "    }\n",
       "</style>\n",
       "<table border=\"1\" class=\"dataframe\">\n",
       "  <thead>\n",
       "    <tr>\n",
       "      <th></th>\n",
       "      <th colspan=\"7\" halign=\"left\">origin</th>\n",
       "      <th colspan=\"2\" halign=\"left\">city</th>\n",
       "      <th colspan=\"4\" halign=\"left\">airport</th>\n",
       "      <th colspan=\"2\" halign=\"left\">border</th>\n",
       "      <th colspan=\"2\" halign=\"left\">port</th>\n",
       "    </tr>\n",
       "    <tr>\n",
       "      <th></th>\n",
       "      <th>Pop</th>\n",
       "      <th>geometry</th>\n",
       "      <th>NN</th>\n",
       "      <th>NN_dist</th>\n",
       "      <th>pointid</th>\n",
       "      <th>NN_dist_seconds</th>\n",
       "      <th>NN_dist_hours</th>\n",
       "      <th>0</th>\n",
       "      <th>1</th>\n",
       "      <th>2</th>\n",
       "      <th>3</th>\n",
       "      <th>4</th>\n",
       "      <th>5</th>\n",
       "      <th>6</th>\n",
       "      <th>7</th>\n",
       "      <th>8</th>\n",
       "      <th>9</th>\n",
       "    </tr>\n",
       "    <tr>\n",
       "      <th>pointid</th>\n",
       "      <th></th>\n",
       "      <th></th>\n",
       "      <th></th>\n",
       "      <th></th>\n",
       "      <th></th>\n",
       "      <th></th>\n",
       "      <th></th>\n",
       "      <th></th>\n",
       "      <th></th>\n",
       "      <th></th>\n",
       "      <th></th>\n",
       "      <th></th>\n",
       "      <th></th>\n",
       "      <th></th>\n",
       "      <th></th>\n",
       "      <th></th>\n",
       "      <th></th>\n",
       "    </tr>\n",
       "  </thead>\n",
       "  <tbody>\n",
       "    <tr>\n",
       "      <th>1007</th>\n",
       "      <td>0.048485</td>\n",
       "      <td>POINT (-8.67042 27.29375)</td>\n",
       "      <td>1867_120_1261</td>\n",
       "      <td>598004.050616</td>\n",
       "      <td>1007</td>\n",
       "      <td>71760.486074</td>\n",
       "      <td>19.933468</td>\n",
       "      <td>185190.935275</td>\n",
       "      <td>142172.715246</td>\n",
       "      <td>103074.274241</td>\n",
       "      <td>185011.306186</td>\n",
       "      <td>141985.509784</td>\n",
       "      <td>106850.666246</td>\n",
       "      <td>160469.904236</td>\n",
       "      <td>160469.904236</td>\n",
       "      <td>184790.333989</td>\n",
       "      <td>142239.309930</td>\n",
       "    </tr>\n",
       "    <tr>\n",
       "      <th>1008</th>\n",
       "      <td>0.042619</td>\n",
       "      <td>POINT (-8.66208 27.29375)</td>\n",
       "      <td>1867_120_1261</td>\n",
       "      <td>598502.714029</td>\n",
       "      <td>1008</td>\n",
       "      <td>71820.325683</td>\n",
       "      <td>19.950090</td>\n",
       "      <td>185250.774884</td>\n",
       "      <td>142232.554856</td>\n",
       "      <td>103134.113851</td>\n",
       "      <td>185071.145796</td>\n",
       "      <td>142045.349393</td>\n",
       "      <td>106910.505856</td>\n",
       "      <td>160529.743846</td>\n",
       "      <td>160529.743846</td>\n",
       "      <td>184850.173599</td>\n",
       "      <td>142299.149539</td>\n",
       "    </tr>\n",
       "    <tr>\n",
       "      <th>1009</th>\n",
       "      <td>0.038052</td>\n",
       "      <td>POINT (-8.65375 27.29375)</td>\n",
       "      <td>1867_120_1261</td>\n",
       "      <td>599002.159554</td>\n",
       "      <td>1009</td>\n",
       "      <td>71880.259146</td>\n",
       "      <td>19.966739</td>\n",
       "      <td>185310.708347</td>\n",
       "      <td>142292.488319</td>\n",
       "      <td>103194.047314</td>\n",
       "      <td>185131.079259</td>\n",
       "      <td>142105.282856</td>\n",
       "      <td>106970.439319</td>\n",
       "      <td>160589.677309</td>\n",
       "      <td>160589.677309</td>\n",
       "      <td>184910.107062</td>\n",
       "      <td>142359.083002</td>\n",
       "    </tr>\n",
       "    <tr>\n",
       "      <th>2475</th>\n",
       "      <td>0.051130</td>\n",
       "      <td>POINT (-8.67042 27.28542)</td>\n",
       "      <td>1867_120_1261</td>\n",
       "      <td>597263.206675</td>\n",
       "      <td>2475</td>\n",
       "      <td>71671.584801</td>\n",
       "      <td>19.908774</td>\n",
       "      <td>185102.034002</td>\n",
       "      <td>142083.813973</td>\n",
       "      <td>102985.372968</td>\n",
       "      <td>184922.404913</td>\n",
       "      <td>141896.608511</td>\n",
       "      <td>106761.764973</td>\n",
       "      <td>160381.002963</td>\n",
       "      <td>160381.002963</td>\n",
       "      <td>184701.432716</td>\n",
       "      <td>142150.408657</td>\n",
       "    </tr>\n",
       "    <tr>\n",
       "      <th>2476</th>\n",
       "      <td>0.039548</td>\n",
       "      <td>POINT (-8.66208 27.28542)</td>\n",
       "      <td>1867_120_1261</td>\n",
       "      <td>597762.516262</td>\n",
       "      <td>2476</td>\n",
       "      <td>71731.501951</td>\n",
       "      <td>19.925417</td>\n",
       "      <td>185161.951152</td>\n",
       "      <td>142143.731124</td>\n",
       "      <td>103045.290119</td>\n",
       "      <td>184982.322064</td>\n",
       "      <td>141956.525661</td>\n",
       "      <td>106821.682124</td>\n",
       "      <td>160440.920114</td>\n",
       "      <td>160440.920114</td>\n",
       "      <td>184761.349867</td>\n",
       "      <td>142210.325807</td>\n",
       "    </tr>\n",
       "  </tbody>\n",
       "</table>\n",
       "</div>"
      ],
      "text/plain": [
       "           origin                                                           \\\n",
       "              Pop                   geometry             NN        NN_dist   \n",
       "pointid                                                                      \n",
       "1007     0.048485  POINT (-8.67042 27.29375)  1867_120_1261  598004.050616   \n",
       "1008     0.042619  POINT (-8.66208 27.29375)  1867_120_1261  598502.714029   \n",
       "1009     0.038052  POINT (-8.65375 27.29375)  1867_120_1261  599002.159554   \n",
       "2475     0.051130  POINT (-8.67042 27.28542)  1867_120_1261  597263.206675   \n",
       "2476     0.039548  POINT (-8.66208 27.28542)  1867_120_1261  597762.516262   \n",
       "\n",
       "                                                        city                 \\\n",
       "        pointid NN_dist_seconds NN_dist_hours              0              1   \n",
       "pointid                                                                       \n",
       "1007       1007    71760.486074     19.933468  185190.935275  142172.715246   \n",
       "1008       1008    71820.325683     19.950090  185250.774884  142232.554856   \n",
       "1009       1009    71880.259146     19.966739  185310.708347  142292.488319   \n",
       "2475       2475    71671.584801     19.908774  185102.034002  142083.813973   \n",
       "2476       2476    71731.501951     19.925417  185161.951152  142143.731124   \n",
       "\n",
       "               airport                                               \\\n",
       "                     2              3              4              5   \n",
       "pointid                                                               \n",
       "1007     103074.274241  185011.306186  141985.509784  106850.666246   \n",
       "1008     103134.113851  185071.145796  142045.349393  106910.505856   \n",
       "1009     103194.047314  185131.079259  142105.282856  106970.439319   \n",
       "2475     102985.372968  184922.404913  141896.608511  106761.764973   \n",
       "2476     103045.290119  184982.322064  141956.525661  106821.682124   \n",
       "\n",
       "                border                          port                 \n",
       "                     6              7              8              9  \n",
       "pointid                                                              \n",
       "1007     160469.904236  160469.904236  184790.333989  142239.309930  \n",
       "1008     160529.743846  160529.743846  184850.173599  142299.149539  \n",
       "1009     160589.677309  160589.677309  184910.107062  142359.083002  \n",
       "2475     160381.002963  160381.002963  184701.432716  142150.408657  \n",
       "2476     160440.920114  160440.920114  184761.349867  142210.325807  "
      ]
     },
     "execution_count": 37,
     "metadata": {},
     "output_type": "execute_result"
    }
   ],
   "source": [
    "origins_join2.head()"
   ]
  },
  {
   "cell_type": "code",
   "execution_count": 38,
   "metadata": {},
   "outputs": [],
   "source": [
    "origins_join2.to_csv(os.path.join(out_folder, 'OD_03_04.csv'))"
   ]
  },
  {
   "cell_type": "code",
   "execution_count": 39,
   "metadata": {},
   "outputs": [],
   "source": [
    "od_cities = np.array(origins_join2['city'])"
   ]
  },
  {
   "cell_type": "markdown",
   "metadata": {},
   "source": [
    "### Calculate gravity"
   ]
  },
  {
   "cell_type": "code",
   "execution_count": 40,
   "metadata": {
    "scrolled": false
   },
   "outputs": [
    {
     "name": "stdout",
     "output_type": "stream",
     "text": [
      "CPU times: user 33min 34s, sys: 5.92 s, total: 33min 40s\n",
      "Wall time: 33min 38s\n"
     ]
    }
   ],
   "source": [
    "%%time\n",
    "access_cities = calcOD.calculate_gravity(od_cities, dWeight = dest_all.Pop[origins_join2['city'].columns])"
   ]
  },
  {
   "cell_type": "code",
   "execution_count": 41,
   "metadata": {},
   "outputs": [],
   "source": [
    "access_cities.index = origins_join2.index"
   ]
  },
  {
   "cell_type": "code",
   "execution_count": 42,
   "metadata": {},
   "outputs": [],
   "source": [
    "access_cities_results = origins_snapped.join(access_cities).rename(columns = {\n",
    "        'd_0.01': 'd_1',\n",
    "        'd_0.005': 'd_2',\n",
    "        'd_0.001' : 'd_3',\n",
    "        'd_0.0007701635' : 'd_4',   # Market access halves every 15 mins\n",
    "        'd_0.0003850818' : 'd_5',   # Market access halves every 30 mins\n",
    "        'd_0.0001925409' : 'd_6',   # Market access halves every 60 mins\n",
    "        'd_9.62704e-05' : 'd_7',   # Market access halves every 120 mins\n",
    "        'd_3.85082e-05' : 'd_8',   # Market access halves every 300 mins\n",
    "        'd_1e-05' : 'd_9'\n",
    "    })"
   ]
  },
  {
   "cell_type": "markdown",
   "metadata": {},
   "source": [
    "#### Convert to raster and save results"
   ]
  },
  {
   "cell_type": "code",
   "execution_count": 43,
   "metadata": {},
   "outputs": [],
   "source": [
    "raster_path = wp_1km"
   ]
  },
  {
   "cell_type": "code",
   "execution_count": 44,
   "metadata": {},
   "outputs": [],
   "source": [
    "output_path = os.path.join(out_folder, \"access\")\n",
    "if not os.path.exists(output_path):\n",
    "    os.mkdir(output_path)"
   ]
  },
  {
   "cell_type": "code",
   "execution_count": 45,
   "metadata": {},
   "outputs": [
    {
     "data": {
      "text/plain": [
       "<AxesSubplot:>"
      ]
     },
     "execution_count": 45,
     "metadata": {},
     "output_type": "execute_result"
    },
    {
     "data": {
      "image/png": "[encoded data removed]",
      "text/plain": [
       "<Figure size 504x504 with 1 Axes>"
      ]
     },
     "metadata": {
      "needs_background": "light"
     },
     "output_type": "display_data"
    }
   ],
   "source": [
    "access_cities_results.plot(column='d_5', figsize=(7,7), markersize=1)"
   ]
  },
  {
   "cell_type": "code",
   "execution_count": null,
   "metadata": {},
   "outputs": [
    {
     "name": "stdout",
     "output_type": "stream",
     "text": [
      "writing 5\n",
      "writing 6\n",
      "writing 7\n",
      "writing 8\n"
     ]
    }
   ],
   "source": [
    "for d in range(5,10):\n",
    "    print(f'writing {d}')\n",
    "    aggregator.rasterize_gdf(access_cities_results, f'd_{d}', template=raster_path, outFile=os.path.join(output_path,f\"access_cities_d{d}.tif\"))"
   ]
  },
  {
   "cell_type": "markdown",
   "metadata": {},
   "source": [
    "### Make rasters of min travel time to each dest"
   ]
  },
  {
   "cell_type": "code",
   "execution_count": 59,
   "metadata": {},
   "outputs": [
    {
     "data": {
      "text/plain": [
       "'/home/wb514197/data/INFRA_SAP/MRT/output'"
      ]
     },
     "execution_count": 59,
     "metadata": {},
     "output_type": "execute_result"
    }
   ],
   "source": [
    "out_folder"
   ]
  },
  {
   "cell_type": "code",
   "execution_count": 60,
   "metadata": {},
   "outputs": [],
   "source": [
    "output_path = os.path.join(out_folder, \"travel_time\")\n",
    "if not os.path.exists(output_path):\n",
    "    os.mkdir(output_path)"
   ]
  },
  {
   "cell_type": "code",
   "execution_count": 61,
   "metadata": {},
   "outputs": [],
   "source": [
    "# CHECK THAT MOST POPULATED CITY IS THE CAPITAL\n",
    "cap_idx = dest_all.sort_values('Pop', ascending=False).iloc[[0]].index[0]"
   ]
  },
  {
   "cell_type": "code",
   "execution_count": 62,
   "metadata": {},
   "outputs": [],
   "source": [
    "city_min = pd.DataFrame(origins_join2['city'].min(axis=1).apply(lambda x: (x/3600)), columns=[\"tt_city\"])\n",
    "ports_min = pd.DataFrame(origins_join2['port'].min(axis=1).apply(lambda x: (x/3600)), columns=[\"tt_port\"])\n",
    "airports_min = pd.DataFrame(origins_join2['airport'].min(axis=1).apply(lambda x: (x/3600)), columns=[\"tt_airport\"])\n",
    "borders_min = pd.DataFrame(origins_join2['border'].min(axis=1).apply(lambda x: (x/3600)), columns=[\"tt_border\"])\n",
    "capital_tt = origins_join2['city'].loc[:,[cap_idx]].apply(lambda x: (x/3600)).rename(columns={cap_idx:'tt_capital'})"
   ]
  },
  {
   "cell_type": "code",
   "execution_count": 66,
   "metadata": {},
   "outputs": [],
   "source": [
    "origins_tt = origins_snapped.join([city_min, airports_min, borders_min, capital_tt, ports_min])"
   ]
  },
  {
   "cell_type": "code",
   "execution_count": 67,
   "metadata": {},
   "outputs": [
    {
     "data": {
      "text/plain": [
       "'/home/wb514197/data/INFRA_SAP/MRT/output/travel_time'"
      ]
     },
     "execution_count": 67,
     "metadata": {},
     "output_type": "execute_result"
    }
   ],
   "source": [
    "output_path"
   ]
  },
  {
   "cell_type": "code",
   "execution_count": 68,
   "metadata": {},
   "outputs": [],
   "source": [
    "aggregator.rasterize_gdf(origins_tt, 'tt_city', raster_path, os.path.join(output_path,f\"cities_min_tt.tif\"))\n",
    "aggregator.rasterize_gdf(origins_tt, 'tt_port', raster_path, os.path.join(output_path,f\"port_min_tt.tif\"))\n",
    "aggregator.rasterize_gdf(origins_tt, 'tt_airport', raster_path, os.path.join(output_path,f\"airport_min_tt.tif\"))\n",
    "aggregator.rasterize_gdf(origins_tt, 'tt_border', raster_path, os.path.join(output_path,f\"borders_min_tt.tif\"))\n",
    "aggregator.rasterize_gdf(origins_tt, 'tt_capital', raster_path, os.path.join(output_path,f\"capital_tt.tif\"))"
   ]
  }
 ],
 "metadata": {
  "kernelspec": {
   "display_name": "GEO",
   "language": "python",
   "name": "geo"
  },
  "language_info": {
   "codemirror_mode": {
    "name": "ipython",
    "version": 3
   },
   "file_extension": ".py",
   "mimetype": "text/x-python",
   "name": "python",
   "nbconvert_exporter": "python",
   "pygments_lexer": "ipython3",
   "version": "3.7.6"
  }
 },
 "nbformat": 4,
 "nbformat_minor": 2
}
