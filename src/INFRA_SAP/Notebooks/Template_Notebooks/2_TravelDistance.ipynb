{
 "cells": [
  {
   "cell_type": "markdown",
   "metadata": {},
   "source": [
    "## Country-level INFRA-SAP\n"
   ]
  },
  {
   "cell_type": "markdown",
   "metadata": {},
   "source": [
    "- Origins: Population grid (Worldpop downsampled to 500 meters)\n",
    "- Destinations: Cities, airports, border crossings, and ports\n",
    "\n",
    "Typical access analysis with two adjustments:\n",
    "    1. Extract different sets of destinations from OD\n",
    "    2. Join travel time to origin grid based on \"NN with the fastest route\" (not necessarily closest NN)"
   ]
  },
  {
   "cell_type": "code",
   "execution_count": 1,
   "metadata": {},
   "outputs": [],
   "source": [
    "import os, sys, time, importlib\n",
    "\n",
    "import geopandas as gpd\n",
    "import pandas as pd\n",
    "import networkx as nx\n",
    "sys.path.append('/home/wb514197/Repos/GOSTnets')\n",
    "\n",
    "import GOSTnets as gn\n",
    "import GOSTnets.calculate_od_raw as calcOD\n",
    "from GOSTnets.load_osm import *\n",
    "import rasterio as rio\n",
    "from osgeo import gdal\n",
    "import numpy as np\n",
    "from shapely.geometry import Point\n",
    "\n",
    "sys.path.append('/home/wb514197/Repos/INFRA_SAP')\n",
    "from infrasap import aggregator\n",
    "from utm_zone import epsg as epsg_get\n",
    "import json\n",
    "\n",
    "from shapely.wkt import loads\n",
    "\n",
    "%load_ext autoreload\n",
    "%autoreload 2"
   ]
  },
  {
   "cell_type": "code",
   "execution_count": 2,
   "metadata": {},
   "outputs": [],
   "source": [
    "country = 'mauritania'\n",
    "iso3 = 'MRT'"
   ]
  },
  {
   "cell_type": "markdown",
   "metadata": {},
   "source": [
    "### Load origins and graph"
   ]
  },
  {
   "cell_type": "code",
   "execution_count": 3,
   "metadata": {},
   "outputs": [],
   "source": [
    "# base_in = \"/home/public/Data/PROJECTS/INFRA_SAP\"\n",
    "base_in = \"/home/wb514197/data/INFRA_SAP\"\n",
    "in_folder = os.path.join(base_in, iso3)\n",
    "\n",
    "# define data paths\n",
    "focal_admin2 = os.path.join(in_folder, \"admin.shp\")\n",
    "focal_osm = os.path.join(in_folder, f\"{country}-latest.osm.pbf\")\n",
    "pop_name = \"WP_2020_1km\"\n",
    "wp_1km = os.path.join(in_folder, f\"{pop_name}.tif\")\n",
    "urban_extents = os.path.join(in_folder, \"urban_extents.shp\")\n",
    "airports = os.path.join(in_folder, \"airports.shp\")\n",
    "ports = os.path.join(in_folder, \"ports.shp\")\n",
    "borders = os.path.join(in_folder, \"borders.shp\")\n",
    "\n",
    "# base_out = \"/home/wb514197/data/INFRA_SAP\" # GOT permission denied using public \n",
    "# out_folder = os.path.join(base_out, iso3)\n",
    "out_folder = os.path.join(in_folder, \"output\")\n",
    "\n",
    "if not os.path.exists(out_folder):\n",
    "    os.makedirs(out_folder)"
   ]
  },
  {
   "cell_type": "markdown",
   "metadata": {},
   "source": [
    "Convert **WP_2020_1km.tif** into a point GeoData frame"
   ]
  },
  {
   "cell_type": "code",
   "execution_count": 4,
   "metadata": {},
   "outputs": [],
   "source": [
    "out_pop_csv = os.path.join(out_folder, f\"{pop_name}.csv\")\n",
    "wp_df = pd.read_csv(out_pop_csv, sep=' ')\n",
    "wp_df.rename(columns={\"Z\":\"Pop\"}, inplace=True)\n",
    "wp_df = wp_df.loc[wp_df.Pop!=-99999.0].copy()\n",
    "geoms = [Point(xy) for xy in zip(wp_df.X, wp_df.Y)]\n",
    "wp_df.drop([\"X\",\"Y\"], axis=1, inplace=True)\n",
    "crs = 'EPSG:4326'\n",
    "origins = gpd.GeoDataFrame(wp_df, crs=crs, geometry=geoms)\n",
    "origins['pointid'] = origins.index"
   ]
  },
  {
   "cell_type": "markdown",
   "metadata": {},
   "source": [
    "### Prepare Graph"
   ]
  },
  {
   "cell_type": "code",
   "execution_count": 5,
   "metadata": {},
   "outputs": [],
   "source": [
    "G_time = nx.read_gpickle(os.path.join(out_folder, 'graph', f'G_{iso3}_Salt.pickle'))"
   ]
  },
  {
   "cell_type": "markdown",
   "metadata": {},
   "source": [
    "#### Select largest graph (again)"
   ]
  },
  {
   "cell_type": "code",
   "execution_count": 6,
   "metadata": {},
   "outputs": [],
   "source": [
    "list_of_subgraphs = [G_time.subgraph(c).copy() for c in sorted(nx.strongly_connected_components(G_time), key=len, reverse=True)]"
   ]
  },
  {
   "cell_type": "code",
   "execution_count": 7,
   "metadata": {},
   "outputs": [],
   "source": [
    "G_largest = list_of_subgraphs[0]"
   ]
  },
  {
   "cell_type": "markdown",
   "metadata": {},
   "source": [
    "### Prepare destinations"
   ]
  },
  {
   "cell_type": "code",
   "execution_count": 8,
   "metadata": {},
   "outputs": [],
   "source": [
    "def load_csv(csv_path, geometry = 'geometry', crs = 'epsg:4326'):\n",
    "    df = pd.read_csv(csv_path, index_col=0)\n",
    "    df[geometry] = df[geometry].apply(loads)\n",
    "    gdf = gpd.GeoDataFrame(df, crs = crs)\n",
    "    return(gdf)"
   ]
  },
  {
   "cell_type": "code",
   "execution_count": 9,
   "metadata": {},
   "outputs": [],
   "source": [
    "dest_all = load_csv(os.path.join(out_folder, 'destination_all.csv'))"
   ]
  },
  {
   "cell_type": "code",
   "execution_count": 10,
   "metadata": {},
   "outputs": [
    {
     "data": {
      "text/plain": [
       "(1301390, 10)"
      ]
     },
     "execution_count": 10,
     "metadata": {},
     "output_type": "execute_result"
    }
   ],
   "source": [
    "len(origins), len(dest_all)"
   ]
  },
  {
   "cell_type": "markdown",
   "metadata": {},
   "source": [
    "### Snap origins and destinations"
   ]
  },
  {
   "cell_type": "markdown",
   "metadata": {},
   "source": [
    "#### Snap to origins to 5 nearest nodes"
   ]
  },
  {
   "cell_type": "code",
   "execution_count": 11,
   "metadata": {},
   "outputs": [],
   "source": [
    "bounds = gpd.read_file(focal_admin2)\n",
    "bounds_json = json.loads(bounds.to_json())\n",
    "epsg = epsg_get(bounds_json)\n",
    "utm = f\"EPSG:{epsg}\""
   ]
  },
  {
   "cell_type": "code",
   "execution_count": 12,
   "metadata": {},
   "outputs": [
    {
     "name": "stdout",
     "output_type": "stream",
     "text": [
      "CPU times: user 2min 43s, sys: 2.75 s, total: 2min 46s\n",
      "Wall time: 2min 45s\n"
     ]
    }
   ],
   "source": [
    "%%time\n",
    "# this function returns a dictionary of origin IDs, with a list of 5 NNs, and a corresponding list of distances\n",
    "origins_snapped_dict = gn.pandana_snap_to_many(G_largest, origins, source_crs='epsg:4326', target_crs=utm, \n",
    "                                               add_dist_to_node_col = True, k_nearest=5, origin_id='pointid')"
   ]
  },
  {
   "cell_type": "code",
   "execution_count": 13,
   "metadata": {},
   "outputs": [],
   "source": [
    "dest_snapped = gn.pandana_snap_c(G_largest, dest_all, source_crs='epsg:4326', target_crs=utm,\n",
    "                                 add_dist_to_node_col = False)"
   ]
  },
  {
   "cell_type": "code",
   "execution_count": 14,
   "metadata": {},
   "outputs": [],
   "source": [
    "# origins_unique_nn = list(set(origins_snapped['NN']))\n",
    "dest_nn = list(dest_snapped['NN'])\n",
    "list_origins_NN = []\n",
    "for each in origins_snapped_dict.values():\n",
    "    list_origins_NN += each['NN']\n",
    "origins_unique_nn = list(set(list_origins_NN))"
   ]
  },
  {
   "cell_type": "code",
   "execution_count": 15,
   "metadata": {},
   "outputs": [
    {
     "name": "stdout",
     "output_type": "stream",
     "text": [
      "CPU times: user 46 ms, sys: 1e+03 µs, total: 47 ms\n",
      "Wall time: 46 ms\n"
     ]
    }
   ],
   "source": [
    "%%time\n",
    "curOD = gn.calculate_OD(G_largest, origins_unique_nn, dest_nn, fail_value = 999999999, weight='length')"
   ]
  },
  {
   "cell_type": "code",
   "execution_count": 16,
   "metadata": {},
   "outputs": [
    {
     "data": {
      "text/plain": [
       "array([], dtype=float64)"
      ]
     },
     "execution_count": 16,
     "metadata": {},
     "output_type": "execute_result"
    }
   ],
   "source": [
    "curOD[curOD==999999999]"
   ]
  },
  {
   "cell_type": "code",
   "execution_count": 17,
   "metadata": {},
   "outputs": [
    {
     "data": {
      "text/plain": [
       "(1322, 10)"
      ]
     },
     "execution_count": 17,
     "metadata": {},
     "output_type": "execute_result"
    }
   ],
   "source": [
    "curOD.shape"
   ]
  },
  {
   "cell_type": "code",
   "execution_count": 18,
   "metadata": {},
   "outputs": [],
   "source": [
    "od_df = pd.DataFrame(curOD, index=origins_unique_nn, columns=dest_nn)"
   ]
  },
  {
   "cell_type": "code",
   "execution_count": 19,
   "metadata": {},
   "outputs": [
    {
     "data": {
      "text/html": [
       "<div>\n",
       "<style scoped>\n",
       "    .dataframe tbody tr th:only-of-type {\n",
       "        vertical-align: middle;\n",
       "    }\n",
       "\n",
       "    .dataframe tbody tr th {\n",
       "        vertical-align: top;\n",
       "    }\n",
       "\n",
       "    .dataframe thead th {\n",
       "        text-align: right;\n",
       "    }\n",
       "</style>\n",
       "<table border=\"1\" class=\"dataframe\">\n",
       "  <thead>\n",
       "    <tr style=\"text-align: right;\">\n",
       "      <th></th>\n",
       "      <th>631</th>\n",
       "      <th>new_obj_364</th>\n",
       "      <th>1646</th>\n",
       "      <th>new_obj_468</th>\n",
       "      <th>new_obj_378</th>\n",
       "      <th>151_19_167</th>\n",
       "      <th>387</th>\n",
       "      <th>387</th>\n",
       "      <th>new_obj_470</th>\n",
       "      <th>new_obj_372</th>\n",
       "    </tr>\n",
       "  </thead>\n",
       "  <tbody>\n",
       "    <tr>\n",
       "      <th>279_25_152</th>\n",
       "      <td>9.532543e+05</td>\n",
       "      <td>477151.189552</td>\n",
       "      <td>42160.137926</td>\n",
       "      <td>9.516708e+05</td>\n",
       "      <td>475072.483747</td>\n",
       "      <td>73020.000000</td>\n",
       "      <td>680453.289441</td>\n",
       "      <td>680453.289441</td>\n",
       "      <td>9.492155e+05</td>\n",
       "      <td>477891.130480</td>\n",
       "    </tr>\n",
       "    <tr>\n",
       "      <th>1604_63_594</th>\n",
       "      <td>6.437075e+05</td>\n",
       "      <td>164805.219074</td>\n",
       "      <td>596836.522591</td>\n",
       "      <td>6.421240e+05</td>\n",
       "      <td>166883.924879</td>\n",
       "      <td>634908.996262</td>\n",
       "      <td>220367.761428</td>\n",
       "      <td>220367.761428</td>\n",
       "      <td>6.396688e+05</td>\n",
       "      <td>167418.472183</td>\n",
       "    </tr>\n",
       "    <tr>\n",
       "      <th>new_obj_328_104_1063</th>\n",
       "      <td>9.619779e+05</td>\n",
       "      <td>483075.681720</td>\n",
       "      <td>687440.648781</td>\n",
       "      <td>9.603945e+05</td>\n",
       "      <td>485154.387524</td>\n",
       "      <td>725513.122452</td>\n",
       "      <td>477353.224074</td>\n",
       "      <td>477353.224074</td>\n",
       "      <td>9.579392e+05</td>\n",
       "      <td>485688.934828</td>\n",
       "    </tr>\n",
       "    <tr>\n",
       "      <th>1867_116_1257</th>\n",
       "      <td>1.237818e+06</td>\n",
       "      <td>761714.747023</td>\n",
       "      <td>326723.695397</td>\n",
       "      <td>1.236234e+06</td>\n",
       "      <td>759636.041218</td>\n",
       "      <td>357583.557471</td>\n",
       "      <td>965016.846911</td>\n",
       "      <td>965016.846911</td>\n",
       "      <td>1.233779e+06</td>\n",
       "      <td>762454.687951</td>\n",
       "    </tr>\n",
       "    <tr>\n",
       "      <th>18</th>\n",
       "      <td>1.167428e+06</td>\n",
       "      <td>688525.938837</td>\n",
       "      <td>892890.905898</td>\n",
       "      <td>1.165845e+06</td>\n",
       "      <td>690604.644641</td>\n",
       "      <td>930963.379569</td>\n",
       "      <td>682803.481191</td>\n",
       "      <td>682803.481191</td>\n",
       "      <td>1.163389e+06</td>\n",
       "      <td>691139.191945</td>\n",
       "    </tr>\n",
       "  </tbody>\n",
       "</table>\n",
       "</div>"
      ],
      "text/plain": [
       "                               631    new_obj_364           1646  \\\n",
       "279_25_152            9.532543e+05  477151.189552   42160.137926   \n",
       "1604_63_594           6.437075e+05  164805.219074  596836.522591   \n",
       "new_obj_328_104_1063  9.619779e+05  483075.681720  687440.648781   \n",
       "1867_116_1257         1.237818e+06  761714.747023  326723.695397   \n",
       "18                    1.167428e+06  688525.938837  892890.905898   \n",
       "\n",
       "                       new_obj_468    new_obj_378     151_19_167  \\\n",
       "279_25_152            9.516708e+05  475072.483747   73020.000000   \n",
       "1604_63_594           6.421240e+05  166883.924879  634908.996262   \n",
       "new_obj_328_104_1063  9.603945e+05  485154.387524  725513.122452   \n",
       "1867_116_1257         1.236234e+06  759636.041218  357583.557471   \n",
       "18                    1.165845e+06  690604.644641  930963.379569   \n",
       "\n",
       "                                387            387   new_obj_470  \\\n",
       "279_25_152            680453.289441  680453.289441  9.492155e+05   \n",
       "1604_63_594           220367.761428  220367.761428  6.396688e+05   \n",
       "new_obj_328_104_1063  477353.224074  477353.224074  9.579392e+05   \n",
       "1867_116_1257         965016.846911  965016.846911  1.233779e+06   \n",
       "18                    682803.481191  682803.481191  1.163389e+06   \n",
       "\n",
       "                        new_obj_372  \n",
       "279_25_152            477891.130480  \n",
       "1604_63_594           167418.472183  \n",
       "new_obj_328_104_1063  485688.934828  \n",
       "1867_116_1257         762454.687951  \n",
       "18                    691139.191945  "
      ]
     },
     "execution_count": 19,
     "metadata": {},
     "output_type": "execute_result"
    }
   ],
   "source": [
    "od_df.head()"
   ]
  },
  {
   "cell_type": "markdown",
   "metadata": {},
   "source": [
    "For each origin set of 5 (k) possible NN:\n",
    "    - Add snapping dist (in time) + time to a destination\n",
    "    - Which destination? min time from all of them won't necessarily work, so we need to find the closest destination for each origin, and select the NN which yields the fastest travel time to that dest\n",
    "    - closest_dest.idx should match the OD column order."
   ]
  },
  {
   "cell_type": "code",
   "execution_count": 20,
   "metadata": {},
   "outputs": [
    {
     "name": "stdout",
     "output_type": "stream",
     "text": [
      "CPU times: user 1min 4s, sys: 1.98 s, total: 1min 6s\n",
      "Wall time: 1min 6s\n"
     ]
    }
   ],
   "source": [
    "%%time\n",
    "closest_dest = gn.pandana_snap_points(origins, dest_all, source_crs='epsg:4326', target_crs=utm,\n",
    "                                      add_dist_to_node_col=True)"
   ]
  },
  {
   "cell_type": "code",
   "execution_count": 21,
   "metadata": {},
   "outputs": [],
   "source": [
    "closest_dest = closest_dest.set_index('pointid')"
   ]
  },
  {
   "cell_type": "code",
   "execution_count": 22,
   "metadata": {},
   "outputs": [
    {
     "data": {
      "text/html": [
       "<div>\n",
       "<style scoped>\n",
       "    .dataframe tbody tr th:only-of-type {\n",
       "        vertical-align: middle;\n",
       "    }\n",
       "\n",
       "    .dataframe tbody tr th {\n",
       "        vertical-align: top;\n",
       "    }\n",
       "\n",
       "    .dataframe thead th {\n",
       "        text-align: right;\n",
       "    }\n",
       "</style>\n",
       "<table border=\"1\" class=\"dataframe\">\n",
       "  <thead>\n",
       "    <tr style=\"text-align: right;\">\n",
       "      <th></th>\n",
       "      <th>Pop</th>\n",
       "      <th>geometry</th>\n",
       "      <th>idx</th>\n",
       "      <th>idx_dist</th>\n",
       "    </tr>\n",
       "    <tr>\n",
       "      <th>pointid</th>\n",
       "      <th></th>\n",
       "      <th></th>\n",
       "      <th></th>\n",
       "      <th></th>\n",
       "    </tr>\n",
       "  </thead>\n",
       "  <tbody>\n",
       "    <tr>\n",
       "      <th>1007</th>\n",
       "      <td>0.048485</td>\n",
       "      <td>POINT (1127094.521 3034897.174)</td>\n",
       "      <td>5</td>\n",
       "      <td>857837.832349</td>\n",
       "    </tr>\n",
       "    <tr>\n",
       "      <th>1008</th>\n",
       "      <td>0.042619</td>\n",
       "      <td>POINT (1127922.097 3034939.298)</td>\n",
       "      <td>5</td>\n",
       "      <td>858254.231858</td>\n",
       "    </tr>\n",
       "    <tr>\n",
       "      <th>1009</th>\n",
       "      <td>0.038052</td>\n",
       "      <td>POINT (1128749.680 3034981.479)</td>\n",
       "      <td>5</td>\n",
       "      <td>858671.282668</td>\n",
       "    </tr>\n",
       "    <tr>\n",
       "      <th>2475</th>\n",
       "      <td>0.051130</td>\n",
       "      <td>POINT (1127141.634 3033970.854)</td>\n",
       "      <td>5</td>\n",
       "      <td>857035.837519</td>\n",
       "    </tr>\n",
       "    <tr>\n",
       "      <th>2476</th>\n",
       "      <td>0.039548</td>\n",
       "      <td>POINT (1127969.272 3034012.969)</td>\n",
       "      <td>5</td>\n",
       "      <td>857452.647651</td>\n",
       "    </tr>\n",
       "  </tbody>\n",
       "</table>\n",
       "</div>"
      ],
      "text/plain": [
       "              Pop                         geometry  idx       idx_dist\n",
       "pointid                                                               \n",
       "1007     0.048485  POINT (1127094.521 3034897.174)    5  857837.832349\n",
       "1008     0.042619  POINT (1127922.097 3034939.298)    5  858254.231858\n",
       "1009     0.038052  POINT (1128749.680 3034981.479)    5  858671.282668\n",
       "2475     0.051130  POINT (1127141.634 3033970.854)    5  857035.837519\n",
       "2476     0.039548  POINT (1127969.272 3034012.969)    5  857452.647651"
      ]
     },
     "execution_count": 22,
     "metadata": {},
     "output_type": "execute_result"
    }
   ],
   "source": [
    "closest_dest.head()"
   ]
  },
  {
   "cell_type": "code",
   "execution_count": 23,
   "metadata": {},
   "outputs": [
    {
     "name": "stdout",
     "output_type": "stream",
     "text": [
      "CPU times: user 14min 3s, sys: 968 ms, total: 14min 4s\n",
      "Wall time: 14min 4s\n"
     ]
    }
   ],
   "source": [
    "%%time\n",
    "fastest_nn = []\n",
    "fastest_dist = []\n",
    "custom_speed = 20 # km/h\n",
    "\n",
    "for pointid, items in origins_snapped_dict.items():\n",
    "    dest_index = closest_dest.loc[pointid].idx\n",
    "    nn_list = items['NN']\n",
    "    dist_list = items['NN_dist']\n",
    "    total_dist_list = []\n",
    "    for i in range(0, len(nn_list)):\n",
    "        dist_snapping = dist_list[i]\n",
    "#         time_snapping = ((dist_list[i] / 1000) / custom_speed) * 60 * 60\n",
    "        dist_to_dest = od_df.loc[nn_list[i]].iloc[dest_index]\n",
    "#         time_to_dest = od_df.loc[nn_list[i]].iloc[dest_index]\n",
    "        total_dist = dist_snapping+dist_to_dest\n",
    "#         total_time = time_snapping+time_to_dest\n",
    "        total_dist_list.append(total_dist)\n",
    "#         print(f\"id: {nn_list[i]}, snapping dist (km): {dist_list[i]/1000:.2f}, time to dest (min): {(total_time/60)/60:.2f}\")\n",
    "    min_pos = total_dist_list.index(min(total_dist_list))\n",
    "    fastest_nn.append(nn_list[min_pos])\n",
    "    fastest_dist.append(dist_list[min_pos])\n",
    "#     origins_snapped_smart.loc[pointid, \"NN\"] = nn_list[min_pos]\n",
    "#     origins_snapped_smart.loc[pointid, \"NN_dist\"] = dist_list[min_pos]"
   ]
  },
  {
   "cell_type": "code",
   "execution_count": 24,
   "metadata": {},
   "outputs": [],
   "source": [
    "origins_snapped = origins.copy().set_index('pointid')\n",
    "origins_snapped['NN'] = pd.Series(fastest_nn, index = origins_snapped.index)\n",
    "origins_snapped['NN_dist'] = pd.Series(fastest_dist, index = origins_snapped.index)\n",
    "origins_snapped['pointid'] = origins_snapped.index\n",
    "origins_snapped['NN_dist_hours'] = ((origins_snapped.NN_dist / 1000) / custom_speed)"
   ]
  },
  {
   "cell_type": "code",
   "execution_count": 25,
   "metadata": {},
   "outputs": [],
   "source": [
    "origins_join = origins_snapped.join(od_df, on='NN')"
   ]
  },
  {
   "cell_type": "code",
   "execution_count": 26,
   "metadata": {},
   "outputs": [
    {
     "data": {
      "text/plain": [
       "True"
      ]
     },
     "execution_count": 26,
     "metadata": {},
     "output_type": "execute_result"
    }
   ],
   "source": [
    "all(origins_join.columns[6:] == dest_snapped.NN)"
   ]
  },
  {
   "cell_type": "code",
   "execution_count": 27,
   "metadata": {},
   "outputs": [],
   "source": [
    "origins_join_rename = origins_join.copy()\n",
    "origins_join_rename.columns = pd.MultiIndex.from_arrays([['origin' for each in origins_snapped.columns]+list(dest_snapped.dest_type), origins_snapped.columns.append(dest_snapped.index)])"
   ]
  },
  {
   "cell_type": "markdown",
   "metadata": {},
   "source": [
    "Add snapping distance"
   ]
  },
  {
   "cell_type": "code",
   "execution_count": 28,
   "metadata": {},
   "outputs": [],
   "source": [
    "origins_join2 = origins_join_rename.apply(lambda x: (x + origins_join_rename.origin.NN_dist)/1000 if x.name[1] in dest_snapped.index else x)"
   ]
  },
  {
   "cell_type": "code",
   "execution_count": 29,
   "metadata": {},
   "outputs": [
    {
     "data": {
      "text/plain": [
       "'/home/wb514197/data/INFRA_SAP/MRT/output'"
      ]
     },
     "execution_count": 29,
     "metadata": {},
     "output_type": "execute_result"
    }
   ],
   "source": [
    "out_folder"
   ]
  },
  {
   "cell_type": "code",
   "execution_count": 30,
   "metadata": {},
   "outputs": [],
   "source": [
    "origins_join2.to_csv(os.path.join(out_folder, 'OD_03_05_Distances.csv'))"
   ]
  },
  {
   "cell_type": "markdown",
   "metadata": {},
   "source": [
    "### Make rasters of min travel time to each dest"
   ]
  },
  {
   "cell_type": "code",
   "execution_count": 31,
   "metadata": {},
   "outputs": [],
   "source": [
    "raster_path = wp_1km"
   ]
  },
  {
   "cell_type": "code",
   "execution_count": 32,
   "metadata": {},
   "outputs": [],
   "source": [
    "output_path = os.path.join(out_folder, \"travel_distance\")\n",
    "if not os.path.exists(output_path):\n",
    "    os.mkdir(output_path)"
   ]
  },
  {
   "cell_type": "code",
   "execution_count": 33,
   "metadata": {},
   "outputs": [],
   "source": [
    "# CHECK THAT MOST POPULATED CITY IS THE CAPITAL\n",
    "cap_idx = dest_all.sort_values('Pop', ascending=False).iloc[[0]].index[0]"
   ]
  },
  {
   "cell_type": "code",
   "execution_count": 34,
   "metadata": {},
   "outputs": [],
   "source": [
    "city_min = pd.DataFrame(origins_join2['city'].min(axis=1), columns=[\"dist_city\"])\n",
    "ports_min = pd.DataFrame(origins_join2['port'].min(axis=1), columns=[\"dist_port\"])\n",
    "airports_min = pd.DataFrame(origins_join2['airport'].min(axis=1), columns=[\"dist_airport\"])\n",
    "borders_min = pd.DataFrame(origins_join2['border'].min(axis=1), columns=[\"dist_border\"])\n",
    "capital_dist = origins_join2['city'].loc[:,[cap_idx]].rename(columns={cap_idx:'dist_capital'})"
   ]
  },
  {
   "cell_type": "code",
   "execution_count": 35,
   "metadata": {},
   "outputs": [],
   "source": [
    "origins_dist = origins_snapped.join([city_min, airports_min, borders_min, capital_dist, ports_min])"
   ]
  },
  {
   "cell_type": "code",
   "execution_count": 36,
   "metadata": {},
   "outputs": [
    {
     "data": {
      "text/plain": [
       "Index(['Pop', 'geometry', 'NN', 'NN_dist', 'pointid', 'NN_dist_hours',\n",
       "       'dist_city', 'dist_airport', 'dist_border', 'dist_capital',\n",
       "       'dist_port'],\n",
       "      dtype='object')"
      ]
     },
     "execution_count": 36,
     "metadata": {},
     "output_type": "execute_result"
    }
   ],
   "source": [
    "origins_dist.columns"
   ]
  },
  {
   "cell_type": "code",
   "execution_count": 37,
   "metadata": {},
   "outputs": [],
   "source": [
    "aggregator.rasterize_gdf(origins_dist, 'dist_city', raster_path, os.path.join(output_path,f\"cities_min_dist.tif\"))\n",
    "aggregator.rasterize_gdf(origins_dist, 'dist_port', raster_path, os.path.join(output_path,f\"port_min_dist.tif\"))\n",
    "aggregator.rasterize_gdf(origins_dist, 'dist_airport', raster_path, os.path.join(output_path,f\"airport_min_dist.tif\"))\n",
    "aggregator.rasterize_gdf(origins_dist, 'dist_border', raster_path, os.path.join(output_path,f\"borders_min_dist.tif\"))\n",
    "aggregator.rasterize_gdf(origins_dist, 'dist_capital', raster_path, os.path.join(output_path,f\"capital_dist.tif\"))"
   ]
  }
 ],
 "metadata": {
  "kernelspec": {
   "display_name": "GEO",
   "language": "python",
   "name": "geo"
  },
  "language_info": {
   "codemirror_mode": {
    "name": "ipython",
    "version": 3
   },
   "file_extension": ".py",
   "mimetype": "text/x-python",
   "name": "python",
   "nbconvert_exporter": "python",
   "pygments_lexer": "ipython3",
   "version": "3.7.6"
  }
 },
 "nbformat": 4,
 "nbformat_minor": 2
}
