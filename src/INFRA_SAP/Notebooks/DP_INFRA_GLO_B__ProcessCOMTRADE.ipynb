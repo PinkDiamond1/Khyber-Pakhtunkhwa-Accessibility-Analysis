{
 "cells": [
  {
   "cell_type": "markdown",
   "metadata": {},
   "source": [
    "# Processing COMTRADE flow data\n",
    "\n",
    "This script attempts to process the COMTRADEflow data for energy, coal, oil and gas. The goal is to extract the import, export, and flow data as geospatial information: the tools for which are found in the infra_tools library"
   ]
  },
  {
   "cell_type": "code",
   "execution_count": 1,
   "metadata": {},
   "outputs": [],
   "source": [
    "import sys, os, importlib\n",
    "\n",
    "import pandas as pd\n",
    "import geopandas as gpd\n",
    "import numpy as np\n",
    "\n",
    "from shapely.geometry import Point, LineString\n",
    "\n",
    "sys.path.append('../')\n",
    "\n",
    "from infrasap import process_flows"
   ]
  },
  {
   "cell_type": "code",
   "execution_count": 2,
   "metadata": {},
   "outputs": [],
   "source": [
    "input_file_energy = \"/home/wb411133/data/Projects/INFRA/FLOWS/UN_comtrade_energy_flows.csv\"\n",
    "input_file_coal = \"/home/wb411133/data/Projects/INFRA/FLOWS/Coal Ex-Im_UN Comtreade_June 18.csv\"\n",
    "input_file_oil = \"/home/wb411133/data/Projects/INFRA/FLOWS/Oil UNComtrade 0115.csv\"\n",
    "input_file_gas = \"/home/wb411133/data/Projects/INFRA/FLOWS/Gas UNComtrade 0115.csv\"\n",
    "out_folder = \"\"\n",
    "global_boundaries = \"/home/wb411133/data/Projects/INFRA/FLOWS/national_centroids.shp\"\n",
    "\n",
    "inB = gpd.read_file(global_boundaries)\n",
    "if inB.crs != {'init':'epsg:4326'}:\n",
    "    inB = inB.to_crs({'init':'epsg:4326'})\n",
    "\n"
   ]
  },
  {
   "cell_type": "code",
   "execution_count": 50,
   "metadata": {},
   "outputs": [],
   "source": [
    "xx = pd.read_csv(input_file_oil)"
   ]
  },
  {
   "cell_type": "code",
   "execution_count": 57,
   "metadata": {},
   "outputs": [
    {
     "data": {
      "text/plain": [
       "Index(['Classification', 'Year', 'Period', 'Period Desc.', 'Aggregate Level',\n",
       "       'Is Leaf Code', 'Trade Flow Code', 'Trade Flow', 'Reporter Code',\n",
       "       'Reporter', 'Reporter ISO', 'Partner Code', 'Partner', 'Partner ISO',\n",
       "       'Commodity Code', 'Commodity', 'Qty Unit Code', 'Qty Unit', 'Qty',\n",
       "       'Netweight (kg)', 'Gross weight (kg)', 'Trade Value (US$)',\n",
       "       'CIF Trade Value (US$)', 'FOB Trade Value (US$)', 'Flag'],\n",
       "      dtype='object')"
      ]
     },
     "execution_count": 57,
     "metadata": {},
     "output_type": "execute_result"
    }
   ],
   "source": [
    "xx.columns"
   ]
  },
  {
   "cell_type": "code",
   "execution_count": 59,
   "metadata": {},
   "outputs": [
    {
     "data": {
      "text/plain": [
       "PETROLEUM PRODUCTS          106995\n",
       "RESIDUAL PETROL.PRODUCTS     50483\n",
       "PETROLEUM OILS, CRUDE        16415\n",
       "Name: Commodity, dtype: int64"
      ]
     },
     "execution_count": 59,
     "metadata": {},
     "output_type": "execute_result"
    }
   ],
   "source": [
    "xx['Commodity'].value_counts()"
   ]
  },
  {
   "cell_type": "code",
   "execution_count": 61,
   "metadata": {},
   "outputs": [
    {
     "data": {
      "text/plain": [
       "334    106995\n",
       "335     50483\n",
       "333     16415\n",
       "Name: Commodity Code, dtype: int64"
      ]
     },
     "execution_count": 61,
     "metadata": {},
     "output_type": "execute_result"
    }
   ],
   "source": [
    "xx['Commodity Code'].value_counts()"
   ]
  },
  {
   "cell_type": "code",
   "execution_count": 63,
   "metadata": {},
   "outputs": [
    {
     "data": {
      "text/html": [
       "<div>\n",
       "<style scoped>\n",
       "    .dataframe tbody tr th:only-of-type {\n",
       "        vertical-align: middle;\n",
       "    }\n",
       "\n",
       "    .dataframe tbody tr th {\n",
       "        vertical-align: top;\n",
       "    }\n",
       "\n",
       "    .dataframe thead th {\n",
       "        text-align: right;\n",
       "    }\n",
       "</style>\n",
       "<table border=\"1\" class=\"dataframe\">\n",
       "  <thead>\n",
       "    <tr style=\"text-align: right;\">\n",
       "      <th></th>\n",
       "      <th></th>\n",
       "      <th>Qty</th>\n",
       "      <th>Trade Value (US$)</th>\n",
       "    </tr>\n",
       "    <tr>\n",
       "      <th>Reporter ISO</th>\n",
       "      <th>Year</th>\n",
       "      <th></th>\n",
       "      <th></th>\n",
       "    </tr>\n",
       "  </thead>\n",
       "  <tbody>\n",
       "    <tr>\n",
       "      <th rowspan=\"7\" valign=\"top\">AUS</th>\n",
       "      <th>2010</th>\n",
       "      <td>40702.438529</td>\n",
       "      <td>25141.974810</td>\n",
       "    </tr>\n",
       "    <tr>\n",
       "      <th>2011</th>\n",
       "      <td>39313.926720</td>\n",
       "      <td>33326.342681</td>\n",
       "    </tr>\n",
       "    <tr>\n",
       "      <th>2012</th>\n",
       "      <td>39051.561170</td>\n",
       "      <td>33873.966128</td>\n",
       "    </tr>\n",
       "    <tr>\n",
       "      <th>2013</th>\n",
       "      <td>33391.509260</td>\n",
       "      <td>28515.907613</td>\n",
       "    </tr>\n",
       "    <tr>\n",
       "      <th>2015</th>\n",
       "      <td>27913.778390</td>\n",
       "      <td>11800.878595</td>\n",
       "    </tr>\n",
       "    <tr>\n",
       "      <th>2016</th>\n",
       "      <td>27280.221560</td>\n",
       "      <td>9431.260780</td>\n",
       "    </tr>\n",
       "    <tr>\n",
       "      <th>2017</th>\n",
       "      <td>29882.180730</td>\n",
       "      <td>10698.516850</td>\n",
       "    </tr>\n",
       "    <tr>\n",
       "      <th rowspan=\"7\" valign=\"top\">CAN</th>\n",
       "      <th>2010</th>\n",
       "      <td>169470.545319</td>\n",
       "      <td>73582.693018</td>\n",
       "    </tr>\n",
       "    <tr>\n",
       "      <th>2011</th>\n",
       "      <td>174779.839789</td>\n",
       "      <td>98301.617297</td>\n",
       "    </tr>\n",
       "    <tr>\n",
       "      <th>2012</th>\n",
       "      <td>35617.493050</td>\n",
       "      <td>104592.553471</td>\n",
       "    </tr>\n",
       "    <tr>\n",
       "      <th>2013</th>\n",
       "      <td>31371.920113</td>\n",
       "      <td>105610.917037</td>\n",
       "    </tr>\n",
       "    <tr>\n",
       "      <th>2015</th>\n",
       "      <td>131081.069275</td>\n",
       "      <td>63380.872687</td>\n",
       "    </tr>\n",
       "    <tr>\n",
       "      <th>2016</th>\n",
       "      <td>132231.361509</td>\n",
       "      <td>50376.380128</td>\n",
       "    </tr>\n",
       "    <tr>\n",
       "      <th>2017</th>\n",
       "      <td>144695.989008</td>\n",
       "      <td>67208.698235</td>\n",
       "    </tr>\n",
       "    <tr>\n",
       "      <th rowspan=\"7\" valign=\"top\">JPN</th>\n",
       "      <th>2010</th>\n",
       "      <td>178681.440200</td>\n",
       "      <td>105814.289560</td>\n",
       "    </tr>\n",
       "    <tr>\n",
       "      <th>2011</th>\n",
       "      <td>175010.970696</td>\n",
       "      <td>142101.309769</td>\n",
       "    </tr>\n",
       "    <tr>\n",
       "      <th>2012</th>\n",
       "      <td>179676.342412</td>\n",
       "      <td>153107.428715</td>\n",
       "    </tr>\n",
       "    <tr>\n",
       "      <th>2013</th>\n",
       "      <td>178436.733091</td>\n",
       "      <td>145720.786582</td>\n",
       "    </tr>\n",
       "    <tr>\n",
       "      <th>2015</th>\n",
       "      <td>64786.157758</td>\n",
       "      <td>45005.802948</td>\n",
       "    </tr>\n",
       "    <tr>\n",
       "      <th>2016</th>\n",
       "      <td>164423.131785</td>\n",
       "      <td>50767.543409</td>\n",
       "    </tr>\n",
       "    <tr>\n",
       "      <th>2017</th>\n",
       "      <td>157989.308600</td>\n",
       "      <td>63750.784437</td>\n",
       "    </tr>\n",
       "    <tr>\n",
       "      <th rowspan=\"7\" valign=\"top\">NZL</th>\n",
       "      <th>2010</th>\n",
       "      <td>7158.279000</td>\n",
       "      <td>4323.707542</td>\n",
       "    </tr>\n",
       "    <tr>\n",
       "      <th>2011</th>\n",
       "      <td>7280.689201</td>\n",
       "      <td>7729.662673</td>\n",
       "    </tr>\n",
       "    <tr>\n",
       "      <th>2012</th>\n",
       "      <td>6961.020000</td>\n",
       "      <td>6096.155235</td>\n",
       "    </tr>\n",
       "    <tr>\n",
       "      <th>2013</th>\n",
       "      <td>6526.736141</td>\n",
       "      <td>5575.930750</td>\n",
       "    </tr>\n",
       "    <tr>\n",
       "      <th>2015</th>\n",
       "      <td>6341.475249</td>\n",
       "      <td>2741.274683</td>\n",
       "    </tr>\n",
       "    <tr>\n",
       "      <th>2016</th>\n",
       "      <td>6461.355632</td>\n",
       "      <td>2190.106862</td>\n",
       "    </tr>\n",
       "    <tr>\n",
       "      <th>2017</th>\n",
       "      <td>1.101076</td>\n",
       "      <td>2655.298396</td>\n",
       "    </tr>\n",
       "    <tr>\n",
       "      <th rowspan=\"7\" valign=\"top\">USA</th>\n",
       "      <th>2010</th>\n",
       "      <td>479767.392756</td>\n",
       "      <td>268735.997401</td>\n",
       "    </tr>\n",
       "    <tr>\n",
       "      <th>2011</th>\n",
       "      <td>464353.336443</td>\n",
       "      <td>345122.292122</td>\n",
       "    </tr>\n",
       "    <tr>\n",
       "      <th>2012</th>\n",
       "      <td>431056.406089</td>\n",
       "      <td>324876.452673</td>\n",
       "    </tr>\n",
       "    <tr>\n",
       "      <th>2013</th>\n",
       "      <td>392718.657778</td>\n",
       "      <td>284664.563095</td>\n",
       "    </tr>\n",
       "    <tr>\n",
       "      <th>2015</th>\n",
       "      <td>389325.275144</td>\n",
       "      <td>141929.513978</td>\n",
       "    </tr>\n",
       "    <tr>\n",
       "      <th>2016</th>\n",
       "      <td>482808.158989</td>\n",
       "      <td>117573.729269</td>\n",
       "    </tr>\n",
       "    <tr>\n",
       "      <th>2017</th>\n",
       "      <td>528838.972564</td>\n",
       "      <td>162172.964484</td>\n",
       "    </tr>\n",
       "  </tbody>\n",
       "</table>\n",
       "</div>"
      ],
      "text/plain": [
       "                             Qty  Trade Value (US$)\n",
       "Reporter ISO Year                                  \n",
       "AUS          2010   40702.438529       25141.974810\n",
       "             2011   39313.926720       33326.342681\n",
       "             2012   39051.561170       33873.966128\n",
       "             2013   33391.509260       28515.907613\n",
       "             2015   27913.778390       11800.878595\n",
       "             2016   27280.221560        9431.260780\n",
       "             2017   29882.180730       10698.516850\n",
       "CAN          2010  169470.545319       73582.693018\n",
       "             2011  174779.839789       98301.617297\n",
       "             2012   35617.493050      104592.553471\n",
       "             2013   31371.920113      105610.917037\n",
       "             2015  131081.069275       63380.872687\n",
       "             2016  132231.361509       50376.380128\n",
       "             2017  144695.989008       67208.698235\n",
       "JPN          2010  178681.440200      105814.289560\n",
       "             2011  175010.970696      142101.309769\n",
       "             2012  179676.342412      153107.428715\n",
       "             2013  178436.733091      145720.786582\n",
       "             2015   64786.157758       45005.802948\n",
       "             2016  164423.131785       50767.543409\n",
       "             2017  157989.308600       63750.784437\n",
       "NZL          2010    7158.279000        4323.707542\n",
       "             2011    7280.689201        7729.662673\n",
       "             2012    6961.020000        6096.155235\n",
       "             2013    6526.736141        5575.930750\n",
       "             2015    6341.475249        2741.274683\n",
       "             2016    6461.355632        2190.106862\n",
       "             2017       1.101076        2655.298396\n",
       "USA          2010  479767.392756      268735.997401\n",
       "             2011  464353.336443      345122.292122\n",
       "             2012  431056.406089      324876.452673\n",
       "             2013  392718.657778      284664.563095\n",
       "             2015  389325.275144      141929.513978\n",
       "             2016  482808.158989      117573.729269\n",
       "             2017  528838.972564      162172.964484"
      ]
     },
     "execution_count": 63,
     "metadata": {},
     "output_type": "execute_result"
    }
   ],
   "source": [
    "tempD = xx.loc[xx['Partner ISO'] != 'WLD']\n",
    "tempD = tempD.loc[tempD['Commodity Code'] == 333]\n",
    "tempD = tempD.loc[:,['Reporter ISO', 'Partner ISO', 'Year', 'Qty', 'Trade Value (US$)']]\n",
    "tempD.loc[tempD['Reporter ISO'].isin(['AUS','USA','CAN', 'NZL','JPN'])].groupby(['Reporter ISO', 'Year']).sum() / 1000000"
   ]
  },
  {
   "cell_type": "code",
   "execution_count": 10,
   "metadata": {},
   "outputs": [],
   "source": [
    "process_flows.comtrade_flow?"
   ]
  },
  {
   "cell_type": "code",
   "execution_count": 11,
   "metadata": {},
   "outputs": [],
   "source": [
    "good_columns=['Qty Unit Code', 'Year', 'Trade Flow', 'Reporter ISO', 'Partner ISO', 'Commodity', 'Qty', 'Trade Value (US$)', 'Reporter_Pt', 'Partner_Pt']"
   ]
  },
  {
   "cell_type": "code",
   "execution_count": 47,
   "metadata": {},
   "outputs": [
    {
     "name": "stderr",
     "output_type": "stream",
     "text": [
      "../infrasap/process_flows.py:107: SettingWithCopyWarning: \n",
      "A value is trying to be set on a copy of a slice from a DataFrame.\n",
      "Try using .loc[row_indexer,col_indexer] = value instead\n",
      "\n",
      "See the caveats in the documentation: http://pandas.pydata.org/pandas-docs/stable/indexing.html#indexing-view-versus-copy\n",
      "  country_flows['geometry'] = country_flows.apply(lambda x: generate_line_string(x, line_type), axis=1)\n"
     ]
    }
   ],
   "source": [
    "importlib.reload(process_flows)\n",
    "file_def = [input_file_oil, \"Oil\", [333]]\n",
    "in_file = file_def[0]\n",
    "commodity = file_def[1]\n",
    "oil_flows = process_flows.comtrade_flow(in_file, commodity, good_columns=good_columns)\n",
    "oil_flows.initialize(['333'], inB, good_quantity_col = 'Commodity Code', val_fields=['Trade Value (US$)', 'Qty'])"
   ]
  },
  {
   "cell_type": "code",
   "execution_count": 49,
   "metadata": {},
   "outputs": [],
   "source": [
    "oil_flows.save(\"/home/wb411133/data/Projects/INFRA/FLOWS/OIL_CRUDE_ONLY_2021/\")"
   ]
  },
  {
   "cell_type": "code",
   "execution_count": 48,
   "metadata": {},
   "outputs": [
    {
     "name": "stderr",
     "output_type": "stream",
     "text": [
      "../infrasap/process_flows.py:162: SettingWithCopyWarning: \n",
      "A value is trying to be set on a copy of a slice from a DataFrame.\n",
      "Try using .loc[row_indexer,col_indexer] = value instead\n",
      "\n",
      "See the caveats in the documentation: http://pandas.pydata.org/pandas-docs/stable/indexing.html#indexing-view-versus-copy\n",
      "  self.country_flows['Reporter_Pt'] = self.country_flows['Reporter_Pt'].apply(str)\n",
      "../infrasap/process_flows.py:163: SettingWithCopyWarning: \n",
      "A value is trying to be set on a copy of a slice from a DataFrame.\n",
      "Try using .loc[row_indexer,col_indexer] = value instead\n",
      "\n",
      "See the caveats in the documentation: http://pandas.pydata.org/pandas-docs/stable/indexing.html#indexing-view-versus-copy\n",
      "  self.country_flows['Partner_Pt'] = self.country_flows['Partner_Pt'].apply(str)\n",
      "/home/wb411133/.conda/envs/geog/lib/python3.7/site-packages/pandas/core/frame.py:3940: SettingWithCopyWarning: \n",
      "A value is trying to be set on a copy of a slice from a DataFrame\n",
      "\n",
      "See the caveats in the documentation: http://pandas.pydata.org/pandas-docs/stable/indexing.html#indexing-view-versus-copy\n",
      "  errors=errors)\n",
      "../infrasap/process_flows.py:169: SettingWithCopyWarning: \n",
      "A value is trying to be set on a copy of a slice from a DataFrame.\n",
      "Try using .loc[row_indexer,col_indexer] = value instead\n",
      "\n",
      "See the caveats in the documentation: http://pandas.pydata.org/pandas-docs/stable/indexing.html#indexing-view-versus-copy\n",
      "  self.country_summary['geometry'] = country_summary_geom\n",
      "../infrasap/process_flows.py:124: SettingWithCopyWarning: \n",
      "A value is trying to be set on a copy of a slice from a DataFrame.\n",
      "Try using .loc[row_indexer,col_indexer] = value instead\n",
      "\n",
      "See the caveats in the documentation: http://pandas.pydata.org/pandas-docs/stable/indexing.html#indexing-view-versus-copy\n",
      "  self.country_summary['Value per unit'] = self.country_summary['Trade Value (US$)'] / self.country_summary['Qty']\n",
      "../infrasap/process_flows.py:125: SettingWithCopyWarning: \n",
      "A value is trying to be set on a copy of a slice from a DataFrame.\n",
      "Try using .loc[row_indexer,col_indexer] = value instead\n",
      "\n",
      "See the caveats in the documentation: http://pandas.pydata.org/pandas-docs/stable/indexing.html#indexing-view-versus-copy\n",
      "  self.country_flows['Value per unit'] = self.country_flows['Trade Value (US$)'] / self.country_flows['Qty']\n"
     ]
    }
   ],
   "source": [
    "oil_flows.save_simple_layers(\"/home/wb411133/data/Projects/INFRA/FLOWS/OIL_CRUDE_ONLY_2021/GEOJSON\", \"GEOJSON\")"
   ]
  },
  {
   "cell_type": "code",
   "execution_count": null,
   "metadata": {},
   "outputs": [],
   "source": [
    "importlib.reload(process_flows)\n",
    "\n",
    "for file_def in [\n",
    "                #[input_file_energy, \"Energy\", []],\n",
    "                #[input_file_coal, \"Coal\", []],\n",
    "                [input_file_oil, \"Oil\", []],\n",
    "                #[input_file_gas, \"Gas\", []]\n",
    "                ]:\n",
    "    print(file_def[1])\n",
    "    in_file = file_def[0]\n",
    "    commodity = file_def[1]\n",
    "    coal_flows = process_flows.comtrade_flow(in_file, commodity)\n",
    "    #coal_flows.initialize(file_def[2], inB)\n",
    "    #coal_flows.save_simple_layers(\"/home/wb411133/data/Projects/INFRA/FLOWS/%s/GEOJSON\" % commodity, \"GEOJSON\")"
   ]
  },
  {
   "cell_type": "code",
   "execution_count": null,
   "metadata": {},
   "outputs": [],
   "source": [
    "coal_flows.initialize?"
   ]
  },
  {
   "cell_type": "code",
   "execution_count": null,
   "metadata": {},
   "outputs": [],
   "source": [
    "importlib.reload(process_flows)\n",
    "base_out_folder = \"/home/wb411133/data/Projects/INFRA/FLOWS\"\n",
    "data_res = {}\n",
    "for file_def in [\n",
    "                 [input_file_energy, \"Energy\", [3]],\n",
    "                 [input_file_coal, \"Coal\", [8]],\n",
    "                 #[input_file_gas, \"Gas\", [8,1]],\n",
    "                 #[input_file_oil, \"Oil\", [8]]\n",
    "                ]:\n",
    "    print(\"Processing %s\" % file_def[1])\n",
    "    data_flows = process_flows.comtrade_flow(file_def[0], file_def[1])\n",
    "    data_flows.initialize(file_def[2], inB)\n",
    "    select_folder = os.path.join(base_out_folder, file_def[1])\n",
    "    for file_type in [\"SHP\"]:\n",
    "        out_folder = os.path.join(select_folder, file_type)\n",
    "        data_flows.save(out_folder, file_type)    \n",
    "    data_res[file_def[1]] = data_flows"
   ]
  },
  {
   "cell_type": "markdown",
   "metadata": {},
   "source": [
    "# Processing airport data from Heinrich"
   ]
  },
  {
   "cell_type": "code",
   "execution_count": null,
   "metadata": {},
   "outputs": [],
   "source": [
    "airport_flows = \"/home/wb411133/data/Projects/INFRA/FLOWS/Airport_Volume.csv\"\n",
    "\n",
    "inD = pd.read_csv(airport_flows)\n",
    "#inD.drop(['Country Name', 'Country Name.1'], axis=1, inplace=True)"
   ]
  },
  {
   "cell_type": "code",
   "execution_count": null,
   "metadata": {},
   "outputs": [],
   "source": [
    "inD.head()"
   ]
  },
  {
   "cell_type": "code",
   "execution_count": null,
   "metadata": {},
   "outputs": [],
   "source": [
    "# extract airport locations\n",
    "inD_grouped = inD.groupby(['Orig','Year'])\n",
    "d = {'Name':'first','TotalSeats':'sum', \"Country Name\":\"first\",\"Airport1Latitude\":'first', \"Airport1Longitude\":'first'}\n",
    "airport_locations = inD_grouped.agg(d)\n",
    "airport_locations.head()"
   ]
  },
  {
   "cell_type": "code",
   "execution_count": null,
   "metadata": {},
   "outputs": [],
   "source": [
    "airport_locations = airport_locations.groupby(level=0).last()\n",
    "airport_locations.head()"
   ]
  },
  {
   "cell_type": "code",
   "execution_count": null,
   "metadata": {},
   "outputs": [],
   "source": [
    "airport_locations.to_csv(airport_flows.replace(\".csv\", \"_airport_locations.csv\"))"
   ]
  },
  {
   "cell_type": "code",
   "execution_count": null,
   "metadata": {},
   "outputs": [],
   "source": [
    "#Calculate out_flows\n",
    "d = {'TotalSeats':'sum'}\n",
    "inD_grouped = inD.groupby(['Country1', \"Year\"])\n",
    "out_flows = inD_grouped.agg(d).reset_index()\n",
    "\n",
    "#Calculate in_flows\n",
    "d = {'TotalSeats':'sum'}\n",
    "inD_grouped = inD.groupby(['Country2', \"Year\"])\n",
    "in_flows = inD_grouped.agg(d)\n",
    "\n",
    "in_flows = in_flows['TotalSeats'].unstack().reset_index()"
   ]
  },
  {
   "cell_type": "code",
   "execution_count": null,
   "metadata": {},
   "outputs": [],
   "source": [
    "def get_data(x):\n",
    "    x = [y for y in x[2:] if not np.isnan(y)]\n",
    "    return(x[-1])\n",
    "in_flows['CURRENT'] = in_flows.apply(get_data, axis=1)\n",
    "in_flows.shape"
   ]
  },
  {
   "cell_type": "markdown",
   "metadata": {},
   "source": [
    "# Calculate airport and port flows"
   ]
  },
  {
   "cell_type": "code",
   "execution_count": null,
   "metadata": {},
   "outputs": [],
   "source": [
    "port_data = \"/home/public/Data/GLOBAL/INFRA/PORTS/Port_flow_data_Q22020.csv\"\n",
    "port_locations = \"/home/public/Data/GLOBAL/INFRA/PORTS/attributed_ports.shp\"\n",
    "airport_data = \"/home/wb411133/data/Projects/INFRA/FLOWS/Airport_Volume.csv\"\n",
    "\n",
    "inP = pd.read_csv(port_data)\n",
    "inP_loc = gpd.read_file(port_locations)\n",
    "inA = pd.read_csv(airport_data)\n",
    "# For the simplest version, we are only calculating flows for 2017\n",
    "inA = inA.loc[inA['Year'] == 2019]"
   ]
  },
  {
   "cell_type": "code",
   "execution_count": null,
   "metadata": {},
   "outputs": [],
   "source": [
    "agg = {'Name':'first','NAme':'first','Country1':'first','Country2':'first','TotalSeats':'sum',\"Country Name\":\"first\",\"Airport1Latitude\":'first', \"Airport1Longitude\":'first',\"Airport2Latitude\":'first', \"Airport2Longitude\":'first'}\n",
    "inA_g = inA.groupby(['Orig','Dest'])\n",
    "inA_g = inA_g.agg(agg).reset_index()\n",
    "geoms = inA_g.apply(lambda x: LineString([Point(x['Airport1Longitude'], x['Airport1Latitude']),\n",
    "                                         Point(x['Airport2Longitude'], x['Airport2Latitude'])]), axis=1)\n",
    "inA_g = gpd.GeoDataFrame(inA_g, geometry=geoms, crs={'init':'epsg:4326'})\n"
   ]
  },
  {
   "cell_type": "code",
   "execution_count": null,
   "metadata": {},
   "outputs": [],
   "source": [
    "inA_g.head()"
   ]
  },
  {
   "cell_type": "code",
   "execution_count": null,
   "metadata": {},
   "outputs": [],
   "source": [
    "inA_g.to_file(\"/home/wb411133/temp/airport_flows.shp\")"
   ]
  },
  {
   "cell_type": "code",
   "execution_count": null,
   "metadata": {},
   "outputs": [],
   "source": [
    "# attribute port flows\n",
    "agg = {'Quarterly deployed capacity (TEU)':'sum'}\n",
    "inP_g = inP.groupby([\"Port1\",\"Port2\"])\n",
    "inP_flows = inP_g.agg(agg).reset_index()"
   ]
  },
  {
   "cell_type": "code",
   "execution_count": null,
   "metadata": {},
   "outputs": [],
   "source": [
    "inP_geoms = inP_flows.merge(inP_loc.loc[:,['LOCODE','geometry']], left_on=\"Port1\", right_on=\"LOCODE\")\n",
    "inP_geoms.columns = ['Port1','Port2','FLOWS','LOCODE_1','PT_1']\n",
    "inP_geoms = inP_geoms.merge(inP_loc.loc[:,['LOCODE','geometry']], left_on=\"Port2\", right_on=\"LOCODE\")\n",
    "inP_geoms.columns = ['Port1','Port2','FLOWS','LOCODE_1','PT_1','LOCODE_2','PT_2']\n",
    "inP_geoms.drop(['LOCODE_1',\"LOCODE_2\"], axis=1, inplace=True)\n",
    "inP_geoms.head()"
   ]
  },
  {
   "cell_type": "code",
   "execution_count": null,
   "metadata": {},
   "outputs": [],
   "source": [
    "sindex = inB.sindex"
   ]
  },
  {
   "cell_type": "code",
   "execution_count": null,
   "metadata": {},
   "outputs": [],
   "source": [
    "inB.loc[list(sindex.nearest([inP_geoms['PT_1'].iloc[0].x, inP_geoms['PT_1'].iloc[0].y]))[0]]['ISO3']"
   ]
  },
  {
   "cell_type": "code",
   "execution_count": null,
   "metadata": {},
   "outputs": [],
   "source": [
    "# attribute port flows with origin and destination country\n",
    "#inP_geoms['Country1'] = inP_geoms['PT_1'].apply(lambda x: inB.loc[list(sindex.nearest([x.x, x.y]))[0]]['ISO3'])\n",
    "#inP_geoms['Country2'] = inP_geoms['PT_2'].apply(lambda x: inB.loc[list(sindex.nearest([x.x, x.y]))[0]]['ISO3'])\n",
    "inP_geoms['Country1'] = inP_geoms['Port1'].apply(lambda x: x[:2])\n",
    "inP_geoms['Country2'] = inP_geoms['Port2'].apply(lambda x: x[:2])\n",
    "inP_geoms.head()"
   ]
  },
  {
   "cell_type": "code",
   "execution_count": null,
   "metadata": {},
   "outputs": [],
   "source": [
    "flow_geoms = inP_geoms.apply(lambda x: LineString([x['PT_1'], x['PT_2']]), axis=1)\n",
    "inP_geoms = gpd.GeoDataFrame(inP_geoms, geometry=flow_geoms, crs={'init':'epsg:4326'})\n",
    "inP_geoms.drop([\"PT_1\",\"PT_2\"], axis=1).to_file(\"/home/wb411133/temp/port_flows.shp\")"
   ]
  },
  {
   "cell_type": "code",
   "execution_count": null,
   "metadata": {},
   "outputs": [],
   "source": []
  },
  {
   "cell_type": "code",
   "execution_count": null,
   "metadata": {},
   "outputs": [],
   "source": []
  }
 ],
 "metadata": {
  "kernelspec": {
   "display_name": "Python (geog)",
   "language": "python",
   "name": "geog"
  },
  "language_info": {
   "codemirror_mode": {
    "name": "ipython",
    "version": 3
   },
   "file_extension": ".py",
   "mimetype": "text/x-python",
   "name": "python",
   "nbconvert_exporter": "python",
   "pygments_lexer": "ipython3",
   "version": "3.7.1"
  }
 },
 "nbformat": 4,
 "nbformat_minor": 2
}
