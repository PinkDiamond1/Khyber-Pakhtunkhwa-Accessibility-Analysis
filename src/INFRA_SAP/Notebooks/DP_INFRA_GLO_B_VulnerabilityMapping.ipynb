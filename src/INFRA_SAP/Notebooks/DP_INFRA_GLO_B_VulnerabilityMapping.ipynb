{
 "cells": [
  {
   "cell_type": "code",
   "execution_count": null,
   "metadata": {},
   "outputs": [],
   "source": [
    "import os, sys, importlib\n",
    "import rasterio\n",
    "\n",
    "import geopandas as gpd\n",
    "import pandas as pd\n",
    "import numpy as np\n",
    "\n",
    "from shapely.geometry import Point\n",
    "from shapely.wkt import loads\n",
    "from rasterio import features\n",
    "\n",
    "sys.path.append(\"../\")\n",
    "import infrasap.vulnerability_mapping as vulmap\n",
    "import infrasap.GOSTRocks.rasterMisc as rMisc\n",
    "import infrasap.GOSTRocks.misc as misc\n"
   ]
  },
  {
   "cell_type": "markdown",
   "metadata": {},
   "source": [
    "# Calculate Vulnerability\n",
    "\n",
    "Based on established CoVID hospitalization rates, we combine demographic data to map population at risk."
   ]
  },
  {
   "cell_type": "code",
   "execution_count": null,
   "metadata": {},
   "outputs": [],
   "source": [
    "# https://mrc-ide.github.io/global-lmic-reports/parameters.html\n",
    "# https://www.cdc.gov/mmwr/volumes/69/wr/mm6912e2.htm\n",
    "vul_def = {'0-5'  :0.001,\n",
    "           '6-10' :0.001,\n",
    "           '11-15':0.001,\n",
    "           '16-20':0.002,\n",
    "           '21-25':0.005,\n",
    "           '26-30':0.010,\n",
    "           '31-35':0.016,\n",
    "           '36-40':0.023,\n",
    "           '41-45':0.029,\n",
    "           '46-50':0.039,\n",
    "           '51-55':0.058,\n",
    "           '56-60':0.072,\n",
    "           '61-65':0.102,\n",
    "           '66-70':0.117,\n",
    "           '71-75':0.146,\n",
    "           '76-80':0.177,\n",
    "           '81-100':0.180}\n",
    "\n",
    "pop_folder = \"/home/public/Data/GLOBAL/Population/WorldPop_PPP_2020/GLOBAL_1km_Demographics\"\n",
    "pop_files = os.listdir(pop_folder)\n",
    "in_admin = '/home/wb411133/data/Projects/CoVID/IDN/adm0.shp'\n",
    "out_folder = '/home/wb411133/data/Projects/CoVID/IDN/wp_files'\n",
    "if not os.path.exists(out_folder):\n",
    "    os.makedirs(out_folder)"
   ]
  },
  {
   "cell_type": "code",
   "execution_count": null,
   "metadata": {},
   "outputs": [],
   "source": [
    "wp_files = []\n",
    "#Extract country specific pop files\n",
    "for pFile in pop_files:\n",
    "    curR = rasterio.open((os.path.join(pop_folder, pFile)))\n",
    "    out_file = os.path.join(country_folder, pFile)\n",
    "    if not os.path.exists(out_file):\n",
    "        rMisc.clipRaster(curR, country_bounds, out_file)\n",
    "    wp_files.append(out_file)"
   ]
  },
  {
   "cell_type": "code",
   "execution_count": null,
   "metadata": {},
   "outputs": [],
   "source": [
    "#Calculate vulnerability\n",
    "wp_file_objects  = [vulmap.wp_demographics(os.path.join(country_folder, x)) for x in wp_files]\n",
    "vul = vulmap.wp_vulnerability(wp_file_objects, vul_def)\n",
    "vul.calculate_vulnerability()\n",
    "vul.combine_results(out_vulnerability, '')\n",
    "for f in wp_files:\n",
    "    os.remove(f)"
   ]
  }
 ],
 "metadata": {
  "kernelspec": {
   "display_name": "Python (geog)",
   "language": "python",
   "name": "geog"
  },
  "language_info": {
   "codemirror_mode": {
    "name": "ipython",
    "version": 3
   },
   "file_extension": ".py",
   "mimetype": "text/x-python",
   "name": "python",
   "nbconvert_exporter": "python",
   "pygments_lexer": "ipython3",
   "version": "3.7.1"
  }
 },
 "nbformat": 4,
 "nbformat_minor": 2
}
