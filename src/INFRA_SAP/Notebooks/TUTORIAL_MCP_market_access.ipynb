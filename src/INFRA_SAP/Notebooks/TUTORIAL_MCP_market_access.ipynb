{
 "cells": [
  {
   "cell_type": "markdown",
   "metadata": {},
   "source": [
    "# Raster-based market access\n",
    "\n",
    "Following in the footsteps of the Malaria Atlas Project's <a href=\"https://developers.google.com/earth-engine/datasets/catalog/Oxford_MAP_friction_surface_2015_v1_0\">Global Friction Surface</a>, this notebook explores a set of tools for calculating:\n",
    "\n",
    "1. Travel time rasters\n",
    "2. Drive-time polygons\n",
    "3. Marketsheds\n"
   ]
  },
  {
   "cell_type": "code",
   "execution_count": 1,
   "metadata": {},
   "outputs": [
    {
     "data": {
      "text/plain": [
       "<module 'infrasap.market_access' from '../infrasap/market_access.py'>"
      ]
     },
     "execution_count": 1,
     "metadata": {},
     "output_type": "execute_result"
    }
   ],
   "source": [
    "import sys, os, importlib\n",
    "import rasterio\n",
    "\n",
    "import numpy as np\n",
    "import pandas as pd\n",
    "import geopandas as gpd\n",
    "import osmnx as ox\n",
    "import GOSTnets as gn\n",
    "import skimage.graph as graph\n",
    "\n",
    "from rasterio.mask import mask\n",
    "from rasterio import features\n",
    "from shapely.geometry import box, Point, Polygon\n",
    "from scipy.ndimage import generic_filter\n",
    "from pandana.loaders import osm\n",
    "\n",
    "sys.path.append(\"../\")\n",
    "\n",
    "import infrasap.market_access as ma\n",
    "importlib.reload(ma)"
   ]
  },
  {
   "cell_type": "code",
   "execution_count": 2,
   "metadata": {},
   "outputs": [],
   "source": [
    "tutorial_folder = os.path.join(\"../\", \"tutorial_data\")\n",
    "\n",
    "dests = os.path.join(tutorial_folder, \"destinations.shp\")\n",
    "friction_surface = os.path.join(tutorial_folder, \"global_friction_surface.tif\")\n",
    "\n",
    "inD = gpd.read_file(dests)\n",
    "inR = rasterio.open(friction_surface)\n",
    "frictionD = inR.read()[0,:,:]\n",
    "# convert friction surface to traversal time (lazily). Original data are\n",
    "#    the original data are minutes to travel 1 m, so we will convert to \n",
    "#    minutes to cross the cell\n",
    "frictionD = frictionD * 1000\n",
    "mcp = graph.MCP_Geometric(frictionD)"
   ]
  },
  {
   "cell_type": "code",
   "execution_count": 3,
   "metadata": {},
   "outputs": [],
   "source": [
    "ma.calculate_travel_time?"
   ]
  },
  {
   "cell_type": "code",
   "execution_count": 6,
   "metadata": {},
   "outputs": [],
   "source": [
    "travel_costs, traceback = ma.calculate_travel_time(inR, mcp, inD)\n",
    "travel_costs = travel_costs.astype(inR.meta['dtype'])\n",
    "with rasterio.open(os.path.join(tutorial_folder, \"least_cost_travel_time.tif\"), 'w', **inR.meta) as out_file:\n",
    "    out_file.write_band(1, travel_costs)"
   ]
  },
  {
   "cell_type": "code",
   "execution_count": 7,
   "metadata": {},
   "outputs": [],
   "source": [
    "ma.generate_feature_vectors?"
   ]
  },
  {
   "cell_type": "code",
   "execution_count": 8,
   "metadata": {},
   "outputs": [
    {
     "name": "stdout",
     "output_type": "stream",
     "text": [
      "14:09:06\t1 of 5\n",
      "14:09:06\t2 of 5\n",
      "14:09:07\t3 of 5\n",
      "14:09:07\t4 of 5\n",
      "14:09:08\t5 of 5\n"
     ]
    }
   ],
   "source": [
    "drive_time_thresholds = [60, 120, 180, 240] # minutes\n",
    "drive_vectors = ma.generate_feature_vectors(inR, mcp, inD, drive_time_thresholds)\n",
    "drive_vectors.to_file(os.path.join(tutorial_folder, \"drive_vectors.shp\"))"
   ]
  },
  {
   "cell_type": "code",
   "execution_count": 9,
   "metadata": {},
   "outputs": [],
   "source": [
    "ma.generate_market_sheds?"
   ]
  },
  {
   "cell_type": "code",
   "execution_count": 10,
   "metadata": {},
   "outputs": [],
   "source": [
    "importlib.reload(ma)\n",
    "outfile = os.path.join(tutorial_folder, \"marketsheds.tif\")\n",
    "ma.generate_market_sheds(inR, inD, out_file=outfile)"
   ]
  }
 ],
 "metadata": {
  "kernelspec": {
   "display_name": "Python (geog)",
   "language": "python",
   "name": "geog"
  },
  "language_info": {
   "codemirror_mode": {
    "name": "ipython",
    "version": 3
   },
   "file_extension": ".py",
   "mimetype": "text/x-python",
   "name": "python",
   "nbconvert_exporter": "python",
   "pygments_lexer": "ipython3",
   "version": "3.7.1"
  }
 },
 "nbformat": 4,
 "nbformat_minor": 2
}
