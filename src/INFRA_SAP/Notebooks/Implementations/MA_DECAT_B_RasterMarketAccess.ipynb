{
 "cells": [
  {
   "cell_type": "markdown",
   "metadata": {},
   "source": [
    "# Market access and population\n",
    "\n",
    "This notebook combines the market access calculations from the global friction surface 2019 with population from WorldPop, and urban/rural calculations based on the JDC calculations to create a complete, flexible workflow for measuring access to features:\n",
    "\n",
    "### Required input data\n",
    "1. Destinations\n",
    "2. ISO3 code (for extent extraction)\n",
    "3. Travel time thresholds in minutes\n",
    "\n",
    "### Workflow\n",
    "1. Calculate travel time to destinations  \n",
    "   a. Calculate binary travel time layers\n",
    "2. Calculate urban and rural  \n",
    "   a. Calculate urban and rural population layers  \n",
    "3. Combine travel time layers (#1a) with population layers (#2a)\n",
    "4. Run zonal stats on #3\n",
    "\n",
    "\n",
    "# TODO\n",
    "1. Rasters may need to be standardized to each other"
   ]
  },
  {
   "cell_type": "code",
   "execution_count": 1,
   "metadata": {},
   "outputs": [],
   "source": [
    "import sys, os\n",
    "import rasterio\n",
    "\n",
    "import pandas as pd\n",
    "import geopandas as gpd\n",
    "import numpy as np\n",
    "import skimage.graph as graph\n",
    "\n",
    "from rasterio.mask import mask\n",
    "from rasterio import features\n",
    "from shapely.geometry import box, Point, Polygon\n",
    "from scipy.ndimage import generic_filter\n",
    "from pandana.loaders import osm\n",
    "\n",
    "sys.path.append(\"../../../GOST_Urban\")\n",
    "import src.UrbanRaster as urban\n",
    "\n",
    "sys.path.append(\"../../\")\n",
    "import infrasap.market_access as ma\n",
    "import infrasap.rasterMisc as rMisc\n",
    "from infrasap.misc import tPrint"
   ]
  },
  {
   "cell_type": "code",
   "execution_count": 2,
   "metadata": {},
   "outputs": [],
   "source": [
    "#User records\n",
    "destinations = \"/home/public/Data/COUNTRY/PAK/HEALTH/pakistan_health_facilities/Pakistan_Health_Facilities.shp\"\n",
    "iso3 = \"PAK\"\n",
    "out_folder = \"/home/wb411133/data/Country/PAK/HEALTH/\"\n",
    "thresholds = [30, 60, 120, 180]\n",
    "\n",
    "if not os.path.exists(out_folder):\n",
    "    os.makedirs(out_folder)\n",
    "    \n",
    "# Read in destinations\n",
    "inH = gpd.read_file(destinations)\n"
   ]
  },
  {
   "cell_type": "code",
   "execution_count": 13,
   "metadata": {},
   "outputs": [],
   "source": [
    "# Read in destinations\n",
    "inH = gpd.read_file(destinations)\n",
    "\n",
    "# Filter destinations here, if desired\n",
    "scenario1 = ['GENERAL HOSPITALS','CHILDREN HOSPITAL','TEHSIL HEADQUARTER HOSPITAL','DISTRICT HEADQUARTER HOSPITAL','AGENCY HEADQUARTER HOSPITAL']\n",
    "scenario2 = ['GENERAL PHYSICIAN','BASIC HEALTH UNIT','GENERAL HOSPITALS','MATERNITY HOME','RURAL HEALTH CENTER','SPECIALIST','CHILDREN HOSPITAL','MCH CENTRE','SUB-HEALTH CENTER','DIAGNOSTIC CENTRE','TEHSIL HEADQUARTER HOSPITAL','DISTRICT HEADQUARTER HOSPITAL','FAMILY WELFARE CENTER','URBAN HEALTH CENTRE','AGENCY HEADQUARTER HOSPITAL']\n",
    "out_folder = \"/home/wb411133/data/Country/PAK/HEALTH_SCENARIO2/\"\n",
    "if not os.path.exists(out_folder):\n",
    "    os.makedirs(out_folder)\n",
    "\n",
    "#inH = inH.loc[inH['Category'].isin(scenario2)]\n",
    "inH['cat1'] = 0\n",
    "inH['cat2'] = 0\n",
    "\n",
    "inH.loc[inH['Category'].isin(scenario1), 'cat1'] = 1\n",
    "inH.loc[inH['Category'].isin(scenario2), 'cat2'] = 1\n",
    "\n",
    "inH.to_file(\"/home/wb411133/data/Country/PAK/HEALTH_FACILITIES.shp\")"
   ]
  },
  {
   "cell_type": "code",
   "execution_count": 4,
   "metadata": {},
   "outputs": [],
   "source": [
    "global_friction_surface = \"/home/public/Data/GLOBAL/INFRA/FRICTION_2020/2020_motorized_friction_surface.geotiff\"\n",
    "global_population = \"/home/public/Data/GLOBAL/Population/WorldPop_PPP_2020/ppp_2020_1km_Aggregated.tif\"\n",
    "inG = rasterio.open(global_friction_surface)\n",
    "inP = rasterio.open(global_population)\n",
    "\n",
    "# Read in country bounds\n",
    "global_bounds = \"/home/public/Data/GLOBAL/ADMIN/Admin0_Polys.shp\"\n",
    "admin1 = \"/home/public/Data/GLOBAL/ADMIN/Admin1_Polys.shp\"\n",
    "inB = gpd.read_file(global_bounds)\n",
    "inB = inB.loc[inB['ISO3'] == \"PAK\"]\n",
    "inB = inB.to_crs(inG.crs)\n",
    "inB1 = gpd.read_file(admin1)\n",
    "inB1 = inB1.loc[inB1['ISO3'] == \"PAK\"]\n",
    "inB1 = inB1.to_crs(inG.crs)\n",
    "\n",
    "# Clip the travel raster to ISO3\n",
    "out_travel_surface = os.path.join(out_folder, \"TRAVEL_SURFACE.tif\")\n",
    "rMisc.clipRaster(inG, inB, out_travel_surface)\n",
    "\n",
    "# Clip the population raster to ISO3\n",
    "out_pop_surface = os.path.join(out_folder, \"POP_2020_NEW.tif\")\n",
    "rMisc.clipRaster(inP, inB, out_pop_surface)"
   ]
  },
  {
   "cell_type": "code",
   "execution_count": 5,
   "metadata": {},
   "outputs": [],
   "source": [
    "# create MCP object\n",
    "inG = rasterio.open(out_travel_surface)\n",
    "inG_data = inG.read() * 1000\n",
    "# Correct no data values\n",
    "inG_data[inG_data < 0] = 99999999\n",
    "mcp = graph.MCP_Geometric(inG_data[0,:,:])"
   ]
  },
  {
   "cell_type": "code",
   "execution_count": 6,
   "metadata": {},
   "outputs": [],
   "source": [
    "# Calculate travel time\n",
    "out_file = os.path.join(out_folder, \"HEALTH_TRAVEL_TIME_MINUTES.tif\")\n",
    "facility_cells = ma.get_mcp_dests(inG, inH)\n",
    "costs, traceback = mcp.find_costs(facility_cells)  \n",
    "costs[np.isinf(costs)] = 0\n",
    "costs[np.isnan(costs)] = 0\n",
    "meta = inG.meta.copy()\n",
    "meta.update(dtype=costs.dtype)\n",
    "with rasterio.open(out_file, 'w', **meta) as out:\n",
    "    out.write_band(1, costs)"
   ]
  },
  {
   "cell_type": "markdown",
   "metadata": {},
   "source": [
    "# Calculate urban"
   ]
  },
  {
   "cell_type": "code",
   "execution_count": 7,
   "metadata": {},
   "outputs": [
    {
     "name": "stdout",
     "output_type": "stream",
     "text": [
      "13:48:52\tPAK: Read in urban data\n",
      "13:48:54\tPAK: Creating Shape 0\n",
      "13:49:01\tPAK: Creating Shape 1000\n",
      "13:49:07\tPAK: Creating Shape 2000\n",
      "13:49:14\tPAK: Creating Shape 3000\n"
     ]
    }
   ],
   "source": [
    "urban_raster = os.path.join(out_folder, \"URBAN.tif\")\n",
    "urban_pop_raster = os.path.join(out_folder, \"URBAN_POP.tif\")\n",
    "calc_urban = urban.urbanGriddedPop(out_pop_surface)\n",
    "urban_extents = calc_urban.calculateUrban(densVal=300, totalPopThresh=5000,\n",
    "                          raster=urban_raster, raster_pop=urban_pop_raster, \n",
    "                          print_message=iso3, verbose=True)"
   ]
  },
  {
   "cell_type": "markdown",
   "metadata": {},
   "source": [
    "# Combine traveltime and population"
   ]
  },
  {
   "cell_type": "code",
   "execution_count": 8,
   "metadata": {},
   "outputs": [],
   "source": [
    "cur_thresh = thresholds[0]\n",
    "tt_raster = rasterio.open(out_file)\n",
    "pop_raster = rasterio.open(out_pop_surface)\n",
    "urban_pop = rasterio.open(urban_pop_raster)\n",
    "\n",
    "tt_d = tt_raster.read()\n",
    "pop_d = pop_raster.read()\n",
    "urban_pop_d = urban_pop.read()"
   ]
  },
  {
   "cell_type": "code",
   "execution_count": 9,
   "metadata": {},
   "outputs": [],
   "source": [
    "base_raster_name = os.path.join(out_folder, \"TT_POP_%s.tif\")\n",
    "base_urban_raster_name = os.path.join(out_folder, \"TT_POP_%s_URBAN.tif\")\n",
    "out_meta = pop_raster.meta.copy()\n",
    "out_rasters = [out_pop_surface, urban_pop_raster]\n",
    "for thresh in thresholds:\n",
    "    cur_out_file = base_raster_name % thresh\n",
    "    cur_out_urban_file = base_urban_raster_name % thresh\n",
    "    out_rasters.append(cur_out_file)\n",
    "    out_rasters.append(cur_out_urban_file)\n",
    "    if not os.path.exists(cur_out_file) or not os.path.exists(cur_out_urban_file):\n",
    "        cur_tt_d = (tt_d < thresh).astype('int')\n",
    "        cur_pop = pop_d * cur_tt_d\n",
    "        cur_urban_pop = urban_pop_d * cur_tt_d    \n",
    "        with rasterio.open(cur_out_file, 'w', **meta) as outR:\n",
    "            outR.write(cur_pop)\n",
    "\n",
    "        with rasterio.open(cur_out_urban_file, 'w', **meta) as outR:\n",
    "            outR.write(cur_urban_pop)"
   ]
  },
  {
   "cell_type": "code",
   "execution_count": 10,
   "metadata": {},
   "outputs": [],
   "source": [
    "all_res = {}\n",
    "try:\n",
    "    del(compiled)\n",
    "except:\n",
    "    pass\n",
    "\n",
    "for pop_R_file in out_rasters:\n",
    "    res = rMisc.zonalStats(inB1, pop_R_file, minVal=0)\n",
    "    name = os.path.basename(pop_R_file).replace(\".tif\", \"\")\n",
    "    cols = [\"%s_%s\" % (name, x) for x in ['SUM','MIN','MAX','MEAN']]\n",
    "    res = pd.DataFrame(res, columns=cols)\n",
    "    all_res[name] = res\n",
    "    try:\n",
    "        final = final.join(res)\n",
    "    except:\n",
    "        final = res\n",
    "    "
   ]
  },
  {
   "cell_type": "code",
   "execution_count": 11,
   "metadata": {},
   "outputs": [
    {
     "name": "stderr",
     "output_type": "stream",
     "text": [
      "/home/wb411133/.conda/envs/geog/lib/python3.7/site-packages/ipykernel_launcher.py:2: SettingWithCopyWarning: \n",
      "A value is trying to be set on a copy of a slice from a DataFrame.\n",
      "Try using .loc[row_indexer,col_indexer] = value instead\n",
      "\n",
      "See the caveats in the documentation: http://pandas.pydata.org/pandas-docs/stable/indexing.html#indexing-view-versus-copy\n",
      "  \n",
      "/home/wb411133/.conda/envs/geog/lib/python3.7/site-packages/ipykernel_launcher.py:3: SettingWithCopyWarning: \n",
      "A value is trying to be set on a copy of a slice from a DataFrame.\n",
      "Try using .loc[row_indexer,col_indexer] = value instead\n",
      "\n",
      "See the caveats in the documentation: http://pandas.pydata.org/pandas-docs/stable/indexing.html#indexing-view-versus-copy\n",
      "  This is separate from the ipykernel package so we can avoid doing imports until\n"
     ]
    }
   ],
   "source": [
    "output = final.filter(regex=\"SUM\")\n",
    "output['NAME'] = inB1['WB_ADM1_NA']\n",
    "output['CODE'] = inB1['WB_ADM1_CO']\n",
    "output.to_csv(os.path.join(out_folder, \"COMBINED_ZONAL_STATS.csv\"))"
   ]
  },
  {
   "cell_type": "code",
   "execution_count": 17,
   "metadata": {},
   "outputs": [
    {
     "name": "stderr",
     "output_type": "stream",
     "text": [
      "/home/wb411133/.conda/envs/geog/lib/python3.7/site-packages/ipykernel_launcher.py:1: SettingWithCopyWarning: \n",
      "A value is trying to be set on a copy of a slice from a DataFrame.\n",
      "Try using .loc[row_indexer,col_indexer] = value instead\n",
      "\n",
      "See the caveats in the documentation: http://pandas.pydata.org/pandas-docs/stable/indexing.html#indexing-view-versus-copy\n",
      "  \"\"\"Entry point for launching an IPython kernel.\n"
     ]
    },
    {
     "data": {
      "text/html": [
       "<div>\n",
       "<style scoped>\n",
       "    .dataframe tbody tr th:only-of-type {\n",
       "        vertical-align: middle;\n",
       "    }\n",
       "\n",
       "    .dataframe tbody tr th {\n",
       "        vertical-align: top;\n",
       "    }\n",
       "\n",
       "    .dataframe thead th {\n",
       "        text-align: right;\n",
       "    }\n",
       "</style>\n",
       "<table border=\"1\" class=\"dataframe\">\n",
       "  <thead>\n",
       "    <tr style=\"text-align: right;\">\n",
       "      <th></th>\n",
       "      <th>POP_2020_NEW_SUM</th>\n",
       "      <th>URBAN_POP_SUM</th>\n",
       "      <th>TT_POP_30_SUM</th>\n",
       "      <th>TT_POP_30_URBAN_SUM</th>\n",
       "      <th>TT_POP_60_SUM</th>\n",
       "      <th>TT_POP_60_URBAN_SUM</th>\n",
       "      <th>TT_POP_120_SUM</th>\n",
       "      <th>TT_POP_120_URBAN_SUM</th>\n",
       "      <th>TT_POP_180_SUM</th>\n",
       "      <th>TT_POP_180_URBAN_SUM</th>\n",
       "      <th>NAME</th>\n",
       "      <th>CODE</th>\n",
       "    </tr>\n",
       "  </thead>\n",
       "  <tbody>\n",
       "    <tr>\n",
       "      <th>0</th>\n",
       "      <td>8.432289e+06</td>\n",
       "      <td>1.509836e+06</td>\n",
       "      <td>3.988960e+06</td>\n",
       "      <td>1.486072e+06</td>\n",
       "      <td>5.236531e+06</td>\n",
       "      <td>1.507226e+06</td>\n",
       "      <td>6.518365e+06</td>\n",
       "      <td>1.509011e+06</td>\n",
       "      <td>7.227903e+06</td>\n",
       "      <td>1.509011e+06</td>\n",
       "      <td>NaN</td>\n",
       "      <td>NaN</td>\n",
       "    </tr>\n",
       "    <tr>\n",
       "      <th>1</th>\n",
       "      <td>5.004354e+06</td>\n",
       "      <td>2.089504e+06</td>\n",
       "      <td>2.482854e+06</td>\n",
       "      <td>1.547257e+06</td>\n",
       "      <td>3.520969e+06</td>\n",
       "      <td>1.819284e+06</td>\n",
       "      <td>4.406375e+06</td>\n",
       "      <td>1.980124e+06</td>\n",
       "      <td>4.749512e+06</td>\n",
       "      <td>2.034872e+06</td>\n",
       "      <td>NaN</td>\n",
       "      <td>NaN</td>\n",
       "    </tr>\n",
       "    <tr>\n",
       "      <th>2</th>\n",
       "      <td>2.062503e+06</td>\n",
       "      <td>2.017639e+06</td>\n",
       "      <td>2.060096e+06</td>\n",
       "      <td>2.018816e+06</td>\n",
       "      <td>2.062464e+06</td>\n",
       "      <td>2.018816e+06</td>\n",
       "      <td>2.063186e+06</td>\n",
       "      <td>2.018816e+06</td>\n",
       "      <td>2.063186e+06</td>\n",
       "      <td>2.018816e+06</td>\n",
       "      <td>NaN</td>\n",
       "      <td>NaN</td>\n",
       "    </tr>\n",
       "    <tr>\n",
       "      <th>3</th>\n",
       "      <td>3.248697e+07</td>\n",
       "      <td>2.495310e+07</td>\n",
       "      <td>2.639326e+07</td>\n",
       "      <td>2.303101e+07</td>\n",
       "      <td>2.879844e+07</td>\n",
       "      <td>2.408556e+07</td>\n",
       "      <td>3.044407e+07</td>\n",
       "      <td>2.468825e+07</td>\n",
       "      <td>3.111876e+07</td>\n",
       "      <td>2.486437e+07</td>\n",
       "      <td>NaN</td>\n",
       "      <td>NaN</td>\n",
       "    </tr>\n",
       "    <tr>\n",
       "      <th>4</th>\n",
       "      <td>1.278862e+08</td>\n",
       "      <td>1.087255e+08</td>\n",
       "      <td>1.206916e+08</td>\n",
       "      <td>1.070120e+08</td>\n",
       "      <td>1.254969e+08</td>\n",
       "      <td>1.084583e+08</td>\n",
       "      <td>1.273570e+08</td>\n",
       "      <td>1.086927e+08</td>\n",
       "      <td>1.276281e+08</td>\n",
       "      <td>1.087036e+08</td>\n",
       "      <td>NaN</td>\n",
       "      <td>NaN</td>\n",
       "    </tr>\n",
       "  </tbody>\n",
       "</table>\n",
       "</div>"
      ],
      "text/plain": [
       "   POP_2020_NEW_SUM  URBAN_POP_SUM  TT_POP_30_SUM  TT_POP_30_URBAN_SUM  \\\n",
       "0      8.432289e+06   1.509836e+06   3.988960e+06         1.486072e+06   \n",
       "1      5.004354e+06   2.089504e+06   2.482854e+06         1.547257e+06   \n",
       "2      2.062503e+06   2.017639e+06   2.060096e+06         2.018816e+06   \n",
       "3      3.248697e+07   2.495310e+07   2.639326e+07         2.303101e+07   \n",
       "4      1.278862e+08   1.087255e+08   1.206916e+08         1.070120e+08   \n",
       "\n",
       "   TT_POP_60_SUM  TT_POP_60_URBAN_SUM  TT_POP_120_SUM  TT_POP_120_URBAN_SUM  \\\n",
       "0   5.236531e+06         1.507226e+06    6.518365e+06          1.509011e+06   \n",
       "1   3.520969e+06         1.819284e+06    4.406375e+06          1.980124e+06   \n",
       "2   2.062464e+06         2.018816e+06    2.063186e+06          2.018816e+06   \n",
       "3   2.879844e+07         2.408556e+07    3.044407e+07          2.468825e+07   \n",
       "4   1.254969e+08         1.084583e+08    1.273570e+08          1.086927e+08   \n",
       "\n",
       "   TT_POP_180_SUM  TT_POP_180_URBAN_SUM NAME  CODE  \n",
       "0    7.227903e+06          1.509011e+06  NaN   NaN  \n",
       "1    4.749512e+06          2.034872e+06  NaN   NaN  \n",
       "2    2.063186e+06          2.018816e+06  NaN   NaN  \n",
       "3    3.111876e+07          2.486437e+07  NaN   NaN  \n",
       "4    1.276281e+08          1.087036e+08  NaN   NaN  "
      ]
     },
     "execution_count": 17,
     "metadata": {},
     "output_type": "execute_result"
    }
   ],
   "source": [
    "output['NAME'] = inB1['WB_ADM1_NA']\n",
    "output.head()"
   ]
  },
  {
   "cell_type": "code",
   "execution_count": null,
   "metadata": {},
   "outputs": [],
   "source": []
  }
 ],
 "metadata": {
  "kernelspec": {
   "display_name": "Python (geog)",
   "language": "python",
   "name": "geog"
  },
  "language_info": {
   "codemirror_mode": {
    "name": "ipython",
    "version": 3
   },
   "file_extension": ".py",
   "mimetype": "text/x-python",
   "name": "python",
   "nbconvert_exporter": "python",
   "pygments_lexer": "ipython3",
   "version": "3.7.1"
  }
 },
 "nbformat": 4,
 "nbformat_minor": 2
}
