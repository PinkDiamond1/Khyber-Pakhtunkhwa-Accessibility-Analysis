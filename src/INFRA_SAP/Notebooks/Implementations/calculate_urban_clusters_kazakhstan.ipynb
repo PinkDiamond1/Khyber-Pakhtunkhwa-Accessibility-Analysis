{
 "cells": [
  {
   "cell_type": "markdown",
   "metadata": {},
   "source": [
    "# calculate urban clusters"
   ]
  },
  {
   "cell_type": "markdown",
   "metadata": {},
   "source": [
    "### Classifies urban clusters using the Degree of urbanisation methodology (https://ghsl.jrc.ec.europa.eu/degurbaDefinitions.php)\n",
    "\n",
    "This methodology uses consistent 1X1 kilometer grid cells to classify cells based on population density, contiguity, and population size."
   ]
  },
  {
   "cell_type": "code",
   "execution_count": 3,
   "metadata": {},
   "outputs": [],
   "source": [
    "# import libraries\n",
    "import sys, os, inspect, logging, importlib\n",
    "import rasterio\n",
    "import pandas as pd\n",
    "import geopandas as gpd"
   ]
  },
  {
   "cell_type": "code",
   "execution_count": 4,
   "metadata": {},
   "outputs": [],
   "source": [
    "# https://stackoverflow.com/questions/34478398/import-local-function-from-a-module-housed-in-another-directory-with-relative-im\n",
    "module_path = os.path.abspath(os.path.join('../..'))\n",
    "if module_path not in sys.path:\n",
    "    sys.path.append(module_path)"
   ]
  },
  {
   "cell_type": "code",
   "execution_count": 5,
   "metadata": {},
   "outputs": [
    {
     "data": {
      "text/plain": [
       "'C:\\\\Users\\\\wb546254\\\\Documents\\\\GitHub\\\\INFRA_SAP'"
      ]
     },
     "execution_count": 5,
     "metadata": {},
     "output_type": "execute_result"
    }
   ],
   "source": [
    "module_path"
   ]
  },
  {
   "cell_type": "code",
   "execution_count": 11,
   "metadata": {},
   "outputs": [],
   "source": [
    "from infrasap.UrbanRaster import *"
   ]
  },
  {
   "cell_type": "markdown",
   "metadata": {},
   "source": [
    "## Inputs include a population grid. In this analysis we will calculate urban clusters using  WorldPop"
   ]
  },
  {
   "cell_type": "code",
   "execution_count": 12,
   "metadata": {},
   "outputs": [],
   "source": [
    "# bring in WorldPop\n",
    "worldpop_ubz_file = r\"C:\\Users\\wb546254\\OneDrive - WBG\\Documents\\ubz_urban_analysis\\kazakstan_data\\kaz_ppp_2020_1km_Aggregated.tif\""
   ]
  },
  {
   "cell_type": "markdown",
   "metadata": {},
   "source": [
    "WorldPop is an unprojected WGS84 raster. The strategy we will use is to calculate the area in sq km of each pixel in the  raster. This will enable us to create a normalized version of the raster that contains population count per sq km for the pixel values. "
   ]
  },
  {
   "cell_type": "code",
   "execution_count": 13,
   "metadata": {},
   "outputs": [
    {
     "data": {
      "text/plain": [
       "CRS.from_epsg(4326)"
      ]
     },
     "execution_count": 13,
     "metadata": {},
     "output_type": "execute_result"
    }
   ],
   "source": [
    "# The WorldPoP file is unprojected in WGS84\n",
    "# Each pixel is 0.00833333 by 0.00833333 decimal degrees, which is approximately 1X1 kilometer at the equator\n",
    "# The problem with unprojected WGS84 data is that the pixel area changes depending on the latitude.\n",
    "worldpop_ubz = rasterio.open(worldpop_ubz_file)\n",
    "worldpop_ubz.crs"
   ]
  },
  {
   "cell_type": "code",
   "execution_count": 14,
   "metadata": {},
   "outputs": [
    {
     "data": {
      "text/plain": [
       "array([[0.48936868, 0.48936868, 0.48936868, ..., 0.48936868, 0.48936868,\n",
       "        0.48936868],\n",
       "       [0.48947109, 0.48947109, 0.48947109, ..., 0.48947109, 0.48947109,\n",
       "        0.48947109],\n",
       "       [0.4895735 , 0.4895735 , 0.4895735 , ..., 0.4895735 , 0.4895735 ,\n",
       "        0.4895735 ],\n",
       "       ...,\n",
       "       [0.65292263, 0.65292263, 0.65292263, ..., 0.65292263, 0.65292263,\n",
       "        0.65292263],\n",
       "       [0.6530027 , 0.6530027 , 0.6530027 , ..., 0.6530027 , 0.6530027 ,\n",
       "        0.6530027 ],\n",
       "       [0.65308275, 0.65308275, 0.65308275, ..., 0.65308275, 0.65308275,\n",
       "        0.65308275]])"
      ]
     },
     "execution_count": 14,
     "metadata": {},
     "output_type": "execute_result"
    }
   ],
   "source": [
    "# calc_areagrid calculates the area in sq km of each pixel\n",
    "worldpop_UBZ_areagrid = calc_areagrid(worldpop_ubz_file)\n",
    "worldpop_UBZ_areagrid"
   ]
  },
  {
   "cell_type": "code",
   "execution_count": 15,
   "metadata": {},
   "outputs": [
    {
     "name": "stdout",
     "output_type": "stream",
     "text": [
      "float64\n",
      "float32\n"
     ]
    }
   ],
   "source": [
    "# convert to float32\n",
    "print(worldpop_UBZ_areagrid.dtype)\n",
    "worldpop_UBZ_areagrid = np.float32(worldpop_UBZ_areagrid)\n",
    "print(worldpop_UBZ_areagrid.dtype)"
   ]
  },
  {
   "cell_type": "code",
   "execution_count": 16,
   "metadata": {},
   "outputs": [],
   "source": [
    "# create numpy ndarray of worldpop_ubz\n",
    "# pop_values\n",
    "with rasterio.open(worldpop_ubz_file, 'r') as ds:\n",
    "    worldpop_ubz_ndarray = ds.read()  # read all raster values"
   ]
  },
  {
   "cell_type": "code",
   "execution_count": 17,
   "metadata": {},
   "outputs": [
    {
     "data": {
      "text/plain": [
       "{'driver': 'GTiff',\n",
       " 'dtype': 'float32',\n",
       " 'nodata': -99999.0,\n",
       " 'width': 4899,\n",
       " 'height': 1786,\n",
       " 'count': 1,\n",
       " 'crs': CRS.from_epsg(4326),\n",
       " 'transform': Affine(0.0083333333, 0.0, 46.49041648586578,\n",
       "        0.0, -0.0083333333, 55.44124996151709)}"
      ]
     },
     "execution_count": 17,
     "metadata": {},
     "output_type": "execute_result"
    }
   ],
   "source": [
    "ds.meta"
   ]
  },
  {
   "cell_type": "code",
   "execution_count": 18,
   "metadata": {},
   "outputs": [
    {
     "data": {
      "text/plain": [
       "numpy.ndarray"
      ]
     },
     "execution_count": 18,
     "metadata": {},
     "output_type": "execute_result"
    }
   ],
   "source": [
    "type(worldpop_ubz_ndarray)"
   ]
  },
  {
   "cell_type": "code",
   "execution_count": 19,
   "metadata": {},
   "outputs": [
    {
     "data": {
      "text/plain": [
       "array([[[-99999., -99999., -99999., ..., -99999., -99999., -99999.],\n",
       "        [-99999., -99999., -99999., ..., -99999., -99999., -99999.],\n",
       "        [-99999., -99999., -99999., ..., -99999., -99999., -99999.],\n",
       "        ...,\n",
       "        [-99999., -99999., -99999., ..., -99999., -99999., -99999.],\n",
       "        [-99999., -99999., -99999., ..., -99999., -99999., -99999.],\n",
       "        [-99999., -99999., -99999., ..., -99999., -99999., -99999.]]],\n",
       "      dtype=float32)"
      ]
     },
     "execution_count": 19,
     "metadata": {},
     "output_type": "execute_result"
    }
   ],
   "source": [
    "worldpop_ubz_ndarray"
   ]
  },
  {
   "cell_type": "code",
   "execution_count": 20,
   "metadata": {},
   "outputs": [
    {
     "data": {
      "text/plain": [
       "(1, 1786, 4899)"
      ]
     },
     "execution_count": 20,
     "metadata": {},
     "output_type": "execute_result"
    }
   ],
   "source": [
    "worldpop_ubz_ndarray.shape"
   ]
  },
  {
   "cell_type": "markdown",
   "metadata": {},
   "source": [
    "### flatten array to 2 dimensions"
   ]
  },
  {
   "cell_type": "code",
   "execution_count": 52,
   "metadata": {},
   "outputs": [],
   "source": [
    "# One shape dimension can be -1. \n",
    "# In this case, the value is inferred from \n",
    "# the length of the array and remaining dimensions.\n",
    "worldpop_ubz_ndarray_2d = worldpop_ubz_ndarray.reshape(-1, worldpop_ubz_ndarray.shape[-1])"
   ]
  },
  {
   "cell_type": "code",
   "execution_count": 53,
   "metadata": {},
   "outputs": [
    {
     "data": {
      "text/plain": [
       "(1786, 4899)"
      ]
     },
     "execution_count": 53,
     "metadata": {},
     "output_type": "execute_result"
    }
   ],
   "source": [
    "worldpop_ubz_ndarray_2d.shape"
   ]
  },
  {
   "cell_type": "code",
   "execution_count": 54,
   "metadata": {},
   "outputs": [],
   "source": [
    "# create a new array where values are pop_values / sq km\n",
    "# pop_values may contain -99999 values for nodata, in this case the new values will still be large negative values.\n",
    "# This should be OK\n",
    "# new_array = pop_values / areagrid\n",
    "pop_per_sq_km = np.divide(worldpop_ubz_ndarray_2d, worldpop_UBZ_areagrid)"
   ]
  },
  {
   "cell_type": "code",
   "execution_count": 55,
   "metadata": {},
   "outputs": [
    {
     "data": {
      "text/plain": [
       "array([[-204342.88, -204342.88, -204342.88, ..., -204342.88, -204342.88,\n",
       "        -204342.88],\n",
       "       [-204300.11, -204300.11, -204300.11, ..., -204300.11, -204300.11,\n",
       "        -204300.11],\n",
       "       [-204257.38, -204257.38, -204257.38, ..., -204257.38, -204257.38,\n",
       "        -204257.38],\n",
       "       ...,\n",
       "       [-153155.97, -153155.97, -153155.97, ..., -153155.97, -153155.97,\n",
       "        -153155.97],\n",
       "       [-153137.2 , -153137.2 , -153137.2 , ..., -153137.2 , -153137.2 ,\n",
       "        -153137.2 ],\n",
       "       [-153118.42, -153118.42, -153118.42, ..., -153118.42, -153118.42,\n",
       "        -153118.42]], dtype=float32)"
      ]
     },
     "execution_count": 55,
     "metadata": {},
     "output_type": "execute_result"
    }
   ],
   "source": [
    "pop_per_sq_km"
   ]
  },
  {
   "cell_type": "markdown",
   "metadata": {},
   "source": [
    "### set all negative values to -99999.0, which is the NoData value"
   ]
  },
  {
   "cell_type": "code",
   "execution_count": 56,
   "metadata": {},
   "outputs": [],
   "source": [
    "pop_per_sq_km[pop_per_sq_km < 0] = -99999.0"
   ]
  },
  {
   "cell_type": "code",
   "execution_count": 57,
   "metadata": {},
   "outputs": [
    {
     "name": "stdout",
     "output_type": "stream",
     "text": [
      "{'driver': 'GTiff', 'dtype': 'float32', 'nodata': -99999.0, 'width': 4899, 'height': 1786, 'count': 1, 'crs': CRS.from_epsg(4326), 'transform': Affine(0.0083333333, 0.0, 46.49041648586578,\n",
      "       0.0, -0.0083333333, 55.44124996151709)}\n"
     ]
    }
   ],
   "source": [
    "with rasterio.open(worldpop_ubz_file, 'r') as ds:\n",
    "    print(ds.meta)\n",
    "    ulX = ds.meta['transform'][2]\n",
    "    ulY = ds.meta['transform'][5]"
   ]
  },
  {
   "cell_type": "markdown",
   "metadata": {},
   "source": [
    "## Save ndarray as raster"
   ]
  },
  {
   "cell_type": "code",
   "execution_count": 58,
   "metadata": {},
   "outputs": [],
   "source": [
    "# https://gis.stackexchange.com/questions/279953/numpy-array-to-gtiff-using-rasterio-without-source-raster\n",
    "\n",
    "from rasterio.transform import from_origin\n",
    "\n",
    "#arr = np.random.randint(5, size=(100,100)).astype(np.float)\n",
    "\n",
    "# rasterio.transform.from_origin(west, north, xsize, ysize)\n",
    "# Return an Affine transformation given upper left and pixel sizes.\n",
    "transform = from_origin(ulX,ulY,0.00833333,0.00833333)\n",
    "\n",
    "new_dataset = rasterio.open('kazakhstan_normalized_worldpop_per_km_sq.tif', 'w', driver='GTiff',\n",
    "                            height = pop_per_sq_km.shape[0], width = pop_per_sq_km.shape[1],\n",
    "                            count=1, dtype=str(pop_per_sq_km.dtype),\n",
    "                            crs='+proj=longlat +ellps=WGS84 +datum=WGS84 +no_defs',\n",
    "                            transform=transform)\n",
    "\n",
    "new_dataset.nodata = -99999.0\n",
    "new_dataset.write(pop_per_sq_km, 1)\n",
    "new_dataset.close()"
   ]
  },
  {
   "cell_type": "code",
   "execution_count": 59,
   "metadata": {},
   "outputs": [
    {
     "name": "stdout",
     "output_type": "stream",
     "text": [
      "{'driver': 'GTiff', 'dtype': 'float32', 'nodata': -99999.0, 'width': 4899, 'height': 1786, 'count': 1, 'crs': CRS.from_epsg(4326), 'transform': Affine(0.00833333, 0.0, 46.49041648586578,\n",
      "       0.0, -0.00833333, 55.44124996151709)}\n"
     ]
    }
   ],
   "source": [
    "# inspect\n",
    "with rasterio.open('kazakhstan_normalized_worldpop_per_km_sq.tif', 'r') as ds:\n",
    "    print(ds.meta)"
   ]
  },
  {
   "cell_type": "markdown",
   "metadata": {},
   "source": [
    "## Calculate Urban Extents"
   ]
  },
  {
   "cell_type": "markdown",
   "metadata": {},
   "source": [
    "### run normalized_world_pop urban centres"
   ]
  },
  {
   "cell_type": "code",
   "execution_count": 65,
   "metadata": {},
   "outputs": [],
   "source": [
    "# import normalized WorldPoP file\n",
    "normalized_world_pop = r\"C:\\Users\\wb546254\\Documents\\GitHub\\INFRA_SAP\\Notebooks\\Implementations\\kazakhstan_normalized_worldpop_per_km_sq.tif\""
   ]
  },
  {
   "cell_type": "code",
   "execution_count": 66,
   "metadata": {},
   "outputs": [],
   "source": [
    "urban_raster = urbanGriddedPop(normalized_world_pop)"
   ]
  },
  {
   "cell_type": "code",
   "execution_count": 67,
   "metadata": {},
   "outputs": [],
   "source": [
    "urban_extents = urban_raster.calculateUrban(densVal=1500, totalPopThresh=50000, smooth=True)"
   ]
  },
  {
   "cell_type": "code",
   "execution_count": 68,
   "metadata": {},
   "outputs": [],
   "source": [
    "wp_urbanExtents = r\"kazakstan_urban_centres_world_pop_normalized_smooth.shp\""
   ]
  },
  {
   "cell_type": "code",
   "execution_count": 69,
   "metadata": {},
   "outputs": [],
   "source": [
    "#urban_extents.to_csv(wp_urbanExtents)\n",
    "urban_extents.to_file(wp_urbanExtents)"
   ]
  },
  {
   "cell_type": "markdown",
   "metadata": {},
   "source": [
    "### run normalized_world_pop urban clusters"
   ]
  },
  {
   "cell_type": "code",
   "execution_count": 70,
   "metadata": {},
   "outputs": [],
   "source": [
    "urban_raster = urbanGriddedPop(normalized_world_pop)\n",
    "urban_extents = urban_raster.calculateUrban(densVal=300, totalPopThresh=5000, smooth=True)\n",
    "wp_urbanExtents = r\"kazakstan_urban_clusters_world_pop_normalized_smooth.shp\"\n",
    "urban_extents.to_file(wp_urbanExtents)"
   ]
  },
  {
   "cell_type": "code",
   "execution_count": null,
   "metadata": {},
   "outputs": [],
   "source": []
  }
 ],
 "metadata": {
  "kernelspec": {
   "display_name": "Python 3",
   "language": "python",
   "name": "python3"
  },
  "language_info": {
   "codemirror_mode": {
    "name": "ipython",
    "version": 3
   },
   "file_extension": ".py",
   "mimetype": "text/x-python",
   "name": "python",
   "nbconvert_exporter": "python",
   "pygments_lexer": "ipython3",
   "version": "3.7.8"
  }
 },
 "nbformat": 4,
 "nbformat_minor": 4
}
