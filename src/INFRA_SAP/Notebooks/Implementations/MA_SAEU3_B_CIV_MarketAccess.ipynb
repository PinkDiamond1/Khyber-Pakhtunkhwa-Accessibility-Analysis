{
 "cells": [
  {
   "cell_type": "markdown",
   "metadata": {},
   "source": [
    "# Market Access in CIV\n",
    "\n",
    "1. Travel time "
   ]
  },
  {
   "cell_type": "code",
   "execution_count": 35,
   "metadata": {},
   "outputs": [],
   "source": [
    "import sys, os\n",
    "import rasterio\n",
    "\n",
    "import pandas as pd\n",
    "import geopandas as gpd\n",
    "import numpy as np\n",
    "import skimage.graph as graph\n",
    "\n",
    "from rasterio.mask import mask\n",
    "from rasterio import features\n",
    "from shapely.geometry import box, Point, Polygon\n",
    "from scipy.ndimage import generic_filter\n",
    "from pandana.loaders import osm\n",
    "\n",
    "sys.path.append(\"../../../GOST_Urban\")\n",
    "import src.UrbanRaster as urban\n",
    "\n",
    "sys.path.append(\"../../\")\n",
    "import infrasap.market_access as ma\n",
    "import infrasap.rasterMisc as rMisc\n",
    "import infrasap.osm_extractor as osm\n",
    "from infrasap.misc import tPrint"
   ]
  },
  {
   "cell_type": "code",
   "execution_count": 17,
   "metadata": {},
   "outputs": [],
   "source": [
    "# Define local data\n",
    "in_folder = \"/home/wb411133/data/Country/CIV/PROJECTS/MarketAccess\"\n",
    "in_admin_file = os.path.join(in_folder, 'iv2_index.shp')\n",
    "in_cities_file = os.path.join(in_folder, 'CIV city coordinates.csv')\n",
    "\n",
    "inB = gpd.read_file(in_admin_file)\n",
    "inC = pd.read_csv(in_cities_file, encoding = \"ISO-8859-1\")\n",
    "inC_geom = inC.apply(lambda x: Point(x['Longitude'], x['Latitude']), axis=1)\n",
    "inC = gpd.GeoDataFrame(inC, geometry=inC_geom, crs={'init':'epsg:4326'})\n",
    "inC.to_file(in_cities_file.replace(\".csv\", \".geojson\"), driver=\"GeoJSON\")"
   ]
  },
  {
   "cell_type": "code",
   "execution_count": 32,
   "metadata": {},
   "outputs": [],
   "source": [
    "city_bounds = gpd.GeoDataFrame(pd.DataFrame([[1,box(*inC.total_bounds)], [2, box(*inB.total_bounds)]], columns=['ID','geometry']), geometry='geometry', crs={'init':'epsg:4326'})\n",
    "city_bounds['geometry'] = city_bounds['geometry'].buffer(0.5)"
   ]
  },
  {
   "cell_type": "code",
   "execution_count": 33,
   "metadata": {},
   "outputs": [],
   "source": [
    "global_friction_surface = \"/home/public/Data/GLOBAL/INFRA/FRICTION_2020/2020_motorized_friction_surface.geotiff\"\n",
    "global_population = \"/home/public/Data/GLOBAL/Population/WorldPop_PPP_2020/ppp_2020_1km_Aggregated.tif\"\n",
    "inG = rasterio.open(global_friction_surface)\n",
    "inP = rasterio.open(global_population)\n",
    "\n",
    "# Create local files\n",
    "local_friction_file = os.path.join(in_folder, \"2020_motorized_friction_surface.tif\")\n",
    "local_pop_file = os.path.join(in_folder, \"ppp_2020_1km_Aggregated.tif\")\n",
    "\n",
    "rMisc.clipRaster(inG, city_bounds, local_friction_file)\n",
    "rMisc.clipRaster(inP, city_bounds, local_pop_file)"
   ]
  },
  {
   "cell_type": "code",
   "execution_count": 36,
   "metadata": {},
   "outputs": [],
   "source": [
    "osm_pbf = os.path.join(in_folder, \"ivory-coast-latest.osm.pbf\")\n",
    "\n",
    "# Extract OSM data for airports, ports, and railways\n",
    "airports = os.path.join(in_folder, \"OSM_Airports.geojson\")\n",
    "ports = os.path.join(in_folder, \"OSM_Ports.geojson\")\n",
    "rail_stations = os.path.join(in_folder, \"OSM_rail_stations.geojson\")\n",
    "\n",
    "pois = osm.load_pois(osm_pbf, city_bounds.unary_union)\n",
    "pois['airports'].to_file(airports, driver=\"GeoJSON\")\n",
    "pois['ports'].to_file(ports, driver=\"GeoJSON\")\n",
    "pois['rail_stations'].to_file(rail_stations, driver=\"GeoJSON\")"
   ]
  },
  {
   "cell_type": "code",
   "execution_count": 46,
   "metadata": {},
   "outputs": [],
   "source": [
    "# Extract international airports and ports\n",
    "international_ports = \"/home/public/Data/GLOBAL/INFRA/PORTS/attributed_ports.shp\"\n",
    "international_airports = \"/home/public/Data/GLOBAL/INFRA/AIRPORTS/International_Airports_Volume.shp\"\n",
    "I_ports = os.path.join(in_folder, \"International_Ports.geojson\")\n",
    "A_ports = os.path.join(in_folder, \"International_Airports.geojson\")\n",
    "\n",
    "inP = gpd.read_file(international_ports)\n",
    "selP = inP.loc[inP['geometry'].apply(lambda x: x.intersects(city_bounds.unary_union))]\n",
    "selP.to_file(I_ports, driver=\"GeoJSON\")\n",
    "\n",
    "inA = gpd.read_file(international_airports)\n",
    "selP = inA.loc[inA['geometry'].apply(lambda x: x.intersects(city_bounds.unary_union))]\n",
    "selP.to_file(A_ports, driver=\"GeoJSON\")"
   ]
  },
  {
   "cell_type": "markdown",
   "metadata": {},
   "source": [
    "# Run Access Mapping"
   ]
  },
  {
   "cell_type": "code",
   "execution_count": 47,
   "metadata": {},
   "outputs": [],
   "source": [
    "inG = rasterio.open(local_friction_file)\n",
    "inG_data = inG.read() * 1000\n",
    "# Correct no data values\n",
    "inG_data[inG_data < 0] = 99999999\n",
    "mcp = graph.MCP_Geometric(inG_data[0,:,:])"
   ]
  },
  {
   "cell_type": "code",
   "execution_count": 51,
   "metadata": {},
   "outputs": [],
   "source": [
    "# Travel time to cities\n",
    "out_file = os.path.join(in_folder, \"MA_Cities.tif\")\n",
    "if not os.path.exists(out_file):\n",
    "    ma.calculate_travel_time(inG, mcp, inC, out_file)\n",
    "\n",
    "# Travel time to international airports\n",
    "out_file = os.path.join(in_folder, \"MA_AllAirports.tif\")\n",
    "if not os.path.exists(out_file):\n",
    "    inA = gpd.read_file(airports)\n",
    "    ma.calculate_travel_time(inG, mcp, inA, out_file)\n",
    "    \n",
    "# Travel time to international airports\n",
    "out_file = os.path.join(in_folder, \"MA_InternationalAirports.tif\")\n",
    "if not os.path.exists(out_file):\n",
    "    inA = gpd.read_file(international_airports)\n",
    "    ma.calculate_travel_time(inG, mcp, inA, out_file)\n",
    "    \n",
    "# Travel time to ports\n",
    "out_file = os.path.join(in_folder, \"MA_ports.tif\")\n",
    "if not os.path.exists(out_file):\n",
    "    inA = gpd.read_file(international_ports)\n",
    "    ma.calculate_travel_time(inG, mcp, inA, out_file)\n",
    "    \n",
    "# Travel time to rail stations\n",
    "out_file = os.path.join(in_folder, \"MA_railStations.tif\")\n",
    "if not os.path.exists(out_file):\n",
    "    inA = gpd.read_file(rail_stations)\n",
    "    ma.calculate_travel_time(inG, mcp, inA, out_file)"
   ]
  },
  {
   "cell_type": "markdown",
   "metadata": {},
   "source": [
    "# Calculate Urban"
   ]
  },
  {
   "cell_type": "code",
   "execution_count": 54,
   "metadata": {},
   "outputs": [
    {
     "name": "stdout",
     "output_type": "stream",
     "text": [
      "10:25:46\tCIV: Read in urban data\n",
      "10:25:46\tCIV: Creating Shape 0\n",
      "10:25:49\tCIV: Creating Shape 1000\n",
      "10:25:53\tCIV: Creating Shape 2000\n",
      "10:25:54\tCIV: Read in urban data\n",
      "10:25:55\tCIV: Creating Shape 0\n"
     ]
    }
   ],
   "source": [
    "urban_raster = os.path.join(in_folder, \"URBAN.tif\")\n",
    "urban_pop_raster = os.path.join(in_folder, \"URBAN_POP.tif\")\n",
    "hd_urban_raster = os.path.join(in_folder, \"HD_URBAN.tif\")\n",
    "hd_urban_pop_raster = os.path.join(in_folder, \"HD_URBAN_POP.tif\")\n",
    "calc_urban = urban.urbanGriddedPop(local_pop_file)\n",
    "urban_extents = calc_urban.calculateUrban(densVal=300, totalPopThresh=5000,\n",
    "                          raster=urban_raster, raster_pop=urban_pop_raster, \n",
    "                          print_message='CIV', verbose=True)\n",
    "\n",
    "hd_urban_extents = calc_urban.calculateUrban(densVal=1500, totalPopThresh=50000,\n",
    "                          raster=hd_urban_raster, raster_pop=hd_urban_pop_raster, \n",
    "                          print_message='CIV', verbose=True, smooth=True, queen=True)"
   ]
  },
  {
   "cell_type": "code",
   "execution_count": null,
   "metadata": {},
   "outputs": [],
   "source": []
  }
 ],
 "metadata": {
  "kernelspec": {
   "display_name": "Python (geog)",
   "language": "python",
   "name": "geog"
  },
  "language_info": {
   "codemirror_mode": {
    "name": "ipython",
    "version": 3
   },
   "file_extension": ".py",
   "mimetype": "text/x-python",
   "name": "python",
   "nbconvert_exporter": "python",
   "pygments_lexer": "ipython3",
   "version": "3.7.1"
  }
 },
 "nbformat": 4,
 "nbformat_minor": 2
}
