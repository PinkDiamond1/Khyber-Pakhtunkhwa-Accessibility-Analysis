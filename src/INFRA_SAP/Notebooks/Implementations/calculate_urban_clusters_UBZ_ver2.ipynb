{
 "cells": [
  {
   "cell_type": "markdown",
   "metadata": {},
   "source": [
    "# calculate urban clusters"
   ]
  },
  {
   "cell_type": "markdown",
   "metadata": {},
   "source": [
    "### Classifies urban clusters using the Degree of urbanisation methodology (https://ghsl.jrc.ec.europa.eu/degurbaDefinitions.php)\n",
    "\n",
    "This methodology uses consistent 1X1 kilometer grid cells to classify cells based on population density, contiguity, and population size.\n",
    "\n",
    "### In this version, we do not normalize the raster, instead we only adjust the density value when we calculate the urban extents to make the .65 km 2 WorldPop grid cells to the 1 km 2 GHS-Pop grid cells"
   ]
  },
  {
   "cell_type": "code",
   "execution_count": 2,
   "metadata": {},
   "outputs": [],
   "source": [
    "# import libraries\n",
    "import sys, os, inspect, logging, importlib\n",
    "import rasterio\n",
    "import pandas as pd\n",
    "import geopandas as gpd"
   ]
  },
  {
   "cell_type": "code",
   "execution_count": 3,
   "metadata": {},
   "outputs": [],
   "source": [
    "# https://stackoverflow.com/questions/34478398/import-local-function-from-a-module-housed-in-another-directory-with-relative-im\n",
    "module_path = os.path.abspath(os.path.join('../..'))\n",
    "if module_path not in sys.path:\n",
    "    sys.path.append(module_path)"
   ]
  },
  {
   "cell_type": "code",
   "execution_count": 4,
   "metadata": {},
   "outputs": [
    {
     "data": {
      "text/plain": [
       "'C:\\\\Users\\\\wb546254\\\\Documents'"
      ]
     },
     "execution_count": 4,
     "metadata": {},
     "output_type": "execute_result"
    }
   ],
   "source": [
    "module_path"
   ]
  },
  {
   "cell_type": "code",
   "execution_count": 5,
   "metadata": {},
   "outputs": [],
   "source": [
    "from infrasap.UrbanRaster import *"
   ]
  },
  {
   "cell_type": "code",
   "execution_count": 6,
   "metadata": {},
   "outputs": [],
   "source": [
    "# bring in WorldPop\n",
    "worldpop_ubz_file = r\"C:\\Users\\wb546254\\OneDrive - WBG\\Documents\\ubz_urban_analysis\\uzb_ppp_2020_1km_Aggregated.tif\""
   ]
  },
  {
   "cell_type": "code",
   "execution_count": 27,
   "metadata": {},
   "outputs": [],
   "source": [
    "worldpop_ubz = rasterio.open(worldpop_ubz_file)"
   ]
  },
  {
   "cell_type": "code",
   "execution_count": 28,
   "metadata": {},
   "outputs": [
    {
     "data": {
      "text/plain": [
       "(1007, 2056)"
      ]
     },
     "execution_count": 28,
     "metadata": {},
     "output_type": "execute_result"
    }
   ],
   "source": [
    "worldpop_ubz.shape"
   ]
  },
  {
   "cell_type": "markdown",
   "metadata": {},
   "source": [
    "## Calculate Urban Extents"
   ]
  },
  {
   "cell_type": "markdown",
   "metadata": {},
   "source": [
    "### run normalized_world_pop urban centres"
   ]
  },
  {
   "cell_type": "code",
   "execution_count": 8,
   "metadata": {},
   "outputs": [],
   "source": [
    "urban_raster = urbanGriddedPop(worldpop_ubz_file)"
   ]
  },
  {
   "cell_type": "code",
   "execution_count": 9,
   "metadata": {},
   "outputs": [],
   "source": [
    "# grid cells for worldpop_ubz_file are approximately .65 sq km, so adjust densVal to 975 (1500X.65)\n",
    "urban_extents = urban_raster.calculateUrban(densVal=975, totalPopThresh=50000, smooth=True)"
   ]
  },
  {
   "cell_type": "code",
   "execution_count": 10,
   "metadata": {},
   "outputs": [],
   "source": [
    "wp_urbanExtents = r\"UBZ_urban_centres_world_pop_densVal_975_smooth.shp\""
   ]
  },
  {
   "cell_type": "code",
   "execution_count": 11,
   "metadata": {},
   "outputs": [],
   "source": [
    "#urban_extents.to_csv(wp_urbanExtents)\n",
    "urban_extents.to_file(wp_urbanExtents)"
   ]
  },
  {
   "cell_type": "markdown",
   "metadata": {},
   "source": [
    "### run normalized_world_pop urban clusters"
   ]
  },
  {
   "cell_type": "code",
   "execution_count": 38,
   "metadata": {},
   "outputs": [],
   "source": [
    "urban_raster = urbanGriddedPop(worldpop_ubz_file)\n",
    "# grid cells for worldpop_ubz_file are approximately .65 sq km, so adjust densVal to 195 (300X.65)\n",
    "urban_extents = urban_raster.calculateUrban(densVal=195, totalPopThresh=5000, smooth=True)\n",
    "wp_urbanExtents = r\"UBZ_urban_clusters_world_pop_densVal_195_smooth.shp\"\n",
    "urban_extents.to_file(wp_urbanExtents)"
   ]
  },
  {
   "cell_type": "code",
   "execution_count": null,
   "metadata": {},
   "outputs": [],
   "source": []
  }
 ],
 "metadata": {
  "kernelspec": {
   "display_name": "Python 3",
   "language": "python",
   "name": "python3"
  },
  "language_info": {
   "codemirror_mode": {
    "name": "ipython",
    "version": 3
   },
   "file_extension": ".py",
   "mimetype": "text/x-python",
   "name": "python",
   "nbconvert_exporter": "python",
   "pygments_lexer": "ipython3",
   "version": "3.6.12"
  }
 },
 "nbformat": 4,
 "nbformat_minor": 4
}
