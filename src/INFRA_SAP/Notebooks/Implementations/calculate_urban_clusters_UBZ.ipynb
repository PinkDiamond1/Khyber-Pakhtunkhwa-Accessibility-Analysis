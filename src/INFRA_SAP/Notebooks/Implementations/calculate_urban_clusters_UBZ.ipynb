{
 "cells": [
  {
   "cell_type": "markdown",
   "metadata": {},
   "source": [
    "# calculate urban clusters"
   ]
  },
  {
   "cell_type": "markdown",
   "metadata": {},
   "source": [
    "### Classifies urban clusters using the Degree of urbanisation methodology (https://ghsl.jrc.ec.europa.eu/degurbaDefinitions.php)\n",
    "\n",
    "This methodology uses consistent 1X1 kilometer grid cells to classify cells based on population density, contiguity, and population size."
   ]
  },
  {
   "cell_type": "code",
   "execution_count": 1,
   "metadata": {},
   "outputs": [],
   "source": [
    "# import libraries\n",
    "import sys, os, inspect, logging, importlib\n",
    "import rasterio\n",
    "import pandas as pd\n",
    "import geopandas as gpd"
   ]
  },
  {
   "cell_type": "code",
   "execution_count": 2,
   "metadata": {},
   "outputs": [],
   "source": [
    "# https://stackoverflow.com/questions/34478398/import-local-function-from-a-module-housed-in-another-directory-with-relative-im\n",
    "module_path = os.path.abspath(os.path.join('../..'))\n",
    "if module_path not in sys.path:\n",
    "    sys.path.append(module_path)"
   ]
  },
  {
   "cell_type": "code",
   "execution_count": 3,
   "metadata": {},
   "outputs": [
    {
     "data": {
      "text/plain": [
       "'C:\\\\Users\\\\wb546254\\\\Documents\\\\GitHub\\\\INFRA_SAP'"
      ]
     },
     "execution_count": 3,
     "metadata": {},
     "output_type": "execute_result"
    }
   ],
   "source": [
    "module_path"
   ]
  },
  {
   "cell_type": "code",
   "execution_count": 4,
   "metadata": {},
   "outputs": [],
   "source": [
    "from infrasap.UrbanRaster import *"
   ]
  },
  {
   "cell_type": "markdown",
   "metadata": {},
   "source": [
    "## Inputs include a population grid. In this analysis we will calculate urban clusters using both GHS-Pop and WorldPop"
   ]
  },
  {
   "cell_type": "code",
   "execution_count": 9,
   "metadata": {},
   "outputs": [],
   "source": [
    "# bring in GHS-POP\n",
    "ghs_pop_ubz_file = r\"C:\\Users\\wb546254\\OneDrive - WBG\\Documents\\ubz_urban_analysis\\ghs_pop_UBZ_merged_mollweide.tif\""
   ]
  },
  {
   "cell_type": "code",
   "execution_count": 10,
   "metadata": {},
   "outputs": [
    {
     "data": {
      "text/plain": [
       "CRS.from_wkt('PROJCS[\"World_Mollweide\",GEOGCS[\"WGS 84\",DATUM[\"WGS_1984\",SPHEROID[\"WGS 84\",6378137,298.257223563,AUTHORITY[\"EPSG\",\"7030\"]],AUTHORITY[\"EPSG\",\"6326\"]],PRIMEM[\"Greenwich\",0],UNIT[\"Degree\",0.0174532925199433]],PROJECTION[\"Mollweide\"],PARAMETER[\"central_meridian\",0],PARAMETER[\"false_easting\",0],PARAMETER[\"false_northing\",0],UNIT[\"metre\",1,AUTHORITY[\"EPSG\",\"9001\"]],AXIS[\"Easting\",EAST],AXIS[\"Northing\",NORTH]]')"
      ]
     },
     "execution_count": 10,
     "metadata": {},
     "output_type": "execute_result"
    }
   ],
   "source": [
    "# checkout how GHS-POP is in Mollweide projection\n",
    "# This means that each pixel represents a consistent 1X1 kilometer area\n",
    "ghs_pop_ubz = rasterio.open(ghs_pop_ubz_file)\n",
    "ghs_pop_ubz.crs"
   ]
  },
  {
   "cell_type": "code",
   "execution_count": 11,
   "metadata": {},
   "outputs": [],
   "source": [
    "# bring in WorldPop\n",
    "worldpop_ubz_file = r\"C:\\Users\\wb546254\\OneDrive - WBG\\Documents\\ubz_urban_analysis\\uzb_ppp_2020_1km_Aggregated.tif\""
   ]
  },
  {
   "cell_type": "markdown",
   "metadata": {},
   "source": [
    "WorldPop is an unprojected WGS84 raster. The strategy we will use is to calculate the area in sq km of each pixel in the  raster. This will enable us to create a normalized version of the raster that contains population count per sq km for the pixel values. "
   ]
  },
  {
   "cell_type": "code",
   "execution_count": 12,
   "metadata": {},
   "outputs": [
    {
     "data": {
      "text/plain": [
       "CRS.from_epsg(4326)"
      ]
     },
     "execution_count": 12,
     "metadata": {},
     "output_type": "execute_result"
    }
   ],
   "source": [
    "# The WorldPop file is unprojected in WGS84\n",
    "# Each pixel is 0.00833333 by 0.00833333 decimal degrees, which is approximately 1X1 kilometer at the equator\n",
    "# The problem with unprojected WGS84 data is that the pixel area changes depending on the latitude.\n",
    "worldpop_ubz = rasterio.open(worldpop_ubz_file)\n",
    "worldpop_ubz.crs"
   ]
  },
  {
   "cell_type": "code",
   "execution_count": 13,
   "metadata": {},
   "outputs": [
    {
     "data": {
      "text/plain": [
       "array([[0.60249174, 0.60249174, 0.60249174, ..., 0.60249174, 0.60249174,\n",
       "        0.60249174],\n",
       "       [0.60257994, 0.60257994, 0.60257994, ..., 0.60257994, 0.60257994,\n",
       "        0.60257994],\n",
       "       [0.60266814, 0.60266814, 0.60266814, ..., 0.60266814, 0.60266814,\n",
       "        0.60266814],\n",
       "       ...,\n",
       "       [0.68418225, 0.68418225, 0.68418225, ..., 0.68418225, 0.68418225,\n",
       "        0.68418225],\n",
       "       [0.68425649, 0.68425649, 0.68425649, ..., 0.68425649, 0.68425649,\n",
       "        0.68425649],\n",
       "       [0.68433073, 0.68433073, 0.68433073, ..., 0.68433073, 0.68433073,\n",
       "        0.68433073]])"
      ]
     },
     "execution_count": 13,
     "metadata": {},
     "output_type": "execute_result"
    }
   ],
   "source": [
    "# calc_areagrid calculates the area in sq km of each pixel\n",
    "worldpop_UBZ_areagrid = calc_areagrid(worldpop_ubz_file)\n",
    "worldpop_UBZ_areagrid"
   ]
  },
  {
   "cell_type": "code",
   "execution_count": 14,
   "metadata": {},
   "outputs": [
    {
     "name": "stdout",
     "output_type": "stream",
     "text": [
      "float64\n",
      "float32\n"
     ]
    }
   ],
   "source": [
    "# convert to float32\n",
    "print(worldpop_UBZ_areagrid.dtype)\n",
    "worldpop_UBZ_areagrid = np.float32(worldpop_UBZ_areagrid)\n",
    "print(worldpop_UBZ_areagrid.dtype)"
   ]
  },
  {
   "cell_type": "code",
   "execution_count": 15,
   "metadata": {},
   "outputs": [],
   "source": [
    "# create numpy ndarray of worldpop_ubz\n",
    "# pop_values\n",
    "with rasterio.open(worldpop_ubz_file, 'r') as ds:\n",
    "    worldpop_ubz_ndarray = ds.read()  # read all raster values"
   ]
  },
  {
   "cell_type": "code",
   "execution_count": 16,
   "metadata": {},
   "outputs": [
    {
     "data": {
      "text/plain": [
       "{'driver': 'GTiff',\n",
       " 'dtype': 'float32',\n",
       " 'nodata': -99999.0,\n",
       " 'width': 2056,\n",
       " 'height': 1007,\n",
       " 'count': 1,\n",
       " 'crs': CRS.from_epsg(4326),\n",
       " 'transform': Affine(0.0083333333, 0.0, 55.99874978222229,\n",
       "        0.0, -0.0083333333, 45.574583339123905)}"
      ]
     },
     "execution_count": 16,
     "metadata": {},
     "output_type": "execute_result"
    }
   ],
   "source": [
    "ds.meta"
   ]
  },
  {
   "cell_type": "code",
   "execution_count": 17,
   "metadata": {},
   "outputs": [
    {
     "data": {
      "text/plain": [
       "numpy.ndarray"
      ]
     },
     "execution_count": 17,
     "metadata": {},
     "output_type": "execute_result"
    }
   ],
   "source": [
    "type(worldpop_ubz_ndarray)"
   ]
  },
  {
   "cell_type": "code",
   "execution_count": 18,
   "metadata": {},
   "outputs": [
    {
     "data": {
      "text/plain": [
       "array([[[-99999., -99999., -99999., ..., -99999., -99999., -99999.],\n",
       "        [-99999., -99999., -99999., ..., -99999., -99999., -99999.],\n",
       "        [-99999., -99999., -99999., ..., -99999., -99999., -99999.],\n",
       "        ...,\n",
       "        [-99999., -99999., -99999., ..., -99999., -99999., -99999.],\n",
       "        [-99999., -99999., -99999., ..., -99999., -99999., -99999.],\n",
       "        [-99999., -99999., -99999., ..., -99999., -99999., -99999.]]],\n",
       "      dtype=float32)"
      ]
     },
     "execution_count": 18,
     "metadata": {},
     "output_type": "execute_result"
    }
   ],
   "source": [
    "worldpop_ubz_ndarray"
   ]
  },
  {
   "cell_type": "code",
   "execution_count": 19,
   "metadata": {},
   "outputs": [
    {
     "data": {
      "text/plain": [
       "(1, 1007, 2056)"
      ]
     },
     "execution_count": 19,
     "metadata": {},
     "output_type": "execute_result"
    }
   ],
   "source": [
    "worldpop_ubz_ndarray.shape"
   ]
  },
  {
   "cell_type": "markdown",
   "metadata": {},
   "source": [
    "### flatten array to 2 dimensions"
   ]
  },
  {
   "cell_type": "code",
   "execution_count": 20,
   "metadata": {},
   "outputs": [],
   "source": [
    "# One shape dimension can be -1. \n",
    "# In this case, the value is inferred from \n",
    "# the length of the array and remaining dimensions.\n",
    "worldpop_ubz_ndarray_2d = worldpop_ubz_ndarray.reshape(-1, worldpop_ubz_ndarray.shape[-1])"
   ]
  },
  {
   "cell_type": "code",
   "execution_count": 21,
   "metadata": {},
   "outputs": [
    {
     "data": {
      "text/plain": [
       "(1007, 2056)"
      ]
     },
     "execution_count": 21,
     "metadata": {},
     "output_type": "execute_result"
    }
   ],
   "source": [
    "worldpop_ubz_ndarray_2d.shape"
   ]
  },
  {
   "cell_type": "code",
   "execution_count": 22,
   "metadata": {},
   "outputs": [],
   "source": [
    "# create a new array where values are pop_values / sq km\n",
    "# pop_values may contain -99999 values for nodata, in this case the new values will still be large negative values.\n",
    "# This should be OK\n",
    "# new_array = pop_values / areagrid\n",
    "pop_per_sq_km = np.divide(worldpop_ubz_ndarray_2d, worldpop_UBZ_areagrid)"
   ]
  },
  {
   "cell_type": "code",
   "execution_count": 23,
   "metadata": {},
   "outputs": [
    {
     "data": {
      "text/plain": [
       "array([[-165975.72, -165975.72, -165975.72, ..., -165975.72, -165975.72,\n",
       "        -165975.72],\n",
       "       [-165951.42, -165951.42, -165951.42, ..., -165951.42, -165951.42,\n",
       "        -165951.42],\n",
       "       [-165927.12, -165927.12, -165927.12, ..., -165927.12, -165927.12,\n",
       "        -165927.12],\n",
       "       ...,\n",
       "       [-146158.44, -146158.44, -146158.44, ..., -146158.44, -146158.44,\n",
       "        -146158.44],\n",
       "       [-146142.56, -146142.56, -146142.56, ..., -146142.56, -146142.56,\n",
       "        -146142.56],\n",
       "       [-146126.72, -146126.72, -146126.72, ..., -146126.72, -146126.72,\n",
       "        -146126.72]], dtype=float32)"
      ]
     },
     "execution_count": 23,
     "metadata": {},
     "output_type": "execute_result"
    }
   ],
   "source": [
    "pop_per_sq_km"
   ]
  },
  {
   "cell_type": "markdown",
   "metadata": {},
   "source": [
    "### set all negative values to -99999.0, which is the NoData value"
   ]
  },
  {
   "cell_type": "code",
   "execution_count": 24,
   "metadata": {},
   "outputs": [],
   "source": [
    "pop_per_sq_km[pop_per_sq_km < 0] = -99999.0"
   ]
  },
  {
   "cell_type": "code",
   "execution_count": 25,
   "metadata": {},
   "outputs": [
    {
     "name": "stdout",
     "output_type": "stream",
     "text": [
      "{'driver': 'GTiff', 'dtype': 'float32', 'nodata': -99999.0, 'width': 2056, 'height': 1007, 'count': 1, 'crs': CRS.from_epsg(4326), 'transform': Affine(0.0083333333, 0.0, 55.99874978222229,\n",
      "       0.0, -0.0083333333, 45.574583339123905)}\n"
     ]
    }
   ],
   "source": [
    "with rasterio.open(worldpop_ubz_file, 'r') as ds:\n",
    "    print(ds.meta)\n",
    "    ulX = ds.meta['transform'][2]\n",
    "    ulY = ds.meta['transform'][5]"
   ]
  },
  {
   "cell_type": "markdown",
   "metadata": {},
   "source": [
    "## Save ndarray as raster"
   ]
  },
  {
   "cell_type": "code",
   "execution_count": 26,
   "metadata": {},
   "outputs": [],
   "source": [
    "# https://gis.stackexchange.com/questions/279953/numpy-array-to-gtiff-using-rasterio-without-source-raster\n",
    "\n",
    "from rasterio.transform import from_origin\n",
    "\n",
    "#arr = np.random.randint(5, size=(100,100)).astype(np.float)\n",
    "\n",
    "# rasterio.transform.from_origin(west, north, xsize, ysize)\n",
    "# Return an Affine transformation given upper left and pixel sizes.\n",
    "transform = from_origin(ulX,ulY,0.00833333,0.00833333)\n",
    "\n",
    "new_dataset = rasterio.open('normalized_worldpop_per_km_sq.tif', 'w', driver='GTiff',\n",
    "                            height = pop_per_sq_km.shape[0], width = pop_per_sq_km.shape[1],\n",
    "                            count=1, dtype=str(pop_per_sq_km.dtype),\n",
    "                            crs='+proj=longlat +ellps=WGS84 +datum=WGS84 +no_defs',\n",
    "                            transform=transform)\n",
    "\n",
    "new_dataset.nodata = -99999.0\n",
    "new_dataset.write(pop_per_sq_km, 1)\n",
    "new_dataset.close()"
   ]
  },
  {
   "cell_type": "code",
   "execution_count": 27,
   "metadata": {},
   "outputs": [
    {
     "name": "stdout",
     "output_type": "stream",
     "text": [
      "{'driver': 'GTiff', 'dtype': 'float32', 'nodata': -99999.0, 'width': 2056, 'height': 1007, 'count': 1, 'crs': CRS.from_epsg(4326), 'transform': Affine(0.00833333, 0.0, 55.99874978222229,\n",
      "       0.0, -0.00833333, 45.574583339123905)}\n"
     ]
    }
   ],
   "source": [
    "# inspect\n",
    "with rasterio.open('normalized_worldpop_per_km_sq.tif', 'r') as ds:\n",
    "    print(ds.meta)"
   ]
  },
  {
   "cell_type": "markdown",
   "metadata": {},
   "source": [
    "## Calculate Urban Extents"
   ]
  },
  {
   "cell_type": "markdown",
   "metadata": {},
   "source": [
    "### run normalized_world_pop urban centres"
   ]
  },
  {
   "cell_type": "code",
   "execution_count": 28,
   "metadata": {},
   "outputs": [],
   "source": [
    "# import normalized WorldPoP file\n",
    "normalized_world_pop = r\"C:\\Users\\wb546254\\Documents\\GitHub\\INFRA_SAP\\Notebooks\\Implementations\\normalized_worldpop_per_km_sq.tif\""
   ]
  },
  {
   "cell_type": "code",
   "execution_count": 29,
   "metadata": {},
   "outputs": [],
   "source": [
    "urban_raster = urbanGriddedPop(normalized_world_pop)"
   ]
  },
  {
   "cell_type": "code",
   "execution_count": 30,
   "metadata": {},
   "outputs": [],
   "source": [
    "urban_extents = urban_raster.calculateUrban(densVal=1500, totalPopThresh=50000, smooth=True)"
   ]
  },
  {
   "cell_type": "code",
   "execution_count": 31,
   "metadata": {},
   "outputs": [],
   "source": [
    "wp_urbanExtents = r\"UBZ_urban_centres_world_pop_normalized_smooth.shp\""
   ]
  },
  {
   "cell_type": "code",
   "execution_count": 32,
   "metadata": {},
   "outputs": [],
   "source": [
    "#urban_extents.to_csv(wp_urbanExtents)\n",
    "urban_extents.to_file(wp_urbanExtents)"
   ]
  },
  {
   "cell_type": "markdown",
   "metadata": {},
   "source": [
    "### run normalized_world_pop urban clusters"
   ]
  },
  {
   "cell_type": "code",
   "execution_count": 33,
   "metadata": {},
   "outputs": [],
   "source": [
    "urban_raster = urbanGriddedPop(normalized_world_pop)\n",
    "urban_extents = urban_raster.calculateUrban(densVal=300, totalPopThresh=5000, smooth=True)\n",
    "wp_urbanExtents = r\"UBZ_urban_clusters_world_pop_normalized_smooth.shp\"\n",
    "urban_extents.to_file(wp_urbanExtents)"
   ]
  },
  {
   "cell_type": "markdown",
   "metadata": {},
   "source": [
    "### run ghs_pop urban centres\n"
   ]
  },
  {
   "cell_type": "code",
   "execution_count": 34,
   "metadata": {},
   "outputs": [],
   "source": [
    "urban_raster = urbanGriddedPop(ghs_pop_ubz_file)\n",
    "urban_extents = urban_raster.calculateUrban(densVal=1500, totalPopThresh=50000, smooth=True)\n",
    "wp_urbanExtents = r\"UBZ_urban_centres_ghs_pop_smooth.shp\"\n",
    "urban_extents.to_file(wp_urbanExtents)"
   ]
  },
  {
   "cell_type": "markdown",
   "metadata": {},
   "source": [
    "### run ghs_pop urban clusters"
   ]
  },
  {
   "cell_type": "code",
   "execution_count": 35,
   "metadata": {},
   "outputs": [],
   "source": [
    "urban_raster = urbanGriddedPop(ghs_pop_ubz_file)\n",
    "urban_extents = urban_raster.calculateUrban(densVal=300, totalPopThresh=5000, smooth=True)\n",
    "wp_urbanExtents = r\"UBZ_urban_clusters_ghs_pop_smooth.shp\"\n",
    "urban_extents.to_file(wp_urbanExtents)"
   ]
  },
  {
   "cell_type": "code",
   "execution_count": null,
   "metadata": {},
   "outputs": [],
   "source": []
  }
 ],
 "metadata": {
  "kernelspec": {
   "display_name": "Python 3",
   "language": "python",
   "name": "python3"
  },
  "language_info": {
   "codemirror_mode": {
    "name": "ipython",
    "version": 3
   },
   "file_extension": ".py",
   "mimetype": "text/x-python",
   "name": "python",
   "nbconvert_exporter": "python",
   "pygments_lexer": "ipython3",
   "version": "3.7.8"
  }
 },
 "nbformat": 4,
 "nbformat_minor": 4
}
