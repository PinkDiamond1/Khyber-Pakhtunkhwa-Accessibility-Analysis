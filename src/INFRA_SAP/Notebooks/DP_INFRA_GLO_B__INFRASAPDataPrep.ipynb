{
 "cells": [
  {
   "cell_type": "markdown",
   "metadata": {},
   "source": [
    "# Launch INFRA SAP\n",
    "The World Bank's Geospatial Operational Support team, in collaboration with the Infrastructure Chief Economist's office have developed a diagnostic toolkit for assessing the state of infrastucture in a country through an assessment of infrastructure, access, connectivity, and commodity flows.\n",
    "\n",
    "The purpose of this notebook is to launch the data preparation step of the INFRA SAP toolkit. It is principally designed to integrate with the GOST team's high compute cluster, but has been made as flexible as possible to facilitate replication. The steps in data processing require the following input:\n",
    "1. Administrative boundaries of interest (defines total extent of analysis and level of aggregation)\n",
    "2. Country ISO3 code\n",
    "\n",
    "Based on these basic datasets we will extract the following datasets **these steps are particular to the World Bank's data schema, but can be directly supplied to later functions if necessary**\n",
    "\n",
    "1. Open Street Map\n",
    "2. WorldPop 2020 gridded population data\n",
    "3. International airports (from OSM)\n",
    "4. Major ports (from OSM)\n",
    "5. Official Border Crossings (from ???)\n",
    "\n",
    "With these data either extracted or processed we run the following analyses\n",
    "\n",
    "1. Calculate urban and rural following the GURBA process - LINK\n",
    "2. Attempt to identify/name urban areas\n",
    "3. (optional) Re-sample population to 1km\n",
    "\n",
    "Following these data preparation steps a sanity check should be performed on the extracted data to ensure major POIs are not missed and that all data have been properly extracted"
   ]
  },
  {
   "cell_type": "code",
   "execution_count": 2,
   "metadata": {},
   "outputs": [],
   "source": [
    "import sys, os, shutil, importlib\n",
    "import rasterio\n",
    "\n",
    "import geopandas as gpd\n",
    "import pandas as pd\n",
    "\n",
    "from shapely.geometry import Point\n",
    "\n",
    "sys.path.append(\"../\")\n",
    "\n",
    "import infrasap.wp_helper as wp\n",
    "import infrasap.osm_extractor as osm\n",
    "import infrasap.rai_calculator as rai\n",
    "import infrasap.gsm_rasterizer as gsm_r\n",
    "import infrasap.infra_helper as helper\n",
    "import infrasap.rasterMisc as rMisc"
   ]
  },
  {
   "cell_type": "code",
   "execution_count": 3,
   "metadata": {},
   "outputs": [],
   "source": [
    "# Define baseline data\n",
    "iso3 = \"ZWE\"\n",
    "epsg = 4209 #Check out https://epsg.io/ to select epsg - use 3857 if nothing else jibes\n",
    "focal_osm = '/home/public/Data/PROJECTS/INFRA_SAP/%s/zimbabwe-latest.osm.pbf' % iso3\n",
    "base_out = \"/home/wb411133/temp\" #r\"J:\\Data\\PROJECTS\\INFRA_SAP\"\n",
    "out_folder = os.path.join(base_out, iso3)\n",
    "if not os.path.exists(out_folder):\n",
    "    os.makedirs(out_folder)"
   ]
  },
  {
   "cell_type": "code",
   "execution_count": 15,
   "metadata": {},
   "outputs": [],
   "source": [
    "global_boundaries =  \"/home/public/Data/GLOBAL/ADMIN/Admin0_Polys.shp\"\n",
    "global_admin2 = r\"/home/public/Data/GLOBAL/ADMIN/Admin2_Polys.shp\"\n",
    "wp_dataset = \"/home/public/Data/GLOBAL/Population/WorldPop_PPP_2020/MOSAIC_ppp_prj_2020/ppp_prj_2020_%s.tif\" % iso3\n",
    "if not os.path.exists(wp_dataset):\n",
    "    print(\"Check to make sure population dataset exists\")\n",
    "border_crossings = \"/home/public/Data/GLOBAL/INFRA/BORDERS/border_crossings_phv.shp\"#J:\\Data\\GLOBAL\\INFRA\n",
    "global_ports = \"/home/public/Data/GLOBAL/INFRA/PORTS/attributed_ports.shp\"\n",
    "global_airports = \"/home/public/Data/GLOBAL/INFRA/AIRPORTS/International_Airports_Volume.shp\"\n",
    "global_power_plants = \"/home/public/Data/GLOBAL/ENERGY/global_power_plant_database.csv\"\n",
    "grid_lines = \"/home/public/Data/GLOBAL/ENERGY/grid.gpkg\"\n",
    "global_solar = \"/home/public/Data/GLOBAL/ENERGY/Renewables/Solar/World_PVOUT_GISdata_LTAy_DailySum_GlobalSolarAtlas_GEOTIFF/PVOUT.tif\"\n",
    "global_wind = \"/home/public/Data/GLOBAL/ENERGY/Renewables/Wind/Power Density/global_power_dens.tif\"\n",
    "gsm_folder = \"/home/public/Data/GLOBAL/INFRA/GSMA/2019/MCE/Data_MCE/Global\"\n",
    "gsm_files = {}\n",
    "for gsm in ['2G', '3G', '4G']:\n",
    "    gsm_files[gsm] = os.path.join(gsm_folder, f\"MCE_Global{gsm}_2020.tif\")\n",
    "openCellID = \"/home/public/Data/GLOBAL/INFRA/OPENCELLID/cell_towers_2020-04-15-T000000.csv\"    \n",
    "combo_viirs = '/home/public/Data/GLOBAL/NighttimeLights/VIIRS_COMBO_2013_2016_2019.vrt'"
   ]
  },
  {
   "cell_type": "code",
   "execution_count": 12,
   "metadata": {},
   "outputs": [],
   "source": [
    "importlib.reload(helper)\n",
    "\n",
    "#define output data\n",
    "focal_admin2 = os.path.join(out_folder, \"admin.shp\")\n",
    "wp_1km = os.path.join(out_folder, \"WP_2020_1km.tif\")\n",
    "urban_extents = os.path.join(out_folder, \"urban_extents.shp\")\n",
    "airports = os.path.join(out_folder, \"airports.shp\")\n",
    "highways = os.path.join(out_folder, \"highways.shp\")\n",
    "ports = os.path.join(out_folder, \"ports.shp\")\n",
    "borders = os.path.join(out_folder, \"borders.shp\")\n",
    "power_plants = os.path.join(out_folder, \"power_plants.shp\")\n",
    "transmission = os.path.join(out_folder, \"transmission_lines.shp\")\n",
    "solar_power = os.path.join(out_folder, \"SOLAR_PVOUT.tif\")\n",
    "wind_power = os.path.join(out_folder, \"WIND_PowerDens.tif\")\n",
    "cell_towers = os.path.join(out_folder, \"OpenCellID.shp\")\n",
    "combo_ntl = os.path.join(out_folder, 'combo_ntl.tif')\n",
    "\n",
    "global_data = gpd.read_file(global_boundaries)    \n",
    "# select out admin2 from global boundaries dataset\n",
    "if not os.path.exists(focal_admin2):\n",
    "    in_bounds = gpd.read_file(global_admin2)\n",
    "    out_bounds = in_bounds.loc[in_bounds['ISO3'] == iso3]\n",
    "    out_bounds = out_bounds.to_crs({'init':'epsg:4326'})\n",
    "    out_bounds.to_file(focal_admin2)\n",
    "else:\n",
    "    out_bounds = gpd.read_file(focal_admin2)\n"
   ]
  },
  {
   "cell_type": "code",
   "execution_count": 6,
   "metadata": {},
   "outputs": [],
   "source": [
    "# extract national OSM from global OSM PBF\n",
    "global_osm = \"/home/public/Data/GLOBAL/OSM/GLOBAL/planet-latest_RAILWAYS_INFRA.osm.pbf\"\n",
    "if not os.path.exists(focal_osm):\n",
    "    ## BEN: Look into using WGET to download from GeoFabrik    \n",
    "    extractor = osm.osmExtraction(osmosisCmd = \"/home/wb411133/Code/Osmosis/bin/osmosis\", tempFile = \"/home/wb411133/temp/temp_execution.bat\")\n",
    "    temp_osm = os.path.join(base_out, os.path.basename(focal_osm))\n",
    "    print(extractor.extractBoundingBox(global_osm, focal_admin2, temp_osm, execute=False))"
   ]
  },
  {
   "cell_type": "code",
   "execution_count": 13,
   "metadata": {},
   "outputs": [],
   "source": [
    "# Extract airports, rails, highways\n",
    "importlib.reload(osm)\n",
    "if not os.path.exists(highways):\n",
    "    pois = osm.load_pois(focal_osm, out_bounds.unary_union)\n",
    "    for key, value in pois.items():\n",
    "        if key in [\"ports\",'airports']:\n",
    "            key = \"OSM_%s\" % key\n",
    "        try:\n",
    "            value.to_file(os.path.join(out_folder, \"%s.shp\" % key))\n",
    "        except:\n",
    "            print(\"ERROR processing %s\" % key)"
   ]
  },
  {
   "cell_type": "code",
   "execution_count": 16,
   "metadata": {},
   "outputs": [],
   "source": [
    "# Re-sample WP to 1km\n",
    "if not os.path.exists(wp_1km):\n",
    "    inR = rasterio.open(wp_dataset)\n",
    "    wp.resample_wp(inR, wp_1km, factor=10)\n",
    "    \n",
    "# Calculate urban extents from 1km WorldPop\n",
    "if not os.path.exists(urban_extents):\n",
    "    urban_shp = wp.calculateUrban(rasterio.open(wp_1km), smooth=False)\n",
    "    urban_shp.to_file(urban_extents)\n",
    "\n",
    "# Extract airports\n",
    "if not os.path.exists(airports):\n",
    "    inA = gpd.read_file(global_airports)\n",
    "    selA = inA.loc[inA.intersects(out_bounds.unary_union)]\n",
    "    if selA.shape[0] > 0:\n",
    "        selA.to_file(airports)\n",
    "                \n",
    "# Extract ports\n",
    "if not os.path.exists(ports):\n",
    "    inP = gpd.read_file(global_ports)\n",
    "    inP.crs = {'init':'epsg:4326'}\n",
    "    selP = inP.loc[inP.intersects(out_bounds.unary_union)]\n",
    "    if selP.shape[0] > 0:\n",
    "        selP.to_file(ports)\n",
    "                \n",
    "# Extract borders\n",
    "if not os.path.exists(borders):\n",
    "    all_borders = gpd.read_file(border_crossings)\n",
    "    focal_borders = all_borders[all_borders.intersects(out_bounds.unary_union.buffer(0.01))]\n",
    "    if focal_borders.shape[0] > 0:\n",
    "        focal_borders.to_file(borders)\n",
    "\n",
    "# Extract power plants\n",
    "if not os.path.exists(power_plants):\n",
    "    pp = helper.extract_power_plants(global_power_plants, out_bounds)\n",
    "    pp.to_file(power_plants)    \n",
    "\n",
    "# Extract transmission lines\n",
    "if not os.path.exists(transmission):\n",
    "    lines = helper.extract_transmission_lines(grid_lines, out_bounds)\n",
    "    lines.to_file(transmission)\n",
    "\n",
    "if not os.path.exists(combo_ntl):\n",
    "    rMisc.clipRaster(rasterio.open(combo_viirs), out_bounds, combo_ntl)\n",
    "    \n",
    "if not os.path.exists(solar_power):\n",
    "    rMisc.clipRaster(rasterio.open(global_solar), out_bounds, solar_power)\n",
    "    \n",
    "if not os.path.exists(wind_power):\n",
    "    rMisc.clipRaster(rasterio.open(global_wind), out_bounds, wind_power)\n",
    "\n",
    "# Extract most recent GSMA coverage data\n",
    "for key, gsm_file in gsm_files.items():\n",
    "    out_file = os.path.join(out_folder, f\"GSM_{key}.tif\")\n",
    "    if not os.path.exists(out_file):\n",
    "        rMisc.clipRaster(rasterio.open(gsm_file), out_bounds, out_file)\n",
    "\n",
    "# Extract Cell towers\n",
    "if not os.path.exists(cell_towers):\n",
    "    global_towers = pd.read_csv(openCellID)\n",
    "    # Query global towers dataset using bounding box\n",
    "    b = out_bounds.total_bounds\n",
    "    total_geom = out_bounds.unary_union\n",
    "\n",
    "    country_towers = global_towers.loc[(global_towers['lon'] > b[0]) & (global_towers['lon'] < b[2]) &\n",
    "                                    (global_towers['lat'] > b[1]) & (global_towers['lat'] < b[3])]\n",
    "    country_towers_geom = [Point(x) for x in zip(country_towers['lon'], country_towers['lat'])]\n",
    "    country_towers = gpd.GeoDataFrame(country_towers, geometry=country_towers_geom, crs={'init':'epsg:4326'})\n",
    "    country_towers = country_towers.loc[country_towers.intersects(total_geom)]\n",
    "    country_towers.drop(['mcc','net','cell','lon','lat','range','samples','changeable','created','updated','averageSignal'], axis=1, inplace=True)\n",
    "    country_towers.to_file(cell_towers)"
   ]
  },
  {
   "cell_type": "code",
   "execution_count": 9,
   "metadata": {},
   "outputs": [
    {
     "data": {
      "text/plain": [
       "'/home/wb411133/temp/ZWE/INFRASTRUCTURE_map.qgz'"
      ]
     },
     "execution_count": 9,
     "metadata": {},
     "output_type": "execute_result"
    }
   ],
   "source": [
    "# Copy map file\n",
    "in_map_file = \"/home/public/Data/PROJECTS/INFRA_SAP/CRI/INFRASTRUCTURE_map.qgz\"\n",
    "out_map_file = os.path.join(out_folder, os.path.basename(in_map_file))\n",
    "shutil.copy(in_map_file, out_map_file)"
   ]
  },
  {
   "cell_type": "markdown",
   "metadata": {},
   "source": [
    "# Calculate RAI"
   ]
  },
  {
   "cell_type": "code",
   "execution_count": null,
   "metadata": {},
   "outputs": [],
   "source": [
    "importlib.reload(rai)\n",
    "rai_roadnetwork = rai.extract_rai_network(focal_osm, epsg=epsg)"
   ]
  },
  {
   "cell_type": "code",
   "execution_count": null,
   "metadata": {},
   "outputs": [],
   "source": [
    "rai_roadnetwork.head()"
   ]
  },
  {
   "cell_type": "code",
   "execution_count": null,
   "metadata": {},
   "outputs": [],
   "source": [
    "importlib.reload(rai)\n",
    "wp_lyr = rasterio.open(wp_dataset)\n",
    "if wp_lyr.crs != rai_roadnetwork.crs:\n",
    "    rai_roadnetwork = rai_roadnetwork.to_crs(wp_lyr.crs)\n",
    "rai_vals = rai.calculate_rai(out_bounds, \"WB_ADM2_CO\", wp_lyr, rai_roadnetwork, out_folder)"
   ]
  },
  {
   "cell_type": "code",
   "execution_count": null,
   "metadata": {},
   "outputs": [],
   "source": [
    "rai.to_csv(os.path.join(out_folder, \"RAI_population.csv\"))"
   ]
  },
  {
   "cell_type": "markdown",
   "metadata": {},
   "source": [
    "# Debugging"
   ]
  },
  {
   "cell_type": "code",
   "execution_count": null,
   "metadata": {},
   "outputs": [],
   "source": [
    "in_folder = \"/home/wb411133/data/Projects/CoVID/IDN/hd_urban_fishnets\"\n",
    "all_files = []\n",
    "for root, dirs, files in os.walk(in_folder):\n",
    "    for f in files:\n",
    "        if f[-4:] == \".shp\" and not \"zonal\" in f:\n",
    "            all_files.append(os.path.join(root, f))\n",
    "\n",
    "try:\n",
    "    del(final)\n",
    "except:\n",
    "    pass\n",
    "for f in all_files:\n",
    "    inF  = gpd.read_file(f)\n",
    "    try:\n",
    "        final = final.append(inF)\n",
    "    except:\n",
    "        final = inF\n",
    "    print(f\"{inF.shape[0]}: {final.shape[0]}\")"
   ]
  },
  {
   "cell_type": "code",
   "execution_count": null,
   "metadata": {},
   "outputs": [],
   "source": [
    "final = final.reset_index()\n",
    "final.to_file(\"%s.shp\" % in_folder)"
   ]
  },
  {
   "cell_type": "code",
   "execution_count": null,
   "metadata": {},
   "outputs": [],
   "source": [
    "final.shape"
   ]
  },
  {
   "cell_type": "code",
   "execution_count": null,
   "metadata": {},
   "outputs": [],
   "source": [
    "final.head()"
   ]
  },
  {
   "cell_type": "code",
   "execution_count": null,
   "metadata": {},
   "outputs": [],
   "source": [
    "in_data_centers = '/home/public/Data/GLOBAL/INFRA/DATA_CENTERS/datacenters.csv'\n",
    "inD = pd.read_csv(in_data_centers)"
   ]
  },
  {
   "cell_type": "code",
   "execution_count": null,
   "metadata": {},
   "outputs": [],
   "source": [
    "inD = pd.read_csv(in_data_centers)\n",
    "def get_numbs(x):\n",
    "    try:\n",
    "        x = x.replace(\",\", \"\")\n",
    "        x = int(x)\n",
    "    except:\n",
    "        x = 0\n",
    "    return(x)\n",
    "\n",
    "inD['SQFT'] = inD['Colo sqft'].apply(lambda x: get_numbs(x))\n",
    "\n",
    "inD_geom = [Point(x) for x in zip(inD['Long'].astype(float), inD['Lat'].astype(float))]\n",
    "inD = gpd.GeoDataFrame(inD, geometry=inD_geom, crs={'init':'epsg:4326'})"
   ]
  },
  {
   "cell_type": "code",
   "execution_count": null,
   "metadata": {},
   "outputs": [],
   "source": [
    "inD.to_file(\"/home/wb411133/temp/Data_Centers.geojson\", driver=\"GeoJSON\")"
   ]
  },
  {
   "cell_type": "code",
   "execution_count": null,
   "metadata": {},
   "outputs": [],
   "source": [
    "\n"
   ]
  },
  {
   "cell_type": "code",
   "execution_count": null,
   "metadata": {},
   "outputs": [],
   "source": []
  },
  {
   "cell_type": "code",
   "execution_count": null,
   "metadata": {},
   "outputs": [],
   "source": [
    "inD['Colo sqft']"
   ]
  },
  {
   "cell_type": "code",
   "execution_count": null,
   "metadata": {},
   "outputs": [],
   "source": []
  }
 ],
 "metadata": {
  "kernelspec": {
   "display_name": "Python (geog)",
   "language": "python",
   "name": "geog"
  },
  "language_info": {
   "codemirror_mode": {
    "name": "ipython",
    "version": 3
   },
   "file_extension": ".py",
   "mimetype": "text/x-python",
   "name": "python",
   "nbconvert_exporter": "python",
   "pygments_lexer": "ipython3",
   "version": "3.7.1"
  }
 },
 "nbformat": 4,
 "nbformat_minor": 2
}
